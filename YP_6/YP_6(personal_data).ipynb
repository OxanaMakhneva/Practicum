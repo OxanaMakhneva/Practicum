{
  "cells": [
    {
      "cell_type": "markdown",
      "metadata": {
        "id": "PNcMR0BlBwCh"
      },
      "source": [
        "# Защита персональных данных клиентов"
      ]
    },
    {
      "cell_type": "code",
      "source": [
        "from google.colab import drive\n",
        "drive.mount('/content/drive')"
      ],
      "metadata": {
        "colab": {
          "base_uri": "https://localhost:8080/"
        },
        "id": "SrnZ5KGkCC-K",
        "outputId": "2c61e7ef-a924-4351-dbe0-d56f22af4cf7"
      },
      "execution_count": 6,
      "outputs": [
        {
          "output_type": "stream",
          "name": "stdout",
          "text": [
            "Drive already mounted at /content/drive; to attempt to forcibly remount, call drive.mount(\"/content/drive\", force_remount=True).\n"
          ]
        }
      ]
    },
    {
      "cell_type": "markdown",
      "metadata": {
        "id": "s0Sq3A7tBwCh"
      },
      "source": [
        "***Цель проекта:***\n",
        "Защитить данные клиентов страховой компании «Хоть потоп» с использованием такого метода преобразования данных, который затрудняет восстановление персональной информации. \n",
        "\n",
        "***Задачи проекта:***\n",
        "1. Доказать, что умножение матрицы признаков на обратимую матрицу не искажает предсказание модели линейной регрессии\n",
        "2. Разработать алгоритм преобразования матрицы признаков\n",
        "3. Обосновать выбор алгоритма\n",
        "4. Проверить корректность работы алгоритма"
      ]
    },
    {
      "cell_type": "markdown",
      "metadata": {
        "id": "KSkjnpx2BwCi"
      },
      "source": [
        "## Загрузка библиотек"
      ]
    },
    {
      "cell_type": "code",
      "execution_count": 7,
      "metadata": {
        "id": "xgzJm_bSBwCi"
      },
      "outputs": [],
      "source": [
        "import pandas as pd\n",
        "import numpy as np\n",
        "from sklearn.linear_model import LinearRegression\n",
        "from sklearn.metrics import r2_score\n",
        "from sklearn.model_selection import train_test_split\n",
        "import seaborn as sns\n",
        "import matplotlib.pyplot as plt"
      ]
    },
    {
      "cell_type": "markdown",
      "metadata": {
        "id": "vmDjBhHNBwCj"
      },
      "source": [
        "## Дополнительные функции"
      ]
    },
    {
      "cell_type": "code",
      "execution_count": 8,
      "metadata": {
        "id": "6nU1RHy8BwCk"
      },
      "outputs": [],
      "source": [
        "#Функция для генерации обратимой матрицы\n",
        "def create_matrix(size):\n",
        "    det = 0\n",
        "    while det == 0:\n",
        "        matrix = np.random.randint(100, size=(size, size))\n",
        "        det = np.linalg.det(matrix)\n",
        "    return matrix \n",
        "\n",
        "#Класс линейной регрессии\n",
        "class LinerAnalysis():\n",
        "    def fit(self, featires, target):\n",
        "        self.x = featires\n",
        "        self.y = target\n",
        "        self.w = np.dot(np.dot(np.linalg.inv(np.dot(self.x.T, self.x)), self.x.T), self.y)\n",
        "        \n",
        "    def predict(self, features):\n",
        "        return np.dot(features, self.w)"
      ]
    },
    {
      "cell_type": "markdown",
      "metadata": {
        "id": "OEsJ0Z9CBwCl"
      },
      "source": [
        "## Загрузка данных"
      ]
    },
    {
      "cell_type": "code",
      "execution_count": 9,
      "metadata": {
        "colab": {
          "base_uri": "https://localhost:8080/"
        },
        "id": "G_7ltVS6BwCl",
        "outputId": "a9be75cc-6425-4863-a016-97f30c41b3b8"
      },
      "outputs": [
        {
          "output_type": "stream",
          "name": "stdout",
          "text": [
            "<class 'pandas.core.frame.DataFrame'>\n",
            "RangeIndex: 5000 entries, 0 to 4999\n",
            "Data columns (total 5 columns):\n",
            " #   Column             Non-Null Count  Dtype  \n",
            "---  ------             --------------  -----  \n",
            " 0   Пол                5000 non-null   int64  \n",
            " 1   Возраст            5000 non-null   float64\n",
            " 2   Зарплата           5000 non-null   float64\n",
            " 3   Члены семьи        5000 non-null   int64  \n",
            " 4   Страховые выплаты  5000 non-null   int64  \n",
            "dtypes: float64(2), int64(3)\n",
            "memory usage: 195.4 KB\n"
          ]
        }
      ],
      "source": [
        "data = pd.read_csv(\"/content/drive/MyDrive/Colab Notebooks/insurance.csv\")\n",
        "data.info()"
      ]
    },
    {
      "cell_type": "markdown",
      "metadata": {
        "id": "WFWZZMCuBwCn"
      },
      "source": [
        "### Проверка на пропуски"
      ]
    },
    {
      "cell_type": "code",
      "execution_count": 10,
      "metadata": {
        "colab": {
          "base_uri": "https://localhost:8080/"
        },
        "id": "_CQpH6c9BwCn",
        "outputId": "4e2be2bd-d841-4221-ced1-ab336f9d6698"
      },
      "outputs": [
        {
          "output_type": "execute_result",
          "data": {
            "text/plain": [
              "Пол                  0\n",
              "Возраст              0\n",
              "Зарплата             0\n",
              "Члены семьи          0\n",
              "Страховые выплаты    0\n",
              "dtype: int64"
            ]
          },
          "metadata": {},
          "execution_count": 10
        }
      ],
      "source": [
        "data.isna().sum()"
      ]
    },
    {
      "cell_type": "markdown",
      "metadata": {
        "id": "N_YDiBTLBwCn"
      },
      "source": [
        "### Проверка на дубликаты"
      ]
    },
    {
      "cell_type": "code",
      "execution_count": 11,
      "metadata": {
        "colab": {
          "base_uri": "https://localhost:8080/"
        },
        "id": "BErtF6RVBwCo",
        "outputId": "2b1799ca-0f58-451a-a8d1-a58a167d3b87"
      },
      "outputs": [
        {
          "output_type": "execute_result",
          "data": {
            "text/plain": [
              "5000"
            ]
          },
          "metadata": {},
          "execution_count": 11
        }
      ],
      "source": [
        "data.duplicated().sum()\n",
        "data.index.nunique()\n"
      ]
    },
    {
      "cell_type": "markdown",
      "metadata": {
        "id": "6qZ1mWCrBwCo"
      },
      "source": [
        "В датасете 153 повторяющиеся записи, что допустимо. В датасете отсутсвуют персональные идентификаторы клиентов, а имеющиеся столбцы вполне могут совпасть у разных клиентов."
      ]
    },
    {
      "cell_type": "markdown",
      "metadata": {
        "id": "0rxy5oZJBwCo"
      },
      "source": [
        "### Проверка на мультиколлинеарность"
      ]
    },
    {
      "cell_type": "code",
      "execution_count": 12,
      "metadata": {
        "colab": {
          "base_uri": "https://localhost:8080/",
          "height": 630
        },
        "id": "8GN2yQStBwCp",
        "outputId": "32055760-4629-4087-9c22-412d545b0331"
      },
      "outputs": [
        {
          "output_type": "display_data",
          "data": {
            "text/plain": [
              "<Figure size 500x500 with 2 Axes>"
            ],
            "image/png": "[encoded data removed]"
          },
          "metadata": {}
        }
      ],
      "source": [
        "#Список числовых столбцов\n",
        "numeric_columns = ['Возраст', 'Зарплата', 'Члены семьи', 'Страховые выплаты']\n",
        "\n",
        "fig, axes = plt.subplots(nrows = 1, ncols = 1, sharey = False, figsize = (5, 5))\n",
        "# Заголовок фигуры\n",
        "fig.suptitle\\\n",
        "('Тепловая карта кореляционных зависимостей', \\\n",
        " fontsize=14, fontweight='bold');\n",
        "\n",
        "upp_mat = np.triu(data[numeric_columns].corr())\n",
        "sns.set(rc = {'figure.figsize':(5,5)})\n",
        "sns.heatmap(data[numeric_columns].corr(),\\\n",
        "            vmin = -1, vmax = +1, annot = False, cmap = 'coolwarm', mask = upp_mat);"
      ]
    },
    {
      "cell_type": "markdown",
      "metadata": {
        "id": "Wr6lJnMNBwCq"
      },
      "source": [
        "Судя по тепловой карте мультиколлинеарность в ДФ отсутсвует, а доминирующим признаком для определения результата предсказания может стать возраст. То есть теоретически можно было бы предсказать велчину страховых выплат следующим образом:\n",
        "- стратифицировать все записи по возрасту\n",
        "- предсказать страховую выплату как медиану по соответсвующей группе из тренирововчной выборки.\n",
        "\n",
        "Эту \"модель\" можно было-бы использовать для проверки качества модели линейной регрессии. Так как у нас задача подбора не заявлена, в этом проекте мы этого делать не будем."
      ]
    },
    {
      "cell_type": "markdown",
      "metadata": {
        "id": "DA6tJ-XrBwCs"
      },
      "source": [
        "## Умножение матрицы признаков на обратимую матрицу"
      ]
    },
    {
      "cell_type": "markdown",
      "metadata": {
        "id": "PJ0_sgJJBwCs"
      },
      "source": [
        "Задача:\n",
        "Проверить, как меняются величина предсказания $\\hat {\\vec y}$ и вектор весовых коэффициентов $\\vec w$ при умножении $X$ на обратимую матрицу $Z$. "
      ]
    },
    {
      "cell_type": "markdown",
      "metadata": {
        "id": "OMATCrI3BwCs"
      },
      "source": [
        "### Основные формулы Линейной регрессии"
      ]
    },
    {
      "cell_type": "markdown",
      "metadata": {
        "id": "o7HIYJVFBwCt"
      },
      "source": [
        "Уравнение линейной регресии (1):\n",
        "$$ \\hat {\\vec y}  = X \\cdot \\vec w $$\n",
        "\n",
        "Решение уравнения линейной регрессии в матричном виде (2):\n",
        "$$X \\cdot X^T \\cdot \\vec w = X^T \\cdot \\vec y$$\n",
        "\n",
        "Решение уравнения для весовых коэффициентов (3):\n",
        "$$\\vec w = (X^T \\cdot X \\cdot)^{-1} \\cdot X^T \\cdot \\vec y$$\n",
        "\n",
        "Величина ошибки, определяющая качество модели (4):\n",
        "$$ MSE = (\\vec y - X \\cdot \\vec w)^T (\\vec y - X \\cdot \\vec w)$$\n",
        "\n",
        "Уравнение линейной регресии после изменения вектора признаков (5):\n",
        "$$  \\hat {\\vec y_{new}}  = X \\cdot Z \\cdot \\vec v $$\n",
        ", где:\n",
        "\n",
        "- $\\hat {\\vec y}$ - предсказание целевого признака (вектор - предикт);\n",
        "- $\\vec y$ - целевой признак (известный таргет);\n",
        "- $X$ - матрица независимых признаков (до модификации);\n",
        "- $\\vec w$ - весовые коэффициенты модели линейной регрессии (пересчитываются при каждом обучении модели);\n",
        "- $Z$ - обратимая матрица;\n",
        "- $\\hat {\\vec y_{new}}$ - предсказание целевого признака после изменения матрицы признаков;\n",
        "- $\\vec v$ - весовые коэффициенты модели линейной регрессии после изменения матрицы признаков;"
      ]
    },
    {
      "cell_type": "markdown",
      "metadata": {
        "id": "mw60ogE4BwCt"
      },
      "source": [
        "### Рассчеты для параметров модели при умножении признаков на обратимую матрицу"
      ]
    },
    {
      "cell_type": "markdown",
      "metadata": {
        "id": "rbIclf84BwCt"
      },
      "source": [
        "1. Умножим $X$ на обратимую матрицу $Z$, получим $X \\cdot Z$\n",
        "2. Учитывая неизменность $\\vec y$, получаем, уравнение для весовых коэффициентов:\n",
        "$$\\vec v = ((X \\cdot Z)^T \\cdot (X \\cdot Z) \\cdot)^{-1} \\cdot (X \\cdot Z)^T \\cdot \\vec y$$\n",
        "3. Проведем над ним ряд перобразований, чтобы найти $\\vec v$:\n",
        "\n",
        "    3.1 Раскроем скобки по правилу $(AB)^{T} = B^{T} \\cdot A^{T} $:\n",
        "$$\\vec v = ((X \\cdot Z)^T \\cdot (X \\cdot Z) \\cdot)^{-1} \\cdot Z^T \\cdot X^T \\cdot \\vec y$$\n",
        "$$\\vec v = (Z^T \\cdot X^T \\cdot X \\cdot Z \\cdot)^{-1} \\cdot Z^T \\cdot X^T \\cdot \\vec y$$\n",
        "    3.2 Воспользуемся свойством ассоциативности матричного произведения $((AB)С) = A(BC)$:\n",
        "$$\\vec v = (Z^T \\cdot (X^T \\cdot X \\cdot Z \\cdot))^{-1} \\cdot Z^T \\cdot X^T \\cdot \\vec y$$\n",
        "$$\\vec v = ((X^T \\cdot X \\cdot Z \\cdot))^{-1} \\cdot (Z^T)^{-1} \\cdot Z^T \\cdot X^T \\cdot \\vec y$$\n",
        "$$\\vec v = ((X^T \\cdot X \\cdot Z \\cdot))^{-1} \\cdot (E^T) \\cdot X^T \\cdot \\vec y$$\n",
        "$$\\vec v = ((X^T \\cdot X \\cdot Z \\cdot))^{-1} \\cdot X^T \\cdot \\vec y$$\n",
        "$$\\vec v = Z^{-1} \\cdot (X^T \\cdot X )^{-1} \\cdot X^T \\cdot \\vec y$$\n",
        "    3.3 Учитывая формулу (3), заменим $(X^T \\cdot X )^{-1} \\cdot X^T \\cdot \\vec y$ на $\\vec w$\n",
        "$$\\vec v = Z^{-1} \\cdot \\vec w$$\n",
        "\n",
        "4. С учетом полученных результатов и формулы (1), рассчитаем новое предсказание:\n",
        "$$ \\hat {\\vec y_{new}}  = X \\cdot Z \\cdot \\vec v $$\n",
        "$$ \\hat {\\vec y_{new}}  = X \\cdot Z \\cdot Z^{-1} \\cdot \\vec w $$\n",
        "$$ \\hat {\\vec y_{new}}  = X \\cdot \\vec w $$\n",
        "5. Таким образом новое предсказание совпало со старым:\n",
        "$$ \\hat {\\vec y_{new}}  = \\hat {\\vec y} $$\n",
        "\n",
        "Докажем, что при умножении $X$ на обратимую матрицу $Z$, величина метрики качества $MSE$ не изменится. \n",
        "$$ MSE_{new} = (\\vec y_{new} - X \\cdot Z \\cdot \\vec v)^T \\cdot (\\vec y_{new} - X \\cdot Z \\cdot \\vec v)$$\n",
        "1. С учетом ранее полученных равенств:\n",
        "$$ MSE_{new} = (\\vec y - X \\cdot Z \\cdot Z^{-1} \\cdot \\vec w)^T (\\vec y - X \\cdot Z \\cdot Z^{-1} \\cdot \\vec w)$$\n",
        "$$ MSE_{new} = (\\vec y - X \\cdot \\vec w)^T (\\vec y - X \\cdot \\vec w)$$\n",
        "\n",
        "2. Таким образом новая ошибка совпала со старой:\n",
        "$$ MSE_{new} = MSE$$"
      ]
    },
    {
      "cell_type": "markdown",
      "metadata": {
        "id": "iG0UlsBNBwCu"
      },
      "source": [
        "### Ответ\n",
        "\n",
        "Таким образом, при умножении матрицы признаков на обратимую матрицу $Z$ возможно сохранение неизменной метрики качества и предсказаний модели линейной регресии, если при переобучении вектор весовых коэффициентов будет принят равным  $\\vec v = Z ^{-1}\\cdot \\vec w $ "
      ]
    },
    {
      "cell_type": "markdown",
      "metadata": {
        "id": "qsJ4cI0VBwDR"
      },
      "source": [
        "## Алгоритм преобразования"
      ]
    },
    {
      "cell_type": "markdown",
      "metadata": {
        "id": "Q5pCFDsYBwDS"
      },
      "source": [
        "### Обоснование выбора алгоритма"
      ]
    },
    {
      "cell_type": "markdown",
      "metadata": {
        "id": "CsSAooNnBwDS"
      },
      "source": [
        "Для решения задачи обратимой модификации данных, содержащихся в матрице признаков, применим метод умножения на обратимую матрица. Этот метод является приемлимым, потому что он:\n",
        "- не искажает результаты предсказаний модели линейной регрессии (доказательства в разделе 3)\n",
        "- легко реализуется\n",
        "- обратим (в любой момент можно умножить матрицу на обратную к использованной обратимой)\n",
        "- позваляет модифицировать признаки так, что их восстановление потребует от злоумышленника временных затрат.\n",
        "\n",
        "Следует отметить, что для реальных персональных данных при их передаче по незащищенным каналам данных использование данного метода весьма спорно. В реальных задачах стоит обратить внимание на ГОСТ-кие методы шифрования.  "
      ]
    },
    {
      "cell_type": "markdown",
      "metadata": {
        "id": "sWwW4P03BwDT"
      },
      "source": [
        "### Описание алгоритма"
      ]
    },
    {
      "cell_type": "markdown",
      "metadata": {
        "id": "p8Gay8STBwDT"
      },
      "source": [
        "1. Определяем необходимый размер обратимой матрицы (число строки и столбцов должно быть равно числу столбцов матрицы признаков)\n",
        "2. Генерируем матрицу определенного размера, заполняя ее элементы случайными числами в диапазоне от 1 до 100 (чтобы сильно не повышать сложность вычислений)\n",
        "3. Вычисляем определитель матрицы и проверяем, что он не равен 0. Если определитель равен нулю, генерируем другую матрицу.\n",
        "4. Используем сгенерированную матрицу для преобразования матриц признаков во всех выборках (тренировочной, валидационной, тестовой)."
      ]
    },
    {
      "cell_type": "markdown",
      "metadata": {
        "id": "VmfRjbAqBwDU"
      },
      "source": [
        "## Проверка алгоритма"
      ]
    },
    {
      "cell_type": "markdown",
      "metadata": {
        "id": "XNmcvWotBwDU"
      },
      "source": [
        "### Подготовка данных для обучения модели"
      ]
    },
    {
      "cell_type": "code",
      "execution_count": 13,
      "metadata": {
        "id": "G9ODPxPABwDV"
      },
      "outputs": [],
      "source": [
        "#Выделяем матрицу признаков и целевой вектор\n",
        "features = data.drop('Страховые выплаты', axis = 1)\n",
        "target = data['Страховые выплаты']\n",
        "\n",
        "#Расчитываем модифицированную матрицу признаков\n",
        "matrix = create_matrix(features.shape[1])\n",
        "change_features = np.dot(features, matrix)\n",
        "\n",
        "#Делим выборки на тестовую и тренировочну\n",
        "train_f, test_f, train_t, test_t = \\\n",
        "train_test_split(features, target, test_size=0.25, random_state = 12345)\n",
        "\n",
        "ch_train_f, ch_test_f, train_t, test_t = \\\n",
        "train_test_split(change_features, target, test_size=0.25, random_state = 12345)"
      ]
    },
    {
      "cell_type": "markdown",
      "metadata": {
        "id": "ORcmdpC0BwDV"
      },
      "source": [
        "### Проверка модели линейной регрессии из библиотеки sklearn"
      ]
    },
    {
      "cell_type": "code",
      "execution_count": 14,
      "metadata": {
        "colab": {
          "base_uri": "https://localhost:8080/"
        },
        "id": "y7bNJ2tGBwDW",
        "outputId": "095675e2-2d16-4f8b-fda0-129734420396"
      },
      "outputs": [
        {
          "output_type": "stream",
          "name": "stdout",
          "text": [
            "Величина r2 для линейной регрессии до модификаци матрицы признаков: 0.435227571270266\n",
            "Величина r2 для линейной регрессии после модификаци матрицы признаков: 0.43522757127023093\n"
          ]
        }
      ],
      "source": [
        "#До модификации матрицы признаков\n",
        "model = LinearRegression()\n",
        "model.fit(train_f, train_t)\n",
        "predict = model.predict(test_f)\n",
        "r2 = r2_score(test_t, predict)\n",
        "print(f'Величина r2 для линейной регрессии до модификаци матрицы признаков: {r2}')\n",
        "\n",
        "#После модификации матрицы признаков\n",
        "model.fit(ch_train_f, train_t)\n",
        "predict = model.predict(ch_test_f)\n",
        "r2 = r2_score(test_t, predict)\n",
        "print(f'Величина r2 для линейной регрессии после модификаци матрицы признаков: {r2}')"
      ]
    },
    {
      "cell_type": "markdown",
      "metadata": {
        "id": "HuQKP9RPBwDW"
      },
      "source": [
        "### Проверка модели линейной регрессии  (аналитическое решение)"
      ]
    },
    {
      "cell_type": "code",
      "execution_count": 15,
      "metadata": {
        "colab": {
          "base_uri": "https://localhost:8080/"
        },
        "id": "rTTQoqb8BwDX",
        "outputId": "644c424b-b2d1-41cc-a474-271c88530c9e"
      },
      "outputs": [
        {
          "output_type": "stream",
          "name": "stdout",
          "text": [
            "Величина r2 для линейной регрессии до модификаци матрицы признаков: 0.3046402823898615\n",
            "Величина r2 для линейной регрессии после модификаци матрицы признаков: 0.3046402859549492\n"
          ]
        }
      ],
      "source": [
        "#До модификации матрицы признаков\n",
        "my_model = LinerAnalysis()\n",
        "my_model.fit(train_f, train_t)\n",
        "predict = my_model.predict(test_f)\n",
        "r2 = r2_score(test_t, predict)\n",
        "print(f'Величина r2 для линейной регрессии до модификаци матрицы признаков: {r2}')\n",
        "\n",
        "#После модификации матрицы признаков\n",
        "my_model = LinerAnalysis()\n",
        "my_model.fit(ch_train_f, train_t)\n",
        "predict = my_model.predict(ch_test_f)\n",
        "r2 = r2_score(test_t, predict)\n",
        "print(f'Величина r2 для линейной регрессии после модификаци матрицы признаков: {r2}')"
      ]
    },
    {
      "cell_type": "markdown",
      "metadata": {
        "id": "cMpE7B2LBwDX"
      },
      "source": [
        "### Вывод по разделу 6\n",
        "Умножение матрицы признаков на обратимую матрицу не искажает результаты предсказания и не изменяет величину метрики качества R2"
      ]
    },
    {
      "cell_type": "markdown",
      "metadata": {
        "id": "CuKrQt0ZBwDY"
      },
      "source": [
        "## ВЫВОДЫ\n",
        "\n",
        "Цель проекта была реализация алгоритма защиты данных клиентов страховой компании «Хоть потоп» с использованием метода преобразования данных, который затрудняет восстановление персональной информации, но не вносит искажения в предсказания модели линейной регресии.\n",
        "\n",
        "В процессе проекта проведена:\n",
        "1. Загрузка и предварительная обработка данных:\n",
        " - проверка на пропуски (отсутсвуют);\n",
        " - проверка на дубликаты (присутсвуют, но не признаны ошибочными);\n",
        " - проверка на мультиколлинеарность (выявлена сильная положительная связь между возрастом клиентов и страховыми выплатами, предложено использовать это наблюдение в качестве бенчмарк приподборе моделей)\n",
        "\n",
        "2. Подготовлен комплект модулей:\n",
        " - функция для генерации обратимой матрицы\n",
        " - класс для модели линейной регрессии, выполняющей регуляризацию аналитическим методом с использованием матричных операций\n",
        "\n",
        "3. С применением теоретическихвыкладок, доказано, что умножение матрицы признаков наобратимую матрицу не влияет на результаты предсказания модели линейной регресии.\n",
        "\n",
        "4. Подготовлен и обоснован алгоритм модификации (кодирования) персональных данных клиентов.\n",
        "\n",
        "5. Подготовлены данные для машинного обучения:\n",
        " - выделен целевой признак (Страховые выплаты)\n",
        " - матрица признаков (остальные столбцы)\n",
        " - расчитана модифицированная матрица признаков (путем умножения основной на обратимую матрицу)\n",
        " - выборки разделены на тренировочную и тестовую\n",
        "\n",
        "6. Созданы и обучены 4 модели линейной регрессии:\n",
        " - sklearn.linear_model.LinearRegression до модификации матрицы признаков\n",
        " - sklearn.linear_model.LinearRegression после модификации матрицы признаков\n",
        " - самописная модель до модификации матрицы признаков\n",
        " - самописная после модификации матрицы признаков\n",
        "\n",
        "7. Проанализированы метрики качества обученных моделей. Выявлено, что модификация матрицы признаков не влияет на величину метрики качества ни той ни другой модели.\n",
        " \n",
        "***Хотелось бы добавить, что представленные в ДФ данные (в том объеме, в котором они представлены) в соответсвии с ФЗ 152 не могут быть отнесены к персональным данным, так как они не идентифицируют субьекта персональных данных. Что очевидно и легко доказуемо даже тем, что в ДФ есть 153 повторяющиеся записи про разных клиентов. Поэтому корректнее было бы использовать иной термин. Например \"чувствительные\" данные, или данные заказчика, не подлежащие разглашению.***   "
      ]
    }
  ],
  "metadata": {
    "ExecuteTimeLog": [
      {
        "duration": 373,
        "start_time": "2022-12-28T13:17:11.385Z"
      },
      {
        "duration": 99,
        "start_time": "2022-12-28T13:17:14.253Z"
      },
      {
        "duration": 14,
        "start_time": "2022-12-28T13:17:26.282Z"
      },
      {
        "duration": 4,
        "start_time": "2022-12-28T13:17:45.550Z"
      },
      {
        "duration": 6,
        "start_time": "2022-12-28T13:21:45.119Z"
      },
      {
        "duration": 4,
        "start_time": "2022-12-28T13:22:09.921Z"
      },
      {
        "duration": 71,
        "start_time": "2022-12-28T16:21:26.103Z"
      },
      {
        "duration": 3,
        "start_time": "2022-12-28T16:21:31.221Z"
      },
      {
        "duration": 12,
        "start_time": "2022-12-28T16:21:34.182Z"
      },
      {
        "duration": 3,
        "start_time": "2022-12-28T16:21:44.101Z"
      },
      {
        "duration": 3,
        "start_time": "2022-12-28T16:22:56.618Z"
      },
      {
        "duration": 3,
        "start_time": "2022-12-28T16:23:50.015Z"
      },
      {
        "duration": 10,
        "start_time": "2022-12-28T16:24:25.101Z"
      },
      {
        "duration": 8,
        "start_time": "2022-12-28T16:24:28.736Z"
      },
      {
        "duration": 5,
        "start_time": "2022-12-28T16:24:37.066Z"
      },
      {
        "duration": 4,
        "start_time": "2022-12-28T16:24:46.518Z"
      },
      {
        "duration": 3,
        "start_time": "2022-12-28T16:24:49.497Z"
      },
      {
        "duration": 6,
        "start_time": "2022-12-28T16:30:02.780Z"
      },
      {
        "duration": 96,
        "start_time": "2022-12-28T16:30:10.166Z"
      },
      {
        "duration": 5,
        "start_time": "2022-12-28T16:32:04.739Z"
      },
      {
        "duration": 79,
        "start_time": "2022-12-28T16:32:16.841Z"
      },
      {
        "duration": 101,
        "start_time": "2022-12-28T16:32:23.632Z"
      },
      {
        "duration": 86,
        "start_time": "2022-12-28T16:32:55.645Z"
      },
      {
        "duration": 4,
        "start_time": "2022-12-28T16:37:12.414Z"
      },
      {
        "duration": 81,
        "start_time": "2022-12-28T16:37:16.008Z"
      },
      {
        "duration": 7,
        "start_time": "2022-12-28T16:38:47.488Z"
      },
      {
        "duration": 14,
        "start_time": "2022-12-28T16:38:56.532Z"
      },
      {
        "duration": 8,
        "start_time": "2022-12-28T16:40:57.927Z"
      },
      {
        "duration": 4,
        "start_time": "2022-12-28T16:41:07.906Z"
      },
      {
        "duration": 5,
        "start_time": "2022-12-28T16:41:24.634Z"
      },
      {
        "duration": 4,
        "start_time": "2022-12-28T16:41:26.751Z"
      },
      {
        "duration": 4,
        "start_time": "2022-12-28T16:41:40.193Z"
      },
      {
        "duration": 4,
        "start_time": "2022-12-28T16:41:44.978Z"
      },
      {
        "duration": 4,
        "start_time": "2022-12-28T16:41:58.717Z"
      },
      {
        "duration": 6,
        "start_time": "2022-12-28T16:42:01.038Z"
      },
      {
        "duration": 4,
        "start_time": "2022-12-28T16:42:14.621Z"
      },
      {
        "duration": 4,
        "start_time": "2022-12-28T16:42:17.363Z"
      },
      {
        "duration": 3,
        "start_time": "2022-12-28T16:42:27.480Z"
      },
      {
        "duration": 4,
        "start_time": "2022-12-28T16:42:29.466Z"
      },
      {
        "duration": 5,
        "start_time": "2022-12-28T16:57:11.331Z"
      },
      {
        "duration": 4,
        "start_time": "2022-12-28T16:57:14.103Z"
      },
      {
        "duration": 4,
        "start_time": "2022-12-28T16:57:21.401Z"
      },
      {
        "duration": 3,
        "start_time": "2022-12-28T18:14:04.014Z"
      },
      {
        "duration": 3,
        "start_time": "2022-12-28T18:15:02.392Z"
      },
      {
        "duration": 4,
        "start_time": "2022-12-28T18:15:12.393Z"
      },
      {
        "duration": 3,
        "start_time": "2022-12-28T18:15:22.310Z"
      },
      {
        "duration": 3,
        "start_time": "2022-12-28T18:15:28.509Z"
      },
      {
        "duration": 9,
        "start_time": "2022-12-29T09:27:51.834Z"
      },
      {
        "duration": 76,
        "start_time": "2022-12-29T09:28:12.464Z"
      },
      {
        "duration": 399,
        "start_time": "2022-12-29T09:28:20.659Z"
      },
      {
        "duration": 3,
        "start_time": "2022-12-29T09:28:32.551Z"
      },
      {
        "duration": 4,
        "start_time": "2022-12-29T09:28:43.447Z"
      },
      {
        "duration": 4,
        "start_time": "2022-12-29T09:30:42.407Z"
      },
      {
        "duration": 33,
        "start_time": "2022-12-29T09:30:44.698Z"
      },
      {
        "duration": 8,
        "start_time": "2022-12-29T09:30:55.283Z"
      },
      {
        "duration": 4,
        "start_time": "2022-12-29T09:30:57.435Z"
      },
      {
        "duration": 4,
        "start_time": "2022-12-29T11:11:32.352Z"
      },
      {
        "duration": 7,
        "start_time": "2022-12-29T11:28:23.301Z"
      },
      {
        "duration": 744,
        "start_time": "2022-12-29T11:28:31.164Z"
      },
      {
        "duration": 3,
        "start_time": "2022-12-29T11:28:40.608Z"
      },
      {
        "duration": 52,
        "start_time": "2022-12-29T11:32:28.065Z"
      },
      {
        "duration": 91,
        "start_time": "2022-12-29T11:32:31.833Z"
      },
      {
        "duration": 4,
        "start_time": "2022-12-29T11:32:33.533Z"
      },
      {
        "duration": 4,
        "start_time": "2022-12-29T11:35:15.367Z"
      },
      {
        "duration": 15,
        "start_time": "2022-12-29T11:50:51.038Z"
      },
      {
        "duration": 8,
        "start_time": "2022-12-29T11:51:21.291Z"
      },
      {
        "duration": 15,
        "start_time": "2022-12-29T11:55:42.975Z"
      },
      {
        "duration": 3,
        "start_time": "2022-12-29T11:55:50.200Z"
      },
      {
        "duration": 9,
        "start_time": "2022-12-29T11:55:56.453Z"
      },
      {
        "duration": 10,
        "start_time": "2022-12-29T11:56:05.865Z"
      },
      {
        "duration": 5584,
        "start_time": "2022-12-29T11:58:24.734Z"
      },
      {
        "duration": 13,
        "start_time": "2022-12-29T11:59:58.757Z"
      },
      {
        "duration": 20,
        "start_time": "2022-12-29T12:01:23.361Z"
      },
      {
        "duration": 86,
        "start_time": "2022-12-29T12:02:03.994Z"
      },
      {
        "duration": 9,
        "start_time": "2022-12-29T12:13:54.185Z"
      },
      {
        "duration": 3,
        "start_time": "2022-12-29T12:14:02.039Z"
      },
      {
        "duration": 5,
        "start_time": "2022-12-29T12:14:09.480Z"
      },
      {
        "duration": 8,
        "start_time": "2022-12-29T12:14:34.972Z"
      },
      {
        "duration": 10,
        "start_time": "2022-12-29T12:14:41.761Z"
      },
      {
        "duration": 6,
        "start_time": "2022-12-29T12:14:54.500Z"
      },
      {
        "duration": 6,
        "start_time": "2022-12-29T12:14:56.239Z"
      },
      {
        "duration": 5,
        "start_time": "2022-12-29T12:15:27.026Z"
      },
      {
        "duration": 3,
        "start_time": "2022-12-29T12:15:29.749Z"
      },
      {
        "duration": 24,
        "start_time": "2022-12-29T12:16:37.792Z"
      },
      {
        "duration": 19,
        "start_time": "2022-12-29T12:17:52.254Z"
      },
      {
        "duration": 20,
        "start_time": "2022-12-29T12:19:33.849Z"
      },
      {
        "duration": 8,
        "start_time": "2022-12-29T12:32:56.648Z"
      },
      {
        "duration": 15,
        "start_time": "2022-12-29T12:34:39.099Z"
      },
      {
        "duration": 8,
        "start_time": "2022-12-29T12:35:00.628Z"
      },
      {
        "duration": 12,
        "start_time": "2022-12-29T12:35:03.071Z"
      },
      {
        "duration": 9,
        "start_time": "2022-12-29T12:39:32.175Z"
      },
      {
        "duration": 12,
        "start_time": "2022-12-29T12:39:35.008Z"
      },
      {
        "duration": 7,
        "start_time": "2022-12-29T12:45:07.714Z"
      },
      {
        "duration": 9,
        "start_time": "2022-12-29T12:47:32.604Z"
      },
      {
        "duration": 6,
        "start_time": "2022-12-29T12:47:40.415Z"
      },
      {
        "duration": 8,
        "start_time": "2022-12-29T12:47:49.716Z"
      },
      {
        "duration": 6,
        "start_time": "2022-12-29T12:48:09.081Z"
      },
      {
        "duration": 14,
        "start_time": "2022-12-29T13:24:15.856Z"
      },
      {
        "duration": 7,
        "start_time": "2022-12-29T13:24:21.608Z"
      },
      {
        "duration": 8,
        "start_time": "2022-12-29T13:24:23.788Z"
      },
      {
        "duration": 81,
        "start_time": "2022-12-29T13:24:26.013Z"
      },
      {
        "duration": 7,
        "start_time": "2022-12-29T13:24:27.925Z"
      },
      {
        "duration": 12,
        "start_time": "2022-12-29T13:24:30.060Z"
      },
      {
        "duration": 40,
        "start_time": "2022-12-29T13:25:04.119Z"
      },
      {
        "duration": 6,
        "start_time": "2022-12-29T13:26:15.049Z"
      },
      {
        "duration": 8,
        "start_time": "2022-12-29T13:27:06.899Z"
      },
      {
        "duration": 540,
        "start_time": "2022-12-29T13:34:52.549Z"
      },
      {
        "duration": 507,
        "start_time": "2022-12-29T13:35:07.545Z"
      },
      {
        "duration": 429,
        "start_time": "2022-12-29T13:35:22.482Z"
      },
      {
        "duration": 371,
        "start_time": "2022-12-29T13:36:24.067Z"
      },
      {
        "duration": 14,
        "start_time": "2022-12-29T13:51:54.676Z"
      },
      {
        "duration": 12,
        "start_time": "2022-12-29T13:52:16.683Z"
      },
      {
        "duration": 12,
        "start_time": "2022-12-29T13:52:36.738Z"
      },
      {
        "duration": 1562,
        "start_time": "2022-12-29T14:13:05.822Z"
      },
      {
        "duration": 10,
        "start_time": "2022-12-29T14:13:07.387Z"
      },
      {
        "duration": 46,
        "start_time": "2022-12-29T14:13:07.399Z"
      },
      {
        "duration": 8,
        "start_time": "2022-12-29T14:13:07.447Z"
      },
      {
        "duration": 7,
        "start_time": "2022-12-29T14:13:07.457Z"
      },
      {
        "duration": 405,
        "start_time": "2022-12-29T14:13:07.465Z"
      },
      {
        "duration": 12,
        "start_time": "2022-12-29T14:13:07.878Z"
      },
      {
        "duration": 21,
        "start_time": "2022-12-29T14:13:07.896Z"
      },
      {
        "duration": 11,
        "start_time": "2022-12-29T14:13:07.919Z"
      },
      {
        "duration": 2490,
        "start_time": "2022-12-29T14:43:45.963Z"
      },
      {
        "duration": 4,
        "start_time": "2022-12-29T14:43:48.455Z"
      },
      {
        "duration": 131,
        "start_time": "2022-12-29T14:43:48.741Z"
      },
      {
        "duration": 10,
        "start_time": "2022-12-29T14:44:24.431Z"
      },
      {
        "duration": 7,
        "start_time": "2022-12-29T14:44:25.336Z"
      },
      {
        "duration": 385,
        "start_time": "2022-12-29T14:44:33.989Z"
      },
      {
        "duration": 10,
        "start_time": "2022-12-29T14:51:24.676Z"
      },
      {
        "duration": 146,
        "start_time": "2022-12-29T17:00:49.757Z"
      },
      {
        "duration": 91,
        "start_time": "2022-12-29T17:01:26.228Z"
      },
      {
        "duration": 68,
        "start_time": "2022-12-29T17:01:29.815Z"
      },
      {
        "duration": 379,
        "start_time": "2022-12-29T17:08:06.002Z"
      },
      {
        "duration": 378,
        "start_time": "2022-12-29T17:08:13.563Z"
      },
      {
        "duration": 1514,
        "start_time": "2022-12-29T17:08:32.942Z"
      },
      {
        "duration": 5,
        "start_time": "2022-12-29T17:08:34.459Z"
      },
      {
        "duration": 94,
        "start_time": "2022-12-29T17:08:34.465Z"
      },
      {
        "duration": 8,
        "start_time": "2022-12-29T17:08:34.562Z"
      },
      {
        "duration": 10,
        "start_time": "2022-12-29T17:08:34.572Z"
      },
      {
        "duration": 356,
        "start_time": "2022-12-29T17:08:34.584Z"
      },
      {
        "duration": 9,
        "start_time": "2022-12-29T17:08:34.942Z"
      },
      {
        "duration": 27,
        "start_time": "2022-12-29T17:08:34.953Z"
      },
      {
        "duration": 9,
        "start_time": "2022-12-29T17:08:34.982Z"
      },
      {
        "duration": 358,
        "start_time": "2022-12-29T17:15:02.308Z"
      },
      {
        "duration": 370,
        "start_time": "2022-12-29T17:15:29.666Z"
      },
      {
        "duration": 362,
        "start_time": "2022-12-29T17:15:49.000Z"
      },
      {
        "duration": 63,
        "start_time": "2022-12-29T17:16:22.219Z"
      },
      {
        "duration": 486,
        "start_time": "2022-12-29T17:16:35.667Z"
      },
      {
        "duration": 1399,
        "start_time": "2022-12-29T17:19:34.239Z"
      },
      {
        "duration": 6,
        "start_time": "2022-12-29T17:19:35.640Z"
      },
      {
        "duration": 50,
        "start_time": "2022-12-29T17:19:35.647Z"
      },
      {
        "duration": 7,
        "start_time": "2022-12-29T17:19:35.699Z"
      },
      {
        "duration": 20,
        "start_time": "2022-12-29T17:19:35.708Z"
      },
      {
        "duration": 389,
        "start_time": "2022-12-29T17:19:35.730Z"
      },
      {
        "duration": 11,
        "start_time": "2022-12-29T17:19:36.122Z"
      },
      {
        "duration": 28,
        "start_time": "2022-12-29T17:19:36.135Z"
      },
      {
        "duration": 32,
        "start_time": "2022-12-29T17:19:36.165Z"
      }
    ],
    "kernelspec": {
      "display_name": "Python 3 (ipykernel)",
      "language": "python",
      "name": "python3"
    },
    "language_info": {
      "codemirror_mode": {
        "name": "ipython",
        "version": 3
      },
      "file_extension": ".py",
      "mimetype": "text/x-python",
      "name": "python",
      "nbconvert_exporter": "python",
      "pygments_lexer": "ipython3",
      "version": "3.9.5"
    },
    "toc": {
      "base_numbering": 1,
      "nav_menu": {},
      "number_sections": true,
      "sideBar": true,
      "skip_h1_title": true,
      "title_cell": "Содержание",
      "title_sidebar": "Contents",
      "toc_cell": true,
      "toc_position": {
        "height": "calc(100% - 180px)",
        "left": "10px",
        "top": "150px",
        "width": "165px"
      },
      "toc_section_display": true,
      "toc_window_display": true
    },
    "colab": {
      "provenance": []
    }
  },
  "nbformat": 4,
  "nbformat_minor": 0
}