{
  "cells": [
    {
      "cell_type": "markdown",
      "metadata": {
        "id": "27bzB6RcVR3B"
      },
      "source": [
        "# Исследовательский проект. Выбор локации для скважины"
      ]
    },
    {
      "cell_type": "markdown",
      "metadata": {
        "id": "uazRrZisVR3B"
      },
      "source": [
        "### Цель проекта: по результатам оценки исходных данных о характеристиках трех регионов выбрать один регион, при разработке которого вероятнее всего будет получена наибольшая средняя прибыль.\n",
        "\n",
        "### Заданный алгоритм оценки:\n",
        "В каждом регионе исследуется по 500 скважин методом Bootstrep. Внутри каждой группы (пятисотки): \n",
        "1. Из 500 скважин при помощи МЛ (методом линейной регрессии) выбирается 200 лучших для разработки \n",
        "2. Для каждой из отобранных скважин рассчитывается доход (450 000 * кол-во баррелей в скважине)\n",
        "3. Рассчитывается суммарный доход (200*поскважинный доход)\n",
        "4. Расчитывается операционная прибыль(суммарный доход - бюджет на разработку)\n",
        "5. Оценивается полученное расспределение оценки предполагаемой операционной прибыли.Оценивается вероятность отрицательной операционной прибыли (квантили, pvalue)\n",
        "6. Принимается решение о том, целессобразно ли исследовать данный региона (если Вероятность убытка < 2.5%)\n",
        "7. Среди оставшихся регионов проводится сравнение оценок средних значений прибыли. \n",
        "8. Выбирается лучший регион. \n",
        "\n",
        "### Этапы проекта (задачи)\n",
        "1. Загрузка библиотек и объявление глобальных переменных\n",
        "2. Загрузка данных\n",
        "3. Предъобработка данных\n",
        "4. Исследование данных\n",
        "5. Подготовка даныых для МЛ\n",
        "   - разбиение на на обучающую и валидационную выборки в соотношении 75:25\n",
        "   - кодирование (при необходимости)\n",
        "   - масштабирование \n",
        "6. Подготовка модели для отбора оптимальных скважин (2 выборки)\n",
        "    - обучение модели на тренировочной выборке, поиск оптимальных гиперпараметров\n",
        "    - расчет среднего запаса сырья на валидационной выборке\n",
        "7. Подготовка к расчету прибыли:\n",
        "    - определение констант и ключевых параметров\n",
        "    - расчет минимального среднего запаса сырья,при котором разработка регионане будет убыточной\n",
        "    - сравнение минимального среднего запаса сырья спредсказанным среднимзапасов порегионам\n",
        "8.  Оценке прибыли техникой Bootstrep (1000 циклов). В каждом цикле обрабатывается выборка из 500 записей, для которых:\n",
        "   - выбор 200 лучших для разработки скважин \n",
        "   - расчет прибыли (450 000 * предсказанное моделью кол-во баррелей в скважине) для каждой из отобранных скважин \n",
        "   - расчет суммарного дохода по региону (200*поскважинный доход)\n",
        "   - изучение полученного расспределения оценки предполагаемой операционной прибыли\n",
        "   - определение доверительного интервала\n",
        "   - расчет вероятности отрицательной операционной прибыли\n",
        "   - принятие решения о целесообразности исследования региона (если вероятность убытка < 2.5%)\n",
        "\n",
        "9. Сравнение оценок средних значений прибыли среди актуальных регионов. Выбор лучшего региона. \n",
        "10. Выводы.\n",
        "\n",
        "### Описание исходных данных (далее - ИД)\n",
        "Данные геологоразведки трёх регионов находятся в файлах:\n",
        "- /datasets/geo_data_0.csv. Скачать датасет\n",
        "- /datasets/geo_data_1.csv. Скачать датасет\n",
        "- /datasets/geo_data_2.csv. Скачать датасет\n",
        "\n",
        "Данные синтетические: детали контрактов и характеристики месторождений не разглашаются.\n",
        "- id — уникальный идентификатор скважины;\n",
        "- f0, f1, f2 — три признака точек (неважно, что они означают, но сами признаки значимы);\n",
        "- product — объём запасов в скважине (тыс. баррелей).   "
      ]
    },
    {
      "cell_type": "markdown",
      "metadata": {
        "id": "wctBQFc0VR3D"
      },
      "source": [
        "## Загрузка библиотек и объявление глобальных переменных"
      ]
    },
    {
      "cell_type": "code",
      "execution_count": 1,
      "metadata": {
        "id": "hmFybzzEVR3D"
      },
      "outputs": [],
      "source": [
        "import pandas as pd\n",
        "import math\n",
        "import numpy as np\n",
        "from scipy.stats import kstest, norm, ttest_ind, ttest_1samp\n",
        "import matplotlib.pyplot as plt\n",
        "from matplotlib.ticker import FuncFormatter\n",
        "import seaborn as sns\n",
        "from sklearn.model_selection import train_test_split\n",
        "from sklearn.preprocessing import StandardScaler\n",
        "from sklearn.linear_model import LinearRegression, SGDRegressor\n",
        "from sklearn.metrics import mean_squared_error, r2_score\n",
        "from sklearn.model_selection import GridSearchCV"
      ]
    },
    {
      "cell_type": "code",
      "source": [
        "from google.colab import drive\n",
        "drive.mount('/content/drive')"
      ],
      "metadata": {
        "colab": {
          "base_uri": "https://localhost:8080/"
        },
        "id": "xUN-kZCrf3uO",
        "outputId": "df06e322-32ba-49f2-f007-6e30404864b9"
      },
      "execution_count": 2,
      "outputs": [
        {
          "output_type": "stream",
          "name": "stdout",
          "text": [
            "Mounted at /content/drive\n"
          ]
        }
      ]
    },
    {
      "cell_type": "markdown",
      "source": [
        "## Определение функций"
      ],
      "metadata": {
        "id": "pZ5egYnZ_VcJ"
      }
    },
    {
      "cell_type": "code",
      "source": [
        "#Функция для расчета прибыли\n",
        "def calc_profit(store_oil, oil_cost, number_of_hole, number_of_seens, iters):\n",
        "    pred_profit = []\n",
        "    real_profit = []\n",
        "    for idx in range(iters):\n",
        "        #Случайным образом выбираем из записей о запасах нефти 500 строк\n",
        "        oil_sample = store_oil.sample(n = number_of_seens, random_state = state, replace = False)\n",
        "        #Предсказанные наиболее \"заполненные\" скважины\n",
        "        good_index = oil_sample['prediction'].sort_values(ascending = False).head(number_of_hole).index\n",
        "        #Реальная операционная прибыль от скважин\n",
        "        real_profit.append(oil_sample.loc[good_index, 'test_target'].sum()*oil_cost - expenses)\n",
        "    return real_profit"
      ],
      "metadata": {
        "id": "EuUqN6BO_Umz"
      },
      "execution_count": null,
      "outputs": []
    },
    {
      "cell_type": "markdown",
      "metadata": {
        "id": "fOVJ_2V7VR3F"
      },
      "source": [
        "## Задание констант"
      ]
    },
    {
      "cell_type": "code",
      "execution_count": 3,
      "metadata": {
        "id": "4b9OIbS9VR3F"
      },
      "outputs": [],
      "source": [
        "state = np.random.RandomState(12345)\n",
        "param_list = [\"f0\", \"f1\", \"f2\"]"
      ]
    },
    {
      "cell_type": "markdown",
      "metadata": {
        "id": "HRHMo_wDVR3G"
      },
      "source": [
        "## Загрузка данных"
      ]
    },
    {
      "cell_type": "code",
      "execution_count": 4,
      "metadata": {
        "id": "d02rqfXDVR3G"
      },
      "outputs": [],
      "source": [
        "# Считываем данные\n",
        "geo_data_0 = pd.read_csv(\"/content/drive/MyDrive/Colab Notebooks/geo_data_0.csv\")\n",
        "geo_data_1 = pd.read_csv(\"/content/drive/MyDrive/Colab Notebooks/geo_data_1.csv\")\n",
        "geo_data_2 = pd.read_csv(\"/content/drive/MyDrive/Colab Notebooks/geo_data_2.csv\")"
      ]
    },
    {
      "cell_type": "code",
      "execution_count": 5,
      "metadata": {
        "id": "REhWY-9CVR3H"
      },
      "outputs": [],
      "source": [
        "#Словарь для хранения объектов и моделей\n",
        "dict_keys = [\n",
        "    \"data\",                #ДФ с даными по региону\n",
        "    \"features\",            #ДФ с признаками \n",
        "    \"target\",              #Сериес с целевым признаком\n",
        "    \"fe_train\",            #ДФ с признаками (тренировочная выборка)\n",
        "    \"ta_train\",            #Сериес с целевым признаком (тренировочная выборка)\n",
        "    \"fe_test\",             #ДФ с признаками (тестовая выборка)\n",
        "    \"ta_test\",             #Сериес с целевым признаком (тестовая выборка)\n",
        "    \"scaler\",              #объект масштабатора\n",
        "    \"model\",               #объект модели\n",
        "    \"pred_train\",          #np.array с предсказанием на тренировочной выборке\n",
        "    \"pred_test\",           #np.array с предсказанием на тестовой выборке\n",
        "    \"model_params\",        #гиперпараметры модели\n",
        "    \"target_and_pred\",     #ДФ с предсказанием и целевым признаком (тестовая выборка)\n",
        "    \"pred_profit\",         #Сериес с прибылью по предсказанию на тестовой выборке\n",
        "    \"real_profit\",         #Сериес с прибылью по целевому признаку на тестовой выборке\n",
        "]\n",
        "\n",
        "#Формируем пустой словарь \n",
        "regions_dict = { idx: {key: None for key in dict_keys} for idx in range(3)}\n",
        "\n",
        "#Записываем данные в словарь для автоматизации повторений\n",
        "regions_dict[0][\"data\"] = geo_data_0\n",
        "regions_dict[1][\"data\"] = geo_data_1\n",
        "regions_dict[2][\"data\"] = geo_data_2"
      ]
    },
    {
      "cell_type": "code",
      "execution_count": 6,
      "metadata": {
        "colab": {
          "base_uri": "https://localhost:8080/",
          "height": 1000
        },
        "id": "L-TUPp-aVR3H",
        "outputId": "00f5aa57-6f4d-4cbe-99df-c93688483483"
      },
      "outputs": [
        {
          "output_type": "display_data",
          "data": {
            "text/plain": [
              "      id        f0        f1        f2     product\n",
              "0  txEyH  0.705745 -0.497823  1.221170  105.280062\n",
              "1  2acmU  1.334711 -0.340164  4.365080   73.037750\n",
              "2  409Wp  1.022732  0.151990  1.419926   85.265647\n",
              "3  iJLyR -0.032172  0.139033  2.978566  168.620776\n",
              "4  Xdl7t  1.988431  0.155413  4.751769  154.036647"
            ],
            "text/html": [
              "\n",
              "  <div id=\"df-ff16e45d-00c5-49fe-8156-453a03f844dd\">\n",
              "    <div class=\"colab-df-container\">\n",
              "      <div>\n",
              "<style scoped>\n",
              "    .dataframe tbody tr th:only-of-type {\n",
              "        vertical-align: middle;\n",
              "    }\n",
              "\n",
              "    .dataframe tbody tr th {\n",
              "        vertical-align: top;\n",
              "    }\n",
              "\n",
              "    .dataframe thead th {\n",
              "        text-align: right;\n",
              "    }\n",
              "</style>\n",
              "<table border=\"1\" class=\"dataframe\">\n",
              "  <thead>\n",
              "    <tr style=\"text-align: right;\">\n",
              "      <th></th>\n",
              "      <th>id</th>\n",
              "      <th>f0</th>\n",
              "      <th>f1</th>\n",
              "      <th>f2</th>\n",
              "      <th>product</th>\n",
              "    </tr>\n",
              "  </thead>\n",
              "  <tbody>\n",
              "    <tr>\n",
              "      <th>0</th>\n",
              "      <td>txEyH</td>\n",
              "      <td>0.705745</td>\n",
              "      <td>-0.497823</td>\n",
              "      <td>1.221170</td>\n",
              "      <td>105.280062</td>\n",
              "    </tr>\n",
              "    <tr>\n",
              "      <th>1</th>\n",
              "      <td>2acmU</td>\n",
              "      <td>1.334711</td>\n",
              "      <td>-0.340164</td>\n",
              "      <td>4.365080</td>\n",
              "      <td>73.037750</td>\n",
              "    </tr>\n",
              "    <tr>\n",
              "      <th>2</th>\n",
              "      <td>409Wp</td>\n",
              "      <td>1.022732</td>\n",
              "      <td>0.151990</td>\n",
              "      <td>1.419926</td>\n",
              "      <td>85.265647</td>\n",
              "    </tr>\n",
              "    <tr>\n",
              "      <th>3</th>\n",
              "      <td>iJLyR</td>\n",
              "      <td>-0.032172</td>\n",
              "      <td>0.139033</td>\n",
              "      <td>2.978566</td>\n",
              "      <td>168.620776</td>\n",
              "    </tr>\n",
              "    <tr>\n",
              "      <th>4</th>\n",
              "      <td>Xdl7t</td>\n",
              "      <td>1.988431</td>\n",
              "      <td>0.155413</td>\n",
              "      <td>4.751769</td>\n",
              "      <td>154.036647</td>\n",
              "    </tr>\n",
              "  </tbody>\n",
              "</table>\n",
              "</div>\n",
              "      <button class=\"colab-df-convert\" onclick=\"convertToInteractive('df-ff16e45d-00c5-49fe-8156-453a03f844dd')\"\n",
              "              title=\"Convert this dataframe to an interactive table.\"\n",
              "              style=\"display:none;\">\n",
              "        \n",
              "  <svg xmlns=\"http://www.w3.org/2000/svg\" height=\"24px\"viewBox=\"0 0 24 24\"\n",
              "       width=\"24px\">\n",
              "    <path d=\"M0 0h24v24H0V0z\" fill=\"none\"/>\n",
              "    <path d=\"M18.56 5.44l.94 2.06.94-2.06 2.06-.94-2.06-.94-.94-2.06-.94 2.06-2.06.94zm-11 1L8.5 8.5l.94-2.06 2.06-.94-2.06-.94L8.5 2.5l-.94 2.06-2.06.94zm10 10l.94 2.06.94-2.06 2.06-.94-2.06-.94-.94-2.06-.94 2.06-2.06.94z\"/><path d=\"M17.41 7.96l-1.37-1.37c-.4-.4-.92-.59-1.43-.59-.52 0-1.04.2-1.43.59L10.3 9.45l-7.72 7.72c-.78.78-.78 2.05 0 2.83L4 21.41c.39.39.9.59 1.41.59.51 0 1.02-.2 1.41-.59l7.78-7.78 2.81-2.81c.8-.78.8-2.07 0-2.86zM5.41 20L4 18.59l7.72-7.72 1.47 1.35L5.41 20z\"/>\n",
              "  </svg>\n",
              "      </button>\n",
              "      \n",
              "  <style>\n",
              "    .colab-df-container {\n",
              "      display:flex;\n",
              "      flex-wrap:wrap;\n",
              "      gap: 12px;\n",
              "    }\n",
              "\n",
              "    .colab-df-convert {\n",
              "      background-color: #E8F0FE;\n",
              "      border: none;\n",
              "      border-radius: 50%;\n",
              "      cursor: pointer;\n",
              "      display: none;\n",
              "      fill: #1967D2;\n",
              "      height: 32px;\n",
              "      padding: 0 0 0 0;\n",
              "      width: 32px;\n",
              "    }\n",
              "\n",
              "    .colab-df-convert:hover {\n",
              "      background-color: #E2EBFA;\n",
              "      box-shadow: 0px 1px 2px rgba(60, 64, 67, 0.3), 0px 1px 3px 1px rgba(60, 64, 67, 0.15);\n",
              "      fill: #174EA6;\n",
              "    }\n",
              "\n",
              "    [theme=dark] .colab-df-convert {\n",
              "      background-color: #3B4455;\n",
              "      fill: #D2E3FC;\n",
              "    }\n",
              "\n",
              "    [theme=dark] .colab-df-convert:hover {\n",
              "      background-color: #434B5C;\n",
              "      box-shadow: 0px 1px 3px 1px rgba(0, 0, 0, 0.15);\n",
              "      filter: drop-shadow(0px 1px 2px rgba(0, 0, 0, 0.3));\n",
              "      fill: #FFFFFF;\n",
              "    }\n",
              "  </style>\n",
              "\n",
              "      <script>\n",
              "        const buttonEl =\n",
              "          document.querySelector('#df-ff16e45d-00c5-49fe-8156-453a03f844dd button.colab-df-convert');\n",
              "        buttonEl.style.display =\n",
              "          google.colab.kernel.accessAllowed ? 'block' : 'none';\n",
              "\n",
              "        async function convertToInteractive(key) {\n",
              "          const element = document.querySelector('#df-ff16e45d-00c5-49fe-8156-453a03f844dd');\n",
              "          const dataTable =\n",
              "            await google.colab.kernel.invokeFunction('convertToInteractive',\n",
              "                                                     [key], {});\n",
              "          if (!dataTable) return;\n",
              "\n",
              "          const docLinkHtml = 'Like what you see? Visit the ' +\n",
              "            '<a target=\"_blank\" href=https://colab.research.google.com/notebooks/data_table.ipynb>data table notebook</a>'\n",
              "            + ' to learn more about interactive tables.';\n",
              "          element.innerHTML = '';\n",
              "          dataTable['output_type'] = 'display_data';\n",
              "          await google.colab.output.renderOutput(dataTable, element);\n",
              "          const docLink = document.createElement('div');\n",
              "          docLink.innerHTML = docLinkHtml;\n",
              "          element.appendChild(docLink);\n",
              "        }\n",
              "      </script>\n",
              "    </div>\n",
              "  </div>\n",
              "  "
            ]
          },
          "metadata": {}
        },
        {
          "output_type": "stream",
          "name": "stdout",
          "text": [
            "<class 'pandas.core.frame.DataFrame'>\n",
            "RangeIndex: 100000 entries, 0 to 99999\n",
            "Data columns (total 5 columns):\n",
            " #   Column   Non-Null Count   Dtype  \n",
            "---  ------   --------------   -----  \n",
            " 0   id       100000 non-null  object \n",
            " 1   f0       100000 non-null  float64\n",
            " 2   f1       100000 non-null  float64\n",
            " 3   f2       100000 non-null  float64\n",
            " 4   product  100000 non-null  float64\n",
            "dtypes: float64(4), object(1)\n",
            "memory usage: 3.8+ MB\n"
          ]
        },
        {
          "output_type": "display_data",
          "data": {
            "text/plain": [
              "None"
            ]
          },
          "metadata": {}
        },
        {
          "output_type": "display_data",
          "data": {
            "text/plain": [
              "      id         f0         f1        f2     product\n",
              "0  kBEdx -15.001348  -8.276000 -0.005876    3.179103\n",
              "1  62mP7  14.272088  -3.475083  0.999183   26.953261\n",
              "2  vyE1P   6.263187  -5.948386  5.001160  134.766305\n",
              "3  KcrkZ -13.081196 -11.506057  4.999415  137.945408\n",
              "4  AHL4O  12.702195  -8.147433  5.004363  134.766305"
            ],
            "text/html": [
              "\n",
              "  <div id=\"df-d8713a34-5b51-4403-bd4d-d7084da71e8b\">\n",
              "    <div class=\"colab-df-container\">\n",
              "      <div>\n",
              "<style scoped>\n",
              "    .dataframe tbody tr th:only-of-type {\n",
              "        vertical-align: middle;\n",
              "    }\n",
              "\n",
              "    .dataframe tbody tr th {\n",
              "        vertical-align: top;\n",
              "    }\n",
              "\n",
              "    .dataframe thead th {\n",
              "        text-align: right;\n",
              "    }\n",
              "</style>\n",
              "<table border=\"1\" class=\"dataframe\">\n",
              "  <thead>\n",
              "    <tr style=\"text-align: right;\">\n",
              "      <th></th>\n",
              "      <th>id</th>\n",
              "      <th>f0</th>\n",
              "      <th>f1</th>\n",
              "      <th>f2</th>\n",
              "      <th>product</th>\n",
              "    </tr>\n",
              "  </thead>\n",
              "  <tbody>\n",
              "    <tr>\n",
              "      <th>0</th>\n",
              "      <td>kBEdx</td>\n",
              "      <td>-15.001348</td>\n",
              "      <td>-8.276000</td>\n",
              "      <td>-0.005876</td>\n",
              "      <td>3.179103</td>\n",
              "    </tr>\n",
              "    <tr>\n",
              "      <th>1</th>\n",
              "      <td>62mP7</td>\n",
              "      <td>14.272088</td>\n",
              "      <td>-3.475083</td>\n",
              "      <td>0.999183</td>\n",
              "      <td>26.953261</td>\n",
              "    </tr>\n",
              "    <tr>\n",
              "      <th>2</th>\n",
              "      <td>vyE1P</td>\n",
              "      <td>6.263187</td>\n",
              "      <td>-5.948386</td>\n",
              "      <td>5.001160</td>\n",
              "      <td>134.766305</td>\n",
              "    </tr>\n",
              "    <tr>\n",
              "      <th>3</th>\n",
              "      <td>KcrkZ</td>\n",
              "      <td>-13.081196</td>\n",
              "      <td>-11.506057</td>\n",
              "      <td>4.999415</td>\n",
              "      <td>137.945408</td>\n",
              "    </tr>\n",
              "    <tr>\n",
              "      <th>4</th>\n",
              "      <td>AHL4O</td>\n",
              "      <td>12.702195</td>\n",
              "      <td>-8.147433</td>\n",
              "      <td>5.004363</td>\n",
              "      <td>134.766305</td>\n",
              "    </tr>\n",
              "  </tbody>\n",
              "</table>\n",
              "</div>\n",
              "      <button class=\"colab-df-convert\" onclick=\"convertToInteractive('df-d8713a34-5b51-4403-bd4d-d7084da71e8b')\"\n",
              "              title=\"Convert this dataframe to an interactive table.\"\n",
              "              style=\"display:none;\">\n",
              "        \n",
              "  <svg xmlns=\"http://www.w3.org/2000/svg\" height=\"24px\"viewBox=\"0 0 24 24\"\n",
              "       width=\"24px\">\n",
              "    <path d=\"M0 0h24v24H0V0z\" fill=\"none\"/>\n",
              "    <path d=\"M18.56 5.44l.94 2.06.94-2.06 2.06-.94-2.06-.94-.94-2.06-.94 2.06-2.06.94zm-11 1L8.5 8.5l.94-2.06 2.06-.94-2.06-.94L8.5 2.5l-.94 2.06-2.06.94zm10 10l.94 2.06.94-2.06 2.06-.94-2.06-.94-.94-2.06-.94 2.06-2.06.94z\"/><path d=\"M17.41 7.96l-1.37-1.37c-.4-.4-.92-.59-1.43-.59-.52 0-1.04.2-1.43.59L10.3 9.45l-7.72 7.72c-.78.78-.78 2.05 0 2.83L4 21.41c.39.39.9.59 1.41.59.51 0 1.02-.2 1.41-.59l7.78-7.78 2.81-2.81c.8-.78.8-2.07 0-2.86zM5.41 20L4 18.59l7.72-7.72 1.47 1.35L5.41 20z\"/>\n",
              "  </svg>\n",
              "      </button>\n",
              "      \n",
              "  <style>\n",
              "    .colab-df-container {\n",
              "      display:flex;\n",
              "      flex-wrap:wrap;\n",
              "      gap: 12px;\n",
              "    }\n",
              "\n",
              "    .colab-df-convert {\n",
              "      background-color: #E8F0FE;\n",
              "      border: none;\n",
              "      border-radius: 50%;\n",
              "      cursor: pointer;\n",
              "      display: none;\n",
              "      fill: #1967D2;\n",
              "      height: 32px;\n",
              "      padding: 0 0 0 0;\n",
              "      width: 32px;\n",
              "    }\n",
              "\n",
              "    .colab-df-convert:hover {\n",
              "      background-color: #E2EBFA;\n",
              "      box-shadow: 0px 1px 2px rgba(60, 64, 67, 0.3), 0px 1px 3px 1px rgba(60, 64, 67, 0.15);\n",
              "      fill: #174EA6;\n",
              "    }\n",
              "\n",
              "    [theme=dark] .colab-df-convert {\n",
              "      background-color: #3B4455;\n",
              "      fill: #D2E3FC;\n",
              "    }\n",
              "\n",
              "    [theme=dark] .colab-df-convert:hover {\n",
              "      background-color: #434B5C;\n",
              "      box-shadow: 0px 1px 3px 1px rgba(0, 0, 0, 0.15);\n",
              "      filter: drop-shadow(0px 1px 2px rgba(0, 0, 0, 0.3));\n",
              "      fill: #FFFFFF;\n",
              "    }\n",
              "  </style>\n",
              "\n",
              "      <script>\n",
              "        const buttonEl =\n",
              "          document.querySelector('#df-d8713a34-5b51-4403-bd4d-d7084da71e8b button.colab-df-convert');\n",
              "        buttonEl.style.display =\n",
              "          google.colab.kernel.accessAllowed ? 'block' : 'none';\n",
              "\n",
              "        async function convertToInteractive(key) {\n",
              "          const element = document.querySelector('#df-d8713a34-5b51-4403-bd4d-d7084da71e8b');\n",
              "          const dataTable =\n",
              "            await google.colab.kernel.invokeFunction('convertToInteractive',\n",
              "                                                     [key], {});\n",
              "          if (!dataTable) return;\n",
              "\n",
              "          const docLinkHtml = 'Like what you see? Visit the ' +\n",
              "            '<a target=\"_blank\" href=https://colab.research.google.com/notebooks/data_table.ipynb>data table notebook</a>'\n",
              "            + ' to learn more about interactive tables.';\n",
              "          element.innerHTML = '';\n",
              "          dataTable['output_type'] = 'display_data';\n",
              "          await google.colab.output.renderOutput(dataTable, element);\n",
              "          const docLink = document.createElement('div');\n",
              "          docLink.innerHTML = docLinkHtml;\n",
              "          element.appendChild(docLink);\n",
              "        }\n",
              "      </script>\n",
              "    </div>\n",
              "  </div>\n",
              "  "
            ]
          },
          "metadata": {}
        },
        {
          "output_type": "stream",
          "name": "stdout",
          "text": [
            "<class 'pandas.core.frame.DataFrame'>\n",
            "RangeIndex: 100000 entries, 0 to 99999\n",
            "Data columns (total 5 columns):\n",
            " #   Column   Non-Null Count   Dtype  \n",
            "---  ------   --------------   -----  \n",
            " 0   id       100000 non-null  object \n",
            " 1   f0       100000 non-null  float64\n",
            " 2   f1       100000 non-null  float64\n",
            " 3   f2       100000 non-null  float64\n",
            " 4   product  100000 non-null  float64\n",
            "dtypes: float64(4), object(1)\n",
            "memory usage: 3.8+ MB\n"
          ]
        },
        {
          "output_type": "display_data",
          "data": {
            "text/plain": [
              "None"
            ]
          },
          "metadata": {}
        },
        {
          "output_type": "display_data",
          "data": {
            "text/plain": [
              "      id        f0        f1        f2     product\n",
              "0  fwXo0 -1.146987  0.963328 -0.828965   27.758673\n",
              "1  WJtFt  0.262778  0.269839 -2.530187   56.069697\n",
              "2  ovLUW  0.194587  0.289035 -5.586433   62.871910\n",
              "3  q6cA6  2.236060 -0.553760  0.930038  114.572842\n",
              "4  WPMUX -0.515993  1.716266  5.899011  149.600746"
            ],
            "text/html": [
              "\n",
              "  <div id=\"df-bb9514a5-d3a7-44ab-8b07-acac598ff995\">\n",
              "    <div class=\"colab-df-container\">\n",
              "      <div>\n",
              "<style scoped>\n",
              "    .dataframe tbody tr th:only-of-type {\n",
              "        vertical-align: middle;\n",
              "    }\n",
              "\n",
              "    .dataframe tbody tr th {\n",
              "        vertical-align: top;\n",
              "    }\n",
              "\n",
              "    .dataframe thead th {\n",
              "        text-align: right;\n",
              "    }\n",
              "</style>\n",
              "<table border=\"1\" class=\"dataframe\">\n",
              "  <thead>\n",
              "    <tr style=\"text-align: right;\">\n",
              "      <th></th>\n",
              "      <th>id</th>\n",
              "      <th>f0</th>\n",
              "      <th>f1</th>\n",
              "      <th>f2</th>\n",
              "      <th>product</th>\n",
              "    </tr>\n",
              "  </thead>\n",
              "  <tbody>\n",
              "    <tr>\n",
              "      <th>0</th>\n",
              "      <td>fwXo0</td>\n",
              "      <td>-1.146987</td>\n",
              "      <td>0.963328</td>\n",
              "      <td>-0.828965</td>\n",
              "      <td>27.758673</td>\n",
              "    </tr>\n",
              "    <tr>\n",
              "      <th>1</th>\n",
              "      <td>WJtFt</td>\n",
              "      <td>0.262778</td>\n",
              "      <td>0.269839</td>\n",
              "      <td>-2.530187</td>\n",
              "      <td>56.069697</td>\n",
              "    </tr>\n",
              "    <tr>\n",
              "      <th>2</th>\n",
              "      <td>ovLUW</td>\n",
              "      <td>0.194587</td>\n",
              "      <td>0.289035</td>\n",
              "      <td>-5.586433</td>\n",
              "      <td>62.871910</td>\n",
              "    </tr>\n",
              "    <tr>\n",
              "      <th>3</th>\n",
              "      <td>q6cA6</td>\n",
              "      <td>2.236060</td>\n",
              "      <td>-0.553760</td>\n",
              "      <td>0.930038</td>\n",
              "      <td>114.572842</td>\n",
              "    </tr>\n",
              "    <tr>\n",
              "      <th>4</th>\n",
              "      <td>WPMUX</td>\n",
              "      <td>-0.515993</td>\n",
              "      <td>1.716266</td>\n",
              "      <td>5.899011</td>\n",
              "      <td>149.600746</td>\n",
              "    </tr>\n",
              "  </tbody>\n",
              "</table>\n",
              "</div>\n",
              "      <button class=\"colab-df-convert\" onclick=\"convertToInteractive('df-bb9514a5-d3a7-44ab-8b07-acac598ff995')\"\n",
              "              title=\"Convert this dataframe to an interactive table.\"\n",
              "              style=\"display:none;\">\n",
              "        \n",
              "  <svg xmlns=\"http://www.w3.org/2000/svg\" height=\"24px\"viewBox=\"0 0 24 24\"\n",
              "       width=\"24px\">\n",
              "    <path d=\"M0 0h24v24H0V0z\" fill=\"none\"/>\n",
              "    <path d=\"M18.56 5.44l.94 2.06.94-2.06 2.06-.94-2.06-.94-.94-2.06-.94 2.06-2.06.94zm-11 1L8.5 8.5l.94-2.06 2.06-.94-2.06-.94L8.5 2.5l-.94 2.06-2.06.94zm10 10l.94 2.06.94-2.06 2.06-.94-2.06-.94-.94-2.06-.94 2.06-2.06.94z\"/><path d=\"M17.41 7.96l-1.37-1.37c-.4-.4-.92-.59-1.43-.59-.52 0-1.04.2-1.43.59L10.3 9.45l-7.72 7.72c-.78.78-.78 2.05 0 2.83L4 21.41c.39.39.9.59 1.41.59.51 0 1.02-.2 1.41-.59l7.78-7.78 2.81-2.81c.8-.78.8-2.07 0-2.86zM5.41 20L4 18.59l7.72-7.72 1.47 1.35L5.41 20z\"/>\n",
              "  </svg>\n",
              "      </button>\n",
              "      \n",
              "  <style>\n",
              "    .colab-df-container {\n",
              "      display:flex;\n",
              "      flex-wrap:wrap;\n",
              "      gap: 12px;\n",
              "    }\n",
              "\n",
              "    .colab-df-convert {\n",
              "      background-color: #E8F0FE;\n",
              "      border: none;\n",
              "      border-radius: 50%;\n",
              "      cursor: pointer;\n",
              "      display: none;\n",
              "      fill: #1967D2;\n",
              "      height: 32px;\n",
              "      padding: 0 0 0 0;\n",
              "      width: 32px;\n",
              "    }\n",
              "\n",
              "    .colab-df-convert:hover {\n",
              "      background-color: #E2EBFA;\n",
              "      box-shadow: 0px 1px 2px rgba(60, 64, 67, 0.3), 0px 1px 3px 1px rgba(60, 64, 67, 0.15);\n",
              "      fill: #174EA6;\n",
              "    }\n",
              "\n",
              "    [theme=dark] .colab-df-convert {\n",
              "      background-color: #3B4455;\n",
              "      fill: #D2E3FC;\n",
              "    }\n",
              "\n",
              "    [theme=dark] .colab-df-convert:hover {\n",
              "      background-color: #434B5C;\n",
              "      box-shadow: 0px 1px 3px 1px rgba(0, 0, 0, 0.15);\n",
              "      filter: drop-shadow(0px 1px 2px rgba(0, 0, 0, 0.3));\n",
              "      fill: #FFFFFF;\n",
              "    }\n",
              "  </style>\n",
              "\n",
              "      <script>\n",
              "        const buttonEl =\n",
              "          document.querySelector('#df-bb9514a5-d3a7-44ab-8b07-acac598ff995 button.colab-df-convert');\n",
              "        buttonEl.style.display =\n",
              "          google.colab.kernel.accessAllowed ? 'block' : 'none';\n",
              "\n",
              "        async function convertToInteractive(key) {\n",
              "          const element = document.querySelector('#df-bb9514a5-d3a7-44ab-8b07-acac598ff995');\n",
              "          const dataTable =\n",
              "            await google.colab.kernel.invokeFunction('convertToInteractive',\n",
              "                                                     [key], {});\n",
              "          if (!dataTable) return;\n",
              "\n",
              "          const docLinkHtml = 'Like what you see? Visit the ' +\n",
              "            '<a target=\"_blank\" href=https://colab.research.google.com/notebooks/data_table.ipynb>data table notebook</a>'\n",
              "            + ' to learn more about interactive tables.';\n",
              "          element.innerHTML = '';\n",
              "          dataTable['output_type'] = 'display_data';\n",
              "          await google.colab.output.renderOutput(dataTable, element);\n",
              "          const docLink = document.createElement('div');\n",
              "          docLink.innerHTML = docLinkHtml;\n",
              "          element.appendChild(docLink);\n",
              "        }\n",
              "      </script>\n",
              "    </div>\n",
              "  </div>\n",
              "  "
            ]
          },
          "metadata": {}
        },
        {
          "output_type": "stream",
          "name": "stdout",
          "text": [
            "<class 'pandas.core.frame.DataFrame'>\n",
            "RangeIndex: 100000 entries, 0 to 99999\n",
            "Data columns (total 5 columns):\n",
            " #   Column   Non-Null Count   Dtype  \n",
            "---  ------   --------------   -----  \n",
            " 0   id       100000 non-null  object \n",
            " 1   f0       100000 non-null  float64\n",
            " 2   f1       100000 non-null  float64\n",
            " 3   f2       100000 non-null  float64\n",
            " 4   product  100000 non-null  float64\n",
            "dtypes: float64(4), object(1)\n",
            "memory usage: 3.8+ MB\n"
          ]
        },
        {
          "output_type": "display_data",
          "data": {
            "text/plain": [
              "None"
            ]
          },
          "metadata": {}
        }
      ],
      "source": [
        "for region in regions_dict.values():\n",
        "    display(region[\"data\"].head(5))\n",
        "    display(region[\"data\"].info())"
      ]
    },
    {
      "cell_type": "markdown",
      "metadata": {
        "id": "dPi5WFdJVR3J"
      },
      "source": [
        "Все три предствавленных датасета имеют одинаковую фору (5 столбцов на 10000 записей). В датасетах нет пропусков и нулевых значений. Столбцы (f0, f1, f2, id) имеют корректные названия (заголовки) и ожидаемые типы данных. Столбец product имеет название, совпадающее с зарезервированным pandas названием метода (https://pandas.pydata.org/docs/reference/api/pandas.DataFrame.product.html). Переименуем его на этапе предъобработки"
      ]
    },
    {
      "cell_type": "markdown",
      "metadata": {
        "id": "tHpKZKVuVR3J"
      },
      "source": [
        "## Предъобработка данных"
      ]
    },
    {
      "cell_type": "code",
      "execution_count": 7,
      "metadata": {
        "id": "PZD3YAniVR3J"
      },
      "outputs": [],
      "source": [
        "for region in regions_dict.values():\n",
        "    region[\"data\"] = region[\"data\"].rename(columns={\"product\": \"oil\"})      "
      ]
    },
    {
      "cell_type": "markdown",
      "metadata": {
        "id": "OEGWitIFVR3K"
      },
      "source": [
        "### Проверка на полные дубликаты"
      ]
    },
    {
      "cell_type": "code",
      "execution_count": 8,
      "metadata": {
        "colab": {
          "base_uri": "https://localhost:8080/"
        },
        "id": "HrCYdkurVR3K",
        "outputId": "5bf0df39-70d1-4648-a76c-217c087c2dd2"
      },
      "outputs": [
        {
          "output_type": "stream",
          "name": "stdout",
          "text": [
            "Количество полных дубликатов в ДФ по региону 0:    0\n",
            "Количество полных дубликатов в ДФ по региону 1:    0\n",
            "Количество полных дубликатов в ДФ по региону 2:    0\n"
          ]
        }
      ],
      "source": [
        "for number, region in enumerate(regions_dict.values()):\n",
        "    print(f'Количество полных дубликатов в ДФ по региону {number}:\\\n",
        "    {region[\"data\"].duplicated().sum()}')"
      ]
    },
    {
      "cell_type": "markdown",
      "metadata": {
        "id": "UCvpYq02VR3L"
      },
      "source": [
        "### Проверка на неполные дубликаты\n",
        "В данном ДФ целесообразно проверятьтолько столбец id, так как заявлено, что этоуникальный идентификатор скважины"
      ]
    },
    {
      "cell_type": "code",
      "execution_count": 9,
      "metadata": {
        "colab": {
          "base_uri": "https://localhost:8080/"
        },
        "id": "RezP7V5YVR3L",
        "outputId": "c886e037-ef9c-448f-d2e7-ac47dcdf7c81"
      },
      "outputs": [
        {
          "output_type": "stream",
          "name": "stdout",
          "text": [
            "Количество полных дубликатов в ДФ по региону 0:     10\n",
            "Количество полных дубликатов в ДФ по региону 1:     4\n",
            "Количество полных дубликатов в ДФ по региону 2:     4\n"
          ]
        }
      ],
      "source": [
        "for number, region in enumerate(regions_dict.values()):\n",
        "    print(f'Количество полных дубликатов в ДФ по региону {number}: \\\n",
        "    {region[\"data\"].duplicated(subset = [\"id\"]).sum()}')\n"
      ]
    },
    {
      "cell_type": "markdown",
      "metadata": {
        "id": "X0u2fARvVR3M"
      },
      "source": [
        "Во всех ДФ обнаружены дубликаты id, которых с учетом полученного ТЗ быть не должно. Выведем их на экран и посмотрим подробнее"
      ]
    },
    {
      "cell_type": "code",
      "execution_count": 10,
      "metadata": {
        "colab": {
          "base_uri": "https://localhost:8080/",
          "height": 1000
        },
        "id": "a1BAICYOVR3M",
        "outputId": "874c6563-9ae0-4ce7-f9c5-5ee6a988a1d7"
      },
      "outputs": [
        {
          "output_type": "stream",
          "name": "stdout",
          "text": [
            "Дублирующие записи для 0-го региона\n"
          ]
        },
        {
          "output_type": "display_data",
          "data": {
            "text/plain": [
              "         id        f0        f1         f2         oil\n",
              "931   HZww2  0.755284  0.368511   1.863211   30.681774\n",
              "7530  HZww2  1.061194 -0.373969  10.430210  158.828695"
            ],
            "text/html": [
              "\n",
              "  <div id=\"df-fb8e28b3-c177-46cc-a10f-80bddfcdb709\">\n",
              "    <div class=\"colab-df-container\">\n",
              "      <div>\n",
              "<style scoped>\n",
              "    .dataframe tbody tr th:only-of-type {\n",
              "        vertical-align: middle;\n",
              "    }\n",
              "\n",
              "    .dataframe tbody tr th {\n",
              "        vertical-align: top;\n",
              "    }\n",
              "\n",
              "    .dataframe thead th {\n",
              "        text-align: right;\n",
              "    }\n",
              "</style>\n",
              "<table border=\"1\" class=\"dataframe\">\n",
              "  <thead>\n",
              "    <tr style=\"text-align: right;\">\n",
              "      <th></th>\n",
              "      <th>id</th>\n",
              "      <th>f0</th>\n",
              "      <th>f1</th>\n",
              "      <th>f2</th>\n",
              "      <th>oil</th>\n",
              "    </tr>\n",
              "  </thead>\n",
              "  <tbody>\n",
              "    <tr>\n",
              "      <th>931</th>\n",
              "      <td>HZww2</td>\n",
              "      <td>0.755284</td>\n",
              "      <td>0.368511</td>\n",
              "      <td>1.863211</td>\n",
              "      <td>30.681774</td>\n",
              "    </tr>\n",
              "    <tr>\n",
              "      <th>7530</th>\n",
              "      <td>HZww2</td>\n",
              "      <td>1.061194</td>\n",
              "      <td>-0.373969</td>\n",
              "      <td>10.430210</td>\n",
              "      <td>158.828695</td>\n",
              "    </tr>\n",
              "  </tbody>\n",
              "</table>\n",
              "</div>\n",
              "      <button class=\"colab-df-convert\" onclick=\"convertToInteractive('df-fb8e28b3-c177-46cc-a10f-80bddfcdb709')\"\n",
              "              title=\"Convert this dataframe to an interactive table.\"\n",
              "              style=\"display:none;\">\n",
              "        \n",
              "  <svg xmlns=\"http://www.w3.org/2000/svg\" height=\"24px\"viewBox=\"0 0 24 24\"\n",
              "       width=\"24px\">\n",
              "    <path d=\"M0 0h24v24H0V0z\" fill=\"none\"/>\n",
              "    <path d=\"M18.56 5.44l.94 2.06.94-2.06 2.06-.94-2.06-.94-.94-2.06-.94 2.06-2.06.94zm-11 1L8.5 8.5l.94-2.06 2.06-.94-2.06-.94L8.5 2.5l-.94 2.06-2.06.94zm10 10l.94 2.06.94-2.06 2.06-.94-2.06-.94-.94-2.06-.94 2.06-2.06.94z\"/><path d=\"M17.41 7.96l-1.37-1.37c-.4-.4-.92-.59-1.43-.59-.52 0-1.04.2-1.43.59L10.3 9.45l-7.72 7.72c-.78.78-.78 2.05 0 2.83L4 21.41c.39.39.9.59 1.41.59.51 0 1.02-.2 1.41-.59l7.78-7.78 2.81-2.81c.8-.78.8-2.07 0-2.86zM5.41 20L4 18.59l7.72-7.72 1.47 1.35L5.41 20z\"/>\n",
              "  </svg>\n",
              "      </button>\n",
              "      \n",
              "  <style>\n",
              "    .colab-df-container {\n",
              "      display:flex;\n",
              "      flex-wrap:wrap;\n",
              "      gap: 12px;\n",
              "    }\n",
              "\n",
              "    .colab-df-convert {\n",
              "      background-color: #E8F0FE;\n",
              "      border: none;\n",
              "      border-radius: 50%;\n",
              "      cursor: pointer;\n",
              "      display: none;\n",
              "      fill: #1967D2;\n",
              "      height: 32px;\n",
              "      padding: 0 0 0 0;\n",
              "      width: 32px;\n",
              "    }\n",
              "\n",
              "    .colab-df-convert:hover {\n",
              "      background-color: #E2EBFA;\n",
              "      box-shadow: 0px 1px 2px rgba(60, 64, 67, 0.3), 0px 1px 3px 1px rgba(60, 64, 67, 0.15);\n",
              "      fill: #174EA6;\n",
              "    }\n",
              "\n",
              "    [theme=dark] .colab-df-convert {\n",
              "      background-color: #3B4455;\n",
              "      fill: #D2E3FC;\n",
              "    }\n",
              "\n",
              "    [theme=dark] .colab-df-convert:hover {\n",
              "      background-color: #434B5C;\n",
              "      box-shadow: 0px 1px 3px 1px rgba(0, 0, 0, 0.15);\n",
              "      filter: drop-shadow(0px 1px 2px rgba(0, 0, 0, 0.3));\n",
              "      fill: #FFFFFF;\n",
              "    }\n",
              "  </style>\n",
              "\n",
              "      <script>\n",
              "        const buttonEl =\n",
              "          document.querySelector('#df-fb8e28b3-c177-46cc-a10f-80bddfcdb709 button.colab-df-convert');\n",
              "        buttonEl.style.display =\n",
              "          google.colab.kernel.accessAllowed ? 'block' : 'none';\n",
              "\n",
              "        async function convertToInteractive(key) {\n",
              "          const element = document.querySelector('#df-fb8e28b3-c177-46cc-a10f-80bddfcdb709');\n",
              "          const dataTable =\n",
              "            await google.colab.kernel.invokeFunction('convertToInteractive',\n",
              "                                                     [key], {});\n",
              "          if (!dataTable) return;\n",
              "\n",
              "          const docLinkHtml = 'Like what you see? Visit the ' +\n",
              "            '<a target=\"_blank\" href=https://colab.research.google.com/notebooks/data_table.ipynb>data table notebook</a>'\n",
              "            + ' to learn more about interactive tables.';\n",
              "          element.innerHTML = '';\n",
              "          dataTable['output_type'] = 'display_data';\n",
              "          await google.colab.output.renderOutput(dataTable, element);\n",
              "          const docLink = document.createElement('div');\n",
              "          docLink.innerHTML = docLinkHtml;\n",
              "          element.appendChild(docLink);\n",
              "        }\n",
              "      </script>\n",
              "    </div>\n",
              "  </div>\n",
              "  "
            ]
          },
          "metadata": {}
        },
        {
          "output_type": "display_data",
          "data": {
            "text/plain": [
              "          id        f0        f1        f2        oil\n",
              "1364   bxg6G  0.411645  0.856830 -3.653440  73.604260\n",
              "41724  bxg6G -0.823752  0.546319  3.630479  93.007798"
            ],
            "text/html": [
              "\n",
              "  <div id=\"df-26c469a8-0716-40d5-ac3b-1644d4357aa3\">\n",
              "    <div class=\"colab-df-container\">\n",
              "      <div>\n",
              "<style scoped>\n",
              "    .dataframe tbody tr th:only-of-type {\n",
              "        vertical-align: middle;\n",
              "    }\n",
              "\n",
              "    .dataframe tbody tr th {\n",
              "        vertical-align: top;\n",
              "    }\n",
              "\n",
              "    .dataframe thead th {\n",
              "        text-align: right;\n",
              "    }\n",
              "</style>\n",
              "<table border=\"1\" class=\"dataframe\">\n",
              "  <thead>\n",
              "    <tr style=\"text-align: right;\">\n",
              "      <th></th>\n",
              "      <th>id</th>\n",
              "      <th>f0</th>\n",
              "      <th>f1</th>\n",
              "      <th>f2</th>\n",
              "      <th>oil</th>\n",
              "    </tr>\n",
              "  </thead>\n",
              "  <tbody>\n",
              "    <tr>\n",
              "      <th>1364</th>\n",
              "      <td>bxg6G</td>\n",
              "      <td>0.411645</td>\n",
              "      <td>0.856830</td>\n",
              "      <td>-3.653440</td>\n",
              "      <td>73.604260</td>\n",
              "    </tr>\n",
              "    <tr>\n",
              "      <th>41724</th>\n",
              "      <td>bxg6G</td>\n",
              "      <td>-0.823752</td>\n",
              "      <td>0.546319</td>\n",
              "      <td>3.630479</td>\n",
              "      <td>93.007798</td>\n",
              "    </tr>\n",
              "  </tbody>\n",
              "</table>\n",
              "</div>\n",
              "      <button class=\"colab-df-convert\" onclick=\"convertToInteractive('df-26c469a8-0716-40d5-ac3b-1644d4357aa3')\"\n",
              "              title=\"Convert this dataframe to an interactive table.\"\n",
              "              style=\"display:none;\">\n",
              "        \n",
              "  <svg xmlns=\"http://www.w3.org/2000/svg\" height=\"24px\"viewBox=\"0 0 24 24\"\n",
              "       width=\"24px\">\n",
              "    <path d=\"M0 0h24v24H0V0z\" fill=\"none\"/>\n",
              "    <path d=\"M18.56 5.44l.94 2.06.94-2.06 2.06-.94-2.06-.94-.94-2.06-.94 2.06-2.06.94zm-11 1L8.5 8.5l.94-2.06 2.06-.94-2.06-.94L8.5 2.5l-.94 2.06-2.06.94zm10 10l.94 2.06.94-2.06 2.06-.94-2.06-.94-.94-2.06-.94 2.06-2.06.94z\"/><path d=\"M17.41 7.96l-1.37-1.37c-.4-.4-.92-.59-1.43-.59-.52 0-1.04.2-1.43.59L10.3 9.45l-7.72 7.72c-.78.78-.78 2.05 0 2.83L4 21.41c.39.39.9.59 1.41.59.51 0 1.02-.2 1.41-.59l7.78-7.78 2.81-2.81c.8-.78.8-2.07 0-2.86zM5.41 20L4 18.59l7.72-7.72 1.47 1.35L5.41 20z\"/>\n",
              "  </svg>\n",
              "      </button>\n",
              "      \n",
              "  <style>\n",
              "    .colab-df-container {\n",
              "      display:flex;\n",
              "      flex-wrap:wrap;\n",
              "      gap: 12px;\n",
              "    }\n",
              "\n",
              "    .colab-df-convert {\n",
              "      background-color: #E8F0FE;\n",
              "      border: none;\n",
              "      border-radius: 50%;\n",
              "      cursor: pointer;\n",
              "      display: none;\n",
              "      fill: #1967D2;\n",
              "      height: 32px;\n",
              "      padding: 0 0 0 0;\n",
              "      width: 32px;\n",
              "    }\n",
              "\n",
              "    .colab-df-convert:hover {\n",
              "      background-color: #E2EBFA;\n",
              "      box-shadow: 0px 1px 2px rgba(60, 64, 67, 0.3), 0px 1px 3px 1px rgba(60, 64, 67, 0.15);\n",
              "      fill: #174EA6;\n",
              "    }\n",
              "\n",
              "    [theme=dark] .colab-df-convert {\n",
              "      background-color: #3B4455;\n",
              "      fill: #D2E3FC;\n",
              "    }\n",
              "\n",
              "    [theme=dark] .colab-df-convert:hover {\n",
              "      background-color: #434B5C;\n",
              "      box-shadow: 0px 1px 3px 1px rgba(0, 0, 0, 0.15);\n",
              "      filter: drop-shadow(0px 1px 2px rgba(0, 0, 0, 0.3));\n",
              "      fill: #FFFFFF;\n",
              "    }\n",
              "  </style>\n",
              "\n",
              "      <script>\n",
              "        const buttonEl =\n",
              "          document.querySelector('#df-26c469a8-0716-40d5-ac3b-1644d4357aa3 button.colab-df-convert');\n",
              "        buttonEl.style.display =\n",
              "          google.colab.kernel.accessAllowed ? 'block' : 'none';\n",
              "\n",
              "        async function convertToInteractive(key) {\n",
              "          const element = document.querySelector('#df-26c469a8-0716-40d5-ac3b-1644d4357aa3');\n",
              "          const dataTable =\n",
              "            await google.colab.kernel.invokeFunction('convertToInteractive',\n",
              "                                                     [key], {});\n",
              "          if (!dataTable) return;\n",
              "\n",
              "          const docLinkHtml = 'Like what you see? Visit the ' +\n",
              "            '<a target=\"_blank\" href=https://colab.research.google.com/notebooks/data_table.ipynb>data table notebook</a>'\n",
              "            + ' to learn more about interactive tables.';\n",
              "          element.innerHTML = '';\n",
              "          dataTable['output_type'] = 'display_data';\n",
              "          await google.colab.output.renderOutput(dataTable, element);\n",
              "          const docLink = document.createElement('div');\n",
              "          docLink.innerHTML = docLinkHtml;\n",
              "          element.appendChild(docLink);\n",
              "        }\n",
              "      </script>\n",
              "    </div>\n",
              "  </div>\n",
              "  "
            ]
          },
          "metadata": {}
        },
        {
          "output_type": "display_data",
          "data": {
            "text/plain": [
              "          id        f0        f1        f2        oil\n",
              "3389   A5aEY -0.039949  0.156872  0.209861  89.249364\n",
              "51970  A5aEY -0.180335  0.935548 -2.094773  33.020205"
            ],
            "text/html": [
              "\n",
              "  <div id=\"df-bf51a5fc-6ead-48a4-bc72-25f9432b4573\">\n",
              "    <div class=\"colab-df-container\">\n",
              "      <div>\n",
              "<style scoped>\n",
              "    .dataframe tbody tr th:only-of-type {\n",
              "        vertical-align: middle;\n",
              "    }\n",
              "\n",
              "    .dataframe tbody tr th {\n",
              "        vertical-align: top;\n",
              "    }\n",
              "\n",
              "    .dataframe thead th {\n",
              "        text-align: right;\n",
              "    }\n",
              "</style>\n",
              "<table border=\"1\" class=\"dataframe\">\n",
              "  <thead>\n",
              "    <tr style=\"text-align: right;\">\n",
              "      <th></th>\n",
              "      <th>id</th>\n",
              "      <th>f0</th>\n",
              "      <th>f1</th>\n",
              "      <th>f2</th>\n",
              "      <th>oil</th>\n",
              "    </tr>\n",
              "  </thead>\n",
              "  <tbody>\n",
              "    <tr>\n",
              "      <th>3389</th>\n",
              "      <td>A5aEY</td>\n",
              "      <td>-0.039949</td>\n",
              "      <td>0.156872</td>\n",
              "      <td>0.209861</td>\n",
              "      <td>89.249364</td>\n",
              "    </tr>\n",
              "    <tr>\n",
              "      <th>51970</th>\n",
              "      <td>A5aEY</td>\n",
              "      <td>-0.180335</td>\n",
              "      <td>0.935548</td>\n",
              "      <td>-2.094773</td>\n",
              "      <td>33.020205</td>\n",
              "    </tr>\n",
              "  </tbody>\n",
              "</table>\n",
              "</div>\n",
              "      <button class=\"colab-df-convert\" onclick=\"convertToInteractive('df-bf51a5fc-6ead-48a4-bc72-25f9432b4573')\"\n",
              "              title=\"Convert this dataframe to an interactive table.\"\n",
              "              style=\"display:none;\">\n",
              "        \n",
              "  <svg xmlns=\"http://www.w3.org/2000/svg\" height=\"24px\"viewBox=\"0 0 24 24\"\n",
              "       width=\"24px\">\n",
              "    <path d=\"M0 0h24v24H0V0z\" fill=\"none\"/>\n",
              "    <path d=\"M18.56 5.44l.94 2.06.94-2.06 2.06-.94-2.06-.94-.94-2.06-.94 2.06-2.06.94zm-11 1L8.5 8.5l.94-2.06 2.06-.94-2.06-.94L8.5 2.5l-.94 2.06-2.06.94zm10 10l.94 2.06.94-2.06 2.06-.94-2.06-.94-.94-2.06-.94 2.06-2.06.94z\"/><path d=\"M17.41 7.96l-1.37-1.37c-.4-.4-.92-.59-1.43-.59-.52 0-1.04.2-1.43.59L10.3 9.45l-7.72 7.72c-.78.78-.78 2.05 0 2.83L4 21.41c.39.39.9.59 1.41.59.51 0 1.02-.2 1.41-.59l7.78-7.78 2.81-2.81c.8-.78.8-2.07 0-2.86zM5.41 20L4 18.59l7.72-7.72 1.47 1.35L5.41 20z\"/>\n",
              "  </svg>\n",
              "      </button>\n",
              "      \n",
              "  <style>\n",
              "    .colab-df-container {\n",
              "      display:flex;\n",
              "      flex-wrap:wrap;\n",
              "      gap: 12px;\n",
              "    }\n",
              "\n",
              "    .colab-df-convert {\n",
              "      background-color: #E8F0FE;\n",
              "      border: none;\n",
              "      border-radius: 50%;\n",
              "      cursor: pointer;\n",
              "      display: none;\n",
              "      fill: #1967D2;\n",
              "      height: 32px;\n",
              "      padding: 0 0 0 0;\n",
              "      width: 32px;\n",
              "    }\n",
              "\n",
              "    .colab-df-convert:hover {\n",
              "      background-color: #E2EBFA;\n",
              "      box-shadow: 0px 1px 2px rgba(60, 64, 67, 0.3), 0px 1px 3px 1px rgba(60, 64, 67, 0.15);\n",
              "      fill: #174EA6;\n",
              "    }\n",
              "\n",
              "    [theme=dark] .colab-df-convert {\n",
              "      background-color: #3B4455;\n",
              "      fill: #D2E3FC;\n",
              "    }\n",
              "\n",
              "    [theme=dark] .colab-df-convert:hover {\n",
              "      background-color: #434B5C;\n",
              "      box-shadow: 0px 1px 3px 1px rgba(0, 0, 0, 0.15);\n",
              "      filter: drop-shadow(0px 1px 2px rgba(0, 0, 0, 0.3));\n",
              "      fill: #FFFFFF;\n",
              "    }\n",
              "  </style>\n",
              "\n",
              "      <script>\n",
              "        const buttonEl =\n",
              "          document.querySelector('#df-bf51a5fc-6ead-48a4-bc72-25f9432b4573 button.colab-df-convert');\n",
              "        buttonEl.style.display =\n",
              "          google.colab.kernel.accessAllowed ? 'block' : 'none';\n",
              "\n",
              "        async function convertToInteractive(key) {\n",
              "          const element = document.querySelector('#df-bf51a5fc-6ead-48a4-bc72-25f9432b4573');\n",
              "          const dataTable =\n",
              "            await google.colab.kernel.invokeFunction('convertToInteractive',\n",
              "                                                     [key], {});\n",
              "          if (!dataTable) return;\n",
              "\n",
              "          const docLinkHtml = 'Like what you see? Visit the ' +\n",
              "            '<a target=\"_blank\" href=https://colab.research.google.com/notebooks/data_table.ipynb>data table notebook</a>'\n",
              "            + ' to learn more about interactive tables.';\n",
              "          element.innerHTML = '';\n",
              "          dataTable['output_type'] = 'display_data';\n",
              "          await google.colab.output.renderOutput(dataTable, element);\n",
              "          const docLink = document.createElement('div');\n",
              "          docLink.innerHTML = docLinkHtml;\n",
              "          element.appendChild(docLink);\n",
              "        }\n",
              "      </script>\n",
              "    </div>\n",
              "  </div>\n",
              "  "
            ]
          },
          "metadata": {}
        },
        {
          "output_type": "display_data",
          "data": {
            "text/plain": [
              "          id        f0        f1        f2        oil\n",
              "1949   QcMuo  0.506563 -0.323775 -2.215583  75.496502\n",
              "63593  QcMuo  0.635635 -0.473422  0.862670  64.578675"
            ],
            "text/html": [
              "\n",
              "  <div id=\"df-73fb0824-37af-494a-8496-a21e63d273b9\">\n",
              "    <div class=\"colab-df-container\">\n",
              "      <div>\n",
              "<style scoped>\n",
              "    .dataframe tbody tr th:only-of-type {\n",
              "        vertical-align: middle;\n",
              "    }\n",
              "\n",
              "    .dataframe tbody tr th {\n",
              "        vertical-align: top;\n",
              "    }\n",
              "\n",
              "    .dataframe thead th {\n",
              "        text-align: right;\n",
              "    }\n",
              "</style>\n",
              "<table border=\"1\" class=\"dataframe\">\n",
              "  <thead>\n",
              "    <tr style=\"text-align: right;\">\n",
              "      <th></th>\n",
              "      <th>id</th>\n",
              "      <th>f0</th>\n",
              "      <th>f1</th>\n",
              "      <th>f2</th>\n",
              "      <th>oil</th>\n",
              "    </tr>\n",
              "  </thead>\n",
              "  <tbody>\n",
              "    <tr>\n",
              "      <th>1949</th>\n",
              "      <td>QcMuo</td>\n",
              "      <td>0.506563</td>\n",
              "      <td>-0.323775</td>\n",
              "      <td>-2.215583</td>\n",
              "      <td>75.496502</td>\n",
              "    </tr>\n",
              "    <tr>\n",
              "      <th>63593</th>\n",
              "      <td>QcMuo</td>\n",
              "      <td>0.635635</td>\n",
              "      <td>-0.473422</td>\n",
              "      <td>0.862670</td>\n",
              "      <td>64.578675</td>\n",
              "    </tr>\n",
              "  </tbody>\n",
              "</table>\n",
              "</div>\n",
              "      <button class=\"colab-df-convert\" onclick=\"convertToInteractive('df-73fb0824-37af-494a-8496-a21e63d273b9')\"\n",
              "              title=\"Convert this dataframe to an interactive table.\"\n",
              "              style=\"display:none;\">\n",
              "        \n",
              "  <svg xmlns=\"http://www.w3.org/2000/svg\" height=\"24px\"viewBox=\"0 0 24 24\"\n",
              "       width=\"24px\">\n",
              "    <path d=\"M0 0h24v24H0V0z\" fill=\"none\"/>\n",
              "    <path d=\"M18.56 5.44l.94 2.06.94-2.06 2.06-.94-2.06-.94-.94-2.06-.94 2.06-2.06.94zm-11 1L8.5 8.5l.94-2.06 2.06-.94-2.06-.94L8.5 2.5l-.94 2.06-2.06.94zm10 10l.94 2.06.94-2.06 2.06-.94-2.06-.94-.94-2.06-.94 2.06-2.06.94z\"/><path d=\"M17.41 7.96l-1.37-1.37c-.4-.4-.92-.59-1.43-.59-.52 0-1.04.2-1.43.59L10.3 9.45l-7.72 7.72c-.78.78-.78 2.05 0 2.83L4 21.41c.39.39.9.59 1.41.59.51 0 1.02-.2 1.41-.59l7.78-7.78 2.81-2.81c.8-.78.8-2.07 0-2.86zM5.41 20L4 18.59l7.72-7.72 1.47 1.35L5.41 20z\"/>\n",
              "  </svg>\n",
              "      </button>\n",
              "      \n",
              "  <style>\n",
              "    .colab-df-container {\n",
              "      display:flex;\n",
              "      flex-wrap:wrap;\n",
              "      gap: 12px;\n",
              "    }\n",
              "\n",
              "    .colab-df-convert {\n",
              "      background-color: #E8F0FE;\n",
              "      border: none;\n",
              "      border-radius: 50%;\n",
              "      cursor: pointer;\n",
              "      display: none;\n",
              "      fill: #1967D2;\n",
              "      height: 32px;\n",
              "      padding: 0 0 0 0;\n",
              "      width: 32px;\n",
              "    }\n",
              "\n",
              "    .colab-df-convert:hover {\n",
              "      background-color: #E2EBFA;\n",
              "      box-shadow: 0px 1px 2px rgba(60, 64, 67, 0.3), 0px 1px 3px 1px rgba(60, 64, 67, 0.15);\n",
              "      fill: #174EA6;\n",
              "    }\n",
              "\n",
              "    [theme=dark] .colab-df-convert {\n",
              "      background-color: #3B4455;\n",
              "      fill: #D2E3FC;\n",
              "    }\n",
              "\n",
              "    [theme=dark] .colab-df-convert:hover {\n",
              "      background-color: #434B5C;\n",
              "      box-shadow: 0px 1px 3px 1px rgba(0, 0, 0, 0.15);\n",
              "      filter: drop-shadow(0px 1px 2px rgba(0, 0, 0, 0.3));\n",
              "      fill: #FFFFFF;\n",
              "    }\n",
              "  </style>\n",
              "\n",
              "      <script>\n",
              "        const buttonEl =\n",
              "          document.querySelector('#df-73fb0824-37af-494a-8496-a21e63d273b9 button.colab-df-convert');\n",
              "        buttonEl.style.display =\n",
              "          google.colab.kernel.accessAllowed ? 'block' : 'none';\n",
              "\n",
              "        async function convertToInteractive(key) {\n",
              "          const element = document.querySelector('#df-73fb0824-37af-494a-8496-a21e63d273b9');\n",
              "          const dataTable =\n",
              "            await google.colab.kernel.invokeFunction('convertToInteractive',\n",
              "                                                     [key], {});\n",
              "          if (!dataTable) return;\n",
              "\n",
              "          const docLinkHtml = 'Like what you see? Visit the ' +\n",
              "            '<a target=\"_blank\" href=https://colab.research.google.com/notebooks/data_table.ipynb>data table notebook</a>'\n",
              "            + ' to learn more about interactive tables.';\n",
              "          element.innerHTML = '';\n",
              "          dataTable['output_type'] = 'display_data';\n",
              "          await google.colab.output.renderOutput(dataTable, element);\n",
              "          const docLink = document.createElement('div');\n",
              "          docLink.innerHTML = docLinkHtml;\n",
              "          element.appendChild(docLink);\n",
              "        }\n",
              "      </script>\n",
              "    </div>\n",
              "  </div>\n",
              "  "
            ]
          },
          "metadata": {}
        },
        {
          "output_type": "display_data",
          "data": {
            "text/plain": [
              "          id        f0        f1        f2         oil\n",
              "64022  74z30  0.741456  0.459229  5.153109  140.771492\n",
              "66136  74z30  1.084962 -0.312358  6.990771  127.643327"
            ],
            "text/html": [
              "\n",
              "  <div id=\"df-360c71c8-7abb-4743-8902-3eb5fc70fcab\">\n",
              "    <div class=\"colab-df-container\">\n",
              "      <div>\n",
              "<style scoped>\n",
              "    .dataframe tbody tr th:only-of-type {\n",
              "        vertical-align: middle;\n",
              "    }\n",
              "\n",
              "    .dataframe tbody tr th {\n",
              "        vertical-align: top;\n",
              "    }\n",
              "\n",
              "    .dataframe thead th {\n",
              "        text-align: right;\n",
              "    }\n",
              "</style>\n",
              "<table border=\"1\" class=\"dataframe\">\n",
              "  <thead>\n",
              "    <tr style=\"text-align: right;\">\n",
              "      <th></th>\n",
              "      <th>id</th>\n",
              "      <th>f0</th>\n",
              "      <th>f1</th>\n",
              "      <th>f2</th>\n",
              "      <th>oil</th>\n",
              "    </tr>\n",
              "  </thead>\n",
              "  <tbody>\n",
              "    <tr>\n",
              "      <th>64022</th>\n",
              "      <td>74z30</td>\n",
              "      <td>0.741456</td>\n",
              "      <td>0.459229</td>\n",
              "      <td>5.153109</td>\n",
              "      <td>140.771492</td>\n",
              "    </tr>\n",
              "    <tr>\n",
              "      <th>66136</th>\n",
              "      <td>74z30</td>\n",
              "      <td>1.084962</td>\n",
              "      <td>-0.312358</td>\n",
              "      <td>6.990771</td>\n",
              "      <td>127.643327</td>\n",
              "    </tr>\n",
              "  </tbody>\n",
              "</table>\n",
              "</div>\n",
              "      <button class=\"colab-df-convert\" onclick=\"convertToInteractive('df-360c71c8-7abb-4743-8902-3eb5fc70fcab')\"\n",
              "              title=\"Convert this dataframe to an interactive table.\"\n",
              "              style=\"display:none;\">\n",
              "        \n",
              "  <svg xmlns=\"http://www.w3.org/2000/svg\" height=\"24px\"viewBox=\"0 0 24 24\"\n",
              "       width=\"24px\">\n",
              "    <path d=\"M0 0h24v24H0V0z\" fill=\"none\"/>\n",
              "    <path d=\"M18.56 5.44l.94 2.06.94-2.06 2.06-.94-2.06-.94-.94-2.06-.94 2.06-2.06.94zm-11 1L8.5 8.5l.94-2.06 2.06-.94-2.06-.94L8.5 2.5l-.94 2.06-2.06.94zm10 10l.94 2.06.94-2.06 2.06-.94-2.06-.94-.94-2.06-.94 2.06-2.06.94z\"/><path d=\"M17.41 7.96l-1.37-1.37c-.4-.4-.92-.59-1.43-.59-.52 0-1.04.2-1.43.59L10.3 9.45l-7.72 7.72c-.78.78-.78 2.05 0 2.83L4 21.41c.39.39.9.59 1.41.59.51 0 1.02-.2 1.41-.59l7.78-7.78 2.81-2.81c.8-.78.8-2.07 0-2.86zM5.41 20L4 18.59l7.72-7.72 1.47 1.35L5.41 20z\"/>\n",
              "  </svg>\n",
              "      </button>\n",
              "      \n",
              "  <style>\n",
              "    .colab-df-container {\n",
              "      display:flex;\n",
              "      flex-wrap:wrap;\n",
              "      gap: 12px;\n",
              "    }\n",
              "\n",
              "    .colab-df-convert {\n",
              "      background-color: #E8F0FE;\n",
              "      border: none;\n",
              "      border-radius: 50%;\n",
              "      cursor: pointer;\n",
              "      display: none;\n",
              "      fill: #1967D2;\n",
              "      height: 32px;\n",
              "      padding: 0 0 0 0;\n",
              "      width: 32px;\n",
              "    }\n",
              "\n",
              "    .colab-df-convert:hover {\n",
              "      background-color: #E2EBFA;\n",
              "      box-shadow: 0px 1px 2px rgba(60, 64, 67, 0.3), 0px 1px 3px 1px rgba(60, 64, 67, 0.15);\n",
              "      fill: #174EA6;\n",
              "    }\n",
              "\n",
              "    [theme=dark] .colab-df-convert {\n",
              "      background-color: #3B4455;\n",
              "      fill: #D2E3FC;\n",
              "    }\n",
              "\n",
              "    [theme=dark] .colab-df-convert:hover {\n",
              "      background-color: #434B5C;\n",
              "      box-shadow: 0px 1px 3px 1px rgba(0, 0, 0, 0.15);\n",
              "      filter: drop-shadow(0px 1px 2px rgba(0, 0, 0, 0.3));\n",
              "      fill: #FFFFFF;\n",
              "    }\n",
              "  </style>\n",
              "\n",
              "      <script>\n",
              "        const buttonEl =\n",
              "          document.querySelector('#df-360c71c8-7abb-4743-8902-3eb5fc70fcab button.colab-df-convert');\n",
              "        buttonEl.style.display =\n",
              "          google.colab.kernel.accessAllowed ? 'block' : 'none';\n",
              "\n",
              "        async function convertToInteractive(key) {\n",
              "          const element = document.querySelector('#df-360c71c8-7abb-4743-8902-3eb5fc70fcab');\n",
              "          const dataTable =\n",
              "            await google.colab.kernel.invokeFunction('convertToInteractive',\n",
              "                                                     [key], {});\n",
              "          if (!dataTable) return;\n",
              "\n",
              "          const docLinkHtml = 'Like what you see? Visit the ' +\n",
              "            '<a target=\"_blank\" href=https://colab.research.google.com/notebooks/data_table.ipynb>data table notebook</a>'\n",
              "            + ' to learn more about interactive tables.';\n",
              "          element.innerHTML = '';\n",
              "          dataTable['output_type'] = 'display_data';\n",
              "          await google.colab.output.renderOutput(dataTable, element);\n",
              "          const docLink = document.createElement('div');\n",
              "          docLink.innerHTML = docLinkHtml;\n",
              "          element.appendChild(docLink);\n",
              "        }\n",
              "      </script>\n",
              "    </div>\n",
              "  </div>\n",
              "  "
            ]
          },
          "metadata": {}
        },
        {
          "output_type": "display_data",
          "data": {
            "text/plain": [
              "          id        f0        f1        f2         oil\n",
              "42529  AGS9W  1.454747 -0.479651  0.683380  126.370504\n",
              "69163  AGS9W -0.933795  0.116194 -3.655896   19.230453"
            ],
            "text/html": [
              "\n",
              "  <div id=\"df-5043aef2-bfa0-4daa-b280-b34c767bbf8e\">\n",
              "    <div class=\"colab-df-container\">\n",
              "      <div>\n",
              "<style scoped>\n",
              "    .dataframe tbody tr th:only-of-type {\n",
              "        vertical-align: middle;\n",
              "    }\n",
              "\n",
              "    .dataframe tbody tr th {\n",
              "        vertical-align: top;\n",
              "    }\n",
              "\n",
              "    .dataframe thead th {\n",
              "        text-align: right;\n",
              "    }\n",
              "</style>\n",
              "<table border=\"1\" class=\"dataframe\">\n",
              "  <thead>\n",
              "    <tr style=\"text-align: right;\">\n",
              "      <th></th>\n",
              "      <th>id</th>\n",
              "      <th>f0</th>\n",
              "      <th>f1</th>\n",
              "      <th>f2</th>\n",
              "      <th>oil</th>\n",
              "    </tr>\n",
              "  </thead>\n",
              "  <tbody>\n",
              "    <tr>\n",
              "      <th>42529</th>\n",
              "      <td>AGS9W</td>\n",
              "      <td>1.454747</td>\n",
              "      <td>-0.479651</td>\n",
              "      <td>0.683380</td>\n",
              "      <td>126.370504</td>\n",
              "    </tr>\n",
              "    <tr>\n",
              "      <th>69163</th>\n",
              "      <td>AGS9W</td>\n",
              "      <td>-0.933795</td>\n",
              "      <td>0.116194</td>\n",
              "      <td>-3.655896</td>\n",
              "      <td>19.230453</td>\n",
              "    </tr>\n",
              "  </tbody>\n",
              "</table>\n",
              "</div>\n",
              "      <button class=\"colab-df-convert\" onclick=\"convertToInteractive('df-5043aef2-bfa0-4daa-b280-b34c767bbf8e')\"\n",
              "              title=\"Convert this dataframe to an interactive table.\"\n",
              "              style=\"display:none;\">\n",
              "        \n",
              "  <svg xmlns=\"http://www.w3.org/2000/svg\" height=\"24px\"viewBox=\"0 0 24 24\"\n",
              "       width=\"24px\">\n",
              "    <path d=\"M0 0h24v24H0V0z\" fill=\"none\"/>\n",
              "    <path d=\"M18.56 5.44l.94 2.06.94-2.06 2.06-.94-2.06-.94-.94-2.06-.94 2.06-2.06.94zm-11 1L8.5 8.5l.94-2.06 2.06-.94-2.06-.94L8.5 2.5l-.94 2.06-2.06.94zm10 10l.94 2.06.94-2.06 2.06-.94-2.06-.94-.94-2.06-.94 2.06-2.06.94z\"/><path d=\"M17.41 7.96l-1.37-1.37c-.4-.4-.92-.59-1.43-.59-.52 0-1.04.2-1.43.59L10.3 9.45l-7.72 7.72c-.78.78-.78 2.05 0 2.83L4 21.41c.39.39.9.59 1.41.59.51 0 1.02-.2 1.41-.59l7.78-7.78 2.81-2.81c.8-.78.8-2.07 0-2.86zM5.41 20L4 18.59l7.72-7.72 1.47 1.35L5.41 20z\"/>\n",
              "  </svg>\n",
              "      </button>\n",
              "      \n",
              "  <style>\n",
              "    .colab-df-container {\n",
              "      display:flex;\n",
              "      flex-wrap:wrap;\n",
              "      gap: 12px;\n",
              "    }\n",
              "\n",
              "    .colab-df-convert {\n",
              "      background-color: #E8F0FE;\n",
              "      border: none;\n",
              "      border-radius: 50%;\n",
              "      cursor: pointer;\n",
              "      display: none;\n",
              "      fill: #1967D2;\n",
              "      height: 32px;\n",
              "      padding: 0 0 0 0;\n",
              "      width: 32px;\n",
              "    }\n",
              "\n",
              "    .colab-df-convert:hover {\n",
              "      background-color: #E2EBFA;\n",
              "      box-shadow: 0px 1px 2px rgba(60, 64, 67, 0.3), 0px 1px 3px 1px rgba(60, 64, 67, 0.15);\n",
              "      fill: #174EA6;\n",
              "    }\n",
              "\n",
              "    [theme=dark] .colab-df-convert {\n",
              "      background-color: #3B4455;\n",
              "      fill: #D2E3FC;\n",
              "    }\n",
              "\n",
              "    [theme=dark] .colab-df-convert:hover {\n",
              "      background-color: #434B5C;\n",
              "      box-shadow: 0px 1px 3px 1px rgba(0, 0, 0, 0.15);\n",
              "      filter: drop-shadow(0px 1px 2px rgba(0, 0, 0, 0.3));\n",
              "      fill: #FFFFFF;\n",
              "    }\n",
              "  </style>\n",
              "\n",
              "      <script>\n",
              "        const buttonEl =\n",
              "          document.querySelector('#df-5043aef2-bfa0-4daa-b280-b34c767bbf8e button.colab-df-convert');\n",
              "        buttonEl.style.display =\n",
              "          google.colab.kernel.accessAllowed ? 'block' : 'none';\n",
              "\n",
              "        async function convertToInteractive(key) {\n",
              "          const element = document.querySelector('#df-5043aef2-bfa0-4daa-b280-b34c767bbf8e');\n",
              "          const dataTable =\n",
              "            await google.colab.kernel.invokeFunction('convertToInteractive',\n",
              "                                                     [key], {});\n",
              "          if (!dataTable) return;\n",
              "\n",
              "          const docLinkHtml = 'Like what you see? Visit the ' +\n",
              "            '<a target=\"_blank\" href=https://colab.research.google.com/notebooks/data_table.ipynb>data table notebook</a>'\n",
              "            + ' to learn more about interactive tables.';\n",
              "          element.innerHTML = '';\n",
              "          dataTable['output_type'] = 'display_data';\n",
              "          await google.colab.output.renderOutput(dataTable, element);\n",
              "          const docLink = document.createElement('div');\n",
              "          docLink.innerHTML = docLinkHtml;\n",
              "          element.appendChild(docLink);\n",
              "        }\n",
              "      </script>\n",
              "    </div>\n",
              "  </div>\n",
              "  "
            ]
          },
          "metadata": {}
        },
        {
          "output_type": "display_data",
          "data": {
            "text/plain": [
              "          id        f0        f1        f2        oil\n",
              "21426  Tdehs  0.829407  0.298807 -0.049563  96.035308\n",
              "75715  Tdehs  0.112079  0.430296  3.218993  60.964018"
            ],
            "text/html": [
              "\n",
              "  <div id=\"df-76df0fdb-0114-457c-bffb-b336299f2592\">\n",
              "    <div class=\"colab-df-container\">\n",
              "      <div>\n",
              "<style scoped>\n",
              "    .dataframe tbody tr th:only-of-type {\n",
              "        vertical-align: middle;\n",
              "    }\n",
              "\n",
              "    .dataframe tbody tr th {\n",
              "        vertical-align: top;\n",
              "    }\n",
              "\n",
              "    .dataframe thead th {\n",
              "        text-align: right;\n",
              "    }\n",
              "</style>\n",
              "<table border=\"1\" class=\"dataframe\">\n",
              "  <thead>\n",
              "    <tr style=\"text-align: right;\">\n",
              "      <th></th>\n",
              "      <th>id</th>\n",
              "      <th>f0</th>\n",
              "      <th>f1</th>\n",
              "      <th>f2</th>\n",
              "      <th>oil</th>\n",
              "    </tr>\n",
              "  </thead>\n",
              "  <tbody>\n",
              "    <tr>\n",
              "      <th>21426</th>\n",
              "      <td>Tdehs</td>\n",
              "      <td>0.829407</td>\n",
              "      <td>0.298807</td>\n",
              "      <td>-0.049563</td>\n",
              "      <td>96.035308</td>\n",
              "    </tr>\n",
              "    <tr>\n",
              "      <th>75715</th>\n",
              "      <td>Tdehs</td>\n",
              "      <td>0.112079</td>\n",
              "      <td>0.430296</td>\n",
              "      <td>3.218993</td>\n",
              "      <td>60.964018</td>\n",
              "    </tr>\n",
              "  </tbody>\n",
              "</table>\n",
              "</div>\n",
              "      <button class=\"colab-df-convert\" onclick=\"convertToInteractive('df-76df0fdb-0114-457c-bffb-b336299f2592')\"\n",
              "              title=\"Convert this dataframe to an interactive table.\"\n",
              "              style=\"display:none;\">\n",
              "        \n",
              "  <svg xmlns=\"http://www.w3.org/2000/svg\" height=\"24px\"viewBox=\"0 0 24 24\"\n",
              "       width=\"24px\">\n",
              "    <path d=\"M0 0h24v24H0V0z\" fill=\"none\"/>\n",
              "    <path d=\"M18.56 5.44l.94 2.06.94-2.06 2.06-.94-2.06-.94-.94-2.06-.94 2.06-2.06.94zm-11 1L8.5 8.5l.94-2.06 2.06-.94-2.06-.94L8.5 2.5l-.94 2.06-2.06.94zm10 10l.94 2.06.94-2.06 2.06-.94-2.06-.94-.94-2.06-.94 2.06-2.06.94z\"/><path d=\"M17.41 7.96l-1.37-1.37c-.4-.4-.92-.59-1.43-.59-.52 0-1.04.2-1.43.59L10.3 9.45l-7.72 7.72c-.78.78-.78 2.05 0 2.83L4 21.41c.39.39.9.59 1.41.59.51 0 1.02-.2 1.41-.59l7.78-7.78 2.81-2.81c.8-.78.8-2.07 0-2.86zM5.41 20L4 18.59l7.72-7.72 1.47 1.35L5.41 20z\"/>\n",
              "  </svg>\n",
              "      </button>\n",
              "      \n",
              "  <style>\n",
              "    .colab-df-container {\n",
              "      display:flex;\n",
              "      flex-wrap:wrap;\n",
              "      gap: 12px;\n",
              "    }\n",
              "\n",
              "    .colab-df-convert {\n",
              "      background-color: #E8F0FE;\n",
              "      border: none;\n",
              "      border-radius: 50%;\n",
              "      cursor: pointer;\n",
              "      display: none;\n",
              "      fill: #1967D2;\n",
              "      height: 32px;\n",
              "      padding: 0 0 0 0;\n",
              "      width: 32px;\n",
              "    }\n",
              "\n",
              "    .colab-df-convert:hover {\n",
              "      background-color: #E2EBFA;\n",
              "      box-shadow: 0px 1px 2px rgba(60, 64, 67, 0.3), 0px 1px 3px 1px rgba(60, 64, 67, 0.15);\n",
              "      fill: #174EA6;\n",
              "    }\n",
              "\n",
              "    [theme=dark] .colab-df-convert {\n",
              "      background-color: #3B4455;\n",
              "      fill: #D2E3FC;\n",
              "    }\n",
              "\n",
              "    [theme=dark] .colab-df-convert:hover {\n",
              "      background-color: #434B5C;\n",
              "      box-shadow: 0px 1px 3px 1px rgba(0, 0, 0, 0.15);\n",
              "      filter: drop-shadow(0px 1px 2px rgba(0, 0, 0, 0.3));\n",
              "      fill: #FFFFFF;\n",
              "    }\n",
              "  </style>\n",
              "\n",
              "      <script>\n",
              "        const buttonEl =\n",
              "          document.querySelector('#df-76df0fdb-0114-457c-bffb-b336299f2592 button.colab-df-convert');\n",
              "        buttonEl.style.display =\n",
              "          google.colab.kernel.accessAllowed ? 'block' : 'none';\n",
              "\n",
              "        async function convertToInteractive(key) {\n",
              "          const element = document.querySelector('#df-76df0fdb-0114-457c-bffb-b336299f2592');\n",
              "          const dataTable =\n",
              "            await google.colab.kernel.invokeFunction('convertToInteractive',\n",
              "                                                     [key], {});\n",
              "          if (!dataTable) return;\n",
              "\n",
              "          const docLinkHtml = 'Like what you see? Visit the ' +\n",
              "            '<a target=\"_blank\" href=https://colab.research.google.com/notebooks/data_table.ipynb>data table notebook</a>'\n",
              "            + ' to learn more about interactive tables.';\n",
              "          element.innerHTML = '';\n",
              "          dataTable['output_type'] = 'display_data';\n",
              "          await google.colab.output.renderOutput(dataTable, element);\n",
              "          const docLink = document.createElement('div');\n",
              "          docLink.innerHTML = docLinkHtml;\n",
              "          element.appendChild(docLink);\n",
              "        }\n",
              "      </script>\n",
              "    </div>\n",
              "  </div>\n",
              "  "
            ]
          },
          "metadata": {}
        },
        {
          "output_type": "display_data",
          "data": {
            "text/plain": [
              "          id        f0        f1        f2         oil\n",
              "16633  fiKDv  0.157341  1.028359  5.585586   95.817889\n",
              "90815  fiKDv  0.049883  0.841313  6.394613  137.346586"
            ],
            "text/html": [
              "\n",
              "  <div id=\"df-022463f0-cc77-407f-b4d3-c91e5271d198\">\n",
              "    <div class=\"colab-df-container\">\n",
              "      <div>\n",
              "<style scoped>\n",
              "    .dataframe tbody tr th:only-of-type {\n",
              "        vertical-align: middle;\n",
              "    }\n",
              "\n",
              "    .dataframe tbody tr th {\n",
              "        vertical-align: top;\n",
              "    }\n",
              "\n",
              "    .dataframe thead th {\n",
              "        text-align: right;\n",
              "    }\n",
              "</style>\n",
              "<table border=\"1\" class=\"dataframe\">\n",
              "  <thead>\n",
              "    <tr style=\"text-align: right;\">\n",
              "      <th></th>\n",
              "      <th>id</th>\n",
              "      <th>f0</th>\n",
              "      <th>f1</th>\n",
              "      <th>f2</th>\n",
              "      <th>oil</th>\n",
              "    </tr>\n",
              "  </thead>\n",
              "  <tbody>\n",
              "    <tr>\n",
              "      <th>16633</th>\n",
              "      <td>fiKDv</td>\n",
              "      <td>0.157341</td>\n",
              "      <td>1.028359</td>\n",
              "      <td>5.585586</td>\n",
              "      <td>95.817889</td>\n",
              "    </tr>\n",
              "    <tr>\n",
              "      <th>90815</th>\n",
              "      <td>fiKDv</td>\n",
              "      <td>0.049883</td>\n",
              "      <td>0.841313</td>\n",
              "      <td>6.394613</td>\n",
              "      <td>137.346586</td>\n",
              "    </tr>\n",
              "  </tbody>\n",
              "</table>\n",
              "</div>\n",
              "      <button class=\"colab-df-convert\" onclick=\"convertToInteractive('df-022463f0-cc77-407f-b4d3-c91e5271d198')\"\n",
              "              title=\"Convert this dataframe to an interactive table.\"\n",
              "              style=\"display:none;\">\n",
              "        \n",
              "  <svg xmlns=\"http://www.w3.org/2000/svg\" height=\"24px\"viewBox=\"0 0 24 24\"\n",
              "       width=\"24px\">\n",
              "    <path d=\"M0 0h24v24H0V0z\" fill=\"none\"/>\n",
              "    <path d=\"M18.56 5.44l.94 2.06.94-2.06 2.06-.94-2.06-.94-.94-2.06-.94 2.06-2.06.94zm-11 1L8.5 8.5l.94-2.06 2.06-.94-2.06-.94L8.5 2.5l-.94 2.06-2.06.94zm10 10l.94 2.06.94-2.06 2.06-.94-2.06-.94-.94-2.06-.94 2.06-2.06.94z\"/><path d=\"M17.41 7.96l-1.37-1.37c-.4-.4-.92-.59-1.43-.59-.52 0-1.04.2-1.43.59L10.3 9.45l-7.72 7.72c-.78.78-.78 2.05 0 2.83L4 21.41c.39.39.9.59 1.41.59.51 0 1.02-.2 1.41-.59l7.78-7.78 2.81-2.81c.8-.78.8-2.07 0-2.86zM5.41 20L4 18.59l7.72-7.72 1.47 1.35L5.41 20z\"/>\n",
              "  </svg>\n",
              "      </button>\n",
              "      \n",
              "  <style>\n",
              "    .colab-df-container {\n",
              "      display:flex;\n",
              "      flex-wrap:wrap;\n",
              "      gap: 12px;\n",
              "    }\n",
              "\n",
              "    .colab-df-convert {\n",
              "      background-color: #E8F0FE;\n",
              "      border: none;\n",
              "      border-radius: 50%;\n",
              "      cursor: pointer;\n",
              "      display: none;\n",
              "      fill: #1967D2;\n",
              "      height: 32px;\n",
              "      padding: 0 0 0 0;\n",
              "      width: 32px;\n",
              "    }\n",
              "\n",
              "    .colab-df-convert:hover {\n",
              "      background-color: #E2EBFA;\n",
              "      box-shadow: 0px 1px 2px rgba(60, 64, 67, 0.3), 0px 1px 3px 1px rgba(60, 64, 67, 0.15);\n",
              "      fill: #174EA6;\n",
              "    }\n",
              "\n",
              "    [theme=dark] .colab-df-convert {\n",
              "      background-color: #3B4455;\n",
              "      fill: #D2E3FC;\n",
              "    }\n",
              "\n",
              "    [theme=dark] .colab-df-convert:hover {\n",
              "      background-color: #434B5C;\n",
              "      box-shadow: 0px 1px 3px 1px rgba(0, 0, 0, 0.15);\n",
              "      filter: drop-shadow(0px 1px 2px rgba(0, 0, 0, 0.3));\n",
              "      fill: #FFFFFF;\n",
              "    }\n",
              "  </style>\n",
              "\n",
              "      <script>\n",
              "        const buttonEl =\n",
              "          document.querySelector('#df-022463f0-cc77-407f-b4d3-c91e5271d198 button.colab-df-convert');\n",
              "        buttonEl.style.display =\n",
              "          google.colab.kernel.accessAllowed ? 'block' : 'none';\n",
              "\n",
              "        async function convertToInteractive(key) {\n",
              "          const element = document.querySelector('#df-022463f0-cc77-407f-b4d3-c91e5271d198');\n",
              "          const dataTable =\n",
              "            await google.colab.kernel.invokeFunction('convertToInteractive',\n",
              "                                                     [key], {});\n",
              "          if (!dataTable) return;\n",
              "\n",
              "          const docLinkHtml = 'Like what you see? Visit the ' +\n",
              "            '<a target=\"_blank\" href=https://colab.research.google.com/notebooks/data_table.ipynb>data table notebook</a>'\n",
              "            + ' to learn more about interactive tables.';\n",
              "          element.innerHTML = '';\n",
              "          dataTable['output_type'] = 'display_data';\n",
              "          await google.colab.output.renderOutput(dataTable, element);\n",
              "          const docLink = document.createElement('div');\n",
              "          docLink.innerHTML = docLinkHtml;\n",
              "          element.appendChild(docLink);\n",
              "        }\n",
              "      </script>\n",
              "    </div>\n",
              "  </div>\n",
              "  "
            ]
          },
          "metadata": {}
        },
        {
          "output_type": "display_data",
          "data": {
            "text/plain": [
              "          id        f0        f1        f2         oil\n",
              "60140  TtcGQ  0.569276 -0.104876  6.440215   85.350186\n",
              "92341  TtcGQ  0.110711  1.022689  0.911381  101.318008"
            ],
            "text/html": [
              "\n",
              "  <div id=\"df-40f0d7dd-959e-40d2-b45a-01a3b27c98a3\">\n",
              "    <div class=\"colab-df-container\">\n",
              "      <div>\n",
              "<style scoped>\n",
              "    .dataframe tbody tr th:only-of-type {\n",
              "        vertical-align: middle;\n",
              "    }\n",
              "\n",
              "    .dataframe tbody tr th {\n",
              "        vertical-align: top;\n",
              "    }\n",
              "\n",
              "    .dataframe thead th {\n",
              "        text-align: right;\n",
              "    }\n",
              "</style>\n",
              "<table border=\"1\" class=\"dataframe\">\n",
              "  <thead>\n",
              "    <tr style=\"text-align: right;\">\n",
              "      <th></th>\n",
              "      <th>id</th>\n",
              "      <th>f0</th>\n",
              "      <th>f1</th>\n",
              "      <th>f2</th>\n",
              "      <th>oil</th>\n",
              "    </tr>\n",
              "  </thead>\n",
              "  <tbody>\n",
              "    <tr>\n",
              "      <th>60140</th>\n",
              "      <td>TtcGQ</td>\n",
              "      <td>0.569276</td>\n",
              "      <td>-0.104876</td>\n",
              "      <td>6.440215</td>\n",
              "      <td>85.350186</td>\n",
              "    </tr>\n",
              "    <tr>\n",
              "      <th>92341</th>\n",
              "      <td>TtcGQ</td>\n",
              "      <td>0.110711</td>\n",
              "      <td>1.022689</td>\n",
              "      <td>0.911381</td>\n",
              "      <td>101.318008</td>\n",
              "    </tr>\n",
              "  </tbody>\n",
              "</table>\n",
              "</div>\n",
              "      <button class=\"colab-df-convert\" onclick=\"convertToInteractive('df-40f0d7dd-959e-40d2-b45a-01a3b27c98a3')\"\n",
              "              title=\"Convert this dataframe to an interactive table.\"\n",
              "              style=\"display:none;\">\n",
              "        \n",
              "  <svg xmlns=\"http://www.w3.org/2000/svg\" height=\"24px\"viewBox=\"0 0 24 24\"\n",
              "       width=\"24px\">\n",
              "    <path d=\"M0 0h24v24H0V0z\" fill=\"none\"/>\n",
              "    <path d=\"M18.56 5.44l.94 2.06.94-2.06 2.06-.94-2.06-.94-.94-2.06-.94 2.06-2.06.94zm-11 1L8.5 8.5l.94-2.06 2.06-.94-2.06-.94L8.5 2.5l-.94 2.06-2.06.94zm10 10l.94 2.06.94-2.06 2.06-.94-2.06-.94-.94-2.06-.94 2.06-2.06.94z\"/><path d=\"M17.41 7.96l-1.37-1.37c-.4-.4-.92-.59-1.43-.59-.52 0-1.04.2-1.43.59L10.3 9.45l-7.72 7.72c-.78.78-.78 2.05 0 2.83L4 21.41c.39.39.9.59 1.41.59.51 0 1.02-.2 1.41-.59l7.78-7.78 2.81-2.81c.8-.78.8-2.07 0-2.86zM5.41 20L4 18.59l7.72-7.72 1.47 1.35L5.41 20z\"/>\n",
              "  </svg>\n",
              "      </button>\n",
              "      \n",
              "  <style>\n",
              "    .colab-df-container {\n",
              "      display:flex;\n",
              "      flex-wrap:wrap;\n",
              "      gap: 12px;\n",
              "    }\n",
              "\n",
              "    .colab-df-convert {\n",
              "      background-color: #E8F0FE;\n",
              "      border: none;\n",
              "      border-radius: 50%;\n",
              "      cursor: pointer;\n",
              "      display: none;\n",
              "      fill: #1967D2;\n",
              "      height: 32px;\n",
              "      padding: 0 0 0 0;\n",
              "      width: 32px;\n",
              "    }\n",
              "\n",
              "    .colab-df-convert:hover {\n",
              "      background-color: #E2EBFA;\n",
              "      box-shadow: 0px 1px 2px rgba(60, 64, 67, 0.3), 0px 1px 3px 1px rgba(60, 64, 67, 0.15);\n",
              "      fill: #174EA6;\n",
              "    }\n",
              "\n",
              "    [theme=dark] .colab-df-convert {\n",
              "      background-color: #3B4455;\n",
              "      fill: #D2E3FC;\n",
              "    }\n",
              "\n",
              "    [theme=dark] .colab-df-convert:hover {\n",
              "      background-color: #434B5C;\n",
              "      box-shadow: 0px 1px 3px 1px rgba(0, 0, 0, 0.15);\n",
              "      filter: drop-shadow(0px 1px 2px rgba(0, 0, 0, 0.3));\n",
              "      fill: #FFFFFF;\n",
              "    }\n",
              "  </style>\n",
              "\n",
              "      <script>\n",
              "        const buttonEl =\n",
              "          document.querySelector('#df-40f0d7dd-959e-40d2-b45a-01a3b27c98a3 button.colab-df-convert');\n",
              "        buttonEl.style.display =\n",
              "          google.colab.kernel.accessAllowed ? 'block' : 'none';\n",
              "\n",
              "        async function convertToInteractive(key) {\n",
              "          const element = document.querySelector('#df-40f0d7dd-959e-40d2-b45a-01a3b27c98a3');\n",
              "          const dataTable =\n",
              "            await google.colab.kernel.invokeFunction('convertToInteractive',\n",
              "                                                     [key], {});\n",
              "          if (!dataTable) return;\n",
              "\n",
              "          const docLinkHtml = 'Like what you see? Visit the ' +\n",
              "            '<a target=\"_blank\" href=https://colab.research.google.com/notebooks/data_table.ipynb>data table notebook</a>'\n",
              "            + ' to learn more about interactive tables.';\n",
              "          element.innerHTML = '';\n",
              "          dataTable['output_type'] = 'display_data';\n",
              "          await google.colab.output.renderOutput(dataTable, element);\n",
              "          const docLink = document.createElement('div');\n",
              "          docLink.innerHTML = docLinkHtml;\n",
              "          element.appendChild(docLink);\n",
              "        }\n",
              "      </script>\n",
              "    </div>\n",
              "  </div>\n",
              "  "
            ]
          },
          "metadata": {}
        },
        {
          "output_type": "display_data",
          "data": {
            "text/plain": [
              "          id        f0        f1         f2         oil\n",
              "89582  bsk9y  0.398908 -0.400253  10.122376  163.433078\n",
              "97785  bsk9y  0.378429  0.005837   0.160827  160.637302"
            ],
            "text/html": [
              "\n",
              "  <div id=\"df-f30de575-67e4-4b28-b33a-7fc3714c8cbd\">\n",
              "    <div class=\"colab-df-container\">\n",
              "      <div>\n",
              "<style scoped>\n",
              "    .dataframe tbody tr th:only-of-type {\n",
              "        vertical-align: middle;\n",
              "    }\n",
              "\n",
              "    .dataframe tbody tr th {\n",
              "        vertical-align: top;\n",
              "    }\n",
              "\n",
              "    .dataframe thead th {\n",
              "        text-align: right;\n",
              "    }\n",
              "</style>\n",
              "<table border=\"1\" class=\"dataframe\">\n",
              "  <thead>\n",
              "    <tr style=\"text-align: right;\">\n",
              "      <th></th>\n",
              "      <th>id</th>\n",
              "      <th>f0</th>\n",
              "      <th>f1</th>\n",
              "      <th>f2</th>\n",
              "      <th>oil</th>\n",
              "    </tr>\n",
              "  </thead>\n",
              "  <tbody>\n",
              "    <tr>\n",
              "      <th>89582</th>\n",
              "      <td>bsk9y</td>\n",
              "      <td>0.398908</td>\n",
              "      <td>-0.400253</td>\n",
              "      <td>10.122376</td>\n",
              "      <td>163.433078</td>\n",
              "    </tr>\n",
              "    <tr>\n",
              "      <th>97785</th>\n",
              "      <td>bsk9y</td>\n",
              "      <td>0.378429</td>\n",
              "      <td>0.005837</td>\n",
              "      <td>0.160827</td>\n",
              "      <td>160.637302</td>\n",
              "    </tr>\n",
              "  </tbody>\n",
              "</table>\n",
              "</div>\n",
              "      <button class=\"colab-df-convert\" onclick=\"convertToInteractive('df-f30de575-67e4-4b28-b33a-7fc3714c8cbd')\"\n",
              "              title=\"Convert this dataframe to an interactive table.\"\n",
              "              style=\"display:none;\">\n",
              "        \n",
              "  <svg xmlns=\"http://www.w3.org/2000/svg\" height=\"24px\"viewBox=\"0 0 24 24\"\n",
              "       width=\"24px\">\n",
              "    <path d=\"M0 0h24v24H0V0z\" fill=\"none\"/>\n",
              "    <path d=\"M18.56 5.44l.94 2.06.94-2.06 2.06-.94-2.06-.94-.94-2.06-.94 2.06-2.06.94zm-11 1L8.5 8.5l.94-2.06 2.06-.94-2.06-.94L8.5 2.5l-.94 2.06-2.06.94zm10 10l.94 2.06.94-2.06 2.06-.94-2.06-.94-.94-2.06-.94 2.06-2.06.94z\"/><path d=\"M17.41 7.96l-1.37-1.37c-.4-.4-.92-.59-1.43-.59-.52 0-1.04.2-1.43.59L10.3 9.45l-7.72 7.72c-.78.78-.78 2.05 0 2.83L4 21.41c.39.39.9.59 1.41.59.51 0 1.02-.2 1.41-.59l7.78-7.78 2.81-2.81c.8-.78.8-2.07 0-2.86zM5.41 20L4 18.59l7.72-7.72 1.47 1.35L5.41 20z\"/>\n",
              "  </svg>\n",
              "      </button>\n",
              "      \n",
              "  <style>\n",
              "    .colab-df-container {\n",
              "      display:flex;\n",
              "      flex-wrap:wrap;\n",
              "      gap: 12px;\n",
              "    }\n",
              "\n",
              "    .colab-df-convert {\n",
              "      background-color: #E8F0FE;\n",
              "      border: none;\n",
              "      border-radius: 50%;\n",
              "      cursor: pointer;\n",
              "      display: none;\n",
              "      fill: #1967D2;\n",
              "      height: 32px;\n",
              "      padding: 0 0 0 0;\n",
              "      width: 32px;\n",
              "    }\n",
              "\n",
              "    .colab-df-convert:hover {\n",
              "      background-color: #E2EBFA;\n",
              "      box-shadow: 0px 1px 2px rgba(60, 64, 67, 0.3), 0px 1px 3px 1px rgba(60, 64, 67, 0.15);\n",
              "      fill: #174EA6;\n",
              "    }\n",
              "\n",
              "    [theme=dark] .colab-df-convert {\n",
              "      background-color: #3B4455;\n",
              "      fill: #D2E3FC;\n",
              "    }\n",
              "\n",
              "    [theme=dark] .colab-df-convert:hover {\n",
              "      background-color: #434B5C;\n",
              "      box-shadow: 0px 1px 3px 1px rgba(0, 0, 0, 0.15);\n",
              "      filter: drop-shadow(0px 1px 2px rgba(0, 0, 0, 0.3));\n",
              "      fill: #FFFFFF;\n",
              "    }\n",
              "  </style>\n",
              "\n",
              "      <script>\n",
              "        const buttonEl =\n",
              "          document.querySelector('#df-f30de575-67e4-4b28-b33a-7fc3714c8cbd button.colab-df-convert');\n",
              "        buttonEl.style.display =\n",
              "          google.colab.kernel.accessAllowed ? 'block' : 'none';\n",
              "\n",
              "        async function convertToInteractive(key) {\n",
              "          const element = document.querySelector('#df-f30de575-67e4-4b28-b33a-7fc3714c8cbd');\n",
              "          const dataTable =\n",
              "            await google.colab.kernel.invokeFunction('convertToInteractive',\n",
              "                                                     [key], {});\n",
              "          if (!dataTable) return;\n",
              "\n",
              "          const docLinkHtml = 'Like what you see? Visit the ' +\n",
              "            '<a target=\"_blank\" href=https://colab.research.google.com/notebooks/data_table.ipynb>data table notebook</a>'\n",
              "            + ' to learn more about interactive tables.';\n",
              "          element.innerHTML = '';\n",
              "          dataTable['output_type'] = 'display_data';\n",
              "          await google.colab.output.renderOutput(dataTable, element);\n",
              "          const docLink = document.createElement('div');\n",
              "          docLink.innerHTML = docLinkHtml;\n",
              "          element.appendChild(docLink);\n",
              "        }\n",
              "      </script>\n",
              "    </div>\n",
              "  </div>\n",
              "  "
            ]
          },
          "metadata": {}
        },
        {
          "output_type": "stream",
          "name": "stdout",
          "text": [
            "Дублирующие записи для 1-го региона\n"
          ]
        },
        {
          "output_type": "display_data",
          "data": {
            "text/plain": [
              "          id         f0        f1        f2        oil\n",
              "1305   LHZR0  11.170835 -1.945066  3.002872  80.859783\n",
              "41906  LHZR0  -8.989672 -4.286607  2.009139  57.085625"
            ],
            "text/html": [
              "\n",
              "  <div id=\"df-309a3c6d-e879-4a10-959d-493d83422163\">\n",
              "    <div class=\"colab-df-container\">\n",
              "      <div>\n",
              "<style scoped>\n",
              "    .dataframe tbody tr th:only-of-type {\n",
              "        vertical-align: middle;\n",
              "    }\n",
              "\n",
              "    .dataframe tbody tr th {\n",
              "        vertical-align: top;\n",
              "    }\n",
              "\n",
              "    .dataframe thead th {\n",
              "        text-align: right;\n",
              "    }\n",
              "</style>\n",
              "<table border=\"1\" class=\"dataframe\">\n",
              "  <thead>\n",
              "    <tr style=\"text-align: right;\">\n",
              "      <th></th>\n",
              "      <th>id</th>\n",
              "      <th>f0</th>\n",
              "      <th>f1</th>\n",
              "      <th>f2</th>\n",
              "      <th>oil</th>\n",
              "    </tr>\n",
              "  </thead>\n",
              "  <tbody>\n",
              "    <tr>\n",
              "      <th>1305</th>\n",
              "      <td>LHZR0</td>\n",
              "      <td>11.170835</td>\n",
              "      <td>-1.945066</td>\n",
              "      <td>3.002872</td>\n",
              "      <td>80.859783</td>\n",
              "    </tr>\n",
              "    <tr>\n",
              "      <th>41906</th>\n",
              "      <td>LHZR0</td>\n",
              "      <td>-8.989672</td>\n",
              "      <td>-4.286607</td>\n",
              "      <td>2.009139</td>\n",
              "      <td>57.085625</td>\n",
              "    </tr>\n",
              "  </tbody>\n",
              "</table>\n",
              "</div>\n",
              "      <button class=\"colab-df-convert\" onclick=\"convertToInteractive('df-309a3c6d-e879-4a10-959d-493d83422163')\"\n",
              "              title=\"Convert this dataframe to an interactive table.\"\n",
              "              style=\"display:none;\">\n",
              "        \n",
              "  <svg xmlns=\"http://www.w3.org/2000/svg\" height=\"24px\"viewBox=\"0 0 24 24\"\n",
              "       width=\"24px\">\n",
              "    <path d=\"M0 0h24v24H0V0z\" fill=\"none\"/>\n",
              "    <path d=\"M18.56 5.44l.94 2.06.94-2.06 2.06-.94-2.06-.94-.94-2.06-.94 2.06-2.06.94zm-11 1L8.5 8.5l.94-2.06 2.06-.94-2.06-.94L8.5 2.5l-.94 2.06-2.06.94zm10 10l.94 2.06.94-2.06 2.06-.94-2.06-.94-.94-2.06-.94 2.06-2.06.94z\"/><path d=\"M17.41 7.96l-1.37-1.37c-.4-.4-.92-.59-1.43-.59-.52 0-1.04.2-1.43.59L10.3 9.45l-7.72 7.72c-.78.78-.78 2.05 0 2.83L4 21.41c.39.39.9.59 1.41.59.51 0 1.02-.2 1.41-.59l7.78-7.78 2.81-2.81c.8-.78.8-2.07 0-2.86zM5.41 20L4 18.59l7.72-7.72 1.47 1.35L5.41 20z\"/>\n",
              "  </svg>\n",
              "      </button>\n",
              "      \n",
              "  <style>\n",
              "    .colab-df-container {\n",
              "      display:flex;\n",
              "      flex-wrap:wrap;\n",
              "      gap: 12px;\n",
              "    }\n",
              "\n",
              "    .colab-df-convert {\n",
              "      background-color: #E8F0FE;\n",
              "      border: none;\n",
              "      border-radius: 50%;\n",
              "      cursor: pointer;\n",
              "      display: none;\n",
              "      fill: #1967D2;\n",
              "      height: 32px;\n",
              "      padding: 0 0 0 0;\n",
              "      width: 32px;\n",
              "    }\n",
              "\n",
              "    .colab-df-convert:hover {\n",
              "      background-color: #E2EBFA;\n",
              "      box-shadow: 0px 1px 2px rgba(60, 64, 67, 0.3), 0px 1px 3px 1px rgba(60, 64, 67, 0.15);\n",
              "      fill: #174EA6;\n",
              "    }\n",
              "\n",
              "    [theme=dark] .colab-df-convert {\n",
              "      background-color: #3B4455;\n",
              "      fill: #D2E3FC;\n",
              "    }\n",
              "\n",
              "    [theme=dark] .colab-df-convert:hover {\n",
              "      background-color: #434B5C;\n",
              "      box-shadow: 0px 1px 3px 1px rgba(0, 0, 0, 0.15);\n",
              "      filter: drop-shadow(0px 1px 2px rgba(0, 0, 0, 0.3));\n",
              "      fill: #FFFFFF;\n",
              "    }\n",
              "  </style>\n",
              "\n",
              "      <script>\n",
              "        const buttonEl =\n",
              "          document.querySelector('#df-309a3c6d-e879-4a10-959d-493d83422163 button.colab-df-convert');\n",
              "        buttonEl.style.display =\n",
              "          google.colab.kernel.accessAllowed ? 'block' : 'none';\n",
              "\n",
              "        async function convertToInteractive(key) {\n",
              "          const element = document.querySelector('#df-309a3c6d-e879-4a10-959d-493d83422163');\n",
              "          const dataTable =\n",
              "            await google.colab.kernel.invokeFunction('convertToInteractive',\n",
              "                                                     [key], {});\n",
              "          if (!dataTable) return;\n",
              "\n",
              "          const docLinkHtml = 'Like what you see? Visit the ' +\n",
              "            '<a target=\"_blank\" href=https://colab.research.google.com/notebooks/data_table.ipynb>data table notebook</a>'\n",
              "            + ' to learn more about interactive tables.';\n",
              "          element.innerHTML = '';\n",
              "          dataTable['output_type'] = 'display_data';\n",
              "          await google.colab.output.renderOutput(dataTable, element);\n",
              "          const docLink = document.createElement('div');\n",
              "          docLink.innerHTML = docLinkHtml;\n",
              "          element.appendChild(docLink);\n",
              "        }\n",
              "      </script>\n",
              "    </div>\n",
              "  </div>\n",
              "  "
            ]
          },
          "metadata": {}
        },
        {
          "output_type": "display_data",
          "data": {
            "text/plain": [
              "          id        f0        f1        f2         oil\n",
              "2721   bfPNe -9.494442 -5.463692  4.006042  110.992147\n",
              "82178  bfPNe -6.202799 -4.820045  2.995107   84.038886"
            ],
            "text/html": [
              "\n",
              "  <div id=\"df-67a1ce6c-7eb4-41e3-a84b-d11bbf72ad3e\">\n",
              "    <div class=\"colab-df-container\">\n",
              "      <div>\n",
              "<style scoped>\n",
              "    .dataframe tbody tr th:only-of-type {\n",
              "        vertical-align: middle;\n",
              "    }\n",
              "\n",
              "    .dataframe tbody tr th {\n",
              "        vertical-align: top;\n",
              "    }\n",
              "\n",
              "    .dataframe thead th {\n",
              "        text-align: right;\n",
              "    }\n",
              "</style>\n",
              "<table border=\"1\" class=\"dataframe\">\n",
              "  <thead>\n",
              "    <tr style=\"text-align: right;\">\n",
              "      <th></th>\n",
              "      <th>id</th>\n",
              "      <th>f0</th>\n",
              "      <th>f1</th>\n",
              "      <th>f2</th>\n",
              "      <th>oil</th>\n",
              "    </tr>\n",
              "  </thead>\n",
              "  <tbody>\n",
              "    <tr>\n",
              "      <th>2721</th>\n",
              "      <td>bfPNe</td>\n",
              "      <td>-9.494442</td>\n",
              "      <td>-5.463692</td>\n",
              "      <td>4.006042</td>\n",
              "      <td>110.992147</td>\n",
              "    </tr>\n",
              "    <tr>\n",
              "      <th>82178</th>\n",
              "      <td>bfPNe</td>\n",
              "      <td>-6.202799</td>\n",
              "      <td>-4.820045</td>\n",
              "      <td>2.995107</td>\n",
              "      <td>84.038886</td>\n",
              "    </tr>\n",
              "  </tbody>\n",
              "</table>\n",
              "</div>\n",
              "      <button class=\"colab-df-convert\" onclick=\"convertToInteractive('df-67a1ce6c-7eb4-41e3-a84b-d11bbf72ad3e')\"\n",
              "              title=\"Convert this dataframe to an interactive table.\"\n",
              "              style=\"display:none;\">\n",
              "        \n",
              "  <svg xmlns=\"http://www.w3.org/2000/svg\" height=\"24px\"viewBox=\"0 0 24 24\"\n",
              "       width=\"24px\">\n",
              "    <path d=\"M0 0h24v24H0V0z\" fill=\"none\"/>\n",
              "    <path d=\"M18.56 5.44l.94 2.06.94-2.06 2.06-.94-2.06-.94-.94-2.06-.94 2.06-2.06.94zm-11 1L8.5 8.5l.94-2.06 2.06-.94-2.06-.94L8.5 2.5l-.94 2.06-2.06.94zm10 10l.94 2.06.94-2.06 2.06-.94-2.06-.94-.94-2.06-.94 2.06-2.06.94z\"/><path d=\"M17.41 7.96l-1.37-1.37c-.4-.4-.92-.59-1.43-.59-.52 0-1.04.2-1.43.59L10.3 9.45l-7.72 7.72c-.78.78-.78 2.05 0 2.83L4 21.41c.39.39.9.59 1.41.59.51 0 1.02-.2 1.41-.59l7.78-7.78 2.81-2.81c.8-.78.8-2.07 0-2.86zM5.41 20L4 18.59l7.72-7.72 1.47 1.35L5.41 20z\"/>\n",
              "  </svg>\n",
              "      </button>\n",
              "      \n",
              "  <style>\n",
              "    .colab-df-container {\n",
              "      display:flex;\n",
              "      flex-wrap:wrap;\n",
              "      gap: 12px;\n",
              "    }\n",
              "\n",
              "    .colab-df-convert {\n",
              "      background-color: #E8F0FE;\n",
              "      border: none;\n",
              "      border-radius: 50%;\n",
              "      cursor: pointer;\n",
              "      display: none;\n",
              "      fill: #1967D2;\n",
              "      height: 32px;\n",
              "      padding: 0 0 0 0;\n",
              "      width: 32px;\n",
              "    }\n",
              "\n",
              "    .colab-df-convert:hover {\n",
              "      background-color: #E2EBFA;\n",
              "      box-shadow: 0px 1px 2px rgba(60, 64, 67, 0.3), 0px 1px 3px 1px rgba(60, 64, 67, 0.15);\n",
              "      fill: #174EA6;\n",
              "    }\n",
              "\n",
              "    [theme=dark] .colab-df-convert {\n",
              "      background-color: #3B4455;\n",
              "      fill: #D2E3FC;\n",
              "    }\n",
              "\n",
              "    [theme=dark] .colab-df-convert:hover {\n",
              "      background-color: #434B5C;\n",
              "      box-shadow: 0px 1px 3px 1px rgba(0, 0, 0, 0.15);\n",
              "      filter: drop-shadow(0px 1px 2px rgba(0, 0, 0, 0.3));\n",
              "      fill: #FFFFFF;\n",
              "    }\n",
              "  </style>\n",
              "\n",
              "      <script>\n",
              "        const buttonEl =\n",
              "          document.querySelector('#df-67a1ce6c-7eb4-41e3-a84b-d11bbf72ad3e button.colab-df-convert');\n",
              "        buttonEl.style.display =\n",
              "          google.colab.kernel.accessAllowed ? 'block' : 'none';\n",
              "\n",
              "        async function convertToInteractive(key) {\n",
              "          const element = document.querySelector('#df-67a1ce6c-7eb4-41e3-a84b-d11bbf72ad3e');\n",
              "          const dataTable =\n",
              "            await google.colab.kernel.invokeFunction('convertToInteractive',\n",
              "                                                     [key], {});\n",
              "          if (!dataTable) return;\n",
              "\n",
              "          const docLinkHtml = 'Like what you see? Visit the ' +\n",
              "            '<a target=\"_blank\" href=https://colab.research.google.com/notebooks/data_table.ipynb>data table notebook</a>'\n",
              "            + ' to learn more about interactive tables.';\n",
              "          element.innerHTML = '';\n",
              "          dataTable['output_type'] = 'display_data';\n",
              "          await google.colab.output.renderOutput(dataTable, element);\n",
              "          const docLink = document.createElement('div');\n",
              "          docLink.innerHTML = docLinkHtml;\n",
              "          element.appendChild(docLink);\n",
              "        }\n",
              "      </script>\n",
              "    </div>\n",
              "  </div>\n",
              "  "
            ]
          },
          "metadata": {}
        },
        {
          "output_type": "display_data",
          "data": {
            "text/plain": [
              "          id         f0        f1        f2         oil\n",
              "47591  wt4Uk  -9.091098 -8.109279 -0.002314    3.179103\n",
              "82873  wt4Uk  10.259972 -9.376355  4.994297  134.766305"
            ],
            "text/html": [
              "\n",
              "  <div id=\"df-8185e1a0-72af-4bfd-a6d0-4f792964ca8c\">\n",
              "    <div class=\"colab-df-container\">\n",
              "      <div>\n",
              "<style scoped>\n",
              "    .dataframe tbody tr th:only-of-type {\n",
              "        vertical-align: middle;\n",
              "    }\n",
              "\n",
              "    .dataframe tbody tr th {\n",
              "        vertical-align: top;\n",
              "    }\n",
              "\n",
              "    .dataframe thead th {\n",
              "        text-align: right;\n",
              "    }\n",
              "</style>\n",
              "<table border=\"1\" class=\"dataframe\">\n",
              "  <thead>\n",
              "    <tr style=\"text-align: right;\">\n",
              "      <th></th>\n",
              "      <th>id</th>\n",
              "      <th>f0</th>\n",
              "      <th>f1</th>\n",
              "      <th>f2</th>\n",
              "      <th>oil</th>\n",
              "    </tr>\n",
              "  </thead>\n",
              "  <tbody>\n",
              "    <tr>\n",
              "      <th>47591</th>\n",
              "      <td>wt4Uk</td>\n",
              "      <td>-9.091098</td>\n",
              "      <td>-8.109279</td>\n",
              "      <td>-0.002314</td>\n",
              "      <td>3.179103</td>\n",
              "    </tr>\n",
              "    <tr>\n",
              "      <th>82873</th>\n",
              "      <td>wt4Uk</td>\n",
              "      <td>10.259972</td>\n",
              "      <td>-9.376355</td>\n",
              "      <td>4.994297</td>\n",
              "      <td>134.766305</td>\n",
              "    </tr>\n",
              "  </tbody>\n",
              "</table>\n",
              "</div>\n",
              "      <button class=\"colab-df-convert\" onclick=\"convertToInteractive('df-8185e1a0-72af-4bfd-a6d0-4f792964ca8c')\"\n",
              "              title=\"Convert this dataframe to an interactive table.\"\n",
              "              style=\"display:none;\">\n",
              "        \n",
              "  <svg xmlns=\"http://www.w3.org/2000/svg\" height=\"24px\"viewBox=\"0 0 24 24\"\n",
              "       width=\"24px\">\n",
              "    <path d=\"M0 0h24v24H0V0z\" fill=\"none\"/>\n",
              "    <path d=\"M18.56 5.44l.94 2.06.94-2.06 2.06-.94-2.06-.94-.94-2.06-.94 2.06-2.06.94zm-11 1L8.5 8.5l.94-2.06 2.06-.94-2.06-.94L8.5 2.5l-.94 2.06-2.06.94zm10 10l.94 2.06.94-2.06 2.06-.94-2.06-.94-.94-2.06-.94 2.06-2.06.94z\"/><path d=\"M17.41 7.96l-1.37-1.37c-.4-.4-.92-.59-1.43-.59-.52 0-1.04.2-1.43.59L10.3 9.45l-7.72 7.72c-.78.78-.78 2.05 0 2.83L4 21.41c.39.39.9.59 1.41.59.51 0 1.02-.2 1.41-.59l7.78-7.78 2.81-2.81c.8-.78.8-2.07 0-2.86zM5.41 20L4 18.59l7.72-7.72 1.47 1.35L5.41 20z\"/>\n",
              "  </svg>\n",
              "      </button>\n",
              "      \n",
              "  <style>\n",
              "    .colab-df-container {\n",
              "      display:flex;\n",
              "      flex-wrap:wrap;\n",
              "      gap: 12px;\n",
              "    }\n",
              "\n",
              "    .colab-df-convert {\n",
              "      background-color: #E8F0FE;\n",
              "      border: none;\n",
              "      border-radius: 50%;\n",
              "      cursor: pointer;\n",
              "      display: none;\n",
              "      fill: #1967D2;\n",
              "      height: 32px;\n",
              "      padding: 0 0 0 0;\n",
              "      width: 32px;\n",
              "    }\n",
              "\n",
              "    .colab-df-convert:hover {\n",
              "      background-color: #E2EBFA;\n",
              "      box-shadow: 0px 1px 2px rgba(60, 64, 67, 0.3), 0px 1px 3px 1px rgba(60, 64, 67, 0.15);\n",
              "      fill: #174EA6;\n",
              "    }\n",
              "\n",
              "    [theme=dark] .colab-df-convert {\n",
              "      background-color: #3B4455;\n",
              "      fill: #D2E3FC;\n",
              "    }\n",
              "\n",
              "    [theme=dark] .colab-df-convert:hover {\n",
              "      background-color: #434B5C;\n",
              "      box-shadow: 0px 1px 3px 1px rgba(0, 0, 0, 0.15);\n",
              "      filter: drop-shadow(0px 1px 2px rgba(0, 0, 0, 0.3));\n",
              "      fill: #FFFFFF;\n",
              "    }\n",
              "  </style>\n",
              "\n",
              "      <script>\n",
              "        const buttonEl =\n",
              "          document.querySelector('#df-8185e1a0-72af-4bfd-a6d0-4f792964ca8c button.colab-df-convert');\n",
              "        buttonEl.style.display =\n",
              "          google.colab.kernel.accessAllowed ? 'block' : 'none';\n",
              "\n",
              "        async function convertToInteractive(key) {\n",
              "          const element = document.querySelector('#df-8185e1a0-72af-4bfd-a6d0-4f792964ca8c');\n",
              "          const dataTable =\n",
              "            await google.colab.kernel.invokeFunction('convertToInteractive',\n",
              "                                                     [key], {});\n",
              "          if (!dataTable) return;\n",
              "\n",
              "          const docLinkHtml = 'Like what you see? Visit the ' +\n",
              "            '<a target=\"_blank\" href=https://colab.research.google.com/notebooks/data_table.ipynb>data table notebook</a>'\n",
              "            + ' to learn more about interactive tables.';\n",
              "          element.innerHTML = '';\n",
              "          dataTable['output_type'] = 'display_data';\n",
              "          await google.colab.output.renderOutput(dataTable, element);\n",
              "          const docLink = document.createElement('div');\n",
              "          docLink.innerHTML = docLinkHtml;\n",
              "          element.appendChild(docLink);\n",
              "        }\n",
              "      </script>\n",
              "    </div>\n",
              "  </div>\n",
              "  "
            ]
          },
          "metadata": {}
        },
        {
          "output_type": "display_data",
          "data": {
            "text/plain": [
              "          id         f0         f1        f2         oil\n",
              "5849   5ltQ6  -3.435401 -12.296043  1.999796   57.085625\n",
              "84461  5ltQ6  18.213839   2.191999  3.993869  107.813044"
            ],
            "text/html": [
              "\n",
              "  <div id=\"df-c41effeb-f8cb-4832-9a36-24765c09de3f\">\n",
              "    <div class=\"colab-df-container\">\n",
              "      <div>\n",
              "<style scoped>\n",
              "    .dataframe tbody tr th:only-of-type {\n",
              "        vertical-align: middle;\n",
              "    }\n",
              "\n",
              "    .dataframe tbody tr th {\n",
              "        vertical-align: top;\n",
              "    }\n",
              "\n",
              "    .dataframe thead th {\n",
              "        text-align: right;\n",
              "    }\n",
              "</style>\n",
              "<table border=\"1\" class=\"dataframe\">\n",
              "  <thead>\n",
              "    <tr style=\"text-align: right;\">\n",
              "      <th></th>\n",
              "      <th>id</th>\n",
              "      <th>f0</th>\n",
              "      <th>f1</th>\n",
              "      <th>f2</th>\n",
              "      <th>oil</th>\n",
              "    </tr>\n",
              "  </thead>\n",
              "  <tbody>\n",
              "    <tr>\n",
              "      <th>5849</th>\n",
              "      <td>5ltQ6</td>\n",
              "      <td>-3.435401</td>\n",
              "      <td>-12.296043</td>\n",
              "      <td>1.999796</td>\n",
              "      <td>57.085625</td>\n",
              "    </tr>\n",
              "    <tr>\n",
              "      <th>84461</th>\n",
              "      <td>5ltQ6</td>\n",
              "      <td>18.213839</td>\n",
              "      <td>2.191999</td>\n",
              "      <td>3.993869</td>\n",
              "      <td>107.813044</td>\n",
              "    </tr>\n",
              "  </tbody>\n",
              "</table>\n",
              "</div>\n",
              "      <button class=\"colab-df-convert\" onclick=\"convertToInteractive('df-c41effeb-f8cb-4832-9a36-24765c09de3f')\"\n",
              "              title=\"Convert this dataframe to an interactive table.\"\n",
              "              style=\"display:none;\">\n",
              "        \n",
              "  <svg xmlns=\"http://www.w3.org/2000/svg\" height=\"24px\"viewBox=\"0 0 24 24\"\n",
              "       width=\"24px\">\n",
              "    <path d=\"M0 0h24v24H0V0z\" fill=\"none\"/>\n",
              "    <path d=\"M18.56 5.44l.94 2.06.94-2.06 2.06-.94-2.06-.94-.94-2.06-.94 2.06-2.06.94zm-11 1L8.5 8.5l.94-2.06 2.06-.94-2.06-.94L8.5 2.5l-.94 2.06-2.06.94zm10 10l.94 2.06.94-2.06 2.06-.94-2.06-.94-.94-2.06-.94 2.06-2.06.94z\"/><path d=\"M17.41 7.96l-1.37-1.37c-.4-.4-.92-.59-1.43-.59-.52 0-1.04.2-1.43.59L10.3 9.45l-7.72 7.72c-.78.78-.78 2.05 0 2.83L4 21.41c.39.39.9.59 1.41.59.51 0 1.02-.2 1.41-.59l7.78-7.78 2.81-2.81c.8-.78.8-2.07 0-2.86zM5.41 20L4 18.59l7.72-7.72 1.47 1.35L5.41 20z\"/>\n",
              "  </svg>\n",
              "      </button>\n",
              "      \n",
              "  <style>\n",
              "    .colab-df-container {\n",
              "      display:flex;\n",
              "      flex-wrap:wrap;\n",
              "      gap: 12px;\n",
              "    }\n",
              "\n",
              "    .colab-df-convert {\n",
              "      background-color: #E8F0FE;\n",
              "      border: none;\n",
              "      border-radius: 50%;\n",
              "      cursor: pointer;\n",
              "      display: none;\n",
              "      fill: #1967D2;\n",
              "      height: 32px;\n",
              "      padding: 0 0 0 0;\n",
              "      width: 32px;\n",
              "    }\n",
              "\n",
              "    .colab-df-convert:hover {\n",
              "      background-color: #E2EBFA;\n",
              "      box-shadow: 0px 1px 2px rgba(60, 64, 67, 0.3), 0px 1px 3px 1px rgba(60, 64, 67, 0.15);\n",
              "      fill: #174EA6;\n",
              "    }\n",
              "\n",
              "    [theme=dark] .colab-df-convert {\n",
              "      background-color: #3B4455;\n",
              "      fill: #D2E3FC;\n",
              "    }\n",
              "\n",
              "    [theme=dark] .colab-df-convert:hover {\n",
              "      background-color: #434B5C;\n",
              "      box-shadow: 0px 1px 3px 1px rgba(0, 0, 0, 0.15);\n",
              "      filter: drop-shadow(0px 1px 2px rgba(0, 0, 0, 0.3));\n",
              "      fill: #FFFFFF;\n",
              "    }\n",
              "  </style>\n",
              "\n",
              "      <script>\n",
              "        const buttonEl =\n",
              "          document.querySelector('#df-c41effeb-f8cb-4832-9a36-24765c09de3f button.colab-df-convert');\n",
              "        buttonEl.style.display =\n",
              "          google.colab.kernel.accessAllowed ? 'block' : 'none';\n",
              "\n",
              "        async function convertToInteractive(key) {\n",
              "          const element = document.querySelector('#df-c41effeb-f8cb-4832-9a36-24765c09de3f');\n",
              "          const dataTable =\n",
              "            await google.colab.kernel.invokeFunction('convertToInteractive',\n",
              "                                                     [key], {});\n",
              "          if (!dataTable) return;\n",
              "\n",
              "          const docLinkHtml = 'Like what you see? Visit the ' +\n",
              "            '<a target=\"_blank\" href=https://colab.research.google.com/notebooks/data_table.ipynb>data table notebook</a>'\n",
              "            + ' to learn more about interactive tables.';\n",
              "          element.innerHTML = '';\n",
              "          dataTable['output_type'] = 'display_data';\n",
              "          await google.colab.output.renderOutput(dataTable, element);\n",
              "          const docLink = document.createElement('div');\n",
              "          docLink.innerHTML = docLinkHtml;\n",
              "          element.appendChild(docLink);\n",
              "        }\n",
              "      </script>\n",
              "    </div>\n",
              "  </div>\n",
              "  "
            ]
          },
          "metadata": {}
        },
        {
          "output_type": "stream",
          "name": "stdout",
          "text": [
            "Дублирующие записи для 2-го региона\n"
          ]
        },
        {
          "output_type": "display_data",
          "data": {
            "text/plain": [
              "          id        f0        f1        f2         oil\n",
              "28039  xCHr8  1.633027  0.368135 -2.378367    6.120525\n",
              "43233  xCHr8 -0.847066  2.101796  5.597130  184.388641"
            ],
            "text/html": [
              "\n",
              "  <div id=\"df-d9490177-9b19-43e8-b660-0291f1d0b2f0\">\n",
              "    <div class=\"colab-df-container\">\n",
              "      <div>\n",
              "<style scoped>\n",
              "    .dataframe tbody tr th:only-of-type {\n",
              "        vertical-align: middle;\n",
              "    }\n",
              "\n",
              "    .dataframe tbody tr th {\n",
              "        vertical-align: top;\n",
              "    }\n",
              "\n",
              "    .dataframe thead th {\n",
              "        text-align: right;\n",
              "    }\n",
              "</style>\n",
              "<table border=\"1\" class=\"dataframe\">\n",
              "  <thead>\n",
              "    <tr style=\"text-align: right;\">\n",
              "      <th></th>\n",
              "      <th>id</th>\n",
              "      <th>f0</th>\n",
              "      <th>f1</th>\n",
              "      <th>f2</th>\n",
              "      <th>oil</th>\n",
              "    </tr>\n",
              "  </thead>\n",
              "  <tbody>\n",
              "    <tr>\n",
              "      <th>28039</th>\n",
              "      <td>xCHr8</td>\n",
              "      <td>1.633027</td>\n",
              "      <td>0.368135</td>\n",
              "      <td>-2.378367</td>\n",
              "      <td>6.120525</td>\n",
              "    </tr>\n",
              "    <tr>\n",
              "      <th>43233</th>\n",
              "      <td>xCHr8</td>\n",
              "      <td>-0.847066</td>\n",
              "      <td>2.101796</td>\n",
              "      <td>5.597130</td>\n",
              "      <td>184.388641</td>\n",
              "    </tr>\n",
              "  </tbody>\n",
              "</table>\n",
              "</div>\n",
              "      <button class=\"colab-df-convert\" onclick=\"convertToInteractive('df-d9490177-9b19-43e8-b660-0291f1d0b2f0')\"\n",
              "              title=\"Convert this dataframe to an interactive table.\"\n",
              "              style=\"display:none;\">\n",
              "        \n",
              "  <svg xmlns=\"http://www.w3.org/2000/svg\" height=\"24px\"viewBox=\"0 0 24 24\"\n",
              "       width=\"24px\">\n",
              "    <path d=\"M0 0h24v24H0V0z\" fill=\"none\"/>\n",
              "    <path d=\"M18.56 5.44l.94 2.06.94-2.06 2.06-.94-2.06-.94-.94-2.06-.94 2.06-2.06.94zm-11 1L8.5 8.5l.94-2.06 2.06-.94-2.06-.94L8.5 2.5l-.94 2.06-2.06.94zm10 10l.94 2.06.94-2.06 2.06-.94-2.06-.94-.94-2.06-.94 2.06-2.06.94z\"/><path d=\"M17.41 7.96l-1.37-1.37c-.4-.4-.92-.59-1.43-.59-.52 0-1.04.2-1.43.59L10.3 9.45l-7.72 7.72c-.78.78-.78 2.05 0 2.83L4 21.41c.39.39.9.59 1.41.59.51 0 1.02-.2 1.41-.59l7.78-7.78 2.81-2.81c.8-.78.8-2.07 0-2.86zM5.41 20L4 18.59l7.72-7.72 1.47 1.35L5.41 20z\"/>\n",
              "  </svg>\n",
              "      </button>\n",
              "      \n",
              "  <style>\n",
              "    .colab-df-container {\n",
              "      display:flex;\n",
              "      flex-wrap:wrap;\n",
              "      gap: 12px;\n",
              "    }\n",
              "\n",
              "    .colab-df-convert {\n",
              "      background-color: #E8F0FE;\n",
              "      border: none;\n",
              "      border-radius: 50%;\n",
              "      cursor: pointer;\n",
              "      display: none;\n",
              "      fill: #1967D2;\n",
              "      height: 32px;\n",
              "      padding: 0 0 0 0;\n",
              "      width: 32px;\n",
              "    }\n",
              "\n",
              "    .colab-df-convert:hover {\n",
              "      background-color: #E2EBFA;\n",
              "      box-shadow: 0px 1px 2px rgba(60, 64, 67, 0.3), 0px 1px 3px 1px rgba(60, 64, 67, 0.15);\n",
              "      fill: #174EA6;\n",
              "    }\n",
              "\n",
              "    [theme=dark] .colab-df-convert {\n",
              "      background-color: #3B4455;\n",
              "      fill: #D2E3FC;\n",
              "    }\n",
              "\n",
              "    [theme=dark] .colab-df-convert:hover {\n",
              "      background-color: #434B5C;\n",
              "      box-shadow: 0px 1px 3px 1px rgba(0, 0, 0, 0.15);\n",
              "      filter: drop-shadow(0px 1px 2px rgba(0, 0, 0, 0.3));\n",
              "      fill: #FFFFFF;\n",
              "    }\n",
              "  </style>\n",
              "\n",
              "      <script>\n",
              "        const buttonEl =\n",
              "          document.querySelector('#df-d9490177-9b19-43e8-b660-0291f1d0b2f0 button.colab-df-convert');\n",
              "        buttonEl.style.display =\n",
              "          google.colab.kernel.accessAllowed ? 'block' : 'none';\n",
              "\n",
              "        async function convertToInteractive(key) {\n",
              "          const element = document.querySelector('#df-d9490177-9b19-43e8-b660-0291f1d0b2f0');\n",
              "          const dataTable =\n",
              "            await google.colab.kernel.invokeFunction('convertToInteractive',\n",
              "                                                     [key], {});\n",
              "          if (!dataTable) return;\n",
              "\n",
              "          const docLinkHtml = 'Like what you see? Visit the ' +\n",
              "            '<a target=\"_blank\" href=https://colab.research.google.com/notebooks/data_table.ipynb>data table notebook</a>'\n",
              "            + ' to learn more about interactive tables.';\n",
              "          element.innerHTML = '';\n",
              "          dataTable['output_type'] = 'display_data';\n",
              "          await google.colab.output.renderOutput(dataTable, element);\n",
              "          const docLink = document.createElement('div');\n",
              "          docLink.innerHTML = docLinkHtml;\n",
              "          element.appendChild(docLink);\n",
              "        }\n",
              "      </script>\n",
              "    </div>\n",
              "  </div>\n",
              "  "
            ]
          },
          "metadata": {}
        },
        {
          "output_type": "display_data",
          "data": {
            "text/plain": [
              "          id        f0        f1        f2         oil\n",
              "11449  VF7Jo  2.122656 -0.858275  5.746001  181.716817\n",
              "49564  VF7Jo -0.883115  0.560537  0.723601  136.233420"
            ],
            "text/html": [
              "\n",
              "  <div id=\"df-18975140-594e-4b67-971a-0acec03f3252\">\n",
              "    <div class=\"colab-df-container\">\n",
              "      <div>\n",
              "<style scoped>\n",
              "    .dataframe tbody tr th:only-of-type {\n",
              "        vertical-align: middle;\n",
              "    }\n",
              "\n",
              "    .dataframe tbody tr th {\n",
              "        vertical-align: top;\n",
              "    }\n",
              "\n",
              "    .dataframe thead th {\n",
              "        text-align: right;\n",
              "    }\n",
              "</style>\n",
              "<table border=\"1\" class=\"dataframe\">\n",
              "  <thead>\n",
              "    <tr style=\"text-align: right;\">\n",
              "      <th></th>\n",
              "      <th>id</th>\n",
              "      <th>f0</th>\n",
              "      <th>f1</th>\n",
              "      <th>f2</th>\n",
              "      <th>oil</th>\n",
              "    </tr>\n",
              "  </thead>\n",
              "  <tbody>\n",
              "    <tr>\n",
              "      <th>11449</th>\n",
              "      <td>VF7Jo</td>\n",
              "      <td>2.122656</td>\n",
              "      <td>-0.858275</td>\n",
              "      <td>5.746001</td>\n",
              "      <td>181.716817</td>\n",
              "    </tr>\n",
              "    <tr>\n",
              "      <th>49564</th>\n",
              "      <td>VF7Jo</td>\n",
              "      <td>-0.883115</td>\n",
              "      <td>0.560537</td>\n",
              "      <td>0.723601</td>\n",
              "      <td>136.233420</td>\n",
              "    </tr>\n",
              "  </tbody>\n",
              "</table>\n",
              "</div>\n",
              "      <button class=\"colab-df-convert\" onclick=\"convertToInteractive('df-18975140-594e-4b67-971a-0acec03f3252')\"\n",
              "              title=\"Convert this dataframe to an interactive table.\"\n",
              "              style=\"display:none;\">\n",
              "        \n",
              "  <svg xmlns=\"http://www.w3.org/2000/svg\" height=\"24px\"viewBox=\"0 0 24 24\"\n",
              "       width=\"24px\">\n",
              "    <path d=\"M0 0h24v24H0V0z\" fill=\"none\"/>\n",
              "    <path d=\"M18.56 5.44l.94 2.06.94-2.06 2.06-.94-2.06-.94-.94-2.06-.94 2.06-2.06.94zm-11 1L8.5 8.5l.94-2.06 2.06-.94-2.06-.94L8.5 2.5l-.94 2.06-2.06.94zm10 10l.94 2.06.94-2.06 2.06-.94-2.06-.94-.94-2.06-.94 2.06-2.06.94z\"/><path d=\"M17.41 7.96l-1.37-1.37c-.4-.4-.92-.59-1.43-.59-.52 0-1.04.2-1.43.59L10.3 9.45l-7.72 7.72c-.78.78-.78 2.05 0 2.83L4 21.41c.39.39.9.59 1.41.59.51 0 1.02-.2 1.41-.59l7.78-7.78 2.81-2.81c.8-.78.8-2.07 0-2.86zM5.41 20L4 18.59l7.72-7.72 1.47 1.35L5.41 20z\"/>\n",
              "  </svg>\n",
              "      </button>\n",
              "      \n",
              "  <style>\n",
              "    .colab-df-container {\n",
              "      display:flex;\n",
              "      flex-wrap:wrap;\n",
              "      gap: 12px;\n",
              "    }\n",
              "\n",
              "    .colab-df-convert {\n",
              "      background-color: #E8F0FE;\n",
              "      border: none;\n",
              "      border-radius: 50%;\n",
              "      cursor: pointer;\n",
              "      display: none;\n",
              "      fill: #1967D2;\n",
              "      height: 32px;\n",
              "      padding: 0 0 0 0;\n",
              "      width: 32px;\n",
              "    }\n",
              "\n",
              "    .colab-df-convert:hover {\n",
              "      background-color: #E2EBFA;\n",
              "      box-shadow: 0px 1px 2px rgba(60, 64, 67, 0.3), 0px 1px 3px 1px rgba(60, 64, 67, 0.15);\n",
              "      fill: #174EA6;\n",
              "    }\n",
              "\n",
              "    [theme=dark] .colab-df-convert {\n",
              "      background-color: #3B4455;\n",
              "      fill: #D2E3FC;\n",
              "    }\n",
              "\n",
              "    [theme=dark] .colab-df-convert:hover {\n",
              "      background-color: #434B5C;\n",
              "      box-shadow: 0px 1px 3px 1px rgba(0, 0, 0, 0.15);\n",
              "      filter: drop-shadow(0px 1px 2px rgba(0, 0, 0, 0.3));\n",
              "      fill: #FFFFFF;\n",
              "    }\n",
              "  </style>\n",
              "\n",
              "      <script>\n",
              "        const buttonEl =\n",
              "          document.querySelector('#df-18975140-594e-4b67-971a-0acec03f3252 button.colab-df-convert');\n",
              "        buttonEl.style.display =\n",
              "          google.colab.kernel.accessAllowed ? 'block' : 'none';\n",
              "\n",
              "        async function convertToInteractive(key) {\n",
              "          const element = document.querySelector('#df-18975140-594e-4b67-971a-0acec03f3252');\n",
              "          const dataTable =\n",
              "            await google.colab.kernel.invokeFunction('convertToInteractive',\n",
              "                                                     [key], {});\n",
              "          if (!dataTable) return;\n",
              "\n",
              "          const docLinkHtml = 'Like what you see? Visit the ' +\n",
              "            '<a target=\"_blank\" href=https://colab.research.google.com/notebooks/data_table.ipynb>data table notebook</a>'\n",
              "            + ' to learn more about interactive tables.';\n",
              "          element.innerHTML = '';\n",
              "          dataTable['output_type'] = 'display_data';\n",
              "          await google.colab.output.renderOutput(dataTable, element);\n",
              "          const docLink = document.createElement('div');\n",
              "          docLink.innerHTML = docLinkHtml;\n",
              "          element.appendChild(docLink);\n",
              "        }\n",
              "      </script>\n",
              "    </div>\n",
              "  </div>\n",
              "  "
            ]
          },
          "metadata": {}
        },
        {
          "output_type": "display_data",
          "data": {
            "text/plain": [
              "          id        f0        f1        f2         oil\n",
              "45404  KUPhW  0.231846 -1.698941  4.990775   11.716299\n",
              "55967  KUPhW  1.211150  3.176408  5.543540  132.831802"
            ],
            "text/html": [
              "\n",
              "  <div id=\"df-18ced1c9-da9a-481c-b7dd-c4b03241f99e\">\n",
              "    <div class=\"colab-df-container\">\n",
              "      <div>\n",
              "<style scoped>\n",
              "    .dataframe tbody tr th:only-of-type {\n",
              "        vertical-align: middle;\n",
              "    }\n",
              "\n",
              "    .dataframe tbody tr th {\n",
              "        vertical-align: top;\n",
              "    }\n",
              "\n",
              "    .dataframe thead th {\n",
              "        text-align: right;\n",
              "    }\n",
              "</style>\n",
              "<table border=\"1\" class=\"dataframe\">\n",
              "  <thead>\n",
              "    <tr style=\"text-align: right;\">\n",
              "      <th></th>\n",
              "      <th>id</th>\n",
              "      <th>f0</th>\n",
              "      <th>f1</th>\n",
              "      <th>f2</th>\n",
              "      <th>oil</th>\n",
              "    </tr>\n",
              "  </thead>\n",
              "  <tbody>\n",
              "    <tr>\n",
              "      <th>45404</th>\n",
              "      <td>KUPhW</td>\n",
              "      <td>0.231846</td>\n",
              "      <td>-1.698941</td>\n",
              "      <td>4.990775</td>\n",
              "      <td>11.716299</td>\n",
              "    </tr>\n",
              "    <tr>\n",
              "      <th>55967</th>\n",
              "      <td>KUPhW</td>\n",
              "      <td>1.211150</td>\n",
              "      <td>3.176408</td>\n",
              "      <td>5.543540</td>\n",
              "      <td>132.831802</td>\n",
              "    </tr>\n",
              "  </tbody>\n",
              "</table>\n",
              "</div>\n",
              "      <button class=\"colab-df-convert\" onclick=\"convertToInteractive('df-18ced1c9-da9a-481c-b7dd-c4b03241f99e')\"\n",
              "              title=\"Convert this dataframe to an interactive table.\"\n",
              "              style=\"display:none;\">\n",
              "        \n",
              "  <svg xmlns=\"http://www.w3.org/2000/svg\" height=\"24px\"viewBox=\"0 0 24 24\"\n",
              "       width=\"24px\">\n",
              "    <path d=\"M0 0h24v24H0V0z\" fill=\"none\"/>\n",
              "    <path d=\"M18.56 5.44l.94 2.06.94-2.06 2.06-.94-2.06-.94-.94-2.06-.94 2.06-2.06.94zm-11 1L8.5 8.5l.94-2.06 2.06-.94-2.06-.94L8.5 2.5l-.94 2.06-2.06.94zm10 10l.94 2.06.94-2.06 2.06-.94-2.06-.94-.94-2.06-.94 2.06-2.06.94z\"/><path d=\"M17.41 7.96l-1.37-1.37c-.4-.4-.92-.59-1.43-.59-.52 0-1.04.2-1.43.59L10.3 9.45l-7.72 7.72c-.78.78-.78 2.05 0 2.83L4 21.41c.39.39.9.59 1.41.59.51 0 1.02-.2 1.41-.59l7.78-7.78 2.81-2.81c.8-.78.8-2.07 0-2.86zM5.41 20L4 18.59l7.72-7.72 1.47 1.35L5.41 20z\"/>\n",
              "  </svg>\n",
              "      </button>\n",
              "      \n",
              "  <style>\n",
              "    .colab-df-container {\n",
              "      display:flex;\n",
              "      flex-wrap:wrap;\n",
              "      gap: 12px;\n",
              "    }\n",
              "\n",
              "    .colab-df-convert {\n",
              "      background-color: #E8F0FE;\n",
              "      border: none;\n",
              "      border-radius: 50%;\n",
              "      cursor: pointer;\n",
              "      display: none;\n",
              "      fill: #1967D2;\n",
              "      height: 32px;\n",
              "      padding: 0 0 0 0;\n",
              "      width: 32px;\n",
              "    }\n",
              "\n",
              "    .colab-df-convert:hover {\n",
              "      background-color: #E2EBFA;\n",
              "      box-shadow: 0px 1px 2px rgba(60, 64, 67, 0.3), 0px 1px 3px 1px rgba(60, 64, 67, 0.15);\n",
              "      fill: #174EA6;\n",
              "    }\n",
              "\n",
              "    [theme=dark] .colab-df-convert {\n",
              "      background-color: #3B4455;\n",
              "      fill: #D2E3FC;\n",
              "    }\n",
              "\n",
              "    [theme=dark] .colab-df-convert:hover {\n",
              "      background-color: #434B5C;\n",
              "      box-shadow: 0px 1px 3px 1px rgba(0, 0, 0, 0.15);\n",
              "      filter: drop-shadow(0px 1px 2px rgba(0, 0, 0, 0.3));\n",
              "      fill: #FFFFFF;\n",
              "    }\n",
              "  </style>\n",
              "\n",
              "      <script>\n",
              "        const buttonEl =\n",
              "          document.querySelector('#df-18ced1c9-da9a-481c-b7dd-c4b03241f99e button.colab-df-convert');\n",
              "        buttonEl.style.display =\n",
              "          google.colab.kernel.accessAllowed ? 'block' : 'none';\n",
              "\n",
              "        async function convertToInteractive(key) {\n",
              "          const element = document.querySelector('#df-18ced1c9-da9a-481c-b7dd-c4b03241f99e');\n",
              "          const dataTable =\n",
              "            await google.colab.kernel.invokeFunction('convertToInteractive',\n",
              "                                                     [key], {});\n",
              "          if (!dataTable) return;\n",
              "\n",
              "          const docLinkHtml = 'Like what you see? Visit the ' +\n",
              "            '<a target=\"_blank\" href=https://colab.research.google.com/notebooks/data_table.ipynb>data table notebook</a>'\n",
              "            + ' to learn more about interactive tables.';\n",
              "          element.innerHTML = '';\n",
              "          dataTable['output_type'] = 'display_data';\n",
              "          await google.colab.output.renderOutput(dataTable, element);\n",
              "          const docLink = document.createElement('div');\n",
              "          docLink.innerHTML = docLinkHtml;\n",
              "          element.appendChild(docLink);\n",
              "        }\n",
              "      </script>\n",
              "    </div>\n",
              "  </div>\n",
              "  "
            ]
          },
          "metadata": {}
        },
        {
          "output_type": "display_data",
          "data": {
            "text/plain": [
              "          id        f0        f1        f2         oil\n",
              "44378  Vcm5J -1.229484 -2.439204  1.222909  137.968290\n",
              "95090  Vcm5J  2.587702  1.986875  2.482245   92.327572"
            ],
            "text/html": [
              "\n",
              "  <div id=\"df-16583a26-bc31-4293-8200-a84b3decbc48\">\n",
              "    <div class=\"colab-df-container\">\n",
              "      <div>\n",
              "<style scoped>\n",
              "    .dataframe tbody tr th:only-of-type {\n",
              "        vertical-align: middle;\n",
              "    }\n",
              "\n",
              "    .dataframe tbody tr th {\n",
              "        vertical-align: top;\n",
              "    }\n",
              "\n",
              "    .dataframe thead th {\n",
              "        text-align: right;\n",
              "    }\n",
              "</style>\n",
              "<table border=\"1\" class=\"dataframe\">\n",
              "  <thead>\n",
              "    <tr style=\"text-align: right;\">\n",
              "      <th></th>\n",
              "      <th>id</th>\n",
              "      <th>f0</th>\n",
              "      <th>f1</th>\n",
              "      <th>f2</th>\n",
              "      <th>oil</th>\n",
              "    </tr>\n",
              "  </thead>\n",
              "  <tbody>\n",
              "    <tr>\n",
              "      <th>44378</th>\n",
              "      <td>Vcm5J</td>\n",
              "      <td>-1.229484</td>\n",
              "      <td>-2.439204</td>\n",
              "      <td>1.222909</td>\n",
              "      <td>137.968290</td>\n",
              "    </tr>\n",
              "    <tr>\n",
              "      <th>95090</th>\n",
              "      <td>Vcm5J</td>\n",
              "      <td>2.587702</td>\n",
              "      <td>1.986875</td>\n",
              "      <td>2.482245</td>\n",
              "      <td>92.327572</td>\n",
              "    </tr>\n",
              "  </tbody>\n",
              "</table>\n",
              "</div>\n",
              "      <button class=\"colab-df-convert\" onclick=\"convertToInteractive('df-16583a26-bc31-4293-8200-a84b3decbc48')\"\n",
              "              title=\"Convert this dataframe to an interactive table.\"\n",
              "              style=\"display:none;\">\n",
              "        \n",
              "  <svg xmlns=\"http://www.w3.org/2000/svg\" height=\"24px\"viewBox=\"0 0 24 24\"\n",
              "       width=\"24px\">\n",
              "    <path d=\"M0 0h24v24H0V0z\" fill=\"none\"/>\n",
              "    <path d=\"M18.56 5.44l.94 2.06.94-2.06 2.06-.94-2.06-.94-.94-2.06-.94 2.06-2.06.94zm-11 1L8.5 8.5l.94-2.06 2.06-.94-2.06-.94L8.5 2.5l-.94 2.06-2.06.94zm10 10l.94 2.06.94-2.06 2.06-.94-2.06-.94-.94-2.06-.94 2.06-2.06.94z\"/><path d=\"M17.41 7.96l-1.37-1.37c-.4-.4-.92-.59-1.43-.59-.52 0-1.04.2-1.43.59L10.3 9.45l-7.72 7.72c-.78.78-.78 2.05 0 2.83L4 21.41c.39.39.9.59 1.41.59.51 0 1.02-.2 1.41-.59l7.78-7.78 2.81-2.81c.8-.78.8-2.07 0-2.86zM5.41 20L4 18.59l7.72-7.72 1.47 1.35L5.41 20z\"/>\n",
              "  </svg>\n",
              "      </button>\n",
              "      \n",
              "  <style>\n",
              "    .colab-df-container {\n",
              "      display:flex;\n",
              "      flex-wrap:wrap;\n",
              "      gap: 12px;\n",
              "    }\n",
              "\n",
              "    .colab-df-convert {\n",
              "      background-color: #E8F0FE;\n",
              "      border: none;\n",
              "      border-radius: 50%;\n",
              "      cursor: pointer;\n",
              "      display: none;\n",
              "      fill: #1967D2;\n",
              "      height: 32px;\n",
              "      padding: 0 0 0 0;\n",
              "      width: 32px;\n",
              "    }\n",
              "\n",
              "    .colab-df-convert:hover {\n",
              "      background-color: #E2EBFA;\n",
              "      box-shadow: 0px 1px 2px rgba(60, 64, 67, 0.3), 0px 1px 3px 1px rgba(60, 64, 67, 0.15);\n",
              "      fill: #174EA6;\n",
              "    }\n",
              "\n",
              "    [theme=dark] .colab-df-convert {\n",
              "      background-color: #3B4455;\n",
              "      fill: #D2E3FC;\n",
              "    }\n",
              "\n",
              "    [theme=dark] .colab-df-convert:hover {\n",
              "      background-color: #434B5C;\n",
              "      box-shadow: 0px 1px 3px 1px rgba(0, 0, 0, 0.15);\n",
              "      filter: drop-shadow(0px 1px 2px rgba(0, 0, 0, 0.3));\n",
              "      fill: #FFFFFF;\n",
              "    }\n",
              "  </style>\n",
              "\n",
              "      <script>\n",
              "        const buttonEl =\n",
              "          document.querySelector('#df-16583a26-bc31-4293-8200-a84b3decbc48 button.colab-df-convert');\n",
              "        buttonEl.style.display =\n",
              "          google.colab.kernel.accessAllowed ? 'block' : 'none';\n",
              "\n",
              "        async function convertToInteractive(key) {\n",
              "          const element = document.querySelector('#df-16583a26-bc31-4293-8200-a84b3decbc48');\n",
              "          const dataTable =\n",
              "            await google.colab.kernel.invokeFunction('convertToInteractive',\n",
              "                                                     [key], {});\n",
              "          if (!dataTable) return;\n",
              "\n",
              "          const docLinkHtml = 'Like what you see? Visit the ' +\n",
              "            '<a target=\"_blank\" href=https://colab.research.google.com/notebooks/data_table.ipynb>data table notebook</a>'\n",
              "            + ' to learn more about interactive tables.';\n",
              "          element.innerHTML = '';\n",
              "          dataTable['output_type'] = 'display_data';\n",
              "          await google.colab.output.renderOutput(dataTable, element);\n",
              "          const docLink = document.createElement('div');\n",
              "          docLink.innerHTML = docLinkHtml;\n",
              "          element.appendChild(docLink);\n",
              "        }\n",
              "      </script>\n",
              "    </div>\n",
              "  </div>\n",
              "  "
            ]
          },
          "metadata": {}
        }
      ],
      "source": [
        "for idx, region in enumerate(regions_dict.values()):\n",
        "    doubles = region[\"data\"].loc[region[\"data\"].duplicated(subset = ['id'])].id\n",
        "    print(f\"Дублирующие записи для {idx}-го региона\")\n",
        "    for double in doubles:\n",
        "        display(region[\"data\"].query(\"id == @double\"))"
      ]
    },
    {
      "cell_type": "markdown",
      "metadata": {
        "id": "mnkJ0drtVR3N"
      },
      "source": [
        "При анализе дублирующих записей не удалось выявить каких-либо закономерностей. Не понятно, связаны ли дубликаты между собой (то есть, дубликаты - это записи об одной и той же скважине, например уточненные со временем или данные о разных скважинах, у которых случайно при обезличивании совпали идентификаторы.) С учетом того, что в названиях id использованы английские буквы в разных раскладках и цифры (всего 62 символа), а длина комбинации - 5 символов, символы в комбинации могут повторяться, то число возможных комбинаций равно: n!/(k!*(n-k)!)."
      ]
    },
    {
      "cell_type": "code",
      "execution_count": 11,
      "metadata": {
        "colab": {
          "base_uri": "https://localhost:8080/"
        },
        "id": "J-S7CwqVVR3N",
        "outputId": "a913563e-4045-4069-965a-ff216393ba6b"
      },
      "outputs": [
        {
          "output_type": "stream",
          "name": "stdout",
          "text": [
            "Вероятномсть одного совпадения сгенерированных значений id в одном ДФ равна0.0239%\n"
          ]
        }
      ],
      "source": [
        "print(f'Вероятномсть одного совпадения сгенерированных значений id в одном ДФ равна\\\n",
        "{(100000/(math.factorial(62)/(math.factorial(5)*math.factorial(62-5))))**2:.04%}')\n"
      ]
    },
    {
      "cell_type": "markdown",
      "metadata": {
        "id": "iac87uG1VR3N"
      },
      "source": [
        "Вероятность одного повторения крайне мала, вероятность же появления в ДФ нескольких повторов будет еще меньше, что переводит указанные события в категорию практически невозможных. Значит мы можем предположить, что появление повторений не случайно и связано:\n",
        "- с ошибкой пользователей (скопировали, списали не правильно id)\n",
        "- c плохим алгоритмом генерации случайных комбинаций (но тогда повторов ожидаемо было бы намного больше)\n",
        "- некорректным изменением парметров скважины, при котором появились дуюлирующие записи.\n",
        "\n",
        "Из предложенных вариантов, два наиболее вероятных связаны с ошибками записи данных в ДФ. Поэтому чтобы исключить влияние ошибок на оценки исследования следует удалить все повторяющиеся записи,тем более, что их много меньше 10% ДФ"
      ]
    },
    {
      "cell_type": "code",
      "execution_count": 12,
      "metadata": {
        "colab": {
          "base_uri": "https://localhost:8080/"
        },
        "id": "qIf04ProVR3O",
        "outputId": "17891eb6-747e-4dca-ba5e-ee96602b6558"
      },
      "outputs": [
        {
          "output_type": "stream",
          "name": "stdout",
          "text": [
            "Количество неполных дубликатов в ДФ 0-го региона:    0\n",
            "Количество неполных дубликатов в ДФ 1-го региона:    0\n",
            "Количество неполных дубликатов в ДФ 2-го региона:    0\n"
          ]
        }
      ],
      "source": [
        "#Исключаем записи с повторяющимися id\n",
        "for number, region in enumerate(regions_dict.values()):\n",
        "    region[\"data\"].drop_duplicates(subset = ['id'], inplace = True, ignore_index = True)\n",
        "    print(f'Количество неполных дубликатов в ДФ {number}-го региона:\\\n",
        "    {region[\"data\"].duplicated(subset = [\"id\"]).sum()}')\n"
      ]
    },
    {
      "cell_type": "markdown",
      "metadata": {
        "id": "dYMk4wJvVR3O"
      },
      "source": [
        "### Изучение данных\n",
        "\n",
        "Про столбцы в ТЗ сказано, что это некие данные, значения которых не должны обсуждаться. Посмотри, как они распределены. "
      ]
    },
    {
      "cell_type": "code",
      "execution_count": 13,
      "metadata": {
        "colab": {
          "base_uri": "https://localhost:8080/",
          "height": 1000
        },
        "id": "Id04UYWmVR3P",
        "outputId": "9d75ef43-4f20-4fb8-c04d-c991d6bae169"
      },
      "outputs": [
        {
          "output_type": "display_data",
          "data": {
            "text/plain": [
              "<Figure size 1500x1500 with 18 Axes>"
            ],
            "image/png": "[encoded data removed]"
          },
          "metadata": {}
        }
      ],
      "source": [
        "#Выводим на график распределения параметров для каждого региона\n",
        "fig, axes = plt.subplots(nrows=6, ncols=3, sharey=False, figsize=(15, 15))\n",
        "# Заголовок фигуры\n",
        "fig.suptitle('Распределение параметров скважин', fontsize=14, fontweight='bold');\n",
        "for idy, param in enumerate(param_list):\n",
        "    for idx, region in enumerate(regions_dict.values()):\n",
        "        region[\"data\"].plot(kind = 'hist', y = param, bins = 1000, ax = axes[2*idy][idx])\n",
        "        region[\"data\"].boxplot(column = [param], vert=False, ax = axes[2*idy + 1][idx])\n",
        "        \n",
        "        axes[2*idy][idx].set_xlabel(f'Признак {param}')\n",
        "        axes[2*idy][idx].set_ylabel('Частота');\n",
        "        axes[2*idy][idx].set(title = f\"Регион № {idx}\")\n",
        "        axes[2*idy][idx].legend().set_visible(False)\n",
        "\n",
        "#Определяем расстояние между заголовками графиков\n",
        "fig. tight_layout (h_pad= 2)\n",
        "#Определяем отступ для основного заголовка\n",
        "plt.subplots_adjust(top= 0.90)"
      ]
    },
    {
      "cell_type": "markdown",
      "metadata": {
        "id": "lO26xMsEVR3P"
      },
      "source": [
        "По гистограммам и ящикам с усами видно, что:\n",
        "1. В разных регионах распределение признаков имеет абсолютно разную форму\n",
        "2. Форма распределения признака f0 внешне выглядит нормальной только во втором регионе\n",
        "3. Форма распределения признака f1 внешне выглядит нормальной в первом и втором регионе\n",
        "3. Форма распределения признака f3 внешне выглядит нормальной в нулевом и втором регионе\n",
        "4.Там, где форма распределения похожа на нормальную, отмечается наличие кучных выбросов. Судя по кучности они не являются аномальными и не подлежат удалению.\n",
        "\n",
        "Параметры f0, f1, f2 - это признаки на основании которых будет вычисляться целевой признак. Чтобы исключить ухудшение качества машинных моделей, проверим степень корреляции между ними в разных регионах."
      ]
    },
    {
      "cell_type": "code",
      "execution_count": 14,
      "metadata": {
        "id": "aZyQHdVPVR3Q",
        "outputId": "29193545-bb29-4cff-ad96-f5765d76fdfe",
        "colab": {
          "base_uri": "https://localhost:8080/",
          "height": 399
        }
      },
      "outputs": [
        {
          "output_type": "stream",
          "name": "stderr",
          "text": [
            "<ipython-input-14-258b30802754>:5: FutureWarning: The default value of numeric_only in DataFrame.corr is deprecated. In a future version, it will default to False. Select only valid columns or specify the value of numeric_only to silence this warning.\n",
            "  sns.heatmap(region[\"data\"].corr(), ax = axes[idx])\n"
          ]
        },
        {
          "output_type": "display_data",
          "data": {
            "text/plain": [
              "<Figure size 1500x400 with 6 Axes>"
            ],
            "image/png": "[encoded data removed]"
          },
          "metadata": {}
        }
      ],
      "source": [
        "fig, axes = plt.subplots(nrows = 1, ncols = 3, sharey = False, figsize = (15, 4))\n",
        "# Заголовок фигуры\n",
        "fig.suptitle('Тепловая карта корреляции', fontsize=14, fontweight='bold');\n",
        "for idx, region in enumerate(regions_dict.values()):\n",
        "    sns.heatmap(region[\"data\"].corr(), ax = axes[idx])"
      ]
    },
    {
      "cell_type": "markdown",
      "metadata": {
        "id": "loFA9J-XVR3Q"
      },
      "source": [
        "По тепловым картам видно, что:\n",
        "1. Взаимная корреляция признаков f0, f1, f3 во всех регионах находится в диапазоне (-0.2- 0.2 ).\n",
        "2. Во всех регионах наиболее сильная зависимость наблюдаеся между запасами нефти и признаком f2. В первом регионе коэффицент связи стремится к 1.\n",
        "\n",
        "Так взаимное влияние признаков f0, f1, f3 отсутствует, оставляем их все без модификации ДФ. Рассмотрим данные о запазах нефти (целевой признак)."
      ]
    },
    {
      "cell_type": "code",
      "execution_count": 15,
      "metadata": {
        "id": "KYy6SrzzVR3R",
        "outputId": "d503f902-e277-4ed6-8f08-d8f3af08b877",
        "colab": {
          "base_uri": "https://localhost:8080/",
          "height": 349
        }
      },
      "outputs": [
        {
          "output_type": "display_data",
          "data": {
            "text/plain": [
              "<Figure size 1500x500 with 6 Axes>"
            ],
            "image/png": "[encoded data removed]"
          },
          "metadata": {}
        }
      ],
      "source": [
        "#Выводим на график распределения запасов нефти для каждого региона\n",
        "oil_list = [\"oil\"]\n",
        "fig, axes = plt.subplots(nrows = 2, ncols = 3, sharey = False, figsize = (15, 5))\n",
        "# Заголовок фигуры\n",
        "fig.suptitle('Распределение запасов нефти в скважинах', fontsize=14, fontweight='bold');\n",
        "for idy, param in enumerate(oil_list):\n",
        "    for idx, region in enumerate(regions_dict.values()):\n",
        "        region[\"data\"].plot(kind = 'hist', y = param, bins = 1000, ax = axes[2*idy][idx])\n",
        "        region[\"data\"].boxplot(column = [param], vert=False, ax = axes[2*idy + 1][idx])\n",
        "        \n",
        "        axes[2*idy][idx].set_xlabel(f'Запаск {param}')\n",
        "        axes[2*idy][idx].set_ylabel('Частота');\n",
        "        axes[2*idy][idx].set(title = f\"Регион № {idx}\")\n",
        "        axes[2*idy][idx].legend().set_visible(False)\n",
        "\n",
        "#Определяем расстояние между заголовками графиков\n",
        "fig. tight_layout (h_pad= 2)\n",
        "#Определяем отступ для основного заголовка\n",
        "plt.subplots_adjust(top= 0.90)"
      ]
    },
    {
      "cell_type": "markdown",
      "metadata": {
        "id": "RSLVpgIhVR3R"
      },
      "source": [
        "Распределение запасов нефти для нулевого и третьего регионов имеют близкую форму, которя по параметрам не может быть отесена ни к одному из часто используемых распределений. Больше всего она напоминает 6 наложенных друг на друга нормальных распределений. Вид распределения в первом регионе координально отличается. Данные этого региона выглядят слишком синтетическими, все возможные значения запасов нефти принимают одно из 4(!) возможных значений. В реальной жизни такая точность крайне маловероятна.\n",
        "Вместе с тем выбросов среди значений запасов не выявлено.\n",
        "\n",
        "Запас нефти - это целевой признак. Оставляем его в ДФ без модификаций."
      ]
    },
    {
      "cell_type": "markdown",
      "metadata": {
        "id": "JDlbF7SSVR3S"
      },
      "source": [
        "## Подготовка даныых для машинного обучения\n",
        "- разбиение на на обучающую и валидационную выборки в соотношении 75:25\n",
        "- масштабирование "
      ]
    },
    {
      "cell_type": "code",
      "execution_count": 16,
      "metadata": {
        "id": "z_vfNASbVR3T"
      },
      "outputs": [],
      "source": [
        "#Выкидываем столбец с неинформативными признаками - id\n",
        "for region in regions_dict.values():\n",
        "    region[\"data\"] = region[\"data\"].drop(columns = ['id'], axis = 1)"
      ]
    },
    {
      "cell_type": "markdown",
      "metadata": {
        "id": "mqIHylv6VR3U"
      },
      "source": [
        "### Разобиение данных на выборки"
      ]
    },
    {
      "cell_type": "code",
      "execution_count": 17,
      "metadata": {
        "id": "dgvAgf-WVR3U",
        "outputId": "cf07a219-a0c1-4bc1-e0ab-c92275d3c551",
        "colab": {
          "base_uri": "https://localhost:8080/"
        }
      },
      "outputs": [
        {
          "output_type": "stream",
          "name": "stdout",
          "text": [
            "Форма созданных массивов в регионе 0: признаки (99990, 3), целевой признак (99990,)\n",
            "Форма созданных массивов в регионе 1: признаки (99996, 3), целевой признак (99996,)\n",
            "Форма созданных массивов в регионе 2: признаки (99996, 3), целевой признак (99996,)\n"
          ]
        }
      ],
      "source": [
        "#Выделяем признаки и целевой признак\n",
        "for number, region in regions_dict.items():\n",
        "    region[\"target\"] = region[\"data\"].oil\n",
        "    region[\"features\"] = region[\"data\"].drop(columns = ['oil'], axis = 1)\n",
        "    print(f'Форма созданных массивов в регионе {number}: признаки {region[\"features\"].shape}, целевой признак {region[\"target\"].shape}')\n"
      ]
    },
    {
      "cell_type": "code",
      "execution_count": 18,
      "metadata": {
        "id": "7ilAl_5NVR3U",
        "outputId": "1c61057f-87c2-41bb-bff0-7fc52ebe865e",
        "colab": {
          "base_uri": "https://localhost:8080/"
        }
      },
      "outputs": [
        {
          "output_type": "stream",
          "name": "stdout",
          "text": [
            "Форма созданных массивов в регионе 0: \n",
            "    тренировочнные:  признаки (74992, 3), целевой признак (74992,)\n",
            "    тестовые:  признаки (24998, 3), целевой признак (24998,)\n",
            "    \n",
            "Форма созданных массивов в регионе 1: \n",
            "    тренировочнные:  признаки (74997, 3), целевой признак (74997,)\n",
            "    тестовые:  признаки (24999, 3), целевой признак (24999,)\n",
            "    \n",
            "Форма созданных массивов в регионе 2: \n",
            "    тренировочнные:  признаки (74997, 3), целевой признак (74997,)\n",
            "    тестовые:  признаки (24999, 3), целевой признак (24999,)\n",
            "    \n"
          ]
        }
      ],
      "source": [
        "#Делим выборку на тренировочную и тестовую\n",
        "for number, region in regions_dict.items():\n",
        "    region[\"fe_train\"], region[\"fe_test\"], region[\"ta_train\"], region[\"ta_test\"] = \\\n",
        "    train_test_split( region[\"features\"], region[\"target\"], test_size=0.25, random_state = state)\n",
        "    print(f'''Форма созданных массивов в регионе {number}: \n",
        "    тренировочнные:  признаки {region[\"fe_train\"].shape}, целевой признак {region[\"ta_train\"].shape}\n",
        "    тестовые:  признаки {region[\"fe_test\"].shape}, целевой признак {region[\"ta_test\"].shape}\n",
        "    ''')\n"
      ]
    },
    {
      "cell_type": "markdown",
      "metadata": {
        "id": "sLPmRUIWVR3V"
      },
      "source": [
        "### Масштабирование данных"
      ]
    },
    {
      "cell_type": "markdown",
      "metadata": {
        "id": "9iV6RMKeVR3V"
      },
      "source": [
        "Существует два подхода кмасштабированию: нормализация и стандартизация. Будем использовать стандартизацию, так как она позволяет обрабатывать выбросы в данных, которые появляются после масштабирования. "
      ]
    },
    {
      "cell_type": "code",
      "execution_count": 19,
      "metadata": {
        "id": "nDikC-QYVR3W",
        "outputId": "e6027e41-9bee-4fb2-a91d-d1689f6b1d74",
        "colab": {
          "base_uri": "https://localhost:8080/",
          "height": 409
        }
      },
      "outputs": [
        {
          "output_type": "display_data",
          "data": {
            "text/plain": [
              "<Figure size 1500x500 with 3 Axes>"
            ],
            "image/png": "[encoded data removed]"
          },
          "metadata": {}
        }
      ],
      "source": [
        "#Фиксируем графики параметров до масштабирования\n",
        "fig, axes = plt.subplots(nrows=1, ncols=3, sharey=False, figsize=(15, 5))\n",
        "# Заголовок фигуры\n",
        "fig.suptitle('Распределение параметров скважин', fontsize=14, fontweight='bold');\n",
        "for idx, region in enumerate(regions_dict.values()):\n",
        "    region['fe_train'].boxplot(column = param_list, ax = axes[idx])"
      ]
    },
    {
      "cell_type": "code",
      "execution_count": 20,
      "metadata": {
        "id": "akpLel9SVR3W"
      },
      "outputs": [],
      "source": [
        "for number, region in regions_dict.items():\n",
        "    #Формируем объект масштабатора\n",
        "    region[\"scaler\"] = StandardScaler()\n",
        "    \n",
        "    #Обучаем масштабатор на тренировочных выборках \n",
        "    region[\"scaler\"].fit(region[\"fe_train\"])\n",
        "    \n",
        "    #Масштабируем данные\n",
        "    region[\"fe_train\"] = pd.DataFrame(region[\"scaler\"].transform(region[\"fe_train\"]), columns = param_list)"
      ]
    },
    {
      "cell_type": "code",
      "execution_count": 21,
      "metadata": {
        "id": "L9Ogq6GRVR3X",
        "outputId": "ef5845a5-11f3-4bad-de0c-f714ca2f8557",
        "colab": {
          "base_uri": "https://localhost:8080/",
          "height": 412
        }
      },
      "outputs": [
        {
          "output_type": "display_data",
          "data": {
            "text/plain": [
              "<Figure size 1500x500 with 3 Axes>"
            ],
            "image/png": "[encoded data removed]"
          },
          "metadata": {}
        }
      ],
      "source": [
        "#Фиксируем графики параметров после масштабирования\n",
        "fig, axes = plt.subplots(nrows=1, ncols=3, sharey=False, figsize=(15, 5))\n",
        "# Заголовок фигуры\n",
        "fig.suptitle('Распределение параметров скважин', fontsize=14, fontweight='bold');\n",
        "for idx, region in enumerate(regions_dict.values()):\n",
        "    region['fe_train'].boxplot(column = param_list, ax = axes[idx])\n",
        "\n"
      ]
    },
    {
      "cell_type": "markdown",
      "metadata": {
        "id": "XeFNux7sVR3X"
      },
      "source": [
        "## Обучение и проверка модели"
      ]
    },
    {
      "cell_type": "markdown",
      "metadata": {
        "id": "WY5xDOSlVR3Y"
      },
      "source": [
        "### Подготовка модели для отбора оптимальных скважин (2 выборки)\n",
        "   - обучение модели на тренировочной выборке, поиск оптимальных гиперпараметров\n",
        "   - расчет среднего запаса нефти на валидационной выборке"
      ]
    },
    {
      "cell_type": "code",
      "execution_count": 22,
      "metadata": {
        "id": "9UzUXh_nVR3Y",
        "outputId": "66ffca57-8474-49b0-dace-408c9660a666",
        "colab": {
          "base_uri": "https://localhost:8080/"
        }
      },
      "outputs": [
        {
          "output_type": "stream",
          "name": "stdout",
          "text": [
            "Регион № 0, train:\n",
            "MSE = 1416.7,RMSE = 37.6,R^2 = 0.277\n",
            "Регион № 0, test:\n",
            "MSE = 1432.9,RMSE = 37.9,R^2 = 0.27239\n",
            "Регион № 1, train:\n",
            "MSE = 0.79021,RMSE = 0.889,R^2 = 1.0\n",
            "Регион № 1, test:\n",
            "MSE = 0.80063,RMSE = 0.895,R^2 = 0.99962\n",
            "Регион № 2, train:\n",
            "MSE = 1604.8,RMSE = 40.1,R^2 = 0.198\n",
            "Регион № 2, test:\n",
            "MSE = 1603.3,RMSE = 40.0,R^2 = 0.20125\n"
          ]
        }
      ],
      "source": [
        "#Модели линейной регрессии\n",
        "for number, region in regions_dict.items():\n",
        "    #Формируем модель\n",
        "    region[\"model\"] = LinearRegression()\n",
        "    \n",
        "    #Обучаем модель \n",
        "    region[\"model\"].fit(region[\"fe_train\"], region[\"ta_train\"])\n",
        "    \n",
        "    #Масштабируем тестовые данные\n",
        "    region[\"fe_test\"] = pd.DataFrame(region[\"scaler\"].transform(region[\"fe_test\"]), columns = param_list)\n",
        "    \n",
        "    #Определяем качество модели\n",
        "    region[\"pred_train\"] = region[\"model\"].predict(region[\"fe_train\"])\n",
        "    region[\"pred_test\"] = pd.Series(data = region[\"model\"].predict(region[\"fe_test\"]), index = region[\"ta_test\"].index)\n",
        "    \n",
        "    print(f'''Регион № {number}, train:\n",
        "MSE = {mean_squared_error(region[\"ta_train\"], region[\"pred_train\"]):.05},\\\n",
        "RMSE = {(mean_squared_error(region[\"ta_train\"], region[\"pred_train\"]))**0.5:.03},\\\n",
        "R^2 = {r2_score(region[\"ta_train\"], region[\"pred_train\"]):.03}''')\n",
        "\n",
        "    print(f'''Регион № {number}, test:\n",
        "MSE = {mean_squared_error(region[\"ta_test\"], region[\"pred_test\"]):.05},\\\n",
        "RMSE = {(mean_squared_error(region[\"ta_test\"], region[\"pred_test\"]))**0.5:.03},\\\n",
        "R^2 = {r2_score(region[\"ta_test\"], region[\"pred_test\"]):.05}''')\n",
        "    \n",
        "    \n"
      ]
    },
    {
      "cell_type": "markdown",
      "metadata": {
        "id": "iKvNe7feVR3Z"
      },
      "source": [
        "Лучше всего показатели модели на первом (среднем) регионе. При этом во всех регионах величина метрики RMSE практически не ухудшается при переходе с тренировочной выборки на тестовую."
      ]
    },
    {
      "cell_type": "markdown",
      "metadata": {
        "id": "Aztpti6tVR3b"
      },
      "source": [
        "Посмотрим как выглядят распределения предсказанных и фактических значений"
      ]
    },
    {
      "cell_type": "code",
      "execution_count": 23,
      "metadata": {
        "id": "QoHTgavrVR3c",
        "outputId": "f77a40de-e48f-4e61-fb71-5d50bc0e4cd1",
        "colab": {
          "base_uri": "https://localhost:8080/",
          "height": 410
        }
      },
      "outputs": [
        {
          "output_type": "display_data",
          "data": {
            "text/plain": [
              "<Figure size 1500x500 with 3 Axes>"
            ],
            "image/png": "[encoded data removed]"
          },
          "metadata": {}
        }
      ],
      "source": [
        "#Диаграммы с усами для предсказанных и фактических запасов\n",
        "fig, axes = plt.subplots(nrows=1, ncols=3, sharey=False, figsize=(15, 5))\n",
        "# Заголовок фигуры\n",
        "fig.suptitle('Диаграммы с усами для предсказанных и фактических запасов', fontsize=14, fontweight='bold');\n",
        "#Объединение реальных и предсказанных значений в одном ДФ\n",
        "for idx, region in enumerate(regions_dict.values()):\n",
        "    region[\"target_and_pred\"] = pd.DataFrame(data = {'test_target': region['ta_test'], 'prediction': region['pred_test']},\\\n",
        "                index = region['ta_test'].index)\n",
        "    region[\"target_and_pred\"].boxplot(ax = axes[idx])   "
      ]
    },
    {
      "cell_type": "markdown",
      "metadata": {
        "id": "afzyJKS_VR3c"
      },
      "source": [
        "Более-менее адекватными видятся предсказания в первом регионе. Это было ожидаемо, ведь в этом регионе один из признаков имеет коэффициент корреляции с запасами нефти, равный 1. В нулевом регионе получилось одно отрицательное значение запасов нефти. В нулевом и первом регионах кроме того пространство возможных значений запасов очень сильно сжалось. Кроме того,можно отметить, что:\n",
        "1. Во всех регионах предсказания не выходят за границы фактических значений (то есть риск того, что предсказание будет намного превышать фактические запасы топлива минимален)\n",
        "2. Во всех регионах средние значения предсказаний близки к фактическим средним\n",
        "3. В 0 регионе предсказания самые точные, что объясняется сильной положительной связью признака и целевого признака\n",
        "4. Во 0 и 2 регионах отмечается значительное количество выбросов, симметричных относительно медианы."
      ]
    },
    {
      "cell_type": "code",
      "execution_count": 24,
      "metadata": {
        "id": "gIhcm4NvVR3d",
        "outputId": "c04080bb-ac4a-443e-d7fa-c16f7635f2e1",
        "colab": {
          "base_uri": "https://localhost:8080/"
        }
      },
      "outputs": [
        {
          "output_type": "stream",
          "name": "stdout",
          "text": [
            "В предсказаниях региона 0 выявлено:     1 отрицательных значений\n",
            "В предсказаниях региона 1 выявлено:     543 отрицательных значений\n",
            "В предсказаниях региона 2 выявлено:     0 отрицательных значений\n"
          ]
        }
      ],
      "source": [
        "for number, region in enumerate(regions_dict.values()):\n",
        "    print(f'''В предсказаниях региона {number} выявлено: \\\n",
        "    {region[\"target_and_pred\"].prediction.transform(lambda x: 1 if x < 0 else 0).sum()} отрицательных значений''')\n"
      ]
    },
    {
      "cell_type": "markdown",
      "metadata": {
        "id": "ZY3cjn0BVR3f"
      },
      "source": [
        "## Подготовка к расчёту прибыли"
      ]
    },
    {
      "cell_type": "code",
      "execution_count": 25,
      "metadata": {
        "id": "bC_vNsuPVR3f"
      },
      "outputs": [],
      "source": [
        "# Константы для расчетов запасов сырья и прибыли\n",
        "MILLIARD = 1000000000\n",
        "oil_cost = 450000\n",
        "expenses = 10*MILLIARD\n",
        "number_of_hole = 200\n",
        "number_of_seens = 500"
      ]
    },
    {
      "cell_type": "markdown",
      "metadata": {
        "id": "zrbGbYcrVR3f"
      },
      "source": [
        "### Рассчет объёма сырья в одной скважине, достаточного для безубыточной разработки нового региона. "
      ]
    },
    {
      "cell_type": "code",
      "execution_count": 26,
      "metadata": {
        "id": "oOI-Wma_VR3g",
        "outputId": "b164c270-0580-4e58-bec3-005f91d90b1f",
        "colab": {
          "base_uri": "https://localhost:8080/"
        }
      },
      "outputs": [
        {
          "output_type": "stream",
          "name": "stdout",
          "text": [
            "Объём сырья, достаточного для безубыточной разработки региона: 111.1 единиц топлива\n"
          ]
        }
      ],
      "source": [
        "requred_oil = expenses/(oil_cost*number_of_hole)\n",
        "print(f'Объём сырья, достаточного для безубыточной разработки региона: {requred_oil:.04} единиц топлива')"
      ]
    },
    {
      "cell_type": "markdown",
      "metadata": {
        "id": "D6wRaMKRVR3g"
      },
      "source": [
        "По результатам оценки получено среднее значение сырья в одной скважине, достаточное для безубыточной разработки нового региона. Это не значит, что в каждой скважине должно быть такое количество сырья. Естественно, что в некоторых скважинах сырья будет меньше, а в других значительно больше. Так, как это проиллюстрировано на диаграммах размаха."
      ]
    },
    {
      "cell_type": "markdown",
      "metadata": {
        "id": "pJfmj386VR3h"
      },
      "source": [
        "### Сравнение необходимого объёма сырья со средним запасом в каждом регионе."
      ]
    },
    {
      "cell_type": "code",
      "execution_count": 27,
      "metadata": {
        "id": "BzHPNEAXVR3h",
        "outputId": "a433aa88-6b4e-4c1e-828c-128c7ea0fd0f",
        "colab": {
          "base_uri": "https://localhost:8080/"
        }
      },
      "outputs": [
        {
          "output_type": "stream",
          "name": "stdout",
          "text": [
            "Средний объём сырья в регионе 0: 92.78915638280621\n",
            "Средний объём сырья в регионе 1: 68.95746560835222\n",
            "Средний объём сырья в регионе 2: 95.07949668343952\n"
          ]
        }
      ],
      "source": [
        "for number, region in enumerate(regions_dict.values()):\n",
        "    print(f'Средний объём сырья в регионе {number}: {region[\"target_and_pred\"].prediction.mean()}')\n",
        "    "
      ]
    },
    {
      "cell_type": "markdown",
      "metadata": {
        "id": "jlk0pjRaVR3h"
      },
      "source": [
        "По результам сравнения в лоб (основываясь на однократном предсказании модели) получается, что разработка будет убыточна во всех регионах. Но формировать выводы по этим данным нецелесообразно, потому что:\n",
        "1. они недостаточно надежны (единичный эксперемент - это слишком мало для формулирования статистически значимых выводов)\n",
        "2. они учитывают все скважины, а по условю задания подлежат разработке только 200 наиболее успешных из 500 рассматриваемых. \n",
        "\n",
        "Для создания условий для статистическизначимой оценки\n",
        "величины запасов сырья в скважинах по региону применим технику bootstrep, эмулирующую многократные эксперименты. При реализации техники Bootstrep учтем условие задания, в соответсвии с которым потенциально в регионе могут \"посмотреть\" 500 скважин из которых разработке подлежат 200 скважин."
      ]
    },
    {
      "cell_type": "markdown",
      "metadata": {
        "id": "1XbxFW3cVR3j"
      },
      "source": [
        "### Оценка прибыли по регионам методом bootstrep"
      ]
    },
    {
      "cell_type": "markdown",
      "metadata": {
        "id": "0IzU5ZC5VR3j"
      },
      "source": [
        "#### Расчет прибыли"
      ]
    },
    {
      "cell_type": "code",
      "execution_count": 29,
      "metadata": {
        "id": "sZDDVEUkVR3k"
      },
      "outputs": [],
      "source": [
        "#Расчет прибыли\n",
        "for number, region in enumerate(regions_dict.values()):\n",
        "    region[\"real_profit\"] =\\\n",
        "    calc_profit(region[\"target_and_pred\"], oil_cost, number_of_hole, number_of_seens, 1000)   \n",
        "    "
      ]
    },
    {
      "cell_type": "markdown",
      "metadata": {
        "id": "18Dd-nHHVR3k"
      },
      "source": [
        "#### Расчет доверительного интервала"
      ]
    },
    {
      "cell_type": "code",
      "execution_count": 30,
      "metadata": {
        "id": "ixkTYo8FVR3k",
        "outputId": "239d46ac-304a-475a-f800-ffd9f672759b",
        "colab": {
          "base_uri": "https://localhost:8080/"
        }
      },
      "outputs": [
        {
          "output_type": "stream",
          "name": "stdout",
          "text": [
            "Расчетные реальные данные по региону 0:\n",
            "    - cредняя операционная прибыль: 0.3921015936631343 млрд.,\n",
            "    - верхняя граница 95% интервала: 0.9252057174672367 млрд., \n",
            "    - нижняя граница 95% интервала: -0.11412179890033186 млрд.\n",
            "Расчетные реальные данные по региону 1:\n",
            "    - cредняя операционная прибыль: 0.44785879914632837 млрд.,\n",
            "    - верхняя граница 95% интервала: 0.8558177394014543 млрд., \n",
            "    - нижняя граница 95% интервала: 0.028158769586531168 млрд.\n",
            "Расчетные реальные данные по региону 2:\n",
            "    - cредняя операционная прибыль: 0.44280007130870985 млрд.,\n",
            "    - верхняя граница 95% интервала: 0.924152918385759 млрд., \n",
            "    - нижняя граница 95% интервала: -0.06267475270254252 млрд.\n"
          ]
        }
      ],
      "source": [
        "#Расчет 95% доверительного интервала\n",
        "for number, region in enumerate(regions_dict.values()):\n",
        "    region[\"real_profit\"] = pd.Series(region[\"real_profit\"])\n",
        "    print(f'''Расчетные реальные данные по региону {number}:\n",
        "    - cредняя операционная прибыль: {region[\"real_profit\"].mean()/MILLIARD} млрд.,\n",
        "    - верхняя граница 95% интервала: {region[\"real_profit\"].quantile(0.975)/MILLIARD} млрд., \n",
        "    - нижняя граница 95% интервала: {region[\"real_profit\"].quantile(0.025)/MILLIARD} млрд.''')   \n"
      ]
    },
    {
      "cell_type": "code",
      "execution_count": 31,
      "metadata": {
        "id": "vK5fL4RMVR3n",
        "outputId": "727bd532-67dc-40e7-865d-f91071fa43be",
        "colab": {
          "base_uri": "https://localhost:8080/"
        }
      },
      "outputs": [
        {
          "output_type": "stream",
          "name": "stdout",
          "text": [
            "Риск убытков в регионе № 0 равен 0.061\n",
            "Риск убытков в регионе № 1 равен 0.018\n",
            "Риск убытков в регионе № 2 равен 0.043\n"
          ]
        }
      ],
      "source": [
        "#Расчет риска отрицательной операционой прибыли\n",
        "for number, region in enumerate(regions_dict.values()):\n",
        "    print(f'Риск убытков в регионе № {number} равен {(region[\"real_profit\"] < 0).sum()/(1000)}')    "
      ]
    },
    {
      "cell_type": "markdown",
      "metadata": {
        "id": "pJiKHnhFVR3o"
      },
      "source": [
        "#### Графики распределений"
      ]
    },
    {
      "cell_type": "code",
      "execution_count": 32,
      "metadata": {
        "id": "XXHodYyRVR3o"
      },
      "outputs": [],
      "source": [
        "def currency(x, pos):\n",
        "    'Два аргумента - это значение и позиция отметки.'\n",
        "    if x >= 1000000000:\n",
        "        return f'{x/MILLIARD}М'\n",
        "    return f'{x/1000000}м.'"
      ]
    },
    {
      "cell_type": "code",
      "execution_count": 33,
      "metadata": {
        "id": "hFlzhn8zVR3o",
        "outputId": "3b985940-343f-4f0d-f690-ab60e473d588",
        "colab": {
          "base_uri": "https://localhost:8080/",
          "height": 316
        }
      },
      "outputs": [
        {
          "output_type": "display_data",
          "data": {
            "text/plain": [
              "<Figure size 2000x500 with 3 Axes>"
            ],
            "image/png": "[encoded data removed]"
          },
          "metadata": {}
        }
      ],
      "source": [
        "#Ввод графиков распределения оценки прибыли и сравнение их с нормальным распределением\n",
        "fig, axes = plt.subplots(nrows=1, ncols=3, sharey=False, figsize=(20, 5))\n",
        "# Заголовок фигуры\n",
        "fig.suptitle('Распределение предсказанной прибыли', fontsize=14, fontweight='bold');\n",
        "for idx, region in enumerate(regions_dict.values()):\n",
        "    formatter = FuncFormatter(currency)\n",
        "    axes[idx].xaxis.set_major_formatter(formatter)\n",
        "    #Масштабированное распределение прибыли\n",
        "    axes[idx].hist(region[\"real_profit\"], bins = 300, stacked = True, density = True)\n",
        "    #Параметры нормального распределения\n",
        "    std = np.std(region[\"real_profit\"])\n",
        "    mu = np.mean(region[\"real_profit\"])\n",
        "    #Нормальное распределение с параметрами распределения прибыли\n",
        "    x = np.arange (min(region[\"real_profit\"]), max(region[\"real_profit\"]), 100000)\n",
        "    axes[idx].plot(x, norm.pdf (x, mu, std))\n",
        "    #Границы 95% интервала\n",
        "    axes[idx].axvline(x = region[\"real_profit\"].quantile(0.975), ymin=0, ymax=1, color = 'red')\n",
        "    axes[idx].axvline(x = region[\"real_profit\"].quantile(0.025), ymin=0, ymax=1, color = 'red') \n",
        "    "
      ]
    },
    {
      "cell_type": "markdown",
      "metadata": {
        "id": "oK48ZaehVR3p"
      },
      "source": [
        "Очевидно 1000 итираций недостаточно чтобы создать нормальное распределение приемлимой формы. Ради эксперемента попробуем увеличить количество итераций в 10 раз"
      ]
    },
    {
      "cell_type": "code",
      "execution_count": 34,
      "metadata": {
        "id": "CkBq3QjoVR3p"
      },
      "outputs": [],
      "source": [
        "#Расчет прибыли\n",
        "for number, region in enumerate(regions_dict.values()):\n",
        "    region[\"experiment_real_profit\"] =\\\n",
        "    calc_profit(region[\"target_and_pred\"], oil_cost, number_of_hole, number_of_seens, 10000)\n",
        "    region[\"experiment_real_profit\"] = pd.Series(region[\"experiment_real_profit\"])"
      ]
    },
    {
      "cell_type": "code",
      "execution_count": 35,
      "metadata": {
        "id": "zTPrngv1VR3q",
        "outputId": "2865778c-d99d-4a76-e22b-1e8f3fb855a3",
        "colab": {
          "base_uri": "https://localhost:8080/",
          "height": 408
        }
      },
      "outputs": [
        {
          "output_type": "display_data",
          "data": {
            "text/plain": [
              "<Figure size 1500x500 with 3 Axes>"
            ],
            "image/png": "[encoded data removed]"
          },
          "metadata": {}
        }
      ],
      "source": [
        "#Ввод графиков распределения оценки прибыли и сравнение их с нормальным распределением\n",
        "fig, axes = plt.subplots(nrows=1, ncols=3, sharey=False, figsize=(15, 5))\n",
        "# Заголовок фигуры\n",
        "fig.suptitle('Распределение предсказанной прибыли', fontsize=14, fontweight='bold');\n",
        "for idx, region in enumerate(regions_dict.values()):\n",
        "    formatter = FuncFormatter(currency)\n",
        "    axes[idx].xaxis.set_major_formatter(formatter)\n",
        "    #Масштабированное распределение прибыли\n",
        "    axes[idx].hist(region[\"experiment_real_profit\"], bins = 300, stacked = True, density = True)\n",
        "    #Параметры нормального распределения\n",
        "    std = np.std(region[\"experiment_real_profit\"])\n",
        "    mu = np.mean(region[\"experiment_real_profit\"])\n",
        "    #Нормальное распределение с параметрами распределения прибыли\n",
        "    x = np.arange (min(region[\"experiment_real_profit\"]), max(region[\"experiment_real_profit\"]), 100000)\n",
        "    axes[idx].plot(x, norm.pdf (x, mu, std))\n",
        "    #Границы 95% интервала\n",
        "    axes[idx].axvline(x = region[\"experiment_real_profit\"].quantile(0.975), ymin=0, ymax=1, color = 'red')\n",
        "    axes[idx].axvline(x = region[\"experiment_real_profit\"].quantile(0.025), ymin=0, ymax=1, color = 'red') "
      ]
    },
    {
      "cell_type": "markdown",
      "metadata": {
        "id": "Y-5ZdZZ_VR3q"
      },
      "source": [
        "На графиках четко видно, что качество распределения (нормальность) существенно улучшилось. Однако далее в расчетах будем использовать распределение, полученные в соттветствии с параметрами, указанными в задании."
      ]
    },
    {
      "cell_type": "markdown",
      "metadata": {
        "id": "6BovMD41VR3q"
      },
      "source": [
        "#### Расчёт вероятности убытков"
      ]
    },
    {
      "cell_type": "code",
      "execution_count": 36,
      "metadata": {
        "id": "vxCb_ZvrVR3r",
        "outputId": "870dc91f-009d-4fdf-cd0c-975ce8e8dad4",
        "colab": {
          "base_uri": "https://localhost:8080/"
        }
      },
      "outputs": [
        {
          "output_type": "stream",
          "name": "stdout",
          "text": [
            "Веротность того, что разработка в регионе будет убыточной равна: 6.83%\n",
            "Веротность того, что разработка в регионе будет убыточной равна: 1.50%\n",
            "Веротность того, что разработка в регионе будет убыточной равна: 4.27%\n"
          ]
        }
      ],
      "source": [
        "for idx, region in enumerate(regions_dict.values()):\n",
        "    #Параметры нормального распределения\n",
        "    std = np.std(region[\"real_profit\"])\n",
        "    mu = np.mean(region[\"real_profit\"])\n",
        "    #Вероятность убыточной разработки\n",
        "    print(f'Веротность того, что разработка в регионе будет убыточной равна: {norm(loc = mu , scale = std).cdf(0):.02%}')    "
      ]
    },
    {
      "cell_type": "markdown",
      "metadata": {
        "id": "TqKHWrbwVR3r"
      },
      "source": [
        "Вероятность убыточной разработки больше всего в нулевом регионе. Она не превышает 2.5 % только в среднем регионе. "
      ]
    },
    {
      "cell_type": "markdown",
      "metadata": {
        "id": "ntSZ1lkcVR3r"
      },
      "source": [
        "#### Выбор потенциально самого прибыльного региона"
      ]
    },
    {
      "cell_type": "code",
      "execution_count": 37,
      "metadata": {
        "id": "gW_JSvSsVR3s",
        "outputId": "47376e3b-ed6e-4cf8-af31-feb9dc0a58f2",
        "colab": {
          "base_uri": "https://localhost:8080/"
        }
      },
      "outputs": [
        {
          "output_type": "stream",
          "name": "stdout",
          "text": [
            "Регион № 0 \n",
            " мода 0.3921,  СТД 0.26339,  предел: -0.11412, риск убытка: 6.10%, риск убытка (стат): 6.8286%\n",
            "Регион № 1 \n",
            " мода 0.44786,  СТД 0.2064,  предел: 0.028159, риск убытка: 1.80%, риск убытка (стат): 1.5007%\n",
            "Регион № 2 \n",
            " мода 0.4428,  СТД 0.25746,  предел: -0.062675, риск убытка: 4.30%, риск убытка (стат): 4.2729%\n"
          ]
        }
      ],
      "source": [
        "#Вывод основных характеристик\n",
        "for idx, region in enumerate(regions_dict.values()):\n",
        "    #Параметры нормального распределения\n",
        "    print(f'''Регион № {idx} \n",
        " мода {region[\"real_profit\"].mean()/MILLIARD:.05}, \\\n",
        " СТД {np.std(region[\"real_profit\"])/MILLIARD:.05}, \\\n",
        " предел: {region[\"real_profit\"].quantile(0.025)/MILLIARD:.05},\\\n",
        " риск убытка: {(region[\"real_profit\"] < 0).sum()/(1000):.02%},\\\n",
        " риск убытка (стат): {norm(loc = np.mean(region[\"real_profit\"]) , scale = np.std(region[\"real_profit\"])).cdf(0):.04%}''')\n",
        "    \n"
      ]
    },
    {
      "cell_type": "markdown",
      "metadata": {
        "id": "OyOeJygVVR3s"
      },
      "source": [
        "Выбор перспективного региона однозначен:\n",
        "1. Среднее значение прибыли больше всего в первом (среднем) регионе, при этом дисперсия в этом регионе самая маленькая, а значит разброс вероятных значений прибыли вокруг среднего также небольшой.Установившийся баланс между большой модой и маленькой дисперсией позволяет занимать региону последнее место по вероятности убытков (менее 1.5 %).\n",
        "2. В остальных регионах мода распределения ниже, а дисперсия выше, что логичным образом увеличивает шансы возникновения ситуации, когда чистая прибыли по региону будет меньше 10 млрд, а значит разработка региона станет убыточной\n",
        "3. С учетом изложенного, самым перспективным представляется первый (средний) регион. В нем идеальное соотношение величины моды, дисперсиии и границы доверительного интервала, что позвляет достигать вероятности убытков, меньшей 1.5%\n",
        "\n",
        "Вместе с тем, стоит отметить, что решение такого масштаба не следует принимать на основании одного исследования.  "
      ]
    },
    {
      "cell_type": "markdown",
      "metadata": {
        "id": "39tx07ILVR3t"
      },
      "source": [
        "## Выводы\n",
        "\n",
        "Целью исследования было выбрать среди трех регионов один, наиболее перспективный с точки зрения разработки сырья и получения прибыли. Выбор региона необходимо было осуществить на основании полученных ранее характеристик скважин и исторических данных об объемах сырья. \n",
        "\n",
        "\n",
        "В процесе исследования:\n",
        "\n",
        "1. Загружены и изучены данные о скважинах в трех регионах\n",
        "2. Загруженные данные оценены:\n",
        "    - определена форма их распределения\n",
        "    - проверена взаимная корреляция\n",
        "3. Выполнена предъобработка, включая:\n",
        "   - переименование названия столбца (с product на oil, так как имя product используется в библиотете pandas)\n",
        "   - проверку корректноти назначенных типов данных (некорректных назначений не выявлено\n",
        "   - поиск полных и неявных дубликатов (удалено 30 неявных дубликатов)\n",
        "   - поиск и заполнение пропусков (не выявлено)\n",
        "   - выявление аномальных значений (не выявлено)\n",
        "   - удаление неинформативных столбцов, затрудняющих обучение моделей ('id')\n",
        "4. Подготовлены данные для машинного обучения:\n",
        "    - данные разбиты на обучающую и валидационную выборки в соотношении 75:25\n",
        "    - создана и обучена на обучающей выборке модель стандартизатора\n",
        "    - выполнено масштабирование обеих выборок\n",
        "5. Выполнена подготовка к машинному обучению:\n",
        "    - полготовлена и обучена модель линейной регрессии с градиентым спуском\n",
        "    - модель обучена на тренировочной выборке, выбраны лучщие гиперпараметры\n",
        "    - получены предсказания на тестовой выборке\n",
        "    - из предсказанных значений удалены отрицательные значения\n",
        "6. Проведено сравнение предсказанных и фактических показателей запасов сырья:\n",
        "    - построены диаграммы размаха (для фактических и предсказанных значений)\n",
        "    - расчитаны средние значения\n",
        "    - сформированы выводы, отмечено, что:\n",
        "        - во всех регионах предсказания не выходят за границы фактических значений (то есть риск того, что предсказание будет намного превышать фактические запасы топлива минимален)\n",
        "        - во всех регионах средние значения предсказаний очень близки к фактическим средним\n",
        "        - самые точные предсказания в первом регионе, что обусловлено сильной положительной связью признака и целевого признака\n",
        "        - в нулевом и во втором регионах отмечается значительное количество выбросов, симметричных относительно медианы.\n",
        "        \n",
        "7. Проведена подготовка к расчету прибыли\n",
        "    - заданы константы, необходимые для расчета\n",
        "    - оформлена функция для расчета прибыли\n",
        "    - методом bootstrep построены плотности вероятности для оценки средней прибыли \n",
        "8. На основании сформированного массива оценок средней прибыли определены:\n",
        "    - доверительные интервалы средней прибыли\n",
        "    - вероятность убытков\n",
        "    - построены графики распределения плотности вероятности оценки прибыли\n",
        "    - приведено описание построенных графиков, отмечено, что:\n",
        "    \n",
        "        1. Среднее значение прибыли больше всего в первом (среднем) регионе, при этом дисперсия в этом регионе самая маленькая, а значит разброс вероятных значений прибыли вокруг среднего также небольшой.Установившийся баланс между большой модой и маленькой дисперсией позволяет занимать региону последнее место по вероятности убытков (менее 1.5 %).\n",
        "        2. В остальных регионах мода распределения ниже, а дисперсия выше, что логичным образом увеличивает шансы возникновения ситуации, когда чистая прибыли по региону будет меньше 10 млрд, а значит разработка региона станет убыточной\n",
        "        3. С учетом изложенного, самым перспективным представляется первый (средний) регион. В нем идеальное соотношение величины моды, дисперсиии и границы доверительного интервала, что позвляет достигать вероятности убытков, меньшей 1.5%\n",
        "  \n",
        "9. Основании полученных характеристик оценок средней прибыли выбран наиболее перспективный регион - первый.\n",
        "\n",
        "Все данные, параметры и объекты обученных моделей зафиксированы в словаре regions_dict"
      ]
    }
  ],
  "metadata": {
    "ExecuteTimeLog": [
      {
        "duration": 73,
        "start_time": "2022-11-29T12:57:21.187Z"
      },
      {
        "duration": 54,
        "start_time": "2022-11-29T13:47:45.028Z"
      },
      {
        "duration": 409,
        "start_time": "2022-11-29T13:47:50.464Z"
      },
      {
        "duration": 878,
        "start_time": "2022-11-29T13:47:52.695Z"
      },
      {
        "duration": 29,
        "start_time": "2022-11-29T13:49:15.383Z"
      },
      {
        "duration": 11,
        "start_time": "2022-11-29T13:49:48.095Z"
      },
      {
        "duration": 30,
        "start_time": "2022-11-29T13:50:38.716Z"
      },
      {
        "duration": 41,
        "start_time": "2022-11-29T13:51:03.512Z"
      },
      {
        "duration": 94,
        "start_time": "2022-11-29T13:51:43.461Z"
      },
      {
        "duration": 437,
        "start_time": "2022-11-29T13:52:05.931Z"
      },
      {
        "duration": 67,
        "start_time": "2022-11-29T13:52:20.311Z"
      },
      {
        "duration": 7,
        "start_time": "2022-11-29T14:00:58.067Z"
      },
      {
        "duration": 71,
        "start_time": "2022-11-29T14:01:06.528Z"
      },
      {
        "duration": 64,
        "start_time": "2022-11-29T14:01:11.057Z"
      },
      {
        "duration": 58,
        "start_time": "2022-11-29T14:01:22.028Z"
      },
      {
        "duration": 56,
        "start_time": "2022-11-29T14:01:33.240Z"
      },
      {
        "duration": 157,
        "start_time": "2022-11-29T14:04:08.984Z"
      },
      {
        "duration": 4,
        "start_time": "2022-11-29T14:04:17.937Z"
      },
      {
        "duration": 159,
        "start_time": "2022-11-29T14:04:26.526Z"
      },
      {
        "duration": 87,
        "start_time": "2022-11-29T14:06:58.569Z"
      },
      {
        "duration": 58,
        "start_time": "2022-11-29T14:07:48.743Z"
      },
      {
        "duration": 26,
        "start_time": "2022-11-29T14:09:51.361Z"
      },
      {
        "duration": 48,
        "start_time": "2022-11-29T14:10:24.886Z"
      },
      {
        "duration": 9,
        "start_time": "2022-11-29T14:11:31.054Z"
      },
      {
        "duration": 10,
        "start_time": "2022-11-29T14:11:37.855Z"
      },
      {
        "duration": 338,
        "start_time": "2022-11-29T14:12:01.707Z"
      },
      {
        "duration": 114,
        "start_time": "2022-11-29T14:12:09.523Z"
      },
      {
        "duration": 88,
        "start_time": "2022-11-29T14:12:42.298Z"
      },
      {
        "duration": 77,
        "start_time": "2022-11-29T14:12:56.007Z"
      },
      {
        "duration": 76,
        "start_time": "2022-11-29T14:13:01.717Z"
      },
      {
        "duration": 8,
        "start_time": "2022-11-29T14:14:10.778Z"
      },
      {
        "duration": 81,
        "start_time": "2022-11-29T14:14:19.664Z"
      },
      {
        "duration": 74,
        "start_time": "2022-11-29T14:14:36.785Z"
      },
      {
        "duration": 9,
        "start_time": "2022-11-29T14:15:03.553Z"
      },
      {
        "duration": 85,
        "start_time": "2022-11-29T14:15:14.191Z"
      },
      {
        "duration": 97,
        "start_time": "2022-11-29T14:15:29.264Z"
      },
      {
        "duration": 77,
        "start_time": "2022-11-29T14:16:19.482Z"
      },
      {
        "duration": 79,
        "start_time": "2022-11-29T14:16:42.548Z"
      },
      {
        "duration": 89,
        "start_time": "2022-11-29T14:17:01.410Z"
      },
      {
        "duration": 76,
        "start_time": "2022-11-29T14:17:17.599Z"
      },
      {
        "duration": 156,
        "start_time": "2022-11-29T14:17:28.204Z"
      },
      {
        "duration": 78,
        "start_time": "2022-11-29T14:17:32.655Z"
      },
      {
        "duration": 91,
        "start_time": "2022-11-29T14:18:38.980Z"
      },
      {
        "duration": 105,
        "start_time": "2022-11-29T14:19:00.210Z"
      },
      {
        "duration": 113,
        "start_time": "2022-11-29T14:19:16.243Z"
      },
      {
        "duration": 106,
        "start_time": "2022-11-29T14:20:39.234Z"
      },
      {
        "duration": 102,
        "start_time": "2022-11-29T14:20:50.223Z"
      },
      {
        "duration": 102,
        "start_time": "2022-11-29T14:21:37.429Z"
      },
      {
        "duration": 97,
        "start_time": "2022-11-29T14:22:11.127Z"
      },
      {
        "duration": 95,
        "start_time": "2022-11-29T14:22:43.571Z"
      },
      {
        "duration": 99,
        "start_time": "2022-11-29T14:24:33.542Z"
      },
      {
        "duration": 61,
        "start_time": "2022-11-29T14:24:56.729Z"
      },
      {
        "duration": 61,
        "start_time": "2022-11-29T14:25:22.332Z"
      },
      {
        "duration": 161,
        "start_time": "2022-11-29T14:25:35.924Z"
      },
      {
        "duration": 288,
        "start_time": "2022-11-29T14:30:39.525Z"
      },
      {
        "duration": 5,
        "start_time": "2022-11-29T15:59:36.861Z"
      },
      {
        "duration": 5,
        "start_time": "2022-11-29T16:00:08.544Z"
      },
      {
        "duration": 5,
        "start_time": "2022-11-29T16:00:19.418Z"
      },
      {
        "duration": 5,
        "start_time": "2022-11-29T16:01:20.080Z"
      },
      {
        "duration": 82,
        "start_time": "2022-11-29T16:07:01.907Z"
      },
      {
        "duration": 3,
        "start_time": "2022-11-29T16:07:12.654Z"
      },
      {
        "duration": 4,
        "start_time": "2022-11-29T16:07:32.557Z"
      },
      {
        "duration": 3,
        "start_time": "2022-11-29T16:07:42.436Z"
      },
      {
        "duration": 4,
        "start_time": "2022-11-29T16:09:14.500Z"
      },
      {
        "duration": 3,
        "start_time": "2022-11-29T16:09:26.104Z"
      },
      {
        "duration": 3,
        "start_time": "2022-11-29T16:09:41.460Z"
      },
      {
        "duration": 3,
        "start_time": "2022-11-29T16:10:06.911Z"
      },
      {
        "duration": 9,
        "start_time": "2022-11-29T16:22:12.244Z"
      },
      {
        "duration": 88,
        "start_time": "2022-11-29T16:24:18.169Z"
      },
      {
        "duration": 124,
        "start_time": "2022-11-29T16:24:42.062Z"
      },
      {
        "duration": 36,
        "start_time": "2022-11-29T16:28:50.101Z"
      },
      {
        "duration": 8,
        "start_time": "2022-11-29T16:36:33.291Z"
      },
      {
        "duration": 12,
        "start_time": "2022-11-29T16:37:20.264Z"
      },
      {
        "duration": 11,
        "start_time": "2022-11-29T16:44:25.134Z"
      },
      {
        "duration": 129,
        "start_time": "2022-11-29T16:44:28.483Z"
      },
      {
        "duration": 58,
        "start_time": "2022-11-29T16:44:37.186Z"
      },
      {
        "duration": 11,
        "start_time": "2022-11-29T16:44:50.468Z"
      },
      {
        "duration": 1118,
        "start_time": "2022-11-29T16:45:02.701Z"
      },
      {
        "duration": 11,
        "start_time": "2022-11-29T16:45:37.600Z"
      },
      {
        "duration": 15,
        "start_time": "2022-11-29T16:45:57.379Z"
      },
      {
        "duration": 9,
        "start_time": "2022-11-29T16:46:12.105Z"
      },
      {
        "duration": 11,
        "start_time": "2022-11-29T16:46:49.356Z"
      },
      {
        "duration": 15,
        "start_time": "2022-11-29T16:46:53.137Z"
      },
      {
        "duration": 45,
        "start_time": "2022-11-29T16:47:17.467Z"
      },
      {
        "duration": 15,
        "start_time": "2022-11-29T16:47:26.773Z"
      },
      {
        "duration": 46,
        "start_time": "2022-11-29T16:49:10.040Z"
      },
      {
        "duration": 17,
        "start_time": "2022-11-29T16:50:59.530Z"
      },
      {
        "duration": 26,
        "start_time": "2022-11-29T16:51:02.013Z"
      },
      {
        "duration": 13,
        "start_time": "2022-11-29T16:51:22.653Z"
      },
      {
        "duration": 607,
        "start_time": "2022-11-29T16:51:54.112Z"
      },
      {
        "duration": 503,
        "start_time": "2022-11-29T16:57:04.635Z"
      },
      {
        "duration": 22,
        "start_time": "2022-11-29T16:57:31.106Z"
      },
      {
        "duration": 59,
        "start_time": "2022-11-29T16:59:43.774Z"
      },
      {
        "duration": 25,
        "start_time": "2022-11-29T16:59:58.923Z"
      },
      {
        "duration": 276,
        "start_time": "2022-11-29T17:03:33.218Z"
      },
      {
        "duration": 1494,
        "start_time": "2022-11-29T17:03:41.885Z"
      },
      {
        "duration": 2810,
        "start_time": "2022-11-29T17:12:01.074Z"
      },
      {
        "duration": 4656,
        "start_time": "2022-11-29T17:12:16.744Z"
      },
      {
        "duration": 1357,
        "start_time": "2022-11-29T17:12:31.379Z"
      },
      {
        "duration": 1719,
        "start_time": "2022-11-29T17:13:11.397Z"
      },
      {
        "duration": 272,
        "start_time": "2022-11-29T17:13:21.513Z"
      },
      {
        "duration": 296,
        "start_time": "2022-11-29T17:15:17.945Z"
      },
      {
        "duration": 334,
        "start_time": "2022-11-29T17:15:51.308Z"
      },
      {
        "duration": 3,
        "start_time": "2022-11-29T17:17:46.087Z"
      },
      {
        "duration": 4,
        "start_time": "2022-11-29T17:17:47.480Z"
      },
      {
        "duration": 3,
        "start_time": "2022-11-29T17:18:06.092Z"
      },
      {
        "duration": 218,
        "start_time": "2022-11-29T17:19:32.421Z"
      },
      {
        "duration": 201,
        "start_time": "2022-11-29T17:19:44.921Z"
      },
      {
        "duration": 729,
        "start_time": "2022-11-29T17:20:03.403Z"
      },
      {
        "duration": 4,
        "start_time": "2022-11-29T17:20:37.424Z"
      },
      {
        "duration": 3,
        "start_time": "2022-11-29T17:21:17.683Z"
      },
      {
        "duration": 334,
        "start_time": "2022-11-29T17:21:20.288Z"
      },
      {
        "duration": 2,
        "start_time": "2022-11-29T17:21:40.703Z"
      },
      {
        "duration": 375,
        "start_time": "2022-11-29T17:21:43.023Z"
      },
      {
        "duration": 4,
        "start_time": "2022-11-29T17:22:17.336Z"
      },
      {
        "duration": 361,
        "start_time": "2022-11-29T17:22:19.398Z"
      },
      {
        "duration": 3,
        "start_time": "2022-11-29T17:22:45.869Z"
      },
      {
        "duration": 348,
        "start_time": "2022-11-29T17:22:47.433Z"
      },
      {
        "duration": 326,
        "start_time": "2022-11-29T17:23:17.680Z"
      },
      {
        "duration": 2071,
        "start_time": "2022-11-29T17:23:41.376Z"
      },
      {
        "duration": 1708,
        "start_time": "2022-11-29T17:24:00.030Z"
      },
      {
        "duration": 2171,
        "start_time": "2022-11-29T17:24:06.946Z"
      },
      {
        "duration": 1712,
        "start_time": "2022-11-29T17:25:24.861Z"
      },
      {
        "duration": 2361,
        "start_time": "2022-11-29T17:27:36.156Z"
      },
      {
        "duration": 1784,
        "start_time": "2022-11-29T17:30:10.789Z"
      },
      {
        "duration": 2117,
        "start_time": "2022-11-29T17:31:13.429Z"
      },
      {
        "duration": 8,
        "start_time": "2022-11-30T14:03:32.585Z"
      },
      {
        "duration": 40,
        "start_time": "2022-11-30T14:03:34.244Z"
      },
      {
        "duration": 1224,
        "start_time": "2022-11-30T14:03:48.558Z"
      },
      {
        "duration": 3,
        "start_time": "2022-11-30T14:03:49.785Z"
      },
      {
        "duration": 1643,
        "start_time": "2022-11-30T14:03:49.789Z"
      },
      {
        "duration": 3,
        "start_time": "2022-11-30T14:03:51.434Z"
      },
      {
        "duration": 69,
        "start_time": "2022-11-30T14:03:51.439Z"
      },
      {
        "duration": 12,
        "start_time": "2022-11-30T14:03:51.510Z"
      },
      {
        "duration": 154,
        "start_time": "2022-11-30T14:03:51.524Z"
      },
      {
        "duration": 60,
        "start_time": "2022-11-30T14:03:51.680Z"
      },
      {
        "duration": 289,
        "start_time": "2022-11-30T14:03:51.741Z"
      },
      {
        "duration": 5,
        "start_time": "2022-11-30T14:03:52.032Z"
      },
      {
        "duration": 146,
        "start_time": "2022-11-30T14:03:52.039Z"
      },
      {
        "duration": 11,
        "start_time": "2022-11-30T14:03:52.187Z"
      },
      {
        "duration": 4,
        "start_time": "2022-11-30T14:03:52.200Z"
      },
      {
        "duration": 7,
        "start_time": "2022-11-30T14:03:52.205Z"
      },
      {
        "duration": 8,
        "start_time": "2022-11-30T14:03:52.213Z"
      },
      {
        "duration": 1391,
        "start_time": "2022-11-30T14:03:52.223Z"
      },
      {
        "duration": 17,
        "start_time": "2022-11-30T14:03:53.616Z"
      },
      {
        "duration": 1617,
        "start_time": "2022-11-30T14:04:08.304Z"
      },
      {
        "duration": 3,
        "start_time": "2022-11-30T14:04:26.577Z"
      },
      {
        "duration": 4,
        "start_time": "2022-11-30T14:04:28.112Z"
      },
      {
        "duration": 1472,
        "start_time": "2022-11-30T14:04:30.482Z"
      },
      {
        "duration": 3,
        "start_time": "2022-11-30T14:05:51.834Z"
      },
      {
        "duration": 4,
        "start_time": "2022-11-30T14:05:53.922Z"
      },
      {
        "duration": 1475,
        "start_time": "2022-11-30T14:05:55.897Z"
      },
      {
        "duration": 3,
        "start_time": "2022-11-30T14:06:59.840Z"
      },
      {
        "duration": 3,
        "start_time": "2022-11-30T14:07:01.688Z"
      },
      {
        "duration": 1525,
        "start_time": "2022-11-30T14:07:03.353Z"
      },
      {
        "duration": 1477,
        "start_time": "2022-11-30T14:07:24.433Z"
      },
      {
        "duration": 2,
        "start_time": "2022-11-30T14:08:04.516Z"
      },
      {
        "duration": 1609,
        "start_time": "2022-11-30T14:08:06.188Z"
      },
      {
        "duration": 277,
        "start_time": "2022-11-30T14:10:33.676Z"
      },
      {
        "duration": 217,
        "start_time": "2022-11-30T14:10:44.263Z"
      },
      {
        "duration": 228,
        "start_time": "2022-11-30T14:10:54.588Z"
      },
      {
        "duration": 2260,
        "start_time": "2022-11-30T14:11:32.601Z"
      },
      {
        "duration": 1462,
        "start_time": "2022-11-30T14:13:08.322Z"
      },
      {
        "duration": 17,
        "start_time": "2022-11-30T14:15:10.997Z"
      },
      {
        "duration": 152,
        "start_time": "2022-11-30T14:15:13.884Z"
      },
      {
        "duration": 53,
        "start_time": "2022-11-30T14:15:16.543Z"
      },
      {
        "duration": 440,
        "start_time": "2022-11-30T14:15:18.801Z"
      },
      {
        "duration": 114,
        "start_time": "2022-11-30T14:15:23.288Z"
      },
      {
        "duration": 12,
        "start_time": "2022-11-30T14:15:26.835Z"
      },
      {
        "duration": 1269,
        "start_time": "2022-11-30T14:15:30.040Z"
      },
      {
        "duration": 5941,
        "start_time": "2022-11-30T14:15:36.053Z"
      },
      {
        "duration": 6355,
        "start_time": "2022-11-30T14:19:23.482Z"
      },
      {
        "duration": 5214,
        "start_time": "2022-11-30T14:36:26.617Z"
      },
      {
        "duration": 14501,
        "start_time": "2022-11-30T14:41:58.993Z"
      },
      {
        "duration": 16258,
        "start_time": "2022-11-30T14:44:53.294Z"
      },
      {
        "duration": 16757,
        "start_time": "2022-11-30T14:45:49.005Z"
      },
      {
        "duration": 15735,
        "start_time": "2022-11-30T14:46:28.293Z"
      },
      {
        "duration": 16946,
        "start_time": "2022-11-30T14:47:34.966Z"
      },
      {
        "duration": 16934,
        "start_time": "2022-11-30T14:48:16.168Z"
      },
      {
        "duration": 17232,
        "start_time": "2022-11-30T14:48:56.017Z"
      },
      {
        "duration": 3428,
        "start_time": "2022-11-30T16:55:46.169Z"
      },
      {
        "duration": 1026,
        "start_time": "2022-11-30T17:02:26.299Z"
      },
      {
        "duration": 3,
        "start_time": "2022-11-30T17:02:27.326Z"
      },
      {
        "duration": 453,
        "start_time": "2022-11-30T17:02:27.331Z"
      },
      {
        "duration": 2,
        "start_time": "2022-11-30T17:02:27.786Z"
      },
      {
        "duration": 88,
        "start_time": "2022-11-30T17:02:27.790Z"
      },
      {
        "duration": 17,
        "start_time": "2022-11-30T17:02:27.880Z"
      },
      {
        "duration": 168,
        "start_time": "2022-11-30T17:02:27.899Z"
      },
      {
        "duration": 67,
        "start_time": "2022-11-30T17:02:28.069Z"
      },
      {
        "duration": 302,
        "start_time": "2022-11-30T17:02:28.138Z"
      },
      {
        "duration": 3,
        "start_time": "2022-11-30T17:02:28.443Z"
      },
      {
        "duration": 157,
        "start_time": "2022-11-30T17:02:28.448Z"
      },
      {
        "duration": 2443,
        "start_time": "2022-11-30T17:02:28.608Z"
      },
      {
        "duration": 0,
        "start_time": "2022-11-30T17:02:31.053Z"
      },
      {
        "duration": 0,
        "start_time": "2022-11-30T17:02:31.054Z"
      },
      {
        "duration": 0,
        "start_time": "2022-11-30T17:02:31.055Z"
      },
      {
        "duration": 0,
        "start_time": "2022-11-30T17:02:31.056Z"
      },
      {
        "duration": 15183,
        "start_time": "2022-11-30T17:03:48.649Z"
      },
      {
        "duration": 15983,
        "start_time": "2022-11-30T17:06:48.162Z"
      },
      {
        "duration": 18597,
        "start_time": "2022-11-30T17:35:20.677Z"
      },
      {
        "duration": 16945,
        "start_time": "2022-11-30T18:33:29.633Z"
      },
      {
        "duration": 18,
        "start_time": "2022-11-30T18:45:14.676Z"
      },
      {
        "duration": 17,
        "start_time": "2022-11-30T18:45:36.341Z"
      },
      {
        "duration": 18,
        "start_time": "2022-11-30T18:45:53.624Z"
      },
      {
        "duration": 16,
        "start_time": "2022-11-30T18:46:13.165Z"
      },
      {
        "duration": 29,
        "start_time": "2022-11-30T18:46:23.566Z"
      },
      {
        "duration": 30,
        "start_time": "2022-11-30T18:46:47.822Z"
      },
      {
        "duration": 275,
        "start_time": "2022-11-30T18:53:20.055Z"
      },
      {
        "duration": 314,
        "start_time": "2022-11-30T18:54:09.301Z"
      },
      {
        "duration": 6221,
        "start_time": "2022-11-30T18:55:28.315Z"
      },
      {
        "duration": 16,
        "start_time": "2022-11-30T19:00:21.449Z"
      },
      {
        "duration": 269,
        "start_time": "2022-11-30T19:01:08.291Z"
      },
      {
        "duration": 3,
        "start_time": "2022-11-30T19:02:51.826Z"
      },
      {
        "duration": 316,
        "start_time": "2022-11-30T19:03:06.605Z"
      },
      {
        "duration": 86,
        "start_time": "2022-11-30T19:05:47.892Z"
      },
      {
        "duration": 874,
        "start_time": "2022-11-30T19:05:59.790Z"
      },
      {
        "duration": 845,
        "start_time": "2022-11-30T19:06:25.115Z"
      },
      {
        "duration": 873,
        "start_time": "2022-11-30T19:06:51.925Z"
      },
      {
        "duration": 1265,
        "start_time": "2022-12-01T04:08:13.533Z"
      },
      {
        "duration": 3,
        "start_time": "2022-12-01T04:08:14.800Z"
      },
      {
        "duration": 606,
        "start_time": "2022-12-01T04:08:14.804Z"
      },
      {
        "duration": 2,
        "start_time": "2022-12-01T04:08:15.412Z"
      },
      {
        "duration": 62,
        "start_time": "2022-12-01T04:08:15.415Z"
      },
      {
        "duration": 22,
        "start_time": "2022-12-01T04:08:15.479Z"
      },
      {
        "duration": 137,
        "start_time": "2022-12-01T04:08:15.503Z"
      },
      {
        "duration": 56,
        "start_time": "2022-12-01T04:08:15.641Z"
      },
      {
        "duration": 231,
        "start_time": "2022-12-01T04:08:15.699Z"
      },
      {
        "duration": 3,
        "start_time": "2022-12-01T04:08:15.933Z"
      },
      {
        "duration": 117,
        "start_time": "2022-12-01T04:08:15.937Z"
      },
      {
        "duration": 14750,
        "start_time": "2022-12-01T04:08:16.056Z"
      },
      {
        "duration": 725,
        "start_time": "2022-12-01T04:08:30.808Z"
      },
      {
        "duration": 5494,
        "start_time": "2022-12-01T04:08:31.535Z"
      },
      {
        "duration": 32,
        "start_time": "2022-12-01T04:08:37.031Z"
      },
      {
        "duration": 988,
        "start_time": "2022-12-01T04:09:10.443Z"
      },
      {
        "duration": 758,
        "start_time": "2022-12-01T04:11:34.248Z"
      },
      {
        "duration": 724,
        "start_time": "2022-12-01T04:11:55.599Z"
      },
      {
        "duration": 686,
        "start_time": "2022-12-01T04:12:05.718Z"
      },
      {
        "duration": 674,
        "start_time": "2022-12-01T04:23:57.093Z"
      },
      {
        "duration": 164,
        "start_time": "2022-12-01T05:00:04.971Z"
      },
      {
        "duration": 14720,
        "start_time": "2022-12-01T05:00:20.429Z"
      },
      {
        "duration": 294,
        "start_time": "2022-12-01T05:00:57.943Z"
      },
      {
        "duration": 1042,
        "start_time": "2022-12-01T05:02:33.690Z"
      },
      {
        "duration": 439,
        "start_time": "2022-12-01T05:02:46.938Z"
      },
      {
        "duration": 491,
        "start_time": "2022-12-01T05:03:45.588Z"
      },
      {
        "duration": 990,
        "start_time": "2022-12-01T05:04:06.540Z"
      },
      {
        "duration": 158,
        "start_time": "2022-12-01T05:04:28.957Z"
      },
      {
        "duration": 386,
        "start_time": "2022-12-01T05:04:53.102Z"
      },
      {
        "duration": 148,
        "start_time": "2022-12-01T05:05:17.745Z"
      },
      {
        "duration": 165,
        "start_time": "2022-12-01T05:05:21.079Z"
      },
      {
        "duration": 247,
        "start_time": "2022-12-01T05:06:13.237Z"
      },
      {
        "duration": 8,
        "start_time": "2022-12-01T05:06:35.591Z"
      },
      {
        "duration": 291,
        "start_time": "2022-12-01T05:06:44.789Z"
      },
      {
        "duration": 906,
        "start_time": "2022-12-01T05:07:11.554Z"
      },
      {
        "duration": 842,
        "start_time": "2022-12-01T05:07:30.218Z"
      },
      {
        "duration": 8,
        "start_time": "2022-12-01T05:18:57.609Z"
      },
      {
        "duration": 54,
        "start_time": "2022-12-01T05:48:42.766Z"
      },
      {
        "duration": 13,
        "start_time": "2022-12-01T05:48:58.909Z"
      },
      {
        "duration": 10,
        "start_time": "2022-12-01T05:49:51.522Z"
      },
      {
        "duration": 13,
        "start_time": "2022-12-01T05:49:54.836Z"
      },
      {
        "duration": 10,
        "start_time": "2022-12-01T05:50:04.261Z"
      },
      {
        "duration": 13,
        "start_time": "2022-12-01T05:50:09.290Z"
      },
      {
        "duration": 14,
        "start_time": "2022-12-01T05:51:03.274Z"
      },
      {
        "duration": 871,
        "start_time": "2022-12-01T06:22:33.226Z"
      },
      {
        "duration": 26,
        "start_time": "2022-12-01T06:28:51.554Z"
      },
      {
        "duration": 12,
        "start_time": "2022-12-01T06:32:32.870Z"
      },
      {
        "duration": 12,
        "start_time": "2022-12-01T06:33:20.734Z"
      },
      {
        "duration": 65,
        "start_time": "2022-12-01T06:38:04.866Z"
      },
      {
        "duration": 13,
        "start_time": "2022-12-01T06:38:20.362Z"
      },
      {
        "duration": 7,
        "start_time": "2022-12-01T06:38:51.515Z"
      },
      {
        "duration": 3,
        "start_time": "2022-12-01T06:46:00.771Z"
      },
      {
        "duration": 10,
        "start_time": "2022-12-01T06:48:18.697Z"
      },
      {
        "duration": 244,
        "start_time": "2022-12-01T06:48:44.160Z"
      },
      {
        "duration": 31,
        "start_time": "2022-12-01T06:48:51.886Z"
      },
      {
        "duration": 50,
        "start_time": "2022-12-01T12:56:43.912Z"
      },
      {
        "duration": 1434,
        "start_time": "2022-12-01T12:56:49.081Z"
      },
      {
        "duration": 2,
        "start_time": "2022-12-01T12:56:50.517Z"
      },
      {
        "duration": 71,
        "start_time": "2022-12-01T12:56:50.521Z"
      },
      {
        "duration": 0,
        "start_time": "2022-12-01T12:56:50.593Z"
      },
      {
        "duration": 0,
        "start_time": "2022-12-01T12:56:50.594Z"
      },
      {
        "duration": 0,
        "start_time": "2022-12-01T12:56:50.596Z"
      },
      {
        "duration": 0,
        "start_time": "2022-12-01T12:56:50.597Z"
      },
      {
        "duration": 0,
        "start_time": "2022-12-01T12:56:50.598Z"
      },
      {
        "duration": 0,
        "start_time": "2022-12-01T12:56:50.599Z"
      },
      {
        "duration": 0,
        "start_time": "2022-12-01T12:56:50.600Z"
      },
      {
        "duration": 0,
        "start_time": "2022-12-01T12:56:50.601Z"
      },
      {
        "duration": 0,
        "start_time": "2022-12-01T12:56:50.602Z"
      },
      {
        "duration": 0,
        "start_time": "2022-12-01T12:56:50.621Z"
      },
      {
        "duration": 0,
        "start_time": "2022-12-01T12:56:50.622Z"
      },
      {
        "duration": 0,
        "start_time": "2022-12-01T12:56:50.623Z"
      },
      {
        "duration": 0,
        "start_time": "2022-12-01T12:56:50.624Z"
      },
      {
        "duration": 0,
        "start_time": "2022-12-01T12:56:50.624Z"
      },
      {
        "duration": 0,
        "start_time": "2022-12-01T12:56:50.625Z"
      },
      {
        "duration": 0,
        "start_time": "2022-12-01T12:56:50.626Z"
      },
      {
        "duration": 1,
        "start_time": "2022-12-01T12:56:50.627Z"
      },
      {
        "duration": 0,
        "start_time": "2022-12-01T12:56:50.628Z"
      },
      {
        "duration": 0,
        "start_time": "2022-12-01T12:56:50.629Z"
      },
      {
        "duration": 246,
        "start_time": "2022-12-01T12:59:12.040Z"
      },
      {
        "duration": 238,
        "start_time": "2022-12-01T13:00:33.840Z"
      },
      {
        "duration": 3,
        "start_time": "2022-12-01T13:00:50.676Z"
      },
      {
        "duration": 14,
        "start_time": "2022-12-01T13:00:50.682Z"
      },
      {
        "duration": 614,
        "start_time": "2022-12-01T13:00:50.698Z"
      },
      {
        "duration": 2,
        "start_time": "2022-12-01T13:00:51.314Z"
      },
      {
        "duration": 96,
        "start_time": "2022-12-01T13:00:51.317Z"
      },
      {
        "duration": 16,
        "start_time": "2022-12-01T13:00:51.414Z"
      },
      {
        "duration": 157,
        "start_time": "2022-12-01T13:00:51.431Z"
      },
      {
        "duration": 55,
        "start_time": "2022-12-01T13:00:51.589Z"
      },
      {
        "duration": 236,
        "start_time": "2022-12-01T13:00:51.645Z"
      },
      {
        "duration": 3,
        "start_time": "2022-12-01T13:00:51.882Z"
      },
      {
        "duration": 166,
        "start_time": "2022-12-01T13:00:51.887Z"
      },
      {
        "duration": 15298,
        "start_time": "2022-12-01T13:00:52.055Z"
      },
      {
        "duration": 624,
        "start_time": "2022-12-01T13:01:07.385Z"
      },
      {
        "duration": 5607,
        "start_time": "2022-12-01T13:01:08.011Z"
      },
      {
        "duration": 4,
        "start_time": "2022-12-01T13:01:13.619Z"
      },
      {
        "duration": 16,
        "start_time": "2022-12-01T13:01:13.624Z"
      },
      {
        "duration": 18,
        "start_time": "2022-12-01T13:01:13.642Z"
      },
      {
        "duration": 41,
        "start_time": "2022-12-01T13:01:13.661Z"
      },
      {
        "duration": 10,
        "start_time": "2022-12-01T13:01:13.704Z"
      },
      {
        "duration": 0,
        "start_time": "2022-12-01T13:01:13.721Z"
      },
      {
        "duration": 0,
        "start_time": "2022-12-01T13:01:13.722Z"
      },
      {
        "duration": 4,
        "start_time": "2022-12-01T13:01:21.654Z"
      },
      {
        "duration": 2,
        "start_time": "2022-12-01T13:02:10.424Z"
      },
      {
        "duration": 4,
        "start_time": "2022-12-01T13:02:22.515Z"
      },
      {
        "duration": 15,
        "start_time": "2022-12-01T13:02:27.665Z"
      },
      {
        "duration": 13,
        "start_time": "2022-12-01T13:02:34.379Z"
      },
      {
        "duration": 12,
        "start_time": "2022-12-01T13:02:41.086Z"
      },
      {
        "duration": 34,
        "start_time": "2022-12-01T13:02:44.546Z"
      },
      {
        "duration": 22,
        "start_time": "2022-12-01T13:02:47.248Z"
      },
      {
        "duration": 696,
        "start_time": "2022-12-01T13:02:51.001Z"
      },
      {
        "duration": 720,
        "start_time": "2022-12-01T13:03:27.606Z"
      },
      {
        "duration": 1316,
        "start_time": "2022-12-01T13:03:40.502Z"
      },
      {
        "duration": 3,
        "start_time": "2022-12-01T13:03:41.820Z"
      },
      {
        "duration": 375,
        "start_time": "2022-12-01T13:03:41.824Z"
      },
      {
        "duration": 2,
        "start_time": "2022-12-01T13:03:42.202Z"
      },
      {
        "duration": 68,
        "start_time": "2022-12-01T13:03:42.205Z"
      },
      {
        "duration": 16,
        "start_time": "2022-12-01T13:03:42.275Z"
      },
      {
        "duration": 150,
        "start_time": "2022-12-01T13:03:42.293Z"
      },
      {
        "duration": 46,
        "start_time": "2022-12-01T13:03:42.445Z"
      },
      {
        "duration": 267,
        "start_time": "2022-12-01T13:03:42.493Z"
      },
      {
        "duration": 3,
        "start_time": "2022-12-01T13:03:42.762Z"
      },
      {
        "duration": 132,
        "start_time": "2022-12-01T13:03:42.767Z"
      },
      {
        "duration": 14656,
        "start_time": "2022-12-01T13:03:42.900Z"
      },
      {
        "duration": 629,
        "start_time": "2022-12-01T13:03:57.558Z"
      },
      {
        "duration": 5670,
        "start_time": "2022-12-01T13:03:58.189Z"
      },
      {
        "duration": 4,
        "start_time": "2022-12-01T13:04:03.861Z"
      },
      {
        "duration": 15,
        "start_time": "2022-12-01T13:04:03.868Z"
      },
      {
        "duration": 17,
        "start_time": "2022-12-01T13:04:03.884Z"
      },
      {
        "duration": 224,
        "start_time": "2022-12-01T13:04:03.903Z"
      },
      {
        "duration": 719,
        "start_time": "2022-12-01T13:04:04.129Z"
      },
      {
        "duration": 21,
        "start_time": "2022-12-01T13:04:04.850Z"
      },
      {
        "duration": 709,
        "start_time": "2022-12-01T13:04:04.873Z"
      },
      {
        "duration": 46,
        "start_time": "2022-12-01T13:04:05.584Z"
      },
      {
        "duration": 20,
        "start_time": "2022-12-01T13:07:19.503Z"
      },
      {
        "duration": 332,
        "start_time": "2022-12-01T13:07:26.832Z"
      },
      {
        "duration": 16,
        "start_time": "2022-12-01T13:08:41.847Z"
      },
      {
        "duration": 264,
        "start_time": "2022-12-01T13:08:46.660Z"
      },
      {
        "duration": 14,
        "start_time": "2022-12-01T13:08:54.144Z"
      },
      {
        "duration": 14,
        "start_time": "2022-12-01T13:09:19.154Z"
      },
      {
        "duration": 244,
        "start_time": "2022-12-01T13:09:22.066Z"
      },
      {
        "duration": 34,
        "start_time": "2022-12-01T13:10:24.731Z"
      },
      {
        "duration": 34,
        "start_time": "2022-12-01T13:11:18.492Z"
      },
      {
        "duration": 30,
        "start_time": "2022-12-01T13:13:31.801Z"
      },
      {
        "duration": 10,
        "start_time": "2022-12-01T13:15:27.525Z"
      },
      {
        "duration": 15,
        "start_time": "2022-12-01T13:15:54.084Z"
      },
      {
        "duration": 15,
        "start_time": "2022-12-01T13:16:58.983Z"
      },
      {
        "duration": 15,
        "start_time": "2022-12-01T13:17:12.954Z"
      },
      {
        "duration": 18,
        "start_time": "2022-12-01T13:19:29.851Z"
      },
      {
        "duration": 18,
        "start_time": "2022-12-01T13:20:29.372Z"
      },
      {
        "duration": 13,
        "start_time": "2022-12-01T13:22:32.462Z"
      },
      {
        "duration": 15,
        "start_time": "2022-12-01T13:23:10.264Z"
      },
      {
        "duration": 15,
        "start_time": "2022-12-01T13:23:36.652Z"
      },
      {
        "duration": 15,
        "start_time": "2022-12-01T13:23:47.608Z"
      },
      {
        "duration": 1346,
        "start_time": "2022-12-01T13:24:14.402Z"
      },
      {
        "duration": 3,
        "start_time": "2022-12-01T13:24:15.751Z"
      },
      {
        "duration": 387,
        "start_time": "2022-12-01T13:24:15.755Z"
      },
      {
        "duration": 2,
        "start_time": "2022-12-01T13:24:16.144Z"
      },
      {
        "duration": 77,
        "start_time": "2022-12-01T13:24:16.148Z"
      },
      {
        "duration": 15,
        "start_time": "2022-12-01T13:24:16.227Z"
      },
      {
        "duration": 123,
        "start_time": "2022-12-01T13:24:16.244Z"
      },
      {
        "duration": 52,
        "start_time": "2022-12-01T13:24:16.369Z"
      },
      {
        "duration": 241,
        "start_time": "2022-12-01T13:24:16.422Z"
      },
      {
        "duration": 3,
        "start_time": "2022-12-01T13:24:16.665Z"
      },
      {
        "duration": 128,
        "start_time": "2022-12-01T13:24:16.670Z"
      },
      {
        "duration": 14796,
        "start_time": "2022-12-01T13:24:16.800Z"
      },
      {
        "duration": 679,
        "start_time": "2022-12-01T13:24:31.597Z"
      },
      {
        "duration": 5622,
        "start_time": "2022-12-01T13:24:32.277Z"
      },
      {
        "duration": 4,
        "start_time": "2022-12-01T13:24:37.902Z"
      },
      {
        "duration": 27,
        "start_time": "2022-12-01T13:24:37.908Z"
      },
      {
        "duration": 21,
        "start_time": "2022-12-01T13:24:37.936Z"
      },
      {
        "duration": 210,
        "start_time": "2022-12-01T13:24:37.959Z"
      },
      {
        "duration": 701,
        "start_time": "2022-12-01T13:24:38.171Z"
      },
      {
        "duration": 14,
        "start_time": "2022-12-01T13:24:38.874Z"
      },
      {
        "duration": 44,
        "start_time": "2022-12-01T13:24:38.889Z"
      },
      {
        "duration": 689,
        "start_time": "2022-12-01T13:24:38.935Z"
      },
      {
        "duration": 29,
        "start_time": "2022-12-01T13:24:39.626Z"
      },
      {
        "duration": 15,
        "start_time": "2022-12-01T13:25:31.109Z"
      },
      {
        "duration": 19,
        "start_time": "2022-12-01T13:25:55.573Z"
      },
      {
        "duration": 15,
        "start_time": "2022-12-01T13:26:14.193Z"
      },
      {
        "duration": 17,
        "start_time": "2022-12-01T13:26:31.413Z"
      },
      {
        "duration": 271,
        "start_time": "2022-12-01T13:27:52.155Z"
      },
      {
        "duration": 113,
        "start_time": "2022-12-01T13:29:26.071Z"
      },
      {
        "duration": 116,
        "start_time": "2022-12-01T13:29:57.801Z"
      },
      {
        "duration": 275,
        "start_time": "2022-12-01T13:30:17.355Z"
      },
      {
        "duration": 20,
        "start_time": "2022-12-01T13:32:08.640Z"
      },
      {
        "duration": 23,
        "start_time": "2022-12-01T13:32:57.871Z"
      },
      {
        "duration": 670,
        "start_time": "2022-12-01T13:33:06.448Z"
      },
      {
        "duration": 668,
        "start_time": "2022-12-01T13:34:19.027Z"
      },
      {
        "duration": 1476,
        "start_time": "2022-12-01T14:06:46.647Z"
      },
      {
        "duration": 2,
        "start_time": "2022-12-01T14:06:48.125Z"
      },
      {
        "duration": 635,
        "start_time": "2022-12-01T14:06:48.129Z"
      },
      {
        "duration": 2,
        "start_time": "2022-12-01T14:06:48.766Z"
      },
      {
        "duration": 65,
        "start_time": "2022-12-01T14:06:48.769Z"
      },
      {
        "duration": 15,
        "start_time": "2022-12-01T14:06:48.835Z"
      },
      {
        "duration": 143,
        "start_time": "2022-12-01T14:06:48.852Z"
      },
      {
        "duration": 60,
        "start_time": "2022-12-01T14:06:48.997Z"
      },
      {
        "duration": 240,
        "start_time": "2022-12-01T14:06:49.059Z"
      },
      {
        "duration": 21,
        "start_time": "2022-12-01T14:06:49.301Z"
      },
      {
        "duration": 121,
        "start_time": "2022-12-01T14:06:49.324Z"
      },
      {
        "duration": 15757,
        "start_time": "2022-12-01T14:06:49.447Z"
      },
      {
        "duration": 663,
        "start_time": "2022-12-01T14:07:05.206Z"
      },
      {
        "duration": 6300,
        "start_time": "2022-12-01T14:07:05.871Z"
      },
      {
        "duration": 4,
        "start_time": "2022-12-01T14:07:12.173Z"
      },
      {
        "duration": 13,
        "start_time": "2022-12-01T14:07:12.178Z"
      },
      {
        "duration": 13,
        "start_time": "2022-12-01T14:07:12.193Z"
      },
      {
        "duration": 26,
        "start_time": "2022-12-01T14:07:12.221Z"
      },
      {
        "duration": 779,
        "start_time": "2022-12-01T14:07:12.249Z"
      },
      {
        "duration": 21,
        "start_time": "2022-12-01T14:07:13.029Z"
      },
      {
        "duration": 761,
        "start_time": "2022-12-01T14:07:13.052Z"
      },
      {
        "duration": 107,
        "start_time": "2022-12-01T14:07:13.815Z"
      },
      {
        "duration": 0,
        "start_time": "2022-12-01T14:07:13.925Z"
      },
      {
        "duration": 4,
        "start_time": "2022-12-01T14:08:16.468Z"
      },
      {
        "duration": 5,
        "start_time": "2022-12-01T14:08:28.998Z"
      },
      {
        "duration": 3,
        "start_time": "2022-12-01T14:09:29.544Z"
      },
      {
        "duration": 10,
        "start_time": "2022-12-01T14:10:06.056Z"
      },
      {
        "duration": 256,
        "start_time": "2022-12-01T14:10:29.769Z"
      },
      {
        "duration": 680,
        "start_time": "2022-12-01T14:10:51.496Z"
      },
      {
        "duration": 83,
        "start_time": "2022-12-01T14:11:10.240Z"
      },
      {
        "duration": 3,
        "start_time": "2022-12-01T14:11:41.639Z"
      },
      {
        "duration": 176,
        "start_time": "2022-12-01T14:11:49.650Z"
      },
      {
        "duration": 4,
        "start_time": "2022-12-01T14:12:05.678Z"
      },
      {
        "duration": 193,
        "start_time": "2022-12-01T14:12:20.134Z"
      },
      {
        "duration": 193,
        "start_time": "2022-12-01T14:12:42.334Z"
      },
      {
        "duration": 210,
        "start_time": "2022-12-01T14:14:00.520Z"
      },
      {
        "duration": 180,
        "start_time": "2022-12-01T14:14:24.247Z"
      },
      {
        "duration": 198,
        "start_time": "2022-12-01T14:14:29.830Z"
      },
      {
        "duration": 204,
        "start_time": "2022-12-01T14:14:40.525Z"
      },
      {
        "duration": 267,
        "start_time": "2022-12-01T14:17:30.361Z"
      },
      {
        "duration": 11,
        "start_time": "2022-12-01T14:29:21.267Z"
      },
      {
        "duration": 3,
        "start_time": "2022-12-01T14:29:29.335Z"
      },
      {
        "duration": 685,
        "start_time": "2022-12-01T14:29:35.343Z"
      },
      {
        "duration": 1473,
        "start_time": "2022-12-01T15:41:29.950Z"
      },
      {
        "duration": 3,
        "start_time": "2022-12-01T15:41:31.425Z"
      },
      {
        "duration": 621,
        "start_time": "2022-12-01T15:41:31.430Z"
      },
      {
        "duration": 2,
        "start_time": "2022-12-01T15:41:32.053Z"
      },
      {
        "duration": 72,
        "start_time": "2022-12-01T15:41:32.058Z"
      },
      {
        "duration": 14,
        "start_time": "2022-12-01T15:41:32.131Z"
      },
      {
        "duration": 134,
        "start_time": "2022-12-01T15:41:32.146Z"
      },
      {
        "duration": 58,
        "start_time": "2022-12-01T15:41:32.282Z"
      },
      {
        "duration": 260,
        "start_time": "2022-12-01T15:41:32.342Z"
      },
      {
        "duration": 18,
        "start_time": "2022-12-01T15:41:32.604Z"
      },
      {
        "duration": 112,
        "start_time": "2022-12-01T15:41:32.624Z"
      },
      {
        "duration": 15077,
        "start_time": "2022-12-01T15:41:32.738Z"
      },
      {
        "duration": 625,
        "start_time": "2022-12-01T15:41:47.816Z"
      },
      {
        "duration": 5781,
        "start_time": "2022-12-01T15:41:48.444Z"
      },
      {
        "duration": 4,
        "start_time": "2022-12-01T15:41:54.227Z"
      },
      {
        "duration": 15,
        "start_time": "2022-12-01T15:41:54.233Z"
      },
      {
        "duration": 14,
        "start_time": "2022-12-01T15:41:54.250Z"
      },
      {
        "duration": 57,
        "start_time": "2022-12-01T15:41:54.266Z"
      },
      {
        "duration": 739,
        "start_time": "2022-12-01T15:41:54.325Z"
      },
      {
        "duration": 23,
        "start_time": "2022-12-01T15:41:55.066Z"
      },
      {
        "duration": 793,
        "start_time": "2022-12-01T15:41:55.090Z"
      },
      {
        "duration": 643,
        "start_time": "2022-12-01T15:41:55.885Z"
      },
      {
        "duration": 240,
        "start_time": "2022-12-01T15:41:56.530Z"
      },
      {
        "duration": 0,
        "start_time": "2022-12-01T15:41:56.772Z"
      },
      {
        "duration": 24,
        "start_time": "2022-12-01T15:46:32.202Z"
      },
      {
        "duration": 24,
        "start_time": "2022-12-01T15:46:55.380Z"
      },
      {
        "duration": 24,
        "start_time": "2022-12-01T15:47:17.533Z"
      },
      {
        "duration": 3,
        "start_time": "2022-12-01T15:47:52.642Z"
      },
      {
        "duration": 24,
        "start_time": "2022-12-01T15:48:08.105Z"
      },
      {
        "duration": 25547,
        "start_time": "2022-12-01T15:53:45.093Z"
      },
      {
        "duration": 4,
        "start_time": "2022-12-01T15:56:39.902Z"
      },
      {
        "duration": 33,
        "start_time": "2022-12-01T15:58:35.144Z"
      },
      {
        "duration": 77328,
        "start_time": "2022-12-01T15:58:52.538Z"
      },
      {
        "duration": 5,
        "start_time": "2022-12-01T16:00:28.827Z"
      },
      {
        "duration": 232627,
        "start_time": "2022-12-01T16:01:04.424Z"
      },
      {
        "duration": 5,
        "start_time": "2022-12-01T16:05:35.993Z"
      },
      {
        "duration": 1289,
        "start_time": "2022-12-01T16:09:30.933Z"
      },
      {
        "duration": 372,
        "start_time": "2022-12-01T16:10:35.257Z"
      },
      {
        "duration": 18,
        "start_time": "2022-12-01T16:12:42.565Z"
      },
      {
        "duration": 13,
        "start_time": "2022-12-01T16:12:44.754Z"
      },
      {
        "duration": 47750,
        "start_time": "2022-12-01T16:13:02.171Z"
      },
      {
        "duration": 53,
        "start_time": "2022-12-01T16:13:49.923Z"
      },
      {
        "duration": 62677,
        "start_time": "2022-12-01T16:16:16.891Z"
      },
      {
        "duration": 59615,
        "start_time": "2022-12-01T16:18:51.431Z"
      },
      {
        "duration": 10,
        "start_time": "2022-12-01T16:24:19.475Z"
      },
      {
        "duration": 12,
        "start_time": "2022-12-01T16:24:34.669Z"
      },
      {
        "duration": 166915,
        "start_time": "2022-12-01T16:27:45.413Z"
      },
      {
        "duration": 4,
        "start_time": "2022-12-01T16:32:56.767Z"
      },
      {
        "duration": 1182,
        "start_time": "2022-12-01T16:33:12.340Z"
      },
      {
        "duration": 17,
        "start_time": "2022-12-01T16:33:22.415Z"
      },
      {
        "duration": 259,
        "start_time": "2022-12-01T16:34:56.681Z"
      },
      {
        "duration": 31,
        "start_time": "2022-12-01T16:35:34.093Z"
      },
      {
        "duration": 26,
        "start_time": "2022-12-01T16:35:54.197Z"
      },
      {
        "duration": 64,
        "start_time": "2022-12-01T16:36:05.660Z"
      },
      {
        "duration": 257,
        "start_time": "2022-12-01T16:36:10.623Z"
      },
      {
        "duration": 673,
        "start_time": "2022-12-01T16:36:29.655Z"
      },
      {
        "duration": 281,
        "start_time": "2022-12-01T16:37:07.754Z"
      },
      {
        "duration": 382,
        "start_time": "2022-12-01T16:38:04.271Z"
      },
      {
        "duration": 290,
        "start_time": "2022-12-01T17:02:23.352Z"
      },
      {
        "duration": 236,
        "start_time": "2022-12-01T17:03:45.860Z"
      },
      {
        "duration": 110,
        "start_time": "2022-12-01T17:04:32.770Z"
      },
      {
        "duration": 266,
        "start_time": "2022-12-01T17:04:42.899Z"
      },
      {
        "duration": 274,
        "start_time": "2022-12-01T17:05:43.902Z"
      },
      {
        "duration": 1095,
        "start_time": "2022-12-01T17:06:15.136Z"
      },
      {
        "duration": 115,
        "start_time": "2022-12-01T17:11:38.832Z"
      },
      {
        "duration": 43,
        "start_time": "2022-12-01T17:12:55.611Z"
      },
      {
        "duration": 1456,
        "start_time": "2022-12-01T17:13:04.614Z"
      },
      {
        "duration": 3,
        "start_time": "2022-12-01T17:13:06.072Z"
      },
      {
        "duration": 633,
        "start_time": "2022-12-01T17:13:06.076Z"
      },
      {
        "duration": 3,
        "start_time": "2022-12-01T17:13:06.711Z"
      },
      {
        "duration": 67,
        "start_time": "2022-12-01T17:13:06.715Z"
      },
      {
        "duration": 15,
        "start_time": "2022-12-01T17:13:06.783Z"
      },
      {
        "duration": 141,
        "start_time": "2022-12-01T17:13:06.800Z"
      },
      {
        "duration": 46,
        "start_time": "2022-12-01T17:13:06.943Z"
      },
      {
        "duration": 263,
        "start_time": "2022-12-01T17:13:06.990Z"
      },
      {
        "duration": 4,
        "start_time": "2022-12-01T17:13:07.256Z"
      },
      {
        "duration": 128,
        "start_time": "2022-12-01T17:13:07.261Z"
      },
      {
        "duration": 15609,
        "start_time": "2022-12-01T17:13:07.391Z"
      },
      {
        "duration": 615,
        "start_time": "2022-12-01T17:13:23.002Z"
      },
      {
        "duration": 6116,
        "start_time": "2022-12-01T17:13:23.619Z"
      },
      {
        "duration": 3,
        "start_time": "2022-12-01T17:13:29.737Z"
      },
      {
        "duration": 17,
        "start_time": "2022-12-01T17:13:29.742Z"
      },
      {
        "duration": 17,
        "start_time": "2022-12-01T17:13:29.761Z"
      },
      {
        "duration": 49,
        "start_time": "2022-12-01T17:13:29.780Z"
      },
      {
        "duration": 764,
        "start_time": "2022-12-01T17:13:29.830Z"
      },
      {
        "duration": 28,
        "start_time": "2022-12-01T17:13:30.596Z"
      },
      {
        "duration": 709,
        "start_time": "2022-12-01T17:13:30.626Z"
      },
      {
        "duration": 499,
        "start_time": "2022-12-01T17:13:31.336Z"
      },
      {
        "duration": 167273,
        "start_time": "2022-12-01T17:13:31.837Z"
      },
      {
        "duration": 4,
        "start_time": "2022-12-01T17:16:19.112Z"
      },
      {
        "duration": 1308,
        "start_time": "2022-12-01T17:16:19.118Z"
      },
      {
        "duration": 199,
        "start_time": "2022-12-01T17:16:20.429Z"
      },
      {
        "duration": 192,
        "start_time": "2022-12-01T17:16:20.631Z"
      },
      {
        "duration": 0,
        "start_time": "2022-12-01T17:16:20.825Z"
      },
      {
        "duration": 1,
        "start_time": "2022-12-01T17:16:20.826Z"
      },
      {
        "duration": 448,
        "start_time": "2022-12-01T17:17:13.441Z"
      },
      {
        "duration": 289,
        "start_time": "2022-12-01T17:18:06.263Z"
      },
      {
        "duration": 247,
        "start_time": "2022-12-01T17:18:43.647Z"
      },
      {
        "duration": 372,
        "start_time": "2022-12-01T17:19:53.749Z"
      },
      {
        "duration": 309,
        "start_time": "2022-12-01T17:21:25.929Z"
      },
      {
        "duration": 722,
        "start_time": "2022-12-01T17:22:34.566Z"
      },
      {
        "duration": 255,
        "start_time": "2022-12-01T17:22:52.827Z"
      },
      {
        "duration": 259,
        "start_time": "2022-12-01T17:23:07.541Z"
      },
      {
        "duration": 373,
        "start_time": "2022-12-01T17:23:43.288Z"
      },
      {
        "duration": 324,
        "start_time": "2022-12-01T17:24:08.072Z"
      },
      {
        "duration": 317,
        "start_time": "2022-12-01T17:24:53.176Z"
      },
      {
        "duration": 306,
        "start_time": "2022-12-01T17:25:21.513Z"
      },
      {
        "duration": 581,
        "start_time": "2022-12-01T17:25:39.401Z"
      },
      {
        "duration": 76,
        "start_time": "2022-12-01T17:32:46.055Z"
      },
      {
        "duration": 157,
        "start_time": "2022-12-01T17:32:55.073Z"
      },
      {
        "duration": 523,
        "start_time": "2022-12-01T17:34:11.266Z"
      },
      {
        "duration": 327,
        "start_time": "2022-12-01T17:34:47.257Z"
      },
      {
        "duration": 6,
        "start_time": "2022-12-01T17:45:39.289Z"
      },
      {
        "duration": 14,
        "start_time": "2022-12-01T17:46:45.945Z"
      },
      {
        "duration": 21,
        "start_time": "2022-12-01T17:47:38.233Z"
      },
      {
        "duration": 21,
        "start_time": "2022-12-01T17:47:47.874Z"
      },
      {
        "duration": 15,
        "start_time": "2022-12-01T17:47:53.405Z"
      },
      {
        "duration": 14,
        "start_time": "2022-12-01T17:47:58.252Z"
      },
      {
        "duration": 49,
        "start_time": "2022-12-01T17:49:59.021Z"
      },
      {
        "duration": 52,
        "start_time": "2022-12-01T17:50:16.162Z"
      },
      {
        "duration": 9,
        "start_time": "2022-12-01T18:14:43.075Z"
      },
      {
        "duration": 8,
        "start_time": "2022-12-01T18:15:05.201Z"
      },
      {
        "duration": 5,
        "start_time": "2022-12-01T18:15:18.470Z"
      },
      {
        "duration": 4,
        "start_time": "2022-12-01T18:15:47.042Z"
      },
      {
        "duration": 4,
        "start_time": "2022-12-01T18:16:58.270Z"
      },
      {
        "duration": 16,
        "start_time": "2022-12-01T18:18:09.861Z"
      },
      {
        "duration": 40,
        "start_time": "2022-12-01T18:20:35.934Z"
      },
      {
        "duration": 42,
        "start_time": "2022-12-01T18:21:27.317Z"
      },
      {
        "duration": 9,
        "start_time": "2022-12-01T20:18:06.002Z"
      },
      {
        "duration": 1375,
        "start_time": "2022-12-01T20:18:08.317Z"
      },
      {
        "duration": 2,
        "start_time": "2022-12-01T20:18:13.371Z"
      },
      {
        "duration": 3,
        "start_time": "2022-12-01T20:18:16.647Z"
      },
      {
        "duration": 8,
        "start_time": "2022-12-01T20:18:16.652Z"
      },
      {
        "duration": 18,
        "start_time": "2022-12-01T20:18:16.662Z"
      },
      {
        "duration": 404,
        "start_time": "2022-12-01T20:18:16.683Z"
      },
      {
        "duration": 2,
        "start_time": "2022-12-01T20:18:17.090Z"
      },
      {
        "duration": 80,
        "start_time": "2022-12-01T20:18:17.094Z"
      },
      {
        "duration": 15,
        "start_time": "2022-12-01T20:18:17.175Z"
      },
      {
        "duration": 155,
        "start_time": "2022-12-01T20:18:17.192Z"
      },
      {
        "duration": 49,
        "start_time": "2022-12-01T20:18:17.349Z"
      },
      {
        "duration": 261,
        "start_time": "2022-12-01T20:18:17.400Z"
      },
      {
        "duration": 3,
        "start_time": "2022-12-01T20:18:17.664Z"
      },
      {
        "duration": 122,
        "start_time": "2022-12-01T20:18:17.669Z"
      },
      {
        "duration": 15147,
        "start_time": "2022-12-01T20:18:17.793Z"
      },
      {
        "duration": 614,
        "start_time": "2022-12-01T20:18:32.942Z"
      },
      {
        "duration": 5835,
        "start_time": "2022-12-01T20:18:33.558Z"
      },
      {
        "duration": 4,
        "start_time": "2022-12-01T20:18:39.394Z"
      },
      {
        "duration": 22,
        "start_time": "2022-12-01T20:18:39.399Z"
      },
      {
        "duration": 18,
        "start_time": "2022-12-01T20:18:39.422Z"
      },
      {
        "duration": 28,
        "start_time": "2022-12-01T20:18:39.441Z"
      },
      {
        "duration": 709,
        "start_time": "2022-12-01T20:18:39.471Z"
      },
      {
        "duration": 21,
        "start_time": "2022-12-01T20:18:40.182Z"
      },
      {
        "duration": 704,
        "start_time": "2022-12-01T20:18:40.204Z"
      },
      {
        "duration": 220,
        "start_time": "2022-12-01T20:18:40.909Z"
      },
      {
        "duration": 162807,
        "start_time": "2022-12-01T20:18:41.131Z"
      },
      {
        "duration": 3,
        "start_time": "2022-12-01T20:21:23.940Z"
      },
      {
        "duration": 1277,
        "start_time": "2022-12-01T20:21:23.945Z"
      },
      {
        "duration": 109,
        "start_time": "2022-12-01T20:21:25.224Z"
      },
      {
        "duration": 519,
        "start_time": "2022-12-01T20:21:25.335Z"
      },
      {
        "duration": 49,
        "start_time": "2022-12-01T20:21:25.858Z"
      },
      {
        "duration": 155,
        "start_time": "2022-12-01T20:21:25.909Z"
      },
      {
        "duration": 29,
        "start_time": "2022-12-01T20:21:26.065Z"
      },
      {
        "duration": 4,
        "start_time": "2022-12-01T20:30:52.447Z"
      },
      {
        "duration": 5649,
        "start_time": "2022-12-01T20:31:11.122Z"
      },
      {
        "duration": 108,
        "start_time": "2022-12-01T20:33:20.514Z"
      },
      {
        "duration": 5,
        "start_time": "2022-12-01T20:33:56.631Z"
      },
      {
        "duration": 10,
        "start_time": "2022-12-01T20:38:56.331Z"
      },
      {
        "duration": 7,
        "start_time": "2022-12-01T20:39:31.759Z"
      },
      {
        "duration": 9,
        "start_time": "2022-12-01T20:40:12.376Z"
      },
      {
        "duration": 4,
        "start_time": "2022-12-01T20:40:23.085Z"
      },
      {
        "duration": 8,
        "start_time": "2022-12-01T20:40:57.659Z"
      },
      {
        "duration": 10,
        "start_time": "2022-12-01T20:42:28.842Z"
      },
      {
        "duration": 3,
        "start_time": "2022-12-01T20:42:53.547Z"
      },
      {
        "duration": 4994,
        "start_time": "2022-12-01T20:43:04.332Z"
      },
      {
        "duration": 9,
        "start_time": "2022-12-01T20:43:11.889Z"
      },
      {
        "duration": 8,
        "start_time": "2022-12-01T20:43:27.886Z"
      },
      {
        "duration": 5028,
        "start_time": "2022-12-01T20:45:38.535Z"
      },
      {
        "duration": 9,
        "start_time": "2022-12-01T20:45:53.643Z"
      },
      {
        "duration": 8,
        "start_time": "2022-12-01T20:46:05.621Z"
      },
      {
        "duration": 7,
        "start_time": "2022-12-01T20:46:22.390Z"
      },
      {
        "duration": 7,
        "start_time": "2022-12-01T20:46:58.924Z"
      },
      {
        "duration": 7,
        "start_time": "2022-12-01T20:47:23.798Z"
      },
      {
        "duration": 53,
        "start_time": "2022-12-01T20:48:03.049Z"
      },
      {
        "duration": 10,
        "start_time": "2022-12-01T20:48:11.226Z"
      },
      {
        "duration": 9,
        "start_time": "2022-12-01T20:51:47.564Z"
      },
      {
        "duration": 11,
        "start_time": "2022-12-01T20:53:47.156Z"
      },
      {
        "duration": 15,
        "start_time": "2022-12-01T20:54:06.545Z"
      },
      {
        "duration": 20,
        "start_time": "2022-12-01T20:55:21.326Z"
      },
      {
        "duration": 42,
        "start_time": "2022-12-01T20:58:16.135Z"
      },
      {
        "duration": 332,
        "start_time": "2022-12-01T20:58:47.396Z"
      },
      {
        "duration": 662,
        "start_time": "2022-12-01T20:59:35.557Z"
      },
      {
        "duration": 350,
        "start_time": "2022-12-01T20:59:50.931Z"
      },
      {
        "duration": 12,
        "start_time": "2022-12-01T21:01:38.888Z"
      },
      {
        "duration": 14,
        "start_time": "2022-12-01T21:03:10.925Z"
      },
      {
        "duration": 32,
        "start_time": "2022-12-01T21:03:41.579Z"
      },
      {
        "duration": 362,
        "start_time": "2022-12-01T21:06:07.685Z"
      },
      {
        "duration": 5401,
        "start_time": "2022-12-01T21:06:32.869Z"
      },
      {
        "duration": 14,
        "start_time": "2022-12-01T21:06:43.920Z"
      },
      {
        "duration": 19,
        "start_time": "2022-12-01T21:07:37.898Z"
      },
      {
        "duration": 8,
        "start_time": "2022-12-01T21:08:17.100Z"
      },
      {
        "duration": 1321,
        "start_time": "2022-12-01T21:08:17.110Z"
      },
      {
        "duration": 3,
        "start_time": "2022-12-01T21:08:18.432Z"
      },
      {
        "duration": 362,
        "start_time": "2022-12-01T21:08:18.437Z"
      },
      {
        "duration": 2,
        "start_time": "2022-12-01T21:08:18.801Z"
      },
      {
        "duration": 78,
        "start_time": "2022-12-01T21:08:18.805Z"
      },
      {
        "duration": 36,
        "start_time": "2022-12-01T21:08:18.885Z"
      },
      {
        "duration": 129,
        "start_time": "2022-12-01T21:08:18.923Z"
      },
      {
        "duration": 50,
        "start_time": "2022-12-01T21:08:19.055Z"
      },
      {
        "duration": 265,
        "start_time": "2022-12-01T21:08:19.107Z"
      },
      {
        "duration": 4,
        "start_time": "2022-12-01T21:08:19.373Z"
      },
      {
        "duration": 134,
        "start_time": "2022-12-01T21:08:19.379Z"
      },
      {
        "duration": 15054,
        "start_time": "2022-12-01T21:08:19.515Z"
      },
      {
        "duration": 682,
        "start_time": "2022-12-01T21:08:34.571Z"
      },
      {
        "duration": 5881,
        "start_time": "2022-12-01T21:08:35.255Z"
      },
      {
        "duration": 4,
        "start_time": "2022-12-01T21:08:41.138Z"
      },
      {
        "duration": 17,
        "start_time": "2022-12-01T21:08:41.143Z"
      },
      {
        "duration": 16,
        "start_time": "2022-12-01T21:08:41.162Z"
      },
      {
        "duration": 30,
        "start_time": "2022-12-01T21:08:41.179Z"
      },
      {
        "duration": 742,
        "start_time": "2022-12-01T21:08:41.211Z"
      },
      {
        "duration": 23,
        "start_time": "2022-12-01T21:08:41.955Z"
      },
      {
        "duration": 711,
        "start_time": "2022-12-01T21:08:41.980Z"
      },
      {
        "duration": 238,
        "start_time": "2022-12-01T21:08:42.693Z"
      },
      {
        "duration": 160329,
        "start_time": "2022-12-01T21:08:43.028Z"
      },
      {
        "duration": 4,
        "start_time": "2022-12-01T21:11:23.359Z"
      },
      {
        "duration": 1098,
        "start_time": "2022-12-01T21:11:23.364Z"
      },
      {
        "duration": 105,
        "start_time": "2022-12-01T21:11:24.522Z"
      },
      {
        "duration": 535,
        "start_time": "2022-12-01T21:11:24.628Z"
      },
      {
        "duration": 57,
        "start_time": "2022-12-01T21:11:25.165Z"
      },
      {
        "duration": 5730,
        "start_time": "2022-12-01T21:11:25.224Z"
      },
      {
        "duration": 15,
        "start_time": "2022-12-01T21:11:30.955Z"
      },
      {
        "duration": 88,
        "start_time": "2022-12-01T21:11:30.971Z"
      },
      {
        "duration": 8,
        "start_time": "2022-12-02T12:37:18.879Z"
      },
      {
        "duration": 1617,
        "start_time": "2022-12-02T12:37:18.889Z"
      },
      {
        "duration": 2,
        "start_time": "2022-12-02T12:37:20.508Z"
      },
      {
        "duration": 1626,
        "start_time": "2022-12-02T12:37:20.512Z"
      },
      {
        "duration": 2,
        "start_time": "2022-12-02T12:37:22.141Z"
      },
      {
        "duration": 80,
        "start_time": "2022-12-02T12:37:22.144Z"
      },
      {
        "duration": 15,
        "start_time": "2022-12-02T12:37:22.226Z"
      },
      {
        "duration": 154,
        "start_time": "2022-12-02T12:37:22.243Z"
      },
      {
        "duration": 65,
        "start_time": "2022-12-02T12:37:22.399Z"
      },
      {
        "duration": 288,
        "start_time": "2022-12-02T12:37:22.467Z"
      },
      {
        "duration": 5,
        "start_time": "2022-12-02T12:37:22.757Z"
      },
      {
        "duration": 134,
        "start_time": "2022-12-02T12:37:22.764Z"
      },
      {
        "duration": 16334,
        "start_time": "2022-12-02T12:37:22.900Z"
      },
      {
        "duration": 677,
        "start_time": "2022-12-02T12:37:39.237Z"
      },
      {
        "duration": 6427,
        "start_time": "2022-12-02T12:37:39.915Z"
      },
      {
        "duration": 4,
        "start_time": "2022-12-02T12:37:46.344Z"
      },
      {
        "duration": 41,
        "start_time": "2022-12-02T12:37:46.350Z"
      },
      {
        "duration": 45,
        "start_time": "2022-12-02T12:37:46.393Z"
      },
      {
        "duration": 32,
        "start_time": "2022-12-02T12:37:46.440Z"
      },
      {
        "duration": 783,
        "start_time": "2022-12-02T12:37:46.474Z"
      },
      {
        "duration": 22,
        "start_time": "2022-12-02T12:37:47.259Z"
      },
      {
        "duration": 794,
        "start_time": "2022-12-02T12:37:47.283Z"
      },
      {
        "duration": 258,
        "start_time": "2022-12-02T12:37:48.078Z"
      },
      {
        "duration": 168381,
        "start_time": "2022-12-02T12:37:48.427Z"
      },
      {
        "duration": 5,
        "start_time": "2022-12-02T12:40:36.810Z"
      },
      {
        "duration": 1439,
        "start_time": "2022-12-02T12:40:36.817Z"
      },
      {
        "duration": 106,
        "start_time": "2022-12-02T12:40:38.322Z"
      },
      {
        "duration": 574,
        "start_time": "2022-12-02T12:40:38.432Z"
      },
      {
        "duration": 43,
        "start_time": "2022-12-02T12:40:39.007Z"
      },
      {
        "duration": 6211,
        "start_time": "2022-12-02T12:40:39.052Z"
      },
      {
        "duration": 16,
        "start_time": "2022-12-02T12:40:45.265Z"
      },
      {
        "duration": 49,
        "start_time": "2022-12-02T12:40:45.282Z"
      },
      {
        "duration": 8639,
        "start_time": "2022-12-02T12:44:35.220Z"
      },
      {
        "duration": 6242,
        "start_time": "2022-12-02T12:49:11.755Z"
      },
      {
        "duration": 119,
        "start_time": "2022-12-02T12:55:13.831Z"
      },
      {
        "duration": 10,
        "start_time": "2022-12-02T12:55:23.394Z"
      },
      {
        "duration": 136,
        "start_time": "2022-12-02T12:55:46.626Z"
      },
      {
        "duration": 260,
        "start_time": "2022-12-02T12:55:58.284Z"
      },
      {
        "duration": 887,
        "start_time": "2022-12-02T12:56:07.235Z"
      },
      {
        "duration": 525,
        "start_time": "2022-12-02T12:56:15.289Z"
      },
      {
        "duration": 532,
        "start_time": "2022-12-02T12:56:48.185Z"
      },
      {
        "duration": 648,
        "start_time": "2022-12-02T12:56:57.039Z"
      },
      {
        "duration": 575,
        "start_time": "2022-12-02T12:57:03.869Z"
      },
      {
        "duration": 636,
        "start_time": "2022-12-02T14:11:50.498Z"
      },
      {
        "duration": 541,
        "start_time": "2022-12-02T14:12:09.806Z"
      },
      {
        "duration": 521,
        "start_time": "2022-12-02T14:15:00.701Z"
      },
      {
        "duration": 723,
        "start_time": "2022-12-02T14:15:53.673Z"
      },
      {
        "duration": 484,
        "start_time": "2022-12-02T14:17:50.687Z"
      },
      {
        "duration": 504,
        "start_time": "2022-12-02T14:18:06.359Z"
      },
      {
        "duration": 594,
        "start_time": "2022-12-02T14:18:15.160Z"
      },
      {
        "duration": 134,
        "start_time": "2022-12-02T14:18:31.690Z"
      },
      {
        "duration": 150,
        "start_time": "2022-12-02T14:19:01.569Z"
      },
      {
        "duration": 555,
        "start_time": "2022-12-02T14:19:13.707Z"
      },
      {
        "duration": 612,
        "start_time": "2022-12-02T14:19:18.279Z"
      },
      {
        "duration": 917,
        "start_time": "2022-12-02T14:19:30.496Z"
      },
      {
        "duration": 1020,
        "start_time": "2022-12-02T14:23:37.485Z"
      },
      {
        "duration": 3,
        "start_time": "2022-12-02T14:24:18.003Z"
      },
      {
        "duration": 1039,
        "start_time": "2022-12-02T14:24:28.366Z"
      },
      {
        "duration": 128,
        "start_time": "2022-12-02T14:25:01.982Z"
      },
      {
        "duration": 482,
        "start_time": "2022-12-02T14:26:25.440Z"
      },
      {
        "duration": 481,
        "start_time": "2022-12-02T14:26:38.087Z"
      },
      {
        "duration": 698,
        "start_time": "2022-12-02T14:27:26.254Z"
      },
      {
        "duration": 464,
        "start_time": "2022-12-02T14:27:32.716Z"
      },
      {
        "duration": 470,
        "start_time": "2022-12-02T14:27:38.138Z"
      },
      {
        "duration": 702,
        "start_time": "2022-12-02T14:27:49.693Z"
      },
      {
        "duration": 492,
        "start_time": "2022-12-02T14:27:56.320Z"
      },
      {
        "duration": 471,
        "start_time": "2022-12-02T14:28:01.950Z"
      },
      {
        "duration": 756,
        "start_time": "2022-12-02T14:28:15.706Z"
      },
      {
        "duration": 490,
        "start_time": "2022-12-02T14:28:49.188Z"
      },
      {
        "duration": 494,
        "start_time": "2022-12-02T14:28:58.631Z"
      },
      {
        "duration": 126,
        "start_time": "2022-12-02T14:29:06.932Z"
      },
      {
        "duration": 142,
        "start_time": "2022-12-02T14:29:17.911Z"
      },
      {
        "duration": 3,
        "start_time": "2022-12-02T14:30:07.559Z"
      },
      {
        "duration": 7,
        "start_time": "2022-12-02T14:30:07.563Z"
      },
      {
        "duration": 5,
        "start_time": "2022-12-02T14:30:07.572Z"
      },
      {
        "duration": 380,
        "start_time": "2022-12-02T14:30:07.579Z"
      },
      {
        "duration": 2,
        "start_time": "2022-12-02T14:30:07.961Z"
      },
      {
        "duration": 78,
        "start_time": "2022-12-02T14:30:07.965Z"
      },
      {
        "duration": 11,
        "start_time": "2022-12-02T14:30:08.044Z"
      },
      {
        "duration": 143,
        "start_time": "2022-12-02T14:30:08.057Z"
      },
      {
        "duration": 68,
        "start_time": "2022-12-02T14:30:08.201Z"
      },
      {
        "duration": 275,
        "start_time": "2022-12-02T14:30:08.271Z"
      },
      {
        "duration": 4,
        "start_time": "2022-12-02T14:30:08.548Z"
      },
      {
        "duration": 124,
        "start_time": "2022-12-02T14:30:08.553Z"
      },
      {
        "duration": 16934,
        "start_time": "2022-12-02T14:30:08.679Z"
      },
      {
        "duration": 647,
        "start_time": "2022-12-02T14:30:25.622Z"
      },
      {
        "duration": 6505,
        "start_time": "2022-12-02T14:30:26.271Z"
      },
      {
        "duration": 4,
        "start_time": "2022-12-02T14:30:32.778Z"
      },
      {
        "duration": 10,
        "start_time": "2022-12-02T14:30:32.785Z"
      },
      {
        "duration": 10,
        "start_time": "2022-12-02T14:30:32.797Z"
      },
      {
        "duration": 29,
        "start_time": "2022-12-02T14:30:32.823Z"
      },
      {
        "duration": 738,
        "start_time": "2022-12-02T14:30:32.854Z"
      },
      {
        "duration": 29,
        "start_time": "2022-12-02T14:30:33.594Z"
      },
      {
        "duration": 751,
        "start_time": "2022-12-02T14:30:33.625Z"
      },
      {
        "duration": 344,
        "start_time": "2022-12-02T14:30:34.379Z"
      },
      {
        "duration": 163922,
        "start_time": "2022-12-02T14:30:34.725Z"
      },
      {
        "duration": 4,
        "start_time": "2022-12-02T14:33:18.649Z"
      },
      {
        "duration": 1229,
        "start_time": "2022-12-02T14:33:18.655Z"
      },
      {
        "duration": 109,
        "start_time": "2022-12-02T14:33:19.923Z"
      },
      {
        "duration": 468,
        "start_time": "2022-12-02T14:33:20.124Z"
      },
      {
        "duration": 40,
        "start_time": "2022-12-02T14:33:20.594Z"
      },
      {
        "duration": 6050,
        "start_time": "2022-12-02T14:33:20.635Z"
      },
      {
        "duration": 14,
        "start_time": "2022-12-02T14:33:26.687Z"
      },
      {
        "duration": 1154,
        "start_time": "2022-12-02T14:33:27.252Z"
      },
      {
        "duration": 516,
        "start_time": "2022-12-02T14:38:01.255Z"
      },
      {
        "duration": 497,
        "start_time": "2022-12-02T14:39:12.211Z"
      },
      {
        "duration": 10,
        "start_time": "2022-12-02T14:39:25.954Z"
      },
      {
        "duration": 249,
        "start_time": "2022-12-02T14:39:37.938Z"
      },
      {
        "duration": 490,
        "start_time": "2022-12-02T14:42:38.005Z"
      },
      {
        "duration": 914,
        "start_time": "2022-12-02T14:42:48.038Z"
      },
      {
        "duration": 522,
        "start_time": "2022-12-02T14:43:19.856Z"
      },
      {
        "duration": 552,
        "start_time": "2022-12-02T14:43:35.608Z"
      },
      {
        "duration": 9,
        "start_time": "2022-12-02T15:16:10.571Z"
      },
      {
        "duration": 9,
        "start_time": "2022-12-02T15:18:51.030Z"
      },
      {
        "duration": 499,
        "start_time": "2022-12-02T15:18:57.726Z"
      },
      {
        "duration": 471,
        "start_time": "2022-12-02T15:19:52.447Z"
      },
      {
        "duration": 882,
        "start_time": "2022-12-02T15:20:01.565Z"
      },
      {
        "duration": 921,
        "start_time": "2022-12-02T15:21:33.816Z"
      },
      {
        "duration": 570,
        "start_time": "2022-12-02T15:23:53.830Z"
      },
      {
        "duration": 476,
        "start_time": "2022-12-02T15:24:21.970Z"
      },
      {
        "duration": 31505,
        "start_time": "2022-12-02T15:25:20.037Z"
      },
      {
        "duration": 18,
        "start_time": "2022-12-02T15:28:13.953Z"
      },
      {
        "duration": 4,
        "start_time": "2022-12-02T15:29:01.936Z"
      },
      {
        "duration": 524,
        "start_time": "2022-12-02T15:29:05.401Z"
      },
      {
        "duration": 4,
        "start_time": "2022-12-02T15:29:29.122Z"
      },
      {
        "duration": 494,
        "start_time": "2022-12-02T15:29:31.369Z"
      },
      {
        "duration": 495,
        "start_time": "2022-12-02T15:30:08.368Z"
      },
      {
        "duration": 135,
        "start_time": "2022-12-02T15:30:37.796Z"
      },
      {
        "duration": 1036,
        "start_time": "2022-12-02T15:30:43.845Z"
      },
      {
        "duration": 135,
        "start_time": "2022-12-02T15:30:56.106Z"
      },
      {
        "duration": 487,
        "start_time": "2022-12-02T15:31:08.603Z"
      },
      {
        "duration": 491,
        "start_time": "2022-12-02T15:31:15.177Z"
      },
      {
        "duration": 549,
        "start_time": "2022-12-02T15:32:13.934Z"
      },
      {
        "duration": 506,
        "start_time": "2022-12-02T15:32:19.953Z"
      },
      {
        "duration": 499,
        "start_time": "2022-12-02T15:32:34.976Z"
      },
      {
        "duration": 258,
        "start_time": "2022-12-02T15:38:45.180Z"
      },
      {
        "duration": 266,
        "start_time": "2022-12-02T15:39:30.780Z"
      },
      {
        "duration": 1228,
        "start_time": "2022-12-02T15:40:04.228Z"
      },
      {
        "duration": 1605,
        "start_time": "2022-12-02T15:40:19.020Z"
      },
      {
        "duration": 1630,
        "start_time": "2022-12-02T15:40:40.707Z"
      },
      {
        "duration": 290,
        "start_time": "2022-12-02T15:41:15.020Z"
      },
      {
        "duration": 1909,
        "start_time": "2022-12-02T15:43:25.351Z"
      },
      {
        "duration": 1402,
        "start_time": "2022-12-02T15:43:46.591Z"
      },
      {
        "duration": 1418,
        "start_time": "2022-12-02T15:44:21.274Z"
      },
      {
        "duration": 1367,
        "start_time": "2022-12-02T15:47:01.676Z"
      },
      {
        "duration": 691,
        "start_time": "2022-12-02T15:47:17.342Z"
      },
      {
        "duration": 1788,
        "start_time": "2022-12-02T15:47:31.697Z"
      },
      {
        "duration": 1814,
        "start_time": "2022-12-02T15:47:53.495Z"
      },
      {
        "duration": 850,
        "start_time": "2022-12-02T15:48:09.926Z"
      },
      {
        "duration": 1795,
        "start_time": "2022-12-02T15:48:18.195Z"
      },
      {
        "duration": 764,
        "start_time": "2022-12-02T15:50:27.803Z"
      },
      {
        "duration": 1822,
        "start_time": "2022-12-02T15:51:15.291Z"
      },
      {
        "duration": 2551,
        "start_time": "2022-12-02T15:51:55.076Z"
      },
      {
        "duration": 31006,
        "start_time": "2022-12-02T15:57:48.789Z"
      },
      {
        "duration": 18,
        "start_time": "2022-12-02T15:58:24.990Z"
      },
      {
        "duration": 14,
        "start_time": "2022-12-02T15:58:35.049Z"
      },
      {
        "duration": 1726,
        "start_time": "2022-12-02T15:58:50.990Z"
      },
      {
        "duration": 6068,
        "start_time": "2022-12-02T16:03:11.466Z"
      },
      {
        "duration": 17,
        "start_time": "2022-12-02T16:03:38.835Z"
      },
      {
        "duration": 5330,
        "start_time": "2022-12-02T16:04:25.798Z"
      },
      {
        "duration": 16,
        "start_time": "2022-12-02T16:04:38.437Z"
      },
      {
        "duration": 4833,
        "start_time": "2022-12-02T16:06:20.595Z"
      },
      {
        "duration": 15,
        "start_time": "2022-12-02T16:06:34.041Z"
      },
      {
        "duration": 13,
        "start_time": "2022-12-02T16:06:43.295Z"
      },
      {
        "duration": 11,
        "start_time": "2022-12-02T16:07:25.023Z"
      },
      {
        "duration": 1512,
        "start_time": "2022-12-02T16:07:25.037Z"
      },
      {
        "duration": 3,
        "start_time": "2022-12-02T16:07:26.550Z"
      },
      {
        "duration": 352,
        "start_time": "2022-12-02T16:07:26.555Z"
      },
      {
        "duration": 3,
        "start_time": "2022-12-02T16:07:26.908Z"
      },
      {
        "duration": 68,
        "start_time": "2022-12-02T16:07:26.913Z"
      },
      {
        "duration": 14,
        "start_time": "2022-12-02T16:07:26.983Z"
      },
      {
        "duration": 157,
        "start_time": "2022-12-02T16:07:26.999Z"
      },
      {
        "duration": 53,
        "start_time": "2022-12-02T16:07:27.158Z"
      },
      {
        "duration": 259,
        "start_time": "2022-12-02T16:07:27.223Z"
      },
      {
        "duration": 3,
        "start_time": "2022-12-02T16:07:27.483Z"
      },
      {
        "duration": 138,
        "start_time": "2022-12-02T16:07:27.488Z"
      },
      {
        "duration": 15868,
        "start_time": "2022-12-02T16:07:27.628Z"
      },
      {
        "duration": 737,
        "start_time": "2022-12-02T16:07:43.497Z"
      },
      {
        "duration": 6214,
        "start_time": "2022-12-02T16:07:44.237Z"
      },
      {
        "duration": 4,
        "start_time": "2022-12-02T16:07:50.452Z"
      },
      {
        "duration": 17,
        "start_time": "2022-12-02T16:07:50.457Z"
      },
      {
        "duration": 16,
        "start_time": "2022-12-02T16:07:50.476Z"
      },
      {
        "duration": 38,
        "start_time": "2022-12-02T16:07:50.493Z"
      },
      {
        "duration": 786,
        "start_time": "2022-12-02T16:07:50.533Z"
      },
      {
        "duration": 22,
        "start_time": "2022-12-02T16:07:51.321Z"
      },
      {
        "duration": 713,
        "start_time": "2022-12-02T16:07:51.344Z"
      },
      {
        "duration": 271,
        "start_time": "2022-12-02T16:07:52.059Z"
      },
      {
        "duration": 163636,
        "start_time": "2022-12-02T16:07:52.331Z"
      },
      {
        "duration": 4,
        "start_time": "2022-12-02T16:10:35.969Z"
      },
      {
        "duration": 1448,
        "start_time": "2022-12-02T16:10:35.975Z"
      },
      {
        "duration": 197,
        "start_time": "2022-12-02T16:10:37.425Z"
      },
      {
        "duration": 462,
        "start_time": "2022-12-02T16:10:37.626Z"
      },
      {
        "duration": 40,
        "start_time": "2022-12-02T16:10:38.090Z"
      },
      {
        "duration": 4827,
        "start_time": "2022-12-02T16:10:38.132Z"
      },
      {
        "duration": 15,
        "start_time": "2022-12-02T16:10:42.961Z"
      },
      {
        "duration": 2209,
        "start_time": "2022-12-02T16:10:42.978Z"
      },
      {
        "duration": 40,
        "start_time": "2022-12-02T16:10:45.189Z"
      },
      {
        "duration": 78,
        "start_time": "2022-12-02T16:12:51.511Z"
      },
      {
        "duration": 4,
        "start_time": "2022-12-02T16:13:04.762Z"
      },
      {
        "duration": 101,
        "start_time": "2022-12-02T16:13:40.876Z"
      },
      {
        "duration": 5,
        "start_time": "2022-12-02T16:13:51.802Z"
      },
      {
        "duration": 5,
        "start_time": "2022-12-02T16:14:01.771Z"
      },
      {
        "duration": 423,
        "start_time": "2022-12-02T16:15:47.624Z"
      },
      {
        "duration": 73,
        "start_time": "2022-12-02T16:17:45.375Z"
      },
      {
        "duration": 46,
        "start_time": "2022-12-02T16:17:53.130Z"
      },
      {
        "duration": 76,
        "start_time": "2022-12-02T16:17:56.574Z"
      },
      {
        "duration": 342,
        "start_time": "2022-12-02T16:18:09.131Z"
      },
      {
        "duration": 500,
        "start_time": "2022-12-02T16:18:43.464Z"
      },
      {
        "duration": 365,
        "start_time": "2022-12-02T16:18:50.249Z"
      },
      {
        "duration": 5,
        "start_time": "2022-12-02T16:23:28.733Z"
      },
      {
        "duration": 417,
        "start_time": "2022-12-02T16:24:42.674Z"
      },
      {
        "duration": 11,
        "start_time": "2022-12-02T16:26:41.765Z"
      },
      {
        "duration": 12,
        "start_time": "2022-12-02T16:27:33.864Z"
      },
      {
        "duration": 4,
        "start_time": "2022-12-02T16:27:48.966Z"
      },
      {
        "duration": 6,
        "start_time": "2022-12-02T16:27:59.939Z"
      },
      {
        "duration": 6,
        "start_time": "2022-12-02T16:28:21.694Z"
      },
      {
        "duration": 4,
        "start_time": "2022-12-02T16:28:54.401Z"
      },
      {
        "duration": 6,
        "start_time": "2022-12-02T16:28:57.194Z"
      },
      {
        "duration": 5,
        "start_time": "2022-12-02T16:29:01.684Z"
      },
      {
        "duration": 11,
        "start_time": "2022-12-02T16:29:08.426Z"
      },
      {
        "duration": 9,
        "start_time": "2022-12-02T16:29:12.785Z"
      },
      {
        "duration": 15,
        "start_time": "2022-12-02T16:31:51.735Z"
      },
      {
        "duration": 372,
        "start_time": "2022-12-02T16:31:55.797Z"
      },
      {
        "duration": 12,
        "start_time": "2022-12-02T16:32:45.883Z"
      },
      {
        "duration": 5,
        "start_time": "2022-12-02T16:32:47.872Z"
      },
      {
        "duration": 9,
        "start_time": "2022-12-02T16:32:50.104Z"
      },
      {
        "duration": 7,
        "start_time": "2022-12-02T16:33:34.827Z"
      },
      {
        "duration": 10,
        "start_time": "2022-12-02T16:33:49.791Z"
      },
      {
        "duration": 5,
        "start_time": "2022-12-02T16:34:08.766Z"
      },
      {
        "duration": 11,
        "start_time": "2022-12-02T16:34:22.118Z"
      },
      {
        "duration": 6,
        "start_time": "2022-12-02T16:34:30.705Z"
      },
      {
        "duration": 6,
        "start_time": "2022-12-02T16:35:06.271Z"
      },
      {
        "duration": 5,
        "start_time": "2022-12-02T16:35:16.548Z"
      },
      {
        "duration": 5,
        "start_time": "2022-12-02T16:36:25.949Z"
      },
      {
        "duration": 6,
        "start_time": "2022-12-02T16:36:29.668Z"
      },
      {
        "duration": 1393,
        "start_time": "2022-12-02T16:37:36.112Z"
      },
      {
        "duration": 2,
        "start_time": "2022-12-02T16:37:40.299Z"
      },
      {
        "duration": 370,
        "start_time": "2022-12-02T16:37:42.033Z"
      },
      {
        "duration": 59,
        "start_time": "2022-12-02T16:37:45.738Z"
      },
      {
        "duration": 16,
        "start_time": "2022-12-02T16:37:53.346Z"
      },
      {
        "duration": 129,
        "start_time": "2022-12-02T16:37:56.533Z"
      },
      {
        "duration": 60,
        "start_time": "2022-12-02T16:37:59.359Z"
      },
      {
        "duration": 294,
        "start_time": "2022-12-02T16:38:04.164Z"
      },
      {
        "duration": 131,
        "start_time": "2022-12-02T16:38:10.725Z"
      },
      {
        "duration": 16374,
        "start_time": "2022-12-02T16:38:13.522Z"
      },
      {
        "duration": 3,
        "start_time": "2022-12-02T16:38:45.107Z"
      },
      {
        "duration": 12,
        "start_time": "2022-12-02T16:38:47.376Z"
      },
      {
        "duration": 12,
        "start_time": "2022-12-02T16:38:49.915Z"
      },
      {
        "duration": 35,
        "start_time": "2022-12-02T16:38:52.033Z"
      },
      {
        "duration": 726,
        "start_time": "2022-12-02T16:38:55.925Z"
      },
      {
        "duration": 22,
        "start_time": "2022-12-02T16:38:59.053Z"
      },
      {
        "duration": 8,
        "start_time": "2022-12-02T16:39:01.968Z"
      },
      {
        "duration": 7,
        "start_time": "2022-12-02T16:39:04.312Z"
      },
      {
        "duration": 307,
        "start_time": "2022-12-02T16:39:42.522Z"
      },
      {
        "duration": 6,
        "start_time": "2022-12-02T16:40:17.198Z"
      },
      {
        "duration": 7,
        "start_time": "2022-12-02T16:40:19.164Z"
      },
      {
        "duration": 7,
        "start_time": "2022-12-02T16:40:24.705Z"
      },
      {
        "duration": 6,
        "start_time": "2022-12-02T16:40:27.047Z"
      },
      {
        "duration": 102,
        "start_time": "2022-12-02T16:40:57.799Z"
      },
      {
        "duration": 9,
        "start_time": "2022-12-02T16:41:22.543Z"
      },
      {
        "duration": 80,
        "start_time": "2022-12-02T16:41:35.142Z"
      },
      {
        "duration": 5,
        "start_time": "2022-12-02T16:41:38.607Z"
      },
      {
        "duration": 5,
        "start_time": "2022-12-02T16:43:21.538Z"
      },
      {
        "duration": 11,
        "start_time": "2022-12-02T16:43:24.596Z"
      },
      {
        "duration": 8,
        "start_time": "2022-12-02T16:43:41.283Z"
      },
      {
        "duration": 6,
        "start_time": "2022-12-02T16:43:43.479Z"
      },
      {
        "duration": 5,
        "start_time": "2022-12-02T16:43:45.942Z"
      },
      {
        "duration": 17,
        "start_time": "2022-12-02T16:45:42.212Z"
      },
      {
        "duration": 5,
        "start_time": "2022-12-02T16:45:46.864Z"
      },
      {
        "duration": 7,
        "start_time": "2022-12-02T16:45:55.467Z"
      },
      {
        "duration": 8,
        "start_time": "2022-12-02T16:46:15.624Z"
      },
      {
        "duration": 5,
        "start_time": "2022-12-02T16:46:18.232Z"
      },
      {
        "duration": 1372,
        "start_time": "2022-12-02T16:46:48.118Z"
      },
      {
        "duration": 361,
        "start_time": "2022-12-02T16:46:51.090Z"
      },
      {
        "duration": 16,
        "start_time": "2022-12-02T16:46:56.907Z"
      },
      {
        "duration": 282,
        "start_time": "2022-12-02T16:47:03.746Z"
      },
      {
        "duration": 112,
        "start_time": "2022-12-02T16:47:09.526Z"
      },
      {
        "duration": 4,
        "start_time": "2022-12-02T16:47:21.316Z"
      },
      {
        "duration": 11,
        "start_time": "2022-12-02T16:47:24.037Z"
      },
      {
        "duration": 12,
        "start_time": "2022-12-02T16:47:26.592Z"
      },
      {
        "duration": 103,
        "start_time": "2022-12-02T16:47:28.963Z"
      },
      {
        "duration": 3,
        "start_time": "2022-12-02T16:47:45.176Z"
      },
      {
        "duration": 3,
        "start_time": "2022-12-02T16:47:57.253Z"
      },
      {
        "duration": 10,
        "start_time": "2022-12-02T16:47:59.412Z"
      },
      {
        "duration": 12,
        "start_time": "2022-12-02T16:48:02.430Z"
      },
      {
        "duration": 3,
        "start_time": "2022-12-02T16:48:14.230Z"
      },
      {
        "duration": 32,
        "start_time": "2022-12-02T16:48:22.231Z"
      },
      {
        "duration": 270,
        "start_time": "2022-12-02T16:48:26.363Z"
      },
      {
        "duration": 16124,
        "start_time": "2022-12-02T16:48:39.268Z"
      },
      {
        "duration": 761,
        "start_time": "2022-12-02T16:48:55.394Z"
      },
      {
        "duration": 25,
        "start_time": "2022-12-02T16:48:56.158Z"
      },
      {
        "duration": 7,
        "start_time": "2022-12-02T16:48:56.186Z"
      },
      {
        "duration": 8,
        "start_time": "2022-12-02T16:48:56.223Z"
      },
      {
        "duration": 1609,
        "start_time": "2022-12-02T16:49:03.735Z"
      },
      {
        "duration": 391,
        "start_time": "2022-12-02T16:49:24.031Z"
      },
      {
        "duration": 6,
        "start_time": "2022-12-02T16:49:36.261Z"
      },
      {
        "duration": 7,
        "start_time": "2022-12-02T16:49:38.665Z"
      },
      {
        "duration": 16,
        "start_time": "2022-12-02T16:50:32.999Z"
      },
      {
        "duration": 7,
        "start_time": "2022-12-02T16:50:36.850Z"
      },
      {
        "duration": 7,
        "start_time": "2022-12-02T16:50:39.054Z"
      },
      {
        "duration": 7,
        "start_time": "2022-12-02T16:50:41.525Z"
      },
      {
        "duration": 421,
        "start_time": "2022-12-02T16:50:45.744Z"
      },
      {
        "duration": 4,
        "start_time": "2022-12-02T16:50:52.646Z"
      },
      {
        "duration": 6,
        "start_time": "2022-12-02T16:50:56.709Z"
      },
      {
        "duration": 10,
        "start_time": "2022-12-02T16:50:58.820Z"
      },
      {
        "duration": 43,
        "start_time": "2022-12-02T16:51:10.579Z"
      },
      {
        "duration": 405,
        "start_time": "2022-12-02T16:51:14.607Z"
      },
      {
        "duration": 4846,
        "start_time": "2022-12-02T16:51:35.393Z"
      },
      {
        "duration": 16,
        "start_time": "2022-12-02T16:51:47.446Z"
      },
      {
        "duration": 1900,
        "start_time": "2022-12-02T16:51:50.998Z"
      },
      {
        "duration": 48282,
        "start_time": "2022-12-02T16:52:34.112Z"
      },
      {
        "duration": 25,
        "start_time": "2022-12-02T16:55:01.593Z"
      },
      {
        "duration": 1847,
        "start_time": "2022-12-02T16:55:07.698Z"
      },
      {
        "duration": 3,
        "start_time": "2022-12-02T18:00:59.819Z"
      },
      {
        "duration": 1979,
        "start_time": "2022-12-02T18:01:02.282Z"
      },
      {
        "duration": 258,
        "start_time": "2022-12-02T18:01:52.089Z"
      },
      {
        "duration": 3,
        "start_time": "2022-12-02T18:02:32.447Z"
      },
      {
        "duration": 1818,
        "start_time": "2022-12-02T18:02:39.466Z"
      },
      {
        "duration": 3,
        "start_time": "2022-12-02T18:02:58.088Z"
      },
      {
        "duration": 1861,
        "start_time": "2022-12-02T18:03:03.499Z"
      },
      {
        "duration": 3,
        "start_time": "2022-12-02T18:03:31.698Z"
      },
      {
        "duration": 1967,
        "start_time": "2022-12-02T18:03:35.222Z"
      },
      {
        "duration": 3,
        "start_time": "2022-12-02T18:04:11.551Z"
      },
      {
        "duration": 1888,
        "start_time": "2022-12-02T18:04:15.811Z"
      },
      {
        "duration": 3,
        "start_time": "2022-12-02T18:04:36.624Z"
      },
      {
        "duration": 1864,
        "start_time": "2022-12-02T18:04:38.690Z"
      },
      {
        "duration": 4,
        "start_time": "2022-12-02T18:05:11.157Z"
      },
      {
        "duration": 1933,
        "start_time": "2022-12-02T18:05:13.308Z"
      },
      {
        "duration": 3,
        "start_time": "2022-12-02T18:05:25.205Z"
      },
      {
        "duration": 2135,
        "start_time": "2022-12-02T18:05:29.670Z"
      },
      {
        "duration": 3,
        "start_time": "2022-12-02T18:05:51.903Z"
      },
      {
        "duration": 1887,
        "start_time": "2022-12-02T18:05:55.619Z"
      },
      {
        "duration": 3,
        "start_time": "2022-12-02T18:06:22.226Z"
      },
      {
        "duration": 1828,
        "start_time": "2022-12-02T18:06:25.931Z"
      },
      {
        "duration": 4,
        "start_time": "2022-12-02T18:07:49.399Z"
      },
      {
        "duration": 1994,
        "start_time": "2022-12-02T18:07:54.447Z"
      },
      {
        "duration": 12,
        "start_time": "2022-12-02T18:10:54.303Z"
      },
      {
        "duration": 3,
        "start_time": "2022-12-02T18:11:07.584Z"
      },
      {
        "duration": 5,
        "start_time": "2022-12-02T18:11:35.429Z"
      },
      {
        "duration": 5,
        "start_time": "2022-12-02T18:51:12.745Z"
      },
      {
        "duration": 5,
        "start_time": "2022-12-02T18:51:21.769Z"
      },
      {
        "duration": 4,
        "start_time": "2022-12-02T18:51:50.198Z"
      },
      {
        "duration": 4,
        "start_time": "2022-12-02T18:52:06.736Z"
      },
      {
        "duration": 4,
        "start_time": "2022-12-02T18:52:14.374Z"
      },
      {
        "duration": 4,
        "start_time": "2022-12-02T18:52:19.437Z"
      },
      {
        "duration": 5,
        "start_time": "2022-12-02T18:52:24.493Z"
      },
      {
        "duration": 4,
        "start_time": "2022-12-02T18:52:29.761Z"
      },
      {
        "duration": 4,
        "start_time": "2022-12-02T18:52:35.974Z"
      },
      {
        "duration": 5,
        "start_time": "2022-12-02T18:52:42.576Z"
      },
      {
        "duration": 3,
        "start_time": "2022-12-02T18:52:49.708Z"
      },
      {
        "duration": 5,
        "start_time": "2022-12-02T18:52:54.192Z"
      },
      {
        "duration": 4,
        "start_time": "2022-12-02T18:53:28.058Z"
      },
      {
        "duration": 7,
        "start_time": "2022-12-02T18:56:35.686Z"
      },
      {
        "duration": 7,
        "start_time": "2022-12-02T18:56:48.761Z"
      },
      {
        "duration": 6,
        "start_time": "2022-12-02T18:56:55.743Z"
      },
      {
        "duration": 13,
        "start_time": "2022-12-02T18:57:04.232Z"
      },
      {
        "duration": 8,
        "start_time": "2022-12-02T18:57:10.735Z"
      },
      {
        "duration": 2005,
        "start_time": "2022-12-02T19:01:55.444Z"
      },
      {
        "duration": 2050,
        "start_time": "2022-12-02T19:02:12.907Z"
      },
      {
        "duration": 2123,
        "start_time": "2022-12-02T19:02:57.771Z"
      },
      {
        "duration": 9,
        "start_time": "2022-12-02T19:12:41.373Z"
      },
      {
        "duration": 4,
        "start_time": "2022-12-02T19:12:48.062Z"
      },
      {
        "duration": 10,
        "start_time": "2022-12-02T19:12:53.889Z"
      },
      {
        "duration": 6,
        "start_time": "2022-12-02T19:13:16.315Z"
      },
      {
        "duration": 9,
        "start_time": "2022-12-02T19:14:05.247Z"
      },
      {
        "duration": 4,
        "start_time": "2022-12-02T19:14:33.959Z"
      },
      {
        "duration": 5,
        "start_time": "2022-12-02T19:15:01.273Z"
      },
      {
        "duration": 6,
        "start_time": "2022-12-02T19:15:05.436Z"
      },
      {
        "duration": 6,
        "start_time": "2022-12-02T19:15:14.656Z"
      },
      {
        "duration": 5,
        "start_time": "2022-12-02T19:15:18.112Z"
      },
      {
        "duration": 5,
        "start_time": "2022-12-02T19:16:27.184Z"
      },
      {
        "duration": 13,
        "start_time": "2022-12-02T19:16:29.620Z"
      },
      {
        "duration": 8,
        "start_time": "2022-12-02T19:17:34.069Z"
      },
      {
        "duration": 7,
        "start_time": "2022-12-02T19:17:59.780Z"
      },
      {
        "duration": 13,
        "start_time": "2022-12-02T19:18:04.743Z"
      },
      {
        "duration": 8,
        "start_time": "2022-12-02T19:18:09.151Z"
      },
      {
        "duration": 7,
        "start_time": "2022-12-02T19:18:21.691Z"
      },
      {
        "duration": 7,
        "start_time": "2022-12-02T19:18:30.989Z"
      },
      {
        "duration": 6,
        "start_time": "2022-12-02T19:18:50.200Z"
      },
      {
        "duration": 8,
        "start_time": "2022-12-02T19:19:07.880Z"
      },
      {
        "duration": 10,
        "start_time": "2022-12-02T19:19:29.943Z"
      },
      {
        "duration": 18,
        "start_time": "2022-12-02T20:10:59.712Z"
      },
      {
        "duration": 9,
        "start_time": "2022-12-02T20:11:07.847Z"
      },
      {
        "duration": 10,
        "start_time": "2022-12-02T20:11:13.200Z"
      },
      {
        "duration": 8,
        "start_time": "2022-12-02T20:11:38.780Z"
      },
      {
        "duration": 8,
        "start_time": "2022-12-02T20:12:01.185Z"
      },
      {
        "duration": 29,
        "start_time": "2022-12-02T20:12:08.870Z"
      },
      {
        "duration": 10,
        "start_time": "2022-12-02T20:12:12.996Z"
      },
      {
        "duration": 7,
        "start_time": "2022-12-02T20:12:19.927Z"
      },
      {
        "duration": 9,
        "start_time": "2022-12-02T20:12:25.415Z"
      },
      {
        "duration": 9,
        "start_time": "2022-12-02T20:12:48.823Z"
      },
      {
        "duration": 6,
        "start_time": "2022-12-02T20:13:16.452Z"
      },
      {
        "duration": 6,
        "start_time": "2022-12-02T20:13:26.700Z"
      },
      {
        "duration": 89,
        "start_time": "2022-12-02T20:14:14.759Z"
      },
      {
        "duration": 6,
        "start_time": "2022-12-02T20:14:20.052Z"
      },
      {
        "duration": 6,
        "start_time": "2022-12-02T20:14:42.493Z"
      },
      {
        "duration": 6,
        "start_time": "2022-12-02T20:14:55.348Z"
      },
      {
        "duration": 6,
        "start_time": "2022-12-02T20:15:33.348Z"
      },
      {
        "duration": 5,
        "start_time": "2022-12-02T20:15:48.447Z"
      },
      {
        "duration": 7,
        "start_time": "2022-12-02T20:16:24.756Z"
      },
      {
        "duration": 6,
        "start_time": "2022-12-02T20:16:39.555Z"
      },
      {
        "duration": 13,
        "start_time": "2022-12-02T20:16:58.815Z"
      },
      {
        "duration": 6,
        "start_time": "2022-12-02T20:17:43.366Z"
      },
      {
        "duration": 7,
        "start_time": "2022-12-02T20:17:50.498Z"
      },
      {
        "duration": 8,
        "start_time": "2022-12-02T20:19:28.845Z"
      },
      {
        "duration": 10,
        "start_time": "2022-12-02T20:19:39.868Z"
      },
      {
        "duration": 7,
        "start_time": "2022-12-02T20:20:13.667Z"
      },
      {
        "duration": 8,
        "start_time": "2022-12-02T20:20:25.269Z"
      },
      {
        "duration": 401,
        "start_time": "2022-12-02T20:22:33.466Z"
      },
      {
        "duration": 515,
        "start_time": "2022-12-02T20:22:56.444Z"
      },
      {
        "duration": 9,
        "start_time": "2022-12-02T20:29:25.768Z"
      },
      {
        "duration": 3,
        "start_time": "2022-12-02T20:29:29.209Z"
      },
      {
        "duration": 7,
        "start_time": "2022-12-02T20:29:31.523Z"
      },
      {
        "duration": 3,
        "start_time": "2022-12-02T20:30:54.561Z"
      },
      {
        "duration": 3,
        "start_time": "2022-12-02T20:31:09.287Z"
      },
      {
        "duration": 3,
        "start_time": "2022-12-02T20:31:20.336Z"
      },
      {
        "duration": 4,
        "start_time": "2022-12-02T20:31:26.167Z"
      },
      {
        "duration": 4,
        "start_time": "2022-12-02T20:31:30.842Z"
      },
      {
        "duration": 8,
        "start_time": "2022-12-02T20:35:52.712Z"
      },
      {
        "duration": 4,
        "start_time": "2022-12-02T20:53:00.605Z"
      },
      {
        "duration": 18,
        "start_time": "2022-12-02T20:53:02.715Z"
      },
      {
        "duration": 1281,
        "start_time": "2022-12-02T20:53:38.339Z"
      },
      {
        "duration": 4,
        "start_time": "2022-12-02T20:53:57.599Z"
      },
      {
        "duration": 5088,
        "start_time": "2022-12-02T20:53:59.578Z"
      },
      {
        "duration": 16,
        "start_time": "2022-12-02T20:54:14.782Z"
      },
      {
        "duration": 14,
        "start_time": "2022-12-02T20:54:27.688Z"
      },
      {
        "duration": 3,
        "start_time": "2022-12-02T20:54:33.232Z"
      },
      {
        "duration": 2069,
        "start_time": "2022-12-02T20:54:36.432Z"
      },
      {
        "duration": 84,
        "start_time": "2022-12-02T21:00:50.051Z"
      },
      {
        "duration": 16,
        "start_time": "2022-12-02T21:00:55.419Z"
      },
      {
        "duration": 6,
        "start_time": "2022-12-02T21:02:30.508Z"
      },
      {
        "duration": 6,
        "start_time": "2022-12-02T21:03:27.055Z"
      },
      {
        "duration": 6,
        "start_time": "2022-12-02T21:04:00.109Z"
      },
      {
        "duration": 1888,
        "start_time": "2022-12-02T21:10:48.519Z"
      },
      {
        "duration": 10,
        "start_time": "2022-12-02T21:10:56.050Z"
      },
      {
        "duration": 2,
        "start_time": "2022-12-02T21:16:47.286Z"
      },
      {
        "duration": 16,
        "start_time": "2022-12-02T21:31:30.779Z"
      },
      {
        "duration": 4,
        "start_time": "2022-12-02T21:31:41.335Z"
      },
      {
        "duration": 3,
        "start_time": "2022-12-02T21:31:43.624Z"
      },
      {
        "duration": 342,
        "start_time": "2022-12-02T21:31:45.358Z"
      },
      {
        "duration": 3,
        "start_time": "2022-12-02T21:31:47.548Z"
      },
      {
        "duration": 47,
        "start_time": "2022-12-02T21:31:50.924Z"
      },
      {
        "duration": 324,
        "start_time": "2022-12-02T21:33:07.781Z"
      },
      {
        "duration": 4,
        "start_time": "2022-12-02T21:33:09.449Z"
      },
      {
        "duration": 11,
        "start_time": "2022-12-02T21:33:27.538Z"
      },
      {
        "duration": 127,
        "start_time": "2022-12-02T21:33:30.033Z"
      },
      {
        "duration": 50,
        "start_time": "2022-12-02T21:34:01.835Z"
      },
      {
        "duration": 12,
        "start_time": "2022-12-02T21:34:17.088Z"
      },
      {
        "duration": 95,
        "start_time": "2022-12-02T21:36:06.742Z"
      },
      {
        "duration": 124,
        "start_time": "2022-12-02T21:36:12.666Z"
      },
      {
        "duration": 100,
        "start_time": "2022-12-02T21:36:58.035Z"
      },
      {
        "duration": 70,
        "start_time": "2022-12-02T21:37:12.467Z"
      },
      {
        "duration": 63,
        "start_time": "2022-12-02T21:37:30.287Z"
      },
      {
        "duration": 11,
        "start_time": "2022-12-02T21:38:38.570Z"
      },
      {
        "duration": 275,
        "start_time": "2022-12-02T21:38:59.820Z"
      },
      {
        "duration": 3,
        "start_time": "2022-12-02T21:39:12.882Z"
      },
      {
        "duration": 68,
        "start_time": "2022-12-02T21:42:04.995Z"
      },
      {
        "duration": 33,
        "start_time": "2022-12-02T21:42:15.781Z"
      },
      {
        "duration": 10,
        "start_time": "2022-12-02T21:43:21.316Z"
      },
      {
        "duration": 10,
        "start_time": "2022-12-02T21:44:01.153Z"
      },
      {
        "duration": 9,
        "start_time": "2022-12-02T21:44:16.465Z"
      },
      {
        "duration": 10,
        "start_time": "2022-12-02T21:44:45.442Z"
      },
      {
        "duration": 388,
        "start_time": "2022-12-02T21:45:04.016Z"
      },
      {
        "duration": 7,
        "start_time": "2022-12-02T21:45:05.487Z"
      },
      {
        "duration": 9,
        "start_time": "2022-12-02T21:45:10.332Z"
      },
      {
        "duration": 123,
        "start_time": "2022-12-02T21:45:12.595Z"
      },
      {
        "duration": 57,
        "start_time": "2022-12-02T21:45:15.476Z"
      },
      {
        "duration": 270,
        "start_time": "2022-12-02T21:45:18.313Z"
      },
      {
        "duration": 34,
        "start_time": "2022-12-02T21:45:22.749Z"
      },
      {
        "duration": 345,
        "start_time": "2022-12-02T21:46:19.083Z"
      },
      {
        "duration": 6,
        "start_time": "2022-12-02T21:46:20.522Z"
      },
      {
        "duration": 10,
        "start_time": "2022-12-02T21:46:24.325Z"
      },
      {
        "duration": 135,
        "start_time": "2022-12-02T21:46:29.656Z"
      },
      {
        "duration": 56,
        "start_time": "2022-12-02T21:46:35.467Z"
      },
      {
        "duration": 283,
        "start_time": "2022-12-02T21:46:47.687Z"
      },
      {
        "duration": 42,
        "start_time": "2022-12-02T21:47:00.475Z"
      },
      {
        "duration": 353,
        "start_time": "2022-12-02T21:48:06.870Z"
      },
      {
        "duration": 6,
        "start_time": "2022-12-02T21:48:08.267Z"
      },
      {
        "duration": 10,
        "start_time": "2022-12-02T21:48:12.173Z"
      },
      {
        "duration": 138,
        "start_time": "2022-12-02T21:48:14.215Z"
      },
      {
        "duration": 62,
        "start_time": "2022-12-02T21:48:16.428Z"
      },
      {
        "duration": 312,
        "start_time": "2022-12-02T21:48:18.322Z"
      },
      {
        "duration": 158,
        "start_time": "2022-12-02T21:48:21.444Z"
      },
      {
        "duration": 130,
        "start_time": "2022-12-02T21:49:55.124Z"
      },
      {
        "duration": 328,
        "start_time": "2022-12-02T21:50:12.571Z"
      },
      {
        "duration": 6,
        "start_time": "2022-12-02T21:50:14.551Z"
      },
      {
        "duration": 10,
        "start_time": "2022-12-02T21:50:18.233Z"
      },
      {
        "duration": 118,
        "start_time": "2022-12-02T21:50:19.650Z"
      },
      {
        "duration": 59,
        "start_time": "2022-12-02T21:50:21.653Z"
      },
      {
        "duration": 266,
        "start_time": "2022-12-02T21:50:23.517Z"
      },
      {
        "duration": 151,
        "start_time": "2022-12-02T21:50:27.772Z"
      },
      {
        "duration": 119,
        "start_time": "2022-12-02T21:50:47.277Z"
      },
      {
        "duration": 15055,
        "start_time": "2022-12-02T21:52:32.460Z"
      },
      {
        "duration": 1150,
        "start_time": "2022-12-02T21:53:14.118Z"
      },
      {
        "duration": 6016,
        "start_time": "2022-12-02T21:53:48.240Z"
      },
      {
        "duration": 14,
        "start_time": "2022-12-02T21:54:24.059Z"
      },
      {
        "duration": 9,
        "start_time": "2022-12-02T21:54:29.068Z"
      },
      {
        "duration": 29,
        "start_time": "2022-12-02T21:54:36.565Z"
      },
      {
        "duration": 650,
        "start_time": "2022-12-02T21:54:42.230Z"
      },
      {
        "duration": 24,
        "start_time": "2022-12-02T21:54:54.437Z"
      },
      {
        "duration": 719,
        "start_time": "2022-12-02T21:55:03.506Z"
      },
      {
        "duration": 162754,
        "start_time": "2022-12-02T21:56:06.478Z"
      },
      {
        "duration": 4,
        "start_time": "2022-12-02T21:58:49.234Z"
      },
      {
        "duration": 238,
        "start_time": "2022-12-02T21:59:31.384Z"
      },
      {
        "duration": 1397,
        "start_time": "2022-12-02T22:00:38.414Z"
      },
      {
        "duration": 3,
        "start_time": "2022-12-02T22:00:39.813Z"
      },
      {
        "duration": 367,
        "start_time": "2022-12-02T22:00:39.818Z"
      },
      {
        "duration": 5,
        "start_time": "2022-12-02T22:00:40.187Z"
      },
      {
        "duration": 77,
        "start_time": "2022-12-02T22:00:40.193Z"
      },
      {
        "duration": 13,
        "start_time": "2022-12-02T22:00:40.271Z"
      },
      {
        "duration": 156,
        "start_time": "2022-12-02T22:00:40.286Z"
      },
      {
        "duration": 59,
        "start_time": "2022-12-02T22:00:40.444Z"
      },
      {
        "duration": 292,
        "start_time": "2022-12-02T22:00:40.504Z"
      },
      {
        "duration": 3,
        "start_time": "2022-12-02T22:00:40.799Z"
      },
      {
        "duration": 131,
        "start_time": "2022-12-02T22:00:40.822Z"
      },
      {
        "duration": 15576,
        "start_time": "2022-12-02T22:00:40.955Z"
      },
      {
        "duration": 614,
        "start_time": "2022-12-02T22:00:56.533Z"
      },
      {
        "duration": 6095,
        "start_time": "2022-12-02T22:00:57.148Z"
      },
      {
        "duration": 11,
        "start_time": "2022-12-02T22:01:03.245Z"
      },
      {
        "duration": 47,
        "start_time": "2022-12-02T22:01:03.258Z"
      },
      {
        "duration": 33,
        "start_time": "2022-12-02T22:01:03.307Z"
      },
      {
        "duration": 704,
        "start_time": "2022-12-02T22:01:03.342Z"
      },
      {
        "duration": 28,
        "start_time": "2022-12-02T22:01:04.048Z"
      },
      {
        "duration": 731,
        "start_time": "2022-12-02T22:01:04.078Z"
      },
      {
        "duration": 312,
        "start_time": "2022-12-02T22:01:04.811Z"
      },
      {
        "duration": 159225,
        "start_time": "2022-12-02T22:01:05.126Z"
      },
      {
        "duration": 4,
        "start_time": "2022-12-02T22:03:44.352Z"
      },
      {
        "duration": 1865,
        "start_time": "2022-12-02T22:03:44.357Z"
      },
      {
        "duration": 107,
        "start_time": "2022-12-02T22:03:46.224Z"
      },
      {
        "duration": 449,
        "start_time": "2022-12-02T22:03:46.427Z"
      },
      {
        "duration": 48,
        "start_time": "2022-12-02T22:03:46.877Z"
      },
      {
        "duration": 371,
        "start_time": "2022-12-02T22:03:46.928Z"
      },
      {
        "duration": 3,
        "start_time": "2022-12-02T22:03:47.300Z"
      },
      {
        "duration": 7,
        "start_time": "2022-12-02T22:03:47.305Z"
      },
      {
        "duration": 7,
        "start_time": "2022-12-02T22:03:47.321Z"
      },
      {
        "duration": 5,
        "start_time": "2022-12-02T22:03:47.329Z"
      },
      {
        "duration": 4539,
        "start_time": "2022-12-02T22:03:47.335Z"
      },
      {
        "duration": 14,
        "start_time": "2022-12-02T22:03:51.876Z"
      },
      {
        "duration": 16,
        "start_time": "2022-12-02T22:03:51.892Z"
      },
      {
        "duration": 1999,
        "start_time": "2022-12-02T22:03:51.910Z"
      },
      {
        "duration": 11,
        "start_time": "2022-12-02T22:03:53.911Z"
      },
      {
        "duration": 11,
        "start_time": "2022-12-02T22:03:53.923Z"
      },
      {
        "duration": 48,
        "start_time": "2022-12-02T22:03:53.935Z"
      },
      {
        "duration": 507,
        "start_time": "2022-12-02T22:08:36.966Z"
      },
      {
        "duration": 342,
        "start_time": "2022-12-02T22:08:59.395Z"
      },
      {
        "duration": 42,
        "start_time": "2022-12-02T22:10:02.162Z"
      },
      {
        "duration": 342,
        "start_time": "2022-12-02T22:10:22.654Z"
      },
      {
        "duration": 10,
        "start_time": "2022-12-02T22:10:50.964Z"
      },
      {
        "duration": 101,
        "start_time": "2022-12-02T22:12:11.046Z"
      },
      {
        "duration": 21,
        "start_time": "2022-12-02T22:13:39.611Z"
      },
      {
        "duration": 14,
        "start_time": "2022-12-02T22:14:15.222Z"
      },
      {
        "duration": 28,
        "start_time": "2022-12-02T22:14:47.323Z"
      },
      {
        "duration": 392,
        "start_time": "2022-12-02T22:14:56.958Z"
      },
      {
        "duration": 3,
        "start_time": "2022-12-02T22:15:17.592Z"
      },
      {
        "duration": 3,
        "start_time": "2022-12-02T22:15:20.695Z"
      },
      {
        "duration": 5,
        "start_time": "2022-12-02T22:15:23.605Z"
      },
      {
        "duration": 4,
        "start_time": "2022-12-02T22:15:27.340Z"
      },
      {
        "duration": 4777,
        "start_time": "2022-12-02T22:15:29.694Z"
      },
      {
        "duration": 14,
        "start_time": "2022-12-02T22:15:34.473Z"
      },
      {
        "duration": 9,
        "start_time": "2022-12-02T22:16:16.934Z"
      },
      {
        "duration": 6,
        "start_time": "2022-12-02T22:16:27.896Z"
      },
      {
        "duration": 1547,
        "start_time": "2022-12-03T06:37:50.079Z"
      },
      {
        "duration": 3,
        "start_time": "2022-12-03T06:37:51.628Z"
      },
      {
        "duration": 662,
        "start_time": "2022-12-03T06:37:51.633Z"
      },
      {
        "duration": 4,
        "start_time": "2022-12-03T06:37:52.297Z"
      },
      {
        "duration": 75,
        "start_time": "2022-12-03T06:37:52.303Z"
      },
      {
        "duration": 34,
        "start_time": "2022-12-03T06:37:52.380Z"
      },
      {
        "duration": 154,
        "start_time": "2022-12-03T06:37:52.416Z"
      },
      {
        "duration": 76,
        "start_time": "2022-12-03T06:37:52.573Z"
      },
      {
        "duration": 288,
        "start_time": "2022-12-03T06:37:52.651Z"
      },
      {
        "duration": 3,
        "start_time": "2022-12-03T06:37:52.942Z"
      },
      {
        "duration": 138,
        "start_time": "2022-12-03T06:37:52.947Z"
      },
      {
        "duration": 16565,
        "start_time": "2022-12-03T06:37:53.087Z"
      },
      {
        "duration": 723,
        "start_time": "2022-12-03T06:38:09.654Z"
      },
      {
        "duration": 6553,
        "start_time": "2022-12-03T06:38:10.379Z"
      },
      {
        "duration": 11,
        "start_time": "2022-12-03T06:38:16.934Z"
      },
      {
        "duration": 18,
        "start_time": "2022-12-03T06:38:16.947Z"
      },
      {
        "duration": 28,
        "start_time": "2022-12-03T06:38:16.967Z"
      },
      {
        "duration": 726,
        "start_time": "2022-12-03T06:38:17.012Z"
      },
      {
        "duration": 23,
        "start_time": "2022-12-03T06:38:17.739Z"
      },
      {
        "duration": 738,
        "start_time": "2022-12-03T06:38:17.763Z"
      },
      {
        "duration": 413,
        "start_time": "2022-12-03T06:38:18.503Z"
      },
      {
        "duration": 172943,
        "start_time": "2022-12-03T06:38:18.918Z"
      },
      {
        "duration": 4,
        "start_time": "2022-12-03T06:41:11.862Z"
      },
      {
        "duration": 1390,
        "start_time": "2022-12-03T06:41:11.867Z"
      },
      {
        "duration": 106,
        "start_time": "2022-12-03T06:41:13.313Z"
      },
      {
        "duration": 595,
        "start_time": "2022-12-03T06:41:13.421Z"
      },
      {
        "duration": 34,
        "start_time": "2022-12-03T06:41:14.017Z"
      },
      {
        "duration": 443,
        "start_time": "2022-12-03T06:41:14.054Z"
      },
      {
        "duration": 3,
        "start_time": "2022-12-03T06:41:14.498Z"
      },
      {
        "duration": 4,
        "start_time": "2022-12-03T06:41:14.511Z"
      },
      {
        "duration": 9,
        "start_time": "2022-12-03T06:41:14.516Z"
      },
      {
        "duration": 23,
        "start_time": "2022-12-03T06:41:14.527Z"
      },
      {
        "duration": 5243,
        "start_time": "2022-12-03T06:41:14.552Z"
      },
      {
        "duration": 21,
        "start_time": "2022-12-03T06:41:19.796Z"
      },
      {
        "duration": 26,
        "start_time": "2022-12-03T06:41:19.818Z"
      },
      {
        "duration": 2250,
        "start_time": "2022-12-03T06:41:19.846Z"
      },
      {
        "duration": 16,
        "start_time": "2022-12-03T06:41:22.098Z"
      },
      {
        "duration": 19,
        "start_time": "2022-12-03T06:41:22.115Z"
      },
      {
        "duration": 5,
        "start_time": "2022-12-03T06:51:45.988Z"
      },
      {
        "duration": 4,
        "start_time": "2022-12-03T06:52:31.156Z"
      },
      {
        "duration": 3,
        "start_time": "2022-12-03T06:52:59.622Z"
      },
      {
        "duration": 114,
        "start_time": "2022-12-03T07:13:11.838Z"
      },
      {
        "duration": 5,
        "start_time": "2022-12-03T07:13:31.018Z"
      },
      {
        "duration": 56,
        "start_time": "2022-12-03T07:13:35.609Z"
      },
      {
        "duration": 1415,
        "start_time": "2022-12-03T07:18:32.536Z"
      },
      {
        "duration": 3,
        "start_time": "2022-12-03T07:18:33.953Z"
      },
      {
        "duration": 389,
        "start_time": "2022-12-03T07:18:33.958Z"
      },
      {
        "duration": 5,
        "start_time": "2022-12-03T07:18:34.349Z"
      },
      {
        "duration": 79,
        "start_time": "2022-12-03T07:18:34.356Z"
      },
      {
        "duration": 12,
        "start_time": "2022-12-03T07:18:34.436Z"
      },
      {
        "duration": 157,
        "start_time": "2022-12-03T07:18:34.450Z"
      },
      {
        "duration": 59,
        "start_time": "2022-12-03T07:18:34.612Z"
      },
      {
        "duration": 303,
        "start_time": "2022-12-03T07:18:34.673Z"
      },
      {
        "duration": 3,
        "start_time": "2022-12-03T07:18:34.978Z"
      },
      {
        "duration": 147,
        "start_time": "2022-12-03T07:18:34.983Z"
      },
      {
        "duration": 16808,
        "start_time": "2022-12-03T07:18:35.132Z"
      },
      {
        "duration": 719,
        "start_time": "2022-12-03T07:18:51.942Z"
      },
      {
        "duration": 6561,
        "start_time": "2022-12-03T07:18:52.663Z"
      },
      {
        "duration": 11,
        "start_time": "2022-12-03T07:18:59.226Z"
      },
      {
        "duration": 16,
        "start_time": "2022-12-03T07:18:59.239Z"
      },
      {
        "duration": 32,
        "start_time": "2022-12-03T07:18:59.256Z"
      },
      {
        "duration": 809,
        "start_time": "2022-12-03T07:18:59.311Z"
      },
      {
        "duration": 23,
        "start_time": "2022-12-03T07:19:00.122Z"
      },
      {
        "duration": 778,
        "start_time": "2022-12-03T07:19:00.147Z"
      },
      {
        "duration": 385,
        "start_time": "2022-12-03T07:19:00.927Z"
      },
      {
        "duration": 169899,
        "start_time": "2022-12-03T07:19:01.315Z"
      },
      {
        "duration": 4,
        "start_time": "2022-12-03T07:21:51.216Z"
      },
      {
        "duration": 1291,
        "start_time": "2022-12-03T07:21:51.222Z"
      },
      {
        "duration": 199,
        "start_time": "2022-12-03T07:21:52.515Z"
      },
      {
        "duration": 596,
        "start_time": "2022-12-03T07:21:52.716Z"
      },
      {
        "duration": 32,
        "start_time": "2022-12-03T07:21:53.314Z"
      },
      {
        "duration": 440,
        "start_time": "2022-12-03T07:21:53.349Z"
      },
      {
        "duration": 3,
        "start_time": "2022-12-03T07:21:53.791Z"
      },
      {
        "duration": 8,
        "start_time": "2022-12-03T07:21:53.796Z"
      },
      {
        "duration": 6,
        "start_time": "2022-12-03T07:21:53.811Z"
      },
      {
        "duration": 6,
        "start_time": "2022-12-03T07:21:53.818Z"
      },
      {
        "duration": 5218,
        "start_time": "2022-12-03T07:21:53.826Z"
      },
      {
        "duration": 16,
        "start_time": "2022-12-03T07:21:59.045Z"
      },
      {
        "duration": 29,
        "start_time": "2022-12-03T07:21:59.063Z"
      },
      {
        "duration": 2173,
        "start_time": "2022-12-03T07:21:59.094Z"
      },
      {
        "duration": 10,
        "start_time": "2022-12-03T07:22:01.270Z"
      },
      {
        "duration": 134,
        "start_time": "2022-12-03T07:22:01.282Z"
      },
      {
        "duration": 0,
        "start_time": "2022-12-03T07:22:01.417Z"
      },
      {
        "duration": 53619,
        "start_time": "2022-12-03T07:25:41.482Z"
      },
      {
        "duration": 936,
        "start_time": "2022-12-03T07:26:42.907Z"
      },
      {
        "duration": 53109,
        "start_time": "2022-12-03T07:27:27.220Z"
      },
      {
        "duration": 1974,
        "start_time": "2022-12-03T07:28:37.498Z"
      },
      {
        "duration": 6,
        "start_time": "2022-12-03T07:36:21.515Z"
      },
      {
        "duration": 6,
        "start_time": "2022-12-03T07:37:13.662Z"
      },
      {
        "duration": 6,
        "start_time": "2022-12-03T07:38:04.530Z"
      },
      {
        "duration": 7,
        "start_time": "2022-12-03T07:42:18.406Z"
      },
      {
        "duration": 6,
        "start_time": "2022-12-03T07:43:46.645Z"
      },
      {
        "duration": 6,
        "start_time": "2022-12-03T07:44:48.796Z"
      },
      {
        "duration": 52,
        "start_time": "2022-12-03T07:46:25.790Z"
      },
      {
        "duration": 8,
        "start_time": "2022-12-03T07:53:36.187Z"
      },
      {
        "duration": 5,
        "start_time": "2022-12-03T07:58:23.143Z"
      },
      {
        "duration": 7,
        "start_time": "2022-12-03T07:59:21.488Z"
      },
      {
        "duration": 6,
        "start_time": "2022-12-03T08:01:58.001Z"
      },
      {
        "duration": 6,
        "start_time": "2022-12-03T08:02:17.358Z"
      },
      {
        "duration": 9,
        "start_time": "2022-12-03T08:04:08.352Z"
      },
      {
        "duration": 9,
        "start_time": "2022-12-03T08:04:33.825Z"
      },
      {
        "duration": 2066,
        "start_time": "2022-12-03T08:05:31.917Z"
      },
      {
        "duration": 58,
        "start_time": "2022-12-03T08:33:57.290Z"
      },
      {
        "duration": 14,
        "start_time": "2022-12-03T08:34:15.036Z"
      },
      {
        "duration": 11,
        "start_time": "2022-12-03T08:35:56.849Z"
      },
      {
        "duration": 15,
        "start_time": "2022-12-03T08:36:08.802Z"
      },
      {
        "duration": 12,
        "start_time": "2022-12-03T08:36:27.668Z"
      },
      {
        "duration": 16,
        "start_time": "2022-12-03T08:37:15.700Z"
      },
      {
        "duration": 17,
        "start_time": "2022-12-03T08:37:34.943Z"
      },
      {
        "duration": 14,
        "start_time": "2022-12-03T08:38:01.191Z"
      },
      {
        "duration": 6,
        "start_time": "2022-12-03T11:38:41.208Z"
      },
      {
        "duration": 10,
        "start_time": "2022-12-03T11:38:41.216Z"
      },
      {
        "duration": 482,
        "start_time": "2022-12-03T11:38:41.229Z"
      },
      {
        "duration": 6,
        "start_time": "2022-12-03T11:38:41.713Z"
      },
      {
        "duration": 101,
        "start_time": "2022-12-03T11:38:41.723Z"
      },
      {
        "duration": 11,
        "start_time": "2022-12-03T11:38:41.826Z"
      },
      {
        "duration": 189,
        "start_time": "2022-12-03T11:38:41.839Z"
      },
      {
        "duration": 121,
        "start_time": "2022-12-03T11:38:42.030Z"
      },
      {
        "duration": 441,
        "start_time": "2022-12-03T11:38:42.153Z"
      },
      {
        "duration": 5,
        "start_time": "2022-12-03T11:38:42.611Z"
      },
      {
        "duration": 173,
        "start_time": "2022-12-03T11:38:42.618Z"
      },
      {
        "duration": 19295,
        "start_time": "2022-12-03T11:38:42.793Z"
      },
      {
        "duration": 798,
        "start_time": "2022-12-03T11:39:02.091Z"
      },
      {
        "duration": 7065,
        "start_time": "2022-12-03T11:39:02.892Z"
      },
      {
        "duration": 8,
        "start_time": "2022-12-03T11:39:09.959Z"
      },
      {
        "duration": 17,
        "start_time": "2022-12-03T11:39:09.970Z"
      },
      {
        "duration": 59,
        "start_time": "2022-12-03T11:39:09.989Z"
      },
      {
        "duration": 843,
        "start_time": "2022-12-03T11:39:10.051Z"
      },
      {
        "duration": 35,
        "start_time": "2022-12-03T11:39:10.896Z"
      },
      {
        "duration": 773,
        "start_time": "2022-12-03T11:39:10.933Z"
      },
      {
        "duration": 319,
        "start_time": "2022-12-03T11:39:11.708Z"
      },
      {
        "duration": 178326,
        "start_time": "2022-12-03T11:39:12.029Z"
      },
      {
        "duration": 7,
        "start_time": "2022-12-03T11:42:10.357Z"
      },
      {
        "duration": 1453,
        "start_time": "2022-12-03T11:42:10.366Z"
      },
      {
        "duration": 191,
        "start_time": "2022-12-03T11:42:11.826Z"
      },
      {
        "duration": 614,
        "start_time": "2022-12-03T11:42:12.020Z"
      },
      {
        "duration": 37,
        "start_time": "2022-12-03T11:42:12.636Z"
      },
      {
        "duration": 489,
        "start_time": "2022-12-03T11:42:12.675Z"
      },
      {
        "duration": 4,
        "start_time": "2022-12-03T11:42:13.167Z"
      },
      {
        "duration": 6,
        "start_time": "2022-12-03T11:42:13.174Z"
      },
      {
        "duration": 11,
        "start_time": "2022-12-03T11:42:13.182Z"
      },
      {
        "duration": 7,
        "start_time": "2022-12-03T11:42:13.213Z"
      },
      {
        "duration": 6342,
        "start_time": "2022-12-03T11:42:13.222Z"
      },
      {
        "duration": 20,
        "start_time": "2022-12-03T11:42:19.565Z"
      },
      {
        "duration": 4,
        "start_time": "2022-12-03T11:42:19.588Z"
      },
      {
        "duration": 2057,
        "start_time": "2022-12-03T11:42:19.613Z"
      },
      {
        "duration": 58043,
        "start_time": "2022-12-03T11:42:21.673Z"
      },
      {
        "duration": 2027,
        "start_time": "2022-12-03T11:43:19.718Z"
      },
      {
        "duration": 11,
        "start_time": "2022-12-03T11:43:21.747Z"
      },
      {
        "duration": 22,
        "start_time": "2022-12-03T11:43:21.760Z"
      },
      {
        "duration": 1564,
        "start_time": "2022-12-04T16:23:33.412Z"
      },
      {
        "duration": 4,
        "start_time": "2022-12-04T16:23:34.978Z"
      },
      {
        "duration": 627,
        "start_time": "2022-12-04T16:23:34.983Z"
      },
      {
        "duration": 6,
        "start_time": "2022-12-04T16:23:35.612Z"
      },
      {
        "duration": 79,
        "start_time": "2022-12-04T16:23:35.625Z"
      },
      {
        "duration": 12,
        "start_time": "2022-12-04T16:23:35.705Z"
      },
      {
        "duration": 138,
        "start_time": "2022-12-04T16:23:35.719Z"
      },
      {
        "duration": 69,
        "start_time": "2022-12-04T16:23:35.858Z"
      },
      {
        "duration": 295,
        "start_time": "2022-12-04T16:23:35.929Z"
      },
      {
        "duration": 3,
        "start_time": "2022-12-04T16:23:36.227Z"
      },
      {
        "duration": 126,
        "start_time": "2022-12-04T16:23:36.232Z"
      },
      {
        "duration": 14926,
        "start_time": "2022-12-04T16:23:36.360Z"
      },
      {
        "duration": 588,
        "start_time": "2022-12-04T16:23:51.288Z"
      },
      {
        "duration": 5742,
        "start_time": "2022-12-04T16:23:51.877Z"
      },
      {
        "duration": 10,
        "start_time": "2022-12-04T16:23:57.621Z"
      },
      {
        "duration": 29,
        "start_time": "2022-12-04T16:23:57.633Z"
      },
      {
        "duration": 28,
        "start_time": "2022-12-04T16:23:57.664Z"
      },
      {
        "duration": 699,
        "start_time": "2022-12-04T16:23:57.693Z"
      },
      {
        "duration": 21,
        "start_time": "2022-12-04T16:23:58.397Z"
      },
      {
        "duration": 690,
        "start_time": "2022-12-04T16:23:58.419Z"
      },
      {
        "duration": 396,
        "start_time": "2022-12-04T16:23:59.110Z"
      },
      {
        "duration": 162221,
        "start_time": "2022-12-04T16:23:59.599Z"
      },
      {
        "duration": 3,
        "start_time": "2022-12-04T16:26:41.822Z"
      },
      {
        "duration": 1271,
        "start_time": "2022-12-04T16:26:41.827Z"
      },
      {
        "duration": 202,
        "start_time": "2022-12-04T16:26:43.102Z"
      },
      {
        "duration": 537,
        "start_time": "2022-12-04T16:26:43.308Z"
      },
      {
        "duration": 30,
        "start_time": "2022-12-04T16:26:43.847Z"
      },
      {
        "duration": 412,
        "start_time": "2022-12-04T16:26:43.881Z"
      },
      {
        "duration": 3,
        "start_time": "2022-12-04T16:26:44.296Z"
      },
      {
        "duration": 17,
        "start_time": "2022-12-04T16:26:44.301Z"
      },
      {
        "duration": 20,
        "start_time": "2022-12-04T16:26:44.320Z"
      },
      {
        "duration": 15,
        "start_time": "2022-12-04T16:26:44.341Z"
      },
      {
        "duration": 4714,
        "start_time": "2022-12-04T16:26:44.358Z"
      },
      {
        "duration": 25,
        "start_time": "2022-12-04T16:26:49.074Z"
      },
      {
        "duration": 3,
        "start_time": "2022-12-04T16:26:49.101Z"
      },
      {
        "duration": 2024,
        "start_time": "2022-12-04T16:26:49.105Z"
      },
      {
        "duration": 46652,
        "start_time": "2022-12-04T16:26:51.132Z"
      },
      {
        "duration": 1742,
        "start_time": "2022-12-04T16:27:37.786Z"
      },
      {
        "duration": 9,
        "start_time": "2022-12-04T16:27:39.530Z"
      },
      {
        "duration": 17,
        "start_time": "2022-12-04T16:27:39.541Z"
      },
      {
        "duration": 271,
        "start_time": "2022-12-04T20:20:37.534Z"
      },
      {
        "duration": 354,
        "start_time": "2022-12-04T20:21:17.047Z"
      },
      {
        "duration": 18,
        "start_time": "2022-12-04T20:26:17.540Z"
      },
      {
        "duration": 431,
        "start_time": "2022-12-04T20:26:21.405Z"
      },
      {
        "duration": 5,
        "start_time": "2022-12-04T20:44:19.193Z"
      },
      {
        "duration": 3702,
        "start_time": "2022-12-04T20:44:20.947Z"
      },
      {
        "duration": 148,
        "start_time": "2022-12-04T20:44:24.652Z"
      },
      {
        "duration": 3,
        "start_time": "2022-12-04T20:44:34.655Z"
      },
      {
        "duration": 10,
        "start_time": "2022-12-04T20:44:38.269Z"
      },
      {
        "duration": 4,
        "start_time": "2022-12-04T20:46:11.193Z"
      },
      {
        "duration": 3701,
        "start_time": "2022-12-04T20:46:13.466Z"
      },
      {
        "duration": 10,
        "start_time": "2022-12-04T20:46:17.169Z"
      },
      {
        "duration": 11,
        "start_time": "2022-12-04T20:55:37.540Z"
      },
      {
        "duration": 4,
        "start_time": "2022-12-04T20:56:19.923Z"
      },
      {
        "duration": 4,
        "start_time": "2022-12-04T20:56:44.088Z"
      },
      {
        "duration": 6,
        "start_time": "2022-12-04T20:56:55.926Z"
      },
      {
        "duration": 5,
        "start_time": "2022-12-04T20:57:04.358Z"
      },
      {
        "duration": 42,
        "start_time": "2022-12-04T20:58:09.113Z"
      },
      {
        "duration": 4,
        "start_time": "2022-12-04T20:58:18.277Z"
      },
      {
        "duration": 6,
        "start_time": "2022-12-04T20:59:33.387Z"
      },
      {
        "duration": 6,
        "start_time": "2022-12-04T20:59:44.588Z"
      },
      {
        "duration": 5,
        "start_time": "2022-12-04T21:00:23.198Z"
      },
      {
        "duration": 6,
        "start_time": "2022-12-04T21:00:31.198Z"
      },
      {
        "duration": 5,
        "start_time": "2022-12-04T21:01:03.139Z"
      },
      {
        "duration": 5,
        "start_time": "2022-12-04T21:02:24.894Z"
      },
      {
        "duration": 3,
        "start_time": "2022-12-04T21:02:31.663Z"
      },
      {
        "duration": 1789,
        "start_time": "2022-12-04T21:03:16.828Z"
      },
      {
        "duration": 3,
        "start_time": "2022-12-04T21:03:50.355Z"
      },
      {
        "duration": 1731,
        "start_time": "2022-12-04T21:03:51.938Z"
      },
      {
        "duration": 1689,
        "start_time": "2022-12-04T21:04:10.597Z"
      },
      {
        "duration": 1823,
        "start_time": "2022-12-04T21:05:41.852Z"
      },
      {
        "duration": 34893,
        "start_time": "2022-12-04T21:05:57.015Z"
      },
      {
        "duration": 1724,
        "start_time": "2022-12-04T21:06:31.910Z"
      },
      {
        "duration": 10,
        "start_time": "2022-12-04T21:08:19.123Z"
      },
      {
        "duration": 10,
        "start_time": "2022-12-04T21:08:35.765Z"
      },
      {
        "duration": 10,
        "start_time": "2022-12-04T21:08:52.271Z"
      },
      {
        "duration": 12,
        "start_time": "2022-12-04T21:10:02.965Z"
      },
      {
        "duration": 45,
        "start_time": "2022-12-04T21:10:06.808Z"
      },
      {
        "duration": 14,
        "start_time": "2022-12-04T21:10:19.895Z"
      },
      {
        "duration": 17,
        "start_time": "2022-12-04T21:10:34.405Z"
      },
      {
        "duration": 13,
        "start_time": "2022-12-04T21:10:57.230Z"
      },
      {
        "duration": 17,
        "start_time": "2022-12-04T21:11:31.134Z"
      },
      {
        "duration": 14,
        "start_time": "2022-12-04T21:11:51.848Z"
      },
      {
        "duration": 47,
        "start_time": "2022-12-04T21:12:10.585Z"
      },
      {
        "duration": 17,
        "start_time": "2022-12-04T21:12:22.735Z"
      },
      {
        "duration": 15,
        "start_time": "2022-12-04T21:12:49.099Z"
      },
      {
        "duration": 15,
        "start_time": "2022-12-04T21:12:56.200Z"
      },
      {
        "duration": 1269,
        "start_time": "2022-12-04T21:20:25.951Z"
      },
      {
        "duration": 3,
        "start_time": "2022-12-04T21:20:27.222Z"
      },
      {
        "duration": 362,
        "start_time": "2022-12-04T21:20:27.226Z"
      },
      {
        "duration": 4,
        "start_time": "2022-12-04T21:20:27.590Z"
      },
      {
        "duration": 61,
        "start_time": "2022-12-04T21:20:27.597Z"
      },
      {
        "duration": 14,
        "start_time": "2022-12-04T21:20:27.659Z"
      },
      {
        "duration": 144,
        "start_time": "2022-12-04T21:20:27.674Z"
      },
      {
        "duration": 58,
        "start_time": "2022-12-04T21:20:27.819Z"
      },
      {
        "duration": 262,
        "start_time": "2022-12-04T21:20:27.878Z"
      },
      {
        "duration": 3,
        "start_time": "2022-12-04T21:20:28.142Z"
      },
      {
        "duration": 132,
        "start_time": "2022-12-04T21:20:28.147Z"
      },
      {
        "duration": 14558,
        "start_time": "2022-12-04T21:20:28.280Z"
      },
      {
        "duration": 613,
        "start_time": "2022-12-04T21:20:42.851Z"
      },
      {
        "duration": 5692,
        "start_time": "2022-12-04T21:20:43.466Z"
      },
      {
        "duration": 12,
        "start_time": "2022-12-04T21:20:49.160Z"
      },
      {
        "duration": 24,
        "start_time": "2022-12-04T21:20:49.174Z"
      },
      {
        "duration": 29,
        "start_time": "2022-12-04T21:20:49.200Z"
      },
      {
        "duration": 728,
        "start_time": "2022-12-04T21:20:49.230Z"
      },
      {
        "duration": 21,
        "start_time": "2022-12-04T21:20:49.959Z"
      },
      {
        "duration": 686,
        "start_time": "2022-12-04T21:20:49.981Z"
      },
      {
        "duration": 434,
        "start_time": "2022-12-04T21:20:50.669Z"
      },
      {
        "duration": 194,
        "start_time": "2022-12-04T21:20:51.105Z"
      },
      {
        "duration": 504,
        "start_time": "2022-12-04T21:20:51.302Z"
      },
      {
        "duration": 29,
        "start_time": "2022-12-04T21:20:51.808Z"
      },
      {
        "duration": 384,
        "start_time": "2022-12-04T21:20:51.839Z"
      },
      {
        "duration": 3,
        "start_time": "2022-12-04T21:20:52.224Z"
      },
      {
        "duration": 10,
        "start_time": "2022-12-04T21:20:52.229Z"
      },
      {
        "duration": 5,
        "start_time": "2022-12-04T21:20:52.243Z"
      },
      {
        "duration": 5,
        "start_time": "2022-12-04T21:20:52.249Z"
      },
      {
        "duration": 3788,
        "start_time": "2022-12-04T21:20:52.255Z"
      },
      {
        "duration": 9,
        "start_time": "2022-12-04T21:20:56.045Z"
      },
      {
        "duration": 6,
        "start_time": "2022-12-04T21:20:56.055Z"
      },
      {
        "duration": 4,
        "start_time": "2022-12-04T21:20:56.063Z"
      },
      {
        "duration": 1917,
        "start_time": "2022-12-04T21:20:56.069Z"
      },
      {
        "duration": 35694,
        "start_time": "2022-12-04T21:20:57.988Z"
      },
      {
        "duration": 1753,
        "start_time": "2022-12-04T21:21:33.684Z"
      },
      {
        "duration": 8,
        "start_time": "2022-12-04T21:21:35.439Z"
      },
      {
        "duration": 14,
        "start_time": "2022-12-04T21:21:35.449Z"
      },
      {
        "duration": 3,
        "start_time": "2022-12-04T21:21:35.465Z"
      },
      {
        "duration": 1585,
        "start_time": "2022-12-05T13:30:18.145Z"
      },
      {
        "duration": 4,
        "start_time": "2022-12-05T13:30:19.732Z"
      },
      {
        "duration": 696,
        "start_time": "2022-12-05T13:30:19.737Z"
      },
      {
        "duration": 7,
        "start_time": "2022-12-05T13:30:20.435Z"
      },
      {
        "duration": 84,
        "start_time": "2022-12-05T13:30:20.444Z"
      },
      {
        "duration": 15,
        "start_time": "2022-12-05T13:30:20.530Z"
      },
      {
        "duration": 184,
        "start_time": "2022-12-05T13:30:20.548Z"
      },
      {
        "duration": 84,
        "start_time": "2022-12-05T13:30:20.734Z"
      },
      {
        "duration": 374,
        "start_time": "2022-12-05T13:30:20.820Z"
      },
      {
        "duration": 4,
        "start_time": "2022-12-05T13:30:21.197Z"
      },
      {
        "duration": 141,
        "start_time": "2022-12-05T13:30:21.203Z"
      },
      {
        "duration": 17542,
        "start_time": "2022-12-05T13:30:21.347Z"
      },
      {
        "duration": 755,
        "start_time": "2022-12-05T13:30:38.891Z"
      },
      {
        "duration": 8004,
        "start_time": "2022-12-05T13:30:39.648Z"
      },
      {
        "duration": 14,
        "start_time": "2022-12-05T13:30:47.655Z"
      },
      {
        "duration": 29,
        "start_time": "2022-12-05T13:30:47.677Z"
      },
      {
        "duration": 64,
        "start_time": "2022-12-05T13:30:47.708Z"
      },
      {
        "duration": 951,
        "start_time": "2022-12-05T13:30:47.774Z"
      },
      {
        "duration": 33,
        "start_time": "2022-12-05T13:30:48.727Z"
      },
      {
        "duration": 887,
        "start_time": "2022-12-05T13:30:48.763Z"
      },
      {
        "duration": 241,
        "start_time": "2022-12-05T13:30:49.652Z"
      },
      {
        "duration": 97,
        "start_time": "2022-12-05T13:30:49.895Z"
      },
      {
        "duration": 543,
        "start_time": "2022-12-05T13:30:50.079Z"
      },
      {
        "duration": 43,
        "start_time": "2022-12-05T13:30:50.624Z"
      },
      {
        "duration": 512,
        "start_time": "2022-12-05T13:30:50.677Z"
      },
      {
        "duration": 4,
        "start_time": "2022-12-05T13:30:51.191Z"
      },
      {
        "duration": 17,
        "start_time": "2022-12-05T13:30:51.196Z"
      },
      {
        "duration": 10,
        "start_time": "2022-12-05T13:30:51.217Z"
      },
      {
        "duration": 9,
        "start_time": "2022-12-05T13:30:51.230Z"
      },
      {
        "duration": 4426,
        "start_time": "2022-12-05T13:30:51.241Z"
      },
      {
        "duration": 17,
        "start_time": "2022-12-05T13:30:55.669Z"
      },
      {
        "duration": 13,
        "start_time": "2022-12-05T13:30:55.688Z"
      },
      {
        "duration": 8,
        "start_time": "2022-12-05T13:30:55.704Z"
      },
      {
        "duration": 2363,
        "start_time": "2022-12-05T13:30:55.714Z"
      },
      {
        "duration": 42046,
        "start_time": "2022-12-05T13:30:58.080Z"
      },
      {
        "duration": 2044,
        "start_time": "2022-12-05T13:31:40.128Z"
      },
      {
        "duration": 12,
        "start_time": "2022-12-05T13:31:42.173Z"
      },
      {
        "duration": 24,
        "start_time": "2022-12-05T13:31:42.187Z"
      },
      {
        "duration": 9,
        "start_time": "2022-12-05T13:31:42.213Z"
      },
      {
        "duration": 55,
        "start_time": "2022-12-06T15:36:03.606Z"
      },
      {
        "duration": 1579,
        "start_time": "2022-12-06T15:37:35.191Z"
      },
      {
        "duration": 3,
        "start_time": "2022-12-06T15:37:36.773Z"
      },
      {
        "duration": 641,
        "start_time": "2022-12-06T15:37:36.778Z"
      },
      {
        "duration": 4,
        "start_time": "2022-12-06T15:37:37.421Z"
      },
      {
        "duration": 80,
        "start_time": "2022-12-06T15:37:37.427Z"
      },
      {
        "duration": 14,
        "start_time": "2022-12-06T15:37:37.509Z"
      },
      {
        "duration": 165,
        "start_time": "2022-12-06T15:37:37.525Z"
      },
      {
        "duration": 66,
        "start_time": "2022-12-06T15:37:37.692Z"
      },
      {
        "duration": 321,
        "start_time": "2022-12-06T15:37:37.760Z"
      },
      {
        "duration": 4,
        "start_time": "2022-12-06T15:37:38.084Z"
      },
      {
        "duration": 145,
        "start_time": "2022-12-06T15:37:38.090Z"
      },
      {
        "duration": 17288,
        "start_time": "2022-12-06T15:37:38.237Z"
      },
      {
        "duration": 708,
        "start_time": "2022-12-06T15:37:55.527Z"
      },
      {
        "duration": 6566,
        "start_time": "2022-12-06T15:37:56.236Z"
      },
      {
        "duration": 12,
        "start_time": "2022-12-06T15:38:02.804Z"
      },
      {
        "duration": 28,
        "start_time": "2022-12-06T15:38:02.817Z"
      },
      {
        "duration": 40,
        "start_time": "2022-12-06T15:38:02.848Z"
      },
      {
        "duration": 760,
        "start_time": "2022-12-06T15:38:02.890Z"
      },
      {
        "duration": 29,
        "start_time": "2022-12-06T15:38:03.651Z"
      },
      {
        "duration": 755,
        "start_time": "2022-12-06T15:38:03.682Z"
      },
      {
        "duration": 348,
        "start_time": "2022-12-06T15:38:04.439Z"
      },
      {
        "duration": 186,
        "start_time": "2022-12-06T15:38:04.790Z"
      },
      {
        "duration": 483,
        "start_time": "2022-12-06T15:38:04.983Z"
      },
      {
        "duration": 34,
        "start_time": "2022-12-06T15:38:05.468Z"
      },
      {
        "duration": 417,
        "start_time": "2022-12-06T15:38:05.504Z"
      },
      {
        "duration": 3,
        "start_time": "2022-12-06T15:38:05.922Z"
      },
      {
        "duration": 30,
        "start_time": "2022-12-06T15:38:05.926Z"
      },
      {
        "duration": 6,
        "start_time": "2022-12-06T15:38:05.959Z"
      },
      {
        "duration": 5,
        "start_time": "2022-12-06T15:38:05.966Z"
      },
      {
        "duration": 4064,
        "start_time": "2022-12-06T15:38:05.972Z"
      },
      {
        "duration": 10,
        "start_time": "2022-12-06T15:38:10.038Z"
      },
      {
        "duration": 8,
        "start_time": "2022-12-06T15:38:10.050Z"
      },
      {
        "duration": 7,
        "start_time": "2022-12-06T15:38:10.059Z"
      },
      {
        "duration": 2283,
        "start_time": "2022-12-06T15:38:10.078Z"
      },
      {
        "duration": 39672,
        "start_time": "2022-12-06T15:38:12.363Z"
      },
      {
        "duration": 2052,
        "start_time": "2022-12-06T15:38:52.037Z"
      },
      {
        "duration": 10,
        "start_time": "2022-12-06T15:38:54.090Z"
      },
      {
        "duration": 17,
        "start_time": "2022-12-06T15:38:54.102Z"
      },
      {
        "duration": 7,
        "start_time": "2022-12-06T15:55:18.372Z"
      },
      {
        "duration": 5092,
        "start_time": "2022-12-07T05:37:31.490Z"
      },
      {
        "duration": 4,
        "start_time": "2022-12-07T05:37:36.584Z"
      },
      {
        "duration": 393,
        "start_time": "2022-12-07T05:37:36.590Z"
      },
      {
        "duration": 5,
        "start_time": "2022-12-07T05:37:36.985Z"
      },
      {
        "duration": 75,
        "start_time": "2022-12-07T05:37:36.991Z"
      },
      {
        "duration": 12,
        "start_time": "2022-12-07T05:37:37.068Z"
      },
      {
        "duration": 169,
        "start_time": "2022-12-07T05:37:37.082Z"
      },
      {
        "duration": 77,
        "start_time": "2022-12-07T05:37:37.253Z"
      },
      {
        "duration": 308,
        "start_time": "2022-12-07T05:37:37.332Z"
      },
      {
        "duration": 3,
        "start_time": "2022-12-07T05:37:37.643Z"
      },
      {
        "duration": 143,
        "start_time": "2022-12-07T05:37:37.647Z"
      },
      {
        "duration": 16327,
        "start_time": "2022-12-07T05:37:37.792Z"
      },
      {
        "duration": 845,
        "start_time": "2022-12-07T05:37:54.122Z"
      },
      {
        "duration": 6579,
        "start_time": "2022-12-07T05:37:54.969Z"
      },
      {
        "duration": 11,
        "start_time": "2022-12-07T05:38:01.550Z"
      },
      {
        "duration": 35,
        "start_time": "2022-12-07T05:38:01.563Z"
      },
      {
        "duration": 70,
        "start_time": "2022-12-07T05:38:01.600Z"
      },
      {
        "duration": 791,
        "start_time": "2022-12-07T05:38:01.672Z"
      },
      {
        "duration": 22,
        "start_time": "2022-12-07T05:38:02.465Z"
      },
      {
        "duration": 730,
        "start_time": "2022-12-07T05:38:02.489Z"
      },
      {
        "duration": 306,
        "start_time": "2022-12-07T05:38:03.227Z"
      },
      {
        "duration": 107,
        "start_time": "2022-12-07T05:38:03.535Z"
      },
      {
        "duration": 525,
        "start_time": "2022-12-07T05:38:03.730Z"
      },
      {
        "duration": 33,
        "start_time": "2022-12-07T05:38:04.257Z"
      },
      {
        "duration": 422,
        "start_time": "2022-12-07T05:38:04.294Z"
      },
      {
        "duration": 12,
        "start_time": "2022-12-07T05:38:04.718Z"
      },
      {
        "duration": 28,
        "start_time": "2022-12-07T05:38:04.736Z"
      },
      {
        "duration": 5,
        "start_time": "2022-12-07T05:38:04.767Z"
      },
      {
        "duration": 15,
        "start_time": "2022-12-07T05:38:04.774Z"
      },
      {
        "duration": 4024,
        "start_time": "2022-12-07T05:38:04.790Z"
      },
      {
        "duration": 24,
        "start_time": "2022-12-07T05:38:08.816Z"
      },
      {
        "duration": 20,
        "start_time": "2022-12-07T05:38:08.841Z"
      },
      {
        "duration": 17,
        "start_time": "2022-12-07T05:38:08.862Z"
      },
      {
        "duration": 2316,
        "start_time": "2022-12-07T05:38:08.881Z"
      },
      {
        "duration": 40188,
        "start_time": "2022-12-07T05:38:11.199Z"
      },
      {
        "duration": 2061,
        "start_time": "2022-12-07T05:38:51.389Z"
      },
      {
        "duration": 12,
        "start_time": "2022-12-07T05:38:53.453Z"
      },
      {
        "duration": 17,
        "start_time": "2022-12-07T05:38:53.467Z"
      },
      {
        "duration": 26,
        "start_time": "2022-12-07T05:40:51.343Z"
      },
      {
        "duration": 22,
        "start_time": "2022-12-07T05:40:58.961Z"
      },
      {
        "duration": 333,
        "start_time": "2022-12-07T05:41:01.192Z"
      },
      {
        "duration": 117,
        "start_time": "2022-12-07T05:41:06.467Z"
      },
      {
        "duration": 11,
        "start_time": "2022-12-07T05:41:18.108Z"
      },
      {
        "duration": 18,
        "start_time": "2022-12-07T05:41:32.564Z"
      },
      {
        "duration": 5,
        "start_time": "2022-12-07T05:41:45.812Z"
      },
      {
        "duration": 29,
        "start_time": "2022-12-07T05:41:45.819Z"
      },
      {
        "duration": 414,
        "start_time": "2022-12-07T05:41:45.851Z"
      },
      {
        "duration": 5,
        "start_time": "2022-12-07T05:41:46.268Z"
      },
      {
        "duration": 78,
        "start_time": "2022-12-07T05:41:46.275Z"
      },
      {
        "duration": 10,
        "start_time": "2022-12-07T05:41:46.355Z"
      },
      {
        "duration": 172,
        "start_time": "2022-12-07T05:41:46.367Z"
      },
      {
        "duration": 63,
        "start_time": "2022-12-07T05:41:46.541Z"
      },
      {
        "duration": 422,
        "start_time": "2022-12-07T05:41:46.626Z"
      },
      {
        "duration": 3,
        "start_time": "2022-12-07T05:41:47.051Z"
      },
      {
        "duration": 127,
        "start_time": "2022-12-07T05:41:47.058Z"
      },
      {
        "duration": 16806,
        "start_time": "2022-12-07T05:41:47.187Z"
      },
      {
        "duration": 700,
        "start_time": "2022-12-07T05:42:03.994Z"
      },
      {
        "duration": 6412,
        "start_time": "2022-12-07T05:42:04.695Z"
      },
      {
        "duration": 16,
        "start_time": "2022-12-07T05:42:11.108Z"
      },
      {
        "duration": 15,
        "start_time": "2022-12-07T05:42:11.130Z"
      },
      {
        "duration": 32,
        "start_time": "2022-12-07T05:42:11.147Z"
      },
      {
        "duration": 783,
        "start_time": "2022-12-07T05:42:11.181Z"
      },
      {
        "duration": 25,
        "start_time": "2022-12-07T05:42:11.965Z"
      },
      {
        "duration": 759,
        "start_time": "2022-12-07T05:42:11.991Z"
      },
      {
        "duration": 873,
        "start_time": "2022-12-07T05:42:12.752Z"
      },
      {
        "duration": 15,
        "start_time": "2022-12-07T05:42:24.816Z"
      },
      {
        "duration": 17,
        "start_time": "2022-12-07T05:42:34.786Z"
      },
      {
        "duration": 12,
        "start_time": "2022-12-07T05:42:50.836Z"
      },
      {
        "duration": 4,
        "start_time": "2022-12-07T05:42:58.037Z"
      },
      {
        "duration": 29,
        "start_time": "2022-12-07T05:42:58.044Z"
      },
      {
        "duration": 430,
        "start_time": "2022-12-07T05:42:58.076Z"
      },
      {
        "duration": 5,
        "start_time": "2022-12-07T05:42:58.509Z"
      },
      {
        "duration": 79,
        "start_time": "2022-12-07T05:42:58.531Z"
      },
      {
        "duration": 15,
        "start_time": "2022-12-07T05:42:58.612Z"
      },
      {
        "duration": 159,
        "start_time": "2022-12-07T05:42:58.629Z"
      },
      {
        "duration": 95,
        "start_time": "2022-12-07T05:42:58.790Z"
      },
      {
        "duration": 374,
        "start_time": "2022-12-07T05:42:58.889Z"
      },
      {
        "duration": 4,
        "start_time": "2022-12-07T05:42:59.266Z"
      },
      {
        "duration": 185,
        "start_time": "2022-12-07T05:42:59.272Z"
      },
      {
        "duration": 16915,
        "start_time": "2022-12-07T05:42:59.459Z"
      },
      {
        "duration": 695,
        "start_time": "2022-12-07T05:43:16.376Z"
      },
      {
        "duration": 6388,
        "start_time": "2022-12-07T05:43:17.074Z"
      },
      {
        "duration": 8,
        "start_time": "2022-12-07T05:43:23.463Z"
      },
      {
        "duration": 14,
        "start_time": "2022-12-07T05:43:23.473Z"
      },
      {
        "duration": 47,
        "start_time": "2022-12-07T05:43:23.489Z"
      },
      {
        "duration": 834,
        "start_time": "2022-12-07T05:43:23.537Z"
      },
      {
        "duration": 25,
        "start_time": "2022-12-07T05:43:24.374Z"
      },
      {
        "duration": 771,
        "start_time": "2022-12-07T05:43:24.401Z"
      },
      {
        "duration": 771,
        "start_time": "2022-12-07T05:43:25.174Z"
      },
      {
        "duration": 3,
        "start_time": "2022-12-07T05:43:25.948Z"
      },
      {
        "duration": 3,
        "start_time": "2022-12-07T05:43:32.137Z"
      },
      {
        "duration": 4,
        "start_time": "2022-12-07T05:43:32.838Z"
      },
      {
        "duration": 10,
        "start_time": "2022-12-07T05:43:34.679Z"
      },
      {
        "duration": 13,
        "start_time": "2022-12-07T05:43:55.944Z"
      },
      {
        "duration": 481,
        "start_time": "2022-12-07T05:44:09.856Z"
      },
      {
        "duration": 32,
        "start_time": "2022-12-07T05:44:12.345Z"
      },
      {
        "duration": 23,
        "start_time": "2022-12-07T05:44:23.940Z"
      },
      {
        "duration": 12,
        "start_time": "2022-12-07T05:44:31.160Z"
      },
      {
        "duration": 3,
        "start_time": "2022-12-07T05:44:42.668Z"
      },
      {
        "duration": 6,
        "start_time": "2022-12-07T05:44:43.230Z"
      },
      {
        "duration": 8,
        "start_time": "2022-12-07T05:44:44.832Z"
      },
      {
        "duration": 6,
        "start_time": "2022-12-07T05:45:08.866Z"
      },
      {
        "duration": 21,
        "start_time": "2022-12-07T05:45:13.020Z"
      },
      {
        "duration": 54,
        "start_time": "2022-12-07T05:45:18.859Z"
      },
      {
        "duration": 26,
        "start_time": "2022-12-07T05:45:21.662Z"
      },
      {
        "duration": 10,
        "start_time": "2022-12-07T05:45:25.787Z"
      },
      {
        "duration": 10,
        "start_time": "2022-12-07T05:45:33.416Z"
      },
      {
        "duration": 11,
        "start_time": "2022-12-07T05:45:42.332Z"
      },
      {
        "duration": 8,
        "start_time": "2022-12-07T05:45:45.866Z"
      },
      {
        "duration": 3,
        "start_time": "2022-12-07T05:46:18.503Z"
      },
      {
        "duration": 25,
        "start_time": "2022-12-07T05:46:18.517Z"
      },
      {
        "duration": 387,
        "start_time": "2022-12-07T05:46:18.545Z"
      },
      {
        "duration": 5,
        "start_time": "2022-12-07T05:46:18.934Z"
      },
      {
        "duration": 88,
        "start_time": "2022-12-07T05:46:18.941Z"
      },
      {
        "duration": 12,
        "start_time": "2022-12-07T05:46:19.031Z"
      },
      {
        "duration": 184,
        "start_time": "2022-12-07T05:46:19.046Z"
      },
      {
        "duration": 72,
        "start_time": "2022-12-07T05:46:19.236Z"
      },
      {
        "duration": 331,
        "start_time": "2022-12-07T05:46:19.311Z"
      },
      {
        "duration": 3,
        "start_time": "2022-12-07T05:46:19.644Z"
      },
      {
        "duration": 143,
        "start_time": "2022-12-07T05:46:19.650Z"
      },
      {
        "duration": 16457,
        "start_time": "2022-12-07T05:46:19.796Z"
      },
      {
        "duration": 1723,
        "start_time": "2022-12-07T05:46:36.255Z"
      },
      {
        "duration": 5716,
        "start_time": "2022-12-07T05:46:37.979Z"
      },
      {
        "duration": 11,
        "start_time": "2022-12-07T05:46:43.697Z"
      },
      {
        "duration": 28,
        "start_time": "2022-12-07T05:46:43.711Z"
      },
      {
        "duration": 32,
        "start_time": "2022-12-07T05:46:43.741Z"
      },
      {
        "duration": 841,
        "start_time": "2022-12-07T05:46:43.775Z"
      },
      {
        "duration": 29,
        "start_time": "2022-12-07T05:46:44.623Z"
      },
      {
        "duration": 729,
        "start_time": "2022-12-07T05:46:44.654Z"
      },
      {
        "duration": 551,
        "start_time": "2022-12-07T05:46:45.385Z"
      },
      {
        "duration": 12,
        "start_time": "2022-12-07T05:48:06.036Z"
      },
      {
        "duration": 25,
        "start_time": "2022-12-07T05:48:16.719Z"
      },
      {
        "duration": 4,
        "start_time": "2022-12-07T05:48:36.637Z"
      },
      {
        "duration": 10,
        "start_time": "2022-12-07T05:48:36.643Z"
      },
      {
        "duration": 384,
        "start_time": "2022-12-07T05:48:36.655Z"
      },
      {
        "duration": 6,
        "start_time": "2022-12-07T05:48:37.042Z"
      },
      {
        "duration": 98,
        "start_time": "2022-12-07T05:48:37.050Z"
      },
      {
        "duration": 9,
        "start_time": "2022-12-07T05:48:37.150Z"
      },
      {
        "duration": 156,
        "start_time": "2022-12-07T05:48:37.160Z"
      },
      {
        "duration": 60,
        "start_time": "2022-12-07T05:48:37.317Z"
      },
      {
        "duration": 303,
        "start_time": "2022-12-07T05:48:37.380Z"
      },
      {
        "duration": 3,
        "start_time": "2022-12-07T05:48:37.685Z"
      },
      {
        "duration": 155,
        "start_time": "2022-12-07T05:48:37.690Z"
      },
      {
        "duration": 17259,
        "start_time": "2022-12-07T05:48:37.848Z"
      },
      {
        "duration": 719,
        "start_time": "2022-12-07T05:48:55.109Z"
      },
      {
        "duration": 6548,
        "start_time": "2022-12-07T05:48:55.833Z"
      },
      {
        "duration": 8,
        "start_time": "2022-12-07T05:49:02.383Z"
      },
      {
        "duration": 11,
        "start_time": "2022-12-07T05:49:02.393Z"
      },
      {
        "duration": 38,
        "start_time": "2022-12-07T05:49:02.406Z"
      },
      {
        "duration": 743,
        "start_time": "2022-12-07T05:49:02.446Z"
      },
      {
        "duration": 34,
        "start_time": "2022-12-07T05:49:03.191Z"
      },
      {
        "duration": 735,
        "start_time": "2022-12-07T05:49:03.236Z"
      },
      {
        "duration": 859,
        "start_time": "2022-12-07T05:49:03.973Z"
      },
      {
        "duration": 3,
        "start_time": "2022-12-07T05:49:04.837Z"
      },
      {
        "duration": 116,
        "start_time": "2022-12-07T05:49:04.842Z"
      },
      {
        "duration": 12,
        "start_time": "2022-12-07T05:49:13.637Z"
      },
      {
        "duration": 422,
        "start_time": "2022-12-07T05:49:17.469Z"
      },
      {
        "duration": 32,
        "start_time": "2022-12-07T05:49:18.973Z"
      },
      {
        "duration": 6,
        "start_time": "2022-12-07T05:49:26.439Z"
      },
      {
        "duration": 31,
        "start_time": "2022-12-07T05:49:41.858Z"
      },
      {
        "duration": 98,
        "start_time": "2022-12-07T05:49:43.010Z"
      },
      {
        "duration": 5,
        "start_time": "2022-12-07T05:50:38.503Z"
      },
      {
        "duration": 8,
        "start_time": "2022-12-07T05:50:38.510Z"
      },
      {
        "duration": 374,
        "start_time": "2022-12-07T05:50:38.520Z"
      },
      {
        "duration": 4,
        "start_time": "2022-12-07T05:50:38.897Z"
      },
      {
        "duration": 77,
        "start_time": "2022-12-07T05:50:38.903Z"
      },
      {
        "duration": 10,
        "start_time": "2022-12-07T05:50:38.981Z"
      },
      {
        "duration": 172,
        "start_time": "2022-12-07T05:50:38.993Z"
      },
      {
        "duration": 85,
        "start_time": "2022-12-07T05:50:39.167Z"
      },
      {
        "duration": 335,
        "start_time": "2022-12-07T05:50:39.255Z"
      },
      {
        "duration": 4,
        "start_time": "2022-12-07T05:50:39.592Z"
      },
      {
        "duration": 169,
        "start_time": "2022-12-07T05:50:39.597Z"
      },
      {
        "duration": 18367,
        "start_time": "2022-12-07T05:50:39.767Z"
      },
      {
        "duration": 1833,
        "start_time": "2022-12-07T05:50:58.137Z"
      },
      {
        "duration": 6403,
        "start_time": "2022-12-07T05:50:59.972Z"
      },
      {
        "duration": 8,
        "start_time": "2022-12-07T05:51:06.377Z"
      },
      {
        "duration": 14,
        "start_time": "2022-12-07T05:51:06.387Z"
      },
      {
        "duration": 47,
        "start_time": "2022-12-07T05:51:06.403Z"
      },
      {
        "duration": 760,
        "start_time": "2022-12-07T05:51:06.452Z"
      },
      {
        "duration": 30,
        "start_time": "2022-12-07T05:51:07.214Z"
      },
      {
        "duration": 764,
        "start_time": "2022-12-07T05:51:07.246Z"
      },
      {
        "duration": 425,
        "start_time": "2022-12-07T05:51:08.012Z"
      },
      {
        "duration": 198,
        "start_time": "2022-12-07T05:51:08.443Z"
      },
      {
        "duration": 596,
        "start_time": "2022-12-07T05:51:08.643Z"
      },
      {
        "duration": 29,
        "start_time": "2022-12-07T05:51:09.242Z"
      },
      {
        "duration": 411,
        "start_time": "2022-12-07T05:51:09.272Z"
      },
      {
        "duration": 3,
        "start_time": "2022-12-07T05:51:09.684Z"
      },
      {
        "duration": 14,
        "start_time": "2022-12-07T05:51:09.689Z"
      },
      {
        "duration": 9,
        "start_time": "2022-12-07T05:51:09.705Z"
      },
      {
        "duration": 1809,
        "start_time": "2022-12-07T14:09:58.257Z"
      },
      {
        "duration": 3,
        "start_time": "2022-12-07T14:10:00.068Z"
      },
      {
        "duration": 2076,
        "start_time": "2022-12-07T14:10:00.073Z"
      },
      {
        "duration": 5,
        "start_time": "2022-12-07T14:10:02.151Z"
      },
      {
        "duration": 106,
        "start_time": "2022-12-07T14:10:02.158Z"
      },
      {
        "duration": 12,
        "start_time": "2022-12-07T14:10:02.266Z"
      },
      {
        "duration": 180,
        "start_time": "2022-12-07T14:10:02.280Z"
      },
      {
        "duration": 81,
        "start_time": "2022-12-07T14:10:02.463Z"
      },
      {
        "duration": 314,
        "start_time": "2022-12-07T14:10:02.546Z"
      },
      {
        "duration": 3,
        "start_time": "2022-12-07T14:10:02.863Z"
      },
      {
        "duration": 154,
        "start_time": "2022-12-07T14:10:02.867Z"
      },
      {
        "duration": 17804,
        "start_time": "2022-12-07T14:10:03.031Z"
      },
      {
        "duration": 713,
        "start_time": "2022-12-07T14:10:20.837Z"
      },
      {
        "duration": 6796,
        "start_time": "2022-12-07T14:10:21.552Z"
      },
      {
        "duration": 10,
        "start_time": "2022-12-07T14:10:28.350Z"
      },
      {
        "duration": 14,
        "start_time": "2022-12-07T14:10:28.362Z"
      },
      {
        "duration": 45,
        "start_time": "2022-12-07T14:10:28.378Z"
      },
      {
        "duration": 879,
        "start_time": "2022-12-07T14:10:28.424Z"
      },
      {
        "duration": 30,
        "start_time": "2022-12-07T14:10:29.305Z"
      },
      {
        "duration": 913,
        "start_time": "2022-12-07T14:10:29.337Z"
      },
      {
        "duration": 657,
        "start_time": "2022-12-07T14:10:30.255Z"
      },
      {
        "duration": 26,
        "start_time": "2022-12-07T14:10:30.932Z"
      },
      {
        "duration": 666,
        "start_time": "2022-12-07T14:10:30.962Z"
      },
      {
        "duration": 51,
        "start_time": "2022-12-07T14:10:31.630Z"
      },
      {
        "duration": 470,
        "start_time": "2022-12-07T14:10:31.683Z"
      },
      {
        "duration": 3,
        "start_time": "2022-12-07T14:10:32.155Z"
      },
      {
        "duration": 34,
        "start_time": "2022-12-07T14:10:32.159Z"
      },
      {
        "duration": 55,
        "start_time": "2022-12-07T14:10:32.196Z"
      },
      {
        "duration": 12,
        "start_time": "2022-12-07T14:10:32.252Z"
      },
      {
        "duration": 4614,
        "start_time": "2022-12-07T14:10:32.266Z"
      },
      {
        "duration": 12,
        "start_time": "2022-12-07T14:10:36.881Z"
      },
      {
        "duration": 8,
        "start_time": "2022-12-07T14:10:36.895Z"
      },
      {
        "duration": 30,
        "start_time": "2022-12-07T14:10:36.919Z"
      },
      {
        "duration": 2508,
        "start_time": "2022-12-07T14:10:36.953Z"
      },
      {
        "duration": 44139,
        "start_time": "2022-12-07T14:10:39.463Z"
      },
      {
        "duration": 2041,
        "start_time": "2022-12-07T14:11:23.604Z"
      },
      {
        "duration": 10,
        "start_time": "2022-12-07T14:11:25.648Z"
      },
      {
        "duration": 18,
        "start_time": "2022-12-07T14:11:25.660Z"
      },
      {
        "duration": 540,
        "start_time": "2022-12-07T14:14:21.930Z"
      },
      {
        "duration": 1981,
        "start_time": "2022-12-07T14:25:46.284Z"
      },
      {
        "duration": 4,
        "start_time": "2022-12-07T14:25:48.268Z"
      },
      {
        "duration": 492,
        "start_time": "2022-12-07T14:25:48.274Z"
      },
      {
        "duration": 5,
        "start_time": "2022-12-07T14:25:48.769Z"
      },
      {
        "duration": 91,
        "start_time": "2022-12-07T14:25:48.776Z"
      },
      {
        "duration": 16,
        "start_time": "2022-12-07T14:25:48.869Z"
      },
      {
        "duration": 196,
        "start_time": "2022-12-07T14:25:48.887Z"
      },
      {
        "duration": 89,
        "start_time": "2022-12-07T14:25:49.085Z"
      },
      {
        "duration": 467,
        "start_time": "2022-12-07T14:25:49.177Z"
      },
      {
        "duration": 6,
        "start_time": "2022-12-07T14:25:49.649Z"
      },
      {
        "duration": 212,
        "start_time": "2022-12-07T14:25:49.657Z"
      },
      {
        "duration": 19474,
        "start_time": "2022-12-07T14:25:49.872Z"
      },
      {
        "duration": 790,
        "start_time": "2022-12-07T14:26:09.348Z"
      },
      {
        "duration": 7322,
        "start_time": "2022-12-07T14:26:10.140Z"
      },
      {
        "duration": 12,
        "start_time": "2022-12-07T14:26:17.465Z"
      },
      {
        "duration": 20,
        "start_time": "2022-12-07T14:26:17.478Z"
      },
      {
        "duration": 285,
        "start_time": "2022-12-07T14:26:17.500Z"
      },
      {
        "duration": 994,
        "start_time": "2022-12-07T14:26:17.787Z"
      },
      {
        "duration": 36,
        "start_time": "2022-12-07T14:26:18.783Z"
      },
      {
        "duration": 1240,
        "start_time": "2022-12-07T14:26:18.821Z"
      },
      {
        "duration": 493,
        "start_time": "2022-12-07T14:26:20.063Z"
      },
      {
        "duration": 150,
        "start_time": "2022-12-07T14:26:20.613Z"
      },
      {
        "duration": 684,
        "start_time": "2022-12-07T14:26:20.772Z"
      },
      {
        "duration": 36,
        "start_time": "2022-12-07T14:26:21.461Z"
      },
      {
        "duration": 4,
        "start_time": "2022-12-07T14:26:21.499Z"
      },
      {
        "duration": 51,
        "start_time": "2022-12-07T14:26:21.505Z"
      },
      {
        "duration": 8,
        "start_time": "2022-12-07T14:26:21.559Z"
      },
      {
        "duration": 6,
        "start_time": "2022-12-07T14:26:21.571Z"
      },
      {
        "duration": 4592,
        "start_time": "2022-12-07T14:26:21.579Z"
      },
      {
        "duration": 13,
        "start_time": "2022-12-07T14:26:26.173Z"
      },
      {
        "duration": 29,
        "start_time": "2022-12-07T14:26:26.188Z"
      },
      {
        "duration": 56,
        "start_time": "2022-12-07T14:26:26.219Z"
      },
      {
        "duration": 2778,
        "start_time": "2022-12-07T14:26:26.278Z"
      },
      {
        "duration": 47408,
        "start_time": "2022-12-07T14:26:29.062Z"
      },
      {
        "duration": 2295,
        "start_time": "2022-12-07T14:27:16.472Z"
      },
      {
        "duration": 10,
        "start_time": "2022-12-07T14:27:18.771Z"
      },
      {
        "duration": 22,
        "start_time": "2022-12-07T14:27:18.783Z"
      },
      {
        "duration": 444,
        "start_time": "2022-12-07T14:30:20.209Z"
      },
      {
        "duration": 287,
        "start_time": "2022-12-07T14:30:53.957Z"
      },
      {
        "duration": 1477,
        "start_time": "2022-12-07T14:31:17.009Z"
      },
      {
        "duration": 3,
        "start_time": "2022-12-07T14:31:18.488Z"
      },
      {
        "duration": 393,
        "start_time": "2022-12-07T14:31:18.493Z"
      },
      {
        "duration": 5,
        "start_time": "2022-12-07T14:31:18.888Z"
      },
      {
        "duration": 81,
        "start_time": "2022-12-07T14:31:18.895Z"
      },
      {
        "duration": 37,
        "start_time": "2022-12-07T14:31:18.978Z"
      },
      {
        "duration": 158,
        "start_time": "2022-12-07T14:31:19.019Z"
      },
      {
        "duration": 97,
        "start_time": "2022-12-07T14:31:19.179Z"
      },
      {
        "duration": 315,
        "start_time": "2022-12-07T14:31:19.278Z"
      },
      {
        "duration": 3,
        "start_time": "2022-12-07T14:31:19.595Z"
      },
      {
        "duration": 160,
        "start_time": "2022-12-07T14:31:19.613Z"
      },
      {
        "duration": 16667,
        "start_time": "2022-12-07T14:31:19.774Z"
      },
      {
        "duration": 712,
        "start_time": "2022-12-07T14:31:36.443Z"
      },
      {
        "duration": 6323,
        "start_time": "2022-12-07T14:31:37.157Z"
      },
      {
        "duration": 11,
        "start_time": "2022-12-07T14:31:43.482Z"
      },
      {
        "duration": 82,
        "start_time": "2022-12-07T14:31:43.495Z"
      },
      {
        "duration": 63,
        "start_time": "2022-12-07T14:31:43.578Z"
      },
      {
        "duration": 794,
        "start_time": "2022-12-07T14:31:43.643Z"
      },
      {
        "duration": 23,
        "start_time": "2022-12-07T14:31:44.440Z"
      },
      {
        "duration": 820,
        "start_time": "2022-12-07T14:31:44.464Z"
      },
      {
        "duration": 262,
        "start_time": "2022-12-07T14:31:45.286Z"
      },
      {
        "duration": 101,
        "start_time": "2022-12-07T14:31:45.616Z"
      },
      {
        "duration": 506,
        "start_time": "2022-12-07T14:31:45.727Z"
      },
      {
        "duration": 28,
        "start_time": "2022-12-07T14:31:46.235Z"
      },
      {
        "duration": 3,
        "start_time": "2022-12-07T14:31:46.265Z"
      },
      {
        "duration": 6,
        "start_time": "2022-12-07T14:31:46.269Z"
      },
      {
        "duration": 6,
        "start_time": "2022-12-07T14:31:46.277Z"
      },
      {
        "duration": 4,
        "start_time": "2022-12-07T14:31:46.286Z"
      },
      {
        "duration": 4287,
        "start_time": "2022-12-07T14:31:46.313Z"
      },
      {
        "duration": 24,
        "start_time": "2022-12-07T14:31:50.602Z"
      },
      {
        "duration": 10,
        "start_time": "2022-12-07T14:31:50.633Z"
      },
      {
        "duration": 6,
        "start_time": "2022-12-07T14:31:50.645Z"
      },
      {
        "duration": 2194,
        "start_time": "2022-12-07T14:31:50.653Z"
      },
      {
        "duration": 41356,
        "start_time": "2022-12-07T14:31:52.849Z"
      },
      {
        "duration": 1997,
        "start_time": "2022-12-07T14:32:34.207Z"
      },
      {
        "duration": 13,
        "start_time": "2022-12-07T14:32:36.206Z"
      },
      {
        "duration": 57,
        "start_time": "2022-12-07T14:32:36.221Z"
      },
      {
        "duration": 1388,
        "start_time": "2022-12-07T14:33:24.146Z"
      },
      {
        "duration": 3,
        "start_time": "2022-12-07T14:33:25.537Z"
      },
      {
        "duration": 362,
        "start_time": "2022-12-07T14:33:25.541Z"
      },
      {
        "duration": 4,
        "start_time": "2022-12-07T14:33:25.905Z"
      },
      {
        "duration": 78,
        "start_time": "2022-12-07T14:33:25.912Z"
      },
      {
        "duration": 27,
        "start_time": "2022-12-07T14:33:25.991Z"
      },
      {
        "duration": 139,
        "start_time": "2022-12-07T14:33:26.029Z"
      },
      {
        "duration": 73,
        "start_time": "2022-12-07T14:33:26.170Z"
      },
      {
        "duration": 279,
        "start_time": "2022-12-07T14:33:26.245Z"
      },
      {
        "duration": 3,
        "start_time": "2022-12-07T14:33:26.527Z"
      },
      {
        "duration": 149,
        "start_time": "2022-12-07T14:33:26.532Z"
      },
      {
        "duration": 15993,
        "start_time": "2022-12-07T14:33:26.682Z"
      },
      {
        "duration": 661,
        "start_time": "2022-12-07T14:33:42.690Z"
      },
      {
        "duration": 6426,
        "start_time": "2022-12-07T14:33:43.353Z"
      },
      {
        "duration": 11,
        "start_time": "2022-12-07T14:33:49.781Z"
      },
      {
        "duration": 31,
        "start_time": "2022-12-07T14:33:49.793Z"
      },
      {
        "duration": 36,
        "start_time": "2022-12-07T14:33:49.826Z"
      },
      {
        "duration": 845,
        "start_time": "2022-12-07T14:33:49.863Z"
      },
      {
        "duration": 31,
        "start_time": "2022-12-07T14:33:50.710Z"
      },
      {
        "duration": 702,
        "start_time": "2022-12-07T14:33:50.743Z"
      },
      {
        "duration": 285,
        "start_time": "2022-12-07T14:33:51.447Z"
      },
      {
        "duration": 15,
        "start_time": "2022-12-07T14:33:51.812Z"
      },
      {
        "duration": 566,
        "start_time": "2022-12-07T14:33:51.833Z"
      },
      {
        "duration": 40,
        "start_time": "2022-12-07T14:33:52.400Z"
      },
      {
        "duration": 15,
        "start_time": "2022-12-07T14:33:52.442Z"
      },
      {
        "duration": 35,
        "start_time": "2022-12-07T14:33:52.459Z"
      },
      {
        "duration": 16,
        "start_time": "2022-12-07T14:33:52.495Z"
      },
      {
        "duration": 35,
        "start_time": "2022-12-07T14:33:52.515Z"
      },
      {
        "duration": 3956,
        "start_time": "2022-12-07T14:33:52.552Z"
      },
      {
        "duration": 18,
        "start_time": "2022-12-07T14:33:56.510Z"
      },
      {
        "duration": 10,
        "start_time": "2022-12-07T14:33:56.529Z"
      },
      {
        "duration": 4,
        "start_time": "2022-12-07T14:33:56.541Z"
      },
      {
        "duration": 2147,
        "start_time": "2022-12-07T14:33:56.546Z"
      },
      {
        "duration": 41425,
        "start_time": "2022-12-07T14:33:58.695Z"
      },
      {
        "duration": 2076,
        "start_time": "2022-12-07T14:34:40.131Z"
      },
      {
        "duration": 26,
        "start_time": "2022-12-07T14:34:42.209Z"
      },
      {
        "duration": 33,
        "start_time": "2022-12-07T14:34:42.239Z"
      },
      {
        "duration": 464,
        "start_time": "2022-12-07T14:36:45.027Z"
      },
      {
        "duration": 27,
        "start_time": "2022-12-07T14:36:54.938Z"
      },
      {
        "duration": 1443,
        "start_time": "2022-12-07T14:37:24.296Z"
      },
      {
        "duration": 4,
        "start_time": "2022-12-07T14:37:25.741Z"
      },
      {
        "duration": 397,
        "start_time": "2022-12-07T14:37:25.746Z"
      },
      {
        "duration": 4,
        "start_time": "2022-12-07T14:37:26.145Z"
      },
      {
        "duration": 77,
        "start_time": "2022-12-07T14:37:26.151Z"
      },
      {
        "duration": 13,
        "start_time": "2022-12-07T14:37:26.230Z"
      },
      {
        "duration": 150,
        "start_time": "2022-12-07T14:37:26.244Z"
      },
      {
        "duration": 74,
        "start_time": "2022-12-07T14:37:26.395Z"
      },
      {
        "duration": 289,
        "start_time": "2022-12-07T14:37:26.471Z"
      },
      {
        "duration": 3,
        "start_time": "2022-12-07T14:37:26.762Z"
      },
      {
        "duration": 159,
        "start_time": "2022-12-07T14:37:26.766Z"
      },
      {
        "duration": 16195,
        "start_time": "2022-12-07T14:37:26.931Z"
      },
      {
        "duration": 652,
        "start_time": "2022-12-07T14:37:43.128Z"
      },
      {
        "duration": 6319,
        "start_time": "2022-12-07T14:37:43.781Z"
      },
      {
        "duration": 24,
        "start_time": "2022-12-07T14:37:50.102Z"
      },
      {
        "duration": 13,
        "start_time": "2022-12-07T14:37:50.128Z"
      },
      {
        "duration": 28,
        "start_time": "2022-12-07T14:37:50.143Z"
      },
      {
        "duration": 758,
        "start_time": "2022-12-07T14:37:50.173Z"
      },
      {
        "duration": 24,
        "start_time": "2022-12-07T14:37:50.933Z"
      },
      {
        "duration": 707,
        "start_time": "2022-12-07T14:37:50.958Z"
      },
      {
        "duration": 359,
        "start_time": "2022-12-07T14:37:51.668Z"
      },
      {
        "duration": 493,
        "start_time": "2022-12-07T14:37:52.031Z"
      },
      {
        "duration": 27,
        "start_time": "2022-12-07T14:37:52.526Z"
      },
      {
        "duration": 3,
        "start_time": "2022-12-07T14:37:52.554Z"
      },
      {
        "duration": 6,
        "start_time": "2022-12-07T14:37:52.559Z"
      },
      {
        "duration": 6,
        "start_time": "2022-12-07T14:37:52.566Z"
      },
      {
        "duration": 4,
        "start_time": "2022-12-07T14:37:52.573Z"
      },
      {
        "duration": 3987,
        "start_time": "2022-12-07T14:37:52.580Z"
      },
      {
        "duration": 13,
        "start_time": "2022-12-07T14:37:56.569Z"
      },
      {
        "duration": 7,
        "start_time": "2022-12-07T14:37:56.583Z"
      },
      {
        "duration": 5,
        "start_time": "2022-12-07T14:37:56.592Z"
      },
      {
        "duration": 2206,
        "start_time": "2022-12-07T14:37:56.598Z"
      },
      {
        "duration": 40128,
        "start_time": "2022-12-07T14:37:58.806Z"
      },
      {
        "duration": 1938,
        "start_time": "2022-12-07T14:38:38.936Z"
      },
      {
        "duration": 9,
        "start_time": "2022-12-07T14:38:40.876Z"
      },
      {
        "duration": 31,
        "start_time": "2022-12-07T14:38:40.887Z"
      },
      {
        "duration": 31,
        "start_time": "2022-12-07T14:39:46.094Z"
      }
    ],
    "kernelspec": {
      "display_name": "Python 3 (ipykernel)",
      "language": "python",
      "name": "python3"
    },
    "language_info": {
      "codemirror_mode": {
        "name": "ipython",
        "version": 3
      },
      "file_extension": ".py",
      "mimetype": "text/x-python",
      "name": "python",
      "nbconvert_exporter": "python",
      "pygments_lexer": "ipython3",
      "version": "3.9.5"
    },
    "toc": {
      "base_numbering": 1,
      "nav_menu": {},
      "number_sections": true,
      "sideBar": true,
      "skip_h1_title": true,
      "title_cell": "Table of Contents",
      "title_sidebar": "Contents",
      "toc_cell": false,
      "toc_position": {},
      "toc_section_display": true,
      "toc_window_display": false
    },
    "colab": {
      "provenance": []
    }
  },
  "nbformat": 4,
  "nbformat_minor": 0
}