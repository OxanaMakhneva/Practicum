{
  "cells": [
    {
      "cell_type": "code",
      "source": [
        "from google.colab import drive\n",
        "drive.mount('/content/drive')"
      ],
      "metadata": {
        "colab": {
          "base_uri": "https://localhost:8080/"
        },
        "id": "2RpWHpy0iVOS",
        "outputId": "153a8a67-68f5-42be-b419-2f4f56a3f3d6"
      },
      "execution_count": 3,
      "outputs": [
        {
          "output_type": "stream",
          "name": "stdout",
          "text": [
            "Drive already mounted at /content/drive; to attempt to forcibly remount, call drive.mount(\"/content/drive\", force_remount=True).\n"
          ]
        }
      ]
    },
    {
      "cell_type": "markdown",
      "metadata": {
        "id": "hkpg_p04hbMG"
      },
      "source": [
        "# Проект \"ВИКИ-шоп\""
      ]
    },
    {
      "cell_type": "markdown",
      "metadata": {
        "id": "7RNOXBrOh0fR"
      },
      "source": [
        "## Описание проекта\n",
        "Для интернет-магазина «Викишоп» необходим инструмент, позволяющий определять \"токсичные\" комментарии среди отредактированных пользователями комментариев товаров.\n",
        "\n",
        "### Цель\n",
        "Построить модель классификации комментариев пользователей на \"токсичные\" и \"позитивные\".\n",
        "\n",
        "### Задачи\n",
        "1. Обработать предоставленную выборку\n",
        "2. Подготоить незаисимые признаки для моделей классификации \n",
        "3. Построить модели классификации тектовой информации\n",
        "4. Добиться значения метрики качества F1 не меньше 0.75.\n",
        "\n",
        "### Описание данных\n",
        "1. Данные лежат в файле `toxic_comments.csv`. \n",
        "2. Целевая переменная находится в столбце `toxic`.\n",
        "\n",
        "###  Этапы проекта:\n",
        "- Исследование данных:\n",
        "    - загрузка данных\n",
        "    - оценка данных (типы переменных, типы категорий (номинативная, количественная))\n",
        "- Предъобработка данных:\n",
        "    - проверка и переименование названий столбцов\n",
        "    - обработка текстов\n",
        "    - проверка насбалансированность целевой переменной \n",
        "- Исследование данных на предмет применимости для машинного обучения\n",
        "    - изучение признаков и целевой переменной\n",
        "    - проверка на сбалансированность целевой переменной\n",
        "    - расчет дополнительных признаков (через BERT модель, TF-IDF - матриц)\n",
        "- Машинное обучение с учителем\n",
        "    - подготовка функции, реализующей выбор лучших гиперпараметров с использованием метода GridSearch и кроссвалидации, минимизирующей риски переобучения моделей\n",
        "    - разделение обработанного ДФ на обучающую и тестовую повыборки \n",
        "    - подбор гиперпараметров с помощью метода кроссвалидации\n",
        "    - проверка моделей на тестовой выборке\n",
        "    - выбор лучщей модели с учетом критериев заказчика\n",
        "\n"
      ]
    },
    {
      "cell_type": "markdown",
      "metadata": {
        "id": "p8LlFaCSjgrg"
      },
      "source": [
        "# Подготовительный этап"
      ]
    },
    {
      "cell_type": "markdown",
      "metadata": {
        "id": "fcm1d0CPjqsO"
      },
      "source": [
        "### Загрузка библиотек"
      ]
    },
    {
      "cell_type": "code",
      "execution_count": 4,
      "metadata": {
        "colab": {
          "base_uri": "https://localhost:8080/"
        },
        "id": "Ee74VhFx3sI-",
        "outputId": "2be6f7f6-0293-445d-8479-80b5f0a74651"
      },
      "outputs": [
        {
          "output_type": "stream",
          "name": "stdout",
          "text": [
            "Looking in indexes: https://pypi.org/simple, https://us-python.pkg.dev/colab-wheels/public/simple/\n",
            "Collecting transformers\n",
            "  Downloading transformers-4.29.1-py3-none-any.whl (7.1 MB)\n",
            "\u001b[2K     \u001b[90m━━━━━━━━━━━━━━━━━━━━━━━━━━━━━━━━━━━━━━━━\u001b[0m \u001b[32m7.1/7.1 MB\u001b[0m \u001b[31m27.9 MB/s\u001b[0m eta \u001b[36m0:00:00\u001b[0m\n",
            "\u001b[?25hRequirement already satisfied: filelock in /usr/local/lib/python3.10/dist-packages (from transformers) (3.12.0)\n",
            "Collecting huggingface-hub<1.0,>=0.14.1 (from transformers)\n",
            "  Downloading huggingface_hub-0.14.1-py3-none-any.whl (224 kB)\n",
            "\u001b[2K     \u001b[90m━━━━━━━━━━━━━━━━━━━━━━━━━━━━━━━━━━━━━━\u001b[0m \u001b[32m224.5/224.5 kB\u001b[0m \u001b[31m23.2 MB/s\u001b[0m eta \u001b[36m0:00:00\u001b[0m\n",
            "\u001b[?25hRequirement already satisfied: numpy>=1.17 in /usr/local/lib/python3.10/dist-packages (from transformers) (1.22.4)\n",
            "Requirement already satisfied: packaging>=20.0 in /usr/local/lib/python3.10/dist-packages (from transformers) (23.1)\n",
            "Requirement already satisfied: pyyaml>=5.1 in /usr/local/lib/python3.10/dist-packages (from transformers) (6.0)\n",
            "Requirement already satisfied: regex!=2019.12.17 in /usr/local/lib/python3.10/dist-packages (from transformers) (2022.10.31)\n",
            "Requirement already satisfied: requests in /usr/local/lib/python3.10/dist-packages (from transformers) (2.27.1)\n",
            "Collecting tokenizers!=0.11.3,<0.14,>=0.11.1 (from transformers)\n",
            "  Downloading tokenizers-0.13.3-cp310-cp310-manylinux_2_17_x86_64.manylinux2014_x86_64.whl (7.8 MB)\n",
            "\u001b[2K     \u001b[90m━━━━━━━━━━━━━━━━━━━━━━━━━━━━━━━━━━━━━━━━\u001b[0m \u001b[32m7.8/7.8 MB\u001b[0m \u001b[31m67.6 MB/s\u001b[0m eta \u001b[36m0:00:00\u001b[0m\n",
            "\u001b[?25hRequirement already satisfied: tqdm>=4.27 in /usr/local/lib/python3.10/dist-packages (from transformers) (4.65.0)\n",
            "Requirement already satisfied: fsspec in /usr/local/lib/python3.10/dist-packages (from huggingface-hub<1.0,>=0.14.1->transformers) (2023.4.0)\n",
            "Requirement already satisfied: typing-extensions>=3.7.4.3 in /usr/local/lib/python3.10/dist-packages (from huggingface-hub<1.0,>=0.14.1->transformers) (4.5.0)\n",
            "Requirement already satisfied: urllib3<1.27,>=1.21.1 in /usr/local/lib/python3.10/dist-packages (from requests->transformers) (1.26.15)\n",
            "Requirement already satisfied: certifi>=2017.4.17 in /usr/local/lib/python3.10/dist-packages (from requests->transformers) (2022.12.7)\n",
            "Requirement already satisfied: charset-normalizer~=2.0.0 in /usr/local/lib/python3.10/dist-packages (from requests->transformers) (2.0.12)\n",
            "Requirement already satisfied: idna<4,>=2.5 in /usr/local/lib/python3.10/dist-packages (from requests->transformers) (3.4)\n",
            "Installing collected packages: tokenizers, huggingface-hub, transformers\n",
            "Successfully installed huggingface-hub-0.14.1 tokenizers-0.13.3 transformers-4.29.1\n",
            "Looking in indexes: https://pypi.org/simple, https://us-python.pkg.dev/colab-wheels/public/simple/\n",
            "Requirement already satisfied: spacy in /usr/local/lib/python3.10/dist-packages (3.5.2)\n",
            "Requirement already satisfied: spacy-legacy<3.1.0,>=3.0.11 in /usr/local/lib/python3.10/dist-packages (from spacy) (3.0.12)\n",
            "Requirement already satisfied: spacy-loggers<2.0.0,>=1.0.0 in /usr/local/lib/python3.10/dist-packages (from spacy) (1.0.4)\n",
            "Requirement already satisfied: murmurhash<1.1.0,>=0.28.0 in /usr/local/lib/python3.10/dist-packages (from spacy) (1.0.9)\n",
            "Requirement already satisfied: cymem<2.1.0,>=2.0.2 in /usr/local/lib/python3.10/dist-packages (from spacy) (2.0.7)\n",
            "Requirement already satisfied: preshed<3.1.0,>=3.0.2 in /usr/local/lib/python3.10/dist-packages (from spacy) (3.0.8)\n",
            "Requirement already satisfied: thinc<8.2.0,>=8.1.8 in /usr/local/lib/python3.10/dist-packages (from spacy) (8.1.9)\n",
            "Requirement already satisfied: wasabi<1.2.0,>=0.9.1 in /usr/local/lib/python3.10/dist-packages (from spacy) (1.1.1)\n",
            "Requirement already satisfied: srsly<3.0.0,>=2.4.3 in /usr/local/lib/python3.10/dist-packages (from spacy) (2.4.6)\n",
            "Requirement already satisfied: catalogue<2.1.0,>=2.0.6 in /usr/local/lib/python3.10/dist-packages (from spacy) (2.0.8)\n",
            "Requirement already satisfied: typer<0.8.0,>=0.3.0 in /usr/local/lib/python3.10/dist-packages (from spacy) (0.7.0)\n",
            "Requirement already satisfied: pathy>=0.10.0 in /usr/local/lib/python3.10/dist-packages (from spacy) (0.10.1)\n",
            "Requirement already satisfied: smart-open<7.0.0,>=5.2.1 in /usr/local/lib/python3.10/dist-packages (from spacy) (6.3.0)\n",
            "Requirement already satisfied: tqdm<5.0.0,>=4.38.0 in /usr/local/lib/python3.10/dist-packages (from spacy) (4.65.0)\n",
            "Requirement already satisfied: numpy>=1.15.0 in /usr/local/lib/python3.10/dist-packages (from spacy) (1.22.4)\n",
            "Requirement already satisfied: requests<3.0.0,>=2.13.0 in /usr/local/lib/python3.10/dist-packages (from spacy) (2.27.1)\n",
            "Requirement already satisfied: pydantic!=1.8,!=1.8.1,<1.11.0,>=1.7.4 in /usr/local/lib/python3.10/dist-packages (from spacy) (1.10.7)\n",
            "Requirement already satisfied: jinja2 in /usr/local/lib/python3.10/dist-packages (from spacy) (3.1.2)\n",
            "Requirement already satisfied: setuptools in /usr/local/lib/python3.10/dist-packages (from spacy) (67.7.2)\n",
            "Requirement already satisfied: packaging>=20.0 in /usr/local/lib/python3.10/dist-packages (from spacy) (23.1)\n",
            "Requirement already satisfied: langcodes<4.0.0,>=3.2.0 in /usr/local/lib/python3.10/dist-packages (from spacy) (3.3.0)\n",
            "Requirement already satisfied: typing-extensions>=4.2.0 in /usr/local/lib/python3.10/dist-packages (from pydantic!=1.8,!=1.8.1,<1.11.0,>=1.7.4->spacy) (4.5.0)\n",
            "Requirement already satisfied: urllib3<1.27,>=1.21.1 in /usr/local/lib/python3.10/dist-packages (from requests<3.0.0,>=2.13.0->spacy) (1.26.15)\n",
            "Requirement already satisfied: certifi>=2017.4.17 in /usr/local/lib/python3.10/dist-packages (from requests<3.0.0,>=2.13.0->spacy) (2022.12.7)\n",
            "Requirement already satisfied: charset-normalizer~=2.0.0 in /usr/local/lib/python3.10/dist-packages (from requests<3.0.0,>=2.13.0->spacy) (2.0.12)\n",
            "Requirement already satisfied: idna<4,>=2.5 in /usr/local/lib/python3.10/dist-packages (from requests<3.0.0,>=2.13.0->spacy) (3.4)\n",
            "Requirement already satisfied: blis<0.8.0,>=0.7.8 in /usr/local/lib/python3.10/dist-packages (from thinc<8.2.0,>=8.1.8->spacy) (0.7.9)\n",
            "Requirement already satisfied: confection<1.0.0,>=0.0.1 in /usr/local/lib/python3.10/dist-packages (from thinc<8.2.0,>=8.1.8->spacy) (0.0.4)\n",
            "Requirement already satisfied: click<9.0.0,>=7.1.1 in /usr/local/lib/python3.10/dist-packages (from typer<0.8.0,>=0.3.0->spacy) (8.1.3)\n",
            "Requirement already satisfied: MarkupSafe>=2.0 in /usr/local/lib/python3.10/dist-packages (from jinja2->spacy) (2.1.2)\n",
            "Looking in indexes: https://pypi.org/simple, https://us-python.pkg.dev/colab-wheels/public/simple/\n",
            "Requirement already satisfied: lightgbm in /usr/local/lib/python3.10/dist-packages (3.3.5)\n",
            "Requirement already satisfied: wheel in /usr/local/lib/python3.10/dist-packages (from lightgbm) (0.40.0)\n",
            "Requirement already satisfied: numpy in /usr/local/lib/python3.10/dist-packages (from lightgbm) (1.22.4)\n",
            "Requirement already satisfied: scipy in /usr/local/lib/python3.10/dist-packages (from lightgbm) (1.10.1)\n",
            "Requirement already satisfied: scikit-learn!=0.22.0 in /usr/local/lib/python3.10/dist-packages (from lightgbm) (1.2.2)\n",
            "Requirement already satisfied: joblib>=1.1.1 in /usr/local/lib/python3.10/dist-packages (from scikit-learn!=0.22.0->lightgbm) (1.2.0)\n",
            "Requirement already satisfied: threadpoolctl>=2.0.0 in /usr/local/lib/python3.10/dist-packages (from scikit-learn!=0.22.0->lightgbm) (3.1.0)\n",
            "Looking in indexes: https://pypi.org/simple, https://us-python.pkg.dev/colab-wheels/public/simple/\n",
            "Requirement already satisfied: wordcloud in /usr/local/lib/python3.10/dist-packages (1.8.2.2)\n",
            "Requirement already satisfied: numpy>=1.6.1 in /usr/local/lib/python3.10/dist-packages (from wordcloud) (1.22.4)\n",
            "Requirement already satisfied: pillow in /usr/local/lib/python3.10/dist-packages (from wordcloud) (8.4.0)\n",
            "Requirement already satisfied: matplotlib in /usr/local/lib/python3.10/dist-packages (from wordcloud) (3.7.1)\n",
            "Requirement already satisfied: contourpy>=1.0.1 in /usr/local/lib/python3.10/dist-packages (from matplotlib->wordcloud) (1.0.7)\n",
            "Requirement already satisfied: cycler>=0.10 in /usr/local/lib/python3.10/dist-packages (from matplotlib->wordcloud) (0.11.0)\n",
            "Requirement already satisfied: fonttools>=4.22.0 in /usr/local/lib/python3.10/dist-packages (from matplotlib->wordcloud) (4.39.3)\n",
            "Requirement already satisfied: kiwisolver>=1.0.1 in /usr/local/lib/python3.10/dist-packages (from matplotlib->wordcloud) (1.4.4)\n",
            "Requirement already satisfied: packaging>=20.0 in /usr/local/lib/python3.10/dist-packages (from matplotlib->wordcloud) (23.1)\n",
            "Requirement already satisfied: pyparsing>=2.3.1 in /usr/local/lib/python3.10/dist-packages (from matplotlib->wordcloud) (3.0.9)\n",
            "Requirement already satisfied: python-dateutil>=2.7 in /usr/local/lib/python3.10/dist-packages (from matplotlib->wordcloud) (2.8.2)\n",
            "Requirement already satisfied: six>=1.5 in /usr/local/lib/python3.10/dist-packages (from python-dateutil>=2.7->matplotlib->wordcloud) (1.16.0)\n"
          ]
        }
      ],
      "source": [
        "! pip install transformers\n",
        "#! pip install cuda-python\n",
        "! pip install spacy\n",
        "! pip install lightgbm\n",
        "! pip install wordcloud"
      ]
    },
    {
      "cell_type": "code",
      "execution_count": 5,
      "metadata": {
        "id": "_WmUkMp2jwkn"
      },
      "outputs": [],
      "source": [
        "#base tools\n",
        "import re\n",
        "import time\n",
        "import copy\n",
        "import random\n",
        "\n",
        "import pandas as pd\n",
        "import numpy as np\n",
        "import seaborn as sns\n",
        "import matplotlib.pyplot as plt\n",
        "\n",
        "#ML prepare tools\n",
        "from sklearn.model_selection import train_test_split, RepeatedStratifiedKFold, GridSearchCV, cross_val_score\n",
        "from sklearn.metrics import f1_score, roc_auc_score, roc_curve, auc\n",
        "from sklearn.pipeline import Pipeline, make_pipeline\n",
        "from sklearn.feature_extraction.text import TfidfVectorizer , CountVectorizer, TfidfTransformer\n",
        "\n",
        "#Models\n",
        "from sklearn.linear_model import LogisticRegression\n",
        "from sklearn.ensemble import RandomForestClassifier\n",
        "from sklearn.svm import SVC\n",
        "\n",
        "#NLP\n",
        "#import cuda\n",
        "import torch\n",
        "import nltk\n",
        "from nltk.probability import FreqDist\n",
        "\n",
        "#visual\n",
        "from IPython.display import Markdown\n",
        "from IPython.display import display\n",
        "from ipywidgets import widgets, Dropdown\n",
        "from tqdm import notebook\n",
        "from tqdm.auto import tqdm\n",
        "import PIL\n",
        "from PIL import Image\n",
        "\n",
        "import lightgbm\n",
        "from lightgbm import LGBMClassifier\n",
        "import spacy \n",
        "import transformers \n",
        "#from transformers import *\n",
        "from wordcloud import WordCloud"
      ]
    },
    {
      "cell_type": "markdown",
      "metadata": {
        "id": "Okj4tLYyiSKq"
      },
      "source": [
        "### Определение прогресс-комментария"
      ]
    },
    {
      "cell_type": "code",
      "execution_count": 6,
      "metadata": {
        "id": "IoniNb7IPMjw"
      },
      "outputs": [],
      "source": [
        "tqdm.pandas(desc=\"Cleaning and lemmatizing progress ...\")"
      ]
    },
    {
      "cell_type": "markdown",
      "metadata": {
        "id": "yeMhGRE892pV"
      },
      "source": [
        "### Загрузка \"стоп-слов\""
      ]
    },
    {
      "cell_type": "code",
      "execution_count": 7,
      "metadata": {
        "colab": {
          "base_uri": "https://localhost:8080/"
        },
        "id": "wDJ72JWvLtWb",
        "outputId": "5f77095d-8e6c-4280-8cca-552cb969cca7"
      },
      "outputs": [
        {
          "output_type": "stream",
          "name": "stderr",
          "text": [
            "[nltk_data] Downloading package stopwords to /root/nltk_data...\n",
            "[nltk_data]   Unzipping corpora/stopwords.zip.\n"
          ]
        },
        {
          "output_type": "execute_result",
          "data": {
            "text/plain": [
              "True"
            ]
          },
          "metadata": {},
          "execution_count": 7
        }
      ],
      "source": [
        "nltk.download('stopwords')"
      ]
    },
    {
      "cell_type": "markdown",
      "metadata": {
        "id": "NZKkVpWGy-Us"
      },
      "source": [
        "### Загрузка данных для модуля лемматизации"
      ]
    },
    {
      "cell_type": "code",
      "execution_count": 8,
      "metadata": {
        "id": "C0iHj6Hqy8qD"
      },
      "outputs": [],
      "source": [
        "nlp = spacy.load('en_core_web_sm', disable=['parser', 'ner']) "
      ]
    },
    {
      "cell_type": "markdown",
      "metadata": {
        "id": "6cGDbZm0j-LQ"
      },
      "source": [
        "## Загрузка данных"
      ]
    },
    {
      "cell_type": "code",
      "execution_count": 10,
      "metadata": {
        "id": "Yy4Q4l3im3HI"
      },
      "outputs": [],
      "source": [
        "try:\n",
        "  data = pd.read_csv('/content/sample_data/toxic_comments.csv', index_col=0)\n",
        "except:\n",
        "    try:\n",
        "        data = pd.read_csv('/content/toxic_comments.csv', index_col=0)\n",
        "    except:\n",
        "        data = pd.read_csv('/datasets/toxic_comments.csv', index_col=0)\n",
        "        \n"
      ]
    },
    {
      "cell_type": "markdown",
      "metadata": {
        "id": "Ce1bDufBBJPD"
      },
      "source": [
        "### Загрузка предъобученной модели BERT\n"
      ]
    },
    {
      "cell_type": "code",
      "execution_count": 11,
      "metadata": {
        "id": "we73rsJzBS4r"
      },
      "outputs": [],
      "source": [
        "#Библиотеки для BERT\n",
        "#model_name = \"unitary/toxic-bert\" # модель BERT обученная на токсичных текстах, f1~0.95\n",
        "#model = AutoModel.from_pretrained(model_name)\n",
        "#tokenizer = AutoTokenizer.from_pretrained(model_name)"
      ]
    },
    {
      "cell_type": "markdown",
      "metadata": {
        "id": "j7brjAitoMHE"
      },
      "source": [
        "### Определение функций"
      ]
    },
    {
      "cell_type": "code",
      "execution_count": 12,
      "metadata": {
        "id": "XI1nny3FoS5g"
      },
      "outputs": [],
      "source": [
        "def clean_text(text, patterns):\n",
        "    text = re.sub(patterns, ' ', text)\n",
        "    text = \"\".join(text)\n",
        "    text = text.strip()\n",
        "    return text"
      ]
    },
    {
      "cell_type": "code",
      "execution_count": 13,
      "metadata": {
        "id": "GlmA2acgWffy"
      },
      "outputs": [],
      "source": [
        "def delete_repeat_letters(text):\n",
        "    pattern = re.compile(r'(\\w)(\\1{2,})')\n",
        "    repl = r'\\1'\n",
        "    text = re.sub(pattern, repl, text)\n",
        "    text = \"\".join(text)\n",
        "    text = text.strip()\n",
        "    return text"
      ]
    },
    {
      "cell_type": "code",
      "execution_count": 14,
      "metadata": {
        "id": "MuUPbAzkHpIH"
      },
      "outputs": [],
      "source": [
        "def lemma_text(string, lemm_obj):\n",
        "    doc = lemm_obj(string) \n",
        "    lemma_list = \" \".join([token.lemma_ for token in doc])\n",
        "    return lemma_list"
      ]
    },
    {
      "cell_type": "code",
      "execution_count": 15,
      "metadata": {
        "id": "x9F7SC2yDB3Z"
      },
      "outputs": [],
      "source": [
        "def delete_stop_words(text, stop_words):\n",
        "    tokens = []\n",
        "    for token in text.split():\n",
        "        if token not in stop_words and len(token) > 2:\n",
        "            tokens.append(token)\n",
        "    text = \" \".join(tokens)\n",
        "    return text"
      ]
    },
    {
      "cell_type": "code",
      "execution_count": 16,
      "metadata": {
        "id": "QsaWnuothZg5"
      },
      "outputs": [],
      "source": [
        "def find_uninfo(df, numb):\n",
        "    un_infos = []\n",
        "    for column in notebook.tqdm(df.columns):\n",
        "        un_info = df[column].sum()\n",
        "        if un_info < numb:\n",
        "            un_infos.append(column)\n",
        "    return un_infos"
      ]
    },
    {
      "cell_type": "code",
      "execution_count": 17,
      "metadata": {
        "id": "-C0NvK_K72ch"
      },
      "outputs": [],
      "source": [
        "def search_best_params(X, y_true, model_obj, grid_params, STOP_EN):\n",
        "    pipe = Pipeline([                    \n",
        "                    ('tfidf', TfidfVectorizer(stop_words = STOP_EN)),\n",
        "                    ('model', model_obj)\n",
        "                    ])\n",
        "    \n",
        "    grid_obj = GridSearchCV(estimator=pipe, param_grid=grid_params, n_jobs=-1, cv=5, scoring = 'f1', verbose=1) \n",
        "    \n",
        "    print(f'START fiting in {time.strftime(\"%H:%M:%S\", time.localtime())}')\n",
        "    start = time.time()\n",
        "    grid_obj.fit(X, y_true)\n",
        "    end = time.time()\n",
        "    grid_time = (end - start)\n",
        "   \n",
        "    print(f'Grid searching finished. \\\n",
        "    F1: {grid_obj.best_score_},\\\n",
        "    Grid time: {grid_time} s,\\\n",
        "    Fit time: {np.mean(grid_obj.cv_results_.get(\"mean_fit_time\"))} s,\\\n",
        "    Predict time: {np.mean(grid_obj.cv_results_.get(\"mean_score_time\"))} s')\n",
        "\n",
        "    times = (grid_time, np.mean(grid_obj.cv_results_.get('mean_fit_time')), \\\n",
        "             np.mean(grid_obj.cv_results_.get('mean_score_time')))\n",
        "\n",
        "    #Выводим лучшие гиперпараметры\n",
        "    try:\n",
        "        print(f'best params: {grid_obj.best_params_}')\n",
        "    except:\n",
        "        print(f'проблемы с поиском лучшей модели')\n",
        "     \n",
        "    return (grid_obj, times)   "
      ]
    },
    {
      "cell_type": "code",
      "execution_count": 18,
      "metadata": {
        "id": "yuJkFFEi-1vY"
      },
      "outputs": [],
      "source": [
        "def write_results(dict_with_new_result, all_results = None):\n",
        "    if not all_results:\n",
        "        #Словарь, который будет аккумулироваь результаты\n",
        "        all_results = {'step': [], 'model_name': [], 'F1': [], 'fit_time': [], 'predict_time': [],\n",
        "                   'feature_importances': [], 'grid_time': []}\n",
        "\n",
        "    all_results['step'].append(dict_with_new_result.get('step'))\n",
        "    all_results['model_name'].append(dict_with_new_result.get('model_name'))\n",
        "    all_results['F1'].append(dict_with_new_result.get('F1'))\n",
        "    all_results['fit_time'].append(dict_with_new_result.get('fit_time'))\n",
        "    all_results['predict_time'].append(dict_with_new_result.get('predict_time'))\n",
        "    all_results['grid_time'].append(dict_with_new_result.get('grid_time'))\n",
        "    all_results['feature_importances'].append(dict_with_new_result.get('feature_importances'))\n",
        "    return all_results"
      ]
    },
    {
      "cell_type": "code",
      "execution_count": 19,
      "metadata": {
        "id": "jFFeMfhD_9EJ"
      },
      "outputs": [],
      "source": [
        "def draw_features(model, X):    \n",
        "    fig, axes = plt.subplots(nrows = 1, ncols = 1, sharey = False, figsize = (15, 5))\n",
        "    fig.suptitle('Распределение значимости признаков', fontsize=14, fontweight='bold');\n",
        "       \n",
        "    sns.barplot(y = model.feature_importances_, x = X);"
      ]
    },
    {
      "cell_type": "code",
      "execution_count": 20,
      "metadata": {
        "id": "FvxursLWBZPc"
      },
      "outputs": [],
      "source": [
        "def try_on_test(model, model_name, train_f, train_t, test_f, test_t, results):\n",
        "    #Обучение на полной выборке\n",
        "    model.fit(train_f, train_t)\n",
        "    \n",
        "    #Предсказание\n",
        "    predict = model.predict(test_f)\n",
        "\n",
        "    #Расчет метрик\n",
        "    F1 = f1_score(test_t, predict)\n",
        "    print(f' test F1: {F1}') \n",
        "\n",
        "    #Заполняем Словарь с результатами\n",
        "    rez = {'step': 'test', 'model_name': model_name, 'F1': F1}\n",
        "\n",
        "    results = write_results(rez, results)\n",
        "    return results"
      ]
    },
    {
      "cell_type": "code",
      "execution_count": 21,
      "metadata": {
        "id": "vKEZXEU-9gWK"
      },
      "outputs": [],
      "source": [
        " def prepare_calc_embendings(df, text_col, tokenizer):\n",
        "    #Создаем списки токенов\n",
        "    df['tokenized'] = df[text_col].apply((lambda x: tokenizer.encode(x, add_special_tokens=True, truncation=True, max_length=512)))\n",
        "\n",
        "    #Определяем максимальную длину списков\n",
        "    df['lengs'] = df.tokenized.apply(lambda x: len(x))\n",
        "    max_len = df.lengs.max()\n",
        "\n",
        "    #Добиваем все списки до максимальной длины\n",
        "    padded = np.array([i + [0]*(max_len - len(i)) for i in df.tokenized.values])\n",
        "\n",
        "    #Формируем маску\n",
        "    attention_mask = np.where(padded != 0, 1, 0)\n",
        "\n",
        "    #Удаляем лишнее\n",
        "    df = df.drop(['tokenized', 'lengs'], axis = 1)\n",
        "    del df\n",
        "\n",
        "    return (padded, attention_mask)"
      ]
    },
    {
      "cell_type": "code",
      "execution_count": 22,
      "metadata": {
        "id": "RXXOYLcqlKal"
      },
      "outputs": [],
      "source": [
        "def calc_embenings(sample_size, input_padded, input_mask):\n",
        "    #Расчитываем эмбендинги BERT-моделью\n",
        "    last_hidden_states = []\n",
        "    for idx in notebook.tqdm(range(input_padded.shape[0] // sample_size)):\n",
        "        try:\n",
        "            input_sample = \\\n",
        "            torch.tensor(input_padded[idx*(sample_size + 1) : idx*(sample_size + 1) + sample_size]).cuda()\n",
        "            mask_sample =  \\\n",
        "            torch.tensor(input_mask[idx*(sample_size + 1) : idx*(sample_size + 1) + sample_size]).cuda()\n",
        "    \n",
        "            with torch.no_grad():\n",
        "                model.cuda()\n",
        "                last_hidden_state = model(input_sample, attention_mask=mask_sample)\n",
        "    \n",
        "            last_hidden_states.append(last_hidden_state[0][:,0,:].cpu().numpy())\n",
        "    \n",
        "            del last_hidden_state\n",
        "            del input_sample\n",
        "            del mask_sample\n",
        "        except:\n",
        "            print(\"error in step:\", idx)\n",
        "            break\n",
        "    return last_hidden_states"
      ]
    },
    {
      "cell_type": "code",
      "execution_count": 23,
      "metadata": {
        "id": "8no1MP_m8WXc"
      },
      "outputs": [],
      "source": [
        "  def read_embendings():\n",
        "    url = 'https://docs.google.com/spreadsheets/d/1njpC5eK9dxuZlbrufoaGmqVos8XtV5yn/edit?usp=share_link&ouid=116410101676708186808&rtpof=true&sd=true'\n",
        "    file_id=url.split('/')[-2]\n",
        "    dwn_url='https://drive.google.com/uc?id=' + file_id\n",
        "    df = pd.read_csv(dwn_url)\n",
        "    return df"
      ]
    },
    {
      "cell_type": "code",
      "execution_count": 24,
      "metadata": {
        "id": "gKVcZqvx7PHo"
      },
      "outputs": [],
      "source": [
        "#Выпадающий список для выбора тактики расчета кросс-валидации\n",
        "cbox_cross_lr = Dropdown(\n",
        "    options=[('Учесть ранее рассчитанные результаты', 0), ('Cчитать заново', 1)],\n",
        "    value=0, # Выбор по умолчанию\n",
        "    description='Выбор:' )\n",
        "\n",
        "cbox_cross_rf = Dropdown(\n",
        "    options=[('Учесть ранее рассчитанные результаты', 0), ('Cчитать заново', 1)],\n",
        "    value=0, # Выбор по умолчанию\n",
        "    description='Выбор:' )\n",
        "\n",
        "cbox_cross_gbm = Dropdown(\n",
        "    options=[('Учесть ранее рассчитанные результаты', 0), ('Cчитать заново', 1)],\n",
        "    value=0, # Выбор по умолчанию\n",
        "    description='Выбор:' )"
      ]
    },
    {
      "cell_type": "code",
      "execution_count": 25,
      "metadata": {
        "id": "n1-IqTx47nHR"
      },
      "outputs": [],
      "source": [
        "#Выпадающий список для выбора тактики взаимодействия с BERT\n",
        "cbox_bert = Dropdown(\n",
        "    options=[('BERT не нужен', 0), ('Считать эмбендинги из файла', 1), \\\n",
        "             ('Расчитывать эмбендинги', 2)],\n",
        "    value=0, # Выбор по умолчанию\n",
        "    description='Выбор:' )"
      ]
    },
    {
      "cell_type": "code",
      "execution_count": 26,
      "metadata": {
        "id": "HsdolErwbKp1",
        "tags": []
      },
      "outputs": [],
      "source": [
        "#Выпадающий список для выбора тактики расчета кросс-валидации\n",
        "cbox_cross_bert = Dropdown(\n",
        "    options=[('Учесть ранее рассчитанные результаты', 0), ('Cчитать заново', 1)],\n",
        "    value=0, # Выбор по умолчанию\n",
        "    description='Выбор:' )"
      ]
    },
    {
      "cell_type": "markdown",
      "metadata": {
        "id": "YVEcD7vAoTfT"
      },
      "source": [
        "### Задание констант"
      ]
    },
    {
      "cell_type": "code",
      "execution_count": 27,
      "metadata": {
        "id": "WAW0oUvToZK-"
      },
      "outputs": [],
      "source": [
        "RAND_ST = 42\n",
        "STOP_EN = nltk.corpus.stopwords.words('english')\n",
        "STOP_PT = \"[^a-zA-Z]+\"\n",
        "\n",
        "#По-умолчанию модели не пересчитываются и bert не используется\n",
        "comp_state = 0\n",
        "bert_state = 0\n",
        "\n",
        "#random_state по-умолчанию\n",
        "random.seed(42)"
      ]
    },
    {
      "cell_type": "markdown",
      "metadata": {
        "id": "UxeaDRVEouW0"
      },
      "source": [
        "## Изучение данных"
      ]
    },
    {
      "cell_type": "markdown",
      "metadata": {
        "id": "j4cFkw1Ko3NB"
      },
      "source": [
        "### Характеристики датасета"
      ]
    },
    {
      "cell_type": "code",
      "execution_count": 28,
      "metadata": {
        "id": "1daoWrp_nTFf",
        "colab": {
          "base_uri": "https://localhost:8080/"
        },
        "outputId": "7dc795d3-b02e-404f-821d-bcf07688759a"
      },
      "outputs": [
        {
          "output_type": "stream",
          "name": "stdout",
          "text": [
            "<class 'pandas.core.frame.DataFrame'>\n",
            "Int64Index: 159292 entries, 0 to 159450\n",
            "Data columns (total 2 columns):\n",
            " #   Column  Non-Null Count   Dtype \n",
            "---  ------  --------------   ----- \n",
            " 0   text    159292 non-null  object\n",
            " 1   toxic   159292 non-null  int64 \n",
            "dtypes: int64(1), object(1)\n",
            "memory usage: 3.6+ MB\n"
          ]
        }
      ],
      "source": [
        "data.info()"
      ]
    },
    {
      "cell_type": "code",
      "execution_count": 29,
      "metadata": {
        "id": "OMemtubwp3Ok",
        "colab": {
          "base_uri": "https://localhost:8080/",
          "height": 363
        },
        "outputId": "6c0a41bc-8b60-4669-b964-2869494c8291"
      },
      "outputs": [
        {
          "output_type": "execute_result",
          "data": {
            "text/plain": [
              "                                                     text  toxic\n",
              "118908  \"UNLESS YOU\"\"RE JIMBO WALES INFORMING ME OF MY...      0\n",
              "132565  Barack Obama is not a socialist. Anybody with ...      0\n",
              "148226         Your wife isn't half bad \\nCan I fuck her?      1\n",
              "149418  I'm going on a long vacation soon, so hopefull...      0\n",
              "57525   Idiocy\\n\\nI made a number of changes, clearly ...      1\n",
              "51643   If you're that sensitive, why don't you kill y...      1\n",
              "33004   Deletion Review \\n\\nPlease revisit the deletio...      0\n",
              "76763   \"\\n\\nTo further clarify, even though \"\"club te...      0\n",
              "31885   \" \\nAlright, first off:\\nPlease remember to si...      0\n",
              "14496   Expanding Bay Area definition to match Census ...      0"
            ],
            "text/html": [
              "\n",
              "  <div id=\"df-54a8e003-34c2-4581-9622-3ea1836a06df\">\n",
              "    <div class=\"colab-df-container\">\n",
              "      <div>\n",
              "<style scoped>\n",
              "    .dataframe tbody tr th:only-of-type {\n",
              "        vertical-align: middle;\n",
              "    }\n",
              "\n",
              "    .dataframe tbody tr th {\n",
              "        vertical-align: top;\n",
              "    }\n",
              "\n",
              "    .dataframe thead th {\n",
              "        text-align: right;\n",
              "    }\n",
              "</style>\n",
              "<table border=\"1\" class=\"dataframe\">\n",
              "  <thead>\n",
              "    <tr style=\"text-align: right;\">\n",
              "      <th></th>\n",
              "      <th>text</th>\n",
              "      <th>toxic</th>\n",
              "    </tr>\n",
              "  </thead>\n",
              "  <tbody>\n",
              "    <tr>\n",
              "      <th>118908</th>\n",
              "      <td>\"UNLESS YOU\"\"RE JIMBO WALES INFORMING ME OF MY...</td>\n",
              "      <td>0</td>\n",
              "    </tr>\n",
              "    <tr>\n",
              "      <th>132565</th>\n",
              "      <td>Barack Obama is not a socialist. Anybody with ...</td>\n",
              "      <td>0</td>\n",
              "    </tr>\n",
              "    <tr>\n",
              "      <th>148226</th>\n",
              "      <td>Your wife isn't half bad \\nCan I fuck her?</td>\n",
              "      <td>1</td>\n",
              "    </tr>\n",
              "    <tr>\n",
              "      <th>149418</th>\n",
              "      <td>I'm going on a long vacation soon, so hopefull...</td>\n",
              "      <td>0</td>\n",
              "    </tr>\n",
              "    <tr>\n",
              "      <th>57525</th>\n",
              "      <td>Idiocy\\n\\nI made a number of changes, clearly ...</td>\n",
              "      <td>1</td>\n",
              "    </tr>\n",
              "    <tr>\n",
              "      <th>51643</th>\n",
              "      <td>If you're that sensitive, why don't you kill y...</td>\n",
              "      <td>1</td>\n",
              "    </tr>\n",
              "    <tr>\n",
              "      <th>33004</th>\n",
              "      <td>Deletion Review \\n\\nPlease revisit the deletio...</td>\n",
              "      <td>0</td>\n",
              "    </tr>\n",
              "    <tr>\n",
              "      <th>76763</th>\n",
              "      <td>\"\\n\\nTo further clarify, even though \"\"club te...</td>\n",
              "      <td>0</td>\n",
              "    </tr>\n",
              "    <tr>\n",
              "      <th>31885</th>\n",
              "      <td>\" \\nAlright, first off:\\nPlease remember to si...</td>\n",
              "      <td>0</td>\n",
              "    </tr>\n",
              "    <tr>\n",
              "      <th>14496</th>\n",
              "      <td>Expanding Bay Area definition to match Census ...</td>\n",
              "      <td>0</td>\n",
              "    </tr>\n",
              "  </tbody>\n",
              "</table>\n",
              "</div>\n",
              "      <button class=\"colab-df-convert\" onclick=\"convertToInteractive('df-54a8e003-34c2-4581-9622-3ea1836a06df')\"\n",
              "              title=\"Convert this dataframe to an interactive table.\"\n",
              "              style=\"display:none;\">\n",
              "        \n",
              "  <svg xmlns=\"http://www.w3.org/2000/svg\" height=\"24px\"viewBox=\"0 0 24 24\"\n",
              "       width=\"24px\">\n",
              "    <path d=\"M0 0h24v24H0V0z\" fill=\"none\"/>\n",
              "    <path d=\"M18.56 5.44l.94 2.06.94-2.06 2.06-.94-2.06-.94-.94-2.06-.94 2.06-2.06.94zm-11 1L8.5 8.5l.94-2.06 2.06-.94-2.06-.94L8.5 2.5l-.94 2.06-2.06.94zm10 10l.94 2.06.94-2.06 2.06-.94-2.06-.94-.94-2.06-.94 2.06-2.06.94z\"/><path d=\"M17.41 7.96l-1.37-1.37c-.4-.4-.92-.59-1.43-.59-.52 0-1.04.2-1.43.59L10.3 9.45l-7.72 7.72c-.78.78-.78 2.05 0 2.83L4 21.41c.39.39.9.59 1.41.59.51 0 1.02-.2 1.41-.59l7.78-7.78 2.81-2.81c.8-.78.8-2.07 0-2.86zM5.41 20L4 18.59l7.72-7.72 1.47 1.35L5.41 20z\"/>\n",
              "  </svg>\n",
              "      </button>\n",
              "      \n",
              "  <style>\n",
              "    .colab-df-container {\n",
              "      display:flex;\n",
              "      flex-wrap:wrap;\n",
              "      gap: 12px;\n",
              "    }\n",
              "\n",
              "    .colab-df-convert {\n",
              "      background-color: #E8F0FE;\n",
              "      border: none;\n",
              "      border-radius: 50%;\n",
              "      cursor: pointer;\n",
              "      display: none;\n",
              "      fill: #1967D2;\n",
              "      height: 32px;\n",
              "      padding: 0 0 0 0;\n",
              "      width: 32px;\n",
              "    }\n",
              "\n",
              "    .colab-df-convert:hover {\n",
              "      background-color: #E2EBFA;\n",
              "      box-shadow: 0px 1px 2px rgba(60, 64, 67, 0.3), 0px 1px 3px 1px rgba(60, 64, 67, 0.15);\n",
              "      fill: #174EA6;\n",
              "    }\n",
              "\n",
              "    [theme=dark] .colab-df-convert {\n",
              "      background-color: #3B4455;\n",
              "      fill: #D2E3FC;\n",
              "    }\n",
              "\n",
              "    [theme=dark] .colab-df-convert:hover {\n",
              "      background-color: #434B5C;\n",
              "      box-shadow: 0px 1px 3px 1px rgba(0, 0, 0, 0.15);\n",
              "      filter: drop-shadow(0px 1px 2px rgba(0, 0, 0, 0.3));\n",
              "      fill: #FFFFFF;\n",
              "    }\n",
              "  </style>\n",
              "\n",
              "      <script>\n",
              "        const buttonEl =\n",
              "          document.querySelector('#df-54a8e003-34c2-4581-9622-3ea1836a06df button.colab-df-convert');\n",
              "        buttonEl.style.display =\n",
              "          google.colab.kernel.accessAllowed ? 'block' : 'none';\n",
              "\n",
              "        async function convertToInteractive(key) {\n",
              "          const element = document.querySelector('#df-54a8e003-34c2-4581-9622-3ea1836a06df');\n",
              "          const dataTable =\n",
              "            await google.colab.kernel.invokeFunction('convertToInteractive',\n",
              "                                                     [key], {});\n",
              "          if (!dataTable) return;\n",
              "\n",
              "          const docLinkHtml = 'Like what you see? Visit the ' +\n",
              "            '<a target=\"_blank\" href=https://colab.research.google.com/notebooks/data_table.ipynb>data table notebook</a>'\n",
              "            + ' to learn more about interactive tables.';\n",
              "          element.innerHTML = '';\n",
              "          dataTable['output_type'] = 'display_data';\n",
              "          await google.colab.output.renderOutput(dataTable, element);\n",
              "          const docLink = document.createElement('div');\n",
              "          docLink.innerHTML = docLinkHtml;\n",
              "          element.appendChild(docLink);\n",
              "        }\n",
              "      </script>\n",
              "    </div>\n",
              "  </div>\n",
              "  "
            ]
          },
          "metadata": {},
          "execution_count": 29
        }
      ],
      "source": [
        "data.sample(10)"
      ]
    },
    {
      "cell_type": "markdown",
      "metadata": {
        "id": "qwwN5lzFpEBi"
      },
      "source": [
        "В ДФ три столбца:\n",
        "- 0 - Unnamed: 0, содержащий данные, напоминающие индексы\n",
        "- text, содержащий текст комментариев\n",
        "- toxic, содержащий целевую переменную\n",
        "\n"
      ]
    },
    {
      "cell_type": "markdown",
      "metadata": {
        "id": "HSmRw-P4qMOQ"
      },
      "source": [
        "## Характеристики целевой переменной"
      ]
    },
    {
      "cell_type": "markdown",
      "metadata": {
        "id": "zzLeWKNjqUxP"
      },
      "source": [
        "### Поиск аномальных значений"
      ]
    },
    {
      "cell_type": "code",
      "execution_count": 30,
      "metadata": {
        "id": "ZWpCnYFiqh22",
        "colab": {
          "base_uri": "https://localhost:8080/"
        },
        "outputId": "d1f0cf27-a1d0-4fe7-ddb5-b20ab85933a6"
      },
      "outputs": [
        {
          "output_type": "execute_result",
          "data": {
            "text/plain": [
              "array([0, 1])"
            ]
          },
          "metadata": {},
          "execution_count": 30
        }
      ],
      "source": [
        "data.toxic.unique()"
      ]
    },
    {
      "cell_type": "markdown",
      "metadata": {
        "id": "-q1s7T5qquSG"
      },
      "source": [
        "### Распределение целевой переменной"
      ]
    },
    {
      "cell_type": "code",
      "execution_count": 31,
      "metadata": {
        "id": "3_hRfXzIrAa6",
        "colab": {
          "base_uri": "https://localhost:8080/",
          "height": 112
        },
        "outputId": "91bc1282-530d-4050-bd5e-359a48365102"
      },
      "outputs": [
        {
          "output_type": "execute_result",
          "data": {
            "text/plain": [
              "   toxic   ratio    prs\n",
              "0      0  143106  89.84\n",
              "1      1   16186  10.16"
            ],
            "text/html": [
              "\n",
              "  <div id=\"df-061958e7-6e89-4ef6-9923-679100414a3a\">\n",
              "    <div class=\"colab-df-container\">\n",
              "      <div>\n",
              "<style scoped>\n",
              "    .dataframe tbody tr th:only-of-type {\n",
              "        vertical-align: middle;\n",
              "    }\n",
              "\n",
              "    .dataframe tbody tr th {\n",
              "        vertical-align: top;\n",
              "    }\n",
              "\n",
              "    .dataframe thead th {\n",
              "        text-align: right;\n",
              "    }\n",
              "</style>\n",
              "<table border=\"1\" class=\"dataframe\">\n",
              "  <thead>\n",
              "    <tr style=\"text-align: right;\">\n",
              "      <th></th>\n",
              "      <th>toxic</th>\n",
              "      <th>ratio</th>\n",
              "      <th>prs</th>\n",
              "    </tr>\n",
              "  </thead>\n",
              "  <tbody>\n",
              "    <tr>\n",
              "      <th>0</th>\n",
              "      <td>0</td>\n",
              "      <td>143106</td>\n",
              "      <td>89.84</td>\n",
              "    </tr>\n",
              "    <tr>\n",
              "      <th>1</th>\n",
              "      <td>1</td>\n",
              "      <td>16186</td>\n",
              "      <td>10.16</td>\n",
              "    </tr>\n",
              "  </tbody>\n",
              "</table>\n",
              "</div>\n",
              "      <button class=\"colab-df-convert\" onclick=\"convertToInteractive('df-061958e7-6e89-4ef6-9923-679100414a3a')\"\n",
              "              title=\"Convert this dataframe to an interactive table.\"\n",
              "              style=\"display:none;\">\n",
              "        \n",
              "  <svg xmlns=\"http://www.w3.org/2000/svg\" height=\"24px\"viewBox=\"0 0 24 24\"\n",
              "       width=\"24px\">\n",
              "    <path d=\"M0 0h24v24H0V0z\" fill=\"none\"/>\n",
              "    <path d=\"M18.56 5.44l.94 2.06.94-2.06 2.06-.94-2.06-.94-.94-2.06-.94 2.06-2.06.94zm-11 1L8.5 8.5l.94-2.06 2.06-.94-2.06-.94L8.5 2.5l-.94 2.06-2.06.94zm10 10l.94 2.06.94-2.06 2.06-.94-2.06-.94-.94-2.06-.94 2.06-2.06.94z\"/><path d=\"M17.41 7.96l-1.37-1.37c-.4-.4-.92-.59-1.43-.59-.52 0-1.04.2-1.43.59L10.3 9.45l-7.72 7.72c-.78.78-.78 2.05 0 2.83L4 21.41c.39.39.9.59 1.41.59.51 0 1.02-.2 1.41-.59l7.78-7.78 2.81-2.81c.8-.78.8-2.07 0-2.86zM5.41 20L4 18.59l7.72-7.72 1.47 1.35L5.41 20z\"/>\n",
              "  </svg>\n",
              "      </button>\n",
              "      \n",
              "  <style>\n",
              "    .colab-df-container {\n",
              "      display:flex;\n",
              "      flex-wrap:wrap;\n",
              "      gap: 12px;\n",
              "    }\n",
              "\n",
              "    .colab-df-convert {\n",
              "      background-color: #E8F0FE;\n",
              "      border: none;\n",
              "      border-radius: 50%;\n",
              "      cursor: pointer;\n",
              "      display: none;\n",
              "      fill: #1967D2;\n",
              "      height: 32px;\n",
              "      padding: 0 0 0 0;\n",
              "      width: 32px;\n",
              "    }\n",
              "\n",
              "    .colab-df-convert:hover {\n",
              "      background-color: #E2EBFA;\n",
              "      box-shadow: 0px 1px 2px rgba(60, 64, 67, 0.3), 0px 1px 3px 1px rgba(60, 64, 67, 0.15);\n",
              "      fill: #174EA6;\n",
              "    }\n",
              "\n",
              "    [theme=dark] .colab-df-convert {\n",
              "      background-color: #3B4455;\n",
              "      fill: #D2E3FC;\n",
              "    }\n",
              "\n",
              "    [theme=dark] .colab-df-convert:hover {\n",
              "      background-color: #434B5C;\n",
              "      box-shadow: 0px 1px 3px 1px rgba(0, 0, 0, 0.15);\n",
              "      filter: drop-shadow(0px 1px 2px rgba(0, 0, 0, 0.3));\n",
              "      fill: #FFFFFF;\n",
              "    }\n",
              "  </style>\n",
              "\n",
              "      <script>\n",
              "        const buttonEl =\n",
              "          document.querySelector('#df-061958e7-6e89-4ef6-9923-679100414a3a button.colab-df-convert');\n",
              "        buttonEl.style.display =\n",
              "          google.colab.kernel.accessAllowed ? 'block' : 'none';\n",
              "\n",
              "        async function convertToInteractive(key) {\n",
              "          const element = document.querySelector('#df-061958e7-6e89-4ef6-9923-679100414a3a');\n",
              "          const dataTable =\n",
              "            await google.colab.kernel.invokeFunction('convertToInteractive',\n",
              "                                                     [key], {});\n",
              "          if (!dataTable) return;\n",
              "\n",
              "          const docLinkHtml = 'Like what you see? Visit the ' +\n",
              "            '<a target=\"_blank\" href=https://colab.research.google.com/notebooks/data_table.ipynb>data table notebook</a>'\n",
              "            + ' to learn more about interactive tables.';\n",
              "          element.innerHTML = '';\n",
              "          dataTable['output_type'] = 'display_data';\n",
              "          await google.colab.output.renderOutput(dataTable, element);\n",
              "          const docLink = document.createElement('div');\n",
              "          docLink.innerHTML = docLinkHtml;\n",
              "          element.appendChild(docLink);\n",
              "        }\n",
              "      </script>\n",
              "    </div>\n",
              "  </div>\n",
              "  "
            ]
          },
          "metadata": {},
          "execution_count": 31
        }
      ],
      "source": [
        "ratio = data.groupby(by  = 'toxic', as_index = False).agg(ratio = ('toxic', 'count'))\n",
        "ratio['prs'] = round(100*ratio.ratio/ratio.ratio.sum(), 2)\n",
        "ratio"
      ]
    },
    {
      "cell_type": "code",
      "execution_count": 32,
      "metadata": {
        "id": "kc3S2azKzFh3",
        "colab": {
          "base_uri": "https://localhost:8080/",
          "height": 482
        },
        "outputId": "7c57f5c8-285d-45f2-afaf-d9381883b149"
      },
      "outputs": [
        {
          "output_type": "display_data",
          "data": {
            "text/plain": [
              "<Figure size 1000x500 with 1 Axes>"
            ],
            "image/png": "[encoded data removed]"
          },
          "metadata": {}
        }
      ],
      "source": [
        "ratio.ratio.plot(kind = 'bar', xlabel = 'Целевая переменная', ylabel = 'Количество записей', \\\n",
        "                 title = 'Распределение целевой переменной', figsize = (10, 5));"
      ]
    },
    {
      "cell_type": "markdown",
      "metadata": {
        "id": "S_8Y6q76uXrm"
      },
      "source": [
        "Целевая переменная разбалансированна. Значений \"1\" много больше \"0\", 89.84% против 10.16%. Необходимо это учесть при разбиении данных на выборки и обучении моделей"
      ]
    },
    {
      "cell_type": "markdown",
      "metadata": {
        "id": "VwaC8Fyi0c8I"
      },
      "source": [
        "## Характеристики текстовых данных"
      ]
    },
    {
      "cell_type": "code",
      "execution_count": 33,
      "metadata": {
        "id": "Zw38_NK30jLk",
        "colab": {
          "base_uri": "https://localhost:8080/"
        },
        "outputId": "af546fbc-9d33-4523-d4d4-52689e03410b"
      },
      "outputs": [
        {
          "output_type": "execute_result",
          "data": {
            "text/plain": [
              "0         Explanation\\nWhy the edits made under my usern...\n",
              "1         D'aww! He matches this background colour I'm s...\n",
              "2         Hey man, I'm really not trying to edit war. It...\n",
              "3         \"\\nMore\\nI can't make any real suggestions on ...\n",
              "4         You, sir, are my hero. Any chance you remember...\n",
              "                                ...                        \n",
              "159446    \":::::And for the second time of asking, when ...\n",
              "159447    You should be ashamed of yourself \\n\\nThat is ...\n",
              "159448    Spitzer \\n\\nUmm, theres no actual article for ...\n",
              "159449    And it looks like it was actually you who put ...\n",
              "159450    \"\\nAnd ... I really don't think you understand...\n",
              "Name: text, Length: 159292, dtype: object"
            ]
          },
          "metadata": {},
          "execution_count": 33
        }
      ],
      "source": [
        "data.text"
      ]
    },
    {
      "cell_type": "markdown",
      "metadata": {
        "id": "87Sty7AD1JvS"
      },
      "source": [
        "В ДФ размещены необработанные \"оригинальные\" текстовые сообщения. Для них необходимо провести:\n",
        "- отчистку данных от лишних символов\n",
        "- удаление многократно повторяющихся символов (например aaaaaany -> any) \n",
        "- токенизацию\n",
        "- лемматизацию"
      ]
    },
    {
      "cell_type": "markdown",
      "metadata": {
        "id": "7dcAM6YP33cU"
      },
      "source": [
        "## Предобработка текстов"
      ]
    },
    {
      "cell_type": "markdown",
      "metadata": {
        "id": "QD0ciCEpI3f7"
      },
      "source": [
        "### Лемматизация и отчистка"
      ]
    },
    {
      "cell_type": "code",
      "execution_count": 34,
      "metadata": {
        "colab": {
          "base_uri": "https://localhost:8080/",
          "height": 145,
          "referenced_widgets": [
            "a73f507a5dd74f5ba1b192489a20f302",
            "42a6bcfdb523444b94aa428ab466bed8",
            "112f041b321d401bbf8674cc7131d6a8",
            "fb48aee88c2f4f9f9106030aadab5af2",
            "a8d9e6dca3144a6e99f88364e2a9ecc6",
            "f015e12a7fde4d8cad5be2322f60a74d",
            "932d8b4dd44649528e8ee7afe97aa05f",
            "a54c6eea0b684e87adf5c9f4e1aea6e7",
            "57faf23a2b0147298cced0f20b17b5fe",
            "6e2d96b092a249c5ae844df687202f78",
            "28676557e72343ab84677e4aa3103858",
            "78cafdf89ec44698bae0219ba6d7f6a4",
            "fea2a9245120462a9582263db91b2d61",
            "6edc460c1a7542afa167764dee947080",
            "535884af1ee4420dacb62c6b670510b1",
            "c8539151f6864d53994bb70bdd95fc9e",
            "af453b0d564b46a3b73124c6c7606a26",
            "c7c6c488e3f445a98552095cb24da55e",
            "ec1f4de0027b4bb1b9ba8ff4ef36e707",
            "d6ddbcff69934a7fafeef66cb17923c6",
            "b3f94a13c09d47f68c9a7d84efe45eb8",
            "6186ca72e4be45d18cde7cfb60ed333a",
            "1b03caad28624015a65ec18ca7557853",
            "85ebbdbaf2624480908439ce270d774d",
            "d11c115b8b4147a58bdc3150423df0eb",
            "6acc0b6fea874d2d923fa529806498be",
            "6ac8595d220246c5b75f0882e9682e76",
            "224aaf1b40f2478f88409af0cb650671",
            "079e3ebd58a040e5b18f9aecbdf3d6c9",
            "204ecf418123444f952a8acc8c5be09d",
            "d9950d47cc3a4f41b5d6c417e2fb24e0",
            "53201f29024d407cbb8f313bf21fb53e",
            "4176ca7891c84597a86772cdb3dae75d",
            "c87c26f7e48347cbb9ce5a5351e1122d",
            "7fc0ba8c42884347903740a92610c7cd",
            "ced16c80866e421c89da46d0bacdeba8",
            "1555593974394ab6842111e1318dea61",
            "bdd9c527d8d04ea4bafbab53be7de09d",
            "245ac42d50f1450ea2543fc31e39191f",
            "d86b7a197033422f90a33c4ff045e6a6",
            "94615a0360b0473080a1a656c3796a40",
            "262f2b23148e43f798e047dacc9a007e",
            "6ab44a17eebf44d0934d7ea0213b2602",
            "54e683b914ac4c3a900d717e86dc33c7"
          ]
        },
        "id": "fWQkRd0a377I",
        "outputId": "36fbfa4c-4b3a-4ea7-d78b-6ead2c4d5dbe"
      },
      "outputs": [
        {
          "output_type": "display_data",
          "data": {
            "text/plain": [
              "Cleaning and lemmatizing progress ...:   0%|          | 0/159292 [00:00<?, ?it/s]"
            ],
            "application/vnd.jupyter.widget-view+json": {
              "version_major": 2,
              "version_minor": 0,
              "model_id": "a73f507a5dd74f5ba1b192489a20f302"
            }
          },
          "metadata": {}
        },
        {
          "output_type": "display_data",
          "data": {
            "text/plain": [
              "Cleaning and lemmatizing progress ...:   0%|          | 0/159292 [00:00<?, ?it/s]"
            ],
            "application/vnd.jupyter.widget-view+json": {
              "version_major": 2,
              "version_minor": 0,
              "model_id": "78cafdf89ec44698bae0219ba6d7f6a4"
            }
          },
          "metadata": {}
        },
        {
          "output_type": "display_data",
          "data": {
            "text/plain": [
              "Cleaning and lemmatizing progress ...:   0%|          | 0/159292 [00:00<?, ?it/s]"
            ],
            "application/vnd.jupyter.widget-view+json": {
              "version_major": 2,
              "version_minor": 0,
              "model_id": "1b03caad28624015a65ec18ca7557853"
            }
          },
          "metadata": {}
        },
        {
          "output_type": "display_data",
          "data": {
            "text/plain": [
              "Cleaning and lemmatizing progress ...:   0%|          | 0/159292 [00:00<?, ?it/s]"
            ],
            "application/vnd.jupyter.widget-view+json": {
              "version_major": 2,
              "version_minor": 0,
              "model_id": "c87c26f7e48347cbb9ce5a5351e1122d"
            }
          },
          "metadata": {}
        }
      ],
      "source": [
        "#Отчистка текста\n",
        "data['cleaned'] = data.text.progress_apply(clean_text, **{'patterns': STOP_PT})\n",
        "\n",
        "#Удаление повторяющихся символов\n",
        "data['cleaned'] = data.cleaned.progress_apply(delete_repeat_letters)\n",
        "\n",
        "#Лемматизация текста\n",
        "lemm_obj = nlp\n",
        "data['cleaned'] = data.cleaned.progress_apply(lemma_text, **{'lemm_obj': lemm_obj})\n",
        "\n",
        "#Удаление стоп-слов\n",
        "data['cleaned'] = data.cleaned.progress_apply(delete_stop_words, **{'stop_words': STOP_EN})\n",
        "\n",
        "#Приведение к строчному виду\n",
        "data['cleaned'] = data.cleaned.str.lower()\n",
        "\n",
        "#Удаляем столбец с текстом\n",
        "data = data.drop('text', axis = 1)"
      ]
    },
    {
      "cell_type": "markdown",
      "metadata": {
        "id": "xjsOZFraiSLJ"
      },
      "source": [
        "### Частотный анализ текстов"
      ]
    },
    {
      "cell_type": "code",
      "execution_count": 35,
      "metadata": {
        "colab": {
          "base_uri": "https://localhost:8080/",
          "height": 612
        },
        "id": "ucv23lK6iSLJ",
        "outputId": "65db4bab-8360-4612-a970-a4203f981655"
      },
      "outputs": [
        {
          "output_type": "display_data",
          "data": {
            "text/plain": [
              "[('article', 72982),\n",
              " ('page', 56931),\n",
              " ('wikipedia', 48523),\n",
              " ('talk', 40392),\n",
              " ('edit', 37177)]"
            ]
          },
          "metadata": {}
        },
        {
          "output_type": "display_data",
          "data": {
            "text/plain": [
              "<Figure size 640x480 with 1 Axes>"
            ],
            "image/png": "[encoded data removed]"
          },
          "metadata": {}
        },
        {
          "output_type": "execute_result",
          "data": {
            "text/plain": [
              "<Axes: xlabel='Samples', ylabel='Counts'>"
            ]
          },
          "metadata": {},
          "execution_count": 35
        }
      ],
      "source": [
        "#Сформируем полный список токенов\n",
        "all_strings = \" \".join(data.cleaned)\n",
        "all_tokens = all_strings.split()\n",
        "\n",
        "#Преобразуем список токенов к типу Text\n",
        "text = nltk.Text(all_tokens)\n",
        "\n",
        "#Расчитываем частотность текста\n",
        "fdist = FreqDist(text)\n",
        "\n",
        "#Наиболее часто встречающиеся слова\n",
        "display(fdist.most_common(5))\n",
        "\n",
        "#График частот для наиболее часто встречающихся слов\n",
        "fdist.plot(30,cumulative=False)"
      ]
    },
    {
      "cell_type": "markdown",
      "metadata": {
        "id": "R1cPip_xiSLJ"
      },
      "source": [
        "### Облако слов"
      ]
    },
    {
      "cell_type": "code",
      "execution_count": 36,
      "metadata": {
        "id": "R2kiKNqViSLJ"
      },
      "outputs": [],
      "source": [
        "try:\n",
        "    or_im = Image.open('cloud.jpg')\n",
        "    image = or_im.resize([2000,2000], Image.ANTIALIAS)\n",
        "    image = np.array(image)\n",
        "    wordcloud = WordCloud(width = 1000, height = 1000, background_color = 'white', colormap = 'Set2', collocations = False, mask = image).generate(all_strings) \n",
        "except:\n",
        "    wordcloud = WordCloud(width = 1000, height = 1000, background_color = 'white', colormap = 'Set2', collocations = False).generate(all_strings) \n",
        "    "
      ]
    },
    {
      "cell_type": "code",
      "execution_count": 37,
      "metadata": {
        "colab": {
          "base_uri": "https://localhost:8080/",
          "height": 453
        },
        "id": "VL9H1MzziSLJ",
        "outputId": "5e33241b-7458-4475-ae0a-99d529598a1d"
      },
      "outputs": [
        {
          "output_type": "execute_result",
          "data": {
            "text/plain": [
              "<matplotlib.image.AxesImage at 0x7fc527308280>"
            ]
          },
          "metadata": {},
          "execution_count": 37
        },
        {
          "output_type": "display_data",
          "data": {
            "text/plain": [
              "<Figure size 640x480 with 1 Axes>"
            ],
            "image/png": "[encoded data removed]"
          },
          "metadata": {}
        }
      ],
      "source": [
        "plt.imshow(wordcloud )"
      ]
    },
    {
      "cell_type": "markdown",
      "metadata": {
        "id": "FzsshZq0B8GB"
      },
      "source": [
        "## Подготовка данных для обучения"
      ]
    },
    {
      "cell_type": "markdown",
      "metadata": {
        "id": "atbVlKW8NJ3S"
      },
      "source": [
        "### Расчет или считывание признаков, полученных через BERT"
      ]
    },
    {
      "cell_type": "markdown",
      "metadata": {
        "id": "l23Zp3HT5k47"
      },
      "source": [
        "Так как расчет эмбендингов моделью BERT ресурсо затратный и длительный процесс в тетрадке реализована возможность учета расчитанных ранее результатов.\n",
        "*   Если необходимо выполнить вычисления -> выбираем \"Расчитывать эмбендинги\"\n",
        "*   Если необходимо посмотреть ранее рассчитанные резутльтаты -> выбираем \"Считать эмбендинги из файла\"\n",
        "*   Если нет необходимости в BERT -> выбираем \"BERT не нужен\" (значение по-умолчанию)"
      ]
    },
    {
      "cell_type": "code",
      "execution_count": 38,
      "metadata": {
        "id": "YlDXw_ZK6lhV",
        "colab": {
          "base_uri": "https://localhost:8080/",
          "height": 68,
          "referenced_widgets": [
            "4e5dc14cd9444673a80248eec897bc4e",
            "d6315fc1c6d7424294ef766bf1cb60a0",
            "7cf7f2d65cfb4421989b4957552329a3"
          ]
        },
        "outputId": "d0e81a87-5619-40bf-b0a7-99ff03330a22"
      },
      "outputs": [
        {
          "output_type": "display_data",
          "data": {
            "text/plain": [
              "'Тактика расчета эмбендингов'"
            ],
            "application/vnd.google.colaboratory.intrinsic+json": {
              "type": "string"
            }
          },
          "metadata": {}
        },
        {
          "output_type": "display_data",
          "data": {
            "text/plain": [
              "Dropdown(description='Выбор:', options=(('BERT не нужен', 0), ('Считать эмбендинги из файла', 1), ('Расчитыват…"
            ],
            "application/vnd.jupyter.widget-view+json": {
              "version_major": 2,
              "version_minor": 0,
              "model_id": "4e5dc14cd9444673a80248eec897bc4e"
            }
          },
          "metadata": {}
        }
      ],
      "source": [
        "display(\"Тактика расчета эмбендингов\")\n",
        "display(cbox_bert)"
      ]
    },
    {
      "cell_type": "code",
      "execution_count": 39,
      "metadata": {
        "id": "e_XRgZZ7NgAR",
        "colab": {
          "base_uri": "https://localhost:8080/"
        },
        "outputId": "fd592297-9777-4c36-a922-6babcfba1ca6"
      },
      "outputs": [
        {
          "output_type": "stream",
          "name": "stdout",
          "text": [
            "Работаем без BERT\n"
          ]
        }
      ],
      "source": [
        "bert_state = cbox_cross_bert.value\n",
        "#Считыванием заранее расчитанные эмбендинги\n",
        "if bert_state == 1:\n",
        "    try:\n",
        "        X_data = pd.read_csv(\"calc_emb.csv\")\n",
        "    except:\n",
        "        #Читаем с google-диска\n",
        "        X_data = read_embendings()\n",
        "    bert_data = X_data.drop('Unnamed: 0', axis = 1, errors = 'ignore')\n",
        "\n",
        "#Расчитываем эмбендинги\n",
        "elif bert_state == 2:\n",
        "    #Расчитываем входной вектор и маску\n",
        "    bert_data = copy.deepcopy(data)\n",
        "    padded, attention_mask = prepare_calc_embendings(bert_data, 'cleaned', tokenizer)\n",
        "    del bert_data\n",
        "    \n",
        "    #Расчитываем эмбендинги BERT-моделью\n",
        "    last_hidden_states = calc_embenings(10, padded, attention_mask)\n",
        "    del padded\n",
        "    del attention_mask\n",
        "    \n",
        "    #Формируем из эмбендингов ДФ\n",
        "    bert_data = pd.DataFrame(np.concatenate(last_hidden_states))\n",
        "    bert_data['toxic'] = data.toxic[:bert_data.shape[0]]\n",
        "    \n",
        "    #Записываем ДФ с эмбендингами в csv файл\n",
        "    bert_data.to_csv(\"calc_emb.csv\")\n",
        "\n",
        "#Ничего не делаем\n",
        "else:\n",
        "    print(\"Работаем без BERT\")"
      ]
    },
    {
      "cell_type": "markdown",
      "metadata": {
        "id": "Me1-xdUWEnGm"
      },
      "source": [
        "### Разделение на обучающую и тестовую выборки"
      ]
    },
    {
      "cell_type": "markdown",
      "metadata": {
        "id": "F-aQpoblAXqt"
      },
      "source": [
        "Для сохранения постоянного(одинакового) дисбаланса классов во всех выборках применим параметр stratify = data.toxic"
      ]
    },
    {
      "cell_type": "code",
      "execution_count": 40,
      "metadata": {
        "id": "Y-vivOX2EujG"
      },
      "outputs": [],
      "source": [
        "train_f, test_f, train_t, test_t = \\\n",
        "train_test_split(data.drop('toxic', axis = 1), data.toxic, \\\n",
        "                 test_size = 0.1, random_state = RAND_ST, shuffle = True, stratify = data.toxic)"
      ]
    },
    {
      "cell_type": "code",
      "execution_count": 41,
      "metadata": {
        "id": "oSxkFVlcw4iz"
      },
      "outputs": [],
      "source": [
        "if bert_state != 0:\n",
        "    train_bert, test_bert, train_tbert, test_tbert = \\\n",
        "      train_test_split(bert_data.drop(['toxic', 'Unnamed: 0'], axis = 1, errors = 'ignore'), bert_data.toxic,  test_size = 0.1, random_state = RAND_ST, shuffle = True)\n",
        "else:\n",
        "    \"Работаем без BERT\""
      ]
    },
    {
      "cell_type": "markdown",
      "metadata": {
        "id": "4hkEXcB6OC1z"
      },
      "source": [
        "## Дообработка текста"
      ]
    },
    {
      "cell_type": "markdown",
      "metadata": {
        "id": "Hh0OuPs0PUQx"
      },
      "source": [
        "### Расчет  TF-IDF"
      ]
    },
    {
      "cell_type": "code",
      "execution_count": 42,
      "metadata": {
        "id": "4OuKRC-2iSLZ"
      },
      "outputs": [],
      "source": [
        "#Создаем объект счетчика TF-IDF\n",
        "counter = TfidfVectorizer(stop_words = STOP_EN, min_df = 39) \n",
        "\n",
        "#Обучаем счетчик на обучающей выборке\n",
        "counter.fit(train_f['cleaned'])\n",
        "\n",
        "#Расчет TF-IDF на обучающей выборке\n",
        "tfidf_train = counter.transform(train_f['cleaned'])\n",
        "\n",
        "#Расчет TF-IDF на тестовой выборке\n",
        "tfidf_test = counter.transform(test_f['cleaned'])"
      ]
    },
    {
      "cell_type": "markdown",
      "metadata": {
        "id": "jEKe1E1hAfJN"
      },
      "source": [
        "Размерность матрицы признаков (TF-IDF) получилась невероятно большая. Чтобы вычислительных мощностей хватило обработать признаки и обучить модели классификации, снизим размер матрицы признаков, удалив редко встречающиеся словосочетания."
      ]
    },
    {
      "cell_type": "markdown",
      "metadata": {
        "id": "ayrm_lZsFnHH"
      },
      "source": [
        "## Подбор моделей без BERT"
      ]
    },
    {
      "cell_type": "markdown",
      "metadata": {
        "id": "CaKwW7_U3Fbb"
      },
      "source": [
        "Так как подбор гиперпараметров моделей через кросс-валидацию занимает в среднем 1.5 часа на каждую модель в тетрадке реализована возможность учета расчитанных ранее результатов.\n",
        "*   Если необходимо выполнить вычисления -> выбираем \"Cчитать заново\"\n",
        "*   Если необходимо посмотреть ранее рассчитанные резутльтаты -> выбираем \"Учесть ранее рассчитанные результаты\"\n",
        "\n",
        "\n",
        "\n",
        "\n",
        "\n"
      ]
    },
    {
      "cell_type": "code",
      "execution_count": 43,
      "metadata": {
        "id": "cLpVBqWYzc13",
        "colab": {
          "base_uri": "https://localhost:8080/",
          "height": 68,
          "referenced_widgets": [
            "c6f450cc4a824c6cb52b57b33982253d",
            "0af914d9391b4913bab21eef78d4513f",
            "ab678f905cff4a63813786d6d50e24ad"
          ]
        },
        "outputId": "652071da-8f3b-4e83-cd69-0ddfc74639ad"
      },
      "outputs": [
        {
          "output_type": "display_data",
          "data": {
            "text/plain": [
              "'Тактика расчета кросс-валидации LogisticRegression'"
            ],
            "application/vnd.google.colaboratory.intrinsic+json": {
              "type": "string"
            }
          },
          "metadata": {}
        },
        {
          "output_type": "display_data",
          "data": {
            "text/plain": [
              "Dropdown(description='Выбор:', options=(('Учесть ранее рассчитанные результаты', 0), ('Cчитать заново', 1)), v…"
            ],
            "application/vnd.jupyter.widget-view+json": {
              "version_major": 2,
              "version_minor": 0,
              "model_id": "c6f450cc4a824c6cb52b57b33982253d"
            }
          },
          "metadata": {}
        }
      ],
      "source": [
        "display(\"Тактика расчета кросс-валидации LogisticRegression\")\n",
        "display(cbox_cross_lr)"
      ]
    },
    {
      "cell_type": "markdown",
      "metadata": {
        "id": "zyllIzsZKPiY"
      },
      "source": [
        "### LogisticRegression"
      ]
    },
    {
      "cell_type": "code",
      "execution_count": 44,
      "metadata": {
        "colab": {
          "base_uri": "https://localhost:8080/",
          "height": 64
        },
        "id": "cuF1dIldLgeZ",
        "outputId": "ddda227c-7380-47f1-e275-40954ef2f7a9"
      },
      "outputs": [
        {
          "output_type": "display_data",
          "data": {
            "text/plain": [
              "<IPython.core.display.Markdown object>"
            ],
            "text/markdown": "\n **Ячейка не выполняется**.   Ранее полученные на этапе кросс-валидации результы зафиксированы в разделе \"Сравнение моделей\" и представлены ниже:  Mean fit time: 38.042 s \n  Mean predict time: 2.7065 s \n  mean F1: 0.7776"
          },
          "metadata": {}
        }
      ],
      "source": [
        "comp_state = cbox_cross_lr.value\n",
        "if comp_state == 1:\n",
        "\n",
        "    lr_model = LogisticRegression(random_state = RAND_ST)\n",
        "    lr_params = [{ 'tfidf__min_df': [38, 39],\n",
        "                   'model__C': [8, 9, 10],\n",
        "                   'model__penalty': ['l2'],\n",
        "                   'model__max_iter': [1000]\n",
        "                   }] \n",
        "\n",
        "    (lr_grid, times) = search_best_params(train_f.cleaned, train_t, lr_model, lr_params, STOP_EN)\n",
        "\n",
        "    #Заполняем Словарь с результатами\n",
        "    rez = {'step': 'train', 'model_name': 'LogisticRegression', \n",
        "       'F1': lr_grid.best_score_, 'fit_time': times[1], 'predict_time': times[2], 'grid_time': times[0]}\n",
        "else:\n",
        "    #Заполняем Словарь с результатами\n",
        "    rez = {'step': 'train', 'model_name': 'LogisticRegression', \n",
        "       'F1': 0.7776, 'fit_time': 38.042, 'predict_time': 2.7065, \n",
        "       'grid_time': 499.7288}\n",
        "\n",
        "    display(Markdown(f'\\n **Ячейка не выполняется**. \\\n",
        "  Ранее полученные на этапе кросс-валидации результы зафиксированы в разделе \"Сравнение моделей\" и представлены ниже:\\\n",
        "  Mean fit time: {rez[\"fit_time\"]} s \\n\\\n",
        "  Mean predict time: {rez[\"predict_time\"]} s \\n\\\n",
        "  mean F1: {rez[\"F1\"]}')) \n",
        "\n",
        "results = write_results(rez)"
      ]
    },
    {
      "cell_type": "markdown",
      "metadata": {
        "id": "mwz6gPH9FqfP"
      },
      "source": [
        "### RandomForestClassifier"
      ]
    },
    {
      "cell_type": "code",
      "execution_count": 45,
      "metadata": {
        "colab": {
          "referenced_widgets": [
            "8ef137695dec4777b4f7c71422219f51",
            "a1517c5275d04b8d94b5b0d4e89faba2",
            "534f073397434787b95fa644063e28cd"
          ],
          "base_uri": "https://localhost:8080/",
          "height": 68
        },
        "id": "lzJEBU3UbKqO",
        "outputId": "4b100b5c-8b6c-455b-9185-6aa1278de097"
      },
      "outputs": [
        {
          "output_type": "display_data",
          "data": {
            "text/plain": [
              "'Тактика расчета кросс-валидации RandomForestClassifier'"
            ],
            "application/vnd.google.colaboratory.intrinsic+json": {
              "type": "string"
            }
          },
          "metadata": {}
        },
        {
          "output_type": "display_data",
          "data": {
            "text/plain": [
              "Dropdown(description='Выбор:', options=(('Учесть ранее рассчитанные результаты', 0), ('Cчитать заново', 1)), v…"
            ],
            "application/vnd.jupyter.widget-view+json": {
              "version_major": 2,
              "version_minor": 0,
              "model_id": "8ef137695dec4777b4f7c71422219f51"
            }
          },
          "metadata": {}
        }
      ],
      "source": [
        "display(\"Тактика расчета кросс-валидации RandomForestClassifier\")\n",
        "display(cbox_cross_rf)"
      ]
    },
    {
      "cell_type": "code",
      "execution_count": 46,
      "metadata": {
        "colab": {
          "base_uri": "https://localhost:8080/",
          "height": 64
        },
        "id": "0VoctxHeFvO3",
        "outputId": "29457355-3df5-41a4-d50a-b8dd349b2af1"
      },
      "outputs": [
        {
          "output_type": "display_data",
          "data": {
            "text/plain": [
              "<IPython.core.display.Markdown object>"
            ],
            "text/markdown": "\n **Ячейка не выполняется**.   Ранее полученные на этапе кросс-валидации результы зафиксированы в разделе \"Сравнение моделей\" и представлены ниже:  Mean fit time: 275.089 s \n  Mean predict time: 0.1516 s \n  mean F1: 0.7322"
          },
          "metadata": {}
        }
      ],
      "source": [
        "comp_state = cbox_cross_lr.value\n",
        "if comp_state == 1:\n",
        "    rf_model = RandomForestClassifier(random_state = RAND_ST)\n",
        "    rf_params = [{\n",
        "                   'tfidf__min_df': [30, 35, 38, 39],\n",
        "                   'model__n_estimators': range(100, 150, 50), \n",
        "                   'model__min_samples_split': range(2, 4, 2), \\\n",
        "                   'model__min_samples_leaf': range(5, 10, 2)\n",
        "                    }] \n",
        "\n",
        "    (rf_grid, times) = search_best_params(train_f.cleaned, train_t, rf_model, rf_params, STOP_EN)\n",
        "\n",
        "    #Заполняем Словарь с результатами\n",
        "    rez = {'step': 'train', 'model_name': 'RandomForestClassifier', \n",
        "       'F1': rf_grid.best_score_, 'fit_time': times[1], 'predict_time': times[2],\n",
        "       'grid_time': times[0]}\n",
        "\n",
        "    results = write_results(rez, results)\n",
        "\n",
        "else:\n",
        "    rez = {'step': 'train', 'model_name': 'RandomForestClassifier', \n",
        "       'F1': 0.7322, 'fit_time': 275.089, 'predict_time': .1516, 'grid_time': 2347.732}\n",
        "  \n",
        "    display(Markdown(f'\\n **Ячейка не выполняется**. \\\n",
        "  Ранее полученные на этапе кросс-валидации результы зафиксированы в разделе \"Сравнение моделей\" и представлены ниже:\\\n",
        "  Mean fit time: {rez[\"fit_time\"]} s \\n\\\n",
        "  Mean predict time: {rez[\"predict_time\"]} s \\n\\\n",
        "  mean F1: {rez[\"F1\"]}')) \n",
        "\n",
        "results = write_results(rez, results)\n",
        "#{'model__min_samples_leaf': 5, 'model__min_samples_split': 2, 'model__n_estimators': 100, 'tfidf__min_df': 39}"
      ]
    },
    {
      "cell_type": "markdown",
      "metadata": {
        "id": "LVawznH3ejaK"
      },
      "source": [
        "### LightGBM"
      ]
    },
    {
      "cell_type": "code",
      "execution_count": 47,
      "metadata": {
        "colab": {
          "referenced_widgets": [
            "af15e6b82d5a438b93859d53b8f0f2f8",
            "2440e8598d3843feb1a87ad034b9c806",
            "a3a5dda1f9f44de999321daa23d88228"
          ],
          "base_uri": "https://localhost:8080/",
          "height": 68
        },
        "id": "1dFiW3fabKqO",
        "outputId": "2e559c54-2782-4401-e458-9c9bf6eb87b5"
      },
      "outputs": [
        {
          "output_type": "display_data",
          "data": {
            "text/plain": [
              "'Тактика расчета кросс-валидации LightGBM'"
            ],
            "application/vnd.google.colaboratory.intrinsic+json": {
              "type": "string"
            }
          },
          "metadata": {}
        },
        {
          "output_type": "display_data",
          "data": {
            "text/plain": [
              "Dropdown(description='Выбор:', options=(('Учесть ранее рассчитанные результаты', 0), ('Cчитать заново', 1)), v…"
            ],
            "application/vnd.jupyter.widget-view+json": {
              "version_major": 2,
              "version_minor": 0,
              "model_id": "af15e6b82d5a438b93859d53b8f0f2f8"
            }
          },
          "metadata": {}
        }
      ],
      "source": [
        "display(\"Тактика расчета кросс-валидации LightGBM\")\n",
        "display(cbox_cross_gbm)"
      ]
    },
    {
      "cell_type": "code",
      "execution_count": 48,
      "metadata": {
        "colab": {
          "base_uri": "https://localhost:8080/",
          "height": 64
        },
        "id": "Sz2dNgbfdvxU",
        "outputId": "011c877a-c4ac-46bc-eea0-6f1aeb42465f"
      },
      "outputs": [
        {
          "output_type": "display_data",
          "data": {
            "text/plain": [
              "<IPython.core.display.Markdown object>"
            ],
            "text/markdown": "\n **Ячейка не выполняется**.   Ранее полученные на этапе кросс-валидации результы зафиксированы в разделе \"Сравнение моделей\" и представлены ниже:  Mean fit time: 684.615 s \n  Mean predict time: 16.413 s \n  mean F1: 0.774"
          },
          "metadata": {}
        }
      ],
      "source": [
        "comp_state = cbox_cross_gbm.value\n",
        "if comp_state == 1:\n",
        "\n",
        "    gbm_model = LGBMClassifier(objective = 'binary', is_unbalance = True, random_state = RAND_ST)\n",
        "    gbm_params = {'model__learning_rate': [ 0.2],\n",
        "                  'model__num_leaves': [60, 70],\n",
        "                  'model__n_estimators': [400, 500],\n",
        "                  'model__boosting_type': ['gbdt']\n",
        "                  }\n",
        "\n",
        "    (gbm_grid, times) = search_best_params(train_f.cleaned, train_t, gbm_model, gbm_params, STOP_EN)\n",
        "\n",
        "  #Заполняем Словарь с результатами\n",
        "    rez = {'step': 'train', 'model_name': 'LightGBM', \n",
        "       'F1': gbm_grid.best_score_, 'fit_time': times[1], 'predict_time': times[2], 'grid_time': times[0]}\n",
        "\n",
        "    results = write_results(rez, results)\n",
        "\n",
        "else:\n",
        "    rez = {'step': 'train', 'model_name': 'LightGBM', \n",
        "       'F1':0.7740, 'fit_time': 684.615, 'predict_time': 16.413, 'grid_time': 2538.381}\n",
        "       \n",
        "    display(Markdown(f'\\n **Ячейка не выполняется**. \\\n",
        "  Ранее полученные на этапе кросс-валидации результы зафиксированы в разделе \"Сравнение моделей\" и представлены ниже:\\\n",
        "  Mean fit time: {rez[\"fit_time\"]} s \\n\\\n",
        "  Mean predict time: {rez[\"predict_time\"]} s \\n\\\n",
        "  mean F1: {rez[\"F1\"]}'))\n",
        "\n",
        "results = write_results(rez, results)\n",
        "#best params: {'model__learning_rate': 0.3, 'model__max_depth': 20}"
      ]
    },
    {
      "cell_type": "markdown",
      "metadata": {
        "id": "hxQugl5LBo_F"
      },
      "source": [
        "## Расчет линейной регрессии с BERT"
      ]
    },
    {
      "cell_type": "code",
      "execution_count": 49,
      "metadata": {
        "colab": {
          "referenced_widgets": [
            "a09d80e076d8483ead313171c6fd8b7d",
            "2a015b6ca7464e01a3733f2897c8213e",
            "4cbf24db1c3f4fcf9da5c9dd4c285fdb"
          ],
          "base_uri": "https://localhost:8080/",
          "height": 68
        },
        "id": "Ro0C3e1NbKqO",
        "outputId": "91e0f0da-5044-43f4-bf21-b5cc1af637ca",
        "tags": []
      },
      "outputs": [
        {
          "output_type": "display_data",
          "data": {
            "text/plain": [
              "'Тактика расчета кросс-валидации'"
            ],
            "application/vnd.google.colaboratory.intrinsic+json": {
              "type": "string"
            }
          },
          "metadata": {}
        },
        {
          "output_type": "display_data",
          "data": {
            "text/plain": [
              "Dropdown(description='Выбор:', options=(('Учесть ранее рассчитанные результаты', 0), ('Cчитать заново', 1)), v…"
            ],
            "application/vnd.jupyter.widget-view+json": {
              "version_major": 2,
              "version_minor": 0,
              "model_id": "a09d80e076d8483ead313171c6fd8b7d"
            }
          },
          "metadata": {}
        }
      ],
      "source": [
        "display(\"Тактика расчета кросс-валидации\")\n",
        "display(cbox_cross_bert)"
      ]
    },
    {
      "cell_type": "code",
      "execution_count": 50,
      "metadata": {
        "colab": {
          "base_uri": "https://localhost:8080/",
          "height": 64
        },
        "id": "lZZ0tjb3Byh2",
        "outputId": "3eba6ea0-ca27-4e89-df4e-ffd8d261a4b7"
      },
      "outputs": [
        {
          "output_type": "display_data",
          "data": {
            "text/plain": [
              "<IPython.core.display.Markdown object>"
            ],
            "text/markdown": "\n **Ячейка не выполняется**.   Ранее полученные на этапе кросс-валидации результы зафиксированы в разделе \"Сравнение моделей\" и представлены ниже:  Mean fit time: 16.75 s \n  Mean predict time: 0.017 s \n  mean F1: 0.498"
          },
          "metadata": {}
        }
      ],
      "source": [
        "### Надо менять из-за добавления pipline\n",
        "comp_state = cbox_cross_bert.value\n",
        "if comp_state == 1 and bert_state != 0:\n",
        "    bert_lr_model = LogisticRegression()\n",
        "    bert_lr_params = {'random_state' : [RAND_ST], 'max_iter': [1000]}\n",
        "\n",
        "    (bert_lr_grid, times, F1) = search_best_params(train_bert, train_tbert, bert_lr_model, bert_lr_params, RAND_ST, STOP_EN)\n",
        "\n",
        "  #Заполняем Словарь с результатами\n",
        "    rez = {'step': 'train', 'model_name': 'LogisticRegression (bert)', \n",
        "       'F1': F1, 'fit_time': times[1], 'predict_time': times[2], 'grid_time': times[0]}\n",
        "else:\n",
        "    #Заполняем Словарь с результатами\n",
        "    rez = {'step': 'train', 'model_name': 'LogisticRegression (bert)', \n",
        "       'F1': 0.498, 'fit_time': 16.75, 'predict_time': 0.017, \n",
        "       'grid_time': 590.344}\n",
        "\n",
        "    display(Markdown(f'\\n **Ячейка не выполняется**. \\\n",
        "  Ранее полученные на этапе кросс-валидации результы зафиксированы в разделе \"Сравнение моделей\" и представлены ниже:\\\n",
        "  Mean fit time: {rez[\"fit_time\"]} s \\n\\\n",
        "  Mean predict time: {rez[\"predict_time\"]} s \\n\\\n",
        "  mean F1: {rez[\"F1\"]}')) \n",
        "\n",
        "results = write_results(rez, results)"
      ]
    },
    {
      "cell_type": "markdown",
      "metadata": {
        "id": "RgermC05ND-w"
      },
      "source": [
        "## Сравнение моделей"
      ]
    },
    {
      "cell_type": "code",
      "execution_count": 51,
      "metadata": {
        "colab": {
          "base_uri": "https://localhost:8080/",
          "height": 408
        },
        "id": "e80ugKdwNE0D",
        "outputId": "93d699be-e122-4688-9746-aa3f612f133c"
      },
      "outputs": [
        {
          "output_type": "display_data",
          "data": {
            "text/plain": [
              "<Figure size 1500x500 with 1 Axes>"
            ],
            "image/png": "[encoded data removed]"
          },
          "metadata": {}
        }
      ],
      "source": [
        "df_results = pd.DataFrame(results)\n",
        "fig, axes = plt.subplots(nrows = 1, ncols = 1, sharey = False, figsize = (15, 5))\n",
        "fig.suptitle('Распределение характеристик моделей', fontsize=12, fontweight='bold');\n",
        "sns.scatterplot(y =  df_results.F1, x = df_results.model_name, ax = axes, hue = df_results.step);\n",
        "\n",
        "axes.set_xlabel(\"Название модели\");\n",
        "axes.set_ylabel(\"F1\");\n",
        "axes.set(title = \"F1 моделей\");"
      ]
    },
    {
      "cell_type": "code",
      "execution_count": 52,
      "metadata": {
        "id": "Ll8S9KgfbKqO",
        "outputId": "cd902103-4dcb-4ad8-c991-42508526b35d",
        "tags": [],
        "colab": {
          "base_uri": "https://localhost:8080/",
          "height": 175
        }
      },
      "outputs": [
        {
          "output_type": "display_data",
          "data": {
            "text/plain": [
              "    step                 model_name      F1  fit_time  predict_time  \\\n",
              "0  train         LogisticRegression  0.7776    38.042        2.7065   \n",
              "2  train                   LightGBM  0.7740   684.615       16.4130   \n",
              "1  train     RandomForestClassifier  0.7322   275.089        0.1516   \n",
              "3  train  LogisticRegression (bert)  0.4980    16.750        0.0170   \n",
              "\n",
              "  feature_importances  grid_time  \n",
              "0                None   499.7288  \n",
              "2                None  2538.3810  \n",
              "1                None  2347.7320  \n",
              "3                None   590.3440  "
            ],
            "text/html": [
              "\n",
              "  <div id=\"df-cd826ed0-6c38-47aa-9e9a-8a99860395b3\">\n",
              "    <div class=\"colab-df-container\">\n",
              "      <div>\n",
              "<style scoped>\n",
              "    .dataframe tbody tr th:only-of-type {\n",
              "        vertical-align: middle;\n",
              "    }\n",
              "\n",
              "    .dataframe tbody tr th {\n",
              "        vertical-align: top;\n",
              "    }\n",
              "\n",
              "    .dataframe thead th {\n",
              "        text-align: right;\n",
              "    }\n",
              "</style>\n",
              "<table border=\"1\" class=\"dataframe\">\n",
              "  <thead>\n",
              "    <tr style=\"text-align: right;\">\n",
              "      <th></th>\n",
              "      <th>step</th>\n",
              "      <th>model_name</th>\n",
              "      <th>F1</th>\n",
              "      <th>fit_time</th>\n",
              "      <th>predict_time</th>\n",
              "      <th>feature_importances</th>\n",
              "      <th>grid_time</th>\n",
              "    </tr>\n",
              "  </thead>\n",
              "  <tbody>\n",
              "    <tr>\n",
              "      <th>0</th>\n",
              "      <td>train</td>\n",
              "      <td>LogisticRegression</td>\n",
              "      <td>0.7776</td>\n",
              "      <td>38.042</td>\n",
              "      <td>2.7065</td>\n",
              "      <td>None</td>\n",
              "      <td>499.7288</td>\n",
              "    </tr>\n",
              "    <tr>\n",
              "      <th>2</th>\n",
              "      <td>train</td>\n",
              "      <td>LightGBM</td>\n",
              "      <td>0.7740</td>\n",
              "      <td>684.615</td>\n",
              "      <td>16.4130</td>\n",
              "      <td>None</td>\n",
              "      <td>2538.3810</td>\n",
              "    </tr>\n",
              "    <tr>\n",
              "      <th>1</th>\n",
              "      <td>train</td>\n",
              "      <td>RandomForestClassifier</td>\n",
              "      <td>0.7322</td>\n",
              "      <td>275.089</td>\n",
              "      <td>0.1516</td>\n",
              "      <td>None</td>\n",
              "      <td>2347.7320</td>\n",
              "    </tr>\n",
              "    <tr>\n",
              "      <th>3</th>\n",
              "      <td>train</td>\n",
              "      <td>LogisticRegression (bert)</td>\n",
              "      <td>0.4980</td>\n",
              "      <td>16.750</td>\n",
              "      <td>0.0170</td>\n",
              "      <td>None</td>\n",
              "      <td>590.3440</td>\n",
              "    </tr>\n",
              "  </tbody>\n",
              "</table>\n",
              "</div>\n",
              "      <button class=\"colab-df-convert\" onclick=\"convertToInteractive('df-cd826ed0-6c38-47aa-9e9a-8a99860395b3')\"\n",
              "              title=\"Convert this dataframe to an interactive table.\"\n",
              "              style=\"display:none;\">\n",
              "        \n",
              "  <svg xmlns=\"http://www.w3.org/2000/svg\" height=\"24px\"viewBox=\"0 0 24 24\"\n",
              "       width=\"24px\">\n",
              "    <path d=\"M0 0h24v24H0V0z\" fill=\"none\"/>\n",
              "    <path d=\"M18.56 5.44l.94 2.06.94-2.06 2.06-.94-2.06-.94-.94-2.06-.94 2.06-2.06.94zm-11 1L8.5 8.5l.94-2.06 2.06-.94-2.06-.94L8.5 2.5l-.94 2.06-2.06.94zm10 10l.94 2.06.94-2.06 2.06-.94-2.06-.94-.94-2.06-.94 2.06-2.06.94z\"/><path d=\"M17.41 7.96l-1.37-1.37c-.4-.4-.92-.59-1.43-.59-.52 0-1.04.2-1.43.59L10.3 9.45l-7.72 7.72c-.78.78-.78 2.05 0 2.83L4 21.41c.39.39.9.59 1.41.59.51 0 1.02-.2 1.41-.59l7.78-7.78 2.81-2.81c.8-.78.8-2.07 0-2.86zM5.41 20L4 18.59l7.72-7.72 1.47 1.35L5.41 20z\"/>\n",
              "  </svg>\n",
              "      </button>\n",
              "      \n",
              "  <style>\n",
              "    .colab-df-container {\n",
              "      display:flex;\n",
              "      flex-wrap:wrap;\n",
              "      gap: 12px;\n",
              "    }\n",
              "\n",
              "    .colab-df-convert {\n",
              "      background-color: #E8F0FE;\n",
              "      border: none;\n",
              "      border-radius: 50%;\n",
              "      cursor: pointer;\n",
              "      display: none;\n",
              "      fill: #1967D2;\n",
              "      height: 32px;\n",
              "      padding: 0 0 0 0;\n",
              "      width: 32px;\n",
              "    }\n",
              "\n",
              "    .colab-df-convert:hover {\n",
              "      background-color: #E2EBFA;\n",
              "      box-shadow: 0px 1px 2px rgba(60, 64, 67, 0.3), 0px 1px 3px 1px rgba(60, 64, 67, 0.15);\n",
              "      fill: #174EA6;\n",
              "    }\n",
              "\n",
              "    [theme=dark] .colab-df-convert {\n",
              "      background-color: #3B4455;\n",
              "      fill: #D2E3FC;\n",
              "    }\n",
              "\n",
              "    [theme=dark] .colab-df-convert:hover {\n",
              "      background-color: #434B5C;\n",
              "      box-shadow: 0px 1px 3px 1px rgba(0, 0, 0, 0.15);\n",
              "      filter: drop-shadow(0px 1px 2px rgba(0, 0, 0, 0.3));\n",
              "      fill: #FFFFFF;\n",
              "    }\n",
              "  </style>\n",
              "\n",
              "      <script>\n",
              "        const buttonEl =\n",
              "          document.querySelector('#df-cd826ed0-6c38-47aa-9e9a-8a99860395b3 button.colab-df-convert');\n",
              "        buttonEl.style.display =\n",
              "          google.colab.kernel.accessAllowed ? 'block' : 'none';\n",
              "\n",
              "        async function convertToInteractive(key) {\n",
              "          const element = document.querySelector('#df-cd826ed0-6c38-47aa-9e9a-8a99860395b3');\n",
              "          const dataTable =\n",
              "            await google.colab.kernel.invokeFunction('convertToInteractive',\n",
              "                                                     [key], {});\n",
              "          if (!dataTable) return;\n",
              "\n",
              "          const docLinkHtml = 'Like what you see? Visit the ' +\n",
              "            '<a target=\"_blank\" href=https://colab.research.google.com/notebooks/data_table.ipynb>data table notebook</a>'\n",
              "            + ' to learn more about interactive tables.';\n",
              "          element.innerHTML = '';\n",
              "          dataTable['output_type'] = 'display_data';\n",
              "          await google.colab.output.renderOutput(dataTable, element);\n",
              "          const docLink = document.createElement('div');\n",
              "          docLink.innerHTML = docLinkHtml;\n",
              "          element.appendChild(docLink);\n",
              "        }\n",
              "      </script>\n",
              "    </div>\n",
              "  </div>\n",
              "  "
            ]
          },
          "metadata": {}
        }
      ],
      "source": [
        "display(df_results.sort_values(by = 'F1', ascending = False))"
      ]
    },
    {
      "cell_type": "markdown",
      "metadata": {
        "id": "Num7qSmiNX27"
      },
      "source": [
        "### Вывод по результатам сравнения"
      ]
    },
    {
      "cell_type": "code",
      "execution_count": 53,
      "metadata": {
        "colab": {
          "base_uri": "https://localhost:8080/",
          "height": 70
        },
        "id": "4dp57cwuNdFh",
        "outputId": "6e81f3cc-4fd3-4637-e96b-cbf8d0956e45"
      },
      "outputs": [
        {
          "output_type": "display_data",
          "data": {
            "text/plain": [
              "<IPython.core.display.Markdown object>"
            ],
            "text/markdown": "\n По результатам сравнение метрик качества установлено, что лучшей моделью является **LogisticRegression**\n"
          },
          "metadata": {}
        },
        {
          "output_type": "display_data",
          "data": {
            "text/plain": [
              "<IPython.core.display.Markdown object>"
            ],
            "text/markdown": "\n c F1 на тренировочной выборке **0.7776.**\n"
          },
          "metadata": {}
        }
      ],
      "source": [
        "best_F1 = df_results.query('step == \"train\"').F1.max()\n",
        "best_model =  df_results.query('step == \"train\" and F1 == @best_F1')\n",
        "display(Markdown(f'\\n По результатам сравнение метрик качества установлено, \\\n",
        "что лучшей моделью является **{best_model.model_name.values[0]}**\\n'))    \n",
        "display(Markdown(f'\\n c F1 на тренировочной выборке **{best_model.F1.values[0]}.**\\n'))"
      ]
    },
    {
      "cell_type": "markdown",
      "metadata": {
        "id": "LJgPoV7ENtiH"
      },
      "source": [
        "## Тестирование"
      ]
    },
    {
      "cell_type": "code",
      "execution_count": 54,
      "metadata": {
        "colab": {
          "base_uri": "https://localhost:8080/"
        },
        "id": "pEY2xejhNztH",
        "outputId": "68b2d281-6322-438e-952b-4609fbdd28e8"
      },
      "outputs": [
        {
          "output_type": "stream",
          "name": "stdout",
          "text": [
            " test F1: 0.7784283513097072\n",
            "CPU times: user 6min 41s, sys: 1.52 s, total: 6min 42s\n",
            "Wall time: 6min 43s\n"
          ]
        }
      ],
      "source": [
        "%%time\n",
        "best_model = LGBMClassifier(objective = 'binary', is_unbalance = True, learning_rate = 0.2, num_leaves = 70,\\\n",
        "                            n_estimators = 500, boosting_type = 'gbdt')\n",
        "\n",
        "results = try_on_test(best_model, 'LGBMClassifier', \\\n",
        "                      tfidf_train, train_t, tfidf_test, test_t, results)"
      ]
    },
    {
      "cell_type": "markdown",
      "metadata": {
        "id": "iH__DdU0EfWR"
      },
      "source": [
        "### Визуализация результатов"
      ]
    },
    {
      "cell_type": "code",
      "execution_count": 55,
      "metadata": {
        "id": "WeDnI5SFOMyi"
      },
      "outputs": [],
      "source": [
        "#Предсказания в вероятностях\n",
        "y_score = best_model.predict_proba(tfidf_test)[:,1]"
      ]
    },
    {
      "cell_type": "code",
      "execution_count": 56,
      "metadata": {
        "id": "X93W2GuQbKqd",
        "outputId": "46e82a65-6ba3-4a7b-cbb8-ee69a6feb5f0",
        "tags": [],
        "colab": {
          "base_uri": "https://localhost:8080/",
          "height": 411
        }
      },
      "outputs": [
        {
          "output_type": "display_data",
          "data": {
            "text/plain": [
              "<Figure size 1500x500 with 1 Axes>"
            ],
            "image/png": "[encoded data removed]"
          },
          "metadata": {}
        }
      ],
      "source": [
        "#Roc-кривая\n",
        "fig, ax = plt.subplots(nrows=1, ncols=1, figsize = (15, 5))\n",
        "fpr, tpr, treshold = roc_curve(test_t, y_score)\n",
        "roc_auc = auc(fpr, tpr)\n",
        "ax.plot(fpr, tpr, color='darkorange',\n",
        "         label='ROC кривая (area = %0.2f)' % roc_auc)\n",
        "\n",
        "fig.suptitle('ROC кривая', fontsize=14, fontweight='bold');"
      ]
    },
    {
      "cell_type": "markdown",
      "metadata": {
        "id": "L3X_cR6kiXKe"
      },
      "source": [
        "## Выводы по результатам исследования\n",
        "Целью исследования было подготовить модель кластеризации комментариев (текстов) на токсичные и нетоксичные. Модель должна была быть разработана на основании заранее размеченного корпуса текстов (предостален в csv файле). Показателем качества модели требовалось принять F1-меру, которая должна быть не меньше 0.75 на тестовых данных. При выборе модели важна только точность предсказания.\n",
        "В процесе исследования:\n",
        "1.   Загружен корпус размеченных текстов \n",
        "2.   Исследованы загруженные данные\n",
        "3.   Выполнен EDA, включая:\n",
        "*   проверку корректности назначенных типов данных (ничего не меняли)\n",
        "*   удаление неинформативных столбцов ('Unnamed:0')\n",
        "*  изучение текстовой информации (тексты содержат излишне повторяющиеся символы, \"мусорные\" символы, строчные и прописные символы, пробелы)\n",
        "*  проверка сбалансированности целевой переменной (переменная не сбалансирована)\n",
        "4. Исключен дисбаланас целевой переменной за счет удаления части \"нетоксичных\" строк.\n",
        "5.   Проведена подготовка данных к машинному обучению, тексты отчищены:\n",
        "*  от повторяющих более 3-х раз подряд символов\n",
        "*  от мусорных символов (;$& и т.д.)\n",
        "*  от лишних пробелов\n",
        "*  от стоп-слов \n",
        "6.   Тексты лемматизированы\n",
        "7. Для текстов посчитаны матрицы TF-IDF (статистическая мера, используемая для оценки важности слова в контексте документа)\n",
        "8. Размерность матрицы снижена за счет удаления редких слов (менее 3 вхождений) \n",
        "9. Для текстов локально посчитаны и загружены через google-диск эмбендинги предъобученной модели BERT\n",
        "10. Подготовлены функции, автоматизирующие:\n",
        "*  предъобратотку текстов\n",
        "*  расчет, считывание и запись эмбендингов\n",
        "*  перебор гиперпараметров на основе метода GridSearch и кросс-валидации\n",
        "*  фиксацию результатоввычислений в отдельных ДФ\n",
        "11. Проведено машинное обучение, использованы модели:\n",
        "*  LogisticRegression\n",
        "*  RandomForestClassifier\n",
        "*  HistGradientBoostingClassifie\n",
        "*  KNeighborsClassifier\n",
        "12. Подобраны гиперпараметры для указанных моделей, оценена метрика качества, полученная на обучающей выборке, модель с оптимальными гиперпараметрами проверены на тестовой выборке.\n",
        "13. По результатам сравнение результатов, установлено, что лучшей моделью является LightGBM c F1 на тестовой выборке 0.78\n",
        "14. Результаты визуализированы ROC_AUC кривой"
      ]
    }
  ],
  "metadata": {
    "ExecuteTimeLog": [
      {
        "duration": 10,
        "start_time": "2023-02-15T12:53:33.747Z"
      },
      {
        "duration": 1213,
        "start_time": "2023-02-15T12:53:48.780Z"
      },
      {
        "duration": 10369,
        "start_time": "2023-02-15T12:54:01.966Z"
      },
      {
        "duration": 5454,
        "start_time": "2023-02-15T12:54:12.337Z"
      },
      {
        "duration": 0,
        "start_time": "2023-02-15T12:54:17.793Z"
      },
      {
        "duration": 0,
        "start_time": "2023-02-15T12:54:17.794Z"
      },
      {
        "duration": 0,
        "start_time": "2023-02-15T12:54:17.795Z"
      },
      {
        "duration": 4,
        "start_time": "2023-02-15T12:54:28.365Z"
      },
      {
        "duration": 4,
        "start_time": "2023-02-15T12:54:29.741Z"
      },
      {
        "duration": 4,
        "start_time": "2023-02-15T12:54:32.064Z"
      },
      {
        "duration": 3,
        "start_time": "2023-02-15T12:54:33.790Z"
      },
      {
        "duration": 3,
        "start_time": "2023-02-15T12:54:35.507Z"
      },
      {
        "duration": 5,
        "start_time": "2023-02-15T12:54:38.324Z"
      },
      {
        "duration": 5,
        "start_time": "2023-02-15T12:54:42.215Z"
      },
      {
        "duration": 3,
        "start_time": "2023-02-15T12:54:43.980Z"
      },
      {
        "duration": 3,
        "start_time": "2023-02-15T12:54:45.698Z"
      },
      {
        "duration": 5,
        "start_time": "2023-02-15T12:54:47.653Z"
      },
      {
        "duration": 3,
        "start_time": "2023-02-15T12:54:50.480Z"
      },
      {
        "duration": 19,
        "start_time": "2023-02-15T12:54:52.737Z"
      },
      {
        "duration": 17,
        "start_time": "2023-02-15T12:55:01.901Z"
      },
      {
        "duration": 345,
        "start_time": "2023-02-15T12:55:21.384Z"
      },
      {
        "duration": 635,
        "start_time": "2023-02-15T12:55:25.933Z"
      },
      {
        "duration": 3765,
        "start_time": "2023-02-15T12:55:28.031Z"
      },
      {
        "duration": 5,
        "start_time": "2023-02-15T12:55:46.603Z"
      },
      {
        "duration": 9,
        "start_time": "2023-02-15T12:55:51.178Z"
      },
      {
        "duration": 5,
        "start_time": "2023-02-15T12:56:38.619Z"
      },
      {
        "duration": 910591,
        "start_time": "2023-02-15T12:57:10.998Z"
      },
      {
        "duration": 7,
        "start_time": "2023-02-15T13:12:21.591Z"
      },
      {
        "duration": 39,
        "start_time": "2023-02-15T13:12:21.609Z"
      },
      {
        "duration": 0,
        "start_time": "2023-02-15T13:12:21.745Z"
      },
      {
        "duration": 7,
        "start_time": "2023-02-15T13:46:42.661Z"
      },
      {
        "duration": 4331,
        "start_time": "2023-02-15T13:49:46.681Z"
      },
      {
        "duration": 6001,
        "start_time": "2023-02-15T13:49:52.551Z"
      },
      {
        "duration": 403,
        "start_time": "2023-02-15T13:49:58.554Z"
      },
      {
        "duration": 654,
        "start_time": "2023-02-15T13:49:59.789Z"
      },
      {
        "duration": 3183,
        "start_time": "2023-02-15T13:50:03.242Z"
      },
      {
        "duration": 4,
        "start_time": "2023-02-15T13:50:13.069Z"
      },
      {
        "duration": 3,
        "start_time": "2023-02-15T13:50:14.740Z"
      },
      {
        "duration": 4,
        "start_time": "2023-02-15T13:50:16.753Z"
      },
      {
        "duration": 3,
        "start_time": "2023-02-15T13:50:18.796Z"
      },
      {
        "duration": 4,
        "start_time": "2023-02-15T13:50:20.501Z"
      },
      {
        "duration": 5,
        "start_time": "2023-02-15T13:50:24.319Z"
      },
      {
        "duration": 5,
        "start_time": "2023-02-15T13:50:29.194Z"
      },
      {
        "duration": 3,
        "start_time": "2023-02-15T13:50:31.238Z"
      },
      {
        "duration": 3,
        "start_time": "2023-02-15T13:50:32.989Z"
      },
      {
        "duration": 5,
        "start_time": "2023-02-15T13:50:35.584Z"
      },
      {
        "duration": 3,
        "start_time": "2023-02-15T13:50:37.658Z"
      },
      {
        "duration": 23,
        "start_time": "2023-02-15T13:50:44.137Z"
      },
      {
        "duration": 11,
        "start_time": "2023-02-15T13:50:47.297Z"
      },
      {
        "duration": 8,
        "start_time": "2023-02-15T13:50:48.768Z"
      },
      {
        "duration": 5,
        "start_time": "2023-02-15T13:50:50.918Z"
      },
      {
        "duration": 905762,
        "start_time": "2023-02-15T13:51:03.253Z"
      },
      {
        "duration": 43,
        "start_time": "2023-02-15T14:06:09.018Z"
      },
      {
        "duration": 77,
        "start_time": "2023-02-15T14:06:09.063Z"
      },
      {
        "duration": 69,
        "start_time": "2023-02-15T14:07:25.879Z"
      },
      {
        "duration": 53,
        "start_time": "2023-02-15T14:55:22.447Z"
      },
      {
        "duration": 54,
        "start_time": "2023-02-19T11:13:35.305Z"
      },
      {
        "duration": 0,
        "start_time": "2023-02-19T11:13:35.361Z"
      },
      {
        "duration": 0,
        "start_time": "2023-02-19T11:13:35.362Z"
      },
      {
        "duration": 0,
        "start_time": "2023-02-19T11:13:35.364Z"
      },
      {
        "duration": 0,
        "start_time": "2023-02-19T11:13:35.365Z"
      },
      {
        "duration": 0,
        "start_time": "2023-02-19T11:13:35.366Z"
      },
      {
        "duration": 0,
        "start_time": "2023-02-19T11:13:35.367Z"
      },
      {
        "duration": 0,
        "start_time": "2023-02-19T11:13:35.369Z"
      },
      {
        "duration": 0,
        "start_time": "2023-02-19T11:13:35.370Z"
      },
      {
        "duration": 0,
        "start_time": "2023-02-19T11:13:35.371Z"
      },
      {
        "duration": 0,
        "start_time": "2023-02-19T11:13:35.372Z"
      },
      {
        "duration": 0,
        "start_time": "2023-02-19T11:13:35.397Z"
      },
      {
        "duration": 0,
        "start_time": "2023-02-19T11:13:35.399Z"
      },
      {
        "duration": 9,
        "start_time": "2023-02-19T11:13:35.401Z"
      },
      {
        "duration": 0,
        "start_time": "2023-02-19T11:13:35.412Z"
      },
      {
        "duration": 16,
        "start_time": "2023-02-19T11:13:35.433Z"
      },
      {
        "duration": 0,
        "start_time": "2023-02-19T11:13:35.451Z"
      },
      {
        "duration": 0,
        "start_time": "2023-02-19T11:13:35.452Z"
      },
      {
        "duration": 0,
        "start_time": "2023-02-19T11:13:35.454Z"
      },
      {
        "duration": 9,
        "start_time": "2023-02-19T11:13:35.511Z"
      },
      {
        "duration": 0,
        "start_time": "2023-02-19T11:13:35.522Z"
      },
      {
        "duration": 0,
        "start_time": "2023-02-19T11:13:35.523Z"
      },
      {
        "duration": 10,
        "start_time": "2023-02-19T11:13:35.525Z"
      },
      {
        "duration": 0,
        "start_time": "2023-02-19T11:13:35.537Z"
      },
      {
        "duration": 0,
        "start_time": "2023-02-19T11:13:35.538Z"
      },
      {
        "duration": 0,
        "start_time": "2023-02-19T11:13:35.539Z"
      },
      {
        "duration": 65,
        "start_time": "2023-02-19T11:13:35.541Z"
      },
      {
        "duration": 6,
        "start_time": "2023-02-19T11:13:35.608Z"
      },
      {
        "duration": 0,
        "start_time": "2023-02-19T11:13:35.616Z"
      },
      {
        "duration": 10924,
        "start_time": "2023-02-19T11:14:01.197Z"
      },
      {
        "duration": 11656,
        "start_time": "2023-02-19T11:14:12.125Z"
      },
      {
        "duration": 7,
        "start_time": "2023-02-19T11:14:23.783Z"
      },
      {
        "duration": 171,
        "start_time": "2023-02-19T11:14:23.792Z"
      },
      {
        "duration": 658,
        "start_time": "2023-02-19T11:14:23.965Z"
      },
      {
        "duration": 358,
        "start_time": "2023-02-19T11:14:24.625Z"
      },
      {
        "duration": 0,
        "start_time": "2023-02-19T11:14:24.992Z"
      },
      {
        "duration": 0,
        "start_time": "2023-02-19T11:14:24.994Z"
      },
      {
        "duration": 0,
        "start_time": "2023-02-19T11:14:24.995Z"
      },
      {
        "duration": 0,
        "start_time": "2023-02-19T11:14:24.996Z"
      },
      {
        "duration": 0,
        "start_time": "2023-02-19T11:14:24.998Z"
      },
      {
        "duration": 0,
        "start_time": "2023-02-19T11:14:24.999Z"
      },
      {
        "duration": 0,
        "start_time": "2023-02-19T11:14:25.000Z"
      },
      {
        "duration": 0,
        "start_time": "2023-02-19T11:14:25.001Z"
      },
      {
        "duration": 0,
        "start_time": "2023-02-19T11:14:25.002Z"
      },
      {
        "duration": 0,
        "start_time": "2023-02-19T11:14:25.003Z"
      },
      {
        "duration": 0,
        "start_time": "2023-02-19T11:14:25.004Z"
      },
      {
        "duration": 0,
        "start_time": "2023-02-19T11:14:25.006Z"
      },
      {
        "duration": 0,
        "start_time": "2023-02-19T11:14:25.007Z"
      },
      {
        "duration": 0,
        "start_time": "2023-02-19T11:14:25.008Z"
      },
      {
        "duration": 0,
        "start_time": "2023-02-19T11:14:25.009Z"
      },
      {
        "duration": 0,
        "start_time": "2023-02-19T11:14:25.010Z"
      },
      {
        "duration": 0,
        "start_time": "2023-02-19T11:14:25.011Z"
      },
      {
        "duration": 8588,
        "start_time": "2023-02-19T11:16:34.244Z"
      },
      {
        "duration": 7,
        "start_time": "2023-02-19T11:16:42.835Z"
      },
      {
        "duration": 9,
        "start_time": "2023-02-19T11:16:42.845Z"
      },
      {
        "duration": 16,
        "start_time": "2023-02-19T11:16:42.856Z"
      },
      {
        "duration": 505,
        "start_time": "2023-02-19T11:16:42.874Z"
      },
      {
        "duration": 2540,
        "start_time": "2023-02-19T11:16:43.381Z"
      },
      {
        "duration": 3,
        "start_time": "2023-02-19T11:16:45.927Z"
      },
      {
        "duration": 22,
        "start_time": "2023-02-19T11:16:45.932Z"
      },
      {
        "duration": 16,
        "start_time": "2023-02-19T11:16:45.957Z"
      },
      {
        "duration": 17,
        "start_time": "2023-02-19T11:16:45.977Z"
      },
      {
        "duration": 17,
        "start_time": "2023-02-19T11:16:45.996Z"
      },
      {
        "duration": 20,
        "start_time": "2023-02-19T11:16:46.016Z"
      },
      {
        "duration": 28,
        "start_time": "2023-02-19T11:16:46.038Z"
      },
      {
        "duration": 26,
        "start_time": "2023-02-19T11:16:46.068Z"
      },
      {
        "duration": 20,
        "start_time": "2023-02-19T11:16:46.096Z"
      },
      {
        "duration": 13,
        "start_time": "2023-02-19T11:16:46.119Z"
      },
      {
        "duration": 28,
        "start_time": "2023-02-19T11:16:46.134Z"
      },
      {
        "duration": 25,
        "start_time": "2023-02-19T11:16:46.165Z"
      },
      {
        "duration": 13,
        "start_time": "2023-02-19T11:16:46.193Z"
      },
      {
        "duration": 28,
        "start_time": "2023-02-19T11:16:46.208Z"
      },
      {
        "duration": 17,
        "start_time": "2023-02-19T11:16:46.238Z"
      },
      {
        "duration": 14,
        "start_time": "2023-02-19T11:16:46.257Z"
      },
      {
        "duration": 33,
        "start_time": "2023-02-19T11:16:46.292Z"
      },
      {
        "duration": 6,
        "start_time": "2023-02-19T11:18:33.505Z"
      },
      {
        "duration": 4,
        "start_time": "2023-02-19T11:18:59.177Z"
      },
      {
        "duration": 36,
        "start_time": "2023-02-19T11:20:06.535Z"
      },
      {
        "duration": 23,
        "start_time": "2023-02-19T11:20:09.893Z"
      },
      {
        "duration": 7,
        "start_time": "2023-02-19T11:20:14.043Z"
      },
      {
        "duration": 25,
        "start_time": "2023-02-19T11:20:17.007Z"
      },
      {
        "duration": 371,
        "start_time": "2023-02-19T11:20:22.243Z"
      },
      {
        "duration": 7,
        "start_time": "2023-02-19T11:20:27.567Z"
      },
      {
        "duration": 1175696,
        "start_time": "2023-02-19T11:20:32.468Z"
      },
      {
        "duration": 5093,
        "start_time": "2023-02-19T11:40:08.166Z"
      },
      {
        "duration": 9103,
        "start_time": "2023-02-19T11:40:13.261Z"
      },
      {
        "duration": 555,
        "start_time": "2023-02-19T11:40:22.366Z"
      },
      {
        "duration": 7,
        "start_time": "2023-02-19T11:40:22.924Z"
      },
      {
        "duration": 24,
        "start_time": "2023-02-19T11:40:22.934Z"
      },
      {
        "duration": 92,
        "start_time": "2023-02-19T11:40:22.960Z"
      },
      {
        "duration": 4,
        "start_time": "2023-02-19T11:40:23.054Z"
      },
      {
        "duration": 8839,
        "start_time": "2023-02-19T11:40:23.061Z"
      },
      {
        "duration": 7,
        "start_time": "2023-02-19T11:40:31.905Z"
      },
      {
        "duration": 33,
        "start_time": "2023-02-19T11:40:31.915Z"
      },
      {
        "duration": 8,
        "start_time": "2023-02-19T11:40:31.950Z"
      },
      {
        "duration": 34,
        "start_time": "2023-02-19T11:40:31.960Z"
      },
      {
        "duration": 8,
        "start_time": "2023-02-19T11:40:31.996Z"
      },
      {
        "duration": 31,
        "start_time": "2023-02-19T11:40:32.006Z"
      },
      {
        "duration": 8,
        "start_time": "2023-02-19T11:40:32.040Z"
      },
      {
        "duration": 35,
        "start_time": "2023-02-19T11:40:32.050Z"
      },
      {
        "duration": 198,
        "start_time": "2023-02-19T11:40:32.087Z"
      },
      {
        "duration": 17,
        "start_time": "2023-02-19T11:40:32.287Z"
      },
      {
        "duration": 69,
        "start_time": "2023-02-19T11:40:32.306Z"
      },
      {
        "duration": 793030,
        "start_time": "2023-02-19T11:40:32.377Z"
      },
      {
        "duration": 2607,
        "start_time": "2023-02-19T11:53:45.410Z"
      },
      {
        "duration": 175,
        "start_time": "2023-02-19T11:53:48.019Z"
      }
    ],
    "colab": {
      "provenance": []
    },
    "kernelspec": {
      "display_name": "Python 3 (ipykernel)",
      "language": "python",
      "name": "python3"
    },
    "language_info": {
      "codemirror_mode": {
        "name": "ipython",
        "version": 3
      },
      "file_extension": ".py",
      "mimetype": "text/x-python",
      "name": "python",
      "nbconvert_exporter": "python",
      "pygments_lexer": "ipython3",
      "version": "3.9.5"
    },
    "toc": {
      "base_numbering": 1,
      "nav_menu": {},
      "number_sections": true,
      "sideBar": true,
      "skip_h1_title": true,
      "title_cell": "Table of Contents",
      "title_sidebar": "Contents",
      "toc_cell": false,
      "toc_position": {},
      "toc_section_display": true,
      "toc_window_display": false
    },
    "widgets": {
      "application/vnd.jupyter.widget-state+json": {
        "a73f507a5dd74f5ba1b192489a20f302": {
          "model_module": "@jupyter-widgets/controls",
          "model_name": "HBoxModel",
          "model_module_version": "1.5.0",
          "state": {
            "_dom_classes": [],
            "_model_module": "@jupyter-widgets/controls",
            "_model_module_version": "1.5.0",
            "_model_name": "HBoxModel",
            "_view_count": null,
            "_view_module": "@jupyter-widgets/controls",
            "_view_module_version": "1.5.0",
            "_view_name": "HBoxView",
            "box_style": "",
            "children": [
              "IPY_MODEL_42a6bcfdb523444b94aa428ab466bed8",
              "IPY_MODEL_112f041b321d401bbf8674cc7131d6a8",
              "IPY_MODEL_fb48aee88c2f4f9f9106030aadab5af2"
            ],
            "layout": "IPY_MODEL_a8d9e6dca3144a6e99f88364e2a9ecc6"
          }
        },
        "42a6bcfdb523444b94aa428ab466bed8": {
          "model_module": "@jupyter-widgets/controls",
          "model_name": "HTMLModel",
          "model_module_version": "1.5.0",
          "state": {
            "_dom_classes": [],
            "_model_module": "@jupyter-widgets/controls",
            "_model_module_version": "1.5.0",
            "_model_name": "HTMLModel",
            "_view_count": null,
            "_view_module": "@jupyter-widgets/controls",
            "_view_module_version": "1.5.0",
            "_view_name": "HTMLView",
            "description": "",
            "description_tooltip": null,
            "layout": "IPY_MODEL_f015e12a7fde4d8cad5be2322f60a74d",
            "placeholder": "​",
            "style": "IPY_MODEL_932d8b4dd44649528e8ee7afe97aa05f",
            "value": "Cleaning and lemmatizing progress ...: 100%"
          }
        },
        "112f041b321d401bbf8674cc7131d6a8": {
          "model_module": "@jupyter-widgets/controls",
          "model_name": "FloatProgressModel",
          "model_module_version": "1.5.0",
          "state": {
            "_dom_classes": [],
            "_model_module": "@jupyter-widgets/controls",
            "_model_module_version": "1.5.0",
            "_model_name": "FloatProgressModel",
            "_view_count": null,
            "_view_module": "@jupyter-widgets/controls",
            "_view_module_version": "1.5.0",
            "_view_name": "ProgressView",
            "bar_style": "success",
            "description": "",
            "description_tooltip": null,
            "layout": "IPY_MODEL_a54c6eea0b684e87adf5c9f4e1aea6e7",
            "max": 159292,
            "min": 0,
            "orientation": "horizontal",
            "style": "IPY_MODEL_57faf23a2b0147298cced0f20b17b5fe",
            "value": 159292
          }
        },
        "fb48aee88c2f4f9f9106030aadab5af2": {
          "model_module": "@jupyter-widgets/controls",
          "model_name": "HTMLModel",
          "model_module_version": "1.5.0",
          "state": {
            "_dom_classes": [],
            "_model_module": "@jupyter-widgets/controls",
            "_model_module_version": "1.5.0",
            "_model_name": "HTMLModel",
            "_view_count": null,
            "_view_module": "@jupyter-widgets/controls",
            "_view_module_version": "1.5.0",
            "_view_name": "HTMLView",
            "description": "",
            "description_tooltip": null,
            "layout": "IPY_MODEL_6e2d96b092a249c5ae844df687202f78",
            "placeholder": "​",
            "style": "IPY_MODEL_28676557e72343ab84677e4aa3103858",
            "value": " 159292/159292 [00:07&lt;00:00, 13957.12it/s]"
          }
        },
        "a8d9e6dca3144a6e99f88364e2a9ecc6": {
          "model_module": "@jupyter-widgets/base",
          "model_name": "LayoutModel",
          "model_module_version": "1.2.0",
          "state": {
            "_model_module": "@jupyter-widgets/base",
            "_model_module_version": "1.2.0",
            "_model_name": "LayoutModel",
            "_view_count": null,
            "_view_module": "@jupyter-widgets/base",
            "_view_module_version": "1.2.0",
            "_view_name": "LayoutView",
            "align_content": null,
            "align_items": null,
            "align_self": null,
            "border": null,
            "bottom": null,
            "display": null,
            "flex": null,
            "flex_flow": null,
            "grid_area": null,
            "grid_auto_columns": null,
            "grid_auto_flow": null,
            "grid_auto_rows": null,
            "grid_column": null,
            "grid_gap": null,
            "grid_row": null,
            "grid_template_areas": null,
            "grid_template_columns": null,
            "grid_template_rows": null,
            "height": null,
            "justify_content": null,
            "justify_items": null,
            "left": null,
            "margin": null,
            "max_height": null,
            "max_width": null,
            "min_height": null,
            "min_width": null,
            "object_fit": null,
            "object_position": null,
            "order": null,
            "overflow": null,
            "overflow_x": null,
            "overflow_y": null,
            "padding": null,
            "right": null,
            "top": null,
            "visibility": null,
            "width": null
          }
        },
        "f015e12a7fde4d8cad5be2322f60a74d": {
          "model_module": "@jupyter-widgets/base",
          "model_name": "LayoutModel",
          "model_module_version": "1.2.0",
          "state": {
            "_model_module": "@jupyter-widgets/base",
            "_model_module_version": "1.2.0",
            "_model_name": "LayoutModel",
            "_view_count": null,
            "_view_module": "@jupyter-widgets/base",
            "_view_module_version": "1.2.0",
            "_view_name": "LayoutView",
            "align_content": null,
            "align_items": null,
            "align_self": null,
            "border": null,
            "bottom": null,
            "display": null,
            "flex": null,
            "flex_flow": null,
            "grid_area": null,
            "grid_auto_columns": null,
            "grid_auto_flow": null,
            "grid_auto_rows": null,
            "grid_column": null,
            "grid_gap": null,
            "grid_row": null,
            "grid_template_areas": null,
            "grid_template_columns": null,
            "grid_template_rows": null,
            "height": null,
            "justify_content": null,
            "justify_items": null,
            "left": null,
            "margin": null,
            "max_height": null,
            "max_width": null,
            "min_height": null,
            "min_width": null,
            "object_fit": null,
            "object_position": null,
            "order": null,
            "overflow": null,
            "overflow_x": null,
            "overflow_y": null,
            "padding": null,
            "right": null,
            "top": null,
            "visibility": null,
            "width": null
          }
        },
        "932d8b4dd44649528e8ee7afe97aa05f": {
          "model_module": "@jupyter-widgets/controls",
          "model_name": "DescriptionStyleModel",
          "model_module_version": "1.5.0",
          "state": {
            "_model_module": "@jupyter-widgets/controls",
            "_model_module_version": "1.5.0",
            "_model_name": "DescriptionStyleModel",
            "_view_count": null,
            "_view_module": "@jupyter-widgets/base",
            "_view_module_version": "1.2.0",
            "_view_name": "StyleView",
            "description_width": ""
          }
        },
        "a54c6eea0b684e87adf5c9f4e1aea6e7": {
          "model_module": "@jupyter-widgets/base",
          "model_name": "LayoutModel",
          "model_module_version": "1.2.0",
          "state": {
            "_model_module": "@jupyter-widgets/base",
            "_model_module_version": "1.2.0",
            "_model_name": "LayoutModel",
            "_view_count": null,
            "_view_module": "@jupyter-widgets/base",
            "_view_module_version": "1.2.0",
            "_view_name": "LayoutView",
            "align_content": null,
            "align_items": null,
            "align_self": null,
            "border": null,
            "bottom": null,
            "display": null,
            "flex": null,
            "flex_flow": null,
            "grid_area": null,
            "grid_auto_columns": null,
            "grid_auto_flow": null,
            "grid_auto_rows": null,
            "grid_column": null,
            "grid_gap": null,
            "grid_row": null,
            "grid_template_areas": null,
            "grid_template_columns": null,
            "grid_template_rows": null,
            "height": null,
            "justify_content": null,
            "justify_items": null,
            "left": null,
            "margin": null,
            "max_height": null,
            "max_width": null,
            "min_height": null,
            "min_width": null,
            "object_fit": null,
            "object_position": null,
            "order": null,
            "overflow": null,
            "overflow_x": null,
            "overflow_y": null,
            "padding": null,
            "right": null,
            "top": null,
            "visibility": null,
            "width": null
          }
        },
        "57faf23a2b0147298cced0f20b17b5fe": {
          "model_module": "@jupyter-widgets/controls",
          "model_name": "ProgressStyleModel",
          "model_module_version": "1.5.0",
          "state": {
            "_model_module": "@jupyter-widgets/controls",
            "_model_module_version": "1.5.0",
            "_model_name": "ProgressStyleModel",
            "_view_count": null,
            "_view_module": "@jupyter-widgets/base",
            "_view_module_version": "1.2.0",
            "_view_name": "StyleView",
            "bar_color": null,
            "description_width": ""
          }
        },
        "6e2d96b092a249c5ae844df687202f78": {
          "model_module": "@jupyter-widgets/base",
          "model_name": "LayoutModel",
          "model_module_version": "1.2.0",
          "state": {
            "_model_module": "@jupyter-widgets/base",
            "_model_module_version": "1.2.0",
            "_model_name": "LayoutModel",
            "_view_count": null,
            "_view_module": "@jupyter-widgets/base",
            "_view_module_version": "1.2.0",
            "_view_name": "LayoutView",
            "align_content": null,
            "align_items": null,
            "align_self": null,
            "border": null,
            "bottom": null,
            "display": null,
            "flex": null,
            "flex_flow": null,
            "grid_area": null,
            "grid_auto_columns": null,
            "grid_auto_flow": null,
            "grid_auto_rows": null,
            "grid_column": null,
            "grid_gap": null,
            "grid_row": null,
            "grid_template_areas": null,
            "grid_template_columns": null,
            "grid_template_rows": null,
            "height": null,
            "justify_content": null,
            "justify_items": null,
            "left": null,
            "margin": null,
            "max_height": null,
            "max_width": null,
            "min_height": null,
            "min_width": null,
            "object_fit": null,
            "object_position": null,
            "order": null,
            "overflow": null,
            "overflow_x": null,
            "overflow_y": null,
            "padding": null,
            "right": null,
            "top": null,
            "visibility": null,
            "width": null
          }
        },
        "28676557e72343ab84677e4aa3103858": {
          "model_module": "@jupyter-widgets/controls",
          "model_name": "DescriptionStyleModel",
          "model_module_version": "1.5.0",
          "state": {
            "_model_module": "@jupyter-widgets/controls",
            "_model_module_version": "1.5.0",
            "_model_name": "DescriptionStyleModel",
            "_view_count": null,
            "_view_module": "@jupyter-widgets/base",
            "_view_module_version": "1.2.0",
            "_view_name": "StyleView",
            "description_width": ""
          }
        },
        "78cafdf89ec44698bae0219ba6d7f6a4": {
          "model_module": "@jupyter-widgets/controls",
          "model_name": "HBoxModel",
          "model_module_version": "1.5.0",
          "state": {
            "_dom_classes": [],
            "_model_module": "@jupyter-widgets/controls",
            "_model_module_version": "1.5.0",
            "_model_name": "HBoxModel",
            "_view_count": null,
            "_view_module": "@jupyter-widgets/controls",
            "_view_module_version": "1.5.0",
            "_view_name": "HBoxView",
            "box_style": "",
            "children": [
              "IPY_MODEL_fea2a9245120462a9582263db91b2d61",
              "IPY_MODEL_6edc460c1a7542afa167764dee947080",
              "IPY_MODEL_535884af1ee4420dacb62c6b670510b1"
            ],
            "layout": "IPY_MODEL_c8539151f6864d53994bb70bdd95fc9e"
          }
        },
        "fea2a9245120462a9582263db91b2d61": {
          "model_module": "@jupyter-widgets/controls",
          "model_name": "HTMLModel",
          "model_module_version": "1.5.0",
          "state": {
            "_dom_classes": [],
            "_model_module": "@jupyter-widgets/controls",
            "_model_module_version": "1.5.0",
            "_model_name": "HTMLModel",
            "_view_count": null,
            "_view_module": "@jupyter-widgets/controls",
            "_view_module_version": "1.5.0",
            "_view_name": "HTMLView",
            "description": "",
            "description_tooltip": null,
            "layout": "IPY_MODEL_af453b0d564b46a3b73124c6c7606a26",
            "placeholder": "​",
            "style": "IPY_MODEL_c7c6c488e3f445a98552095cb24da55e",
            "value": "Cleaning and lemmatizing progress ...: 100%"
          }
        },
        "6edc460c1a7542afa167764dee947080": {
          "model_module": "@jupyter-widgets/controls",
          "model_name": "FloatProgressModel",
          "model_module_version": "1.5.0",
          "state": {
            "_dom_classes": [],
            "_model_module": "@jupyter-widgets/controls",
            "_model_module_version": "1.5.0",
            "_model_name": "FloatProgressModel",
            "_view_count": null,
            "_view_module": "@jupyter-widgets/controls",
            "_view_module_version": "1.5.0",
            "_view_name": "ProgressView",
            "bar_style": "success",
            "description": "",
            "description_tooltip": null,
            "layout": "IPY_MODEL_ec1f4de0027b4bb1b9ba8ff4ef36e707",
            "max": 159292,
            "min": 0,
            "orientation": "horizontal",
            "style": "IPY_MODEL_d6ddbcff69934a7fafeef66cb17923c6",
            "value": 159292
          }
        },
        "535884af1ee4420dacb62c6b670510b1": {
          "model_module": "@jupyter-widgets/controls",
          "model_name": "HTMLModel",
          "model_module_version": "1.5.0",
          "state": {
            "_dom_classes": [],
            "_model_module": "@jupyter-widgets/controls",
            "_model_module_version": "1.5.0",
            "_model_name": "HTMLModel",
            "_view_count": null,
            "_view_module": "@jupyter-widgets/controls",
            "_view_module_version": "1.5.0",
            "_view_name": "HTMLView",
            "description": "",
            "description_tooltip": null,
            "layout": "IPY_MODEL_b3f94a13c09d47f68c9a7d84efe45eb8",
            "placeholder": "​",
            "style": "IPY_MODEL_6186ca72e4be45d18cde7cfb60ed333a",
            "value": " 159292/159292 [00:08&lt;00:00, 26873.04it/s]"
          }
        },
        "c8539151f6864d53994bb70bdd95fc9e": {
          "model_module": "@jupyter-widgets/base",
          "model_name": "LayoutModel",
          "model_module_version": "1.2.0",
          "state": {
            "_model_module": "@jupyter-widgets/base",
            "_model_module_version": "1.2.0",
            "_model_name": "LayoutModel",
            "_view_count": null,
            "_view_module": "@jupyter-widgets/base",
            "_view_module_version": "1.2.0",
            "_view_name": "LayoutView",
            "align_content": null,
            "align_items": null,
            "align_self": null,
            "border": null,
            "bottom": null,
            "display": null,
            "flex": null,
            "flex_flow": null,
            "grid_area": null,
            "grid_auto_columns": null,
            "grid_auto_flow": null,
            "grid_auto_rows": null,
            "grid_column": null,
            "grid_gap": null,
            "grid_row": null,
            "grid_template_areas": null,
            "grid_template_columns": null,
            "grid_template_rows": null,
            "height": null,
            "justify_content": null,
            "justify_items": null,
            "left": null,
            "margin": null,
            "max_height": null,
            "max_width": null,
            "min_height": null,
            "min_width": null,
            "object_fit": null,
            "object_position": null,
            "order": null,
            "overflow": null,
            "overflow_x": null,
            "overflow_y": null,
            "padding": null,
            "right": null,
            "top": null,
            "visibility": null,
            "width": null
          }
        },
        "af453b0d564b46a3b73124c6c7606a26": {
          "model_module": "@jupyter-widgets/base",
          "model_name": "LayoutModel",
          "model_module_version": "1.2.0",
          "state": {
            "_model_module": "@jupyter-widgets/base",
            "_model_module_version": "1.2.0",
            "_model_name": "LayoutModel",
            "_view_count": null,
            "_view_module": "@jupyter-widgets/base",
            "_view_module_version": "1.2.0",
            "_view_name": "LayoutView",
            "align_content": null,
            "align_items": null,
            "align_self": null,
            "border": null,
            "bottom": null,
            "display": null,
            "flex": null,
            "flex_flow": null,
            "grid_area": null,
            "grid_auto_columns": null,
            "grid_auto_flow": null,
            "grid_auto_rows": null,
            "grid_column": null,
            "grid_gap": null,
            "grid_row": null,
            "grid_template_areas": null,
            "grid_template_columns": null,
            "grid_template_rows": null,
            "height": null,
            "justify_content": null,
            "justify_items": null,
            "left": null,
            "margin": null,
            "max_height": null,
            "max_width": null,
            "min_height": null,
            "min_width": null,
            "object_fit": null,
            "object_position": null,
            "order": null,
            "overflow": null,
            "overflow_x": null,
            "overflow_y": null,
            "padding": null,
            "right": null,
            "top": null,
            "visibility": null,
            "width": null
          }
        },
        "c7c6c488e3f445a98552095cb24da55e": {
          "model_module": "@jupyter-widgets/controls",
          "model_name": "DescriptionStyleModel",
          "model_module_version": "1.5.0",
          "state": {
            "_model_module": "@jupyter-widgets/controls",
            "_model_module_version": "1.5.0",
            "_model_name": "DescriptionStyleModel",
            "_view_count": null,
            "_view_module": "@jupyter-widgets/base",
            "_view_module_version": "1.2.0",
            "_view_name": "StyleView",
            "description_width": ""
          }
        },
        "ec1f4de0027b4bb1b9ba8ff4ef36e707": {
          "model_module": "@jupyter-widgets/base",
          "model_name": "LayoutModel",
          "model_module_version": "1.2.0",
          "state": {
            "_model_module": "@jupyter-widgets/base",
            "_model_module_version": "1.2.0",
            "_model_name": "LayoutModel",
            "_view_count": null,
            "_view_module": "@jupyter-widgets/base",
            "_view_module_version": "1.2.0",
            "_view_name": "LayoutView",
            "align_content": null,
            "align_items": null,
            "align_self": null,
            "border": null,
            "bottom": null,
            "display": null,
            "flex": null,
            "flex_flow": null,
            "grid_area": null,
            "grid_auto_columns": null,
            "grid_auto_flow": null,
            "grid_auto_rows": null,
            "grid_column": null,
            "grid_gap": null,
            "grid_row": null,
            "grid_template_areas": null,
            "grid_template_columns": null,
            "grid_template_rows": null,
            "height": null,
            "justify_content": null,
            "justify_items": null,
            "left": null,
            "margin": null,
            "max_height": null,
            "max_width": null,
            "min_height": null,
            "min_width": null,
            "object_fit": null,
            "object_position": null,
            "order": null,
            "overflow": null,
            "overflow_x": null,
            "overflow_y": null,
            "padding": null,
            "right": null,
            "top": null,
            "visibility": null,
            "width": null
          }
        },
        "d6ddbcff69934a7fafeef66cb17923c6": {
          "model_module": "@jupyter-widgets/controls",
          "model_name": "ProgressStyleModel",
          "model_module_version": "1.5.0",
          "state": {
            "_model_module": "@jupyter-widgets/controls",
            "_model_module_version": "1.5.0",
            "_model_name": "ProgressStyleModel",
            "_view_count": null,
            "_view_module": "@jupyter-widgets/base",
            "_view_module_version": "1.2.0",
            "_view_name": "StyleView",
            "bar_color": null,
            "description_width": ""
          }
        },
        "b3f94a13c09d47f68c9a7d84efe45eb8": {
          "model_module": "@jupyter-widgets/base",
          "model_name": "LayoutModel",
          "model_module_version": "1.2.0",
          "state": {
            "_model_module": "@jupyter-widgets/base",
            "_model_module_version": "1.2.0",
            "_model_name": "LayoutModel",
            "_view_count": null,
            "_view_module": "@jupyter-widgets/base",
            "_view_module_version": "1.2.0",
            "_view_name": "LayoutView",
            "align_content": null,
            "align_items": null,
            "align_self": null,
            "border": null,
            "bottom": null,
            "display": null,
            "flex": null,
            "flex_flow": null,
            "grid_area": null,
            "grid_auto_columns": null,
            "grid_auto_flow": null,
            "grid_auto_rows": null,
            "grid_column": null,
            "grid_gap": null,
            "grid_row": null,
            "grid_template_areas": null,
            "grid_template_columns": null,
            "grid_template_rows": null,
            "height": null,
            "justify_content": null,
            "justify_items": null,
            "left": null,
            "margin": null,
            "max_height": null,
            "max_width": null,
            "min_height": null,
            "min_width": null,
            "object_fit": null,
            "object_position": null,
            "order": null,
            "overflow": null,
            "overflow_x": null,
            "overflow_y": null,
            "padding": null,
            "right": null,
            "top": null,
            "visibility": null,
            "width": null
          }
        },
        "6186ca72e4be45d18cde7cfb60ed333a": {
          "model_module": "@jupyter-widgets/controls",
          "model_name": "DescriptionStyleModel",
          "model_module_version": "1.5.0",
          "state": {
            "_model_module": "@jupyter-widgets/controls",
            "_model_module_version": "1.5.0",
            "_model_name": "DescriptionStyleModel",
            "_view_count": null,
            "_view_module": "@jupyter-widgets/base",
            "_view_module_version": "1.2.0",
            "_view_name": "StyleView",
            "description_width": ""
          }
        },
        "1b03caad28624015a65ec18ca7557853": {
          "model_module": "@jupyter-widgets/controls",
          "model_name": "HBoxModel",
          "model_module_version": "1.5.0",
          "state": {
            "_dom_classes": [],
            "_model_module": "@jupyter-widgets/controls",
            "_model_module_version": "1.5.0",
            "_model_name": "HBoxModel",
            "_view_count": null,
            "_view_module": "@jupyter-widgets/controls",
            "_view_module_version": "1.5.0",
            "_view_name": "HBoxView",
            "box_style": "",
            "children": [
              "IPY_MODEL_85ebbdbaf2624480908439ce270d774d",
              "IPY_MODEL_d11c115b8b4147a58bdc3150423df0eb",
              "IPY_MODEL_6acc0b6fea874d2d923fa529806498be"
            ],
            "layout": "IPY_MODEL_6ac8595d220246c5b75f0882e9682e76"
          }
        },
        "85ebbdbaf2624480908439ce270d774d": {
          "model_module": "@jupyter-widgets/controls",
          "model_name": "HTMLModel",
          "model_module_version": "1.5.0",
          "state": {
            "_dom_classes": [],
            "_model_module": "@jupyter-widgets/controls",
            "_model_module_version": "1.5.0",
            "_model_name": "HTMLModel",
            "_view_count": null,
            "_view_module": "@jupyter-widgets/controls",
            "_view_module_version": "1.5.0",
            "_view_name": "HTMLView",
            "description": "",
            "description_tooltip": null,
            "layout": "IPY_MODEL_224aaf1b40f2478f88409af0cb650671",
            "placeholder": "​",
            "style": "IPY_MODEL_079e3ebd58a040e5b18f9aecbdf3d6c9",
            "value": "Cleaning and lemmatizing progress ...: 100%"
          }
        },
        "d11c115b8b4147a58bdc3150423df0eb": {
          "model_module": "@jupyter-widgets/controls",
          "model_name": "FloatProgressModel",
          "model_module_version": "1.5.0",
          "state": {
            "_dom_classes": [],
            "_model_module": "@jupyter-widgets/controls",
            "_model_module_version": "1.5.0",
            "_model_name": "FloatProgressModel",
            "_view_count": null,
            "_view_module": "@jupyter-widgets/controls",
            "_view_module_version": "1.5.0",
            "_view_name": "ProgressView",
            "bar_style": "success",
            "description": "",
            "description_tooltip": null,
            "layout": "IPY_MODEL_204ecf418123444f952a8acc8c5be09d",
            "max": 159292,
            "min": 0,
            "orientation": "horizontal",
            "style": "IPY_MODEL_d9950d47cc3a4f41b5d6c417e2fb24e0",
            "value": 159292
          }
        },
        "6acc0b6fea874d2d923fa529806498be": {
          "model_module": "@jupyter-widgets/controls",
          "model_name": "HTMLModel",
          "model_module_version": "1.5.0",
          "state": {
            "_dom_classes": [],
            "_model_module": "@jupyter-widgets/controls",
            "_model_module_version": "1.5.0",
            "_model_name": "HTMLModel",
            "_view_count": null,
            "_view_module": "@jupyter-widgets/controls",
            "_view_module_version": "1.5.0",
            "_view_name": "HTMLView",
            "description": "",
            "description_tooltip": null,
            "layout": "IPY_MODEL_53201f29024d407cbb8f313bf21fb53e",
            "placeholder": "​",
            "style": "IPY_MODEL_4176ca7891c84597a86772cdb3dae75d",
            "value": " 159292/159292 [27:03&lt;00:00, 90.25it/s]"
          }
        },
        "6ac8595d220246c5b75f0882e9682e76": {
          "model_module": "@jupyter-widgets/base",
          "model_name": "LayoutModel",
          "model_module_version": "1.2.0",
          "state": {
            "_model_module": "@jupyter-widgets/base",
            "_model_module_version": "1.2.0",
            "_model_name": "LayoutModel",
            "_view_count": null,
            "_view_module": "@jupyter-widgets/base",
            "_view_module_version": "1.2.0",
            "_view_name": "LayoutView",
            "align_content": null,
            "align_items": null,
            "align_self": null,
            "border": null,
            "bottom": null,
            "display": null,
            "flex": null,
            "flex_flow": null,
            "grid_area": null,
            "grid_auto_columns": null,
            "grid_auto_flow": null,
            "grid_auto_rows": null,
            "grid_column": null,
            "grid_gap": null,
            "grid_row": null,
            "grid_template_areas": null,
            "grid_template_columns": null,
            "grid_template_rows": null,
            "height": null,
            "justify_content": null,
            "justify_items": null,
            "left": null,
            "margin": null,
            "max_height": null,
            "max_width": null,
            "min_height": null,
            "min_width": null,
            "object_fit": null,
            "object_position": null,
            "order": null,
            "overflow": null,
            "overflow_x": null,
            "overflow_y": null,
            "padding": null,
            "right": null,
            "top": null,
            "visibility": null,
            "width": null
          }
        },
        "224aaf1b40f2478f88409af0cb650671": {
          "model_module": "@jupyter-widgets/base",
          "model_name": "LayoutModel",
          "model_module_version": "1.2.0",
          "state": {
            "_model_module": "@jupyter-widgets/base",
            "_model_module_version": "1.2.0",
            "_model_name": "LayoutModel",
            "_view_count": null,
            "_view_module": "@jupyter-widgets/base",
            "_view_module_version": "1.2.0",
            "_view_name": "LayoutView",
            "align_content": null,
            "align_items": null,
            "align_self": null,
            "border": null,
            "bottom": null,
            "display": null,
            "flex": null,
            "flex_flow": null,
            "grid_area": null,
            "grid_auto_columns": null,
            "grid_auto_flow": null,
            "grid_auto_rows": null,
            "grid_column": null,
            "grid_gap": null,
            "grid_row": null,
            "grid_template_areas": null,
            "grid_template_columns": null,
            "grid_template_rows": null,
            "height": null,
            "justify_content": null,
            "justify_items": null,
            "left": null,
            "margin": null,
            "max_height": null,
            "max_width": null,
            "min_height": null,
            "min_width": null,
            "object_fit": null,
            "object_position": null,
            "order": null,
            "overflow": null,
            "overflow_x": null,
            "overflow_y": null,
            "padding": null,
            "right": null,
            "top": null,
            "visibility": null,
            "width": null
          }
        },
        "079e3ebd58a040e5b18f9aecbdf3d6c9": {
          "model_module": "@jupyter-widgets/controls",
          "model_name": "DescriptionStyleModel",
          "model_module_version": "1.5.0",
          "state": {
            "_model_module": "@jupyter-widgets/controls",
            "_model_module_version": "1.5.0",
            "_model_name": "DescriptionStyleModel",
            "_view_count": null,
            "_view_module": "@jupyter-widgets/base",
            "_view_module_version": "1.2.0",
            "_view_name": "StyleView",
            "description_width": ""
          }
        },
        "204ecf418123444f952a8acc8c5be09d": {
          "model_module": "@jupyter-widgets/base",
          "model_name": "LayoutModel",
          "model_module_version": "1.2.0",
          "state": {
            "_model_module": "@jupyter-widgets/base",
            "_model_module_version": "1.2.0",
            "_model_name": "LayoutModel",
            "_view_count": null,
            "_view_module": "@jupyter-widgets/base",
            "_view_module_version": "1.2.0",
            "_view_name": "LayoutView",
            "align_content": null,
            "align_items": null,
            "align_self": null,
            "border": null,
            "bottom": null,
            "display": null,
            "flex": null,
            "flex_flow": null,
            "grid_area": null,
            "grid_auto_columns": null,
            "grid_auto_flow": null,
            "grid_auto_rows": null,
            "grid_column": null,
            "grid_gap": null,
            "grid_row": null,
            "grid_template_areas": null,
            "grid_template_columns": null,
            "grid_template_rows": null,
            "height": null,
            "justify_content": null,
            "justify_items": null,
            "left": null,
            "margin": null,
            "max_height": null,
            "max_width": null,
            "min_height": null,
            "min_width": null,
            "object_fit": null,
            "object_position": null,
            "order": null,
            "overflow": null,
            "overflow_x": null,
            "overflow_y": null,
            "padding": null,
            "right": null,
            "top": null,
            "visibility": null,
            "width": null
          }
        },
        "d9950d47cc3a4f41b5d6c417e2fb24e0": {
          "model_module": "@jupyter-widgets/controls",
          "model_name": "ProgressStyleModel",
          "model_module_version": "1.5.0",
          "state": {
            "_model_module": "@jupyter-widgets/controls",
            "_model_module_version": "1.5.0",
            "_model_name": "ProgressStyleModel",
            "_view_count": null,
            "_view_module": "@jupyter-widgets/base",
            "_view_module_version": "1.2.0",
            "_view_name": "StyleView",
            "bar_color": null,
            "description_width": ""
          }
        },
        "53201f29024d407cbb8f313bf21fb53e": {
          "model_module": "@jupyter-widgets/base",
          "model_name": "LayoutModel",
          "model_module_version": "1.2.0",
          "state": {
            "_model_module": "@jupyter-widgets/base",
            "_model_module_version": "1.2.0",
            "_model_name": "LayoutModel",
            "_view_count": null,
            "_view_module": "@jupyter-widgets/base",
            "_view_module_version": "1.2.0",
            "_view_name": "LayoutView",
            "align_content": null,
            "align_items": null,
            "align_self": null,
            "border": null,
            "bottom": null,
            "display": null,
            "flex": null,
            "flex_flow": null,
            "grid_area": null,
            "grid_auto_columns": null,
            "grid_auto_flow": null,
            "grid_auto_rows": null,
            "grid_column": null,
            "grid_gap": null,
            "grid_row": null,
            "grid_template_areas": null,
            "grid_template_columns": null,
            "grid_template_rows": null,
            "height": null,
            "justify_content": null,
            "justify_items": null,
            "left": null,
            "margin": null,
            "max_height": null,
            "max_width": null,
            "min_height": null,
            "min_width": null,
            "object_fit": null,
            "object_position": null,
            "order": null,
            "overflow": null,
            "overflow_x": null,
            "overflow_y": null,
            "padding": null,
            "right": null,
            "top": null,
            "visibility": null,
            "width": null
          }
        },
        "4176ca7891c84597a86772cdb3dae75d": {
          "model_module": "@jupyter-widgets/controls",
          "model_name": "DescriptionStyleModel",
          "model_module_version": "1.5.0",
          "state": {
            "_model_module": "@jupyter-widgets/controls",
            "_model_module_version": "1.5.0",
            "_model_name": "DescriptionStyleModel",
            "_view_count": null,
            "_view_module": "@jupyter-widgets/base",
            "_view_module_version": "1.2.0",
            "_view_name": "StyleView",
            "description_width": ""
          }
        },
        "c87c26f7e48347cbb9ce5a5351e1122d": {
          "model_module": "@jupyter-widgets/controls",
          "model_name": "HBoxModel",
          "model_module_version": "1.5.0",
          "state": {
            "_dom_classes": [],
            "_model_module": "@jupyter-widgets/controls",
            "_model_module_version": "1.5.0",
            "_model_name": "HBoxModel",
            "_view_count": null,
            "_view_module": "@jupyter-widgets/controls",
            "_view_module_version": "1.5.0",
            "_view_name": "HBoxView",
            "box_style": "",
            "children": [
              "IPY_MODEL_7fc0ba8c42884347903740a92610c7cd",
              "IPY_MODEL_ced16c80866e421c89da46d0bacdeba8",
              "IPY_MODEL_1555593974394ab6842111e1318dea61"
            ],
            "layout": "IPY_MODEL_bdd9c527d8d04ea4bafbab53be7de09d"
          }
        },
        "7fc0ba8c42884347903740a92610c7cd": {
          "model_module": "@jupyter-widgets/controls",
          "model_name": "HTMLModel",
          "model_module_version": "1.5.0",
          "state": {
            "_dom_classes": [],
            "_model_module": "@jupyter-widgets/controls",
            "_model_module_version": "1.5.0",
            "_model_name": "HTMLModel",
            "_view_count": null,
            "_view_module": "@jupyter-widgets/controls",
            "_view_module_version": "1.5.0",
            "_view_name": "HTMLView",
            "description": "",
            "description_tooltip": null,
            "layout": "IPY_MODEL_245ac42d50f1450ea2543fc31e39191f",
            "placeholder": "​",
            "style": "IPY_MODEL_d86b7a197033422f90a33c4ff045e6a6",
            "value": "Cleaning and lemmatizing progress ...: 100%"
          }
        },
        "ced16c80866e421c89da46d0bacdeba8": {
          "model_module": "@jupyter-widgets/controls",
          "model_name": "FloatProgressModel",
          "model_module_version": "1.5.0",
          "state": {
            "_dom_classes": [],
            "_model_module": "@jupyter-widgets/controls",
            "_model_module_version": "1.5.0",
            "_model_name": "FloatProgressModel",
            "_view_count": null,
            "_view_module": "@jupyter-widgets/controls",
            "_view_module_version": "1.5.0",
            "_view_name": "ProgressView",
            "bar_style": "success",
            "description": "",
            "description_tooltip": null,
            "layout": "IPY_MODEL_94615a0360b0473080a1a656c3796a40",
            "max": 159292,
            "min": 0,
            "orientation": "horizontal",
            "style": "IPY_MODEL_262f2b23148e43f798e047dacc9a007e",
            "value": 159292
          }
        },
        "1555593974394ab6842111e1318dea61": {
          "model_module": "@jupyter-widgets/controls",
          "model_name": "HTMLModel",
          "model_module_version": "1.5.0",
          "state": {
            "_dom_classes": [],
            "_model_module": "@jupyter-widgets/controls",
            "_model_module_version": "1.5.0",
            "_model_name": "HTMLModel",
            "_view_count": null,
            "_view_module": "@jupyter-widgets/controls",
            "_view_module_version": "1.5.0",
            "_view_name": "HTMLView",
            "description": "",
            "description_tooltip": null,
            "layout": "IPY_MODEL_6ab44a17eebf44d0934d7ea0213b2602",
            "placeholder": "​",
            "style": "IPY_MODEL_54e683b914ac4c3a900d717e86dc33c7",
            "value": " 159292/159292 [00:23&lt;00:00, 8001.70it/s]"
          }
        },
        "bdd9c527d8d04ea4bafbab53be7de09d": {
          "model_module": "@jupyter-widgets/base",
          "model_name": "LayoutModel",
          "model_module_version": "1.2.0",
          "state": {
            "_model_module": "@jupyter-widgets/base",
            "_model_module_version": "1.2.0",
            "_model_name": "LayoutModel",
            "_view_count": null,
            "_view_module": "@jupyter-widgets/base",
            "_view_module_version": "1.2.0",
            "_view_name": "LayoutView",
            "align_content": null,
            "align_items": null,
            "align_self": null,
            "border": null,
            "bottom": null,
            "display": null,
            "flex": null,
            "flex_flow": null,
            "grid_area": null,
            "grid_auto_columns": null,
            "grid_auto_flow": null,
            "grid_auto_rows": null,
            "grid_column": null,
            "grid_gap": null,
            "grid_row": null,
            "grid_template_areas": null,
            "grid_template_columns": null,
            "grid_template_rows": null,
            "height": null,
            "justify_content": null,
            "justify_items": null,
            "left": null,
            "margin": null,
            "max_height": null,
            "max_width": null,
            "min_height": null,
            "min_width": null,
            "object_fit": null,
            "object_position": null,
            "order": null,
            "overflow": null,
            "overflow_x": null,
            "overflow_y": null,
            "padding": null,
            "right": null,
            "top": null,
            "visibility": null,
            "width": null
          }
        },
        "245ac42d50f1450ea2543fc31e39191f": {
          "model_module": "@jupyter-widgets/base",
          "model_name": "LayoutModel",
          "model_module_version": "1.2.0",
          "state": {
            "_model_module": "@jupyter-widgets/base",
            "_model_module_version": "1.2.0",
            "_model_name": "LayoutModel",
            "_view_count": null,
            "_view_module": "@jupyter-widgets/base",
            "_view_module_version": "1.2.0",
            "_view_name": "LayoutView",
            "align_content": null,
            "align_items": null,
            "align_self": null,
            "border": null,
            "bottom": null,
            "display": null,
            "flex": null,
            "flex_flow": null,
            "grid_area": null,
            "grid_auto_columns": null,
            "grid_auto_flow": null,
            "grid_auto_rows": null,
            "grid_column": null,
            "grid_gap": null,
            "grid_row": null,
            "grid_template_areas": null,
            "grid_template_columns": null,
            "grid_template_rows": null,
            "height": null,
            "justify_content": null,
            "justify_items": null,
            "left": null,
            "margin": null,
            "max_height": null,
            "max_width": null,
            "min_height": null,
            "min_width": null,
            "object_fit": null,
            "object_position": null,
            "order": null,
            "overflow": null,
            "overflow_x": null,
            "overflow_y": null,
            "padding": null,
            "right": null,
            "top": null,
            "visibility": null,
            "width": null
          }
        },
        "d86b7a197033422f90a33c4ff045e6a6": {
          "model_module": "@jupyter-widgets/controls",
          "model_name": "DescriptionStyleModel",
          "model_module_version": "1.5.0",
          "state": {
            "_model_module": "@jupyter-widgets/controls",
            "_model_module_version": "1.5.0",
            "_model_name": "DescriptionStyleModel",
            "_view_count": null,
            "_view_module": "@jupyter-widgets/base",
            "_view_module_version": "1.2.0",
            "_view_name": "StyleView",
            "description_width": ""
          }
        },
        "94615a0360b0473080a1a656c3796a40": {
          "model_module": "@jupyter-widgets/base",
          "model_name": "LayoutModel",
          "model_module_version": "1.2.0",
          "state": {
            "_model_module": "@jupyter-widgets/base",
            "_model_module_version": "1.2.0",
            "_model_name": "LayoutModel",
            "_view_count": null,
            "_view_module": "@jupyter-widgets/base",
            "_view_module_version": "1.2.0",
            "_view_name": "LayoutView",
            "align_content": null,
            "align_items": null,
            "align_self": null,
            "border": null,
            "bottom": null,
            "display": null,
            "flex": null,
            "flex_flow": null,
            "grid_area": null,
            "grid_auto_columns": null,
            "grid_auto_flow": null,
            "grid_auto_rows": null,
            "grid_column": null,
            "grid_gap": null,
            "grid_row": null,
            "grid_template_areas": null,
            "grid_template_columns": null,
            "grid_template_rows": null,
            "height": null,
            "justify_content": null,
            "justify_items": null,
            "left": null,
            "margin": null,
            "max_height": null,
            "max_width": null,
            "min_height": null,
            "min_width": null,
            "object_fit": null,
            "object_position": null,
            "order": null,
            "overflow": null,
            "overflow_x": null,
            "overflow_y": null,
            "padding": null,
            "right": null,
            "top": null,
            "visibility": null,
            "width": null
          }
        },
        "262f2b23148e43f798e047dacc9a007e": {
          "model_module": "@jupyter-widgets/controls",
          "model_name": "ProgressStyleModel",
          "model_module_version": "1.5.0",
          "state": {
            "_model_module": "@jupyter-widgets/controls",
            "_model_module_version": "1.5.0",
            "_model_name": "ProgressStyleModel",
            "_view_count": null,
            "_view_module": "@jupyter-widgets/base",
            "_view_module_version": "1.2.0",
            "_view_name": "StyleView",
            "bar_color": null,
            "description_width": ""
          }
        },
        "6ab44a17eebf44d0934d7ea0213b2602": {
          "model_module": "@jupyter-widgets/base",
          "model_name": "LayoutModel",
          "model_module_version": "1.2.0",
          "state": {
            "_model_module": "@jupyter-widgets/base",
            "_model_module_version": "1.2.0",
            "_model_name": "LayoutModel",
            "_view_count": null,
            "_view_module": "@jupyter-widgets/base",
            "_view_module_version": "1.2.0",
            "_view_name": "LayoutView",
            "align_content": null,
            "align_items": null,
            "align_self": null,
            "border": null,
            "bottom": null,
            "display": null,
            "flex": null,
            "flex_flow": null,
            "grid_area": null,
            "grid_auto_columns": null,
            "grid_auto_flow": null,
            "grid_auto_rows": null,
            "grid_column": null,
            "grid_gap": null,
            "grid_row": null,
            "grid_template_areas": null,
            "grid_template_columns": null,
            "grid_template_rows": null,
            "height": null,
            "justify_content": null,
            "justify_items": null,
            "left": null,
            "margin": null,
            "max_height": null,
            "max_width": null,
            "min_height": null,
            "min_width": null,
            "object_fit": null,
            "object_position": null,
            "order": null,
            "overflow": null,
            "overflow_x": null,
            "overflow_y": null,
            "padding": null,
            "right": null,
            "top": null,
            "visibility": null,
            "width": null
          }
        },
        "54e683b914ac4c3a900d717e86dc33c7": {
          "model_module": "@jupyter-widgets/controls",
          "model_name": "DescriptionStyleModel",
          "model_module_version": "1.5.0",
          "state": {
            "_model_module": "@jupyter-widgets/controls",
            "_model_module_version": "1.5.0",
            "_model_name": "DescriptionStyleModel",
            "_view_count": null,
            "_view_module": "@jupyter-widgets/base",
            "_view_module_version": "1.2.0",
            "_view_name": "StyleView",
            "description_width": ""
          }
        },
        "4e5dc14cd9444673a80248eec897bc4e": {
          "model_module": "@jupyter-widgets/controls",
          "model_name": "DropdownModel",
          "model_module_version": "1.5.0",
          "state": {
            "_dom_classes": [],
            "_model_module": "@jupyter-widgets/controls",
            "_model_module_version": "1.5.0",
            "_model_name": "DropdownModel",
            "_options_labels": [
              "BERT не нужен",
              "Считать эмбендинги из файла",
              "Расчитывать эмбендинги"
            ],
            "_view_count": null,
            "_view_module": "@jupyter-widgets/controls",
            "_view_module_version": "1.5.0",
            "_view_name": "DropdownView",
            "description": "Выбор:",
            "description_tooltip": null,
            "disabled": false,
            "index": 0,
            "layout": "IPY_MODEL_d6315fc1c6d7424294ef766bf1cb60a0",
            "style": "IPY_MODEL_7cf7f2d65cfb4421989b4957552329a3"
          }
        },
        "d6315fc1c6d7424294ef766bf1cb60a0": {
          "model_module": "@jupyter-widgets/base",
          "model_name": "LayoutModel",
          "model_module_version": "1.2.0",
          "state": {
            "_model_module": "@jupyter-widgets/base",
            "_model_module_version": "1.2.0",
            "_model_name": "LayoutModel",
            "_view_count": null,
            "_view_module": "@jupyter-widgets/base",
            "_view_module_version": "1.2.0",
            "_view_name": "LayoutView",
            "align_content": null,
            "align_items": null,
            "align_self": null,
            "border": null,
            "bottom": null,
            "display": null,
            "flex": null,
            "flex_flow": null,
            "grid_area": null,
            "grid_auto_columns": null,
            "grid_auto_flow": null,
            "grid_auto_rows": null,
            "grid_column": null,
            "grid_gap": null,
            "grid_row": null,
            "grid_template_areas": null,
            "grid_template_columns": null,
            "grid_template_rows": null,
            "height": null,
            "justify_content": null,
            "justify_items": null,
            "left": null,
            "margin": null,
            "max_height": null,
            "max_width": null,
            "min_height": null,
            "min_width": null,
            "object_fit": null,
            "object_position": null,
            "order": null,
            "overflow": null,
            "overflow_x": null,
            "overflow_y": null,
            "padding": null,
            "right": null,
            "top": null,
            "visibility": null,
            "width": null
          }
        },
        "7cf7f2d65cfb4421989b4957552329a3": {
          "model_module": "@jupyter-widgets/controls",
          "model_name": "DescriptionStyleModel",
          "model_module_version": "1.5.0",
          "state": {
            "_model_module": "@jupyter-widgets/controls",
            "_model_module_version": "1.5.0",
            "_model_name": "DescriptionStyleModel",
            "_view_count": null,
            "_view_module": "@jupyter-widgets/base",
            "_view_module_version": "1.2.0",
            "_view_name": "StyleView",
            "description_width": ""
          }
        },
        "c6f450cc4a824c6cb52b57b33982253d": {
          "model_module": "@jupyter-widgets/controls",
          "model_name": "DropdownModel",
          "model_module_version": "1.5.0",
          "state": {
            "_dom_classes": [],
            "_model_module": "@jupyter-widgets/controls",
            "_model_module_version": "1.5.0",
            "_model_name": "DropdownModel",
            "_options_labels": [
              "Учесть ранее рассчитанные результаты",
              "Cчитать заново"
            ],
            "_view_count": null,
            "_view_module": "@jupyter-widgets/controls",
            "_view_module_version": "1.5.0",
            "_view_name": "DropdownView",
            "description": "Выбор:",
            "description_tooltip": null,
            "disabled": false,
            "index": 0,
            "layout": "IPY_MODEL_0af914d9391b4913bab21eef78d4513f",
            "style": "IPY_MODEL_ab678f905cff4a63813786d6d50e24ad"
          }
        },
        "0af914d9391b4913bab21eef78d4513f": {
          "model_module": "@jupyter-widgets/base",
          "model_name": "LayoutModel",
          "model_module_version": "1.2.0",
          "state": {
            "_model_module": "@jupyter-widgets/base",
            "_model_module_version": "1.2.0",
            "_model_name": "LayoutModel",
            "_view_count": null,
            "_view_module": "@jupyter-widgets/base",
            "_view_module_version": "1.2.0",
            "_view_name": "LayoutView",
            "align_content": null,
            "align_items": null,
            "align_self": null,
            "border": null,
            "bottom": null,
            "display": null,
            "flex": null,
            "flex_flow": null,
            "grid_area": null,
            "grid_auto_columns": null,
            "grid_auto_flow": null,
            "grid_auto_rows": null,
            "grid_column": null,
            "grid_gap": null,
            "grid_row": null,
            "grid_template_areas": null,
            "grid_template_columns": null,
            "grid_template_rows": null,
            "height": null,
            "justify_content": null,
            "justify_items": null,
            "left": null,
            "margin": null,
            "max_height": null,
            "max_width": null,
            "min_height": null,
            "min_width": null,
            "object_fit": null,
            "object_position": null,
            "order": null,
            "overflow": null,
            "overflow_x": null,
            "overflow_y": null,
            "padding": null,
            "right": null,
            "top": null,
            "visibility": null,
            "width": null
          }
        },
        "ab678f905cff4a63813786d6d50e24ad": {
          "model_module": "@jupyter-widgets/controls",
          "model_name": "DescriptionStyleModel",
          "model_module_version": "1.5.0",
          "state": {
            "_model_module": "@jupyter-widgets/controls",
            "_model_module_version": "1.5.0",
            "_model_name": "DescriptionStyleModel",
            "_view_count": null,
            "_view_module": "@jupyter-widgets/base",
            "_view_module_version": "1.2.0",
            "_view_name": "StyleView",
            "description_width": ""
          }
        },
        "8ef137695dec4777b4f7c71422219f51": {
          "model_module": "@jupyter-widgets/controls",
          "model_name": "DropdownModel",
          "model_module_version": "1.5.0",
          "state": {
            "_dom_classes": [],
            "_model_module": "@jupyter-widgets/controls",
            "_model_module_version": "1.5.0",
            "_model_name": "DropdownModel",
            "_options_labels": [
              "Учесть ранее рассчитанные результаты",
              "Cчитать заново"
            ],
            "_view_count": null,
            "_view_module": "@jupyter-widgets/controls",
            "_view_module_version": "1.5.0",
            "_view_name": "DropdownView",
            "description": "Выбор:",
            "description_tooltip": null,
            "disabled": false,
            "index": 0,
            "layout": "IPY_MODEL_a1517c5275d04b8d94b5b0d4e89faba2",
            "style": "IPY_MODEL_534f073397434787b95fa644063e28cd"
          }
        },
        "a1517c5275d04b8d94b5b0d4e89faba2": {
          "model_module": "@jupyter-widgets/base",
          "model_name": "LayoutModel",
          "model_module_version": "1.2.0",
          "state": {
            "_model_module": "@jupyter-widgets/base",
            "_model_module_version": "1.2.0",
            "_model_name": "LayoutModel",
            "_view_count": null,
            "_view_module": "@jupyter-widgets/base",
            "_view_module_version": "1.2.0",
            "_view_name": "LayoutView",
            "align_content": null,
            "align_items": null,
            "align_self": null,
            "border": null,
            "bottom": null,
            "display": null,
            "flex": null,
            "flex_flow": null,
            "grid_area": null,
            "grid_auto_columns": null,
            "grid_auto_flow": null,
            "grid_auto_rows": null,
            "grid_column": null,
            "grid_gap": null,
            "grid_row": null,
            "grid_template_areas": null,
            "grid_template_columns": null,
            "grid_template_rows": null,
            "height": null,
            "justify_content": null,
            "justify_items": null,
            "left": null,
            "margin": null,
            "max_height": null,
            "max_width": null,
            "min_height": null,
            "min_width": null,
            "object_fit": null,
            "object_position": null,
            "order": null,
            "overflow": null,
            "overflow_x": null,
            "overflow_y": null,
            "padding": null,
            "right": null,
            "top": null,
            "visibility": null,
            "width": null
          }
        },
        "534f073397434787b95fa644063e28cd": {
          "model_module": "@jupyter-widgets/controls",
          "model_name": "DescriptionStyleModel",
          "model_module_version": "1.5.0",
          "state": {
            "_model_module": "@jupyter-widgets/controls",
            "_model_module_version": "1.5.0",
            "_model_name": "DescriptionStyleModel",
            "_view_count": null,
            "_view_module": "@jupyter-widgets/base",
            "_view_module_version": "1.2.0",
            "_view_name": "StyleView",
            "description_width": ""
          }
        },
        "af15e6b82d5a438b93859d53b8f0f2f8": {
          "model_module": "@jupyter-widgets/controls",
          "model_name": "DropdownModel",
          "model_module_version": "1.5.0",
          "state": {
            "_dom_classes": [],
            "_model_module": "@jupyter-widgets/controls",
            "_model_module_version": "1.5.0",
            "_model_name": "DropdownModel",
            "_options_labels": [
              "Учесть ранее рассчитанные результаты",
              "Cчитать заново"
            ],
            "_view_count": null,
            "_view_module": "@jupyter-widgets/controls",
            "_view_module_version": "1.5.0",
            "_view_name": "DropdownView",
            "description": "Выбор:",
            "description_tooltip": null,
            "disabled": false,
            "index": 0,
            "layout": "IPY_MODEL_2440e8598d3843feb1a87ad034b9c806",
            "style": "IPY_MODEL_a3a5dda1f9f44de999321daa23d88228"
          }
        },
        "2440e8598d3843feb1a87ad034b9c806": {
          "model_module": "@jupyter-widgets/base",
          "model_name": "LayoutModel",
          "model_module_version": "1.2.0",
          "state": {
            "_model_module": "@jupyter-widgets/base",
            "_model_module_version": "1.2.0",
            "_model_name": "LayoutModel",
            "_view_count": null,
            "_view_module": "@jupyter-widgets/base",
            "_view_module_version": "1.2.0",
            "_view_name": "LayoutView",
            "align_content": null,
            "align_items": null,
            "align_self": null,
            "border": null,
            "bottom": null,
            "display": null,
            "flex": null,
            "flex_flow": null,
            "grid_area": null,
            "grid_auto_columns": null,
            "grid_auto_flow": null,
            "grid_auto_rows": null,
            "grid_column": null,
            "grid_gap": null,
            "grid_row": null,
            "grid_template_areas": null,
            "grid_template_columns": null,
            "grid_template_rows": null,
            "height": null,
            "justify_content": null,
            "justify_items": null,
            "left": null,
            "margin": null,
            "max_height": null,
            "max_width": null,
            "min_height": null,
            "min_width": null,
            "object_fit": null,
            "object_position": null,
            "order": null,
            "overflow": null,
            "overflow_x": null,
            "overflow_y": null,
            "padding": null,
            "right": null,
            "top": null,
            "visibility": null,
            "width": null
          }
        },
        "a3a5dda1f9f44de999321daa23d88228": {
          "model_module": "@jupyter-widgets/controls",
          "model_name": "DescriptionStyleModel",
          "model_module_version": "1.5.0",
          "state": {
            "_model_module": "@jupyter-widgets/controls",
            "_model_module_version": "1.5.0",
            "_model_name": "DescriptionStyleModel",
            "_view_count": null,
            "_view_module": "@jupyter-widgets/base",
            "_view_module_version": "1.2.0",
            "_view_name": "StyleView",
            "description_width": ""
          }
        },
        "a09d80e076d8483ead313171c6fd8b7d": {
          "model_module": "@jupyter-widgets/controls",
          "model_name": "DropdownModel",
          "model_module_version": "1.5.0",
          "state": {
            "_dom_classes": [],
            "_model_module": "@jupyter-widgets/controls",
            "_model_module_version": "1.5.0",
            "_model_name": "DropdownModel",
            "_options_labels": [
              "Учесть ранее рассчитанные результаты",
              "Cчитать заново"
            ],
            "_view_count": null,
            "_view_module": "@jupyter-widgets/controls",
            "_view_module_version": "1.5.0",
            "_view_name": "DropdownView",
            "description": "Выбор:",
            "description_tooltip": null,
            "disabled": false,
            "index": 0,
            "layout": "IPY_MODEL_2a015b6ca7464e01a3733f2897c8213e",
            "style": "IPY_MODEL_4cbf24db1c3f4fcf9da5c9dd4c285fdb"
          }
        },
        "2a015b6ca7464e01a3733f2897c8213e": {
          "model_module": "@jupyter-widgets/base",
          "model_name": "LayoutModel",
          "model_module_version": "1.2.0",
          "state": {
            "_model_module": "@jupyter-widgets/base",
            "_model_module_version": "1.2.0",
            "_model_name": "LayoutModel",
            "_view_count": null,
            "_view_module": "@jupyter-widgets/base",
            "_view_module_version": "1.2.0",
            "_view_name": "LayoutView",
            "align_content": null,
            "align_items": null,
            "align_self": null,
            "border": null,
            "bottom": null,
            "display": null,
            "flex": null,
            "flex_flow": null,
            "grid_area": null,
            "grid_auto_columns": null,
            "grid_auto_flow": null,
            "grid_auto_rows": null,
            "grid_column": null,
            "grid_gap": null,
            "grid_row": null,
            "grid_template_areas": null,
            "grid_template_columns": null,
            "grid_template_rows": null,
            "height": null,
            "justify_content": null,
            "justify_items": null,
            "left": null,
            "margin": null,
            "max_height": null,
            "max_width": null,
            "min_height": null,
            "min_width": null,
            "object_fit": null,
            "object_position": null,
            "order": null,
            "overflow": null,
            "overflow_x": null,
            "overflow_y": null,
            "padding": null,
            "right": null,
            "top": null,
            "visibility": null,
            "width": null
          }
        },
        "4cbf24db1c3f4fcf9da5c9dd4c285fdb": {
          "model_module": "@jupyter-widgets/controls",
          "model_name": "DescriptionStyleModel",
          "model_module_version": "1.5.0",
          "state": {
            "_model_module": "@jupyter-widgets/controls",
            "_model_module_version": "1.5.0",
            "_model_name": "DescriptionStyleModel",
            "_view_count": null,
            "_view_module": "@jupyter-widgets/base",
            "_view_module_version": "1.2.0",
            "_view_name": "StyleView",
            "description_width": ""
          }
        }
      }
    }
  },
  "nbformat": 4,
  "nbformat_minor": 0
}