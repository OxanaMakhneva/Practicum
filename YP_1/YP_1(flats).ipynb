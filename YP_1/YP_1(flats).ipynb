{
 "cells": [
  {
   "cell_type": "markdown",
   "metadata": {},
   "source": [
    "<div style=\"border:solid Chocolate 2px; padding: 40px\">\n",
    "    \n",
    "Привет👋 Для того чтобы не создалась путаница я буду вставлять номер версии проверки в комментарии и на данном этапе мои замечания будут выглядеть таким образом:\n",
    "    \n",
    "<h2> Комментарий ревьюера #2 <a class=\"tocSkip\"> </h2> "
   ]
  },
  {
   "cell_type": "markdown",
   "metadata": {},
   "source": [
    "<div style=\"border:solid Chocolate 2px; padding: 40px\">\n",
    "\n",
    "<b>Оксана, привет!👋</b>\n",
    "\n",
    "Меня зовут Юлия Булекова, я буду ревьюером твоего проекта. Ты можешь обращаться ко мне на \"ты\"😏 Надеюсь, тебя также не смутит, если я буду обращаться к тебе на \"ты\", но если это неудобно, обязательно скажи об этом!\n",
    "\n",
    "Пожалуйста, не удаляй мои комментарии, они будут особенно полезны для нашей работы в случае повторной проверки проекта. \n",
    "\n",
    "\n",
    "\n",
    "Ты можешь найти мои комментарии, обозначенные <font color='green'>зеленым</font>, <font color='gold'>желтым</font> и <font color='red'>красным</font> цветами, например:\n",
    "\n",
    "<br/>\n",
    "\n",
    "<div class=\"alert alert-success\">\n",
    "<h2> Комментарий ревьюера <a class=\"tocSkip\"> </h2>\n",
    "\n",
    "<b>Все отлично!👍:</b> В случае, если решение на отдельном шаге является полностью правильным.\n",
    "</div>\n",
    "\n",
    "<br/>\n",
    "\n",
    "<div class=\"alert alert-warning\">\n",
    "    <h2> Комментарий ревьюера <a class=\"tocSkip\"> </h2>\n",
    "    \n",
    "<b>Некоторые замечания и рекомендации💡:</b> В случае, когда решение на отдельном шаге станет еще лучше, если внести небольшие коррективы.\n",
    "</div>\n",
    "\n",
    "\n",
    "<br/>\n",
    "<div class=\"alert alert-block alert-danger\">\n",
    "<h2> Комментарий ревьюера <a class=\"tocSkip\"></h2>\n",
    "\n",
    "    \n",
    "<b>На доработку🤔:</b>\n",
    " В случае, когда решение на отдельном шаге требует существенной переработки и внесения правок. Напоминаю, что проект не может быть принят с первого раза, если ревью содержит комментарии, рекомендующие доработать шаги.\n",
    "</div>\n",
    "    \n",
    "Увидев у тебя неточность, в первый раз я лишь укажу на ее наличие и дам тебе возможность самому найти и исправить ее. На реальной работе твой руководитель будет поступать также, и я пытаюсь подготовить тебя именно к работе аналитиком. Но если ты пока не справишься с такой задачей - при следующей проверке я дам более точную подсказку!🤓\n",
    "    \n",
    "    \n",
    "Предлагаю работать над проектом в диалоге: если ты хочешь ответить на мои комментарии — пиши об этом. Мне будет легче отследить изменения, если ты выделишь свои комментарии вот так:\n",
    "\n",
    "<div class=\"alert alert-info\">\n",
    "<h2> Комментарий студента<a class=\"tocSkip\"></h2>\n",
    "\n",
    "Тут текст.\n",
    "</div>\n",
    "\n",
    "\n",
    "Всё это поможет выполнить повторную проверку твоего проекта оперативнее."
   ]
  },
  {
   "cell_type": "markdown",
   "metadata": {},
   "source": [
    "# Исследование объявлений о продаже квартир\n",
    "\n",
    "В вашем распоряжении данные сервиса Яндекс.Недвижимость — архив объявлений о продаже квартир в Санкт-Петербурге и соседних населённых пунктов за несколько лет. Нужно научиться определять рыночную стоимость объектов недвижимости. Ваша задача — установить параметры. Это позволит построить автоматизированную систему: она отследит аномалии и мошенническую деятельность. \n",
    "\n",
    "По каждой квартире на продажу доступны два вида данных. Первые вписаны пользователем, вторые — получены автоматически на основе картографических данных. Например, расстояние до центра, аэропорта, ближайшего парка и водоёма. "
   ]
  },
  {
   "cell_type": "markdown",
   "metadata": {},
   "source": [
    "## Постановка задачи\n",
    "Основныая цель исследования - установить параметры, на основании которых можно определbть рыночную стоимость объектов, отслеживать аномалии в данных и выявлять мошенническую деятельность.\n",
    "\n",
    "Основные задачи исследования:\n",
    "1. Провести предъобработку данных:\n",
    "- заполнить пропуски;\n",
    "- исправить ошибки в данных (неверные  единицы измерения и типы данных, перепутанные столбцы и т.д.);\n",
    "- исключить аномальные значения;\n",
    "- удалить дубликаты.\n",
    "2. Выявить показатели, появление которых в записи об объекте недвижимости сигнализирует о необходимости ее дополнительной проверки.\n",
    "3. Изучить существующие зависимости между стоимостью объекта и его характеристиками (площадью, тип недвижимости, время публикации объявления, расстоянием до центра, аэропорта, ближайшего парка или пруда и т.д.)\n",
    "4. Выявить показатели, появление которых в объявлении сигнализирует о необходимости его дополнительно проверки.\n",
    "5. Выявить показатели, которые могут свидетельствовать о том, что опубликованное объявление - мошеннеческое\n",
    "\n",
    "Описание данных\n",
    "- airports_nearest — расстояние до ближайшего аэропорта в метрах (м)\n",
    "- balcony — число балконов\n",
    "- ceiling_height — высота потолков (м)\n",
    "- cityCenters_nearest — расстояние до центра города (м)\n",
    "- days_exposition — сколько дней было размещено объявление (от публикации до снятия)\n",
    "- first_day_exposition — дата публикации\n",
    "- floor — этаж\n",
    "- floors_total — всего этажей в доме\n",
    "- is_apartment — апартаменты (булев тип)\n",
    "- kitchen_area — площадь кухни в квадратных метрах (м²)\n",
    "- last_price — цена на момент снятия с публикации\n",
    "- living_area — жилая площадь в квадратных метрах (м²)\n",
    "- locality_name — название населённого пункта\n",
    "- open_plan — свободная планировка (булев тип)\n",
    "- parks_around3000 — число парков в радиусе 3 км\n",
    "- parks_nearest — расстояние до ближайшего парка (м)\n",
    "- ponds_around3000 — число водоёмов в радиусе 3 км\n",
    "- ponds_nearest — расстояние до ближайшего водоёма (м)\n",
    "- rooms — число комнат\n",
    "- studio — квартира-студия (булев тип)\n",
    "- total_area — общая площадь квартиры в квадратных метрах (м²)\n",
    "- total_images — число фотографий квартиры в объявлении"
   ]
  },
  {
   "cell_type": "markdown",
   "metadata": {},
   "source": [
    "<div class=\"alert alert-success\"> \n",
    "<h2> Комментарий ревьюера <a class=\"tocSkip\"> </h2>\n",
    "\n",
    "<b>Все отлично!👍:</b> \n",
    "Здорово, что описание проекта и интерактивное оглавление добавлены в работу.👌"
   ]
  },
  {
   "cell_type": "markdown",
   "metadata": {},
   "source": [
    "## Подготовка к исследованию"
   ]
  },
  {
   "cell_type": "markdown",
   "metadata": {},
   "source": [
    "### Откройте файл с данными и изучите общую информацию. "
   ]
  },
  {
   "cell_type": "code",
   "execution_count": 2,
   "metadata": {},
   "outputs": [],
   "source": [
    "import pandas as pd\n",
    "import matplotlib.pyplot as plt\n",
    "try:\n",
    "    data = pd.read_csv(\"/datasets/real_estate_data.csv\", sep = '\\t')\n",
    "except Exception as err:  \n",
    "    print(f'Не удалось считать дататест, ошибка: {err}')\n",
    "        "
   ]
  },
  {
   "cell_type": "code",
   "execution_count": 3,
   "metadata": {},
   "outputs": [
    {
     "data": {
      "text/html": [
       "<div>\n",
       "<style scoped>\n",
       "    .dataframe tbody tr th:only-of-type {\n",
       "        vertical-align: middle;\n",
       "    }\n",
       "\n",
       "    .dataframe tbody tr th {\n",
       "        vertical-align: top;\n",
       "    }\n",
       "\n",
       "    .dataframe thead th {\n",
       "        text-align: right;\n",
       "    }\n",
       "</style>\n",
       "<table border=\"1\" class=\"dataframe\">\n",
       "  <thead>\n",
       "    <tr style=\"text-align: right;\">\n",
       "      <th></th>\n",
       "      <th>total_images</th>\n",
       "      <th>last_price</th>\n",
       "      <th>total_area</th>\n",
       "      <th>first_day_exposition</th>\n",
       "      <th>rooms</th>\n",
       "      <th>ceiling_height</th>\n",
       "      <th>floors_total</th>\n",
       "      <th>living_area</th>\n",
       "      <th>floor</th>\n",
       "      <th>is_apartment</th>\n",
       "      <th>...</th>\n",
       "      <th>kitchen_area</th>\n",
       "      <th>balcony</th>\n",
       "      <th>locality_name</th>\n",
       "      <th>airports_nearest</th>\n",
       "      <th>cityCenters_nearest</th>\n",
       "      <th>parks_around3000</th>\n",
       "      <th>parks_nearest</th>\n",
       "      <th>ponds_around3000</th>\n",
       "      <th>ponds_nearest</th>\n",
       "      <th>days_exposition</th>\n",
       "    </tr>\n",
       "  </thead>\n",
       "  <tbody>\n",
       "    <tr>\n",
       "      <th>0</th>\n",
       "      <td>20</td>\n",
       "      <td>13000000.0</td>\n",
       "      <td>108.0</td>\n",
       "      <td>2019-03-07T00:00:00</td>\n",
       "      <td>3</td>\n",
       "      <td>2.70</td>\n",
       "      <td>16.0</td>\n",
       "      <td>51.0</td>\n",
       "      <td>8</td>\n",
       "      <td>NaN</td>\n",
       "      <td>...</td>\n",
       "      <td>25.0</td>\n",
       "      <td>NaN</td>\n",
       "      <td>Санкт-Петербург</td>\n",
       "      <td>18863.0</td>\n",
       "      <td>16028.0</td>\n",
       "      <td>1.0</td>\n",
       "      <td>482.0</td>\n",
       "      <td>2.0</td>\n",
       "      <td>755.0</td>\n",
       "      <td>NaN</td>\n",
       "    </tr>\n",
       "    <tr>\n",
       "      <th>1</th>\n",
       "      <td>7</td>\n",
       "      <td>3350000.0</td>\n",
       "      <td>40.4</td>\n",
       "      <td>2018-12-04T00:00:00</td>\n",
       "      <td>1</td>\n",
       "      <td>NaN</td>\n",
       "      <td>11.0</td>\n",
       "      <td>18.6</td>\n",
       "      <td>1</td>\n",
       "      <td>NaN</td>\n",
       "      <td>...</td>\n",
       "      <td>11.0</td>\n",
       "      <td>2.0</td>\n",
       "      <td>посёлок Шушары</td>\n",
       "      <td>12817.0</td>\n",
       "      <td>18603.0</td>\n",
       "      <td>0.0</td>\n",
       "      <td>NaN</td>\n",
       "      <td>0.0</td>\n",
       "      <td>NaN</td>\n",
       "      <td>81.0</td>\n",
       "    </tr>\n",
       "    <tr>\n",
       "      <th>2</th>\n",
       "      <td>10</td>\n",
       "      <td>5196000.0</td>\n",
       "      <td>56.0</td>\n",
       "      <td>2015-08-20T00:00:00</td>\n",
       "      <td>2</td>\n",
       "      <td>NaN</td>\n",
       "      <td>5.0</td>\n",
       "      <td>34.3</td>\n",
       "      <td>4</td>\n",
       "      <td>NaN</td>\n",
       "      <td>...</td>\n",
       "      <td>8.3</td>\n",
       "      <td>0.0</td>\n",
       "      <td>Санкт-Петербург</td>\n",
       "      <td>21741.0</td>\n",
       "      <td>13933.0</td>\n",
       "      <td>1.0</td>\n",
       "      <td>90.0</td>\n",
       "      <td>2.0</td>\n",
       "      <td>574.0</td>\n",
       "      <td>558.0</td>\n",
       "    </tr>\n",
       "    <tr>\n",
       "      <th>3</th>\n",
       "      <td>0</td>\n",
       "      <td>64900000.0</td>\n",
       "      <td>159.0</td>\n",
       "      <td>2015-07-24T00:00:00</td>\n",
       "      <td>3</td>\n",
       "      <td>NaN</td>\n",
       "      <td>14.0</td>\n",
       "      <td>NaN</td>\n",
       "      <td>9</td>\n",
       "      <td>NaN</td>\n",
       "      <td>...</td>\n",
       "      <td>NaN</td>\n",
       "      <td>0.0</td>\n",
       "      <td>Санкт-Петербург</td>\n",
       "      <td>28098.0</td>\n",
       "      <td>6800.0</td>\n",
       "      <td>2.0</td>\n",
       "      <td>84.0</td>\n",
       "      <td>3.0</td>\n",
       "      <td>234.0</td>\n",
       "      <td>424.0</td>\n",
       "    </tr>\n",
       "    <tr>\n",
       "      <th>4</th>\n",
       "      <td>2</td>\n",
       "      <td>10000000.0</td>\n",
       "      <td>100.0</td>\n",
       "      <td>2018-06-19T00:00:00</td>\n",
       "      <td>2</td>\n",
       "      <td>3.03</td>\n",
       "      <td>14.0</td>\n",
       "      <td>32.0</td>\n",
       "      <td>13</td>\n",
       "      <td>NaN</td>\n",
       "      <td>...</td>\n",
       "      <td>41.0</td>\n",
       "      <td>NaN</td>\n",
       "      <td>Санкт-Петербург</td>\n",
       "      <td>31856.0</td>\n",
       "      <td>8098.0</td>\n",
       "      <td>2.0</td>\n",
       "      <td>112.0</td>\n",
       "      <td>1.0</td>\n",
       "      <td>48.0</td>\n",
       "      <td>121.0</td>\n",
       "    </tr>\n",
       "  </tbody>\n",
       "</table>\n",
       "<p>5 rows × 22 columns</p>\n",
       "</div>"
      ],
      "text/plain": [
       "   total_images  last_price  total_area first_day_exposition  rooms  \\\n",
       "0            20  13000000.0       108.0  2019-03-07T00:00:00      3   \n",
       "1             7   3350000.0        40.4  2018-12-04T00:00:00      1   \n",
       "2            10   5196000.0        56.0  2015-08-20T00:00:00      2   \n",
       "3             0  64900000.0       159.0  2015-07-24T00:00:00      3   \n",
       "4             2  10000000.0       100.0  2018-06-19T00:00:00      2   \n",
       "\n",
       "   ceiling_height  floors_total  living_area  floor is_apartment  ...  \\\n",
       "0            2.70          16.0         51.0      8          NaN  ...   \n",
       "1             NaN          11.0         18.6      1          NaN  ...   \n",
       "2             NaN           5.0         34.3      4          NaN  ...   \n",
       "3             NaN          14.0          NaN      9          NaN  ...   \n",
       "4            3.03          14.0         32.0     13          NaN  ...   \n",
       "\n",
       "   kitchen_area  balcony    locality_name  airports_nearest  \\\n",
       "0          25.0      NaN  Санкт-Петербург           18863.0   \n",
       "1          11.0      2.0   посёлок Шушары           12817.0   \n",
       "2           8.3      0.0  Санкт-Петербург           21741.0   \n",
       "3           NaN      0.0  Санкт-Петербург           28098.0   \n",
       "4          41.0      NaN  Санкт-Петербург           31856.0   \n",
       "\n",
       "  cityCenters_nearest  parks_around3000  parks_nearest  ponds_around3000  \\\n",
       "0             16028.0               1.0          482.0               2.0   \n",
       "1             18603.0               0.0            NaN               0.0   \n",
       "2             13933.0               1.0           90.0               2.0   \n",
       "3              6800.0               2.0           84.0               3.0   \n",
       "4              8098.0               2.0          112.0               1.0   \n",
       "\n",
       "   ponds_nearest  days_exposition  \n",
       "0          755.0              NaN  \n",
       "1            NaN             81.0  \n",
       "2          574.0            558.0  \n",
       "3          234.0            424.0  \n",
       "4           48.0            121.0  \n",
       "\n",
       "[5 rows x 22 columns]"
      ]
     },
     "metadata": {},
     "output_type": "display_data"
    }
   ],
   "source": [
    "#Первые 10 строк датафрейма\n",
    "display(data.head(5))"
   ]
  },
  {
   "cell_type": "markdown",
   "metadata": {},
   "source": [
    "<div class=\"alert alert-info\">\n",
    "<h2> Комментарий V1<a class=\"tocSkip\"></h2>\n",
    "<p>1. разделила импорт библиотек и считывание данных</p>\n",
    "2. добавила конструкцию try..except (хотя мне кажется она здесь не очень нужна, если данные по какой-либо причине не считаются, то дальнейшая работа программы все равно бесполезна. я думаю, ее стоит использовать если хочется попробовать альтернативный вариант загрузки данных, например из тетради )\n",
    "</div>"
   ]
  },
  {
   "cell_type": "markdown",
   "metadata": {},
   "source": [
    "<div class=\"alert alert-success\"> \n",
    "<h2> Комментарий ревьюера #2 <a class=\"tocSkip\"> </h2>\n",
    "\n",
    "<b>Все отлично!👍:</b> \n",
    "Оксана, совершенно верно, данную конструкцию стоит использовать для загрузки файла из различных источников."
   ]
  },
  {
   "cell_type": "markdown",
   "metadata": {},
   "source": [
    "<div class=\"alert alert-warning\">\n",
    "    <h2> Комментарий ревьюера <a class=\"tocSkip\"> </h2>\n",
    "    \n",
    "<b>Некоторые замечания и рекомендации💡:</b>\n",
    "        \n",
    "1. Код загрузки библиотек и код на чтение файла лучше разграничивать, это общий стандарт оформления работы=)\n",
    "2. Для подгрузки данных рекомендую использовать конструкцию `try-except`, она поможет избежать потенциальных ошибок при загрузке данных, связанных, например, с некорректным указанием путей.\n",
    "        \n",
    "Подробнее о конструкции по ссылке:\n",
    "        \n",
    "https://pythonworld.ru/tipy-dannyx-v-python/isklyucheniya-v-python-konstrukciya-try-except-dlya-obrabotki-isklyuchenij.html\n",
    "        \n",
    "Либо же можно использовать стандартную библиотеку os:\n",
    "        \n",
    "https://pythonworld.ru/moduli/modul-os.html\n",
    "        \n",
    "Несколько интересных статей кейсы использования конструкции `try-except`:\n",
    "    \n",
    "https://www.programiz.com/python-programming/exception-handling\n",
    "    \n",
    "https://towardsdatascience.com/do-not-abuse-try-except-in-python-d9b8ee59e23b\n",
    "    \n",
    "https://www.techbeamers.com/use-try-except-python/"
   ]
  },
  {
   "cell_type": "code",
   "execution_count": 4,
   "metadata": {},
   "outputs": [
    {
     "name": "stdout",
     "output_type": "stream",
     "text": [
      "<class 'pandas.core.frame.DataFrame'>\n",
      "RangeIndex: 23699 entries, 0 to 23698\n",
      "Data columns (total 22 columns):\n",
      " #   Column                Non-Null Count  Dtype  \n",
      "---  ------                --------------  -----  \n",
      " 0   total_images          23699 non-null  int64  \n",
      " 1   last_price            23699 non-null  float64\n",
      " 2   total_area            23699 non-null  float64\n",
      " 3   first_day_exposition  23699 non-null  object \n",
      " 4   rooms                 23699 non-null  int64  \n",
      " 5   ceiling_height        14504 non-null  float64\n",
      " 6   floors_total          23613 non-null  float64\n",
      " 7   living_area           21796 non-null  float64\n",
      " 8   floor                 23699 non-null  int64  \n",
      " 9   is_apartment          2775 non-null   object \n",
      " 10  studio                23699 non-null  bool   \n",
      " 11  open_plan             23699 non-null  bool   \n",
      " 12  kitchen_area          21421 non-null  float64\n",
      " 13  balcony               12180 non-null  float64\n",
      " 14  locality_name         23650 non-null  object \n",
      " 15  airports_nearest      18157 non-null  float64\n",
      " 16  cityCenters_nearest   18180 non-null  float64\n",
      " 17  parks_around3000      18181 non-null  float64\n",
      " 18  parks_nearest         8079 non-null   float64\n",
      " 19  ponds_around3000      18181 non-null  float64\n",
      " 20  ponds_nearest         9110 non-null   float64\n",
      " 21  days_exposition       20518 non-null  float64\n",
      "dtypes: bool(2), float64(14), int64(3), object(3)\n",
      "memory usage: 3.7+ MB\n"
     ]
    }
   ],
   "source": [
    "#Данные о датафрейме \n",
    "data.info()\n",
    "\n",
    "#Размер начальной выборки\n",
    "original_len = len(data)"
   ]
  },
  {
   "cell_type": "code",
   "execution_count": 5,
   "metadata": {},
   "outputs": [
    {
     "name": "stdout",
     "output_type": "stream",
     "text": [
      "В данных имеется 0 явных дубдикатов\n"
     ]
    }
   ],
   "source": [
    "#Проверка на дубликаты\n",
    "print(f'В данных имеется {data.duplicated().sum()} явных дубдикатов')"
   ]
  },
  {
   "cell_type": "markdown",
   "metadata": {},
   "source": [
    "<div class=\"alert alert-info\">\n",
    "<h2> Комментарий V1<a class=\"tocSkip\"></h2>\n",
    "<p>1. Добавила проверку на явные дубликаты"
   ]
  },
  {
   "cell_type": "markdown",
   "metadata": {},
   "source": [
    "<div class=\"alert alert-success\"> \n",
    "<h2> Комментарий ревьюера #2 <a class=\"tocSkip\"> </h2>\n",
    "\n",
    "<b>Все отлично!👍:</b> \n",
    "    \n",
    "В данном датасете явных дубликатов не оказалось и пропуск этапа их проверки критически не повлиял на результаты в целом. Но в будущем, можно сразу проверять данные на дубликаты после вывода df.info()."
   ]
  },
  {
   "cell_type": "markdown",
   "metadata": {},
   "source": [
    "<div class=\"alert alert-warning\">\n",
    "    <h2> Комментарий ревьюера <a class=\"tocSkip\"> </h2>\n",
    "    \n",
    "<b>Некоторые замечания и рекомендации💡:</b>\n",
    "        \n",
    "        \n",
    "1. С твоего позволения уберу команду print в ячейке ниже так как она излишняя.\n",
    "2. Было бы здорово проверить датасет на наличие дубликатов. Это основа предобработки данных."
   ]
  },
  {
   "cell_type": "code",
   "execution_count": 6,
   "metadata": {},
   "outputs": [
    {
     "data": {
      "text/plain": [
       "total_images                0\n",
       "last_price                  0\n",
       "total_area                  0\n",
       "first_day_exposition        0\n",
       "rooms                       0\n",
       "ceiling_height           9195\n",
       "floors_total               86\n",
       "living_area              1903\n",
       "floor                       0\n",
       "is_apartment            20924\n",
       "studio                      0\n",
       "open_plan                   0\n",
       "kitchen_area             2278\n",
       "balcony                 11519\n",
       "locality_name              49\n",
       "airports_nearest         5542\n",
       "cityCenters_nearest      5519\n",
       "parks_around3000         5518\n",
       "parks_nearest           15620\n",
       "ponds_around3000         5518\n",
       "ponds_nearest           14589\n",
       "days_exposition          3181\n",
       "dtype: int64"
      ]
     },
     "execution_count": 6,
     "metadata": {},
     "output_type": "execute_result"
    }
   ],
   "source": [
    "#Подсчет пропусков в каждом из столбцов датафрейма\n",
    "data.isna().sum()"
   ]
  },
  {
   "cell_type": "code",
   "execution_count": 7,
   "metadata": {},
   "outputs": [
    {
     "data": {
      "image/png": "[encoded data removed]",
      "text/plain": [
       "<Figure size 1080x1440 with 20 Axes>"
      ]
     },
     "metadata": {
      "needs_background": "light"
     },
     "output_type": "display_data"
    }
   ],
   "source": [
    "#Гистограмма для всего датасета\n",
    "ax = data.hist(figsize=(15, 20))"
   ]
  },
  {
   "cell_type": "markdown",
   "metadata": {},
   "source": [
    "<div class=\"alert alert-info\">\n",
    "<h2> Комментарий V1<a class=\"tocSkip\"></h2>\n",
    "<p>1. Построила гистограммы"
   ]
  },
  {
   "cell_type": "markdown",
   "metadata": {},
   "source": [
    "<div class=\"alert alert-success\"> \n",
    "<h2> Комментарий ревьюера #2 <a class=\"tocSkip\"> </h2>\n",
    "\n",
    "<b>Все отлично!👍:</b> \n",
    "    \n",
    "+"
   ]
  },
  {
   "cell_type": "markdown",
   "metadata": {},
   "source": [
    "<div class=\"alert alert-block alert-danger\">\n",
    "<h2> Комментарий ревьюера<a class=\"tocSkip\"></h2>\n",
    "\n",
    "    \n",
    "<b>На доработку🤔:</b>\n",
    " \n",
    "Пожалуйста, построй общую гистограмму для всех параметров датасета, об этом было сказано в задании:\n",
    "    \n",
    "    Постройте общую гистограмму для всех столбцов таблицы. Например, для датафрейма data это можно сделать командой data.hist(figsize=(15, 20))."
   ]
  },
  {
   "cell_type": "markdown",
   "metadata": {},
   "source": [
    "## Предобработка данных"
   ]
  },
  {
   "cell_type": "markdown",
   "metadata": {},
   "source": [
    "### Заполнение пропусков в данных"
   ]
  },
  {
   "cell_type": "markdown",
   "metadata": {},
   "source": [
    "В представленных данных есть пропуски в следующих столбцах:\n",
    "- ceiling_height           9195\n",
    "- floors_total               86\n",
    "- living_area              1903\n",
    "- is_apartment            20924\n",
    "- kitchen_area             2278\n",
    "- balcony                 11519\n",
    "- locality_name              49\n",
    "- airports_nearest         5542\n",
    "- cityCenters_nearest      5519\n",
    "- parks_around3000         5518\n",
    "- parks_nearest           15620\n",
    "- ponds_around3000         5518\n",
    "- ponds_nearest           14589\n",
    "- days_exposition          3181\n",
    "\n",
    "  Природа появления этих пропусков вероятно различается для каждого из них. Проанализируем столбцы с пропусками по отдельности.\n",
    "  Начнем со столбца с большим количеством пропусков (balcony). Он хранит в себе информации о том, сколько балконов в объекте недвижимости. Наиболее вероятно, пустое значение в нем  - это не пропуск, а символ того, что у рассматриваемого объекта балконы отсутсвуют. Скорее всего потенциальные покупатели, рассматривая объявления, и не находя информации о количествые балконов, автоматически полагают, что балконов у данного объекта нет. Поэтому замена пропусков в данном столбце на нули закономерна. "
   ]
  },
  {
   "cell_type": "code",
   "execution_count": 8,
   "metadata": {},
   "outputs": [
    {
     "name": "stdout",
     "output_type": "stream",
     "text": [
      "total_images                0\n",
      "last_price                  0\n",
      "total_area                  0\n",
      "first_day_exposition        0\n",
      "rooms                       0\n",
      "ceiling_height           9195\n",
      "floors_total               86\n",
      "living_area              1903\n",
      "floor                       0\n",
      "is_apartment            20924\n",
      "studio                      0\n",
      "open_plan                   0\n",
      "kitchen_area             2278\n",
      "balcony                     0\n",
      "locality_name              49\n",
      "airports_nearest         5542\n",
      "cityCenters_nearest      5519\n",
      "parks_around3000         5518\n",
      "parks_nearest           15620\n",
      "ponds_around3000         5518\n",
      "ponds_nearest           14589\n",
      "days_exposition          3181\n",
      "dtype: int64\n"
     ]
    }
   ],
   "source": [
    "#Заменим пустные значения в столбце balcony на нули  \n",
    "data.loc[(data['balcony'].isna()), 'balcony'] = 0\n",
    "#Определим сколько пропусков есть в каждом из столбцов датафрейма\n",
    "print(data.isna().sum())"
   ]
  },
  {
   "cell_type": "code",
   "execution_count": 9,
   "metadata": {},
   "outputs": [
    {
     "name": "stdout",
     "output_type": "stream",
     "text": [
      "total_images                0\n",
      "last_price                  0\n",
      "total_area                  0\n",
      "first_day_exposition        0\n",
      "rooms                       0\n",
      "ceiling_height           9195\n",
      "floors_total                0\n",
      "living_area              1903\n",
      "floor                       0\n",
      "is_apartment            20924\n",
      "studio                      0\n",
      "open_plan                   0\n",
      "kitchen_area             2278\n",
      "balcony                     0\n",
      "locality_name              49\n",
      "airports_nearest         5542\n",
      "cityCenters_nearest      5519\n",
      "parks_around3000         5518\n",
      "parks_nearest           15620\n",
      "ponds_around3000         5518\n",
      "ponds_nearest           14589\n",
      "days_exposition          3181\n",
      "dtype: int64\n"
     ]
    }
   ],
   "source": [
    "#Заменим пустные значения в столбце balcony на нули  \n",
    "data.loc[(data['floors_total'].isna()), 'floors_total'] = 0\n",
    "#Определим сколько пропусков есть в каждом из столбцов датафрейма\n",
    "print(data.isna().sum())"
   ]
  },
  {
   "cell_type": "markdown",
   "metadata": {},
   "source": [
    "<div class=\"alert alert-success\"> \n",
    "<h2> Комментарий ревьюера <a class=\"tocSkip\"> </h2>\n",
    "\n",
    "<b>Все отлично!👍:</b> \n",
    "Действительно, логично предположить, что балкона просто нет, если в столбце балконов пропуск. Также интересный подход к обработке пропусков в is_apartment и использование заглушки unknown 👍👍👍."
   ]
  },
  {
   "cell_type": "markdown",
   "metadata": {},
   "source": [
    "Рассмотрим столбец is_apartment. Он содержит информацию о том, относится ли объект к аппартаметами или к жилой недвижимости. Ни по каким другим косвенным признакам, содержащимся в дататесте, идетифицировать тип объекта мы не можем. При этом тип объекта является чувствительным параметром для потенциального покупателя. Так как апартаменты, являясь коммерческой недвижимостью, имеют свои во многом негативные особенности (невозможность оформить прописку, оформить ипотеку, налоговый вычет и тд). С учетом изложенного нельзя \"предположить\", какое значение пропущено в каждой строчке для этого столбца. Но и удалить все строки с пропущенными значениями нельзя - их слишком много (20924). Поэтому принято решение, заменить пустые значения на строку \"unknown\".  Это возможно, так как тип столбца - object."
   ]
  },
  {
   "cell_type": "code",
   "execution_count": 10,
   "metadata": {},
   "outputs": [],
   "source": [
    "#Замена пустных значений в столбце is_apartment на \"unknown\" \n",
    "data.loc[(data['is_apartment'].isna()), 'is_apartment'] = \"unknown\""
   ]
  },
  {
   "cell_type": "markdown",
   "metadata": {},
   "source": [
    "Рассмотрим столбец days_exposition . Он содержит информацию о том, какое количество дней объявление было активно. Фактически, это один из центральных показателей в проводимом исследовании. Веедь скорость исчезновения объявления в общем случае может быть приравнена к привлекательности объекта недвижимости и, соостветственно, скорости его продажи. Если этот параметр неизаестен - остальные данные строки теряют свою информативность. Рассчитаем долю строк, в которых отсутствует данные о времени размещения объявления."
   ]
  },
  {
   "cell_type": "code",
   "execution_count": 11,
   "metadata": {},
   "outputs": [
    {
     "name": "stdout",
     "output_type": "stream",
     "text": [
      "Доля пропущенных записей в категории длительность размещения: 13.4%\n"
     ]
    }
   ],
   "source": [
    "#Данные о количестве пропущенных значений в столбце days_exposition\n",
    "print(f'Доля пропущенных записей в категории длительность размещения: {data[\"days_exposition\"].isna().sum()/len(data):.1%}')"
   ]
  },
  {
   "cell_type": "markdown",
   "metadata": {},
   "source": [
    "Потеря 13% данных непремлима при работе с отчисткой данных. Поэтому строки с пропусками в столбце days_exposition необходимо сохранить. Для этого заменим пропуски на флаг - заглушку. Предположим, что значение пустое, потому что объявление еще висит и срок его размещения нельзя вычислить. Во многих библиотека python для переменных, которые не удалось вычислить применяется величина -1. Копируя эти практики, заменим пропуски на -1. "
   ]
  },
  {
   "cell_type": "code",
   "execution_count": 12,
   "metadata": {},
   "outputs": [],
   "source": [
    "#Замена пустных значений в столбце days_exposition на -1\n",
    "data.loc[(data['days_exposition'].isna()), 'days_exposition'] = -1"
   ]
  },
  {
   "cell_type": "markdown",
   "metadata": {},
   "source": [
    "<div class=\"alert alert-info\">\n",
    "<h2> Комментарий V1<a class=\"tocSkip\"></h2>\n",
    "<p>\n",
    "    1. Исправила промежуточный вывод (о том, что надо удалить строчки из столбца days_exposition)</p>\n",
    "    2. Заменила удаление строк из датасета на замену пустых значений заглушкой "
   ]
  },
  {
   "cell_type": "markdown",
   "metadata": {},
   "source": [
    "<div class=\"alert alert-success\"> \n",
    "<h2> Комментарий ревьюера #2 <a class=\"tocSkip\"> </h2>\n",
    "\n",
    "<b>Все отлично!👍:</b> \n",
    "    \n",
    "Хорошая работа, как писала ранее - здесь можно применить заглушку, но  на последующих этапах важно учитывать ее наличие при анализе данного параметра."
   ]
  },
  {
   "cell_type": "markdown",
   "metadata": {},
   "source": [
    "<div class=\"alert alert-block alert-danger\">\n",
    "<h2> Комментарий ревьюера<a class=\"tocSkip\"></h2>\n",
    "\n",
    "    \n",
    "<b>На доработку🤔:</b>\n",
    "Если проводить чистку данных по столбцу с пропусками - это привидет к удалению из датасета всех строк с пропусками в этом столбце. Это может привести к искажениям в данных, так как в других параметрах в удаляемых строках могут содержаться корректные значения и у нас нет причин для такого радикального удаления данных по другим колонкам. \n",
    "В целом по датасету ***удаление 10% данных и менее - считается приемлемым уровнем при работе с очисткой данных***.\n",
    "    \n",
    "Пропуски в days_exposition можно сохранить или, при необходимости заменить на заглушку. Значение заглушка это служебное значение, которое вводится с целью заполнения пропусков для дальнейшей обработки параметра. Например, в качестве заглушки можно использовать -1 или -9999, то есть те значения, которые не встречаются в обрабатываемом параметре. "
   ]
  },
  {
   "cell_type": "code",
   "execution_count": 13,
   "metadata": {},
   "outputs": [
    {
     "name": "stdout",
     "output_type": "stream",
     "text": [
      "<class 'pandas.core.frame.DataFrame'>\n",
      "RangeIndex: 23699 entries, 0 to 23698\n",
      "Data columns (total 22 columns):\n",
      " #   Column                Non-Null Count  Dtype  \n",
      "---  ------                --------------  -----  \n",
      " 0   total_images          23699 non-null  int64  \n",
      " 1   last_price            23699 non-null  float64\n",
      " 2   total_area            23699 non-null  float64\n",
      " 3   first_day_exposition  23699 non-null  object \n",
      " 4   rooms                 23699 non-null  int64  \n",
      " 5   ceiling_height        14504 non-null  float64\n",
      " 6   floors_total          23699 non-null  float64\n",
      " 7   living_area           21796 non-null  float64\n",
      " 8   floor                 23699 non-null  int64  \n",
      " 9   is_apartment          23699 non-null  object \n",
      " 10  studio                23699 non-null  bool   \n",
      " 11  open_plan             23699 non-null  bool   \n",
      " 12  kitchen_area          21421 non-null  float64\n",
      " 13  balcony               23699 non-null  float64\n",
      " 14  locality_name         23650 non-null  object \n",
      " 15  airports_nearest      18157 non-null  float64\n",
      " 16  cityCenters_nearest   18180 non-null  float64\n",
      " 17  parks_around3000      18181 non-null  float64\n",
      " 18  parks_nearest         8079 non-null   float64\n",
      " 19  ponds_around3000      18181 non-null  float64\n",
      " 20  ponds_nearest         9110 non-null   float64\n",
      " 21  days_exposition       23699 non-null  float64\n",
      "dtypes: bool(2), float64(14), int64(3), object(3)\n",
      "memory usage: 3.7+ MB\n"
     ]
    }
   ],
   "source": [
    "#Определим сколько пропусков есть в каждом из столбцов датафрейма после удаления\n",
    "data.isna().sum()\n",
    "data.info()"
   ]
  },
  {
   "cell_type": "markdown",
   "metadata": {},
   "source": [
    "<div class=\"alert alert-info\">\n",
    "<h2> Комментарий V1<a class=\"tocSkip\"></h2>\n",
    "<p>\n",
    "    1. Убрала лишний print</p>\n",
    " "
   ]
  },
  {
   "cell_type": "markdown",
   "metadata": {},
   "source": [
    "<div class=\"alert alert-success\"> \n",
    "<h2> Комментарий ревьюера #2 <a class=\"tocSkip\"> </h2>\n",
    "\n",
    "<b>Все отлично!👍:</b> \n",
    "    \n",
    "+"
   ]
  },
  {
   "cell_type": "markdown",
   "metadata": {},
   "source": [
    "<div class=\"alert alert-warning\">\n",
    "    <h2> Комментарий ревьюера <a class=\"tocSkip\"> </h2>\n",
    "    \n",
    "<b>Некоторые замечания и рекомендации💡:</b>\n",
    "        \n",
    "        \n",
    "Здесь также print  излишняя.\n"
   ]
  },
  {
   "cell_type": "markdown",
   "metadata": {},
   "source": [
    "Еще один максимально чувствительный с точки зрения исследования столбец - locality_name (название населенного пункта). Покупатели точно не будут рассматривать объявление об объекте, для которого неизвестен населенный пункт его расположения. Посчитаем долюстрок с незаполненным именем населенного пункта. Если доля менее 1 % удалим соответствующие строки."
   ]
  },
  {
   "cell_type": "code",
   "execution_count": 14,
   "metadata": {},
   "outputs": [
    {
     "name": "stdout",
     "output_type": "stream",
     "text": [
      "Доля удаленных записей в категории название населенного пункта составила: 0.2%\n"
     ]
    }
   ],
   "source": [
    "#Данные о количестве пропущенных значений в столбце locality_name\n",
    "ratio = data[\"locality_name\"].isna().sum()/len(data)\n",
    "\n",
    "#Удаление записей (если их меньше 1%) или вывод на жкран доли нулевых записей (если их больше 1%) \n",
    "if ratio == 0:\n",
    "    print(f'В датасете нет пустых значений в столбце locality_name')\n",
    "elif ratio < 0.01:   \n",
    "    data.dropna(subset = ['locality_name'], inplace = True)\n",
    "    print(f'Доля удаленных записей в категории название населенного пункта составила: {ratio:.1%}')\n",
    "    #Обновление индексов \n",
    "    data.reset_index()\n",
    "else:\n",
    "    print(f'Доля удаленных записей в категории название населенного пункта составила: {ratio:.1%}')"
   ]
  },
  {
   "cell_type": "markdown",
   "metadata": {},
   "source": [
    "<div class=\"alert alert-info\">\n",
    "<h2> Комментарий V1<a class=\"tocSkip\"></h2>\n",
    "<p>\n",
    "    1. Добавила проверку на долю удаляемых строк, так как их менее 1% - удалила строки с пропусками в столбце locality_name</p>"
   ]
  },
  {
   "cell_type": "markdown",
   "metadata": {},
   "source": [
    "<div class=\"alert alert-success\"> \n",
    "<h2> Комментарий ревьюера #2 <a class=\"tocSkip\"> </h2>\n",
    "\n",
    "<b>Все отлично!👍:</b> \n",
    "    \n",
    "Действительно, такую незначительную долю можно удалить👌"
   ]
  },
  {
   "cell_type": "markdown",
   "metadata": {},
   "source": [
    "Рассмотрим столбцы, содержащие данные о площадях объекта недвижимости (living_area, kitchen_area). Эти параметры также крайне важны. Покупатели не будут всерьез рассматривать объявление об объекте, для которого неизвестна жилая площадь. Просчитаем долю пропущенных значений для столбцов living_area, kitchen_area (когда оба столбца пустые, когда один из столбцов пустой) "
   ]
  },
  {
   "cell_type": "code",
   "execution_count": 15,
   "metadata": {},
   "outputs": [
    {
     "name": "stdout",
     "output_type": "stream",
     "text": [
      "В датасете число пропущенных записей о площадях составляет:\n",
      "          - для столбца kitchen_area: 3.4%,\n",
      "          - для столбца living_area: 1.9%,\n",
      "          - для столбцов living_area и kitchen_area одновременно: 6.2%,\n",
      "          - для столбцов total_area : 0.0%,\n",
      "          - суммарно по рассматриваемым столбцам: 11.4%\n"
     ]
    }
   ],
   "source": [
    "#Данные о количестве одновременно пропущенных значений в столбцах kitchen_area и living_area\n",
    "ratio_all = len(data.loc[(data['kitchen_area'].isna()) & (data['living_area'].isna())].index)/len(data)\n",
    "\n",
    "#Данные о количестве пропущенных значений в столбце kitchen_area\n",
    "ratio_kit = len(data.loc[(data['kitchen_area'].isna()) & (~data['living_area'].isna())].index)/len(data)\n",
    "\n",
    "#Данные о количестве пропущенных значений в столбце living_area\n",
    "ratio_liv = len(data.loc[(~data['kitchen_area'].isna()) & (data['living_area'].isna())].index)/len(data)\n",
    "\n",
    "#Данные о количестве пропущенных значений в столбце total_area\n",
    "ratio_total = len(data.loc[data['total_area'].isna()].index)/len(data)\n",
    "print(f'''В датасете число пропущенных записей о площадях составляет:\n",
    "          - для столбца kitchen_area: {ratio_kit:.1%},\n",
    "          - для столбца living_area: {ratio_liv:.1%},\n",
    "          - для столбцов living_area и kitchen_area одновременно: {ratio_all:.1%},\n",
    "          - для столбцов total_area : {ratio_total:.1%},\n",
    "          - суммарно по рассматриваемым столбцам: {ratio_kit + ratio_liv + ratio_all + ratio_total:.1%}''')"
   ]
  },
  {
   "cell_type": "markdown",
   "metadata": {},
   "source": [
    "Так как доля пропущенных значений превышает 10%, удаление рассматриваемых записей считается неприемлимым. При этом наличие заполненного значения для площади очень желательно. Поэтому попробуем заменить пропущенные значения расчетными используя данные об общей площади следуя следующему алгоритму:\n",
    "- если отсутсвует только один параметр, величину второго параметра выставить равным разности между общей площадью и известным параметром;\n",
    "- если одновременно отсутсвуют данные о кухне и жилой площади и объект недвижимости имеет открытую планировку или является студией  выставим для кухни площадь, равную 5 м2 (минимальновозможная по Снип), величину жилой площади выставим равной общей площади, уменьшенной на 5 м2;\n",
    "- если одновременно отсутсвуют данные о кухне и жилой площади и объект является стандартной квартирой, разделенной на комнаты, заполним пропуски медианными значенниями заполняемого столбца, расчитанными по объектам с таким же количеством квартир."
   ]
  },
  {
   "cell_type": "code",
   "execution_count": 16,
   "metadata": {},
   "outputs": [
    {
     "ename": "TypeError",
     "evalue": "unsupported operand type(s) for +: 'dict' and 'dict'",
     "output_type": "error",
     "traceback": [
      "\u001b[0;31m---------------------------------------------------------------------------\u001b[0m",
      "\u001b[0;31mTypeError\u001b[0m                                 Traceback (most recent call last)",
      "\u001b[0;32m/tmp/ipykernel_110/3752364926.py\u001b[0m in \u001b[0;36m<module>\u001b[0;34m\u001b[0m\n\u001b[1;32m     16\u001b[0m         \u001b[0;32melse\u001b[0m\u001b[0;34m:\u001b[0m\u001b[0;34m\u001b[0m\u001b[0;34m\u001b[0m\u001b[0m\n\u001b[1;32m     17\u001b[0m             \u001b[0;31m#если сумма планируемых к записи площадей меньше общей площади, записанной в рассматриваемую сттроку\u001b[0m\u001b[0;34m\u001b[0m\u001b[0;34m\u001b[0m\u001b[0;34m\u001b[0m\u001b[0m\n\u001b[0;32m---> 18\u001b[0;31m             \u001b[0;32mif\u001b[0m \u001b[0mliving_area\u001b[0m \u001b[0;34m+\u001b[0m \u001b[0mkitchen_area\u001b[0m \u001b[0;34m<\u001b[0m \u001b[0mrow_data\u001b[0m\u001b[0;34m[\u001b[0m\u001b[0;34m'total_area'\u001b[0m\u001b[0;34m]\u001b[0m\u001b[0;34m:\u001b[0m\u001b[0;34m\u001b[0m\u001b[0;34m\u001b[0m\u001b[0m\n\u001b[0m\u001b[1;32m     19\u001b[0m                 \u001b[0mdata\u001b[0m\u001b[0;34m.\u001b[0m\u001b[0mloc\u001b[0m\u001b[0;34m[\u001b[0m\u001b[0mdata\u001b[0m\u001b[0;34m.\u001b[0m\u001b[0mindex\u001b[0m \u001b[0;34m==\u001b[0m \u001b[0mindex\u001b[0m\u001b[0;34m,\u001b[0m \u001b[0;34m'kitchen_area'\u001b[0m\u001b[0;34m]\u001b[0m \u001b[0;34m=\u001b[0m \u001b[0mkitchen_area\u001b[0m\u001b[0;34m[\u001b[0m\u001b[0mrow_data\u001b[0m\u001b[0;34m[\u001b[0m\u001b[0;34m'rooms'\u001b[0m\u001b[0;34m]\u001b[0m\u001b[0;34m]\u001b[0m\u001b[0;34m\u001b[0m\u001b[0;34m\u001b[0m\u001b[0m\n\u001b[1;32m     20\u001b[0m                 \u001b[0mdata\u001b[0m\u001b[0;34m.\u001b[0m\u001b[0mloc\u001b[0m\u001b[0;34m[\u001b[0m\u001b[0mdata\u001b[0m\u001b[0;34m.\u001b[0m\u001b[0mindex\u001b[0m \u001b[0;34m==\u001b[0m \u001b[0mindex\u001b[0m\u001b[0;34m,\u001b[0m \u001b[0;34m'living_area'\u001b[0m\u001b[0;34m]\u001b[0m \u001b[0;34m=\u001b[0m \u001b[0mliving_area\u001b[0m\u001b[0;34m[\u001b[0m\u001b[0mrow_data\u001b[0m\u001b[0;34m[\u001b[0m\u001b[0;34m'rooms'\u001b[0m\u001b[0;34m]\u001b[0m\u001b[0;34m]\u001b[0m\u001b[0;34m\u001b[0m\u001b[0;34m\u001b[0m\u001b[0m\n",
      "\u001b[0;31mTypeError\u001b[0m: unsupported operand type(s) for +: 'dict' and 'dict'"
     ]
    }
   ],
   "source": [
    "#Расчет медианных значений для разного числа кухонь\n",
    "living_area = {room: data.loc[(data['rooms'] == room) & (~data['living_area'].isna()), 'living_area'].median() for room in range(1, 21)}\n",
    "kitchen_area = {room: data.loc[(data['rooms'] == room) & (~data['kitchen_area'].isna()), 'kitchen_area'].median() for room in range(1, 21)}\n",
    " \n",
    "\n",
    "\n",
    "#Заполнение пропусков  \n",
    "for index, row_data in data.iterrows():\n",
    "    #Если везде пустые значения\n",
    "    if not row_data['kitchen_area'] > 0 and not row_data['living_area'] > 0:\n",
    "        #Если это студия или открытая планировка\n",
    "        if (row_data['open_plan'] == True or row_data['studio'] == True):\n",
    "            data.loc[data.index == index, 'kitchen_area'] = 5\n",
    "            data.loc[data.index == index, 'living_area'] = row_data['total_area'] - 5\n",
    "        #Если есть комнаты\n",
    "        else:\n",
    "            #если сумма планируемых к записи площадей меньше общей площади, записанной в рассматриваемую сттроку\n",
    "            if living_area + kitchen_area < row_data['total_area']:\n",
    "                data.loc[data.index == index, 'kitchen_area'] = kitchen_area[row_data['rooms']]\n",
    "                data.loc[data.index == index, 'living_area'] = living_area[row_data['rooms']]\n",
    "            else:\n",
    "                #Пропорционально уменьшаем площадь кухни и жилую площадь\n",
    "                factor = row_data['total_area']/(kitchen_area[row_data['rooms']] + living_area[row_data['rooms']])\n",
    "                data.loc[data.index == index, 'kitchen_area'] = factor*kitchen_area[row_data['rooms']]\n",
    "                data.loc[data.index == index, 'living_area'] = factor*living_area[row_data['rooms']]\n",
    "    #Если пустые значения только в кухне\n",
    "    elif not row_data['kitchen_area'] > 0:\n",
    "        data.loc[data.index == index, 'kitchen_area'] = row_data['total_area'] - row_data['living_area']\n",
    "    #Если пустые значения только в жилой площади\n",
    "    elif not row_data['living_area'] > 0: \n",
    "        data.loc[data.index == index, 'living_area'] = row_data['total_area'] - row_data['kitchen_area']\n",
    "    else:\n",
    "        pass\n",
    "    \n",
    "print(f\"В датасете осталось {len(data.loc[(data['living_area'].isna())|(data['kitchen_area'].isna())])} пустых значений в столбцах kitchen_area, living_area.\")"
   ]
  },
  {
   "cell_type": "markdown",
   "metadata": {},
   "source": [
    "<div class=\"alert alert-info\">\n",
    "<h2> Комментарий V1<a class=\"tocSkip\"></h2>\n",
    "<p>\n",
    "    1. Поняла, что удалять строки нельзя, поэтому с учетом рекомендаций заменила пропуски на медианные значения</p>"
   ]
  },
  {
   "cell_type": "markdown",
   "metadata": {},
   "source": [
    "<div class=\"alert alert-warning\">\n",
    "    <h2> Комментарий ревьюера #2<a class=\"tocSkip\"></h2>\n",
    "    \n",
    "<b>Некоторые замечания и рекомендации💡:</b>      \n",
    "Согласна с предложенным способом обработки пропусков. Здесь можно сделать дополнительную проверку данных после заполнения пропущенных значений: сравнить общую площадь и площадь кухни + жилая площадь. Сумма этих площадей не должна превышать общую."
   ]
  },
  {
   "cell_type": "markdown",
   "metadata": {},
   "source": [
    "<div class=\"alert alert-info\">\n",
    "<h2> Комментарий V2<a class=\"tocSkip\"></h2>\n",
    "<p>\n",
    "Добавила в код проверку того, что сумма панируемых к записи площадей меньше общей площади.\n",
    "<pre><code>\n",
    "if living_area + kitchen_area < row_data['total_area']:\n",
    "    data.loc[data.index == index, 'kitchen_area'] = kitchen_area[row_data['rooms']]\n",
    "    data.loc[data.index == index, 'living_area'] = living_area[row_data['rooms']]\n",
    "else:\n",
    "    #Пропорционально уменьшаем площадь кухни и жилую площадь\n",
    "    factor = row_data['total_area']/(kitchen_area[row_data['rooms']] +living_area[row_data['rooms']])\n",
    "    data.loc[data.index == index, 'kitchen_area'] = factor*kitchen_area[row_data['rooms']]\n",
    "    data.loc[data.index == index, 'living_area'] = factor*living_area[row_data['rooms']]\n",
    " </code></pre>"
   ]
  },
  {
   "cell_type": "markdown",
   "metadata": {},
   "source": [
    "<div class=\"alert alert-block alert-danger\">\n",
    "<h2> Комментарий ревьюера<a class=\"tocSkip\"></h2>\n",
    "\n",
    "    \n",
    "<b>На доработку🤔:</b>\n",
    " \n",
    "В kitchen_area и living_area отсутствует около 9% данных. Итого - к данному шагу объем потерь составляет 23%. Это очень много, и сложно найти веские причины для таких радикальных трансформаций. Кроме того, в этом проекте есть этап с обработкой выбросов, в ходе которого необходимо исключить аномальные значения.\n",
    "  \n",
    "Здесь можно подойти к обработке пропусков различными способами - найти соотношение общей площади к жилой/соотношение общей площади к кухни и на основание этого соотношения заполнить пропущенные значения, заполнить пропуски медианным значением, разбить квартиры на группы, в каждой группе найти свое соотношение общей площади к жилой и провести замену по каждой группе отдельно или сохранить пропуски."
   ]
  },
  {
   "cell_type": "markdown",
   "metadata": {},
   "source": [
    "Рассмотрим столбцы, содержащие картографические данные:  parks_around3000, ponds_around3000. Эти столбцы содержат данные о количестве парков(водоемов) на расстоянии не более 3 км от объекта. Эти даные автоматически загружаются на основании сторонних картографических данных. Представляется возможным предположить, что, если система не смогла заполнить количество парков(водоемов) вблизи объекта, значит их нет. Заполним пропуски в столбцах parks_around3000, ponds_around3000 нулями."
   ]
  },
  {
   "cell_type": "code",
   "execution_count": null,
   "metadata": {},
   "outputs": [],
   "source": [
    "#Заполнение пропущенных значений столбца parks_around3000 на 0\n",
    "data.loc[data['parks_around3000'].isna(), 'parks_around3000'] = 0\n",
    "\n",
    "#Заполнение пропущенных значений столбца ponds3000 на 0\n",
    "data.loc[data['ponds_around3000'].isna(), 'ponds_around3000'] = 0"
   ]
  },
  {
   "cell_type": "markdown",
   "metadata": {},
   "source": [
    "Рассмотрим столбцы, содержащие картографические данные:  parks_nearest, ponds_nearest. Эти столбцы содержат данные о расстоянии до ближайшего парка и водоема. Логично, что если в столбцах parks_around3000, ponds_around3000 для объекта недвижимости стоит значение 0, то значения в столбцах parks_nearest, ponds_nearest должны быть не менее 3000. Посмотрим, какие расстояния, превышающие 3000 м, есть в дататесте."
   ]
  },
  {
   "cell_type": "code",
   "execution_count": null,
   "metadata": {},
   "outputs": [],
   "source": [
    "#Уникальные значения столбцов\n",
    "print(f'Уникальные записи категории parks_nearest, превышающих 3000: {data.query(\"parks_nearest > 3000\")[\"parks_nearest\"].unique()}')\n",
    "print(f'Уникальные записи категории ponds_nearest, превышающих 3000: {data.query(\"ponds_nearest > 3000\")[\"ponds_nearest\"].unique()}')"
   ]
  },
  {
   "cell_type": "markdown",
   "metadata": {},
   "source": [
    "\n",
    "Исходя из полученного результата, условимся, что расстояние более 3000 - фактически означает отсутсвие ближайшего парка(водоема).Чтобы не исказить исходные данные (так как в них есть значения 3064, 3190 и 3013 м) для пропущенных значений в столбцах parks_nearest, ponds_nearest, которым соответсвуют нули в столбцах parks_around3000, ponds_around3000, установим значение 4000. Оно одновременно будет сигнализировать о том, что данные установлены в процессе исследования, а не получены из исходного дататеста."
   ]
  },
  {
   "cell_type": "markdown",
   "metadata": {},
   "source": [
    "<div class=\"alert alert-success\"> \n",
    "<h2> Комментарий ревьюера <a class=\"tocSkip\"> </h2>\n",
    "\n",
    "<b>Все отлично!👍:</b>\n",
    "    \n",
    "В данном случае 4000 как раз выступает значением заглушкой. Важно учитывать такие значения при последующем анализе."
   ]
  },
  {
   "cell_type": "code",
   "execution_count": null,
   "metadata": {},
   "outputs": [],
   "source": [
    "#Заполнение пропущенных значений столбца parks_nearest, которым соответсвует 0 в столбце parks_around3000 на 4000\n",
    "data.loc[data['parks_around3000'] == 0, 'parks_nearest'] = 4000\n",
    "\n",
    "#Заполнение пропущенных значений  столбца parks_nearest, которым соответсвует 0 в столбце parks_around3000 на 4000\n",
    "data.loc[data['ponds_around3000'] == 0, 'ponds_nearest'] = 4000\n",
    "\n",
    "#Пустые значения в указанных столбцах\n",
    "print(f\"Пустые значения в столбце parks_nearest: {data['parks_nearest'].isna().sum()}\")\n",
    "print(f\"Пустые значения в столбце ponds_nearest: {data['ponds_nearest'].isna().sum()}\")"
   ]
  },
  {
   "cell_type": "markdown",
   "metadata": {},
   "source": [
    "Получается, что отсутсвие значений в столбцах parks_nearest, ponds_nearest и parks_around3000, ponds_around3000 было связано напрямую. Вместе с тем, опробированную  методику нельзя применить к столбцам airports_nearest, cityCenters_nearest. Посмотрим каким населеным пунктам соответсвуют наибольшие значения указанных столбцов и для каких населенных пунктов есть пропущенные значения. \n"
   ]
  },
  {
   "cell_type": "code",
   "execution_count": null,
   "metadata": {},
   "outputs": [],
   "source": [
    "#Населенные пункты с максимальным расстоянием до аэропорта и центра города \n",
    "print(f'10 максимальных расстояний до аэропорта (airports_nearest): {data[[\"airports_nearest\", \"locality_name\"]].sort_values(\"airports_nearest\", ascending = False).head(10)}')\n",
    "print(f'10 максимальных расстояний до центра города (cityCenters_nearest): {data[[\"cityCenters_nearest\", \"locality_name\"]].sort_values(\"cityCenters_nearest\", ascending = False).head(10)}')\n",
    "\n",
    "#Названия населенных пунктов, для которых размещены пустые значения в исследуемых столбцах \n",
    "print(f'Несколько названий населенных пунктов, для которых не указаны исследуемые расстаяния: { data.loc[(data[\"airports_nearest\"].isna()) | (data[\"airports_nearest\"].isna())][\"locality_name\"].unique()[0:10]}')"
   ]
  },
  {
   "cell_type": "code",
   "execution_count": null,
   "metadata": {},
   "outputs": [],
   "source": [
    "#Максимальные расстояниея до аэропорта и центра города для Санкт-Петербурга\n",
    "print(f'10 максимальных расстояний до аэропорта (airports_nearest) в Санкт-Петербурге: {data.loc[data[\"locality_name\"] == \"Санкт-Петербург\"][\"airports_nearest\"].sort_values(ascending = False).head(10)}')\n",
    "print(f'10 максимальных расстояний до центра города (cityCenters_nearest) в Санкт-Петербурге: {data.loc[data[\"locality_name\"] == \"Санкт-Петербург\"][\"cityCenters_nearest\"].sort_values(ascending = False).head(10)}')"
   ]
  },
  {
   "cell_type": "markdown",
   "metadata": {},
   "source": [
    "В столбцах airports_nearest, cityCenters_nearest размещена информация о расстоянии до аэропорта и центра города. Причем для соседних с Санкт-Перербургом населенных пунктов очевидно указано расстояние до центра Санкт-Перербурга и его аэропортов. Попробуем заполнить пустные значения в указанных столбцах исходя из следующей логики. \n",
    "1. Записи с объектами недвижимости из Санкт-Петербурга удалить. Заполнив эти столбцы максимально возможными значениями (например, максимальной протяженностью города, 44 км) мы вероятно можем исказить результаты исследования. А вдруг в дататесте не указаны расстояния для объектов, расположенных непосредственно в центре. Мы не можем это проверить. Поэтому выдумывать значение, которым заполнить пропуски в данном случае, крайне безответственно.\n",
    "2. Записи с с объектами недвижимости из соседних с Санкт-Пнтнрбургом городов заполнить средними по каждому городу значениями. С учетом, что расстояние до Санкт-Петербурга и его аэропортов значительно больше протяженности любого соседнего города, такое допущение не должно внести сильных искажений в данные. "
   ]
  },
  {
   "cell_type": "code",
   "execution_count": null,
   "metadata": {},
   "outputs": [],
   "source": [
    "#Данные о количестве пропущенных значений в столбцах airports_nearest, cityCenters_nearest  для Санкт-Петербурга\n",
    "ratio_airports = len(data.loc[(data[\"locality_name\"] == \"Санкт-Петербург\") & (data[\"airports_nearest\"].isna())])/len(data)\n",
    "ratio_city = len(data.loc[(data[\"locality_name\"] == \"Санкт-Петербург\") & (data[\"cityCenters_nearest\"].isna())])/len(data)\n",
    "\n",
    "def clean_with_ratio(df, norma_for_ratio, ratio, column):\n",
    "    if ratio == 0:\n",
    "        print(f'В датасете нет пустых значений в столбце {column}')\n",
    "    elif ratio < norma_for_ratio:\n",
    "        df.query('locality_name == \"Санкт-Петербург\"').dropna(subset = [column])\n",
    "        print(f'Доля удаленных записей в категории название населенного пункта составила: {ratio:.1%}')\n",
    "    else:\n",
    "        print(f'Доля удаленных записей в категории название населенного пункта составила: {ratio:.1%}')\n",
    "    return df\n",
    "    \n",
    "data =  clean_with_ratio(data, 0.01, ratio_airports, \"airports_nearest\")  \n",
    "data =  clean_with_ratio(data, 0.01, ratio_airports, \"cityCenters_nearest\") \n",
    "\n",
    "#Обновление индексов \n",
    "try:\n",
    "    data.reset_index()\n",
    "except:\n",
    "    pass"
   ]
  },
  {
   "cell_type": "markdown",
   "metadata": {},
   "source": [
    "Доля удаленных значений не певышает 0.4%, что приемлимо для этапа отчистки."
   ]
  },
  {
   "cell_type": "markdown",
   "metadata": {},
   "source": [
    "<div class=\"alert alert-info\">\n",
    "<h2> Комментарий V1<a class=\"tocSkip\"></h2>\n",
    "<p> Добавила расчет доли удаленных записей. Их менее 0.4 %</p>"
   ]
  },
  {
   "cell_type": "markdown",
   "metadata": {},
   "source": [
    "<div class=\"alert alert-success\"> \n",
    "<h2> Комментарий ревьюера #2 <a class=\"tocSkip\"> </h2>\n",
    "\n",
    "<b>Все отлично!👍:</b> \n",
    "    \n",
    "+"
   ]
  },
  {
   "cell_type": "markdown",
   "metadata": {},
   "source": [
    "<div class=\"alert alert-warning\">\n",
    "    <h2> Комментарий ревьюера<a class=\"tocSkip\"> </h2>\n",
    "    \n",
    "<b>Некоторые замечания и рекомендации💡:</b> \n",
    "     \n",
    "\n",
    "Было бы здорово оценить объем удаленных значений -составляет ли оно приемлемое количество или нет."
   ]
  },
  {
   "cell_type": "markdown",
   "metadata": {},
   "source": [
    "Решено записи с объектами недвижимости из соседних с Санкт-Петербургом городов заполнить средними по каждому городу значениями. Но прежде чем считать средние значения прийдется избавиться от дубликатов в названиях населенных пунктов."
   ]
  },
  {
   "cell_type": "code",
   "execution_count": null,
   "metadata": {},
   "outputs": [],
   "source": [
    "#Количество уникальных названий населенных пунктов\n",
    "print(f'Количество \"уникальных\" названий до обработки дубликатов {data[\"locality_name\"].nunique()}')\n",
    "\n",
    "#Отдельный список из \"уникальных\" названий населенных пунктов\n",
    "name_list= [old_name for old_name in data[\"locality_name\"].unique()]\n",
    "\n",
    "print(name_list)\n",
    "\n",
    "#Список подстрок, которые надо удалить из названий, чтобы привести их к единому знаменателю\n",
    "sub_list = ['  ','посёлок', 'поселок', 'деревня','село', 'городского типа', 'городской', 'коттеджный','садовое товарищество', 'садоводческое некоммерческое товарищество']\n",
    "\n",
    "#Отчищающая функция\n",
    "def clean_name(name: str, sub_list: list) -> str:\n",
    "    for sub in sub_list:\n",
    "        name = name.replace(sub, ' ')\n",
    "    return name.strip()\n",
    "\n",
    "#Удаление из названий списка обозначенных подстрок \n",
    "clean_name_list = [clean_name(name, sub_list) for name in name_list]\n",
    "clean_name_list = list(set(clean_name_list))\n",
    "\n",
    "#Формирование словаря {clean_name: [names]}\n",
    "name_dict = {}\n",
    "for clean_name in clean_name_list:\n",
    "    items_for_dict = [name for name in data[\"locality_name\"].unique() if clean_name in name]\n",
    "    if len(items_for_dict) > 1:\n",
    "        name_dict[clean_name] = items_for_dict\n",
    "  \n",
    "#Вывод словаря на экран и проверка его вручную. \n",
    "print(name_dict)"
   ]
  },
  {
   "cell_type": "markdown",
   "metadata": {},
   "source": [
    "В полученный словарь ошибочно попали записи, содержащие похожие названия разных населенных пунктов. Эти записи надо будет удалить из словаря:\n",
    "- 'Высоцк': ['село Русско-Высоцкое', 'Высоцк'],\n",
    "- 'Луга': ['Луга', 'посёлок Усть-Луга', 'поселок Усть-Луга'],\n",
    "- 'Кингисепп': ['Кингисепп', 'поселок Кингисеппский']\n",
    "- 'Коммунар': ['Коммунар', 'поселок Коммунары']\n",
    "- 'Бегуницы': ['деревня Бегуницы', 'деревня Старые Бегуницы']\n",
    "- 'Романовка':['поселок Романовка', 'деревня Малая Романовка'],\n",
    "- 'Высоцк': ['село Русско-Высоцкое', 'Высоцк']\n",
    "\n",
    "\n",
    "Кроме того некорректно сформировались записи, в которые попала смесь из как разных названий одинаковых наседенных пунктов и названий других населенных пунктов. Эти записи надо откорректировать, исключив из них лишнее: \n",
    "- 'Бор':  ['поселок городского типа Красный Бор', 'Сосновый Бор', 'посёлок городского типа Красный Бор', 'деревня Чудской Бор', 'деревня Бор', 'деревня Трубников Бор', 'посёлок Пансионат Зелёный Бор', 'поселок Пансионат Зелёный Бор', 'деревня Борисова Грива']\n",
    "- 'Старая': ['деревня Старая', 'поселок Старая Малукса', 'село Старая Ладога', 'деревня Старая Пустошь', 'посёлок Старая Малукса']"
   ]
  },
  {
   "cell_type": "code",
   "execution_count": null,
   "metadata": {},
   "outputs": [],
   "source": [
    "#Исключение из словаря ошибочных записей\n",
    "wrong_dict_keys = ['Бор', 'Старая', 'Луга', 'Кингисепп', 'Коммунар', 'Бегуницы', 'Романовка', 'Высоцк']\n",
    "for key in wrong_dict_keys:\n",
    "    name_dict.pop(key)\n",
    "\n",
    "#Корректировка не совсем верных записей\n",
    "name_dict['Старая Малукса'] =  ['поселок Старая Малукса', 'посёлок Старая Малукса'] \n",
    "name_dict['Красный Бор'] = ['поселок городского типа Красный Бор', 'посёлок городского типа Красный Бор']\n",
    "name_dict['Зелёный Бор'] = ['посёлок Пансионат Зелёный Бор', 'поселок Пансионат Зелёный Бор']\n",
    "\n",
    "#Формирование словаря замены для дататеста\n",
    "change_dict = {}\n",
    "for item_list in name_dict.values():\n",
    "    change_dict = {**change_dict, **{item: item_list[0] for item in item_list if item != item_list[0]}}\n",
    "    \n",
    "#Замена названий гаселенных пунктов\n",
    "data['locality_name'] = data['locality_name'].replace(change_dict)\n",
    "print(f'Количество \"уникальных\" названий после обработки дубликатов {data[\"locality_name\"].nunique()}')"
   ]
  },
  {
   "cell_type": "markdown",
   "metadata": {},
   "source": [
    "Можно считать, что удаление дубликатов прошло успешно. Количество уникальных названий населенных пунктов сократилось на 62 позиций."
   ]
  },
  {
   "cell_type": "markdown",
   "metadata": {},
   "source": [
    "<div class=\"alert alert-success\"> \n",
    "<h2> Комментарий ревьюера <a class=\"tocSkip\"> </h2>\n",
    "\n",
    "<b>Все отлично!👍:</b>\n",
    "    \n",
    "Скурпулезная обработка неявных дубликатов в locality_name.👍👍👍"
   ]
  },
  {
   "cell_type": "code",
   "execution_count": null,
   "metadata": {},
   "outputs": [],
   "source": [
    "# Графики зависимости расстояний до центра и аэропорта для разных населенных пунктов\n",
    "data\\\n",
    ".query('airports_nearest > 0 and cityCenters_nearest > 0')\\\n",
    ".pivot_table(index = 'locality_name', values = ['airports_nearest', 'cityCenters_nearest'], aggfunc = ['median', 'mean'])\\\n",
    ".plot(style = 'o-', figsize = (15,5), grid = True, \\\n",
    "      xlabel = \"Населенные пункты\", ylabel = 'Расстояние, м', title = \"Графики зависимости расстояний до центра и аэропорта для разных населенных пунктов\")"
   ]
  },
  {
   "cell_type": "markdown",
   "metadata": {},
   "source": [
    "Судя по графику медианные и средние значения для раасстояний до центра и аэропорта практически полностью совпадают. Кроме того общие виды графиков для расстояний до аэропорта и до центра города схожи, значит предположение о том, что оба этих расстояния - это, фактически, расстония до объектов Санкт-Петербурга. С учетом изложенного, можно не снижая достоверности данных можно заменить пустые значения указанных столбцов на медианные значения."
   ]
  },
  {
   "cell_type": "markdown",
   "metadata": {},
   "source": [
    "<div class=\"alert alert-warning\">\n",
    "    <h2> Комментарий ревьюера<a class=\"tocSkip\"> </h2>\n",
    "    \n",
    "<b>Некоторые замечания и рекомендации💡:</b> \n",
    "     \n",
    "Объективность замены стоит также  проверить, сравнив распределения и ключевые статистики до и после замены. Аirports_nearest и cityCenters_nearest не совсем продуктивно восполнять, потому что процент пропусков слишком большой, наверняка эти данные заполнялись автоматически, поэтому сложно восстановить их каким-то известным способом.\n",
    "Конечно, последнее слово всегда за аналитиком, но в реальной жизни важно понимать вероятность того, что объективность данных может быть искажена подобными."
   ]
  },
  {
   "cell_type": "markdown",
   "metadata": {},
   "source": [
    "<div class=\"alert alert-info\">\n",
    "<h2> Комментарий V1<a class=\"tocSkip\"></h2>\n",
    "<p> Я все же решила провести замену. Ниже провела проверку ключевой статистики до и после замены</p>"
   ]
  },
  {
   "cell_type": "code",
   "execution_count": null,
   "metadata": {},
   "outputs": [],
   "source": [
    "#Медианные значения расстояний для каждого населенного пункта до замены\n",
    "midians_airports_do = data\\\n",
    ".loc[~data['airports_nearest'].isna()].groupby(\"locality_name\")['airports_nearest'].median()\n",
    "\n",
    "midians_city_do = data\\\n",
    ".loc[~data['cityCenters_nearest'].isna()].groupby(\"locality_name\")['cityCenters_nearest'].median()"
   ]
  },
  {
   "cell_type": "code",
   "execution_count": null,
   "metadata": {},
   "outputs": [],
   "source": [
    "#Массив сгруппированных по названию населенного пункта данных из тех записей, для которых указаны данные о расстоянии до аэропорта\n",
    "for name, string in data.loc[~data['airports_nearest'].isna()].groupby(\"locality_name\"):\n",
    "    #В общем датафрейме замещаем пустые записи о расстоянии до аэропорта для тех населенных пунктов, для которых в других строчках дататеста есть необходимые данные для расчета медианы по нас. пункту \n",
    "    data.loc[(data['locality_name'] == name)&(data['airports_nearest'].isna()),'airports_nearest'] = string['airports_nearest'].median()\n",
    "    \n",
    "#Массив сгруппированных по названию населенного пункта данных из тех записей, для которых указаны данные о расстоянии до центра\n",
    "for name, string in data.loc[~data['cityCenters_nearest'].isna()].groupby(\"locality_name\"):\n",
    "    #В общем датафрейме замещаем пустые записи о расстоянии до аэропорта для тех населенных пунктов, для которых в других строчках дататеста есть необходимые данные для расчета медианы по нас. пункту \n",
    "    data.loc[(data['locality_name'] == name)&(data['cityCenters_nearest'].isna()),'cityCenters_nearest'] = string['cityCenters_nearest'].median()\n",
    "\n",
    "print(f'Записи о {len(data.loc[data[\"airports_nearest\"].isna()].groupby(\"locality_name\"))} населенных пунктах не имеют информации об удаленности до ближайшего аэропорта')\n",
    "print(f'Записи о {len(data.loc[data[\"cityCenters_nearest\"].isna()].groupby(\"locality_name\"))} населенных пунктах не имеют информации об удаленности до ближайшего центра города')\n",
    "print(f'Всего {data[\"airports_nearest\"].isna().sum()} записей не содержит информации об удаленности до ближайшего аэропорта.')\n",
    "print(f'Всего {data[\"cityCenters_nearest\"].isna().sum()} записей не содержит информации об удаленности до ближайшего центра города.')\n",
    "\n",
    "#Медианные значения расстояний для каждого населенного пункта до замены\n",
    "midians_airports_after = data\\\n",
    ".loc[~data['airports_nearest'].isna()].groupby(\"locality_name\")['airports_nearest'].median()\n",
    "\n",
    "midians_city_after = data\\\n",
    ".loc[~data['cityCenters_nearest'].isna()].groupby(\"locality_name\")['cityCenters_nearest'].median()\n",
    "\n",
    "#Сравнение статистических показателей до и после заполнения пропусков\n",
    "midians_airports = pd.merge(midians_airports_do, midians_airports_after, right_index = True, left_index = True)\n",
    "midians_city = pd.merge(midians_city_do, midians_city_after, right_index = True, left_index = True)\n",
    "\n",
    "ax = midians_airports.sort_values(by = 'airports_nearest_x')\\\n",
    ".plot(figsize = (15,5), xlabel = 'Населенный пункт', ylabel = 'Расстояние, метры',\\\n",
    "      title = 'Зависимость медианного расстояния до аэропорта по городам по и после замещения пустых значений')\n",
    "ax = midians_city.sort_values(by = 'cityCenters_nearest_x')\\\n",
    ".plot(figsize = (15,5), xlabel = 'Населенный пункт', ylabel = 'Расстояние, метры',\\\n",
    "      title = 'Зависимость медианного расстояния до центра по городам по и после замещения пустых значений')\n",
    "      "
   ]
  },
  {
   "cell_type": "markdown",
   "metadata": {},
   "source": [
    "Проведенные манипуляции позволили незначительно снизить количество пропусков в столбцах 'airports_nearest', 'cityCenters_nearest'. При этом статичстические показатели выборки по параметру раастоняие до аэропорат(до центра), сгруппированному относительно населенных пунктов, остались неизменными. Для оставшихся 238  населенных пунктов (3844 записи) заполнить пропуски не удалось вследствии отсутвия данных о расстоянии.  "
   ]
  },
  {
   "cell_type": "markdown",
   "metadata": {},
   "source": [
    "Рассмотрим столбец ceiling_height . В нем содержиться информация о высоте потолков."
   ]
  },
  {
   "cell_type": "code",
   "execution_count": null,
   "metadata": {},
   "outputs": [],
   "source": [
    "#Уникальные значения высоты потолков\n",
    "display(data['ceiling_height'].sort_values().unique())\n",
    "\n",
    "data4 = pd.read_csv(\"/datasets/real_estate_data.csv\", sep = '\\t')"
   ]
  },
  {
   "cell_type": "markdown",
   "metadata": {},
   "source": [
    "Почистим данные о высоте потолков. \n",
    "1. В первую очередь, исправим объективные ошибки в данных. Появление значений 22.6, 24, 25, 27, 27.5 в дататесте практически очевидно связана с тем, что высоту указали в сантиметрах, хотя система ожидала в метрах. Заменим указанные значения, поделив их на 100.\n",
    "2. Исключим из дататеста строчки, содержащие значения маловероятных высот для потолков. \n",
    "2.1 Минимальнмым порогом примем величину, равную 2.5 м (такая минимальная величина установлена требованиями СНиП)\n",
    "2.2 Максимальным порогом примем величину, равную 4 м (максимальная величина законом не установлена, исходим из соображений здравого смысла)\n"
   ]
  },
  {
   "cell_type": "code",
   "execution_count": null,
   "metadata": {},
   "outputs": [],
   "source": [
    "#Исправление объективных ошибок в данных (высота приведена в см вместо метров).\n",
    "change_dict = {14.: 1.4, 20.: 2, 22.6 : 2.26, 24.: 2.4, 25.: 2.5, 26.: 2.6, 27.: 2.7, 27.5: 2.75, 32.: 3.2, 100.: 10}\n",
    "data['ceiling_height'] = data['ceiling_height'].replace(change_dict)\n",
    "\n",
    "#Удаление строк, в которых высота потолков с физической точки зрения очень маловероятна \n",
    "print(f\"Из дадасета исключаются стороки c аномальными значениями, доля которых: {len(data.loc[(data['ceiling_height'] >= 6) | (data['ceiling_height'] == 1) | (data['ceiling_height'] == 1.2)])/len(data):.3%}\")\n",
    "data = data.loc[(data['ceiling_height'].isna()) | ((data['ceiling_height'] < 6) & (data['ceiling_height'] > 1))]"
   ]
  },
  {
   "cell_type": "code",
   "execution_count": null,
   "metadata": {},
   "outputs": [],
   "source": [
    "# Add title and axis names\n",
    "ax = data['ceiling_height'].plot(kind = 'hist', bins = 100, range = (2.2, 5), figsize = (15,10),\\\n",
    "                                 title = 'График распределения высоты потолков', ylabel = \"Количество объектов\")\n",
    "ax.set_xlabel(\"Высота потолков\")\n",
    "ax.set_ylabel('Количество объектов');"
   ]
  },
  {
   "cell_type": "markdown",
   "metadata": {},
   "source": [
    "<div class=\"alert alert-info\">\n",
    "<h2> Комментарий V1<a class=\"tocSkip\"></h2>\n",
    "<p> Почему-то у меня не получается поменять подпись по оси y у этого графика. Помоги пожалуйста</p>"
   ]
  },
  {
   "cell_type": "markdown",
   "metadata": {},
   "source": [
    "<div class=\"alert alert-warning\">\n",
    "    <h2> Комментарий ревьюера #2<a class=\"tocSkip\"> </h2>\n",
    "    \n",
    "<b>Некоторые замечания и рекомендации💡:</b> \n",
    "     \n",
    "Для установки подписи осей можно использовать настройки ax.set_xlabel и ax.set_ylabel. В этом случае код для построения гистограммы будет выглядеть так:\n",
    "        \n",
    "        plt.title('My title')\n",
    "\n",
    "        ax = data['ceiling_height'].plot(kind = 'hist', bins = 100, range = (2.2, 5), figsize = (15,10),\\\n",
    "                                    title = 'График распределения высоты потолков', ylabel = \"Количество объектов\")\n",
    "\n",
    "        ax.set_xlabel(\"Высота потолков\")\n",
    "        ax.set_ylabel('Количество объектов');"
   ]
  },
  {
   "cell_type": "markdown",
   "metadata": {},
   "source": [
    "<div class=\"alert alert-info\">\n",
    "<h2> Комментарий V2<a class=\"tocSkip\"></h2>\n",
    "<p> Спасибо, твой способ помог !</p>"
   ]
  },
  {
   "cell_type": "markdown",
   "metadata": {},
   "source": [
    "    Судя по гистограмме, есть несколько значений высот, которые встречаются гораздо чаще других. При этом если сравнивать только эти наиболее часто встречающиеся высоты, то они почти все расположены в диапазоне 2.4 - 2.8 м. Помимо этого есть значительное количество записей со значениями  3 м. Можно предположить, что оснавная масса значений - высота потолков в среднестатистическом жилье. Значения выше 3 м - наиболее вероятно связаны с элитным жильем. \n",
    "\n",
    "    Но в дататесте нет переменной, которая хранила бы тип недвижимости. Что очень неправильно с точки зрения полноты и достоверности исследования. В идеальном мире можно было бы разделить данные на две категории (квартиры эконом класса и квартиры премиум класса) и для каждой из них просчитать медианное значение, которым заполнить пропуски в объектах соответствующего класса. Так как представленный дататест нам не позволяет реализовать описанный алгоритм, попробуем поступить немного иначе. И попробовать найти взаимосвязь между высотой потолков и расстоянием до центра города, предполагая, что чем ближе к центру, тем элитнее жилье."
   ]
  },
  {
   "cell_type": "code",
   "execution_count": null,
   "metadata": {},
   "outputs": [],
   "source": [
    "axes = data.plot(x='ceiling_height', y='cityCenters_nearest', kind='scatter', alpha=0.1,\\\n",
    "        title = 'График связи между высотой потолков и расстоянием от центра города',\n",
    "        xlabel= \"Высота потолков\", ylabel = \"Расстояние, метры\") "
   ]
  },
  {
   "cell_type": "code",
   "execution_count": null,
   "metadata": {},
   "outputs": [],
   "source": [
    "axes = data.plot(x='ceiling_height', y='cityCenters_nearest', kind='hexbin', gridsize=15, figsize=(8, 6), sharex=False, grid=True,\\\n",
    "          title = 'График связи между высотой потолков и расстоянием от центра города',\\\n",
    "          xlabel= \"Высота потолков\", ylabel = \"Расстояние, метры\")"
   ]
  },
  {
   "cell_type": "markdown",
   "metadata": {},
   "source": [
    "Судя по диаграмме рассеяния, частичная связь между расстоянием и высотой потолков есть. Можно предположить, что если расстояние до центра меньше 10 км, то высота потолков будет лежать в диапазоне 2.8 и больше метров. Медианные значения - около 3 м. Если расстояние до центра больше 10 км, то высота потолков будет лежать в диапазоне 2.5 до 2.8 м. Медианные значения - около 2.6 м. Кажется разумным заполнить пропуски в столбце 'ceiling_height' используя это наблюдение."
   ]
  },
  {
   "cell_type": "markdown",
   "metadata": {},
   "source": [
    "В результате всех манипуляций в дататесте остались пропуски в столбцах airports_nearest, cityCenters_nearest (с которыми нет возможности что-то сделать) и floors_total. Последних всего 9 штук. Удалим их."
   ]
  },
  {
   "cell_type": "code",
   "execution_count": null,
   "metadata": {},
   "outputs": [],
   "source": [
    "print(f\"На этапе обработки пропущенных значений из дадасета удалены записи, доля которых: {(1 -len(data)/original_len):.1%}\")"
   ]
  },
  {
   "cell_type": "markdown",
   "metadata": {},
   "source": [
    "<div class=\"alert alert-info\">\n",
    "<h2> Комментарий V1<a class=\"tocSkip\"></h2>\n",
    "<p> Посчиталадолю удаленных значений на этапе обработки пропусков :) С учетом твоих рекомендаций - получилось по минимому</p>"
   ]
  },
  {
   "cell_type": "markdown",
   "metadata": {},
   "source": [
    "<div class=\"alert alert-success\"> \n",
    "<h2> Комментарий ревьюера #2 <a class=\"tocSkip\"> </h2>\n",
    "\n",
    "<b>Все отлично!👍:</b> \n",
    "    \n",
    "Здорово, что теперь доля исключаемых значений рассчитывается на всех этапах.👌"
   ]
  },
  {
   "cell_type": "markdown",
   "metadata": {},
   "source": [
    "### Исправление ошибок в данных"
   ]
  },
  {
   "cell_type": "markdown",
   "metadata": {},
   "source": [
    "На предыдущем этапе, удалось фактически полностью избавиться от пропусков в дататесте. Теперь откорректируем используемые в нем типы данных. \n",
    "\n",
    "1. Очевидно, что количество парков, водоемов, балконов, этажей всегда должно быть целым числом. Целые числа больше подходят для таких значений и занимают меньше памяти, поэтому заменим тип данных столбцов (floors_total, balcony, parks_around3000, ponds_around3000, days_exposition) на int.\n",
    "2. Приведем столбец first_day_exposition к типу  datetime\n",
    "4. Переведем расстояния из метров в километры"
   ]
  },
  {
   "cell_type": "code",
   "execution_count": null,
   "metadata": {},
   "outputs": [],
   "source": [
    "#Замена типа данных столбцов на int\n",
    "change_list = ['parks_around3000', 'ponds_around3000', 'floors_total', 'balcony', 'days_exposition']\n",
    "for column in change_list:\n",
    "    #Переводим все значения столбцов в целые числа\n",
    "    for item in data[column]:\n",
    "        data.loc[data[column] == item, column] = int(item)\n",
    "     #Заменяем ти столбцов\n",
    "    data[column] = data[column].astype('int32')  \n",
    "\n",
    "#Выведем уникальные значения этих столбцов\n",
    "print(f'Уникальные записи категории parks_around3000 после замещения пустых значений: {data[\"parks_around3000\"].unique()}')\n",
    "print(f'Уникальные записи категории ponds_around3000 после замещения пустых значений: {data[\"ponds_around3000\"].unique()}')\n",
    "print(f'Уникальные записи категории floors_total после замещения пустых значений: {data[\"floors_total\"].unique()}')\n",
    "print(f'Уникальные записи категории balcony после замещения пустых значений: {data[\"balcony\"].unique()}')\n",
    "print(f'Уникальные записи категории days_exposition после замещения пустых значений: {data[\"days_exposition\"].unique()}')\n"
   ]
  },
  {
   "cell_type": "code",
   "execution_count": null,
   "metadata": {},
   "outputs": [],
   "source": [
    "#Замена типа данных столбца first_day_exposition на datetime с округлением в 1 час\n",
    "data['first_day_exposition'] = pd\\\n",
    ".to_datetime(data['first_day_exposition'], format='%Y-%m-%dT%H:%M:%S')\\\n",
    ".dt.round('1H')"
   ]
  },
  {
   "cell_type": "markdown",
   "metadata": {},
   "source": [
    "Проверим, есть ли какие-то явные аномалии в оставшихся строках дататеста. Для этого сначала посмотрим на статистику, предоставляемую методом describe."
   ]
  },
  {
   "cell_type": "code",
   "execution_count": null,
   "metadata": {},
   "outputs": [],
   "source": [
    "display(data.describe())"
   ]
  },
  {
   "cell_type": "markdown",
   "metadata": {},
   "source": [
    "Что видно уже сейчас ?\n",
    "1. В столбце total_images есть запись с неправдобообно большим количеством фото (50 шт)\n",
    "2. В столбце total_area  есть запись с неправдобообно большим метражом (900 м2) \n",
    "3. В столбце rooms  есть запись с неправдобообно большим количеством комнат (16). Возможно это та же запись, что указана выше\n",
    "4. В столбце living_area  есть запись с неправдобообно большим метражом (409.7 м2). Возможно это та же запись, что указана выше \n",
    "5. В столбце living_area  есть запись с неправдобообно маленьким метражом (2 м2). \n",
    "6. В столбце kitchen_area  есть запись с неправдобообно маленьким метражом (2 м2). \n",
    "\n",
    "Значит дополнительно и более внимательно проверим столбцы total_images, rooms, total_area, living_area, kitchen_area. "
   ]
  },
  {
   "cell_type": "markdown",
   "metadata": {},
   "source": [
    "<div class=\"alert alert-success\"> \n",
    "<h2> Комментарий ревьюера <a class=\"tocSkip\"> </h2>\n",
    "\n",
    "<b>Все отлично!👍:</b>\n",
    "    \n",
    "Здорово, что выявлены редкие и выбивающиеся значения - плюс за обстоятельный подход 👍👍👍."
   ]
  },
  {
   "cell_type": "markdown",
   "metadata": {},
   "source": [
    "#### Столбец total_images"
   ]
  },
  {
   "cell_type": "code",
   "execution_count": null,
   "metadata": {},
   "outputs": [],
   "source": [
    "# Выводим гистограмму для столбца total_images\n",
    "ax = data['total_images'].plot(kind = 'hist', bins = 100, xlabel = \"Количество фотографий\", ylabel = \"Количество объектов\", \\\n",
    "                          title = \"Количество объектов с разным кол-вом фотографий\")\n",
    "\n",
    "ax.set_xlabel(\"Количество фотографий\")\n",
    "ax.set_ylabel('Количество объектов')\n",
    "#Выводим количество уникальных значений для столбца total_images\n",
    "display(data.groupby('total_images')['total_images'].count())"
   ]
  },
  {
   "cell_type": "markdown",
   "metadata": {},
   "source": [
    "Распределение количества фотографий в целом имеет форму распределения Пуассона: полученный график асимметричен, он смещен вправо, и при этом стремиться к виду нормального распределения (так как число наблюдений достаточно большое). Максимум этого графика расположен в промежутке между 9 и 11 фотографиями, что вполне предсказуемо. При этом на нем есть явно аномальный выброс - резкий скачок на значении 20 фото. Просмотр записей, у которых total_images = 20, не показал ничего странного. Поэтому можно предположить, что причина появления этого скачка объясняется психологей людей. Люди любят круглые числа и стараются выложить не 13, 16, 17 фото, а красивое, круглое число - 20 шт. Вместе с тем, число фото больше 30 - все-таки можно принть аномалией тем более это всего 4 записи. "
   ]
  },
  {
   "cell_type": "code",
   "execution_count": null,
   "metadata": {},
   "outputs": [],
   "source": [
    "#Создание датафрейма без аномалий\n",
    "print(f\"Из дадасета исключаются стороки с аномальными значениями, доля которых: {len(data.query('total_images >= 30'))/len(data):.1%}\")\n",
    "data = data.query('total_images < 30')"
   ]
  },
  {
   "cell_type": "markdown",
   "metadata": {},
   "source": [
    "#### Столбец rooms"
   ]
  },
  {
   "cell_type": "code",
   "execution_count": null,
   "metadata": {},
   "outputs": [],
   "source": [
    "# Гистограмма для столбца rooms c очень большим количеством комнат\n",
    "ax = data['rooms'].plot(kind = 'hist', bins = 100, range = (6,17), xlabel = \"Количество комнат\", \\\n",
    "                          title = \"Количество объектов с разным кол-вом комнат\")\n",
    "\n",
    "ax.set_xlabel(\"Количество комнат\")\n",
    "ax.set_ylabel('Количество объектов');\n",
    "\n",
    "# троки дататеста c очень большим количеством комнат (> 11)\n",
    "display(data.query('rooms > 11'))"
   ]
  },
  {
   "cell_type": "markdown",
   "metadata": {},
   "source": [
    "Среди рассмотренных записей, сомнения вызывает только запись с индексом 19540. В ней содержится информация о продаже объекта недвижимости, в котором 12 комнат и это в целом нормально. Но стоимость объекта 420 миллионов - черезмерно высокая. Очень мало вероятно, что объявления о реальной продаже таких дорогих и огромных объектов всерьез публикуют на сайтах объявлений. Удалим эту строчку данных из основного дататеста, оставив все остальные. Из урезанного датаетсат (data_out_anomaly) удалим все записи об объектах, в которых более 12 комнат"
   ]
  },
  {
   "cell_type": "code",
   "execution_count": null,
   "metadata": {},
   "outputs": [],
   "source": [
    "#Удаление аномалий\n",
    "print(f\"Из дадасета исключаются стороки с аномальными значениями, доля которых: {len(data.query('rooms >= 13'))/len(data):.1%}\")\n",
    "data = data.query('rooms < 13')"
   ]
  },
  {
   "cell_type": "markdown",
   "metadata": {},
   "source": [
    "<div class=\"alert alert-warning\">\n",
    "    <h2> Комментарий ревьюера<a class=\"tocSkip\"> </h2>\n",
    "    \n",
    "<b>Некоторые замечания и рекомендации💡:</b> \n",
    "     \n",
    "Обрати внимание, что в текущей операции ты перезаписывешь предыдущие результат data_out_anomaly = data.query('total_images < 20') на data.query('rooms < 12'), то есть фильтрация данных по количеству изображений не сохранилась."
   ]
  },
  {
   "cell_type": "markdown",
   "metadata": {},
   "source": [
    "<div class=\"alert alert-info\">\n",
    "<h2> Комментарий V1<a class=\"tocSkip\"></h2>\n",
    "<p> С учетом твох рекомендация я поняла, что нет смысла делать урезанный датасет, из которого нестесняясь удалять все строки, в которых слишком странные значения. Поэтому оставила только один датасет и решила его очень скромно уменьшать</p>"
   ]
  },
  {
   "cell_type": "markdown",
   "metadata": {},
   "source": [
    "<div class=\"alert alert-success\"> \n",
    "<h2> Комментарий ревьюера #2 <a class=\"tocSkip\"> </h2>\n",
    "\n",
    "<b>Все отлично!👍:</b> \n",
    "    \n",
    "Согласна, в текущем проекте достаточно одного датасета.🙌"
   ]
  },
  {
   "cell_type": "markdown",
   "metadata": {},
   "source": [
    "#### Столбец total_area "
   ]
  },
  {
   "cell_type": "code",
   "execution_count": null,
   "metadata": {},
   "outputs": [],
   "source": [
    "#Записи, в которых черезмерно большие площади (total_area). \n",
    "display(data.query('total_area > 400').sort_values(by = 'total_area'))"
   ]
  },
  {
   "cell_type": "markdown",
   "metadata": {},
   "source": [
    "Площадь самой большой квартиры Санкт-Петербурга составляет 539 квадратных метров. Об этом сообщается в материалах аналитиков ЦИАН. В нашем дататесте квартир, площадью более 500 м2 осталось 2. Удалим их основного дататеста, ведь такие огромные площади - это точно исключение и маловероятное событие. Вместе с тем, и квартиры, площадью более 200м2 уже кажуться слишком большими, удалим их из урезанного дататеста (data_out_anomaly)."
   ]
  },
  {
   "cell_type": "code",
   "execution_count": null,
   "metadata": {},
   "outputs": [],
   "source": [
    "#Основной датафрейм\n",
    "print(f\"Из дадасета исключаются стороки с аномальными значениями, доля которых: {len(data.query('total_area >= 500'))/len(data):.1%}\")\n",
    "data = data.query('total_area < 500')"
   ]
  },
  {
   "cell_type": "markdown",
   "metadata": {},
   "source": [
    "Рассмотри записи, в которых черезмерно маленькие площади (living_area, kitchen_area). Согласно требованиям СП 54.13330.2016 Здания жилые многоквартирные, установлены следующие минмальнодопустимые значения для площадей в жилых помещениях.\n",
    "\n",
    "- Общей жилой комнаты в однокомнатной квартире — 14 м².\n",
    "- Общей жилой комнаты в квартирах с числом комнат две и более — 16 м². \n",
    "- Спальни — 8 м² (на двух человек — 10 м²); кухни — 8 м².\n",
    "- Кухонной зоны в кухне-столовой — 6 м².\n",
    "В однокомнатных квартирах допускается проектировать кухни или кухни-ниши площадью не менее 5 м².\n",
    "Возьмем минимальнодопустимые значения c небольшими разумными допущениями :\n",
    "- Если одна комната: жилая площадь - 6 м², кухня - 4 м².\n",
    "- Если две комнаты:  жилая площадь - 14 м², кухня - 4 м² \n",
    "\n",
    "Рассмотрим срез данных по объектам недвижимости, метраж которых не соответсвует установленным нормам."
   ]
  },
  {
   "cell_type": "code",
   "execution_count": null,
   "metadata": {},
   "outputs": [],
   "source": [
    "#Однокомнатная квартира\n",
    "data\\\n",
    ".query('(kitchen_area < 4 or living_area < 6) and rooms == 1')\\\n",
    ".plot(x='kitchen_area', y='living_area', kind='scatter', alpha=0.5, xlabel = \"Площадь кухни\", \\\n",
    "                          ylabel = \"Жилая площадь\", title = \"Взаимосвязь между жилой площадью и площадью кухни в однокомнатной квартире\")\n",
    "plt.show()\n",
    "\n",
    "#Двух и более комнатные квартиры\n",
    "data\\\n",
    ".query('(kitchen_area < 4 or living_area < 14) and rooms == 2')\\\n",
    ".plot(x='kitchen_area', y='living_area', kind='scatter', alpha=0.5 , xlabel = \"Площадь кухни\", \\\n",
    "                          ylabel = \"Жилая площадь\", title = \"Взаимосвязь между жилой площадью и площадью кухни в многокомнатных квартирах\")\n",
    "plt.show()"
   ]
  },
  {
   "cell_type": "markdown",
   "metadata": {},
   "source": [
    "Судя по диаграммам рассеяния в дататесте есть квартиры, в которых перепутаны местами площади кухни и жилой комнаты. Это точки ниже диагонали(рассположенные в правом нижнем углу). Поменяем жилую площадь и площадь кухни местами там, где площадь кухни больше жилой площади."
   ]
  },
  {
   "cell_type": "code",
   "execution_count": null,
   "metadata": {},
   "outputs": [],
   "source": [
    "#Обновление индексов \n",
    "data.reset_index(inplace = True)\n",
    "#Замена площадей местами в основном дататесте\n",
    "for index in data.index - 1:\n",
    "     if data.iloc[index]['kitchen_area'] > data.iloc[index]['living_area']:\n",
    "        kitchen_area = data.iloc[index]['kitchen_area']\n",
    "        living_area = data.iloc[index]['living_area']\n",
    "        data.loc[index, 'kitchen_area'] = living_area\n",
    "        data.loc[index, 'living_area'] = kitchen_area  "
   ]
  },
  {
   "cell_type": "code",
   "execution_count": null,
   "metadata": {},
   "outputs": [],
   "source": [
    "#Однокомнатная квартира\n",
    "data\\\n",
    ".query('(kitchen_area < 4 or living_area < 6) and rooms == 1')\\\n",
    ".plot(x='kitchen_area', y='living_area', kind='scatter', alpha=0.5, xlabel = \"Площадь кухни\", \\\n",
    "                          ylabel = \"Жилая площадь\", title = \"Взаимосвязь между жилой площадью и площадью кухни в однокомнтной квартире\")\n",
    "plt.show()\n",
    "\n",
    "#Двух и более комнатные квартиры\n",
    "data\\\n",
    ".query('(kitchen_area < 4 or living_area < 14) and rooms > 1')\\\n",
    ".plot(x='kitchen_area', y='living_area', kind='scatter', alpha=0.5,  xlabel = \"Площадь кухни\", \\\n",
    "                          ylabel = \"Жилая площадь\", title = \"Взаимосвязь между жилой площадью и площадью кухни в многокомнатных квартирах\")\n",
    "plt.show()"
   ]
  },
  {
   "cell_type": "markdown",
   "metadata": {},
   "source": [
    "Теперь диаграмма рассеяния выглядит правильно.  Да, есть точки, которые ниже диагонали, но это потому что, масштаб графика изменился. Вместе с тем строк, в которых значения метража не соответсвует стандартам стало меньше (из-за того, что жилая площадь у них стала больше после проведенной замены). Оставшиеся строки, не удовлетворяющие стандартам малочисленны  и их можно удалить."
   ]
  },
  {
   "cell_type": "code",
   "execution_count": null,
   "metadata": {},
   "outputs": [],
   "source": [
    "#Основной датафрейм\n",
    "ratio = len(data.query('\\\n",
    "    ((kitchen_area <= 4 or living_area <= 6) and rooms == 1) or\\\n",
    "    ((kitchen_area < 4 or living_area < 14) and rooms > 1)'))/len(data)\n",
    "print(f\"Из датасета исключаются стороки с аномальными значениями, доля которых: {ratio:.1%}\")\n",
    "\n",
    "data = data.query('\\\n",
    "        (kitchen_area > 4 and living_area > 6 and rooms == 1) or \\\n",
    "        (kitchen_area > 4 and living_area > 14 and rooms > 1) ')\n"
   ]
  },
  {
   "cell_type": "markdown",
   "metadata": {},
   "source": [
    "Мы удалили из дататеста объекты недвижимости, у которых метраж такой маленький, что не удовлетворят нормам российского законодательства и и поменяли местами значения метража для жилой площади и площади кухни в строчках, где очевидно они ошибочно были перепутаны. Теперь проверим, есть ли в дататесте объекты, у которых общая площадь меньше, чем сумма площадей жилых комнат и кухни. "
   ]
  },
  {
   "cell_type": "code",
   "execution_count": null,
   "metadata": {
    "scrolled": false
   },
   "outputs": [],
   "source": [
    "#Графики для величин total_area, living_area, kitchen_area\n",
    "axes = data.query('total_area < living_area + kitchen_area')[['index','total_area']]\\\n",
    ".plot(x = 'index', y = 'total_area', figsize = (20, 10), grid = True, style = 'o-', \\\n",
    "      label = 'total_area',  xlabel = \"Номер записи об объявлении\", \\\n",
    "      ylabel = \"Площадь\", title = \"Сопоставление общей, жилой и кухонной площадей\")\n",
    "\n",
    "ax2 = data.query('total_area < living_area + kitchen_area')[['index','living_area']]\\\n",
    ".plot(x = 'index', y = 'living_area', figsize = (20, 10), grid = True, style = 'o-', \\\n",
    "      label = 'living_area',  xlabel = \"Номер записи об объявлении\", \\\n",
    "      ylabel = \"Площадь\", title = \"Сопоставление общей, жилой и кухонной площадей\", ax = axes)\n",
    "\n",
    "ax3 = data.query('total_area < living_area + kitchen_area')[['index','kitchen_area']]\\\n",
    ".plot(x = 'index', y = 'kitchen_area', figsize = (20, 10), grid = True, style = 'o-',\\\n",
    "      label = 'kitchen_area',  xlabel = \"Номер записи об объявлении\", ylabel = \"Площадь\",\\\n",
    "      title = \"Сопоставление общей, жилой и кухонной площадей\", ax = axes)\n"
   ]
  },
  {
   "cell_type": "markdown",
   "metadata": {},
   "source": [
    "По графику видно, что общая площадь парктически полностью определяется жилой площадью, что ожидаемо. Также по графику видно, что записей, в которых общая площадь меньше суммы чем сумма площадей жилых комнат и кухни очень мало. Это позволяет нам удалить их значительно не ухудшая представительность выборки."
   ]
  },
  {
   "cell_type": "code",
   "execution_count": null,
   "metadata": {},
   "outputs": [],
   "source": [
    "#Удаление некорректных данных\n",
    "print(f\"Из датасета исключаются стороки с аномальными значениями, доля которых: {len(data.query('total_area < living_area + kitchen_area'))/len(data):.1%}\")\n",
    "data = data.query('total_area >= living_area + kitchen_area')"
   ]
  },
  {
   "cell_type": "markdown",
   "metadata": {},
   "source": [
    "#### Столбец floor\n",
    "\n",
    "Последнее, что необходимо проверить - нет ли ошибки в данных об этажности. Нет ли в дататесте данных, в которых этаж объекта недвижимости болше, чем общее количество этажей в доме."
   ]
  },
  {
   "cell_type": "code",
   "execution_count": null,
   "metadata": {},
   "outputs": [],
   "source": [
    "print(f\"Количество записей с ошибкой в этажности: {len(data.query('floors_total < floor'))}\")\n",
    "print(f\"Количество оставшихся в основном дататесте строк: {len(data)}\")"
   ]
  },
  {
   "cell_type": "markdown",
   "metadata": {},
   "source": [
    "<div style=\"border:solid Aqua 2px; padding: 40px\">\n",
    "<b>Выводы по этапу \"Предъобработка данных\"</b><br>\n",
    "Предъобработка данных завершена. Из данных удалены \n",
    "- строки с пропущенными значениями в столбцах floors_total, living_area , locality_name,   для которых невожможно рассчитать значения для замещения;\n",
    "- медианными значениями по строкам с квартирами соответсвующего типа (студия, открытая планировка, 1-,2-,3-,4- комнатная квартира) городами заполнены пропуски в столбце kitchen_area, living_area;\n",
    "- медианными значениями по строкам с соответсвующими городами заполнены пропуски в столбцах cityCenters_nearest, airports_nearest для всех городов, кроме Санкт-Петербурга;\n",
    "- строки с пропущенными значениями в столбцах cityCenters_nearest, airports_nearest для Санкт-Петербурга удалены;\n",
    "- медианными значениями по строкам с ближайшим по характеристикам элитности жильем (относительно расстояния до центра) заполнены пропуски в столбце ceiling_height;\n",
    "- пропуски в столбцах balcony, parks_around3000, ponds_around3000 заменены нулями;\n",
    "- пропуски в столбце is_apartment заменены флагом \"unknown\";\n",
    "- пропуски в столбце days_exposition заменены флагом -1;\n",
    "- пропуски в столбцах parks_nearest, ponds_nearest заменены флаговым значением 4000.\n",
    "    \n",
    "В даннах исправлены ошибки:\n",
    "- удалены строки с аномально большим количеством фотографий;\n",
    "- удалены строки со слишком маленькой и слишком большой высотой потолка;\n",
    "- исправлены неверные значения высоты потолков;\n",
    "- заменены местами перепутанные значения для площади кухни и жилой площади;\n",
    "- удалены строки со слишком большой и слишком маленькими площадями объектов;\n",
    "- названия населенных пуктов исправлены и приведены к единым наименованиям (удалены дубликаты).\n",
    "    \n",
    "Более строгие условия отбора применялись к отдельному, названному урезанным, дататесту. В итоге предобработки из 23699 в основном дататесте осталось 23093.\n",
    "</div>"
   ]
  },
  {
   "cell_type": "markdown",
   "metadata": {},
   "source": [
    "<div class=\"alert alert-info\">\n",
    "<h2> Комментарий V1<a class=\"tocSkip\"></h2>\n",
    "<p> Учла все замечания и значительно снизила количество потерянных данных </p>"
   ]
  },
  {
   "cell_type": "markdown",
   "metadata": {},
   "source": [
    "<div class=\"alert alert-success\"> \n",
    "<h2> Комментарий ревьюера #2 <a class=\"tocSkip\"> </h2>\n",
    "\n",
    "<b>Все отлично!👍:</b> \n",
    "    \n",
    "Оксана, с учетом внесенных доработок получилась отличная работа! "
   ]
  },
  {
   "cell_type": "markdown",
   "metadata": {},
   "source": [
    "<div class=\"alert alert-block alert-danger\">\n",
    "<h2> Комментарий ревьюера<a class=\"tocSkip\"></h2>\n",
    "\n",
    "    \n",
    "<b>На доработку🤔:</b>\n",
    "\n",
    "Оксана, ты очень внимательно и обстоятельно подошла к этапу обработки аномалий, за это отдельный плюс.🤗🤗🤗 Но как писала выше: удаление 10% данных и менее - считается приемлемым уровнем при работе с очисткой данных. Однако  датасеты data и data_out_anomaly содержат около 40% от первоначальных данных, и это слишком мало(\n",
    "    \n",
    "   При работе с пропусками, важно понимать риски тех способов, которые мы используем для работы с ними. В реальной жизни следует понимать вероятность того, что объективность данных может быть искажена заменой/удалением пропусков. Чтобы доказать обратное, можно, например, сравнить распределения и ключевые статистики до и после замены, или в колонках связанных с площадью, после обработки пустых значений, можно сравнить сумму жилoй и площади кухни с общей площадью.\n",
    "\n",
    "Зачем мы вообще проводим EDA? Есть два пункта:\n",
    "\n",
    "1.Мы хотим получить какие-то инсайты о данных (средние значения, минимумы, максимумы и т.д.), чтобы описать, например, среднестатистическую продаваемую квартиру.\n",
    "\n",
    "2.Мы хотим проверить, подходят ли данные для моделирования (смотрим на аномалии, распределения переменных и другие характеристики) — об этом ты узнаешь в последующих уроках🙌\n",
    "\n",
    "Соответственно, мы должны быть очень осторожны с изменением изначальных данных. \n",
    "Хочу посоветовать тебе статью, которая рассматривает разные способы обработки пропусков, выделяет их плюсы и минусы, думаю, тебе может быть интересно: https://loginom.ru/blog/missing   \n",
    "    \n",
    "    \n",
    "Пожалуйста скорректируй обработку пропусков прежде всего в колонках days_exposition,  living_area и kitchen_area, а также после обработки аномалий проверь объем исключаемых значений.\n",
    "    \n",
    "\n",
    "</div>"
   ]
  },
  {
   "cell_type": "markdown",
   "metadata": {},
   "source": [
    "### Добавление расчетных данных в дататест"
   ]
  },
  {
   "cell_type": "markdown",
   "metadata": {},
   "source": [
    "#### Цена одного квадратного метра"
   ]
  },
  {
   "cell_type": "code",
   "execution_count": null,
   "metadata": {},
   "outputs": [],
   "source": [
    "#Расчет цены одного квадратного метра\n",
    "data['price_for_metr'] = data['last_price']/data['total_area'] "
   ]
  },
  {
   "cell_type": "markdown",
   "metadata": {},
   "source": [
    "#### День публикации объявления "
   ]
  },
  {
   "cell_type": "code",
   "execution_count": null,
   "metadata": {},
   "outputs": [],
   "source": [
    "#Функци для расчета дня публикации объявления (0 - понедельник, 1 - вторник и т.д.)\n",
    "def calc_weekday(date_column):\n",
    "    weekday_dict = {1: \"понедельник\", 2: \"вторник\", 3: \"среда\", 4: \"четверг\", \n",
    "                    5: \"пятница\", 6: \"суббота\", 7: \"воскременье\"}\n",
    "    return weekday_dict[date_column.isoweekday()]\n",
    "\n",
    "#Расчет дня публикации объявления (0 - понедельник, 1 - вторник и т.д.)\n",
    "data['weekday'] = data['first_day_exposition'].apply(calc_weekday)\n",
    "\n",
    "#Расчет дня публикации объявления в цифрах\n",
    "data['weekday_in_number'] = data['first_day_exposition'].dt.weekday"
   ]
  },
  {
   "cell_type": "markdown",
   "metadata": {},
   "source": [
    "#### Месяц публикации объявления "
   ]
  },
  {
   "cell_type": "code",
   "execution_count": null,
   "metadata": {},
   "outputs": [],
   "source": [
    "#Функци для расчета месяца публикации объявления (0 - понедельник, 1 - вторник и т.д.)\n",
    "def calc_month(date_column):\n",
    "    month_dict = {1: \"январь\", 2: \"февраль\", 3: \"март\", 4: \"апрель\", 5: \"май\", \n",
    "                  6: \"июнь\", 7: \"июль\", 8: \"август\", 9: \"сентябрь\", 10: \"октябрь\",\n",
    "                  11: \"ноябрь\", 12: \"декабрь\"}\n",
    "    return month_dict[date_column.month]\n",
    "\n",
    "#Расчет месяца публикации объявления \n",
    "data['month'] = data['first_day_exposition'].apply(calc_month)\n",
    "\n",
    "#Расчет месяца публикации объявления в цифрах\n",
    "data['month_in_number'] = data['first_day_exposition'].dt.month"
   ]
  },
  {
   "cell_type": "markdown",
   "metadata": {},
   "source": [
    "#### Год публикации объявления "
   ]
  },
  {
   "cell_type": "code",
   "execution_count": null,
   "metadata": {},
   "outputs": [],
   "source": [
    "#Расчет года публикации объявления\n",
    "data['year'] = data['first_day_exposition'].dt.year"
   ]
  },
  {
   "cell_type": "markdown",
   "metadata": {},
   "source": [
    "#### Этаж "
   ]
  },
  {
   "cell_type": "code",
   "execution_count": null,
   "metadata": {},
   "outputs": [],
   "source": [
    "#Функци для расчета типа этажа квартиры (значения — «первый», «последний», «другой»)\n",
    "def calc_floor(df):\n",
    "    if df['floor'] == 1:\n",
    "        return 'первый'\n",
    "    elif df['floor'] == df['floors_total']:\n",
    "        return 'последний'\n",
    "    else:\n",
    "        return 'другой'\n",
    "\n",
    "data['floor_type'] = data.apply(calc_floor, axis=1)"
   ]
  },
  {
   "cell_type": "markdown",
   "metadata": {},
   "source": [
    "#### Перевод расстояния в КМ"
   ]
  },
  {
   "cell_type": "code",
   "execution_count": null,
   "metadata": {},
   "outputs": [],
   "source": [
    "#Функци для перевода расстояния до центра города из метров в километры \n",
    "data['cityCenters_km'] = data['cityCenters_nearest']/1000"
   ]
  },
  {
   "cell_type": "markdown",
   "metadata": {},
   "source": [
    "<div class=\"alert alert-success\">\n",
    "<h2> Комментарий ревьюера <a class=\"tocSkip\"> </h2>\n",
    "\n",
    "<b>Все отлично!👍:</b> \n",
    "        \n",
    "Основные моменты на этом шаге анализа учтены."
   ]
  },
  {
   "cell_type": "markdown",
   "metadata": {},
   "source": [
    "### Проведите исследовательский анализ данных"
   ]
  },
  {
   "cell_type": "markdown",
   "metadata": {},
   "source": [
    "#### Изучение параметра \"общая площадь\""
   ]
  },
  {
   "cell_type": "code",
   "execution_count": null,
   "metadata": {},
   "outputs": [],
   "source": [
    "#Статистика по total_area\n",
    "print(data[\"total_area\"].describe())\n",
    "\n",
    "#Гистограмма для распределения общей площади по всем объектам\n",
    "axes = data[\"total_area\"].plot(kind = 'hist', bins = 200, range = (10, 200),\n",
    "                               xlabel = \"Площадь\", ylabel = \"Количество записей об объектах\",\\\n",
    "                               title = \"Количество объектов конкретной общей площади\")\n",
    "axes.set_xlabel(\"Площадь\")\n",
    "axes.set_ylabel('Количество записей об объектах');\n",
    "\n",
    "#Гистограмма для распределения общей площади отдельно для 1-,2-,3- комнатных квартир\n",
    "for room_number in range(1, 4):\n",
    "    data.loc[data['rooms'] == room_number, \"total_area\"]\\\n",
    "    .plot(kind = 'hist', histtype = 'step', range = (10, 200), bins = 300, linewidth = 2,\\\n",
    "    alpha = 0.7, label = str(room_number), figsize = (15, 10), grid = True, legend = True, ax = axes )"
   ]
  },
  {
   "cell_type": "markdown",
   "metadata": {},
   "source": [
    "<div class=\"alert alert-success\">\n",
    "<h2> Комментарий ревьюера <a class=\"tocSkip\"> </h2>\n",
    "\n",
    "<b>Все отлично!👍:</b> \n",
    "        \n",
    "Интересный подход по совмещению гистограмм общей площади и гистограмм по различному количеству комнат в недвижимости."
   ]
  },
  {
   "cell_type": "markdown",
   "metadata": {},
   "source": [
    "В гистограмме для данных по общей площади есть несколько особенностей:\n",
    "1. График резко \"обрезан\" в районе 22-25 м2 (во-первых, потому что мы отбросили квартиры с помещениями, не удовлетворяющими снип, а это как раз 13-22 м, во-вторых, потому что в принципе квартиры с таким малым метражом редко встречаются)\n",
    "2. График в промежутке от 25 до 100 имеет два ярко выраженных провала. Это связано с линиями пересечения площадей квартир с разным количеством комнат, что хорошо видно после наложения на общую гистограмму распределения по площадям для квартир с разным числом комнат.\n",
    "3. Для одно- и двух-комнатных квартир распределение имеет вид пуассоновского с небольшим размахом (отклонением) и яркими максимумами в районе 40 и 53 м2 (для 1- и 2- комнатных объектов соответственно). Для квартир с большим числом комнат площади распределены более равномерно и, соответсвенно с большим размахом. \n",
    "4. Квартиры с общей площадью более 150 м2 встречаются крайне редко. Информация по ним точно не будет показательной. Поэтому удалим из урезанного датафрейма квартиры площадью более 150м2.\n",
    "6. Наиболее часто встречаются квартиры общей площадью от 40 до 70м2."
   ]
  },
  {
   "cell_type": "markdown",
   "metadata": {},
   "source": [
    "#### Изучение параметра \"жилая площадь\""
   ]
  },
  {
   "cell_type": "code",
   "execution_count": null,
   "metadata": {},
   "outputs": [],
   "source": [
    "#Статистика по living_area\n",
    "print(data[\"living_area\"].describe())\n",
    "\n",
    "#Гистограмма для распределения жилой площади по всем объектам\n",
    "axes = data[\"living_area\"].plot(kind = 'hist', bins = 200, range = (10, 100), \\\n",
    "                                xlabel = \"Площадь\", ylabel = \"Количество записей об объектах\",\\\n",
    "                                title = \"Количество объектов конкретной жилой площади\")\n",
    "axes.set_xlabel(\"Площадь\")\n",
    "axes.set_ylabel('Количество записей об объектах');\n",
    "\n",
    "#Гистограмма для распределения жилой площади отдельно для 1-,2-,3- комнатных квартир\n",
    "for room_number in range(1, 4):\n",
    "    data.loc[data['rooms'] == room_number, \"living_area\"]\\\n",
    "    .plot(kind = 'hist', histtype = 'step', range = (10, 100), bins = 200, linewidth = 2,\\\n",
    "    alpha = 0.7, label = str(room_number), figsize = (15, 10), grid = True, legend = True)"
   ]
  },
  {
   "cell_type": "markdown",
   "metadata": {},
   "source": [
    "<div class=\"alert alert-warning\">\n",
    "    <h2> Комментарий ревьюера<a class=\"tocSkip\"> </h2>\n",
    "    \n",
    "<b>Некоторые замечания и рекомендации💡:</b> \n",
    "     \n",
    "\n",
    "        \n",
    "При использовании визуализации в проекте, стоит уделить внимание ее оформлению: ко всем графикам в проекте важно добавить заголовки и подписи осей. Пожалуйста, скорректируй графики во всем проекте:)\n",
    "        \n",
    "\n",
    "Полезные ссылки:\n",
    "        \n",
    "https://www.python-graph-gallery.com/4-add-title-and-axis-label\n",
    "        \n",
    "https://www.kite.com/python/answers/how-to-add-axis-labels-to-a-plot-in-matplotlib-in-python\n",
    "        \n",
    "https://stackoverflow.com/questions/12444716/how-do-i-set-the-figure-title-and-axes-labels-font-size-in-matplotlib"
   ]
  },
  {
   "cell_type": "markdown",
   "metadata": {},
   "source": [
    "<div class=\"alert alert-success\"> \n",
    "<h2> Комментарий ревьюера #2 <a class=\"tocSkip\"> </h2>\n",
    "\n",
    "<b>Все отлично!👍:</b> \n",
    "    \n",
    "Плюсую за добавление названий графиков😊"
   ]
  },
  {
   "cell_type": "markdown",
   "metadata": {},
   "source": [
    "Ожидаемо общий вид распределения для жилой площади повторяет распределение для общей площади. Тесная связь между этими параметрами уже отмечалась на этапе предобработки данных при поиске аномальных значений. Отметим дополнительно, что:\n",
    "1. Провалы между максимума для квартир с разным количеством комнат здесь более выражены. Очевидно площади кухонь \"сгладят\" эти провалы.\n",
    "2. По-отдельности, для одно- и двух-комнатных квартир распределение имеет вид пуассоновского с небольшим размахом (отклонением) и яркими максимумами в районе 16 и 30 м2 (для 1- и 2- комнатных объектов соответственно). Для квартир с большим числом комнат площади распределены более равномерно и, соответсвенно с большим размахом. \n",
    "4. Квартиры с жилой площадью более 70 м2 встречаются крайне редко. Информация по ним точно не будет показательной.\n",
    "6. Наиболее часто встречаются квартиры жилой площадью от 18 до 50м2."
   ]
  },
  {
   "cell_type": "markdown",
   "metadata": {},
   "source": [
    "#### Изучение параметра \"площадь кухни\""
   ]
  },
  {
   "cell_type": "code",
   "execution_count": null,
   "metadata": {},
   "outputs": [],
   "source": [
    "#Статистика по kitchen_area\n",
    "print(data[\"kitchen_area\"].describe())\n",
    "\n",
    "#Гистограмма для распределения площади кухни по всем объектам\n",
    "axes =  data[\"kitchen_area\"].plot(kind = 'hist', bins = 100, range = (0, 40), figsize = (15,10),\n",
    "                                 xlabel = \"Площадь\", ylabel = \"Количество записей об объектах\",\\\n",
    "                                 title = \"Количество объектов c конкретными площадями кухонь\")\n",
    "axes.set_xlabel(\"Площадь\")\n",
    "axes.set_ylabel('Количество записей об объектах');\n",
    "\n",
    "#Гистограмма для распределения площади кухни отдельно для 1-,2-,3- комнатных квартир\n",
    "for room_number in range(1, 4):\n",
    "    data.loc[data['rooms'] == room_number, \"kitchen_area\"]\\\n",
    "    .plot(kind = 'hist', histtype = 'step', range=(0, 40), bins = 100, \\\n",
    "    ax = axes, linewidth = 2, alpha = 0.7, label =str(room_number), grid = True, legend = True, figsize = (15,10))"
   ]
  },
  {
   "cell_type": "markdown",
   "metadata": {},
   "source": [
    "Общий вид распределения для площади кухни отличается от рассмотренных ранее графиков распределений для общей и жилой площадей. Это все также пуассоновское распределение, но:     \n",
    "1. Распределения для разного числа комнат практически не смещены друг относительно друга. То есть, метраж кухонь практически не зависит от количества комнат.\n",
    "2. Квартиры с площадью кухни более 35 м2 встречаются крайне редко. Информация по ним точно не будет показательной. Удалим ее из урезанного датафрейма\n",
    "3. Наиболее часто встречаются квартиры с площадью кухонь от 7 до 12м2.\n",
    "\n",
    "\n",
    "Удалим аномально большие кухни из урезанного датафрейма и проверим, действительно ли площадь кухонь практически не связана с числом комнат. Посчитаем кореляцию."
   ]
  },
  {
   "cell_type": "code",
   "execution_count": null,
   "metadata": {},
   "outputs": [],
   "source": [
    "#Коэффициенты кореляции\n",
    "print(f\"Коэффициент кореляции между кооличеством комнат и площадью кухни: {data['kitchen_area'].corr(data['rooms'])}\")"
   ]
  },
  {
   "cell_type": "markdown",
   "metadata": {},
   "source": [
    "Гипотеза об отсутствии связи между числом комнат и площадью кухни подствержилась. Коэффицент кореляции между указанными величинами равен 0.33."
   ]
  },
  {
   "cell_type": "markdown",
   "metadata": {},
   "source": [
    "#### Изучение параметра \"цена объекта\""
   ]
  },
  {
   "cell_type": "code",
   "execution_count": null,
   "metadata": {},
   "outputs": [],
   "source": [
    "#Статистика по last_price\n",
    "display(data[\"last_price\"].describe())\n",
    "\n",
    "#Гистограмма для распределения цены\n",
    "ax = data[\"last_price\"].plot(kind = 'hist', bins = 100, range = (0, 350000000),\\\n",
    "                             title = \"Количество объектов с конкретной ценой\")\n",
    "ax.set_xlabel(\"Последняя цена\")\n",
    "ax.set_ylabel('Количество записей об объектах')"
   ]
  },
  {
   "cell_type": "markdown",
   "metadata": {},
   "source": [
    "<div class=\"alert alert-warning\">\n",
    "    <h2> Комментарий ревьюера<a class=\"tocSkip\"> </h2>\n",
    "    \n",
    "<b>Некоторые замечания и рекомендации💡:</b> \n",
    "     \n",
    "\n",
    "        \n",
    "Убрать техническую строчку <AxesSubplot:> можно с помощью метода `plt.show()` или `;` (у тебя есть эта проблема на графике выше). Пожалуйста, скорректируй его и подобные ему графики."
   ]
  },
  {
   "cell_type": "markdown",
   "metadata": {},
   "source": [
    "<div class=\"alert alert-success\"> \n",
    "<h2> Комментарий ревьюера #2 <a class=\"tocSkip\"> </h2>\n",
    "\n",
    "<b>Все отлично!👍:</b> \n",
    "    \n",
    "+"
   ]
  },
  {
   "cell_type": "markdown",
   "metadata": {},
   "source": [
    "Стоимость объектов имеет практически идеальное гладкое пуассоновское распределение без больших всплексов, выбросов и провалов. Масштаб графика не позволяет оценить, есть ли достаточное количество объектов с ценой от 5 миллионов. Посторим гистограмму среза данных \"дорогих\" (от третьего квартиля и выше) квартир."
   ]
  },
  {
   "cell_type": "code",
   "execution_count": null,
   "metadata": {},
   "outputs": [],
   "source": [
    "ax = data[\"last_price\"].plot(kind = 'hist', bins = 100, range = (7000000, 35000000),\n",
    "                             title = \"Количество объектов с конкретной ценой\");\n",
    "ax.set_xlabel(\"Последняя цена\")\n",
    "ax.set_ylabel('Количество записей об объектах');"
   ]
  },
  {
   "cell_type": "markdown",
   "metadata": {},
   "source": [
    "<div class=\"alert alert-warning\">\n",
    "    <h2> Комментарий ревьюера #2<a class=\"tocSkip\"> </h2>\n",
    "    \n",
    "<b>Некоторые замечания и рекомендации💡:</b> \n",
    "     \n",
    "А в этом графике тех. строка сохранилась("
   ]
  },
  {
   "cell_type": "markdown",
   "metadata": {},
   "source": [
    "<div class=\"alert alert-info\">\n",
    "<h2> Комментарий V2<a class=\"tocSkip\"></h2>\n",
    "<p> Строку удалила :)</p>"
   ]
  },
  {
   "cell_type": "markdown",
   "metadata": {},
   "source": [
    "Количество продаваемых квартир планомерно уменьшается. Последний значительный всплеск количества продаваемых квартир находится на величине 25 миллионов рублей. Поэтому представляется возможным утверждать, что квартиры, стоимость более 25 миллионов можно считать черезмерно дорогими. Удалим их из урезанного датафрейма"
   ]
  },
  {
   "cell_type": "markdown",
   "metadata": {},
   "source": [
    "#### Изучение параметра \"количество комнат\""
   ]
  },
  {
   "cell_type": "code",
   "execution_count": null,
   "metadata": {},
   "outputs": [],
   "source": [
    "#Статистика по rooms\n",
    "display(data[\"rooms\"].describe())\n",
    "\n",
    "#Гистограмма для распределения по количеству комнат\n",
    "ax = data[\"rooms\"].plot(kind = 'hist', bins = 100, range = (0, 15),\n",
    "                        title = \"Количество объектов с конкретным количеством помещений\")\n",
    "\n",
    "ax.set_xlabel(\"Количество комнат\")\n",
    "ax.set_ylabel('Количество записей об объектах');"
   ]
  },
  {
   "cell_type": "markdown",
   "metadata": {},
   "source": [
    "В данном случае гистограмма неинформативна. Построим круговую диаграмму."
   ]
  },
  {
   "cell_type": "code",
   "execution_count": null,
   "metadata": {},
   "outputs": [],
   "source": [
    "#Круговая диаграмма для распределения по количеству комнат\n",
    "ax = data\\\n",
    ".pivot_table(index = 'rooms', values = 'index', aggfunc = 'count')\\\n",
    ".plot(kind='pie', y = 'index', title = \"Распределение количества комнат по всем объектам\",\n",
    "     labels = [\"1-к\", \"2-к\", \"3-к\", \"4-к\", \"5-к\", \"6-к\", \"7-к\", \"8-к\", \"9-к\", \"10-к\", \"11-к\"],\n",
    "     autopct=\"%.2f\", figsize = (10, 10))"
   ]
  },
  {
   "cell_type": "markdown",
   "metadata": {},
   "source": [
    "На круговой диаграмме отчетливо видно, что основную массу дататеста составляют 1-,2-,3-х комнатные квартиры.\n",
    "Причем число 1- и 2-х комнатных квартир соизмеримо, 3-х - чуть меньше, 4-х - значительно меньше. Объекты с числом квартир более 4 - скорее статистическая погрешность. "
   ]
  },
  {
   "cell_type": "markdown",
   "metadata": {},
   "source": [
    "#### Изучение параметра \"высота потолков\"\n",
    "Изучение параметра \"высота потолков\" максимально полно приведены в разделе, посвещенном предобработке данных. Поэтому здесь рассматриваться не будет.\n",
    "\n",
    "#### Изучение параметра \"этаж квартиры\""
   ]
  },
  {
   "cell_type": "code",
   "execution_count": 17,
   "metadata": {},
   "outputs": [
    {
     "data": {
      "text/plain": [
       "count    23650.000000\n",
       "mean         5.893277\n",
       "std          4.883317\n",
       "min          1.000000\n",
       "25%          2.000000\n",
       "50%          4.000000\n",
       "75%          8.000000\n",
       "max         33.000000\n",
       "Name: floor, dtype: float64"
      ]
     },
     "metadata": {},
     "output_type": "display_data"
    },
    {
     "data": {
      "image/png": "[encoded data removed]",
      "text/plain": [
       "<Figure size 432x288 with 1 Axes>"
      ]
     },
     "metadata": {
      "needs_background": "light"
     },
     "output_type": "display_data"
    },
    {
     "data": {
      "image/png": "[encoded data removed]",
      "text/plain": [
       "<Figure size 720x360 with 1 Axes>"
      ]
     },
     "metadata": {
      "needs_background": "light"
     },
     "output_type": "display_data"
    }
   ],
   "source": [
    "#Статистика по данным об этажах\n",
    "display(data[\"floor\"].describe())\n",
    "\n",
    "#Гистограмма по данным по этажам\n",
    "ax = data[\"floor\"].plot(kind = 'hist', bins = 80, range = (1, 60), \\\n",
    "                   title = 'Количество объектов с конкретным количеством этажей')\n",
    "\n",
    "ax.set_xlabel(\"Количество этажей\")\n",
    "ax.set_ylabel('Количество записей об объектах')\n",
    "\n",
    "plt.show()\n",
    "\n",
    "#Диаграмма с усами для данных об этажах\n",
    "plt.ylim = (2, 4)\n",
    "data.boxplot(column = 'floor', vert = False,  grid = True, figsize = (10, 5))\n",
    "plt.show()"
   ]
  },
  {
   "cell_type": "markdown",
   "metadata": {},
   "source": [
    "Судя по гистограмме и ящику с усами, записи об объектах, расположенных на этажах, выше 15-го можно считать выбросами. Такие объекты встречаются в дататесте редко. Наиболее часто продаются объекты, расположенные на 3 - 8 этажах. Это может быть связано с малоэтажной застройкой соседних с Санкт-Перетбургом городов, а также с тем, что на на сайтах объявлений обычно продается вторичное, давно построенное жилье. Высотность такого жилья,как правило, не превышает 14 этажей. Проверим эту гипотезу на этапе изучения параметра \"общее количество этажей в доме\". \n",
    "\n",
    "#### Изучение параметра \"общее количество этажей в доме\"."
   ]
  },
  {
   "cell_type": "code",
   "execution_count": null,
   "metadata": {},
   "outputs": [],
   "source": [
    "#Статистика по данным об этажах\n",
    "display(data[\"floors_total\"].describe())\n",
    "\n",
    "#Гистограмма по данным по этажам\n",
    "ax = data[\"floors_total\"].plot(kind = 'hist', bins = 100, range = (1, 60),\\\n",
    "                         title = \"Количество объектов с конкретным номером этажа\")\n",
    "\n",
    "ax.set_xlabel(\"Номер этажа\")\n",
    "ax.set_ylabel('Количество записей об объектах')\n",
    "plt.show()\n",
    "\n",
    "#Диаграмма с усами для данных об этажах\n",
    "plt.ylim = (2, 4)\n",
    "color = {\n",
    "    \"boxes\": \"Green\",\n",
    "    \"whiskers\": \"Orange\",\n",
    "    \"medians\": \"Blue\",\n",
    "    \"caps\": \"Gray\",\n",
    "}\n",
    "data.boxplot(column = ['floors_total'], vert = False, color =color, grid = True, figsize = (10, 5))\n",
    "plt.show()"
   ]
  },
  {
   "cell_type": "markdown",
   "metadata": {},
   "source": [
    "Судя по гистограмме и ящику с усами, этажность объектов хаотично распределена в промежутке от 1 до 28 этажей. При этом записи об объектах выше 30 этажей можно считать выбросами. Такие объекты встречаются в дататесте редко. Средняя этажность продающихся домов - 10, большая часть распределена в промежутке от 5 до 15 этажей. Проверим этажность объектов в Санкт-Петербурге. "
   ]
  },
  {
   "cell_type": "code",
   "execution_count": null,
   "metadata": {},
   "outputs": [],
   "source": [
    "#Статистика по этажности жилья в Санкт-Петербурге\n",
    "data.query('locality_name == \"Санкт-Петербург\"')[\"floor\"].describe()"
   ]
  },
  {
   "cell_type": "markdown",
   "metadata": {},
   "source": [
    "Гипотеза о том, что малоэтажное жилье продается в основном не в Санкт-Петербурге не подтвердилась. В нем, как и в общей массе объектов средняя высотность не превышает 6 этажей.\n",
    "\n",
    "#### Изучение параметра \"тип этажа квартиры\"."
   ]
  },
  {
   "cell_type": "code",
   "execution_count": null,
   "metadata": {},
   "outputs": [],
   "source": [
    "#Статистика\n",
    "print(data[\"floor_type\"].describe())\n",
    "\n",
    "#Круговая диаграмма\n",
    "ax = data.pivot_table(index = 'floor_type', values = 'index', aggfunc = 'count')\\\n",
    ".plot(kind='pie', y = 'index', title = \"Распределение этажей по типу\", figsize = (6, 6),  autopct=\"%.2f\")"
   ]
  },
  {
   "cell_type": "markdown",
   "metadata": {},
   "source": [
    "Вполне ожидаемое доли объектов, расположенных на первом и последних этажах оказались примерно равны (по 1/8 от общего числа), а доля других этажей значительно больше (3/4 от общего числа). С учетом того, что средняя этажность в дататесте равна 10, при равномерном распределении числа продаж каждого этажа доля других этажей должна было бы быть чуть больше (где-то 4/5 от общего числа). Ее уменьшение может косвенно свидетельствовать о том, что первый и последний этажи продают чуть более охотно, чем все остальные."
   ]
  },
  {
   "cell_type": "markdown",
   "metadata": {},
   "source": [
    "#### Изучение параметра \"асстояние до центра города в метрах\"."
   ]
  },
  {
   "cell_type": "code",
   "execution_count": null,
   "metadata": {},
   "outputs": [],
   "source": [
    "#Статистика\n",
    "display(data[\"cityCenters_km\"].describe())\n",
    "\n",
    "#Гистограмма\n",
    "ax = data[\"cityCenters_km\"].plot(kind = 'hist', bins = 150, range = (1, 70), \\\n",
    "                                title = \"Количество объектов с конкретным расстоянием до центра\")\n",
    "ax.set_xlabel(\"Расстояние\")\n",
    "ax.set_ylabel('Количество записей об объектах')"
   ]
  },
  {
   "cell_type": "markdown",
   "metadata": {},
   "source": [
    "На гистограмме заметно, что распределение расстояния до центра имеет вид пуасcонновского, но как-будто модулированного по амплитуде. Наиболее вероятно такое распределение можно объяснить тем, что оно постороено на основании данных для совокупности городов, для каждого из которых имеется свое распределение, проявляющиеся на графике характерными всплесками (возвышениями). Наложим на гистограму графики наиболее продаваемых городов."
   ]
  },
  {
   "cell_type": "code",
   "execution_count": null,
   "metadata": {},
   "outputs": [],
   "source": [
    "#Срез по 10 наиболее продающимся городам\n",
    "top_cities_by_sels = data.groupby(\"locality_name\")[\"locality_name\"].count().sort_values(ascending = False).head(10)\n",
    "\n",
    "#Общая гистограмма\n",
    "axes = data[\"cityCenters_km\"]\\\n",
    ".plot(kind = 'hist', bins = 100, label = 'all citys', figsize = (15, 10), grid = True, legend = True)\n",
    "\n",
    "axes.set_xlabel(\"Расстояние до центра\")\n",
    "axes.set_ylabel('Количество записей об объектах')\n",
    "#Цикл для посторения графиков для топ-10 продающихся городов\n",
    "for index, row_data in top_cities_by_sels.items():\n",
    "    data.loc[data[\"locality_name\"] == index, \"cityCenters_km\"]\\\n",
    "    .plot(kind = 'hist', histtype = 'step', range=(1, 70), bins = 150, \\\n",
    "    ax = axes, linewidth = 2, alpha = 0.7, label = index, grid = True, legend = True,\n",
    "    title = \"Количество объектов с конкретным расстоянием до центра для разных городов\" )\n"
   ]
  },
  {
   "cell_type": "markdown",
   "metadata": {},
   "source": [
    "Из графиков видно, что первые два (4 км, 14 км) всплеска на основной гистограмме сформированы наосновании записей об объектах из Санкт-Петербурга. От 22 до 55 км в основном продаются объекты из соседних городов. Получается, что всплески Санкт-Петербурга наверно должны быть связаны с особенностями его застройки. Видимо на этих расстояниях (4 км, 14 км) расположено несколькокрупных жилых райнов. "
   ]
  },
  {
   "cell_type": "markdown",
   "metadata": {},
   "source": [
    "#### Изучение параметра \"Расстояние до ближайшего аэропорта\"."
   ]
  },
  {
   "cell_type": "code",
   "execution_count": null,
   "metadata": {},
   "outputs": [],
   "source": [
    "#Статистика\n",
    "print(data[\"airports_nearest\"].describe())\n",
    "\n",
    "#Общая гистограмма\n",
    "axes = data[\"airports_nearest\"]\\\n",
    ".plot(kind = 'hist', bins = 100, label = 'all citys', figsize = (15, 10), grid = True, legend = True)\n",
    "axes.set_xlabel(\"Расстояние до аэропорта\")\n",
    "axes.set_ylabel('Количество записей об объектах')\n",
    "\n",
    "#Цикл для посторения графиков для топ-10 продающихся городов\n",
    "for index, row_data in top_cities_by_sels.items():\n",
    "    data.loc[data[\"locality_name\"] == index, \"airports_nearest\"]\\\n",
    "    .plot(kind = 'hist', histtype = 'step', range=(500, 70000), bins = 150, \\\n",
    "    ax = axes, linewidth = 2, alpha = 0.7, label = index, grid = True, legend = True,\\\n",
    "          title = \"Количество объектов с конкретным расстоянием до аэропорта\")"
   ]
  },
  {
   "cell_type": "markdown",
   "metadata": {},
   "source": [
    "Форма общего распределения практически полностью определяется данными об объектах, расположенных в Санкт-Петербурге.\n",
    "При этом распределение расстояний по сравнению с расстояниями до центра стало более равномерным. Так же стоит отметить, что всплески соседких городов по сравнению с расстояниями до центра сместились к началу графика. Получается, что указанные города расположены дальше, чем питерские объекты от центра, но ближе или на таком же расстоянии как питерские объекты от аэропорта.\n"
   ]
  },
  {
   "cell_type": "markdown",
   "metadata": {},
   "source": [
    "#### Изучение параметра \"Расстояние до ближайшего парка\"."
   ]
  },
  {
   "cell_type": "code",
   "execution_count": null,
   "metadata": {},
   "outputs": [],
   "source": [
    "#Статистика\n",
    "print(data[\"parks_nearest\"].describe())\n",
    "\n",
    "#Гистограмма по расстояниям до парков\n",
    "axes = data[\"parks_nearest\"]\\\n",
    ".plot(kind = 'hist', bins = 100, label = 'all citys', range = (0, 4000), \\\n",
    "      figsize = (15, 10), grid = True, legend = True, \\\n",
    "      title = \"Количество объектов с конкретным расстоянием до парка\")\n",
    "\n",
    "axes.set_xlabel(\"Расстояние до парка\")\n",
    "axes.set_ylabel('Количество записей об объектах')"
   ]
  },
  {
   "cell_type": "markdown",
   "metadata": {},
   "source": [
    "На гистограмме мы видим серьезный недостаток, который был введен в данные на этапе предъобработки. Тогда, когда для записей с отсуствующей информацией о расстоянии до ближайшего парка и количестве парков на расстоянии не более 3 км мы заменили расстояние на 4000м, а количество на 0. Это явно внесло огромную погрешность в статистичесике данные, привязанные к информции о ближайщих парках. Вместе с тем, предполагая такие последствия предъобработки, мы установили значение расстояния равным числу, которое нигде кроме предъобработанных строк не встречается и, значит, может является флагом, сигнализирующим о том, что эти данные искуственно изменены. С учетом изложенного, изучая статистику, связанную прямо или косвенно с расстояниями до ближайших парков, стоит исключать из выборки указанные записи. То же самое надо учитывать при работе с данными о прудах. Сделаем это.  "
   ]
  },
  {
   "cell_type": "code",
   "execution_count": null,
   "metadata": {},
   "outputs": [],
   "source": [
    "#Статистика по записям без парков на расстоянии 4000м\n",
    "print(data.query('parks_nearest < 4000')[\"parks_nearest\"].describe())\n",
    "\n",
    "#Гистограмма по записям без парков на расстоянии 4000м\n",
    "axes = data.query('parks_nearest < 4000')[\"parks_nearest\"]\\\n",
    ".plot(kind = 'hist', bins = 100, label = 'all citys', range = (0, 4000), \\\n",
    "      figsize = (15, 10), grid = True, legend = True,\n",
    "      title = \"Количество объектов с конкретным расстоянием до парка без аномалий\")\n",
    "\n",
    "axes.set_xlabel(\"Расстояние до парка\")\n",
    "axes.set_ylabel('Количество записей об объектах')"
   ]
  },
  {
   "cell_type": "markdown",
   "metadata": {},
   "source": [
    "Теперь гистограмма иммет ожидаемый вид. Среднее расстояние до ближайшего парка составляет 500м. Для большинства объектов расстояние до ближайшего парка лежит в диапазоне от 0 до 602 метров. Удалим записи с расстояниеями, больше или равными 4000 из урезанного датафрейма "
   ]
  },
  {
   "cell_type": "markdown",
   "metadata": {},
   "source": [
    "<div class=\"alert alert-block alert-danger\">\n",
    "<h2> Комментарий ревьюера<a class=\"tocSkip\"></h2>\n",
    "\n",
    "    \n",
    "<b>На доработку🤔:</b>\n",
    "\n",
    "Обращаю внимание, что после данной операции размер data_out_anomaly составляет 1997 строк - примерно 8% от первоначальных данных, что критически мало("
   ]
  },
  {
   "cell_type": "markdown",
   "metadata": {},
   "source": [
    "<div class=\"alert alert-info\">\n",
    "<h2> Комментарий V1<a class=\"tocSkip\"></h2>\n",
    "<p> Учла все замечания и ислючила этот датасет из исследования</p>"
   ]
  },
  {
   "cell_type": "markdown",
   "metadata": {},
   "source": [
    "<div class=\"alert alert-success\"> \n",
    "<h2> Комментарий ревьюера #2 <a class=\"tocSkip\"> </h2>\n",
    "\n",
    "<b>Все отлично!👍:</b> \n",
    "    \n",
    "+"
   ]
  },
  {
   "cell_type": "markdown",
   "metadata": {},
   "source": [
    "#### Изучение параметра \"День публикации\""
   ]
  },
  {
   "cell_type": "code",
   "execution_count": null,
   "metadata": {},
   "outputs": [],
   "source": [
    "#Статистика \n",
    "print(data[\"weekday\"].describe())\n",
    "\n",
    "#Гистограмма\n",
    "ax = data[\"weekday_in_number\"].plot(kind = 'hist', bins = 100, range = (0, 8), figsize = (15, 5),\\\n",
    "                               title = \"Распределение объявлений по дням недели\")\n",
    "ax.set_xlabel(\"День недели\")\n",
    "ax.set_ylabel('Количество записей об объектах')\n",
    "\n",
    "#Круговая диаграмма\n",
    "ax = data.pivot_table(index = 'weekday', values = 'index', aggfunc = 'count')\\\n",
    ".plot(kind='pie', y = 'index', title = \"Распределение объявлений по дням недели\", autopct=\"%.2f\",\\\n",
    "     legend = False, figsize = (6,6))"
   ]
  },
  {
   "cell_type": "markdown",
   "metadata": {},
   "source": [
    "Реже всего объявления публикаются по субботам и воскресенья, видимо граждане предпочитают отдыхать в выходные."
   ]
  },
  {
   "cell_type": "markdown",
   "metadata": {},
   "source": [
    "#### Изучение параметра \"Месяц публикации\"."
   ]
  },
  {
   "cell_type": "code",
   "execution_count": null,
   "metadata": {},
   "outputs": [],
   "source": [
    "#Статистика\n",
    "print(data[\"month\"].describe())\n",
    "\n",
    "#Гистограмма\n",
    "data[\"month\"].hist(bins = 100, figsize = (15, 5))\n",
    "plt.show()\n",
    "\n",
    "#Круговая диаграмма\n",
    "data.pivot_table(index = 'month', values = 'index', aggfunc = 'count')\\\n",
    ".plot(kind='pie', y = 'index', title = \"Распределение объявлений по месяцам\", autopct=\"%.2f\",\\\n",
    "     legend = False, figsize = (6,6))"
   ]
  },
  {
   "cell_type": "markdown",
   "metadata": {},
   "source": [
    "Чаще всего объявления публикуют в марте, а реже всего в мае (видимо из-за майских праздников)."
   ]
  },
  {
   "cell_type": "markdown",
   "metadata": {},
   "source": [
    "#### Изучение параметра days_exposition"
   ]
  },
  {
   "cell_type": "code",
   "execution_count": null,
   "metadata": {},
   "outputs": [],
   "source": [
    "#Статистика\n",
    "display(data[\"days_exposition\"].describe())\n",
    "\n",
    "#Гистограмма\n",
    "ax = data[\"days_exposition\"]\\\n",
    ".plot(kind = 'hist', bins = 300, label = 'all citys', range = (0, 1600), \\\n",
    "      figsize = (15, 10), grid = True, legend = True, \\\n",
    "      title = \"Количество объектов с конкретной длительностью размещения\")\n",
    "\n",
    "ax.set_xlabel(\"Длительность размещения\")\n",
    "ax.set_ylabel('Количество записей об объектах')"
   ]
  },
  {
   "cell_type": "markdown",
   "metadata": {},
   "source": [
    "На первый взгляд смотря на график можно сделать вывод, что чем больше срок размещения объвления, тем меньше объектов продается, чем меньше срок размещеня - тем больше продается объектов. Другими словами, если объект не продался в первые несколько месяцев, то вероятность, что он продаст после весьма мала. Это объясняется следующим:\n",
    "активно ищущие квартиру регулярно просматривают новые объявления, поэтому в первые дни после его появления потенциальные покупатели уже оценят квартиру. Если их устроит цена (особенно, если владелец готов сделать скидку)- они купят квартиру сразу. Если нет - не купят (это объясняет всплеск продаж около нуля). Через пару месяцев отказов большинство \"упертых\" владельцев скорее всего снизят цену и покупатели, которых ранее устроила квартира, но не устроила цена - опять же ее купят (это объясняет всплес на уровне 50-80 дней). Если объявление висит дольше - покупательсикй интерес на нее резко снижается (кто захочет купить то, что никому не нужно ?). И тут либо продавцу повезет, либо он просто снимет объявление и разместит его заново. Вместе с тем, чтобы проверить эту концепцию нам не хватает следующих данных:\n",
    "1. Начальная цена объекта\n",
    "2. \"Качество\" или \"элитность\" жилья (цена на м может быть завышенной или заниженной, оценить какая она в дататесте мы не можем, как не знаем, какого качества и ценого сегмента продается объект)\n",
    "2. Информация о том, почему сняли объявление (квартиру продали или просто убрали объявление). \n",
    "\n",
    "Без этих данных выводы о скорости продажи не будут достоверными. Вместе с тем в любом случае, можно утверждать, что продажи, которые длятся дольше 1 года точно можно считать сверхдолгими. А продажи, которые дляться менее 5 дней - сверхбыстрими. Поэтому их можно не учитывать при расчете статистических данных. Построим гистограмму и расчитаем показатели статистики для продаж с условно нормальным сроком продаж. Также удалим предполагаемые аномалии из урезанного датафрейма"
   ]
  },
  {
   "cell_type": "code",
   "execution_count": null,
   "metadata": {},
   "outputs": [],
   "source": [
    "#Срез по продажам нормальной длительности\n",
    "normal_sales = data.query('days_exposition < 365 and days_exposition > 5')[[\"days_exposition\", \"locality_name\"]]\n",
    "\n",
    "#Среднее и медианное значение длительности продаж по всем объектам\n",
    "print(f\"Средняя длительность продаж: {normal_sales['days_exposition'].mean()}\")\n",
    "print(f\"Медианная длительность продаж: {normal_sales['days_exposition'].median()}\")"
   ]
  },
  {
   "cell_type": "markdown",
   "metadata": {},
   "source": [
    "Проверим, насколько сильно отличается среднее и медианное время нормальных подлительности продаж от города к городу."
   ]
  },
  {
   "cell_type": "code",
   "execution_count": null,
   "metadata": {},
   "outputs": [],
   "source": [
    "#Сводная таблица по длительности продаж для топ-20 городов\n",
    "display(normal_sales\\\n",
    ".pivot_table(index = 'locality_name', values = 'days_exposition', aggfunc = ['mean', 'median', 'count'])\\\n",
    ".sort_values(('count', 'days_exposition'), ascending = False)\\\n",
    ".head(20))"
   ]
  },
  {
   "cell_type": "markdown",
   "metadata": {},
   "source": [
    "Видно, что медианное и среднее время продаж для всего дататеста практически совпадает с показателями для Санкт-Петербурга. Посмотрим, какое среднее и медианное время будет для соседних городов, если на показатели не будут влиять питерские продажи. Посчитаем медиану и среднее по медиане и среднему 20-ти наиболее \"продаваемых\" городов.\n"
   ]
  },
  {
   "cell_type": "code",
   "execution_count": null,
   "metadata": {},
   "outputs": [],
   "source": [
    "#Средние и медианые значения по городам\n",
    "statistics_by_days_exposition = normal_sales\\\n",
    ".query('locality_name != \"Санкт-Петербург\"')\\\n",
    ".pivot_table(index = 'locality_name', values = 'days_exposition', aggfunc = ['mean', 'median', 'count'])\\\n",
    ".sort_values(('count', 'days_exposition'), ascending = False)\\\n",
    ".head(20)\n",
    "\n",
    "print(f\"Медиана по медианам 20-ти продаваемых городов: {statistics_by_days_exposition[('median', 'days_exposition')].median()}\")\n",
    "print(f\"Среднее по медианам 20-ти продаваемых городов: {statistics_by_days_exposition[('median', 'days_exposition')].mean()}\")\n",
    "print(f\"Медиана по средниему 20-ти продаваемых городов: {statistics_by_days_exposition[('mean', 'days_exposition')].median()}\")\n",
    "print(f\"Среднее по среднему 20-ти продаваемых городов: {statistics_by_days_exposition[('mean', 'days_exposition')].mean()}\")"
   ]
  },
  {
   "cell_type": "markdown",
   "metadata": {},
   "source": [
    "Разница между статистическим показателями незначительная (меньше недели): \n",
    "- у всех часто продаваемых город (топ 30) медиана 79, среднее 108\n",
    "- у Санкт-Петербурга медиана 79, среднее 107\n",
    "- у часто продаваемых город (топ 30) без Петербурга медиана 76, среднее 105.\n",
    "\n",
    "Значит длительность продажи не зависит от города продажи."
   ]
  },
  {
   "cell_type": "markdown",
   "metadata": {},
   "source": [
    "<div style=\"border:solid Aqua 2px; padding: 40px\">\n",
    "<b>Выводы по этапу исследовательский анализ данных</b><br>\n",
    "\n",
    "По результатам исследования параметров объектов можно сформулировать следующие обобщенные выводы:\n",
    "    \n",
    "1. Общая площадь квартир в большей степени определяется жилой площадью. При этом обе эти площади напрямую зависят от числа комнат в квартире (чем больше комнат, тем больше площадь). Наиболее часто продаются квартиры, общей площадью от 40 до 70м2, жилая площадь таких квартир лежит в диапазоне от 16 до 30 м2, количество комнат в диапазоне от 1 до 4 комнат. Квартиры, метраж которых превышает 150м2 (жилая площадь - 70м2) встречаются крайне редко и находяться в зоне статистической прогрешности. \n",
    "\n",
    "2. Площадь кухонь практически не зависит от числа комнат в квартире.Наиболее часто встречаются квартиры с площадью кухонь от 7 до 12м2.\n",
    "\n",
    "3. Средняя стоимость продаваемых объектов без учета аномальных выбросов находиться в диапазоне от 2 до 7.5 миллионов рублей. Встречаются объекты большей стоимости. При исключении аномалий есть смысл ограничивать верхнуу границу цены величиной в 25 миллионов.\n",
    "\n",
    "4. Этажность объектов хаотично распределена в промежутке от 1 до 28 этажей. Средняя этажность продающихся домов - 10, большая часть распределена в промежутке от 5 до 15 этажей. При этом средняя этажность объектов в Санкт-Петербурге и соседних городах не отличаются. Охотнее продаются и покупаются квартиры на первом и последнем этажах. \n",
    "может косвенно свидетельствовать о том, что первый и последний этажи продают чуть более охотно, чем все остальные.\n",
    "\n",
    "5. Расстояние от объектов до центра и аэропорта в Санкт-Петербурге определяется особенностями локализации крупных жилых райнов (4 км, 14 км, 22 км), в остальных городах - завист от расстояния до Санкт-Петрбурга (25 до 55 км).\n",
    "\n",
    "6. Среднее расстояние до парков(прудов) обычно совпадают и не зависимо от города находяться в диапазоне от 0 до 602 метров со средним значением 500 метров. \n",
    "\n",
    "7. Есть гипотеза, что чем больше срок размещения объвления, тем меньше объектов продается, чем меньше срок размещеня - тем больше продается объектов. Для ее проверки не хватает следующих данных:\n",
    "- начальная цена объекта,\n",
    "- \"Качество\" или \"элитность\" жилья (цена на м может быть завышенной или заниженной, оценить какая она в дататесте мы не можем, как не знаем, какого качества и ценого сегмента продается объект),\n",
    "Информация о том, почему сняли объявление (квартиру продали или просто убрали объявление).\n",
    "\n",
    "8. Продажи, которые длятся дольше 1 года точно можно считать сверхдолгими. А продажи, которые дляться менее 5 дней - сверхбыстрими. \n",
    "</div>"
   ]
  },
  {
   "cell_type": "markdown",
   "metadata": {},
   "source": [
    "<div class=\"alert alert-success\">\n",
    "<h2> Комментарий ревьюера <a class=\"tocSkip\"> </h2>\n",
    "\n",
    "<b>Все отлично!👍:</b> \n",
    "        \n",
    "Оксана, ты проделала достаточно детальную работу на данном этапе!👍👍👍 Вывод из этого раздела можно использовать в финальном подведении итогов."
   ]
  },
  {
   "cell_type": "markdown",
   "metadata": {},
   "source": [
    "### Выполнение задания: \n",
    "\"Определение факторов, которые больше всего влияют на общую (полную) стоимость объекта с использование сводных таблиц\".\n",
    "\n",
    "Будем проводить исследование по двум датафреймам (основному и урезанному)"
   ]
  },
  {
   "cell_type": "code",
   "execution_count": null,
   "metadata": {},
   "outputs": [],
   "source": [
    "#Срез данных по столбцам, влияние которыех требуется проверить\n",
    "srez_data = data[['price_for_metr','total_area', 'living_area', 'kitchen_area', 'rooms']]\\\n",
    ".sort_values('price_for_metr', ascending = False)\n",
    "\n",
    "#Матрица диаграммы рассеяния\n",
    "pd.plotting.scatter_matrix(srez_data, figsize=(15, 15)) \n",
    "\n",
    "#Коэффициенты корреляции\n",
    "display(srez_data.corr())"
   ]
  },
  {
   "cell_type": "markdown",
   "metadata": {},
   "source": [
    "<div class=\"alert alert-block alert-danger\">\n",
    "<h2> Комментарий ревьюера<a class=\"tocSkip\"></h2>\n",
    "\n",
    "    \n",
    "<b>На доработку🤔:</b>\n",
    "\n",
    "Плюс за использование корреляционной матрицы, но применить ее необходимо только к количественным переменнным. Для них коэффициент корреляции Пирсона работает хорошо. Однако применение его к остальным параметрам - типу этажа, дню недели, году, и месяцу - не эффективно, т.к. цена квартиры зависит от них не линейно. Пожалуйста удали эти параметры из корреляционной матрицы здесь и ниже, а также скорректируй выводы по ним без учета коэффициента корреляции.\n"
   ]
  },
  {
   "cell_type": "markdown",
   "metadata": {},
   "source": [
    "<div class=\"alert alert-info\">\n",
    "<h2> Комментарий V1<a class=\"tocSkip\"></h2>\n",
    "<p> Убрала из матрицы графики для дня, месяца, года. Ниже вывода по матрице разместила линейные графики, по каждому из которых сделала краткие выврдв.</p>"
   ]
  },
  {
   "cell_type": "markdown",
   "metadata": {},
   "source": [
    "<div class=\"alert alert-success\"> \n",
    "<h2> Комментарий ревьюера #2 <a class=\"tocSkip\"> </h2>\n",
    "\n",
    "<b>Все отлично!👍:</b> \n",
    "    \n",
    "Все верно, как писала выше коэффициент корреляции Пирсона не эффективен для категориальных параметров."
   ]
  },
  {
   "cell_type": "markdown",
   "metadata": {},
   "source": [
    "Рассмотрим матрицу диаграммы рассеяния. \n",
    "1. price_for_metr - total_area - где-то до 100м2 участок графика представляет собой более-менее компактную полоску с очень незначительным наклоном, после 100м2 наблюдается прогрессирующий разброс. Значит до 100м2 цена слабо, но зависит от площади объекта (с увеличением общей площади цена растет), после 100м2 цена в меньшей степени определяется общей площадью объекта. \n",
    "2. price_for_metr  - living_area - где-то до 70м2 участок графика представляет собой более-менее компактную полоску, после 70м2 наблюдается прогрессирующий разброс. Значит до 70м2 с увеличением жилой площади цена растет равномерно, после цена в меньшей степени определяется жилой площадью объекта. Тенденция полностью повторяет описанную для пары price_for_metr  - total_area, что ожидаемо, так как ранее мы выяснили, что графики распределения общей и жилой плрщажи практически идентичны.\n",
    "3. price_for_metr  - kitchen_area - зависимость повторяет гистограммы для пар  price_for_metr - total_area  и price_for_metr  - living_area. \n",
    "4. price_for_metr - rooms - график предствавляет собой вертикальные полосы, со значительно обрезанным правым верхним углом (чем больше количество комнат, тем меньше цена за квадратный метр) и незначительно обрезанным левым верхним углом (для маленьких однокомнатных квартир отсутствую записи с очень высокой ценой). Каждая линия сформирована разным количеством точек. Наиболее яркими являются 1-4 полосы (ранее уже было отмечено, что в основном продаются 1-5 комнатные квартиры). \n",
    "\n",
    "Все выводы подтверждаются расчитанными коэффициентами корреляции:\n",
    "- price_for_metr  - total_area: 0.781262\n",
    "- price_for_metr  - living_area: 0.695760 \n",
    "- price_for_metr  - kitchen_area: 0.606778\n",
    "- price_for_metr  - rooms: 0.561691\n",
    "\n",
    "Для визуализации зависимости цены от дня, месяца, года публикации построим линейные зависимости."
   ]
  },
  {
   "cell_type": "markdown",
   "metadata": {},
   "source": [
    "#### Зависимость цены квадратного метра от количества комнат"
   ]
  },
  {
   "cell_type": "code",
   "execution_count": null,
   "metadata": {},
   "outputs": [],
   "source": [
    "#Зависимость цены квадратного метра от количества комнат\n",
    "axes = data\\\n",
    ".pivot_table(index = 'rooms', values = 'price_for_metr', aggfunc = 'median')\\\n",
    ".plot(figsize = (20, 10), grid = True, style = 'o-',\\\n",
    "      title = \"Зависимость медианной стоимости 1 метра от количества комнат\", legend = False,\\\n",
    "      xlabel = \"Количество комнат\", ylabel = \"Медианная стоимость одного метра\")"
   ]
  },
  {
   "cell_type": "markdown",
   "metadata": {},
   "source": [
    "На графике видно, что цена одного метра в однокомнатных квартирах в среднем выше цены одного метра в двух и трех-комнатных квартирах. Начиная с квартир из трех комнат и выше цена квадратного метра растет, достигая максимума при количестве комнат, равном 7. Далее она снова начинает снижаться. Резкий рост после 10 комнат наиболее вероятно анамалия. "
   ]
  },
  {
   "cell_type": "markdown",
   "metadata": {},
   "source": [
    "#### Зависимость цены квадратного метра от дня недели"
   ]
  },
  {
   "cell_type": "code",
   "execution_count": null,
   "metadata": {},
   "outputs": [],
   "source": [
    "#Зависимость цены квадратного метра от дня недели\n",
    "axes = data\\\n",
    ".pivot_table(index = 'weekday_in_number', values = 'price_for_metr', aggfunc = 'median')\\\n",
    ".plot(figsize = (20, 10), grid = True, style = 'o-', \\\n",
    "      title = \"Зависимость медианной стоимости 1 метра от дня недели\", legend = False,\\\n",
    "      xlabel = \"День недели\", ylabel = \"Медианная стоимость одного метра\")\n"
   ]
  },
  {
   "cell_type": "markdown",
   "metadata": {},
   "source": [
    "Если оценивать динамику по графику - можно утверждать, что цена за метр возрастает с пятницы по онедельник, а потом снижается. Чтобы проверить это построим зависимости цены от дня недели по годам"
   ]
  },
  {
   "cell_type": "markdown",
   "metadata": {},
   "source": [
    "<div class=\"alert alert-info\">\n",
    "<h2> Вопрос V1<a class=\"tocSkip\"></h2>\n",
    "<p> Здесь у меня возникли проблемы. Если стороить графики в цикле и сразу на основании pivot_table, то почему-то метод .plot не воспринимает аргумент label = str(year) и подписывает все графики одинаково (price_for_metr) названием столбца по которому идет расчет в pivot_table. Придумала костыль: сделала промежуточный ДФ, переименовала столбец, добавиви в него номер года и потом построила график. НО можно ли сделать подобное более красиво.\n",
    "    \n",
    "И второй вопрос: можно как-то пробросить в график вместо номера название дня (чтобы на графике подписи х были понедельник, вторник и тд). Я подозреваю, что может можно как-то использовать, lambda, но как незнаю. Если просто заменить столбец на weekday, то график не строиться, потому что ему для массива х нужны числа </p>"
   ]
  },
  {
   "cell_type": "markdown",
   "metadata": {},
   "source": [
    "<div class=\"alert alert-warning\">\n",
    "    <h2> Комментарий ревьюера #2<a class=\"tocSkip\"> </h2>\n",
    "    \n",
    "<b>Некоторые замечания и рекомендации💡:</b> \n",
    "     \n",
    "1. Можно записать значения легенды в отдельный список и добавить его в такую настройку в конце графика:\n",
    "        \n",
    "         legend_name=['price for metr','2014','2015','2016','2017','2018']\n",
    "         plt.legend(legend_name)\n",
    "        \n",
    "2. Здесь можно поставить weekday в свободной таблице в index и тогда график будет строиться:\n",
    "        \n",
    "        axes = data\\\n",
    "        .pivot_table(index = 'weekday', values = 'price_for_metr', aggfunc = 'median')\\\n",
    "        .plot(figsize = (20, 10), grid = True, style = 'o-', label = 'total_area')\n",
    "        "
   ]
  },
  {
   "cell_type": "markdown",
   "metadata": {},
   "source": [
    "<div class=\"alert alert-info\">\n",
    "<h2> Вопрос V2<a class=\"tocSkip\"></h2>\n",
    "<p> Все получилось. Спасибо огромное !</p>"
   ]
  },
  {
   "cell_type": "code",
   "execution_count": null,
   "metadata": {},
   "outputs": [],
   "source": [
    "data\\\n",
    ".pivot_table(index = ('weekday', 'weekday_in_number'),  values = 'price_for_metr', aggfunc = 'median')\\\n",
    ".sort_values('weekday_in_number')"
   ]
  },
  {
   "cell_type": "code",
   "execution_count": null,
   "metadata": {},
   "outputs": [],
   "source": [
    "#Зависимость цены квадратного метра от дня недели\n",
    "axes = data\\\n",
    ".pivot_table(index = ('weekday', 'weekday_in_number'),  values = 'price_for_metr', aggfunc = 'median')\\\n",
    ".sort_values('weekday_in_number')\\\n",
    ".plot(figsize = (20, 10), grid = True, style = 'o-', label = 'total_area')\n",
    "\n",
    "for year in range(2014, 2019):\n",
    "    data.loc[data['year'] == year].pivot_table(index = 'weekday_in_number', values = 'price_for_metr', aggfunc = 'median')\\\n",
    "    .plot( figsize = (20, 10), grid = True, style = 'o-', ax = axes, label = str(year),\\\n",
    "          title = \"Зависимость медианной стоимости 1 метра от количества комнат\",\\\n",
    "          xlabel = \"День недели\", ylabel = \"Медианная стоимость одного метра\", legend = True) \n",
    "\n",
    "legend_name=['price for metr','2014', '2015','2016','2017','2018']\n",
    "plt.legend(legend_name); "
   ]
  },
  {
   "cell_type": "markdown",
   "metadata": {},
   "source": [
    "Очевидно, что график за 2014 год очень сильноотличается от остальных, исключим его из выборки и посмотрим как изменяться графики"
   ]
  },
  {
   "cell_type": "code",
   "execution_count": null,
   "metadata": {},
   "outputs": [],
   "source": [
    "axes = data.query('year > 2014')\\\n",
    ".pivot_table(index = 'weekday_in_number', values = 'price_for_metr', aggfunc = 'median')\\\n",
    ".plot(figsize = (20, 10), grid = True, style = 'o-', label = 'total_area')\n",
    "\n",
    "for year in range(2015, 2019):\n",
    "    _df = data.loc[data['year'] == year].pivot_table(index = 'weekday_in_number', values = 'price_for_metr', aggfunc = 'median')\n",
    "    _df.columns = [f'{year}_median_price']\n",
    "    _df.plot( figsize = (20, 10), grid = True, style = 'o-', ax = axes, label = str(year),\\\n",
    "          title = \"Зависимость медианной стоимости 1 метра от количества комнат\",\\\n",
    "          xlabel = \"День недели\", ylabel = \"Медианная стоимость одного метра\", legend = True)    \n",
    "\n",
    "legend_name=['price for metr','2015','2016','2017','2018']\n",
    "plt.legend(legend_name);"
   ]
  },
  {
   "cell_type": "markdown",
   "metadata": {},
   "source": [
    "Даже исключив из выборки год, в котором график абсолютно не коррелирует с графиками других годов, мы не видим сильной схожести зависимостей. Поэтому представлется невозможным утверждать, что существует зависимостьмежду днем недели и стоимостью квартиры."
   ]
  },
  {
   "cell_type": "markdown",
   "metadata": {},
   "source": [
    "#### Зависимость цены квадратного метра от месяца"
   ]
  },
  {
   "cell_type": "code",
   "execution_count": null,
   "metadata": {},
   "outputs": [],
   "source": [
    "#Зависимость цены квадратного метра от месяца\n",
    "axes = data\\\n",
    ".pivot_table(index = 'month_in_number', values = 'price_for_metr', aggfunc = 'median')\\\n",
    ".plot(figsize = (20, 10), grid = True, style = 'o-',\\\n",
    "      title = \"Зависимость медианной стоимости 1 метра от месяца\", legend = False,\\\n",
    "      xlabel = \"Месяц\", ylabel = \"Медианная стоимость одного метра\")"
   ]
  },
  {
   "cell_type": "markdown",
   "metadata": {},
   "source": [
    "Если оценивать динамику по графику - можно утверждать, что цена за метр в среднем в течении года постоянна, но имеет тенденцию к снижению в конце весны и в конце осени. Чтобы проверить это построим зависимости цены от месяца по годам"
   ]
  },
  {
   "cell_type": "code",
   "execution_count": null,
   "metadata": {},
   "outputs": [],
   "source": [
    "#Зависимость цены квадратного метра от месяца\n",
    "axes = data\\\n",
    ".pivot_table(index = 'month_in_number', values = 'price_for_metr', aggfunc = 'median')\\\n",
    ".plot(figsize = (20, 10), grid = True, style = 'o-', label = 'all_yeras')\n",
    "\n",
    "for year in range(2014, 2019):\n",
    "    _df = data.loc[data['year'] == year].pivot_table(index = 'month_in_number', values = 'price_for_metr', aggfunc = 'median')\n",
    "    _df.columns = [f'{year}_median_price']\n",
    "    _df.plot( figsize = (20, 10), grid = True, style = 'o-', ax = axes, label = str(year),\\\n",
    "          title = \"Зависимость медианной стоимости 1 метра от количества комнат\",\\\n",
    "          xlabel = \"Месяц\", ylabel = \"Медианная стоимость одного метра\", legend = True) "
   ]
  },
  {
   "cell_type": "markdown",
   "metadata": {},
   "source": [
    "Очевидно, что график за 2014 год очень сильно отличается от остальных, исключим его из выборки и посмотрим как изменяться графики."
   ]
  },
  {
   "cell_type": "code",
   "execution_count": null,
   "metadata": {},
   "outputs": [],
   "source": [
    "#Зависимость цены квадратного метра от месяца\n",
    "axes = data.query('year > 2014')\\\n",
    ".pivot_table(index = 'month_in_number', values = 'price_for_metr', aggfunc = 'median')\\\n",
    ".plot(figsize = (20, 10), grid = True, style = 'o-', label = 'all_yeras')\n",
    "\n",
    "for year in range(2015, 2019):\n",
    "    _df = data.loc[data['year'] == year].pivot_table(index = 'month_in_number', values = 'price_for_metr', aggfunc = 'median')\n",
    "    _df.columns = [f'{year}_median_price']\n",
    "    _df.plot( figsize = (20, 10), grid = True, style = 'o-', ax = axes, label = str(year),\\\n",
    "          title = \"Зависимость медианной стоимости 1 метра от количества комнат\",\\\n",
    "          xlabel = \"Месяц\", ylabel = \"Медианная стоимость одного метра\", legend = True) "
   ]
  },
  {
   "cell_type": "markdown",
   "metadata": {},
   "source": [
    "Графики по годам позволяют подтвердить гипотезу о том, что весной и осенью стоимость квадратного метра имеет тенденцию к снижению. Но данных объективно недостаточно, чтобы заявлять это точно."
   ]
  },
  {
   "cell_type": "markdown",
   "metadata": {},
   "source": [
    "#### Зависимость цены квадратного метра от года"
   ]
  },
  {
   "cell_type": "code",
   "execution_count": null,
   "metadata": {},
   "outputs": [],
   "source": [
    "#Зависимость цены квадратного метра от года\n",
    "axes = data\\\n",
    ".pivot_table(index = 'year', values = 'price_for_metr', aggfunc = 'median')\\\n",
    ".plot(figsize = (20, 10), grid = True, style = 'o-', label = 'total_area',\\\n",
    "      title = \"Зависимость медианной стоимости 1 метра от года\", legend = False,\\\n",
    "      xlabel = \"Год\", ylabel = \"Медианная стоимость одного метра\")"
   ]
  },
  {
   "cell_type": "markdown",
   "metadata": {},
   "source": [
    "По графику видно, что цена с 2014 по 2016 год снижалась, а затем начала расти. Проверим эту гипотезу, рассмотрев динамику изменения цены и общих площадей квартир от года  к году."
   ]
  },
  {
   "cell_type": "code",
   "execution_count": null,
   "metadata": {},
   "outputs": [],
   "source": [
    "#Зависимость общей цены от года\n",
    "axes = data\\\n",
    ".pivot_table(index = 'year', values = 'last_price', aggfunc = 'median')\\\n",
    ".plot(figsize = (20, 10), grid = True, style = 'o-', label = 'total_area',\\\n",
    "      title = \"Зависимость медианной общей стоимости от года\", legend = False,\\\n",
    "      xlabel = \"Год\", ylabel = \"Медианная стоимость объекта\")"
   ]
  },
  {
   "cell_type": "code",
   "execution_count": null,
   "metadata": {},
   "outputs": [],
   "source": [
    "#Зависимость общей площади от года\n",
    "axes = data\\\n",
    ".pivot_table(index = 'year', values = 'total_area', aggfunc = 'median')\\\n",
    ".plot(figsize = (20, 10), grid = True, style = 'o-', label = 'total_area',\\\n",
    "     title = \"Зависимость медианной стоимости площади объектов от года\", legend = False,\\\n",
    "      xlabel = \"Год\", ylabel = \"Медианная площадь\")"
   ]
  },
  {
   "cell_type": "markdown",
   "metadata": {},
   "source": [
    "Все три графика имеют тенденцию к снижению (общей цены, площади) с 2014 по 2017 год и роста с 2017 по 2019."
   ]
  },
  {
   "cell_type": "markdown",
   "metadata": {},
   "source": [
    "<div class=\"alert alert-warning\">\n",
    "    <h2> Комментарий ревьюера <a class=\"tocSkip\"></h2>\n",
    "    \n",
    "<b>Некоторые замечания и рекомендации💡:</b> \n",
    "        \n",
    "Давай рассмотрим динамику общей цены и площади продаваемых квартир. И потом пересмотрим выводы, т.к., возможно, менялась не столько цена, сколько площадь продаваемых квартир."
   ]
  },
  {
   "cell_type": "markdown",
   "metadata": {},
   "source": [
    "<div class=\"alert alert-info\">\n",
    "<h2> Комментарий V1<a class=\"tocSkip\"></h2>\n",
    "<p> Посмотрела обе динамики. Вроде как они не противоречат выводам по цене за 1 метр.</p>"
   ]
  },
  {
   "cell_type": "markdown",
   "metadata": {},
   "source": [
    "<div class=\"alert alert-success\"> \n",
    "<h2> Комментарий ревьюера #2 <a class=\"tocSkip\"> </h2>\n",
    "\n",
    "<b>Все отлично!👍:</b> \n",
    "    \n",
    "Обрати внимание на восходяший тренд по цене за квадратный метр начиная с 2016 года, в это же время площадь продаваемых квартир снижалась вплоть до 2018 года. То есть цена росла, но площадь продаваемой недвижимости снижалась."
   ]
  },
  {
   "cell_type": "markdown",
   "metadata": {},
   "source": [
    "#### Зависимость между ценой и площадями"
   ]
  },
  {
   "cell_type": "code",
   "execution_count": null,
   "metadata": {},
   "outputs": [],
   "source": [
    "ax = data\\\n",
    ".plot(x='price_for_metr', y='total_area', kind='hexbin', gridsize=25, figsize=(12, 8), \\\n",
    "      sharex=False, grid=True, title = \"Взаимосвязь цены за метр и общей площади\", \\\n",
    "      legend = True, xlabel = \"Цена за метр\", ylabel = \"Общая площадь\") "
   ]
  },
  {
   "cell_type": "code",
   "execution_count": null,
   "metadata": {},
   "outputs": [],
   "source": [
    "ax = data\\\n",
    ".plot(x='price_for_metr', y='living_area', kind='hexbin', gridsize=25, figsize=(12, 8),\\\n",
    "      sharex=False, grid=True, title = \"Взаимосвязь цены за метр и жилой площади\", \\\n",
    "      legend = True, xlabel = \"Цена за метр\", ylabel = \"Жилая площадь\") "
   ]
  },
  {
   "cell_type": "code",
   "execution_count": null,
   "metadata": {},
   "outputs": [],
   "source": [
    "ax = data\\\n",
    ".plot(x='price_for_metr', y='kitchen_area', kind='hexbin', gridsize=15, figsize=(10, 8), sharex=False, grid=True) "
   ]
  },
  {
   "cell_type": "markdown",
   "metadata": {},
   "source": [
    "На гексографиках зависимость между ценой и площадь не визуализируется. Единственное, что можно отметить, что наиболее часто в датасете встречаются квартиры, со стоимостью за квадратный метр до 100итысяч рублей и площадями до 70 (общая), до 60(жилая), до 20 (кухни.)  Рассчитаем коэффициенты корреляции между ценой и площадями."
   ]
  },
  {
   "cell_type": "code",
   "execution_count": null,
   "metadata": {},
   "outputs": [],
   "source": [
    "#Коэффициенты корреляции\n",
    "print(f\" Коээфициент корреляции между ценой и общей площадью: {srez_data['price_for_metr'].corr(srez_data['total_area'])}\")\n",
    "print(f\" Коээфициент корреляции между ценой и общей площадью: {srez_data['price_for_metr'].corr(srez_data['living_area'])}\")\n",
    "print(f\" Коээфициент корреляции между ценой и общей площадью: {srez_data['price_for_metr'].corr(srez_data['kitchen_area'])}\")\n"
   ]
  },
  {
   "cell_type": "markdown",
   "metadata": {},
   "source": [
    "<div class=\"alert alert-warning\">\n",
    "    <h2> Комментарий ревьюера #2 <a class=\"tocSkip\"></h2>\n",
    "    \n",
    "<b>Некоторые замечания и рекомендации💡:</b> \n",
    "        \n",
    "С твоего позволения закомментирую строчку выше."
   ]
  },
  {
   "cell_type": "markdown",
   "metadata": {},
   "source": [
    "<div class=\"alert alert-info\">\n",
    "<h2> Комментарий V1<a class=\"tocSkip\"></h2>\n",
    "<p> Не стала повторно строить диаграммы рассеяния(график scatter) для пар цена-площадь, ведь они уже есть в матрице (п.3.5 ) .</p>"
   ]
  },
  {
   "cell_type": "markdown",
   "metadata": {},
   "source": [
    "<div class=\"alert alert-block alert-danger\">\n",
    "<h2> Комментарий ревьюера<a class=\"tocSkip\"></h2>\n",
    "\n",
    "    \n",
    "<b>На доработку🤔:</b>\n",
    "\n",
    "    \n",
    "Для визуализации зависимости между количественных переменными стоит использовать диаграммы рассеяния(график scatter).\n",
    "        \n",
    "Подробнее:\n",
    "    \n",
    "https://datavizcatalogue.com/RU/metody/diagramma_rassejanija.html\n",
    "\n",
    "https://pythobyte.com/matplotlib-scatterplot-tutorial-and-examples-d17c1ba7/\n",
    "    \n",
    "    \n",
    "Пример кода:\n",
    "        data.plot(y='last_price', x='total_area', kind='scatter');\n",
    "    \n",
    "    \n",
    "Пожалуйста скорректируй визуализацию на данном этапе."
   ]
  },
  {
   "cell_type": "markdown",
   "metadata": {},
   "source": [
    "<div class=\"alert alert-success\"> \n",
    "<h2> Комментарий ревьюера #2 <a class=\"tocSkip\"> </h2>\n",
    "\n",
    "<b>Все отлично!👍:</b> \n",
    "    \n",
    "+"
   ]
  },
  {
   "cell_type": "markdown",
   "metadata": {},
   "source": [
    "<div class=\"alert alert-warning\">\n",
    "    <h2> Комментарий ревьюера <a class=\"tocSkip\"></h2>\n",
    "    \n",
    "<b>Некоторые замечания и рекомендации💡:</b> \n",
    "        \n",
    "Предполагаю, что строка сверху относится к другому разделу анализа~"
   ]
  },
  {
   "cell_type": "markdown",
   "metadata": {},
   "source": [
    "<div class=\"alert alert-info\">\n",
    "<h2> Комментарий V1<a class=\"tocSkip\"></h2>\n",
    "<p> Да, я ее убрала</p>"
   ]
  },
  {
   "cell_type": "markdown",
   "metadata": {},
   "source": [
    "#### Зависимость между ценой и типом квартиры"
   ]
  },
  {
   "cell_type": "code",
   "execution_count": null,
   "metadata": {},
   "outputs": [],
   "source": [
    "#График зависимотсти между ценой и типом квартиры \n",
    "ax = data\\\n",
    ".pivot_table(index = 'is_apartment', values = 'price_for_metr', aggfunc = ('mean'))\\\n",
    ".plot(figsize = (20, 5), grid = True, style = 'o-', legend = False,\\\n",
    "      title = \"Зависимость медианной цены за метр от типа объекта\", \\\n",
    "      xlabel = \"Тип объекта\", ylabel = \"Цена за метр\")\n"
   ]
  },
  {
   "cell_type": "markdown",
   "metadata": {},
   "source": [
    "<div class=\"alert alert-success\"> \n",
    "<h2> Комментарий ревьюера <a class=\"tocSkip\"> </h2>\n",
    "\n",
    "<b>Все отлично!👍:</b> \n",
    "    \n",
    "Плюс за проведениедополнительно анализа👌"
   ]
  },
  {
   "cell_type": "markdown",
   "metadata": {},
   "source": [
    "На графиках для основного и урезанного фреймов отмечаются общие тенденции: стоимость квадратного метра в апартаментах выше, чем в жилом помещении."
   ]
  },
  {
   "cell_type": "markdown",
   "metadata": {},
   "source": [
    "#### Зависимость между ценой и числом парков"
   ]
  },
  {
   "cell_type": "code",
   "execution_count": null,
   "metadata": {},
   "outputs": [],
   "source": [
    "#График зависимотсти между ценой и числом парков\n",
    "ax = data\\\n",
    ".pivot_table(index = 'parks_around3000', values = 'price_for_metr', aggfunc = ('mean'))\\\n",
    ".plot(figsize = (20, 5), grid = True, style = 'o-', legend = False,\\\n",
    "      title = \"Зависимость медианной цены за метр от числа парков\", \\\n",
    "      xlabel = \"Число парков\", ylabel = \"Цена за метр\")"
   ]
  },
  {
   "cell_type": "markdown",
   "metadata": {},
   "source": [
    "Очевидно, что чем больше парков рядом, тем выше стоимость квадратного метра."
   ]
  },
  {
   "cell_type": "markdown",
   "metadata": {},
   "source": [
    "#### Зависимость между ценой и числом водоемов"
   ]
  },
  {
   "cell_type": "code",
   "execution_count": null,
   "metadata": {},
   "outputs": [],
   "source": [
    "#График зависимотсти между ценой и числом водоемов\n",
    "# Create names on the x axis\n",
    "ax = data\\\n",
    ".pivot_table(index = 'ponds_around3000', values = 'price_for_metr', aggfunc = ('mean'))\\\n",
    ".plot(figsize = (20, 5), grid = True, style = 'o-', legend = False,\\\n",
    "      title = \"Зависимость медианной цены за метр от числа водоемов\", \\\n",
    "      xlabel = \"Число водоемов\", ylabel = \"Цена за метр\")"
   ]
  },
  {
   "cell_type": "markdown",
   "metadata": {},
   "source": [
    "Очевидно, чем больше водоемов рядом, тем выше стоимость квадратного метра. "
   ]
  },
  {
   "cell_type": "markdown",
   "metadata": {},
   "source": [
    "#### Зависимость между ценой и расстоянием до аэропорта"
   ]
  },
  {
   "cell_type": "code",
   "execution_count": null,
   "metadata": {},
   "outputs": [],
   "source": [
    "#График зависимотсти между ценой и расстоянием до аэропорта\n",
    "ax = data.plot(y = 'price_for_metr', x = 'airports_nearest',  figsize = (20, 5), grid = True, \\\n",
    "               style = 'o-', kind = 'scatter', \\\n",
    "               title = \"Зависимость медианной цены за метр от расстояния до аэропорта\", \\\n",
    "               xlabel = \"Расстояние до аэропорта\", ylabel = \"Цена за метр\")"
   ]
  },
  {
   "cell_type": "code",
   "execution_count": null,
   "metadata": {},
   "outputs": [],
   "source": [
    "data\\\n",
    ".plot(y='price_for_metr', x='airports_nearest', kind='hexbin', gridsize=15, figsize=(10, 8),\\\n",
    "      sharex=False, grid=True, title = \"Взаимосвязь цены за метр и расстоянием до аэропорта\", \\\n",
    "      legend = True, ylabel = \"Цена за метр\", xlabel = \"Расстояние до аэропорта\") "
   ]
  },
  {
   "cell_type": "markdown",
   "metadata": {},
   "source": [
    "На графиках типа \"scatter\" и \"hexbin\" видно, что цена квадратного метра не зависит от расстояния до аэропорта."
   ]
  },
  {
   "cell_type": "markdown",
   "metadata": {},
   "source": [
    "#### Зависимость между ценой и расстоянием до центра города"
   ]
  },
  {
   "cell_type": "code",
   "execution_count": null,
   "metadata": {},
   "outputs": [],
   "source": [
    "#График зависимотсти между ценой и расстоянием до центра\n",
    "ax = data.plot(y = 'price_for_metr', x = 'cityCenters_nearest',  figsize = (20, 5), grid = True, \\\n",
    "          style = 'o-', kind = 'scatter',\\\n",
    "          title = \"Зависимость медианной цены за метр от расстояния до центра\", \\\n",
    "          xlabel = \"Расстояние до центра\", ylabel = \"Цена за метр\")"
   ]
  },
  {
   "cell_type": "code",
   "execution_count": null,
   "metadata": {},
   "outputs": [],
   "source": [
    "#График зависимотсти между ценой и расстоянием до центра\n",
    "ax = data\\\n",
    ".plot(y='price_for_metr', x='cityCenters_nearest', kind='hexbin', gridsize=15, figsize=(10, 8),\\\n",
    "       sharex=False, grid=True, \\\n",
    "      title = \"Взаимосвязь цены за метр и расстоянием до центра\", \\\n",
    "      ylabel = \"Цена за метр\", xlabel = \"Расстояние до центра\") "
   ]
  },
  {
   "cell_type": "markdown",
   "metadata": {},
   "source": [
    "На графиках типа \"scatter\" и \"hexbin\" видно, что цена квадратного метра по всем городам не зависит от расстояния до аэропорта. Проверим, так ли это для Санкт-Петербурга."
   ]
  },
  {
   "cell_type": "code",
   "execution_count": null,
   "metadata": {},
   "outputs": [],
   "source": [
    "#График зависимотсти между ценой и расстоянием до центра для Санкт-Петербурга\n",
    "ax = data\\\n",
    ".query('locality_name == \"Санкт-Петербург\" and cityCenters_nearest < 30000')\\\n",
    ".plot(y = 'price_for_metr', x = 'cityCenters_nearest', figsize = (20, 5), grid = True, \\\n",
    "          style = 'o-', kind = 'scatter',\\\n",
    "          title = \"Зависимость медианной цены за метр от расстояния до центра\", \\\n",
    "          xlabel = \"Расстояние до центра\", ylabel = \"Цена за метр\")"
   ]
  },
  {
   "cell_type": "code",
   "execution_count": null,
   "metadata": {},
   "outputs": [],
   "source": [
    "#График зависимотсти между ценой и расстоянием до центра для Санкт-Петербурга\n",
    "ax = data\\\n",
    ".query('locality_name == \"Санкт-Петербург\" and cityCenters_nearest < 60000')\\\n",
    ".plot(y='price_for_metr', x='cityCenters_nearest', kind='hexbin', gridsize=35, figsize=(10, 8),\\\n",
    "       sharex=False, grid=True, \\\n",
    "      title = \"Взаимосвязь цены за метр и расстоянием до центра\", \\\n",
    "      ylabel = \"Цена за метр\", xlabel = \"Расстояние до центра\") "
   ]
  },
  {
   "cell_type": "markdown",
   "metadata": {},
   "source": [
    "На графиках типа \"scatter\" и \"hexbin\" видно, что цена квадратного метра в Санкт-Петербурге не зависит от расстояния до аэропорта. Вместе с тем, очевидно, что на маленьком расстоянии есть объекты намного доороже средней по всей выборки цены за метр."
   ]
  },
  {
   "cell_type": "markdown",
   "metadata": {},
   "source": [
    "#### Зависимость между ценой и высотой потолка"
   ]
  },
  {
   "cell_type": "code",
   "execution_count": null,
   "metadata": {},
   "outputs": [],
   "source": [
    "#График зависимотсти между ценой и высотой потолка\n",
    "data\\\n",
    ".plot(y = 'price_for_metr', x = 'ceiling_height',  figsize = (20, 5), grid = True, \\\n",
    "      style = 'o-', kind = 'scatter', \\\n",
    "      title = \"Зависимость медианной цены за метр от высоты потолка\", \\\n",
    "      xlabel = \"Высота потолка\", ylabel = \"Цена за метр\" )"
   ]
  },
  {
   "cell_type": "code",
   "execution_count": null,
   "metadata": {},
   "outputs": [],
   "source": [
    "#График зависимотсти между ценой и расстоянием до центра\n",
    "axes = data\\\n",
    ".plot(y='price_for_metr', x='ceiling_height', kind='hexbin', gridsize=15, figsize=(10, 8), \\\n",
    "       sharex=False, grid=True, title = \"Взаимосвязь цены за метр и высоты потолка\", \\\n",
    "      legend = True, ylabel = \"Цена за метр\", xlabel = \"Расстояние до центра\") \n"
   ]
  },
  {
   "cell_type": "markdown",
   "metadata": {},
   "source": [
    "На графиках для основного и урезанного фреймов видно, что цена квадратного метра в среднем чуть выше у объектов с потолками от 2.8-2.9 метров. "
   ]
  },
  {
   "cell_type": "markdown",
   "metadata": {},
   "source": [
    "<div class=\"alert alert-block alert-danger\">\n",
    "<h2> Комментарий ревьюера<a class=\"tocSkip\"></h2>\n",
    "\n",
    "    \n",
    "<b>На доработку🤔:</b>\n",
    "\n",
    "    \n",
    "Как писала выше - для визуализации зависимости между количественных переменными стоит использовать диаграммы рассеяния(график scatter). Пожалуйста, скорректируй также и этот раздел.\n"
   ]
  },
  {
   "cell_type": "markdown",
   "metadata": {},
   "source": [
    "<div class=\"alert alert-info\">\n",
    "<h2> Комментарий V1<a class=\"tocSkip\"></h2>\n",
    "<p> Графики поменяла</p>"
   ]
  },
  {
   "cell_type": "markdown",
   "metadata": {},
   "source": [
    "<div class=\"alert alert-success\"> \n",
    "<h2> Комментарий ревьюера #2 <a class=\"tocSkip\"> </h2>\n",
    "\n",
    "<b>Все отлично!👍:</b> \n",
    "    \n",
    "Здесь также проделана качественная работа! Повторно отмечу дополнительный анализ параемтров, не указанных в ТЗ.👍👍👍"
   ]
  },
  {
   "cell_type": "markdown",
   "metadata": {},
   "source": [
    "<div style=\"border:solid Aqua 2px; padding: 40px\">\n",
    "<b>Выводы по заданию: \"Определение факторов, которые больше всего влияют на общую (полную) стоимость объекта с использование сводных таблиц\"</b><br>\n",
    "Таким образом, обобщая все полученные данные, можно утверждать, что:\n",
    "цена квадратного метра среднестатичтического объекта недвижимости линейно зависит от:\n",
    "    \n",
    "    \n",
    "- числа парков и прудов поблизости (чем больше парков и прудов, тем выше цена),\n",
    "- от типа объекта недвижимости (аппартамены имеют большую стоимость за квадратный метр),\n",
    "- от числа комнат ( цена одного метра в однокомнатных квартирах в среднем выше цены одного метра в двух и трех-комнатных квартирах. Начиная с квартир из трех комнат и выше цена квадратного метра растет, достигая максимума при количестве комнат, равном 7. Далее она снова начинает снижаться),\n",
    "- от высоты потолка (квартиры с высокими потолками стоят чуть дороже). \n",
    "\n",
    " Вместе с тем цена квадратного метра не зависит от общей и жилой площади квартиры и от дня публикации. Также стоит отметить что, средняя цена одного метра будет чуть меньше в начале лета и конце осени. Кроме того отмечено, что стоимость объектов недвижимости снижалась с 2014 по 2017 год и росла с 2017 по 2019.\n",
    " </div>   "
   ]
  },
  {
   "cell_type": "markdown",
   "metadata": {},
   "source": [
    "### Выполнение задания: \n",
    "\"Расчет средней цены одного квадратного метра в 10 населённых пунктах с наибольшим числом объявлений\"."
   ]
  },
  {
   "cell_type": "code",
   "execution_count": null,
   "metadata": {},
   "outputs": [],
   "source": [
    "#Расчет цены за 1 метр для каждого объекта\n",
    "data['price_for_metr'] = data['last_price']/data['total_area']\n",
    "\n",
    "#Средняя цена в каждом городе\n",
    "statistics_by_price = data\\\n",
    ".pivot_table(index = 'locality_name', values = 'price_for_metr', aggfunc = ['mean', 'median', 'count'])\\\n",
    ".sort_values(('count', 'price_for_metr'), ascending = False)\\\n",
    ".head(10)\n",
    "\n",
    "#Средние и медианные значения по средним значениям по городам\n",
    "print(f\"Медиана по медианам 10-ти продаваемых городов: {statistics_by_price[('median', 'price_for_metr')].median()}\")\n",
    "print(f\"Среднее по медианам 10-ти продаваемых городов: {statistics_by_price[('median', 'price_for_metr')].mean()}\")\n",
    "print(f\"Медиана по средниему 10-ти продаваемых городов: {statistics_by_price[('mean', 'price_for_metr')].median()}\")\n",
    "print(f\"Среднее по среднему 10-ти продаваемых городов: {statistics_by_price[('mean', 'price_for_metr')].mean()}\")\n"
   ]
  },
  {
   "cell_type": "markdown",
   "metadata": {},
   "source": [
    "Разница между статистическим показателями цены квадратного метра между городами весомая: \n",
    "- у всех часто продаваемых город (топ 10) медиана средней цены  - 82 214Р\n",
    "- у Санкт-Петербурга средняя цена 114 849Р\n",
    "- у Выборга (самый дешевый из 10-ки) средняя цена 58 142Р \n",
    "\n",
    "Значит стоимость квадратного метра сильно зависит от города продажи."
   ]
  },
  {
   "cell_type": "markdown",
   "metadata": {},
   "source": [
    "<div class=\"alert alert-success\"> \n",
    "<h2> Комментарий ревьюера <a class=\"tocSkip\"> </h2>\n",
    "\n",
    "<b>Все отлично!👍:</b> \n",
    "    \n",
    "    \n",
    "Отличная работа👍 Для максимального перфекционизма можно дополнить вывод визуализацией. Можно построить столбчатый или линейный график одного из указанных графиков будет достаточно."
   ]
  },
  {
   "cell_type": "markdown",
   "metadata": {},
   "source": [
    "Расчет стоимости одного километра (расстояния от центра) для Санкт-Петербург"
   ]
  },
  {
   "cell_type": "code",
   "execution_count": null,
   "metadata": {},
   "outputs": [],
   "source": [
    "#Питерские квартиры с нормальной стоимостью\n",
    "piter_with_normal_price = data.query('last_price < 45000000 and locality_name == \"Санкт-Петербург\"')\n",
    "\n",
    "#Максимальное расстояние до центра города для питерских объектов\n",
    "max_km = int(max(piter_with_normal_price['cityCenters_km']))\n",
    "\n",
    "#Расчет средней цены квадратного метра для г.Санкт-Петербурга на расстоянии R от центра с шагом 1 км\n",
    "price_for_km = [piter_with_normal_price.loc[(piter_with_normal_price['cityCenters_km'] < R + 1) & (piter_with_normal_price['cityCenters_km'] > R), 'last_price'].mean() for R in range(0, max_km - 1)]\n",
    "\n",
    "#Строим вспомогательный ДФ\n",
    "dframe = pd.DataFrame({'price_for_km': price_for_km, 'km': range(0, max_km - 1)}) \n",
    "\n",
    "#График зависимости\n",
    "ax = dframe.plot(x= 'km', y ='price_for_km', figsize = (20, 5), grid = True, style = 'o-', \\\n",
    "                 legend = False, title = \"Зависимость цены от удаленности от центра\", \\\n",
    "                 xlabel = \"Удаленность, км\", ylabel = \"Цена за метр\")\n"
   ]
  },
  {
   "cell_type": "code",
   "execution_count": null,
   "metadata": {},
   "outputs": [],
   "source": [
    "import matplotlib.pyplot as plt\n",
    "\n",
    "import numpy as np\n",
    "\n",
    " \n",
    "theta = np.linspace( 0 , 2 * np.pi , 50 )\n",
    " \n",
    "radius =5\n",
    " \n",
    "a = radius * np.cos( theta )\n",
    "b = radius * np.sin( theta )\n",
    " \n",
    "figure, axes = plt.subplots( 1 )\n",
    " \n",
    "axes.plot( a, b, color='green', marker='o', linestyle='dashed', linewidth=5, markersize=20)\n",
    "axes.set_aspect( 1 )\n",
    " \n",
    "plt.title( 'Parametric Equation Circle' )\n",
    "plt.show()"
   ]
  },
  {
   "cell_type": "markdown",
   "metadata": {},
   "source": [
    "Постоенные график отражает тенденцию к уменьшению цены объекта приувеличении расстоняия по центра. Вместе с тем на графике явно видна аномалия. На расстоянии более 25 км средняя цена одного километра резко возрастает. Видимо в выборке есть объекты,  у которых по какой-то причине очень большая цена."
   ]
  },
  {
   "cell_type": "markdown",
   "metadata": {},
   "source": [
    "<div style=\"border:solid Aqua 2px; padding: 40px\">\n",
    "<b>Выводы по заданию: \"Расчет средней цены одного квадратного метра в 10 населённых пунктах с наибольшим числом объявлений\"</b><br>\n",
    "Расчеты и графическая взуализация по ним иллюстрируют зависимость медианной стоимости одного квадратого метра от уделенности до центра города. Но разумная зависимость существует только до объектов, расположенных не далее, чем 25 -26 км.\n",
    " </div>   "
   ]
  },
  {
   "cell_type": "markdown",
   "metadata": {},
   "source": [
    "### Общий вывод"
   ]
  },
  {
   "cell_type": "markdown",
   "metadata": {},
   "source": [
    "<div style=\"border:solid Aqua 2px; padding: 40px\">\n",
    "<b>Общий вывод </b><br>\n",
    "На основании поставленной задачи было проведено исследование совокупности данных об объявлениях о продаже квартир в Санкт-Петербурге и соседних населённых пунктов за несколько лет. Целью иследования было установить параметры, на основании которых можно определять рыночную стоимость объектов, отслеживать аномалии в данных и выявлять мошенническую деятельность. В процессе исследования решены следующие задачи:\n",
    "    \n",
    "Из данных удалены: \n",
    "- строки с пропущенными значениями в столбцах для которых невожможно рассчитать значения для замещения, а сами значения являются критичными с точки зрения исследования (total_area, floors_total, living_area , locality_name,   days_exposition);\n",
    "- пропуски, для которых имелась возможность предъугадать (расчитать медианные значения) заменены расчетными значениями (в столбцах cityCenters_nearest, airports_nearest, ceiling_height, balcony, parks_around3000, ponds_around3000)\n",
    "- строки, для которых значение критично и непредсказуемо заменены флаговым значением \"unknown\".\n",
    "    \n",
    "  В даннах исправлены ошибки:\n",
    "- удалены строки с аномально большим количеством фотографий;\n",
    "- удалены строки со слишком маленькой и слишком большой высотой потолка;\n",
    "- исправлены неверные значения высоты потолков;\n",
    "- заменены местами перепутанные значения для площади кухни и жилой площади;\n",
    "- удалены строки со слишком большой и слишком маленькими площадями объектов;\n",
    "- названия населенных пуктов исправлены и приведены к единым наименованиям (удалены дубликаты).\n",
    "    \n",
    "  В данные добавлены рассчетные значения:\n",
    "- цена одного квадратного метра\n",
    "- день публикации объявления (0 - понедельник, 1 - вторник и т.д.)\n",
    "- месяц публикации объявления\n",
    "- год публикации объявления\n",
    "- тип этажа квартиры (значения — «первый», «последний», «другой»)\n",
    "- расстояние в км до центра города\n",
    "    \n",
    "Проведен исследовальский анализ данных, на основании статистических расчетов и графиков взуализации (гистограмм, линейных, круговых, графиков рассеяния) сделаны обобщенные выводы о параметрах среднестатичтического объекта недвижимости, продаваемого в рассматриваемых городах и об особенностях формирования стоимости квартиры. \n",
    "\n",
    "Среднестатисчтический объект недвижимости обладает следующими характеристиками:\n",
    "- общая площадь квартир находится в промежутке от 40 до 70м2\n",
    "- жилая площадь находится в промежутке диапазоне от 16 до 30 м2,\n",
    "- площадь кухонь находится в промежутке диапазоне от 7 до 12 м2,\n",
    "- количество комнат находится в промежутке от 1 до 4 комнат,\n",
    "- средняя стоимость продаваемых объектов находиться в диапазоне от 2 до 7.5 миллионов рублей,\n",
    "- удаленность до центра Санкт-Петербурга для соседних городов находиться в промежутке от 25 до 55 км, \n",
    "- удаленность до центра для объектов Санкт-Петербурга находится в промежутке от 0 до 22 км,\n",
    "- длительность размещения объявления не более 6 месяцев.\n",
    " \n",
    "Цена среднестатистического квадратного метра объекта недвижимости зависит от:\n",
    "- расстояния до центра города (это характерно для объектов Санкт-Петербурга, удаление которых от центра не превышает 26 км),\n",
    "- числа парков и прудов поблизости (чем больше парков и прудов, тем выше цена),\n",
    "- от типа объекта недвижимости (аппартамены имеют большую стоимость за квадратный метр)\n",
    "- от высоты потолка (квартиры с высокими потолками стоят чуть дороже).\n",
    "    \n",
    "Чтобы оценить рыночную стоимость среднестатистического объекта следует последовательно:\n",
    "1. Определить к какой категории относиться оцениваемый объект:\n",
    "    - в каком городе расположен,\n",
    "    - относиться ли он к аппаратментам или к жилому фонду,\n",
    "    - какова высота потолков (до 2.8 или более 2.8)\n",
    "2. Принять начальной стоимостью одного квадратного метра медианную стоимость одного метра для объектов, расположенных в том же городе, имеющих высоту потолков в подходящем диапазоне и относящихся к правильному типу недвижимости (коммержеский или жилой фонд)\n",
    "    \n",
    "3. Внести поправки в цену с учетом:\n",
    "    - числа парков и прудов поблизости\n",
    "    - элитности (качества жилья)\n",
    "\n",
    "4. Для объектов из Санкт-Петербурга снизить цену с учетом стоимость одного км и удаленности объекта от центра города.\n",
    "    \n",
    "   \n",
    "Для объектов, не попадающих в среднестатистическую выборку предложенный алгоритм определения цены будет малоэффективным. Для таких объектов оценивать стоимость следует индивидуально.\n",
    "\n",
    "Дополнительно представляется необходимым отметить, что для более детального и качественного исследования в выборке не хватает сведений о: \n",
    "- \"качестве\" или \"элитность\" жилья (цена на м может быть завышенной или заниженной, оценить какая она в дататесте мы не можем, как не знаем, какого качества и ценового сегмента продается объект),\n",
    "- том, почему сняли объявление (квартиру продали или просто убрали объявление).     \n",
    "</div>  "
   ]
  },
  {
   "cell_type": "markdown",
   "metadata": {},
   "source": [
    "<div class=\"alert alert-success\"> \n",
    "<h2> Комментарий ревьюера<a class=\"tocSkip\"> </h2>\n",
    "\n",
    "<b>Все отлично!👍:</b> \n",
    "    \n",
    "В аналитическом исследовании важно указывать понятный и развёрнутый вывод, ведь он раскрывает для заказчика всю твою проделанную работу и за что он платит деньги. Даже если ему не интересен весь процесс исследования, то в отчёт он заглянет обязательно. Ты молодец!"
   ]
  },
  {
   "cell_type": "markdown",
   "metadata": {},
   "source": [
    "<div style=\"border:solid Chocolate 2px; padding: 40px\">\n",
    "\n",
    "**Общий вывод по проекту**\n",
    "\n",
    "Оксана, спасибо за твой проект! Тобою выполнен большой объем работы , все пункты работы соблюдены; оформление, комментарии и выводы представлены, ты большая молодец! Существует несколько важных моментов, которые можно было бы улучшить, рекомендации будт ниже в комментариях.\n",
    "\n",
    "**Отмечу отдельно положительные моменты проекта🙂**:\n",
    "    \n",
    "* Работа выполнена логично, по ходу выполнения присутствуют промежуточные выводы, благодаря которым понятен ход решения каждого этапа. \n",
    "* На разных шагах проекта ты предлагала очень интересные решения и методы для их реализации. Хорошая работа!\n",
    "* Ты активно использовала визуализацию, хорошо, что ты не избегаешь этого инструмента анализа.\n",
    "\n",
    "\n",
    "**На что стоит обратить внимание🤓**:\n",
    "    \n",
    "* Важно доработать итоговый вывод на основании обновленного анализа.\n",
    "* Пересмотреть стратегию по обработке пропусков в колонках days_exposition, living_area и kitchen_area.  \n",
    "* При обработке пропусков и удалении аномалий оценить объем исключаемых значений.\n",
    "* Рассчитать коэффициенты корреляции для ***количественных*** параметров в анализе влияния различных факторов на стоимость недвижимости.\n",
    "* Исключить из расчета коэффициента корреляции категориальные параметры -тип этажа,день недели, год и месяц публикации объявления.   \n",
    "* Использовать диаграммы рассеяния для визуализации зависимости между двумя количественными показателями.   \n",
    "* Оформление графиков.  \n",
    "* Остальные рекомендации ты найдешь в моих комментариях!\n",
    "\n",
    "\n",
    "**Желаю удачи и жду твой проект на повторное ревью!**😉"
   ]
  },
  {
   "cell_type": "markdown",
   "metadata": {},
   "source": [
    "<div style=\"border:solid Chocolate 2px; padding: 40px\">\n",
    "\n",
    "**Общий вывод по проверке #2**\n",
    "\n",
    "Оксана, спасибо за проделанную работу. Ты плодотворно поработала над данным проектом, учла рекомендации и довела работу до конца👍👍👍\n",
    "Желаю удачи и успеха в освоение дальнейшей учебной программы!😉"
   ]
  },
  {
   "cell_type": "markdown",
   "metadata": {},
   "source": [
    "<div style=\"border:solid Aqua 2px; padding: 40px\">\n",
    "<b>Отзыв </b><br>\n",
    "Спасибо огромное за полезные советы и ответы на вопросы. Все получилось :) Теперь отрисовка графиков не кажется такой уж сложной проблемой !\n",
    "    </div>"
   ]
  },
  {
   "cell_type": "markdown",
   "metadata": {},
   "source": []
  },
  {
   "cell_type": "markdown",
   "metadata": {},
   "source": [
    "**Чек-лист готовности проекта**\n",
    "\n",
    "Поставьте 'x' в выполненных пунктах. Далее нажмите Shift+Enter."
   ]
  },
  {
   "cell_type": "markdown",
   "metadata": {},
   "source": [
    "- [x]  открыт файл\n",
    "- [x]  файлы изучены (выведены первые строки, метод `info()`, гистограммы и т.д.)\n",
    "- [x]  определены пропущенные значения\n",
    "- [x]  заполнены пропущенные значения там, где это возможно\n",
    "- [x]  есть пояснение, какие пропущенные значения обнаружены\n",
    "- [x]  изменены типы данных\n",
    "- [x]  есть пояснение, в каких столбцах изменены типы и почему\n",
    "- [x]  устранены неявные дубликаты в названиях населённых пунктов\n",
    "- [x]  устранены редкие и выбивающиеся значения (аномалии) во всех столбцах\n",
    "- [x]  посчитано и добавлено в таблицу: цена одного квадратного метра\n",
    "- [x]  посчитано и добавлено в таблицу: день публикации объявления (0 - понедельник, 1 - вторник и т.д.)\n",
    "- [x]  посчитано и добавлено в таблицу: месяц публикации объявления\n",
    "- [x]  посчитано и добавлено в таблицу: год публикации объявления\n",
    "- [x]  посчитано и добавлено в таблицу: тип этажа квартиры (значения — «первый», «последний», «другой»)\n",
    "- [x]  посчитано и добавлено в таблицу: расстояние в км до центра города\n",
    "- [x]  изучены и описаны следующие параметры:\n",
    "        - общая площадь;\n",
    "        - жилая площадь;\n",
    "        - площадь кухни;\n",
    "        - цена объекта;\n",
    "        - количество комнат;\n",
    "        - высота потолков;\n",
    "        - этаж квартиры;\n",
    "        - тип этажа квартиры («первый», «последний», «другой»);\n",
    "        - общее количество этажей в доме;\n",
    "        - расстояние до центра города в метрах;\n",
    "        - расстояние до ближайшего аэропорта;\n",
    "        - расстояние до ближайшего парка;\n",
    "        - день и месяц публикации объявления\n",
    "- [x]  построены гистограммы для каждого параметра\n",
    "- [x]  выполнено задание: \"Изучите, как быстро продавались квартиры (столбец days_exposition). Этот параметр показывает, сколько дней «висело» каждое объявление.\n",
    "    - Постройте гистограмму.\n",
    "    - Посчитайте среднее и медиану.\n",
    "    - В ячейке типа markdown опишите, сколько обычно занимает продажа. Какие продажи можно считать быстрыми, а какие — необычно долгими?\"\n",
    "- [x]  выполнено задание: \"Какие факторы больше всего влияют на общую (полную) стоимость объекта? Постройте графики, которые покажут зависимость цены от указанных ниже параметров. Для подготовки данных перед визуализацией вы можете использовать сводные таблицы.\"\n",
    "        - общей площади;\n",
    "        - жилой площади;\n",
    "        - площади кухни;\n",
    "        - количество комнат;\n",
    "        - типа этажа, на котором расположена квартира (первый, последний, другой);\n",
    "        - даты размещения (день недели, месяц, год);\n",
    "- [x]  выполнено задание: \"Посчитайте среднюю цену одного квадратного метра в 10 населённых пунктах с наибольшим числом объявлений. Выделите населённые пункты с самой высокой и низкой стоимостью квадратного метра. Эти данные можно найти по имени в столбце `locality_name`.\"\n",
    "- [x]  выполнено задание: \"Ранее вы посчитали расстояние до центра в километрах. Теперь выделите квартиры в Санкт-Петербурге с помощью столбца `locality_name` и вычислите среднюю цену каждого километра. Опишите, как стоимость объектов зависит от расстояния до центра города.\"\n",
    "- [x]  в каждом этапе есть промежуточные выводы\n",
    "- [x]  есть общий вывод"
   ]
  }
 ],
 "metadata": {
  "ExecuteTimeLog": [
   {
    "duration": 512,
    "start_time": "2022-09-20T18:31:09.139Z"
   },
   {
    "duration": 316,
    "start_time": "2022-09-20T18:31:23.735Z"
   },
   {
    "duration": 111,
    "start_time": "2022-09-20T18:31:45.920Z"
   },
   {
    "duration": 2964,
    "start_time": "2022-09-20T18:34:12.721Z"
   },
   {
    "duration": 126,
    "start_time": "2022-09-20T18:35:55.072Z"
   },
   {
    "duration": 125,
    "start_time": "2022-09-20T18:42:38.238Z"
   },
   {
    "duration": 15,
    "start_time": "2022-09-20T18:43:29.333Z"
   },
   {
    "duration": 9,
    "start_time": "2022-09-20T18:44:55.407Z"
   },
   {
    "duration": 6,
    "start_time": "2022-09-20T19:00:22.571Z"
   },
   {
    "duration": 35,
    "start_time": "2022-09-20T19:02:54.236Z"
   },
   {
    "duration": 40,
    "start_time": "2022-09-20T19:06:53.241Z"
   },
   {
    "duration": 23,
    "start_time": "2022-09-20T19:15:10.152Z"
   },
   {
    "duration": 9,
    "start_time": "2022-09-20T19:15:37.623Z"
   },
   {
    "duration": 4,
    "start_time": "2022-09-20T19:16:37.671Z"
   },
   {
    "duration": 6,
    "start_time": "2022-09-20T19:18:54.235Z"
   },
   {
    "duration": 4,
    "start_time": "2022-09-20T19:19:04.087Z"
   },
   {
    "duration": 28,
    "start_time": "2022-09-20T19:19:47.266Z"
   },
   {
    "duration": 19,
    "start_time": "2022-09-20T19:21:15.670Z"
   },
   {
    "duration": 6,
    "start_time": "2022-09-21T02:22:31.160Z"
   },
   {
    "duration": 5,
    "start_time": "2022-09-21T02:22:58.269Z"
   },
   {
    "duration": 6,
    "start_time": "2022-09-21T02:27:46.624Z"
   },
   {
    "duration": 8,
    "start_time": "2022-09-21T02:28:07.216Z"
   },
   {
    "duration": 31,
    "start_time": "2022-09-21T02:28:23.031Z"
   },
   {
    "duration": 33,
    "start_time": "2022-09-21T03:21:16.192Z"
   },
   {
    "duration": 68,
    "start_time": "2022-09-21T03:27:47.932Z"
   },
   {
    "duration": 54,
    "start_time": "2022-09-21T03:34:32.488Z"
   },
   {
    "duration": 18,
    "start_time": "2022-09-21T03:35:11.997Z"
   },
   {
    "duration": 8,
    "start_time": "2022-09-21T03:35:34.995Z"
   },
   {
    "duration": 7,
    "start_time": "2022-09-21T03:35:52.716Z"
   },
   {
    "duration": 6,
    "start_time": "2022-09-21T03:37:33.224Z"
   },
   {
    "duration": 15,
    "start_time": "2022-09-21T03:55:11.066Z"
   },
   {
    "duration": 16,
    "start_time": "2022-09-21T03:55:36.247Z"
   },
   {
    "duration": 13,
    "start_time": "2022-09-21T03:55:52.418Z"
   },
   {
    "duration": 118,
    "start_time": "2022-09-21T03:56:13.699Z"
   },
   {
    "duration": 14,
    "start_time": "2022-09-21T03:56:21.304Z"
   },
   {
    "duration": 22,
    "start_time": "2022-09-21T03:56:25.022Z"
   },
   {
    "duration": 5,
    "start_time": "2022-09-21T03:56:30.679Z"
   },
   {
    "duration": 13,
    "start_time": "2022-09-21T03:56:33.219Z"
   },
   {
    "duration": 134,
    "start_time": "2022-09-21T03:57:09.432Z"
   },
   {
    "duration": 22,
    "start_time": "2022-09-21T03:57:09.571Z"
   },
   {
    "duration": 12,
    "start_time": "2022-09-21T03:57:09.595Z"
   },
   {
    "duration": 5,
    "start_time": "2022-09-21T03:57:09.609Z"
   },
   {
    "duration": 14,
    "start_time": "2022-09-21T03:57:09.615Z"
   },
   {
    "duration": 122,
    "start_time": "2022-09-21T03:57:11.626Z"
   },
   {
    "duration": 19,
    "start_time": "2022-09-21T03:57:11.751Z"
   },
   {
    "duration": 43,
    "start_time": "2022-09-21T03:57:11.772Z"
   },
   {
    "duration": 7,
    "start_time": "2022-09-21T03:57:11.817Z"
   },
   {
    "duration": 14,
    "start_time": "2022-09-21T03:57:11.826Z"
   },
   {
    "duration": 11,
    "start_time": "2022-09-21T03:57:27.798Z"
   },
   {
    "duration": 29,
    "start_time": "2022-09-21T04:02:42.450Z"
   },
   {
    "duration": 26,
    "start_time": "2022-09-21T04:03:41.840Z"
   },
   {
    "duration": 13,
    "start_time": "2022-09-21T04:04:50.134Z"
   },
   {
    "duration": 14,
    "start_time": "2022-09-21T04:26:06.035Z"
   },
   {
    "duration": 88,
    "start_time": "2022-09-21T04:27:02.420Z"
   },
   {
    "duration": 1117,
    "start_time": "2022-09-21T04:27:23.581Z"
   },
   {
    "duration": 8,
    "start_time": "2022-09-21T04:27:49.782Z"
   },
   {
    "duration": 8,
    "start_time": "2022-09-21T04:29:20.580Z"
   },
   {
    "duration": 9,
    "start_time": "2022-09-21T04:55:44.001Z"
   },
   {
    "duration": 6,
    "start_time": "2022-09-21T04:57:15.124Z"
   },
   {
    "duration": 11,
    "start_time": "2022-09-21T04:57:28.712Z"
   },
   {
    "duration": 14,
    "start_time": "2022-09-21T05:12:03.628Z"
   },
   {
    "duration": 5,
    "start_time": "2022-09-21T05:12:13.820Z"
   },
   {
    "duration": 13,
    "start_time": "2022-09-21T05:12:16.921Z"
   },
   {
    "duration": 16,
    "start_time": "2022-09-21T05:27:12.573Z"
   },
   {
    "duration": 12,
    "start_time": "2022-09-21T05:27:59.491Z"
   },
   {
    "duration": 19,
    "start_time": "2022-09-21T05:29:48.182Z"
   },
   {
    "duration": 14,
    "start_time": "2022-09-21T05:30:10.678Z"
   },
   {
    "duration": 12,
    "start_time": "2022-09-21T05:31:23.285Z"
   },
   {
    "duration": 6,
    "start_time": "2022-09-21T05:42:06.482Z"
   },
   {
    "duration": 109,
    "start_time": "2022-09-21T05:43:54.403Z"
   },
   {
    "duration": 13,
    "start_time": "2022-09-21T05:44:00.762Z"
   },
   {
    "duration": 125,
    "start_time": "2022-09-21T05:45:29.969Z"
   },
   {
    "duration": 9,
    "start_time": "2022-09-21T05:45:53.401Z"
   },
   {
    "duration": 14,
    "start_time": "2022-09-21T05:53:27.620Z"
   },
   {
    "duration": 14,
    "start_time": "2022-09-21T05:54:02.913Z"
   },
   {
    "duration": 15,
    "start_time": "2022-09-21T05:54:56.978Z"
   },
   {
    "duration": 18,
    "start_time": "2022-09-21T06:08:38.888Z"
   },
   {
    "duration": 19,
    "start_time": "2022-09-21T06:09:40.232Z"
   },
   {
    "duration": 17,
    "start_time": "2022-09-21T06:10:05.817Z"
   },
   {
    "duration": 18,
    "start_time": "2022-09-21T06:12:21.016Z"
   },
   {
    "duration": 20,
    "start_time": "2022-09-21T06:12:54.983Z"
   },
   {
    "duration": 45,
    "start_time": "2022-09-21T06:13:35.944Z"
   },
   {
    "duration": 31,
    "start_time": "2022-09-21T06:17:40.817Z"
   },
   {
    "duration": 40,
    "start_time": "2022-09-21T06:17:47.992Z"
   },
   {
    "duration": 1407,
    "start_time": "2022-09-21T06:23:30.506Z"
   },
   {
    "duration": 59,
    "start_time": "2022-09-21T06:23:57.387Z"
   },
   {
    "duration": 5,
    "start_time": "2022-09-21T06:24:10.786Z"
   },
   {
    "duration": 27,
    "start_time": "2022-09-21T06:27:25.399Z"
   },
   {
    "duration": 17,
    "start_time": "2022-09-21T06:28:37.732Z"
   },
   {
    "duration": 17,
    "start_time": "2022-09-21T06:28:57.111Z"
   },
   {
    "duration": 19,
    "start_time": "2022-09-21T06:29:17.933Z"
   },
   {
    "duration": 89,
    "start_time": "2022-09-21T06:38:43.596Z"
   },
   {
    "duration": 148,
    "start_time": "2022-09-21T06:41:06.459Z"
   },
   {
    "duration": 24,
    "start_time": "2022-09-21T06:41:15.612Z"
   },
   {
    "duration": 33,
    "start_time": "2022-09-21T06:42:17.850Z"
   },
   {
    "duration": 27,
    "start_time": "2022-09-21T06:43:24.032Z"
   },
   {
    "duration": 38,
    "start_time": "2022-09-21T06:43:42.250Z"
   },
   {
    "duration": 20,
    "start_time": "2022-09-21T06:48:01.388Z"
   },
   {
    "duration": 1051,
    "start_time": "2022-09-21T06:53:42.043Z"
   },
   {
    "duration": 949,
    "start_time": "2022-09-21T06:54:37.046Z"
   },
   {
    "duration": 36,
    "start_time": "2022-09-21T06:55:21.147Z"
   },
   {
    "duration": 27,
    "start_time": "2022-09-21T06:56:01.293Z"
   },
   {
    "duration": 35,
    "start_time": "2022-09-21T06:57:17.153Z"
   },
   {
    "duration": 23,
    "start_time": "2022-09-21T06:57:32.729Z"
   },
   {
    "duration": 26,
    "start_time": "2022-09-21T06:57:43.777Z"
   },
   {
    "duration": 31,
    "start_time": "2022-09-21T06:58:59.391Z"
   },
   {
    "duration": 40,
    "start_time": "2022-09-21T07:02:22.533Z"
   },
   {
    "duration": 92,
    "start_time": "2022-09-21T07:04:56.029Z"
   },
   {
    "duration": 64,
    "start_time": "2022-09-21T07:14:26.429Z"
   },
   {
    "duration": 64,
    "start_time": "2022-09-21T07:15:12.689Z"
   },
   {
    "duration": 29,
    "start_time": "2022-09-21T07:15:30.442Z"
   },
   {
    "duration": 18,
    "start_time": "2022-09-21T07:16:06.135Z"
   },
   {
    "duration": 27,
    "start_time": "2022-09-21T07:17:36.760Z"
   },
   {
    "duration": 28,
    "start_time": "2022-09-21T07:18:01.971Z"
   },
   {
    "duration": 14,
    "start_time": "2022-09-21T08:09:47.816Z"
   },
   {
    "duration": 16,
    "start_time": "2022-09-21T08:13:12.964Z"
   },
   {
    "duration": 163,
    "start_time": "2022-09-21T08:14:19.659Z"
   },
   {
    "duration": 19,
    "start_time": "2022-09-21T08:14:19.824Z"
   },
   {
    "duration": 15,
    "start_time": "2022-09-21T08:14:19.853Z"
   },
   {
    "duration": 33,
    "start_time": "2022-09-21T08:14:19.872Z"
   },
   {
    "duration": 17,
    "start_time": "2022-09-21T08:14:19.908Z"
   },
   {
    "duration": 11,
    "start_time": "2022-09-21T08:14:19.927Z"
   },
   {
    "duration": 18,
    "start_time": "2022-09-21T08:14:19.940Z"
   },
   {
    "duration": 32,
    "start_time": "2022-09-21T08:14:19.960Z"
   },
   {
    "duration": 10,
    "start_time": "2022-09-21T08:14:19.994Z"
   },
   {
    "duration": 9,
    "start_time": "2022-09-21T08:14:20.007Z"
   },
   {
    "duration": 21,
    "start_time": "2022-09-21T08:14:20.023Z"
   },
   {
    "duration": 26,
    "start_time": "2022-09-21T08:14:20.054Z"
   },
   {
    "duration": 28,
    "start_time": "2022-09-21T08:14:20.082Z"
   },
   {
    "duration": 16,
    "start_time": "2022-09-21T08:15:03.100Z"
   },
   {
    "duration": 21,
    "start_time": "2022-09-21T08:15:37.376Z"
   },
   {
    "duration": 112,
    "start_time": "2022-09-21T08:26:18.831Z"
   },
   {
    "duration": 21,
    "start_time": "2022-09-21T08:26:18.945Z"
   },
   {
    "duration": 8,
    "start_time": "2022-09-21T08:26:18.968Z"
   },
   {
    "duration": 9,
    "start_time": "2022-09-21T08:26:18.978Z"
   },
   {
    "duration": 11,
    "start_time": "2022-09-21T08:26:18.989Z"
   },
   {
    "duration": 30,
    "start_time": "2022-09-21T08:26:19.002Z"
   },
   {
    "duration": 28,
    "start_time": "2022-09-21T08:26:19.034Z"
   },
   {
    "duration": 27,
    "start_time": "2022-09-21T08:26:19.065Z"
   },
   {
    "duration": 25,
    "start_time": "2022-09-21T08:26:19.095Z"
   },
   {
    "duration": 28,
    "start_time": "2022-09-21T08:26:19.123Z"
   },
   {
    "duration": 16,
    "start_time": "2022-09-21T08:26:19.153Z"
   },
   {
    "duration": 32,
    "start_time": "2022-09-21T08:26:19.171Z"
   },
   {
    "duration": 22,
    "start_time": "2022-09-21T08:26:19.205Z"
   },
   {
    "duration": 51,
    "start_time": "2022-09-21T08:26:19.229Z"
   },
   {
    "duration": 10,
    "start_time": "2022-09-21T08:28:45.257Z"
   },
   {
    "duration": 9,
    "start_time": "2022-09-21T08:30:01.961Z"
   },
   {
    "duration": 33,
    "start_time": "2022-09-21T08:54:44.341Z"
   },
   {
    "duration": 26,
    "start_time": "2022-09-21T08:55:26.877Z"
   },
   {
    "duration": 26,
    "start_time": "2022-09-21T08:55:30.282Z"
   },
   {
    "duration": 8,
    "start_time": "2022-09-21T08:56:35.113Z"
   },
   {
    "duration": 17,
    "start_time": "2022-09-21T08:56:58.964Z"
   },
   {
    "duration": 124,
    "start_time": "2022-09-21T08:57:41.835Z"
   },
   {
    "duration": 19,
    "start_time": "2022-09-21T08:57:45.456Z"
   },
   {
    "duration": 4,
    "start_time": "2022-09-21T08:58:28.208Z"
   },
   {
    "duration": 11,
    "start_time": "2022-09-21T08:58:45.036Z"
   },
   {
    "duration": 14,
    "start_time": "2022-09-21T08:59:09.685Z"
   },
   {
    "duration": 8,
    "start_time": "2022-09-21T08:59:36.015Z"
   },
   {
    "duration": 23,
    "start_time": "2022-09-21T09:00:03.656Z"
   },
   {
    "duration": 17,
    "start_time": "2022-09-21T09:00:14.095Z"
   },
   {
    "duration": 125,
    "start_time": "2022-09-21T09:00:45.472Z"
   },
   {
    "duration": 19,
    "start_time": "2022-09-21T09:00:51.530Z"
   },
   {
    "duration": 13,
    "start_time": "2022-09-21T09:00:54.529Z"
   },
   {
    "duration": 124,
    "start_time": "2022-09-21T09:01:14.444Z"
   },
   {
    "duration": 18,
    "start_time": "2022-09-21T09:01:21.445Z"
   },
   {
    "duration": 11,
    "start_time": "2022-09-21T09:01:25.914Z"
   },
   {
    "duration": 10,
    "start_time": "2022-09-21T09:01:32.889Z"
   },
   {
    "duration": 13,
    "start_time": "2022-09-21T09:01:54.151Z"
   },
   {
    "duration": 14,
    "start_time": "2022-09-21T09:10:58.942Z"
   },
   {
    "duration": 13,
    "start_time": "2022-09-21T09:11:04.330Z"
   },
   {
    "duration": 10,
    "start_time": "2022-09-21T09:11:28.005Z"
   },
   {
    "duration": 27,
    "start_time": "2022-09-21T09:13:31.103Z"
   },
   {
    "duration": 19,
    "start_time": "2022-09-21T09:24:13.168Z"
   },
   {
    "duration": 21,
    "start_time": "2022-09-21T09:28:11.973Z"
   },
   {
    "duration": 149,
    "start_time": "2022-09-21T09:28:31.595Z"
   },
   {
    "duration": 16,
    "start_time": "2022-09-21T09:28:35.379Z"
   },
   {
    "duration": 9,
    "start_time": "2022-09-21T09:28:39.304Z"
   },
   {
    "duration": 10,
    "start_time": "2022-09-21T09:28:45.282Z"
   },
   {
    "duration": 9,
    "start_time": "2022-09-21T09:28:48.101Z"
   },
   {
    "duration": 10,
    "start_time": "2022-09-21T09:28:53.207Z"
   },
   {
    "duration": 21,
    "start_time": "2022-09-21T09:28:57.055Z"
   },
   {
    "duration": 13,
    "start_time": "2022-09-21T09:29:00.275Z"
   },
   {
    "duration": 11,
    "start_time": "2022-09-21T09:29:03.838Z"
   },
   {
    "duration": 18,
    "start_time": "2022-09-21T09:29:08.586Z"
   },
   {
    "duration": 18,
    "start_time": "2022-09-21T09:29:12.877Z"
   },
   {
    "duration": 19,
    "start_time": "2022-09-21T09:29:17.481Z"
   },
   {
    "duration": 109,
    "start_time": "2022-09-21T09:30:03.172Z"
   },
   {
    "duration": 14,
    "start_time": "2022-09-21T09:30:03.283Z"
   },
   {
    "duration": 20,
    "start_time": "2022-09-21T09:30:03.299Z"
   },
   {
    "duration": 21,
    "start_time": "2022-09-21T09:30:03.321Z"
   },
   {
    "duration": 11,
    "start_time": "2022-09-21T09:30:03.360Z"
   },
   {
    "duration": 22,
    "start_time": "2022-09-21T09:30:03.372Z"
   },
   {
    "duration": 22,
    "start_time": "2022-09-21T09:30:03.396Z"
   },
   {
    "duration": 18,
    "start_time": "2022-09-21T09:30:03.421Z"
   },
   {
    "duration": 15,
    "start_time": "2022-09-21T09:30:03.442Z"
   },
   {
    "duration": 24,
    "start_time": "2022-09-21T09:30:03.459Z"
   },
   {
    "duration": 24,
    "start_time": "2022-09-21T09:30:03.484Z"
   },
   {
    "duration": 21,
    "start_time": "2022-09-21T09:30:03.510Z"
   },
   {
    "duration": 13,
    "start_time": "2022-09-21T09:30:03.533Z"
   },
   {
    "duration": 36,
    "start_time": "2022-09-21T09:30:03.548Z"
   },
   {
    "duration": 554,
    "start_time": "2022-09-21T09:30:52.673Z"
   },
   {
    "duration": 16,
    "start_time": "2022-09-21T09:30:53.229Z"
   },
   {
    "duration": 19,
    "start_time": "2022-09-21T09:30:53.247Z"
   },
   {
    "duration": 14,
    "start_time": "2022-09-21T09:30:53.273Z"
   },
   {
    "duration": 11,
    "start_time": "2022-09-21T09:30:53.289Z"
   },
   {
    "duration": 10,
    "start_time": "2022-09-21T09:30:53.302Z"
   },
   {
    "duration": 9,
    "start_time": "2022-09-21T09:30:53.313Z"
   },
   {
    "duration": 47,
    "start_time": "2022-09-21T09:30:53.324Z"
   },
   {
    "duration": 15,
    "start_time": "2022-09-21T09:30:53.373Z"
   },
   {
    "duration": 8,
    "start_time": "2022-09-21T09:30:53.392Z"
   },
   {
    "duration": 22,
    "start_time": "2022-09-21T09:30:53.401Z"
   },
   {
    "duration": 50,
    "start_time": "2022-09-21T09:30:53.425Z"
   },
   {
    "duration": 11,
    "start_time": "2022-09-21T09:30:53.477Z"
   },
   {
    "duration": 15,
    "start_time": "2022-09-21T09:30:53.490Z"
   },
   {
    "duration": 23,
    "start_time": "2022-09-21T09:32:07.686Z"
   },
   {
    "duration": 108,
    "start_time": "2022-09-21T09:32:33.111Z"
   },
   {
    "duration": 20,
    "start_time": "2022-09-21T09:32:38.803Z"
   },
   {
    "duration": 10,
    "start_time": "2022-09-21T09:32:41.821Z"
   },
   {
    "duration": 11,
    "start_time": "2022-09-21T09:32:46.081Z"
   },
   {
    "duration": 10,
    "start_time": "2022-09-21T09:32:49.806Z"
   },
   {
    "duration": 8,
    "start_time": "2022-09-21T09:32:52.588Z"
   },
   {
    "duration": 13,
    "start_time": "2022-09-21T09:32:55.972Z"
   },
   {
    "duration": 18,
    "start_time": "2022-09-21T09:32:57.808Z"
   },
   {
    "duration": 18,
    "start_time": "2022-09-21T09:33:01.408Z"
   },
   {
    "duration": 25,
    "start_time": "2022-09-21T09:33:07.350Z"
   },
   {
    "duration": 103,
    "start_time": "2022-09-21T09:35:16.938Z"
   },
   {
    "duration": 9,
    "start_time": "2022-09-21T09:35:21.743Z"
   },
   {
    "duration": 15,
    "start_time": "2022-09-21T09:35:30.969Z"
   },
   {
    "duration": 10,
    "start_time": "2022-09-21T09:35:35.470Z"
   },
   {
    "duration": 10,
    "start_time": "2022-09-21T09:35:39.869Z"
   },
   {
    "duration": 11,
    "start_time": "2022-09-21T09:35:44.504Z"
   },
   {
    "duration": 9,
    "start_time": "2022-09-21T09:35:50.105Z"
   },
   {
    "duration": 5,
    "start_time": "2022-09-21T09:37:36.516Z"
   },
   {
    "duration": 10,
    "start_time": "2022-09-21T09:37:44.404Z"
   },
   {
    "duration": 15,
    "start_time": "2022-09-21T09:37:51.628Z"
   },
   {
    "duration": 20,
    "start_time": "2022-09-21T09:38:24.575Z"
   },
   {
    "duration": 18,
    "start_time": "2022-09-21T09:38:30.107Z"
   },
   {
    "duration": 19,
    "start_time": "2022-09-21T09:40:18.903Z"
   },
   {
    "duration": 5,
    "start_time": "2022-09-21T09:50:42.904Z"
   },
   {
    "duration": 10,
    "start_time": "2022-09-21T09:50:48.410Z"
   },
   {
    "duration": 5,
    "start_time": "2022-09-21T09:51:06.524Z"
   },
   {
    "duration": 8,
    "start_time": "2022-09-21T09:51:10.272Z"
   },
   {
    "duration": 133,
    "start_time": "2022-09-21T09:54:32.569Z"
   },
   {
    "duration": 8,
    "start_time": "2022-09-21T10:00:53.201Z"
   },
   {
    "duration": 16,
    "start_time": "2022-09-21T10:01:24.406Z"
   },
   {
    "duration": 385,
    "start_time": "2022-09-21T10:05:47.932Z"
   },
   {
    "duration": 8,
    "start_time": "2022-09-21T10:06:00.378Z"
   },
   {
    "duration": 6,
    "start_time": "2022-09-21T10:06:06.518Z"
   },
   {
    "duration": 11,
    "start_time": "2022-09-21T10:06:09.985Z"
   },
   {
    "duration": 13,
    "start_time": "2022-09-21T10:06:16.836Z"
   },
   {
    "duration": 111,
    "start_time": "2022-09-21T10:06:36.389Z"
   },
   {
    "duration": 28,
    "start_time": "2022-09-21T10:06:41.437Z"
   },
   {
    "duration": 10,
    "start_time": "2022-09-21T10:06:44.165Z"
   },
   {
    "duration": 16,
    "start_time": "2022-09-21T10:06:47.423Z"
   },
   {
    "duration": 6,
    "start_time": "2022-09-21T10:06:50.888Z"
   },
   {
    "duration": 10,
    "start_time": "2022-09-21T10:06:53.112Z"
   },
   {
    "duration": 9,
    "start_time": "2022-09-21T10:06:57.270Z"
   },
   {
    "duration": 11,
    "start_time": "2022-09-21T10:07:01.269Z"
   },
   {
    "duration": 13,
    "start_time": "2022-09-21T10:07:03.931Z"
   },
   {
    "duration": 8,
    "start_time": "2022-09-21T10:07:47.915Z"
   },
   {
    "duration": 6,
    "start_time": "2022-09-21T10:07:51.275Z"
   },
   {
    "duration": 14,
    "start_time": "2022-09-21T10:07:54.273Z"
   },
   {
    "duration": 13,
    "start_time": "2022-09-21T10:07:57.316Z"
   },
   {
    "duration": 21,
    "start_time": "2022-09-21T10:08:46.914Z"
   },
   {
    "duration": 23,
    "start_time": "2022-09-21T10:08:49.571Z"
   },
   {
    "duration": 19,
    "start_time": "2022-09-21T10:08:53.413Z"
   },
   {
    "duration": 29,
    "start_time": "2022-09-21T10:12:13.477Z"
   },
   {
    "duration": 1603,
    "start_time": "2022-09-21T10:12:36.614Z"
   },
   {
    "duration": 7,
    "start_time": "2022-09-21T10:12:55.548Z"
   },
   {
    "duration": 9,
    "start_time": "2022-09-21T10:20:29.545Z"
   },
   {
    "duration": 7,
    "start_time": "2022-09-21T10:22:07.734Z"
   },
   {
    "duration": 24,
    "start_time": "2022-09-21T12:35:36.117Z"
   },
   {
    "duration": 32,
    "start_time": "2022-09-21T12:35:54.721Z"
   },
   {
    "duration": 13,
    "start_time": "2022-09-21T12:37:54.248Z"
   },
   {
    "duration": 12,
    "start_time": "2022-09-21T12:38:27.566Z"
   },
   {
    "duration": 10,
    "start_time": "2022-09-21T12:50:11.688Z"
   },
   {
    "duration": 6,
    "start_time": "2022-09-21T12:51:14.699Z"
   },
   {
    "duration": 46,
    "start_time": "2022-09-21T12:54:35.347Z"
   },
   {
    "duration": 7,
    "start_time": "2022-09-21T12:54:44.241Z"
   },
   {
    "duration": 8,
    "start_time": "2022-09-21T12:55:20.410Z"
   },
   {
    "duration": 7,
    "start_time": "2022-09-21T12:58:20.043Z"
   },
   {
    "duration": 7,
    "start_time": "2022-09-21T12:58:45.070Z"
   },
   {
    "duration": 16,
    "start_time": "2022-09-21T13:01:20.978Z"
   },
   {
    "duration": 15,
    "start_time": "2022-09-21T13:03:42.655Z"
   },
   {
    "duration": 6,
    "start_time": "2022-09-21T13:04:07.781Z"
   },
   {
    "duration": 7,
    "start_time": "2022-09-21T13:04:12.777Z"
   },
   {
    "duration": 7,
    "start_time": "2022-09-21T13:05:05.162Z"
   },
   {
    "duration": 7,
    "start_time": "2022-09-21T13:06:18.724Z"
   },
   {
    "duration": 7,
    "start_time": "2022-09-21T13:09:23.042Z"
   },
   {
    "duration": 117,
    "start_time": "2022-09-21T13:10:22.192Z"
   },
   {
    "duration": 12,
    "start_time": "2022-09-21T13:10:32.506Z"
   },
   {
    "duration": 11,
    "start_time": "2022-09-21T13:11:15.471Z"
   },
   {
    "duration": 12,
    "start_time": "2022-09-21T13:13:49.067Z"
   },
   {
    "duration": 7,
    "start_time": "2022-09-21T13:14:17.839Z"
   },
   {
    "duration": 11,
    "start_time": "2022-09-21T13:14:23.690Z"
   },
   {
    "duration": 11,
    "start_time": "2022-09-21T13:15:10.771Z"
   },
   {
    "duration": 62,
    "start_time": "2022-09-21T13:15:48.442Z"
   },
   {
    "duration": 9,
    "start_time": "2022-09-21T13:15:51.093Z"
   },
   {
    "duration": 573,
    "start_time": "2022-09-21T13:15:59.247Z"
   },
   {
    "duration": 15,
    "start_time": "2022-09-21T13:15:59.822Z"
   },
   {
    "duration": 19,
    "start_time": "2022-09-21T13:15:59.839Z"
   },
   {
    "duration": 19,
    "start_time": "2022-09-21T13:15:59.864Z"
   },
   {
    "duration": 14,
    "start_time": "2022-09-21T13:15:59.885Z"
   },
   {
    "duration": 23,
    "start_time": "2022-09-21T13:15:59.901Z"
   },
   {
    "duration": 19,
    "start_time": "2022-09-21T13:15:59.926Z"
   },
   {
    "duration": 31,
    "start_time": "2022-09-21T13:15:59.946Z"
   },
   {
    "duration": 28,
    "start_time": "2022-09-21T13:15:59.979Z"
   },
   {
    "duration": 19,
    "start_time": "2022-09-21T13:16:00.010Z"
   },
   {
    "duration": 29,
    "start_time": "2022-09-21T13:16:00.031Z"
   },
   {
    "duration": 32,
    "start_time": "2022-09-21T13:16:00.064Z"
   },
   {
    "duration": 27,
    "start_time": "2022-09-21T13:16:00.098Z"
   },
   {
    "duration": 36,
    "start_time": "2022-09-21T13:16:00.127Z"
   },
   {
    "duration": 33,
    "start_time": "2022-09-21T13:16:00.165Z"
   },
   {
    "duration": 21,
    "start_time": "2022-09-21T13:16:00.200Z"
   },
   {
    "duration": 11,
    "start_time": "2022-09-21T13:16:00.223Z"
   },
   {
    "duration": 44,
    "start_time": "2022-09-21T13:16:00.236Z"
   },
   {
    "duration": 7,
    "start_time": "2022-09-21T13:16:08.741Z"
   },
   {
    "duration": 8,
    "start_time": "2022-09-21T13:16:22.871Z"
   },
   {
    "duration": 13,
    "start_time": "2022-09-21T13:18:35.148Z"
   },
   {
    "duration": 368,
    "start_time": "2022-09-21T14:29:33.364Z"
   },
   {
    "duration": 34,
    "start_time": "2022-09-21T14:30:26.108Z"
   },
   {
    "duration": 364,
    "start_time": "2022-09-21T14:31:43.083Z"
   },
   {
    "duration": 527,
    "start_time": "2022-09-21T14:33:02.338Z"
   },
   {
    "duration": 16,
    "start_time": "2022-09-21T14:33:02.867Z"
   },
   {
    "duration": 8,
    "start_time": "2022-09-21T14:33:02.884Z"
   },
   {
    "duration": 14,
    "start_time": "2022-09-21T14:33:02.894Z"
   },
   {
    "duration": 5,
    "start_time": "2022-09-21T14:33:02.910Z"
   },
   {
    "duration": 38,
    "start_time": "2022-09-21T14:33:02.916Z"
   },
   {
    "duration": 8,
    "start_time": "2022-09-21T14:33:02.956Z"
   },
   {
    "duration": 17,
    "start_time": "2022-09-21T14:33:02.966Z"
   },
   {
    "duration": 17,
    "start_time": "2022-09-21T14:33:02.985Z"
   },
   {
    "duration": 13,
    "start_time": "2022-09-21T14:33:03.005Z"
   },
   {
    "duration": 9,
    "start_time": "2022-09-21T14:33:03.019Z"
   },
   {
    "duration": 24,
    "start_time": "2022-09-21T14:33:03.030Z"
   },
   {
    "duration": 13,
    "start_time": "2022-09-21T14:33:03.056Z"
   },
   {
    "duration": 18,
    "start_time": "2022-09-21T14:33:03.071Z"
   },
   {
    "duration": 14,
    "start_time": "2022-09-21T14:33:03.091Z"
   },
   {
    "duration": 52,
    "start_time": "2022-09-21T14:33:03.106Z"
   },
   {
    "duration": 375,
    "start_time": "2022-09-21T14:33:03.160Z"
   },
   {
    "duration": 20,
    "start_time": "2022-09-21T14:33:03.537Z"
   },
   {
    "duration": 79,
    "start_time": "2022-09-21T16:57:42.768Z"
   },
   {
    "duration": 50,
    "start_time": "2022-09-21T16:57:50.547Z"
   },
   {
    "duration": 799,
    "start_time": "2022-09-21T16:57:59.356Z"
   },
   {
    "duration": 25,
    "start_time": "2022-09-21T16:58:00.157Z"
   },
   {
    "duration": 9,
    "start_time": "2022-09-21T16:58:00.184Z"
   },
   {
    "duration": 34,
    "start_time": "2022-09-21T16:58:00.195Z"
   },
   {
    "duration": 23,
    "start_time": "2022-09-21T16:58:00.231Z"
   },
   {
    "duration": 18,
    "start_time": "2022-09-21T16:58:00.256Z"
   },
   {
    "duration": 19,
    "start_time": "2022-09-21T16:58:00.276Z"
   },
   {
    "duration": 17,
    "start_time": "2022-09-21T16:58:00.297Z"
   },
   {
    "duration": 40,
    "start_time": "2022-09-21T16:58:00.318Z"
   },
   {
    "duration": 16,
    "start_time": "2022-09-21T16:58:00.360Z"
   },
   {
    "duration": 24,
    "start_time": "2022-09-21T16:58:00.379Z"
   },
   {
    "duration": 44,
    "start_time": "2022-09-21T16:58:00.405Z"
   },
   {
    "duration": 72,
    "start_time": "2022-09-21T16:58:00.452Z"
   },
   {
    "duration": 26,
    "start_time": "2022-09-21T16:58:00.534Z"
   },
   {
    "duration": 21,
    "start_time": "2022-09-21T16:58:00.562Z"
   },
   {
    "duration": 44,
    "start_time": "2022-09-21T16:58:00.585Z"
   },
   {
    "duration": 430,
    "start_time": "2022-09-21T16:58:00.634Z"
   },
   {
    "duration": 14,
    "start_time": "2022-09-21T16:58:01.066Z"
   },
   {
    "duration": 412,
    "start_time": "2022-09-21T17:09:25.931Z"
   },
   {
    "duration": 392,
    "start_time": "2022-09-21T17:09:36.290Z"
   },
   {
    "duration": 473,
    "start_time": "2022-09-21T17:10:11.500Z"
   },
   {
    "duration": 415,
    "start_time": "2022-09-21T17:11:13.295Z"
   },
   {
    "duration": 112,
    "start_time": "2022-09-21T17:14:49.450Z"
   },
   {
    "duration": 121,
    "start_time": "2022-09-21T17:14:52.876Z"
   },
   {
    "duration": 114,
    "start_time": "2022-09-21T17:15:41.575Z"
   },
   {
    "duration": 70,
    "start_time": "2022-09-21T17:16:10.323Z"
   },
   {
    "duration": 72,
    "start_time": "2022-09-21T17:16:22.663Z"
   },
   {
    "duration": 113,
    "start_time": "2022-09-21T17:16:31.298Z"
   },
   {
    "duration": 819,
    "start_time": "2022-09-21T17:17:39.564Z"
   },
   {
    "duration": 784,
    "start_time": "2022-09-21T17:18:54.614Z"
   },
   {
    "duration": 132,
    "start_time": "2022-09-21T17:28:19.163Z"
   },
   {
    "duration": 10,
    "start_time": "2022-09-21T17:28:25.861Z"
   },
   {
    "duration": 6824,
    "start_time": "2022-09-21T17:28:32.118Z"
   },
   {
    "duration": 1222,
    "start_time": "2022-09-21T18:00:50.962Z"
   },
   {
    "duration": 1202,
    "start_time": "2022-09-21T18:01:53.690Z"
   },
   {
    "duration": 1260,
    "start_time": "2022-09-21T18:03:23.273Z"
   },
   {
    "duration": 1238,
    "start_time": "2022-09-21T18:04:27.981Z"
   },
   {
    "duration": 1241,
    "start_time": "2022-09-21T18:05:38.352Z"
   },
   {
    "duration": 904,
    "start_time": "2022-09-21T18:07:02.556Z"
   },
   {
    "duration": 828,
    "start_time": "2022-09-21T18:07:26.750Z"
   },
   {
    "duration": 7,
    "start_time": "2022-09-21T18:18:04.772Z"
   },
   {
    "duration": 9,
    "start_time": "2022-09-21T18:18:28.882Z"
   },
   {
    "duration": 856,
    "start_time": "2022-09-21T18:18:39.579Z"
   },
   {
    "duration": 892,
    "start_time": "2022-09-21T18:22:59.996Z"
   },
   {
    "duration": 884,
    "start_time": "2022-09-21T18:23:40.995Z"
   },
   {
    "duration": 858,
    "start_time": "2022-09-21T18:25:15.077Z"
   },
   {
    "duration": 790,
    "start_time": "2022-09-21T18:27:57.457Z"
   },
   {
    "duration": 855,
    "start_time": "2022-09-21T18:28:23.793Z"
   },
   {
    "duration": 801,
    "start_time": "2022-09-21T18:29:09.562Z"
   },
   {
    "duration": 125,
    "start_time": "2022-09-21T18:30:53.867Z"
   },
   {
    "duration": 787,
    "start_time": "2022-09-21T18:31:16.910Z"
   },
   {
    "duration": 813,
    "start_time": "2022-09-21T18:31:56.377Z"
   },
   {
    "duration": 738,
    "start_time": "2022-09-21T18:59:01.341Z"
   },
   {
    "duration": 1031,
    "start_time": "2022-09-21T18:59:26.264Z"
   },
   {
    "duration": 728,
    "start_time": "2022-09-21T19:00:04.027Z"
   },
   {
    "duration": 707,
    "start_time": "2022-09-21T19:01:55.346Z"
   },
   {
    "duration": 800,
    "start_time": "2022-09-21T19:02:28.189Z"
   },
   {
    "duration": 728,
    "start_time": "2022-09-21T19:03:15.973Z"
   },
   {
    "duration": 1010,
    "start_time": "2022-09-21T19:05:28.667Z"
   },
   {
    "duration": 891,
    "start_time": "2022-09-21T19:07:06.868Z"
   },
   {
    "duration": 830,
    "start_time": "2022-09-21T19:07:26.115Z"
   },
   {
    "duration": 889,
    "start_time": "2022-09-21T19:07:46.825Z"
   },
   {
    "duration": 728,
    "start_time": "2022-09-21T19:08:33.949Z"
   },
   {
    "duration": 589,
    "start_time": "2022-09-21T19:14:05.881Z"
   },
   {
    "duration": 17,
    "start_time": "2022-09-21T19:20:08.097Z"
   },
   {
    "duration": 115,
    "start_time": "2022-09-21T19:22:11.358Z"
   },
   {
    "duration": 16,
    "start_time": "2022-09-21T19:22:14.695Z"
   },
   {
    "duration": 8,
    "start_time": "2022-09-21T19:22:17.209Z"
   },
   {
    "duration": 11,
    "start_time": "2022-09-21T19:22:21.185Z"
   },
   {
    "duration": 5,
    "start_time": "2022-09-21T19:22:24.614Z"
   },
   {
    "duration": 10,
    "start_time": "2022-09-21T19:22:27.041Z"
   },
   {
    "duration": 8,
    "start_time": "2022-09-21T19:22:30.197Z"
   },
   {
    "duration": 9,
    "start_time": "2022-09-21T19:22:33.714Z"
   },
   {
    "duration": 12,
    "start_time": "2022-09-21T19:22:36.468Z"
   },
   {
    "duration": 11,
    "start_time": "2022-09-21T19:22:40.716Z"
   },
   {
    "duration": 6,
    "start_time": "2022-09-21T19:22:42.861Z"
   },
   {
    "duration": 12,
    "start_time": "2022-09-21T19:22:45.520Z"
   },
   {
    "duration": 17,
    "start_time": "2022-09-21T19:22:48.411Z"
   },
   {
    "duration": 21,
    "start_time": "2022-09-21T19:22:52.273Z"
   },
   {
    "duration": 19,
    "start_time": "2022-09-21T19:22:55.156Z"
   },
   {
    "duration": 24,
    "start_time": "2022-09-21T19:22:59.313Z"
   },
   {
    "duration": 399,
    "start_time": "2022-09-21T19:23:16.861Z"
   },
   {
    "duration": 12,
    "start_time": "2022-09-21T19:24:38.836Z"
   },
   {
    "duration": 122,
    "start_time": "2022-09-21T19:25:03.412Z"
   },
   {
    "duration": 12,
    "start_time": "2022-09-21T19:25:10.798Z"
   },
   {
    "duration": 15,
    "start_time": "2022-09-21T19:25:14.900Z"
   },
   {
    "duration": 8,
    "start_time": "2022-09-21T19:25:18.947Z"
   },
   {
    "duration": 10,
    "start_time": "2022-09-21T19:25:21.652Z"
   },
   {
    "duration": 9,
    "start_time": "2022-09-21T19:25:24.839Z"
   },
   {
    "duration": 9,
    "start_time": "2022-09-21T19:25:28.016Z"
   },
   {
    "duration": 11,
    "start_time": "2022-09-21T19:25:30.781Z"
   },
   {
    "duration": 8,
    "start_time": "2022-09-21T19:25:34.069Z"
   },
   {
    "duration": 13,
    "start_time": "2022-09-21T19:25:37.121Z"
   },
   {
    "duration": 14,
    "start_time": "2022-09-21T19:25:40.483Z"
   },
   {
    "duration": 12,
    "start_time": "2022-09-21T19:25:43.251Z"
   },
   {
    "duration": 26,
    "start_time": "2022-09-21T19:25:47.235Z"
   },
   {
    "duration": 15,
    "start_time": "2022-09-21T19:25:50.594Z"
   },
   {
    "duration": 23,
    "start_time": "2022-09-21T19:25:54.310Z"
   },
   {
    "duration": 400,
    "start_time": "2022-09-21T19:25:58.306Z"
   },
   {
    "duration": 9,
    "start_time": "2022-09-21T19:26:38.551Z"
   },
   {
    "duration": 12,
    "start_time": "2022-09-21T19:28:49.003Z"
   },
   {
    "duration": 104,
    "start_time": "2022-09-21T19:29:58.576Z"
   },
   {
    "duration": 546,
    "start_time": "2022-09-21T19:30:12.406Z"
   },
   {
    "duration": 15,
    "start_time": "2022-09-21T19:30:12.954Z"
   },
   {
    "duration": 7,
    "start_time": "2022-09-21T19:30:12.971Z"
   },
   {
    "duration": 17,
    "start_time": "2022-09-21T19:30:12.981Z"
   },
   {
    "duration": 22,
    "start_time": "2022-09-21T19:30:12.999Z"
   },
   {
    "duration": 13,
    "start_time": "2022-09-21T19:30:13.023Z"
   },
   {
    "duration": 7,
    "start_time": "2022-09-21T19:30:13.038Z"
   },
   {
    "duration": 12,
    "start_time": "2022-09-21T19:30:13.047Z"
   },
   {
    "duration": 11,
    "start_time": "2022-09-21T19:30:13.061Z"
   },
   {
    "duration": 6,
    "start_time": "2022-09-21T19:30:13.075Z"
   },
   {
    "duration": 40,
    "start_time": "2022-09-21T19:30:13.082Z"
   },
   {
    "duration": 25,
    "start_time": "2022-09-21T19:30:13.124Z"
   },
   {
    "duration": 14,
    "start_time": "2022-09-21T19:30:13.151Z"
   },
   {
    "duration": 18,
    "start_time": "2022-09-21T19:30:13.167Z"
   },
   {
    "duration": 38,
    "start_time": "2022-09-21T19:30:13.187Z"
   },
   {
    "duration": 16,
    "start_time": "2022-09-21T19:30:13.227Z"
   },
   {
    "duration": 390,
    "start_time": "2022-09-21T19:30:13.245Z"
   },
   {
    "duration": 67,
    "start_time": "2022-09-21T19:30:13.637Z"
   },
   {
    "duration": 0,
    "start_time": "2022-09-21T19:30:13.705Z"
   },
   {
    "duration": 10,
    "start_time": "2022-09-21T19:31:30.345Z"
   },
   {
    "duration": 515,
    "start_time": "2022-09-21T19:32:04.247Z"
   },
   {
    "duration": 14,
    "start_time": "2022-09-21T19:32:04.764Z"
   },
   {
    "duration": 9,
    "start_time": "2022-09-21T19:32:04.780Z"
   },
   {
    "duration": 35,
    "start_time": "2022-09-21T19:32:04.792Z"
   },
   {
    "duration": 5,
    "start_time": "2022-09-21T19:32:04.829Z"
   },
   {
    "duration": 20,
    "start_time": "2022-09-21T19:32:04.836Z"
   },
   {
    "duration": 14,
    "start_time": "2022-09-21T19:32:04.859Z"
   },
   {
    "duration": 11,
    "start_time": "2022-09-21T19:32:04.875Z"
   },
   {
    "duration": 35,
    "start_time": "2022-09-21T19:32:04.887Z"
   },
   {
    "duration": 7,
    "start_time": "2022-09-21T19:32:04.925Z"
   },
   {
    "duration": 6,
    "start_time": "2022-09-21T19:32:04.934Z"
   },
   {
    "duration": 22,
    "start_time": "2022-09-21T19:32:04.942Z"
   },
   {
    "duration": 15,
    "start_time": "2022-09-21T19:32:04.966Z"
   },
   {
    "duration": 38,
    "start_time": "2022-09-21T19:32:04.983Z"
   },
   {
    "duration": 16,
    "start_time": "2022-09-21T19:32:05.022Z"
   },
   {
    "duration": 19,
    "start_time": "2022-09-21T19:32:05.040Z"
   },
   {
    "duration": 434,
    "start_time": "2022-09-21T19:32:05.061Z"
   },
   {
    "duration": 38,
    "start_time": "2022-09-21T19:32:05.497Z"
   },
   {
    "duration": 12,
    "start_time": "2022-09-21T19:32:05.537Z"
   },
   {
    "duration": 49,
    "start_time": "2022-09-22T03:28:37.893Z"
   },
   {
    "duration": 687,
    "start_time": "2022-09-22T03:28:47.008Z"
   },
   {
    "duration": 14,
    "start_time": "2022-09-22T03:28:47.697Z"
   },
   {
    "duration": 9,
    "start_time": "2022-09-22T03:28:47.713Z"
   },
   {
    "duration": 8,
    "start_time": "2022-09-22T03:28:47.724Z"
   },
   {
    "duration": 4,
    "start_time": "2022-09-22T03:28:47.734Z"
   },
   {
    "duration": 11,
    "start_time": "2022-09-22T03:28:47.739Z"
   },
   {
    "duration": 29,
    "start_time": "2022-09-22T03:28:47.751Z"
   },
   {
    "duration": 9,
    "start_time": "2022-09-22T03:28:47.781Z"
   },
   {
    "duration": 11,
    "start_time": "2022-09-22T03:28:47.792Z"
   },
   {
    "duration": 6,
    "start_time": "2022-09-22T03:28:47.805Z"
   },
   {
    "duration": 5,
    "start_time": "2022-09-22T03:28:47.813Z"
   },
   {
    "duration": 13,
    "start_time": "2022-09-22T03:28:47.819Z"
   },
   {
    "duration": 46,
    "start_time": "2022-09-22T03:28:47.834Z"
   },
   {
    "duration": 17,
    "start_time": "2022-09-22T03:28:47.882Z"
   },
   {
    "duration": 14,
    "start_time": "2022-09-22T03:28:47.901Z"
   },
   {
    "duration": 15,
    "start_time": "2022-09-22T03:28:47.917Z"
   },
   {
    "duration": 380,
    "start_time": "2022-09-22T03:28:47.933Z"
   },
   {
    "duration": 25,
    "start_time": "2022-09-22T03:28:48.315Z"
   },
   {
    "duration": 40,
    "start_time": "2022-09-22T03:28:48.342Z"
   },
   {
    "duration": 0,
    "start_time": "2022-09-22T03:28:48.383Z"
   },
   {
    "duration": 30,
    "start_time": "2022-09-22T03:29:24.772Z"
   },
   {
    "duration": 686,
    "start_time": "2022-09-22T03:31:51.537Z"
   },
   {
    "duration": 31,
    "start_time": "2022-09-22T03:32:41.015Z"
   },
   {
    "duration": 800,
    "start_time": "2022-09-22T03:33:32.455Z"
   },
   {
    "duration": 603,
    "start_time": "2022-09-22T03:34:00.091Z"
   },
   {
    "duration": 242,
    "start_time": "2022-09-22T03:37:21.126Z"
   },
   {
    "duration": 225,
    "start_time": "2022-09-22T03:38:55.888Z"
   },
   {
    "duration": 203,
    "start_time": "2022-09-22T03:39:11.522Z"
   },
   {
    "duration": 231,
    "start_time": "2022-09-22T03:43:55.283Z"
   },
   {
    "duration": 198,
    "start_time": "2022-09-22T03:44:23.779Z"
   },
   {
    "duration": 231,
    "start_time": "2022-09-22T03:44:46.897Z"
   },
   {
    "duration": 15,
    "start_time": "2022-09-22T04:03:26.867Z"
   },
   {
    "duration": 212,
    "start_time": "2022-09-22T04:04:13.113Z"
   },
   {
    "duration": 8,
    "start_time": "2022-09-22T04:04:17.851Z"
   },
   {
    "duration": 211,
    "start_time": "2022-09-22T04:06:05.636Z"
   },
   {
    "duration": 1292,
    "start_time": "2022-09-22T04:06:11.498Z"
   },
   {
    "duration": 1071,
    "start_time": "2022-09-22T04:07:05.091Z"
   },
   {
    "duration": 14,
    "start_time": "2022-09-22T04:07:35.674Z"
   },
   {
    "duration": 13,
    "start_time": "2022-09-22T04:08:25.658Z"
   },
   {
    "duration": 10,
    "start_time": "2022-09-22T04:09:30.231Z"
   },
   {
    "duration": 11,
    "start_time": "2022-09-22T04:10:25.577Z"
   },
   {
    "duration": 458,
    "start_time": "2022-09-22T04:11:01.509Z"
   },
   {
    "duration": 13,
    "start_time": "2022-09-22T04:11:01.969Z"
   },
   {
    "duration": 21,
    "start_time": "2022-09-22T04:11:01.984Z"
   },
   {
    "duration": 30,
    "start_time": "2022-09-22T04:11:02.007Z"
   },
   {
    "duration": 13,
    "start_time": "2022-09-22T04:11:02.038Z"
   },
   {
    "duration": 24,
    "start_time": "2022-09-22T04:11:02.053Z"
   },
   {
    "duration": 13,
    "start_time": "2022-09-22T04:11:02.079Z"
   },
   {
    "duration": 37,
    "start_time": "2022-09-22T04:11:02.094Z"
   },
   {
    "duration": 16,
    "start_time": "2022-09-22T04:11:02.133Z"
   },
   {
    "duration": 24,
    "start_time": "2022-09-22T04:11:02.152Z"
   },
   {
    "duration": 30,
    "start_time": "2022-09-22T04:11:02.178Z"
   },
   {
    "duration": 15,
    "start_time": "2022-09-22T04:11:02.210Z"
   },
   {
    "duration": 31,
    "start_time": "2022-09-22T04:11:02.227Z"
   },
   {
    "duration": 39,
    "start_time": "2022-09-22T04:11:02.260Z"
   },
   {
    "duration": 36,
    "start_time": "2022-09-22T04:11:02.300Z"
   },
   {
    "duration": 25,
    "start_time": "2022-09-22T04:11:02.338Z"
   },
   {
    "duration": 344,
    "start_time": "2022-09-22T04:11:02.365Z"
   },
   {
    "duration": 26,
    "start_time": "2022-09-22T04:11:02.711Z"
   },
   {
    "duration": 465,
    "start_time": "2022-09-22T04:11:02.739Z"
   },
   {
    "duration": 10,
    "start_time": "2022-09-22T04:11:03.206Z"
   },
   {
    "duration": 19,
    "start_time": "2022-09-22T04:11:03.218Z"
   },
   {
    "duration": 235,
    "start_time": "2022-09-22T04:12:06.382Z"
   },
   {
    "duration": 15,
    "start_time": "2022-09-22T04:14:10.048Z"
   },
   {
    "duration": 16,
    "start_time": "2022-09-22T04:14:38.321Z"
   },
   {
    "duration": 20,
    "start_time": "2022-09-22T04:15:25.427Z"
   },
   {
    "duration": 18,
    "start_time": "2022-09-22T04:16:22.694Z"
   },
   {
    "duration": 18,
    "start_time": "2022-09-22T04:18:46.497Z"
   },
   {
    "duration": 18,
    "start_time": "2022-09-22T04:19:08.210Z"
   },
   {
    "duration": 178,
    "start_time": "2022-09-22T04:23:51.637Z"
   },
   {
    "duration": 193,
    "start_time": "2022-09-22T04:24:55.315Z"
   },
   {
    "duration": 209,
    "start_time": "2022-09-22T04:25:20.656Z"
   },
   {
    "duration": 513,
    "start_time": "2022-09-22T04:25:57.256Z"
   },
   {
    "duration": 13,
    "start_time": "2022-09-22T04:25:57.771Z"
   },
   {
    "duration": 18,
    "start_time": "2022-09-22T04:25:57.786Z"
   },
   {
    "duration": 16,
    "start_time": "2022-09-22T04:25:57.806Z"
   },
   {
    "duration": 18,
    "start_time": "2022-09-22T04:25:57.824Z"
   },
   {
    "duration": 19,
    "start_time": "2022-09-22T04:25:57.843Z"
   },
   {
    "duration": 27,
    "start_time": "2022-09-22T04:25:57.864Z"
   },
   {
    "duration": 19,
    "start_time": "2022-09-22T04:25:57.892Z"
   },
   {
    "duration": 23,
    "start_time": "2022-09-22T04:25:57.912Z"
   },
   {
    "duration": 8,
    "start_time": "2022-09-22T04:25:57.938Z"
   },
   {
    "duration": 21,
    "start_time": "2022-09-22T04:25:57.947Z"
   },
   {
    "duration": 16,
    "start_time": "2022-09-22T04:25:57.969Z"
   },
   {
    "duration": 34,
    "start_time": "2022-09-22T04:25:57.986Z"
   },
   {
    "duration": 19,
    "start_time": "2022-09-22T04:25:58.021Z"
   },
   {
    "duration": 42,
    "start_time": "2022-09-22T04:25:58.041Z"
   },
   {
    "duration": 30,
    "start_time": "2022-09-22T04:25:58.084Z"
   },
   {
    "duration": 342,
    "start_time": "2022-09-22T04:25:58.116Z"
   },
   {
    "duration": 35,
    "start_time": "2022-09-22T04:25:58.459Z"
   },
   {
    "duration": 448,
    "start_time": "2022-09-22T04:25:58.496Z"
   },
   {
    "duration": 66,
    "start_time": "2022-09-22T04:25:58.946Z"
   },
   {
    "duration": 0,
    "start_time": "2022-09-22T04:25:59.014Z"
   },
   {
    "duration": 208,
    "start_time": "2022-09-22T04:26:17.801Z"
   },
   {
    "duration": 12,
    "start_time": "2022-09-22T04:32:21.643Z"
   },
   {
    "duration": 11,
    "start_time": "2022-09-22T04:32:42.972Z"
   },
   {
    "duration": 15,
    "start_time": "2022-09-22T04:34:24.994Z"
   },
   {
    "duration": 18,
    "start_time": "2022-09-22T04:35:28.680Z"
   },
   {
    "duration": 17,
    "start_time": "2022-09-22T04:36:48.263Z"
   },
   {
    "duration": 19,
    "start_time": "2022-09-22T04:38:15.565Z"
   },
   {
    "duration": 14,
    "start_time": "2022-09-22T04:40:25.759Z"
   },
   {
    "duration": 1036,
    "start_time": "2022-09-22T04:41:08.285Z"
   },
   {
    "duration": 39,
    "start_time": "2022-09-22T04:41:33.337Z"
   },
   {
    "duration": 858,
    "start_time": "2022-09-22T04:44:22.068Z"
   },
   {
    "duration": 677,
    "start_time": "2022-09-22T04:44:42.717Z"
   },
   {
    "duration": 43,
    "start_time": "2022-09-22T04:44:52.010Z"
   },
   {
    "duration": 14,
    "start_time": "2022-09-22T04:44:56.044Z"
   },
   {
    "duration": 16,
    "start_time": "2022-09-22T04:45:40.231Z"
   },
   {
    "duration": 14,
    "start_time": "2022-09-22T04:46:10.378Z"
   },
   {
    "duration": 316,
    "start_time": "2022-09-22T04:47:20.182Z"
   },
   {
    "duration": 13,
    "start_time": "2022-09-22T04:47:58.352Z"
   },
   {
    "duration": 28,
    "start_time": "2022-09-22T04:48:19.606Z"
   },
   {
    "duration": 50,
    "start_time": "2022-09-22T04:49:32.952Z"
   },
   {
    "duration": 52,
    "start_time": "2022-09-22T04:50:03.808Z"
   },
   {
    "duration": 70,
    "start_time": "2022-09-22T04:51:09.418Z"
   },
   {
    "duration": 16,
    "start_time": "2022-09-22T04:51:28.881Z"
   },
   {
    "duration": 18,
    "start_time": "2022-09-22T04:51:35.364Z"
   },
   {
    "duration": 66,
    "start_time": "2022-09-22T04:51:42.358Z"
   },
   {
    "duration": 728,
    "start_time": "2022-09-22T04:53:21.391Z"
   },
   {
    "duration": 22,
    "start_time": "2022-09-22T04:55:35.939Z"
   },
   {
    "duration": 3313,
    "start_time": "2022-09-22T04:57:04.366Z"
   },
   {
    "duration": 873,
    "start_time": "2022-09-22T04:57:29.357Z"
   },
   {
    "duration": 79,
    "start_time": "2022-09-22T05:03:30.085Z"
   },
   {
    "duration": 123,
    "start_time": "2022-09-22T05:10:11.989Z"
   },
   {
    "duration": 166,
    "start_time": "2022-09-22T05:10:45.285Z"
   },
   {
    "duration": 108,
    "start_time": "2022-09-22T05:12:02.633Z"
   },
   {
    "duration": 120,
    "start_time": "2022-09-22T05:12:30.779Z"
   },
   {
    "duration": 117,
    "start_time": "2022-09-22T05:12:56.099Z"
   },
   {
    "duration": 129,
    "start_time": "2022-09-22T05:13:26.245Z"
   },
   {
    "duration": 129,
    "start_time": "2022-09-22T05:13:56.835Z"
   },
   {
    "duration": 122,
    "start_time": "2022-09-22T05:14:16.169Z"
   },
   {
    "duration": 137,
    "start_time": "2022-09-22T05:14:36.964Z"
   },
   {
    "duration": 117,
    "start_time": "2022-09-22T05:15:08.005Z"
   },
   {
    "duration": 120,
    "start_time": "2022-09-22T05:18:12.796Z"
   },
   {
    "duration": 121,
    "start_time": "2022-09-22T05:19:07.710Z"
   },
   {
    "duration": 135,
    "start_time": "2022-09-22T05:24:37.657Z"
   },
   {
    "duration": 123,
    "start_time": "2022-09-22T05:27:08.250Z"
   },
   {
    "duration": 18,
    "start_time": "2022-09-22T05:30:10.186Z"
   },
   {
    "duration": 8,
    "start_time": "2022-09-22T05:31:06.663Z"
   },
   {
    "duration": 7,
    "start_time": "2022-09-22T05:38:11.851Z"
   },
   {
    "duration": 8,
    "start_time": "2022-09-22T05:38:39.604Z"
   },
   {
    "duration": 8,
    "start_time": "2022-09-22T05:39:00.207Z"
   },
   {
    "duration": 176,
    "start_time": "2022-09-22T05:43:33.627Z"
   },
   {
    "duration": 300,
    "start_time": "2022-09-22T05:43:53.011Z"
   },
   {
    "duration": 258,
    "start_time": "2022-09-22T05:44:18.928Z"
   },
   {
    "duration": 273,
    "start_time": "2022-09-22T05:44:41.565Z"
   },
   {
    "duration": 248,
    "start_time": "2022-09-22T05:44:48.933Z"
   },
   {
    "duration": 238,
    "start_time": "2022-09-22T05:45:00.304Z"
   },
   {
    "duration": 306,
    "start_time": "2022-09-22T05:45:13.307Z"
   },
   {
    "duration": 270,
    "start_time": "2022-09-22T05:45:51.306Z"
   },
   {
    "duration": 255,
    "start_time": "2022-09-22T05:48:53.797Z"
   },
   {
    "duration": 108,
    "start_time": "2022-09-22T05:49:02.726Z"
   },
   {
    "duration": 13,
    "start_time": "2022-09-22T05:49:02.835Z"
   },
   {
    "duration": 7,
    "start_time": "2022-09-22T05:49:02.850Z"
   },
   {
    "duration": 12,
    "start_time": "2022-09-22T05:49:02.876Z"
   },
   {
    "duration": 29,
    "start_time": "2022-09-22T05:49:02.892Z"
   },
   {
    "duration": 28,
    "start_time": "2022-09-22T05:49:02.923Z"
   },
   {
    "duration": 8,
    "start_time": "2022-09-22T05:49:02.953Z"
   },
   {
    "duration": 7,
    "start_time": "2022-09-22T05:49:02.963Z"
   },
   {
    "duration": 35,
    "start_time": "2022-09-22T05:49:02.972Z"
   },
   {
    "duration": 8,
    "start_time": "2022-09-22T05:49:03.013Z"
   },
   {
    "duration": 14,
    "start_time": "2022-09-22T05:49:03.023Z"
   },
   {
    "duration": 14,
    "start_time": "2022-09-22T05:49:03.038Z"
   },
   {
    "duration": 9,
    "start_time": "2022-09-22T05:49:03.054Z"
   },
   {
    "duration": 21,
    "start_time": "2022-09-22T05:49:03.065Z"
   },
   {
    "duration": 44,
    "start_time": "2022-09-22T05:49:03.087Z"
   },
   {
    "duration": 18,
    "start_time": "2022-09-22T05:49:03.134Z"
   },
   {
    "duration": 404,
    "start_time": "2022-09-22T05:49:03.154Z"
   },
   {
    "duration": 42,
    "start_time": "2022-09-22T05:49:03.560Z"
   },
   {
    "duration": 244,
    "start_time": "2022-09-22T05:49:03.603Z"
   },
   {
    "duration": 143,
    "start_time": "2022-09-22T05:49:03.849Z"
   },
   {
    "duration": 673,
    "start_time": "2022-09-22T05:49:04.000Z"
   },
   {
    "duration": 31,
    "start_time": "2022-09-22T05:49:04.676Z"
   },
   {
    "duration": 337,
    "start_time": "2022-09-22T05:49:28.809Z"
   },
   {
    "duration": 302,
    "start_time": "2022-09-22T05:51:02.673Z"
   },
   {
    "duration": 649,
    "start_time": "2022-09-22T05:51:44.046Z"
   },
   {
    "duration": 263,
    "start_time": "2022-09-22T05:54:47.387Z"
   },
   {
    "duration": 257,
    "start_time": "2022-09-22T05:58:02.145Z"
   },
   {
    "duration": 366,
    "start_time": "2022-09-22T05:59:02.502Z"
   },
   {
    "duration": 254,
    "start_time": "2022-09-22T05:59:40.952Z"
   },
   {
    "duration": 329,
    "start_time": "2022-09-22T06:00:05.186Z"
   },
   {
    "duration": 249,
    "start_time": "2022-09-22T06:00:27.125Z"
   },
   {
    "duration": 261,
    "start_time": "2022-09-22T06:01:09.576Z"
   },
   {
    "duration": 360,
    "start_time": "2022-09-22T06:01:23.920Z"
   },
   {
    "duration": 2974,
    "start_time": "2022-09-22T06:02:10.022Z"
   },
   {
    "duration": 259,
    "start_time": "2022-09-22T06:03:24.574Z"
   },
   {
    "duration": 254,
    "start_time": "2022-09-22T06:03:37.918Z"
   },
   {
    "duration": 264,
    "start_time": "2022-09-22T06:03:57.667Z"
   },
   {
    "duration": 281,
    "start_time": "2022-09-22T06:05:46.812Z"
   },
   {
    "duration": 362,
    "start_time": "2022-09-22T06:05:53.990Z"
   },
   {
    "duration": 510,
    "start_time": "2022-09-22T06:06:03.092Z"
   },
   {
    "duration": 255,
    "start_time": "2022-09-22T06:06:52.490Z"
   },
   {
    "duration": 239,
    "start_time": "2022-09-22T06:07:07.759Z"
   },
   {
    "duration": 380,
    "start_time": "2022-09-22T06:07:31.112Z"
   },
   {
    "duration": 202,
    "start_time": "2022-09-22T06:12:10.068Z"
   },
   {
    "duration": 214,
    "start_time": "2022-09-22T06:12:23.820Z"
   },
   {
    "duration": 338,
    "start_time": "2022-09-22T06:12:31.901Z"
   },
   {
    "duration": 237,
    "start_time": "2022-09-22T06:12:53.789Z"
   },
   {
    "duration": 83,
    "start_time": "2022-09-22T06:13:23.477Z"
   },
   {
    "duration": 88,
    "start_time": "2022-09-22T06:14:19.009Z"
   },
   {
    "duration": 9,
    "start_time": "2022-09-22T06:15:16.504Z"
   },
   {
    "duration": 89,
    "start_time": "2022-09-22T06:15:31.828Z"
   },
   {
    "duration": 378,
    "start_time": "2022-09-22T06:16:10.835Z"
   },
   {
    "duration": 245,
    "start_time": "2022-09-22T06:16:24.363Z"
   },
   {
    "duration": 244,
    "start_time": "2022-09-22T06:19:42.027Z"
   },
   {
    "duration": 249,
    "start_time": "2022-09-22T06:20:19.588Z"
   },
   {
    "duration": 316,
    "start_time": "2022-09-22T06:20:35.178Z"
   },
   {
    "duration": 270,
    "start_time": "2022-09-22T06:20:46.792Z"
   },
   {
    "duration": 234,
    "start_time": "2022-09-22T06:22:49.857Z"
   },
   {
    "duration": 417,
    "start_time": "2022-09-22T06:23:17.766Z"
   },
   {
    "duration": 736,
    "start_time": "2022-09-22T06:27:59.168Z"
   },
   {
    "duration": 14,
    "start_time": "2022-09-22T06:27:59.906Z"
   },
   {
    "duration": 20,
    "start_time": "2022-09-22T06:27:59.921Z"
   },
   {
    "duration": 17,
    "start_time": "2022-09-22T06:27:59.944Z"
   },
   {
    "duration": 9,
    "start_time": "2022-09-22T06:27:59.962Z"
   },
   {
    "duration": 25,
    "start_time": "2022-09-22T06:27:59.973Z"
   },
   {
    "duration": 7,
    "start_time": "2022-09-22T06:28:00.000Z"
   },
   {
    "duration": 20,
    "start_time": "2022-09-22T06:28:00.008Z"
   },
   {
    "duration": 34,
    "start_time": "2022-09-22T06:28:00.030Z"
   },
   {
    "duration": 6,
    "start_time": "2022-09-22T06:28:00.067Z"
   },
   {
    "duration": 28,
    "start_time": "2022-09-22T06:28:00.075Z"
   },
   {
    "duration": 14,
    "start_time": "2022-09-22T06:28:00.105Z"
   },
   {
    "duration": 10,
    "start_time": "2022-09-22T06:28:00.120Z"
   },
   {
    "duration": 35,
    "start_time": "2022-09-22T06:28:00.131Z"
   },
   {
    "duration": 32,
    "start_time": "2022-09-22T06:28:00.168Z"
   },
   {
    "duration": 31,
    "start_time": "2022-09-22T06:28:00.202Z"
   },
   {
    "duration": 362,
    "start_time": "2022-09-22T06:28:00.235Z"
   },
   {
    "duration": 30,
    "start_time": "2022-09-22T06:28:00.599Z"
   },
   {
    "duration": 302,
    "start_time": "2022-09-22T06:28:00.630Z"
   },
   {
    "duration": 131,
    "start_time": "2022-09-22T06:28:00.934Z"
   },
   {
    "duration": 0,
    "start_time": "2022-09-22T06:32:17.104Z"
   },
   {
    "duration": 0,
    "start_time": "2022-09-22T06:32:17.106Z"
   },
   {
    "duration": 134,
    "start_time": "2022-09-22T06:32:22.328Z"
   },
   {
    "duration": 238,
    "start_time": "2022-09-22T06:32:26.105Z"
   },
   {
    "duration": 697,
    "start_time": "2022-09-22T06:32:30.963Z"
   },
   {
    "duration": 775,
    "start_time": "2022-09-22T06:36:30.912Z"
   },
   {
    "duration": 14,
    "start_time": "2022-09-22T06:36:31.690Z"
   },
   {
    "duration": 13,
    "start_time": "2022-09-22T06:36:31.705Z"
   },
   {
    "duration": 22,
    "start_time": "2022-09-22T06:36:31.720Z"
   },
   {
    "duration": 10,
    "start_time": "2022-09-22T06:36:31.743Z"
   },
   {
    "duration": 11,
    "start_time": "2022-09-22T06:36:31.754Z"
   },
   {
    "duration": 8,
    "start_time": "2022-09-22T06:36:31.767Z"
   },
   {
    "duration": 22,
    "start_time": "2022-09-22T06:36:31.779Z"
   },
   {
    "duration": 41,
    "start_time": "2022-09-22T06:36:31.802Z"
   },
   {
    "duration": 6,
    "start_time": "2022-09-22T06:36:31.845Z"
   },
   {
    "duration": 9,
    "start_time": "2022-09-22T06:36:31.853Z"
   },
   {
    "duration": 25,
    "start_time": "2022-09-22T06:36:31.863Z"
   },
   {
    "duration": 7,
    "start_time": "2022-09-22T06:36:31.890Z"
   },
   {
    "duration": 23,
    "start_time": "2022-09-22T06:36:31.899Z"
   },
   {
    "duration": 14,
    "start_time": "2022-09-22T06:36:31.923Z"
   },
   {
    "duration": 11,
    "start_time": "2022-09-22T06:36:31.939Z"
   },
   {
    "duration": 355,
    "start_time": "2022-09-22T06:36:31.952Z"
   },
   {
    "duration": 24,
    "start_time": "2022-09-22T06:36:32.309Z"
   },
   {
    "duration": 289,
    "start_time": "2022-09-22T06:36:32.335Z"
   },
   {
    "duration": 126,
    "start_time": "2022-09-22T06:36:32.626Z"
   },
   {
    "duration": 241,
    "start_time": "2022-09-22T06:36:32.753Z"
   },
   {
    "duration": 740,
    "start_time": "2022-09-22T06:39:08.089Z"
   },
   {
    "duration": 14,
    "start_time": "2022-09-22T06:39:08.831Z"
   },
   {
    "duration": 7,
    "start_time": "2022-09-22T06:39:08.847Z"
   },
   {
    "duration": 31,
    "start_time": "2022-09-22T06:39:08.856Z"
   },
   {
    "duration": 7,
    "start_time": "2022-09-22T06:39:08.890Z"
   },
   {
    "duration": 10,
    "start_time": "2022-09-22T06:39:08.900Z"
   },
   {
    "duration": 7,
    "start_time": "2022-09-22T06:39:08.912Z"
   },
   {
    "duration": 9,
    "start_time": "2022-09-22T06:39:08.921Z"
   },
   {
    "duration": 13,
    "start_time": "2022-09-22T06:39:08.932Z"
   },
   {
    "duration": 35,
    "start_time": "2022-09-22T06:39:08.948Z"
   },
   {
    "duration": 7,
    "start_time": "2022-09-22T06:39:08.984Z"
   },
   {
    "duration": 16,
    "start_time": "2022-09-22T06:39:08.992Z"
   },
   {
    "duration": 10,
    "start_time": "2022-09-22T06:39:09.009Z"
   },
   {
    "duration": 19,
    "start_time": "2022-09-22T06:39:09.021Z"
   },
   {
    "duration": 35,
    "start_time": "2022-09-22T06:39:09.042Z"
   },
   {
    "duration": 15,
    "start_time": "2022-09-22T06:39:09.089Z"
   },
   {
    "duration": 364,
    "start_time": "2022-09-22T06:39:09.106Z"
   },
   {
    "duration": 32,
    "start_time": "2022-09-22T06:39:09.476Z"
   },
   {
    "duration": 298,
    "start_time": "2022-09-22T06:39:09.510Z"
   },
   {
    "duration": 124,
    "start_time": "2022-09-22T06:39:09.810Z"
   },
   {
    "duration": 364,
    "start_time": "2022-09-22T06:39:09.935Z"
   },
   {
    "duration": 9,
    "start_time": "2022-09-22T06:39:10.301Z"
   },
   {
    "duration": 79,
    "start_time": "2022-09-22T06:39:10.311Z"
   },
   {
    "duration": 455,
    "start_time": "2022-09-22T06:40:06.090Z"
   },
   {
    "duration": 246,
    "start_time": "2022-09-22T06:40:20.745Z"
   },
   {
    "duration": 337,
    "start_time": "2022-09-22T06:40:34.680Z"
   },
   {
    "duration": 303,
    "start_time": "2022-09-22T06:41:02.250Z"
   },
   {
    "duration": 415,
    "start_time": "2022-09-22T06:42:48.960Z"
   },
   {
    "duration": 304,
    "start_time": "2022-09-22T06:43:02.724Z"
   },
   {
    "duration": 307,
    "start_time": "2022-09-22T06:48:57.845Z"
   },
   {
    "duration": 337,
    "start_time": "2022-09-22T06:50:36.696Z"
   },
   {
    "duration": 295,
    "start_time": "2022-09-22T06:50:51.756Z"
   },
   {
    "duration": 753,
    "start_time": "2022-09-22T06:54:41.556Z"
   },
   {
    "duration": 15,
    "start_time": "2022-09-22T06:54:42.311Z"
   },
   {
    "duration": 10,
    "start_time": "2022-09-22T06:54:42.328Z"
   },
   {
    "duration": 24,
    "start_time": "2022-09-22T06:54:42.340Z"
   },
   {
    "duration": 18,
    "start_time": "2022-09-22T06:54:42.365Z"
   },
   {
    "duration": 24,
    "start_time": "2022-09-22T06:54:42.387Z"
   },
   {
    "duration": 19,
    "start_time": "2022-09-22T06:54:42.413Z"
   },
   {
    "duration": 12,
    "start_time": "2022-09-22T06:54:42.433Z"
   },
   {
    "duration": 46,
    "start_time": "2022-09-22T06:54:42.446Z"
   },
   {
    "duration": 30,
    "start_time": "2022-09-22T06:54:42.498Z"
   },
   {
    "duration": 17,
    "start_time": "2022-09-22T06:54:42.529Z"
   },
   {
    "duration": 26,
    "start_time": "2022-09-22T06:54:42.548Z"
   },
   {
    "duration": 41,
    "start_time": "2022-09-22T06:54:42.576Z"
   },
   {
    "duration": 30,
    "start_time": "2022-09-22T06:54:42.619Z"
   },
   {
    "duration": 17,
    "start_time": "2022-09-22T06:54:42.651Z"
   },
   {
    "duration": 42,
    "start_time": "2022-09-22T06:54:42.669Z"
   },
   {
    "duration": 343,
    "start_time": "2022-09-22T06:54:42.713Z"
   },
   {
    "duration": 40,
    "start_time": "2022-09-22T06:54:43.058Z"
   },
   {
    "duration": 282,
    "start_time": "2022-09-22T06:54:43.101Z"
   },
   {
    "duration": 122,
    "start_time": "2022-09-22T06:54:43.390Z"
   },
   {
    "duration": 180,
    "start_time": "2022-09-22T06:54:43.514Z"
   },
   {
    "duration": 7,
    "start_time": "2022-09-22T06:54:43.695Z"
   },
   {
    "duration": 13,
    "start_time": "2022-09-22T06:54:43.704Z"
   },
   {
    "duration": 163,
    "start_time": "2022-09-22T06:55:42.401Z"
   },
   {
    "duration": 232,
    "start_time": "2022-09-22T06:56:49.504Z"
   },
   {
    "duration": 7,
    "start_time": "2022-09-22T06:57:07.518Z"
   },
   {
    "duration": 189852,
    "start_time": "2022-09-22T07:01:15.599Z"
   },
   {
    "duration": 75,
    "start_time": "2022-09-22T07:21:46.684Z"
   },
   {
    "duration": 16,
    "start_time": "2022-09-22T07:22:19.493Z"
   },
   {
    "duration": 16,
    "start_time": "2022-09-22T07:22:33.554Z"
   },
   {
    "duration": 20,
    "start_time": "2022-09-22T07:22:43.316Z"
   },
   {
    "duration": 19,
    "start_time": "2022-09-22T07:23:34.726Z"
   },
   {
    "duration": 19,
    "start_time": "2022-09-22T08:23:24.225Z"
   },
   {
    "duration": 114,
    "start_time": "2022-09-22T08:23:40.848Z"
   },
   {
    "duration": 106,
    "start_time": "2022-09-22T08:24:14.937Z"
   },
   {
    "duration": 128,
    "start_time": "2022-09-22T08:24:46.953Z"
   },
   {
    "duration": 102,
    "start_time": "2022-09-22T08:25:23.731Z"
   },
   {
    "duration": 238,
    "start_time": "2022-09-22T08:27:38.692Z"
   },
   {
    "duration": 318,
    "start_time": "2022-09-22T08:29:30.326Z"
   },
   {
    "duration": 96,
    "start_time": "2022-09-22T08:30:46.440Z"
   },
   {
    "duration": 300,
    "start_time": "2022-09-22T08:31:00.360Z"
   },
   {
    "duration": 255,
    "start_time": "2022-09-22T08:31:55.011Z"
   },
   {
    "duration": 52,
    "start_time": "2022-09-22T08:32:13.739Z"
   },
   {
    "duration": 115,
    "start_time": "2022-09-22T08:33:01.865Z"
   },
   {
    "duration": 117,
    "start_time": "2022-09-22T08:34:11.598Z"
   },
   {
    "duration": 1389,
    "start_time": "2022-09-22T08:35:25.558Z"
   },
   {
    "duration": 1159,
    "start_time": "2022-09-22T08:35:30.707Z"
   },
   {
    "duration": 1309,
    "start_time": "2022-09-22T08:35:56.133Z"
   },
   {
    "duration": 53,
    "start_time": "2022-09-22T08:39:28.513Z"
   },
   {
    "duration": 80,
    "start_time": "2022-09-22T08:39:37.664Z"
   },
   {
    "duration": 110,
    "start_time": "2022-09-22T08:39:43.897Z"
   },
   {
    "duration": 129,
    "start_time": "2022-09-22T08:40:16.885Z"
   },
   {
    "duration": 204,
    "start_time": "2022-09-22T08:40:42.808Z"
   },
   {
    "duration": 112,
    "start_time": "2022-09-22T08:42:10.920Z"
   },
   {
    "duration": 17,
    "start_time": "2022-09-22T08:42:41.150Z"
   },
   {
    "duration": 117,
    "start_time": "2022-09-22T08:43:05.007Z"
   },
   {
    "duration": 124,
    "start_time": "2022-09-22T08:44:57.667Z"
   },
   {
    "duration": 132,
    "start_time": "2022-09-22T08:46:32.148Z"
   },
   {
    "duration": 105,
    "start_time": "2022-09-22T08:47:16.534Z"
   },
   {
    "duration": 104,
    "start_time": "2022-09-22T08:47:27.517Z"
   },
   {
    "duration": 120,
    "start_time": "2022-09-22T08:49:40.648Z"
   },
   {
    "duration": 113,
    "start_time": "2022-09-22T08:49:52.973Z"
   },
   {
    "duration": 121,
    "start_time": "2022-09-22T08:52:55.018Z"
   },
   {
    "duration": 11,
    "start_time": "2022-09-22T08:57:51.502Z"
   },
   {
    "duration": 129,
    "start_time": "2022-09-22T09:01:07.924Z"
   },
   {
    "duration": 133,
    "start_time": "2022-09-22T09:02:25.396Z"
   },
   {
    "duration": 117,
    "start_time": "2022-09-22T09:02:42.976Z"
   },
   {
    "duration": 144,
    "start_time": "2022-09-22T09:03:13.578Z"
   },
   {
    "duration": 132,
    "start_time": "2022-09-22T09:03:57.527Z"
   },
   {
    "duration": 73,
    "start_time": "2022-09-22T09:14:29.994Z"
   },
   {
    "duration": 139,
    "start_time": "2022-09-22T09:15:27.516Z"
   },
   {
    "duration": 122,
    "start_time": "2022-09-22T09:16:36.426Z"
   },
   {
    "duration": 167,
    "start_time": "2022-09-22T09:17:35.168Z"
   },
   {
    "duration": 252,
    "start_time": "2022-09-22T09:18:06.100Z"
   },
   {
    "duration": 322,
    "start_time": "2022-09-22T09:20:25.011Z"
   },
   {
    "duration": 53,
    "start_time": "2022-09-22T13:48:37.426Z"
   },
   {
    "duration": 1027,
    "start_time": "2022-09-22T13:48:45.010Z"
   },
   {
    "duration": 15,
    "start_time": "2022-09-22T13:48:46.040Z"
   },
   {
    "duration": 8,
    "start_time": "2022-09-22T13:48:46.057Z"
   },
   {
    "duration": 14,
    "start_time": "2022-09-22T13:48:46.067Z"
   },
   {
    "duration": 5,
    "start_time": "2022-09-22T13:48:46.095Z"
   },
   {
    "duration": 13,
    "start_time": "2022-09-22T13:48:46.101Z"
   },
   {
    "duration": 7,
    "start_time": "2022-09-22T13:48:46.116Z"
   },
   {
    "duration": 11,
    "start_time": "2022-09-22T13:48:46.124Z"
   },
   {
    "duration": 12,
    "start_time": "2022-09-22T13:48:46.137Z"
   },
   {
    "duration": 6,
    "start_time": "2022-09-22T13:48:46.151Z"
   },
   {
    "duration": 6,
    "start_time": "2022-09-22T13:48:46.196Z"
   },
   {
    "duration": 11,
    "start_time": "2022-09-22T13:48:46.204Z"
   },
   {
    "duration": 7,
    "start_time": "2022-09-22T13:48:46.217Z"
   },
   {
    "duration": 18,
    "start_time": "2022-09-22T13:48:46.226Z"
   },
   {
    "duration": 55,
    "start_time": "2022-09-22T13:48:46.246Z"
   },
   {
    "duration": 12,
    "start_time": "2022-09-22T13:48:46.303Z"
   },
   {
    "duration": 438,
    "start_time": "2022-09-22T13:48:46.317Z"
   },
   {
    "duration": 41,
    "start_time": "2022-09-22T13:48:46.757Z"
   },
   {
    "duration": 336,
    "start_time": "2022-09-22T13:48:46.800Z"
   },
   {
    "duration": 129,
    "start_time": "2022-09-22T13:48:47.138Z"
   },
   {
    "duration": 6,
    "start_time": "2022-09-22T13:48:47.268Z"
   },
   {
    "duration": 400,
    "start_time": "2022-09-22T13:48:47.276Z"
   },
   {
    "duration": 18,
    "start_time": "2022-09-22T13:48:47.679Z"
   },
   {
    "duration": 249,
    "start_time": "2022-09-22T16:58:48.908Z"
   },
   {
    "duration": 155,
    "start_time": "2022-09-22T16:59:42.242Z"
   },
   {
    "duration": 222,
    "start_time": "2022-09-22T17:02:59.530Z"
   },
   {
    "duration": 287,
    "start_time": "2022-09-22T17:03:16.763Z"
   },
   {
    "duration": 250,
    "start_time": "2022-09-22T17:03:29.335Z"
   },
   {
    "duration": 227,
    "start_time": "2022-09-22T17:03:52.127Z"
   },
   {
    "duration": 240,
    "start_time": "2022-09-22T17:04:29.030Z"
   },
   {
    "duration": 288,
    "start_time": "2022-09-22T17:05:06.500Z"
   },
   {
    "duration": 45,
    "start_time": "2022-09-22T17:05:42.290Z"
   },
   {
    "duration": 1679,
    "start_time": "2022-09-22T17:05:49.699Z"
   },
   {
    "duration": 3325,
    "start_time": "2022-09-22T17:06:24.537Z"
   },
   {
    "duration": 250,
    "start_time": "2022-09-22T17:07:06.266Z"
   },
   {
    "duration": 1727,
    "start_time": "2022-09-22T17:07:12.258Z"
   },
   {
    "duration": 241,
    "start_time": "2022-09-22T17:07:32.196Z"
   },
   {
    "duration": 12,
    "start_time": "2022-09-22T17:17:56.495Z"
   },
   {
    "duration": 13,
    "start_time": "2022-09-22T17:18:13.360Z"
   },
   {
    "duration": 19,
    "start_time": "2022-09-22T17:22:51.446Z"
   },
   {
    "duration": 23,
    "start_time": "2022-09-22T17:23:48.095Z"
   },
   {
    "duration": 8,
    "start_time": "2022-09-22T17:29:11.526Z"
   },
   {
    "duration": 103,
    "start_time": "2022-09-22T17:29:25.283Z"
   },
   {
    "duration": 16,
    "start_time": "2022-09-22T17:29:30.037Z"
   },
   {
    "duration": 14,
    "start_time": "2022-09-22T17:29:33.340Z"
   },
   {
    "duration": 10,
    "start_time": "2022-09-22T17:29:37.897Z"
   },
   {
    "duration": 6,
    "start_time": "2022-09-22T17:29:41.530Z"
   },
   {
    "duration": 10,
    "start_time": "2022-09-22T17:29:43.666Z"
   },
   {
    "duration": 8,
    "start_time": "2022-09-22T17:29:47.667Z"
   },
   {
    "duration": 12,
    "start_time": "2022-09-22T17:29:50.007Z"
   },
   {
    "duration": 8,
    "start_time": "2022-09-22T17:29:54.310Z"
   },
   {
    "duration": 6,
    "start_time": "2022-09-22T17:29:56.881Z"
   },
   {
    "duration": 10,
    "start_time": "2022-09-22T17:29:59.749Z"
   },
   {
    "duration": 8,
    "start_time": "2022-09-22T17:30:02.633Z"
   },
   {
    "duration": 17,
    "start_time": "2022-09-22T17:30:05.852Z"
   },
   {
    "duration": 15,
    "start_time": "2022-09-22T17:30:09.094Z"
   },
   {
    "duration": 13,
    "start_time": "2022-09-22T17:30:13.293Z"
   },
   {
    "duration": 382,
    "start_time": "2022-09-22T17:30:16.196Z"
   },
   {
    "duration": 29,
    "start_time": "2022-09-22T17:30:21.559Z"
   },
   {
    "duration": 247,
    "start_time": "2022-09-22T17:30:24.395Z"
   },
   {
    "duration": 133,
    "start_time": "2022-09-22T17:30:28.039Z"
   },
   {
    "duration": 7,
    "start_time": "2022-09-22T17:30:32.238Z"
   },
   {
    "duration": 442,
    "start_time": "2022-09-22T17:30:36.268Z"
   },
   {
    "duration": 181,
    "start_time": "2022-09-22T17:30:41.846Z"
   },
   {
    "duration": 27,
    "start_time": "2022-09-22T17:30:49.479Z"
   },
   {
    "duration": 6,
    "start_time": "2022-09-22T17:30:55.560Z"
   },
   {
    "duration": 14,
    "start_time": "2022-09-22T17:34:58.750Z"
   },
   {
    "duration": 13,
    "start_time": "2022-09-22T17:41:15.471Z"
   },
   {
    "duration": 18,
    "start_time": "2022-09-22T17:41:38.444Z"
   },
   {
    "duration": 104,
    "start_time": "2022-09-22T17:41:49.653Z"
   },
   {
    "duration": 14,
    "start_time": "2022-09-22T17:41:53.658Z"
   },
   {
    "duration": 7,
    "start_time": "2022-09-22T17:41:58.689Z"
   },
   {
    "duration": 10,
    "start_time": "2022-09-22T17:42:01.939Z"
   },
   {
    "duration": 6,
    "start_time": "2022-09-22T17:42:05.887Z"
   },
   {
    "duration": 26,
    "start_time": "2022-09-22T17:42:08.054Z"
   },
   {
    "duration": 26,
    "start_time": "2022-09-22T17:42:26.692Z"
   },
   {
    "duration": 26,
    "start_time": "2022-09-22T17:42:41.057Z"
   },
   {
    "duration": 18,
    "start_time": "2022-09-22T17:43:02.649Z"
   },
   {
    "duration": 8,
    "start_time": "2022-09-22T17:43:50.533Z"
   },
   {
    "duration": 5,
    "start_time": "2022-09-22T17:43:52.763Z"
   },
   {
    "duration": 10,
    "start_time": "2022-09-22T17:43:54.581Z"
   },
   {
    "duration": 8,
    "start_time": "2022-09-22T17:43:57.113Z"
   },
   {
    "duration": 18,
    "start_time": "2022-09-22T17:43:59.396Z"
   },
   {
    "duration": 15,
    "start_time": "2022-09-22T17:44:01.961Z"
   },
   {
    "duration": 24,
    "start_time": "2022-09-22T17:44:15.505Z"
   },
   {
    "duration": 354,
    "start_time": "2022-09-22T17:44:25.442Z"
   },
   {
    "duration": 31,
    "start_time": "2022-09-22T17:44:31.173Z"
   },
   {
    "duration": 126,
    "start_time": "2022-09-22T17:44:44.939Z"
   },
   {
    "duration": 140,
    "start_time": "2022-09-22T17:44:52.690Z"
   },
   {
    "duration": 6,
    "start_time": "2022-09-22T17:45:05.330Z"
   },
   {
    "duration": 387,
    "start_time": "2022-09-22T17:45:13.917Z"
   },
   {
    "duration": 479,
    "start_time": "2022-09-22T17:46:24.995Z"
   },
   {
    "duration": 101,
    "start_time": "2022-09-22T17:46:35.179Z"
   },
   {
    "duration": 100,
    "start_time": "2022-09-22T17:46:40.029Z"
   },
   {
    "duration": 13,
    "start_time": "2022-09-22T17:46:40.131Z"
   },
   {
    "duration": 8,
    "start_time": "2022-09-22T17:46:40.146Z"
   },
   {
    "duration": 9,
    "start_time": "2022-09-22T17:46:40.156Z"
   },
   {
    "duration": 30,
    "start_time": "2022-09-22T17:46:40.167Z"
   },
   {
    "duration": 11,
    "start_time": "2022-09-22T17:46:40.199Z"
   },
   {
    "duration": 9,
    "start_time": "2022-09-22T17:46:40.212Z"
   },
   {
    "duration": 8,
    "start_time": "2022-09-22T17:46:40.222Z"
   },
   {
    "duration": 13,
    "start_time": "2022-09-22T17:46:40.231Z"
   },
   {
    "duration": 6,
    "start_time": "2022-09-22T17:46:40.246Z"
   },
   {
    "duration": 41,
    "start_time": "2022-09-22T17:46:40.254Z"
   },
   {
    "duration": 11,
    "start_time": "2022-09-22T17:46:40.297Z"
   },
   {
    "duration": 7,
    "start_time": "2022-09-22T17:46:40.310Z"
   },
   {
    "duration": 18,
    "start_time": "2022-09-22T17:46:40.318Z"
   },
   {
    "duration": 14,
    "start_time": "2022-09-22T17:46:40.337Z"
   },
   {
    "duration": 47,
    "start_time": "2022-09-22T17:46:40.353Z"
   },
   {
    "duration": 367,
    "start_time": "2022-09-22T17:46:40.402Z"
   },
   {
    "duration": 36,
    "start_time": "2022-09-22T17:46:40.771Z"
   },
   {
    "duration": 256,
    "start_time": "2022-09-22T17:46:40.808Z"
   },
   {
    "duration": 129,
    "start_time": "2022-09-22T17:46:41.066Z"
   },
   {
    "duration": 7,
    "start_time": "2022-09-22T17:46:41.197Z"
   },
   {
    "duration": 360,
    "start_time": "2022-09-22T17:46:41.206Z"
   },
   {
    "duration": 193,
    "start_time": "2022-09-22T17:46:41.567Z"
   },
   {
    "duration": 251,
    "start_time": "2022-09-22T17:46:41.762Z"
   },
   {
    "duration": 27,
    "start_time": "2022-09-22T17:46:42.018Z"
   },
   {
    "duration": 8,
    "start_time": "2022-09-22T17:46:42.050Z"
   },
   {
    "duration": 13,
    "start_time": "2022-09-22T17:46:42.060Z"
   },
   {
    "duration": 11,
    "start_time": "2022-09-22T17:46:42.095Z"
   },
   {
    "duration": 11,
    "start_time": "2022-09-22T17:54:18.679Z"
   },
   {
    "duration": 12,
    "start_time": "2022-09-22T17:54:44.653Z"
   },
   {
    "duration": 88,
    "start_time": "2022-09-22T17:56:38.026Z"
   },
   {
    "duration": 1308,
    "start_time": "2022-09-22T17:57:39.014Z"
   },
   {
    "duration": 13,
    "start_time": "2022-09-22T17:59:27.598Z"
   },
   {
    "duration": 12,
    "start_time": "2022-09-22T18:02:01.748Z"
   },
   {
    "duration": 16,
    "start_time": "2022-09-22T18:02:12.015Z"
   },
   {
    "duration": 3,
    "start_time": "2022-09-22T18:04:24.836Z"
   },
   {
    "duration": 6,
    "start_time": "2022-09-22T18:13:36.442Z"
   },
   {
    "duration": 15,
    "start_time": "2022-09-22T18:14:26.281Z"
   },
   {
    "duration": 98,
    "start_time": "2022-09-22T18:16:20.040Z"
   },
   {
    "duration": 8,
    "start_time": "2022-09-22T18:16:59.994Z"
   },
   {
    "duration": 5,
    "start_time": "2022-09-22T18:17:17.457Z"
   },
   {
    "duration": 5,
    "start_time": "2022-09-22T18:17:40.494Z"
   },
   {
    "duration": 11,
    "start_time": "2022-09-22T18:18:03.611Z"
   },
   {
    "duration": 107,
    "start_time": "2022-09-22T18:21:38.358Z"
   },
   {
    "duration": 23,
    "start_time": "2022-09-22T18:22:00.932Z"
   },
   {
    "duration": 17,
    "start_time": "2022-09-22T18:23:00.252Z"
   },
   {
    "duration": 12,
    "start_time": "2022-09-22T18:25:03.859Z"
   },
   {
    "duration": 10,
    "start_time": "2022-09-22T18:25:32.010Z"
   },
   {
    "duration": 10,
    "start_time": "2022-09-22T18:32:54.127Z"
   },
   {
    "duration": 13,
    "start_time": "2022-09-22T18:33:17.669Z"
   },
   {
    "duration": 718,
    "start_time": "2022-09-22T18:34:48.027Z"
   },
   {
    "duration": 13,
    "start_time": "2022-09-22T18:34:48.747Z"
   },
   {
    "duration": 8,
    "start_time": "2022-09-22T18:34:48.762Z"
   },
   {
    "duration": 8,
    "start_time": "2022-09-22T18:34:48.772Z"
   },
   {
    "duration": 5,
    "start_time": "2022-09-22T18:34:48.795Z"
   },
   {
    "duration": 27,
    "start_time": "2022-09-22T18:34:48.801Z"
   },
   {
    "duration": 10,
    "start_time": "2022-09-22T18:34:48.829Z"
   },
   {
    "duration": 10,
    "start_time": "2022-09-22T18:34:48.840Z"
   },
   {
    "duration": 23,
    "start_time": "2022-09-22T18:34:48.852Z"
   },
   {
    "duration": 19,
    "start_time": "2022-09-22T18:34:48.879Z"
   },
   {
    "duration": 10,
    "start_time": "2022-09-22T18:34:48.900Z"
   },
   {
    "duration": 28,
    "start_time": "2022-09-22T18:34:48.912Z"
   },
   {
    "duration": 7,
    "start_time": "2022-09-22T18:34:48.942Z"
   },
   {
    "duration": 19,
    "start_time": "2022-09-22T18:34:48.950Z"
   },
   {
    "duration": 25,
    "start_time": "2022-09-22T18:34:48.971Z"
   },
   {
    "duration": 12,
    "start_time": "2022-09-22T18:34:48.998Z"
   },
   {
    "duration": 356,
    "start_time": "2022-09-22T18:34:49.012Z"
   },
   {
    "duration": 34,
    "start_time": "2022-09-22T18:34:49.370Z"
   },
   {
    "duration": 270,
    "start_time": "2022-09-22T18:34:49.406Z"
   },
   {
    "duration": 116,
    "start_time": "2022-09-22T18:34:49.678Z"
   },
   {
    "duration": 6,
    "start_time": "2022-09-22T18:34:49.796Z"
   },
   {
    "duration": 356,
    "start_time": "2022-09-22T18:34:49.803Z"
   },
   {
    "duration": 220,
    "start_time": "2022-09-22T18:34:50.160Z"
   },
   {
    "duration": 216,
    "start_time": "2022-09-22T18:34:50.381Z"
   },
   {
    "duration": 23,
    "start_time": "2022-09-22T18:34:50.599Z"
   },
   {
    "duration": 6,
    "start_time": "2022-09-22T18:34:50.624Z"
   },
   {
    "duration": 5605,
    "start_time": "2022-09-22T18:34:50.631Z"
   },
   {
    "duration": 17,
    "start_time": "2022-09-22T18:34:56.239Z"
   },
   {
    "duration": 5728,
    "start_time": "2022-09-22T18:35:43.245Z"
   },
   {
    "duration": 5627,
    "start_time": "2022-09-22T18:36:31.551Z"
   },
   {
    "duration": 22,
    "start_time": "2022-09-22T18:36:49.167Z"
   },
   {
    "duration": 5731,
    "start_time": "2022-09-22T18:37:17.259Z"
   },
   {
    "duration": 23,
    "start_time": "2022-09-22T18:37:23.329Z"
   },
   {
    "duration": 5570,
    "start_time": "2022-09-22T18:40:39.751Z"
   },
   {
    "duration": 20,
    "start_time": "2022-09-22T18:41:38.161Z"
   },
   {
    "duration": 27065,
    "start_time": "2022-09-22T18:55:11.430Z"
   },
   {
    "duration": 25,
    "start_time": "2022-09-22T18:55:47.696Z"
   },
   {
    "duration": 13,
    "start_time": "2022-09-22T19:00:19.876Z"
   },
   {
    "duration": 3929,
    "start_time": "2022-09-22T19:02:43.773Z"
   },
   {
    "duration": 78,
    "start_time": "2022-09-22T19:03:13.784Z"
   },
   {
    "duration": 4167,
    "start_time": "2022-09-22T19:03:27.120Z"
   },
   {
    "duration": 76,
    "start_time": "2022-09-22T19:04:48.463Z"
   },
   {
    "duration": 4397,
    "start_time": "2022-09-22T19:05:36.156Z"
   },
   {
    "duration": 52,
    "start_time": "2022-09-22T19:11:31.763Z"
   },
   {
    "duration": 240,
    "start_time": "2022-09-22T19:22:50.138Z"
   },
   {
    "duration": 361,
    "start_time": "2022-09-22T19:23:47.371Z"
   },
   {
    "duration": 172,
    "start_time": "2022-09-22T19:23:59.494Z"
   },
   {
    "duration": 174,
    "start_time": "2022-09-22T19:24:48.834Z"
   },
   {
    "duration": 174,
    "start_time": "2022-09-22T19:25:17.812Z"
   },
   {
    "duration": 291,
    "start_time": "2022-09-22T19:25:28.338Z"
   },
   {
    "duration": 365,
    "start_time": "2022-09-22T19:26:05.965Z"
   },
   {
    "duration": 416,
    "start_time": "2022-09-22T19:28:36.513Z"
   },
   {
    "duration": 332,
    "start_time": "2022-09-22T19:28:51.905Z"
   },
   {
    "duration": 664,
    "start_time": "2022-09-22T19:29:25.744Z"
   },
   {
    "duration": 358,
    "start_time": "2022-09-22T19:29:47.983Z"
   },
   {
    "duration": 348,
    "start_time": "2022-09-22T19:30:07.969Z"
   },
   {
    "duration": 350,
    "start_time": "2022-09-22T19:30:24.856Z"
   },
   {
    "duration": 345,
    "start_time": "2022-09-22T19:31:34.826Z"
   },
   {
    "duration": 313,
    "start_time": "2022-09-23T03:34:04.605Z"
   },
   {
    "duration": 330,
    "start_time": "2022-09-23T03:34:36.154Z"
   },
   {
    "duration": 320,
    "start_time": "2022-09-23T03:34:56.687Z"
   },
   {
    "duration": 312,
    "start_time": "2022-09-23T03:36:25.657Z"
   },
   {
    "duration": 313,
    "start_time": "2022-09-23T03:36:57.263Z"
   },
   {
    "duration": 327,
    "start_time": "2022-09-23T03:37:14.805Z"
   },
   {
    "duration": 303,
    "start_time": "2022-09-23T03:37:25.725Z"
   },
   {
    "duration": 732,
    "start_time": "2022-09-23T03:37:57.066Z"
   },
   {
    "duration": 356,
    "start_time": "2022-09-23T03:39:50.820Z"
   },
   {
    "duration": 339,
    "start_time": "2022-09-23T03:41:08.666Z"
   },
   {
    "duration": 305,
    "start_time": "2022-09-23T03:42:35.207Z"
   },
   {
    "duration": 321,
    "start_time": "2022-09-23T03:42:53.466Z"
   },
   {
    "duration": 207,
    "start_time": "2022-09-23T03:43:32.303Z"
   },
   {
    "duration": 11,
    "start_time": "2022-09-23T04:05:04.471Z"
   },
   {
    "duration": 216,
    "start_time": "2022-09-23T04:08:48.423Z"
   },
   {
    "duration": 209,
    "start_time": "2022-09-23T04:11:54.950Z"
   },
   {
    "duration": 227,
    "start_time": "2022-09-23T04:12:05.288Z"
   },
   {
    "duration": 202,
    "start_time": "2022-09-23T04:13:15.083Z"
   },
   {
    "duration": 225,
    "start_time": "2022-09-23T04:14:16.240Z"
   },
   {
    "duration": 215,
    "start_time": "2022-09-23T04:14:41.435Z"
   },
   {
    "duration": 227,
    "start_time": "2022-09-23T04:14:56.266Z"
   },
   {
    "duration": 229,
    "start_time": "2022-09-23T04:16:55.423Z"
   },
   {
    "duration": 669,
    "start_time": "2022-09-23T04:24:54.221Z"
   },
   {
    "duration": 224,
    "start_time": "2022-09-23T04:25:59.999Z"
   },
   {
    "duration": 218,
    "start_time": "2022-09-23T04:27:15.438Z"
   },
   {
    "duration": 236,
    "start_time": "2022-09-23T04:28:39.394Z"
   },
   {
    "duration": 212,
    "start_time": "2022-09-23T04:29:54.245Z"
   },
   {
    "duration": 230,
    "start_time": "2022-09-23T04:36:21.429Z"
   },
   {
    "duration": 3003,
    "start_time": "2022-09-23T04:40:05.767Z"
   },
   {
    "duration": 160,
    "start_time": "2022-09-23T04:40:45.579Z"
   },
   {
    "duration": 18,
    "start_time": "2022-09-23T04:46:03.230Z"
   },
   {
    "duration": 12,
    "start_time": "2022-09-23T04:46:22.803Z"
   },
   {
    "duration": 755,
    "start_time": "2022-09-23T04:46:44.159Z"
   },
   {
    "duration": 14,
    "start_time": "2022-09-23T04:46:44.916Z"
   },
   {
    "duration": 7,
    "start_time": "2022-09-23T04:46:44.932Z"
   },
   {
    "duration": 10,
    "start_time": "2022-09-23T04:46:44.941Z"
   },
   {
    "duration": 5,
    "start_time": "2022-09-23T04:46:44.953Z"
   },
   {
    "duration": 42,
    "start_time": "2022-09-23T04:46:44.960Z"
   },
   {
    "duration": 8,
    "start_time": "2022-09-23T04:46:45.004Z"
   },
   {
    "duration": 33,
    "start_time": "2022-09-23T04:46:45.014Z"
   },
   {
    "duration": 12,
    "start_time": "2022-09-23T04:46:45.049Z"
   },
   {
    "duration": 7,
    "start_time": "2022-09-23T04:46:45.064Z"
   },
   {
    "duration": 6,
    "start_time": "2022-09-23T04:46:45.073Z"
   },
   {
    "duration": 20,
    "start_time": "2022-09-23T04:46:45.080Z"
   },
   {
    "duration": 8,
    "start_time": "2022-09-23T04:46:45.102Z"
   },
   {
    "duration": 19,
    "start_time": "2022-09-23T04:46:45.112Z"
   },
   {
    "duration": 15,
    "start_time": "2022-09-23T04:46:45.133Z"
   },
   {
    "duration": 47,
    "start_time": "2022-09-23T04:46:45.150Z"
   },
   {
    "duration": 357,
    "start_time": "2022-09-23T04:46:45.199Z"
   },
   {
    "duration": 38,
    "start_time": "2022-09-23T04:46:45.558Z"
   },
   {
    "duration": 275,
    "start_time": "2022-09-23T04:46:45.597Z"
   },
   {
    "duration": 119,
    "start_time": "2022-09-23T04:46:45.874Z"
   },
   {
    "duration": 5,
    "start_time": "2022-09-23T04:46:45.995Z"
   },
   {
    "duration": 360,
    "start_time": "2022-09-23T04:46:46.002Z"
   },
   {
    "duration": 235,
    "start_time": "2022-09-23T04:46:46.364Z"
   },
   {
    "duration": 223,
    "start_time": "2022-09-23T04:46:46.600Z"
   },
   {
    "duration": 24,
    "start_time": "2022-09-23T04:46:46.825Z"
   },
   {
    "duration": 6,
    "start_time": "2022-09-23T04:46:46.851Z"
   },
   {
    "duration": 25873,
    "start_time": "2022-09-23T04:46:46.859Z"
   },
   {
    "duration": 7,
    "start_time": "2022-09-23T04:47:12.735Z"
   },
   {
    "duration": 59,
    "start_time": "2022-09-23T04:47:12.743Z"
   },
   {
    "duration": 98,
    "start_time": "2022-09-23T04:47:12.804Z"
   },
   {
    "duration": 0,
    "start_time": "2022-09-23T04:47:12.905Z"
   },
   {
    "duration": 0,
    "start_time": "2022-09-23T04:47:12.906Z"
   },
   {
    "duration": 0,
    "start_time": "2022-09-23T04:47:12.907Z"
   },
   {
    "duration": 215,
    "start_time": "2022-09-23T04:47:29.390Z"
   },
   {
    "duration": 19,
    "start_time": "2022-09-23T04:47:34.814Z"
   },
   {
    "duration": 7,
    "start_time": "2022-09-23T04:50:31.232Z"
   },
   {
    "duration": 24,
    "start_time": "2022-09-23T04:51:15.079Z"
   },
   {
    "duration": 22,
    "start_time": "2022-09-23T04:52:14.552Z"
   },
   {
    "duration": 3416,
    "start_time": "2022-09-23T04:52:55.129Z"
   },
   {
    "duration": 235,
    "start_time": "2022-09-23T04:53:31.728Z"
   },
   {
    "duration": 512,
    "start_time": "2022-09-23T04:54:01.106Z"
   },
   {
    "duration": 576,
    "start_time": "2022-09-23T04:54:32.746Z"
   },
   {
    "duration": 640,
    "start_time": "2022-09-23T04:56:55.844Z"
   },
   {
    "duration": 768,
    "start_time": "2022-09-23T04:57:03.819Z"
   },
   {
    "duration": 1090,
    "start_time": "2022-09-23T04:57:35.160Z"
   },
   {
    "duration": 768,
    "start_time": "2022-09-23T04:57:50.002Z"
   },
   {
    "duration": 628,
    "start_time": "2022-09-23T04:58:25.834Z"
   },
   {
    "duration": 969,
    "start_time": "2022-09-23T04:58:46.074Z"
   },
   {
    "duration": 423,
    "start_time": "2022-09-23T04:59:14.227Z"
   },
   {
    "duration": 6,
    "start_time": "2022-09-23T05:22:11.007Z"
   },
   {
    "duration": 18,
    "start_time": "2022-09-23T05:22:58.409Z"
   },
   {
    "duration": 26,
    "start_time": "2022-09-23T05:25:05.587Z"
   },
   {
    "duration": 24,
    "start_time": "2022-09-23T05:26:41.089Z"
   },
   {
    "duration": 474,
    "start_time": "2022-09-23T05:26:47.827Z"
   },
   {
    "duration": 757,
    "start_time": "2022-09-23T05:27:32.900Z"
   },
   {
    "duration": 15,
    "start_time": "2022-09-23T05:27:33.660Z"
   },
   {
    "duration": 18,
    "start_time": "2022-09-23T05:27:33.677Z"
   },
   {
    "duration": 9,
    "start_time": "2022-09-23T05:27:33.697Z"
   },
   {
    "duration": 5,
    "start_time": "2022-09-23T05:27:33.707Z"
   },
   {
    "duration": 13,
    "start_time": "2022-09-23T05:27:33.713Z"
   },
   {
    "duration": 7,
    "start_time": "2022-09-23T05:27:33.727Z"
   },
   {
    "duration": 9,
    "start_time": "2022-09-23T05:27:33.735Z"
   },
   {
    "duration": 11,
    "start_time": "2022-09-23T05:27:33.745Z"
   },
   {
    "duration": 39,
    "start_time": "2022-09-23T05:27:33.758Z"
   },
   {
    "duration": 5,
    "start_time": "2022-09-23T05:27:33.798Z"
   },
   {
    "duration": 10,
    "start_time": "2022-09-23T05:27:33.804Z"
   },
   {
    "duration": 6,
    "start_time": "2022-09-23T05:27:33.816Z"
   },
   {
    "duration": 19,
    "start_time": "2022-09-23T05:27:33.824Z"
   },
   {
    "duration": 14,
    "start_time": "2022-09-23T05:27:33.844Z"
   },
   {
    "duration": 46,
    "start_time": "2022-09-23T05:27:33.860Z"
   },
   {
    "duration": 348,
    "start_time": "2022-09-23T05:27:33.908Z"
   },
   {
    "duration": 37,
    "start_time": "2022-09-23T05:27:34.258Z"
   },
   {
    "duration": 268,
    "start_time": "2022-09-23T05:27:34.297Z"
   },
   {
    "duration": 118,
    "start_time": "2022-09-23T05:27:34.566Z"
   },
   {
    "duration": 9,
    "start_time": "2022-09-23T05:27:34.685Z"
   },
   {
    "duration": 347,
    "start_time": "2022-09-23T05:27:34.696Z"
   },
   {
    "duration": 217,
    "start_time": "2022-09-23T05:27:35.044Z"
   },
   {
    "duration": 207,
    "start_time": "2022-09-23T05:27:35.263Z"
   },
   {
    "duration": 31,
    "start_time": "2022-09-23T05:27:35.472Z"
   },
   {
    "duration": 5,
    "start_time": "2022-09-23T05:27:35.505Z"
   },
   {
    "duration": 26690,
    "start_time": "2022-09-23T05:27:35.512Z"
   },
   {
    "duration": 8,
    "start_time": "2022-09-23T05:28:02.205Z"
   },
   {
    "duration": 54,
    "start_time": "2022-09-23T05:28:02.215Z"
   },
   {
    "duration": 568,
    "start_time": "2022-09-23T05:28:02.271Z"
   },
   {
    "duration": 0,
    "start_time": "2022-09-23T05:28:02.841Z"
   },
   {
    "duration": 0,
    "start_time": "2022-09-23T05:28:02.842Z"
   },
   {
    "duration": 0,
    "start_time": "2022-09-23T05:28:02.843Z"
   },
   {
    "duration": 0,
    "start_time": "2022-09-23T05:28:02.845Z"
   },
   {
    "duration": 0,
    "start_time": "2022-09-23T05:28:02.846Z"
   },
   {
    "duration": 103,
    "start_time": "2022-09-23T05:28:52.107Z"
   },
   {
    "duration": 14,
    "start_time": "2022-09-23T05:28:52.212Z"
   },
   {
    "duration": 8,
    "start_time": "2022-09-23T05:28:52.227Z"
   },
   {
    "duration": 10,
    "start_time": "2022-09-23T05:28:52.237Z"
   },
   {
    "duration": 5,
    "start_time": "2022-09-23T05:28:52.249Z"
   },
   {
    "duration": 43,
    "start_time": "2022-09-23T05:28:52.255Z"
   },
   {
    "duration": 8,
    "start_time": "2022-09-23T05:28:52.300Z"
   },
   {
    "duration": 8,
    "start_time": "2022-09-23T05:28:52.309Z"
   },
   {
    "duration": 12,
    "start_time": "2022-09-23T05:28:52.318Z"
   },
   {
    "duration": 7,
    "start_time": "2022-09-23T05:28:52.333Z"
   },
   {
    "duration": 7,
    "start_time": "2022-09-23T05:28:52.342Z"
   },
   {
    "duration": 10,
    "start_time": "2022-09-23T05:28:52.351Z"
   },
   {
    "duration": 7,
    "start_time": "2022-09-23T05:28:52.396Z"
   },
   {
    "duration": 17,
    "start_time": "2022-09-23T05:28:52.405Z"
   },
   {
    "duration": 14,
    "start_time": "2022-09-23T05:28:52.424Z"
   },
   {
    "duration": 18,
    "start_time": "2022-09-23T05:28:52.440Z"
   },
   {
    "duration": 381,
    "start_time": "2022-09-23T05:28:52.460Z"
   },
   {
    "duration": 26,
    "start_time": "2022-09-23T05:28:52.843Z"
   },
   {
    "duration": 233,
    "start_time": "2022-09-23T05:28:52.872Z"
   },
   {
    "duration": 121,
    "start_time": "2022-09-23T05:28:53.107Z"
   },
   {
    "duration": 5,
    "start_time": "2022-09-23T05:28:53.230Z"
   },
   {
    "duration": 349,
    "start_time": "2022-09-23T05:28:53.236Z"
   },
   {
    "duration": 147,
    "start_time": "2022-09-23T05:28:53.587Z"
   },
   {
    "duration": 217,
    "start_time": "2022-09-23T05:28:53.735Z"
   },
   {
    "duration": 23,
    "start_time": "2022-09-23T05:28:53.953Z"
   },
   {
    "duration": 17,
    "start_time": "2022-09-23T05:28:53.978Z"
   },
   {
    "duration": 26305,
    "start_time": "2022-09-23T05:28:53.996Z"
   },
   {
    "duration": 7,
    "start_time": "2022-09-23T05:29:20.305Z"
   },
   {
    "duration": 54,
    "start_time": "2022-09-23T05:29:20.313Z"
   },
   {
    "duration": 96,
    "start_time": "2022-09-23T05:29:20.368Z"
   },
   {
    "duration": 0,
    "start_time": "2022-09-23T05:29:20.465Z"
   },
   {
    "duration": 0,
    "start_time": "2022-09-23T05:29:20.467Z"
   },
   {
    "duration": 0,
    "start_time": "2022-09-23T05:29:20.468Z"
   },
   {
    "duration": 0,
    "start_time": "2022-09-23T05:29:20.470Z"
   },
   {
    "duration": 0,
    "start_time": "2022-09-23T05:29:20.472Z"
   },
   {
    "duration": 214,
    "start_time": "2022-09-23T05:32:11.309Z"
   },
   {
    "duration": 311,
    "start_time": "2022-09-23T05:32:18.787Z"
   },
   {
    "duration": 7,
    "start_time": "2022-09-23T05:32:26.011Z"
   },
   {
    "duration": 49,
    "start_time": "2022-09-23T05:32:28.978Z"
   },
   {
    "duration": 1344,
    "start_time": "2022-09-23T05:34:40.822Z"
   },
   {
    "duration": 6074,
    "start_time": "2022-09-23T05:35:04.609Z"
   },
   {
    "duration": 195,
    "start_time": "2022-09-23T05:35:26.429Z"
   },
   {
    "duration": 184,
    "start_time": "2022-09-23T05:35:48.993Z"
   },
   {
    "duration": 295,
    "start_time": "2022-09-23T05:37:30.629Z"
   },
   {
    "duration": 257,
    "start_time": "2022-09-23T05:40:23.428Z"
   },
   {
    "duration": 776,
    "start_time": "2022-09-23T05:41:00.361Z"
   },
   {
    "duration": 15,
    "start_time": "2022-09-23T05:41:01.139Z"
   },
   {
    "duration": 7,
    "start_time": "2022-09-23T05:41:01.156Z"
   },
   {
    "duration": 9,
    "start_time": "2022-09-23T05:41:01.166Z"
   },
   {
    "duration": 5,
    "start_time": "2022-09-23T05:41:01.195Z"
   },
   {
    "duration": 13,
    "start_time": "2022-09-23T05:41:01.201Z"
   },
   {
    "duration": 15,
    "start_time": "2022-09-23T05:41:01.216Z"
   },
   {
    "duration": 9,
    "start_time": "2022-09-23T05:41:01.232Z"
   },
   {
    "duration": 15,
    "start_time": "2022-09-23T05:41:01.243Z"
   },
   {
    "duration": 8,
    "start_time": "2022-09-23T05:41:01.260Z"
   },
   {
    "duration": 6,
    "start_time": "2022-09-23T05:41:01.295Z"
   },
   {
    "duration": 17,
    "start_time": "2022-09-23T05:41:01.302Z"
   },
   {
    "duration": 13,
    "start_time": "2022-09-23T05:41:01.320Z"
   },
   {
    "duration": 37,
    "start_time": "2022-09-23T05:41:01.335Z"
   },
   {
    "duration": 14,
    "start_time": "2022-09-23T05:41:01.373Z"
   },
   {
    "duration": 21,
    "start_time": "2022-09-23T05:41:01.395Z"
   },
   {
    "duration": 343,
    "start_time": "2022-09-23T05:41:01.418Z"
   },
   {
    "duration": 34,
    "start_time": "2022-09-23T05:41:01.763Z"
   },
   {
    "duration": 282,
    "start_time": "2022-09-23T05:41:01.799Z"
   },
   {
    "duration": 117,
    "start_time": "2022-09-23T05:41:02.083Z"
   },
   {
    "duration": 7,
    "start_time": "2022-09-23T05:41:02.202Z"
   },
   {
    "duration": 350,
    "start_time": "2022-09-23T05:41:02.211Z"
   },
   {
    "duration": 217,
    "start_time": "2022-09-23T05:41:02.563Z"
   },
   {
    "duration": 226,
    "start_time": "2022-09-23T05:41:02.782Z"
   },
   {
    "duration": 25,
    "start_time": "2022-09-23T05:41:03.010Z"
   },
   {
    "duration": 7,
    "start_time": "2022-09-23T05:41:03.036Z"
   },
   {
    "duration": 25664,
    "start_time": "2022-09-23T05:41:03.044Z"
   },
   {
    "duration": 6,
    "start_time": "2022-09-23T05:41:28.711Z"
   },
   {
    "duration": 50,
    "start_time": "2022-09-23T05:41:28.719Z"
   },
   {
    "duration": 232,
    "start_time": "2022-09-23T05:41:28.770Z"
   },
   {
    "duration": 222,
    "start_time": "2022-09-23T05:41:29.004Z"
   },
   {
    "duration": 6,
    "start_time": "2022-09-23T05:41:29.227Z"
   },
   {
    "duration": 244,
    "start_time": "2022-09-23T05:41:29.235Z"
   },
   {
    "duration": 553,
    "start_time": "2022-09-23T05:41:29.481Z"
   },
   {
    "duration": 285,
    "start_time": "2022-09-23T05:41:41.733Z"
   },
   {
    "duration": 25,
    "start_time": "2022-09-23T05:46:05.922Z"
   },
   {
    "duration": 10,
    "start_time": "2022-09-23T05:46:31.186Z"
   },
   {
    "duration": 7,
    "start_time": "2022-09-23T05:47:53.757Z"
   },
   {
    "duration": 74,
    "start_time": "2022-09-23T06:12:59.601Z"
   },
   {
    "duration": 10,
    "start_time": "2022-09-23T06:14:19.296Z"
   },
   {
    "duration": 272,
    "start_time": "2022-09-23T06:14:29.378Z"
   },
   {
    "duration": 9,
    "start_time": "2022-09-23T06:15:14.449Z"
   },
   {
    "duration": 304,
    "start_time": "2022-09-23T06:15:42.726Z"
   },
   {
    "duration": 1558,
    "start_time": "2022-09-23T06:16:36.723Z"
   },
   {
    "duration": 1173,
    "start_time": "2022-09-23T06:16:50.094Z"
   },
   {
    "duration": 77,
    "start_time": "2022-09-23T06:17:23.152Z"
   },
   {
    "duration": 10,
    "start_time": "2022-09-23T06:17:42.365Z"
   },
   {
    "duration": 4959,
    "start_time": "2022-09-23T06:18:55.394Z"
   },
   {
    "duration": 10,
    "start_time": "2022-09-23T06:22:36.393Z"
   },
   {
    "duration": 1216,
    "start_time": "2022-09-23T06:24:00.975Z"
   },
   {
    "duration": 8,
    "start_time": "2022-09-23T06:24:55.765Z"
   },
   {
    "duration": 279,
    "start_time": "2022-09-23T06:25:37.632Z"
   },
   {
    "duration": 339,
    "start_time": "2022-09-23T06:26:00.688Z"
   },
   {
    "duration": 36,
    "start_time": "2022-09-23T06:26:59.157Z"
   },
   {
    "duration": 312,
    "start_time": "2022-09-23T06:33:40.257Z"
   },
   {
    "duration": 8,
    "start_time": "2022-09-23T06:34:01.780Z"
   },
   {
    "duration": 313,
    "start_time": "2022-09-23T06:34:45.525Z"
   },
   {
    "duration": 6,
    "start_time": "2022-09-23T06:34:50.869Z"
   },
   {
    "duration": 7,
    "start_time": "2022-09-23T06:35:03.477Z"
   },
   {
    "duration": 1430,
    "start_time": "2022-09-23T06:35:36.342Z"
   },
   {
    "duration": 1685,
    "start_time": "2022-09-23T06:36:28.251Z"
   },
   {
    "duration": 781,
    "start_time": "2022-09-23T06:36:49.729Z"
   },
   {
    "duration": 14,
    "start_time": "2022-09-23T06:36:50.512Z"
   },
   {
    "duration": 8,
    "start_time": "2022-09-23T06:36:50.528Z"
   },
   {
    "duration": 12,
    "start_time": "2022-09-23T06:36:50.538Z"
   },
   {
    "duration": 6,
    "start_time": "2022-09-23T06:36:50.553Z"
   },
   {
    "duration": 40,
    "start_time": "2022-09-23T06:36:50.560Z"
   },
   {
    "duration": 8,
    "start_time": "2022-09-23T06:36:50.601Z"
   },
   {
    "duration": 9,
    "start_time": "2022-09-23T06:36:50.610Z"
   },
   {
    "duration": 12,
    "start_time": "2022-09-23T06:36:50.620Z"
   },
   {
    "duration": 7,
    "start_time": "2022-09-23T06:36:50.633Z"
   },
   {
    "duration": 5,
    "start_time": "2022-09-23T06:36:50.641Z"
   },
   {
    "duration": 49,
    "start_time": "2022-09-23T06:36:50.647Z"
   },
   {
    "duration": 7,
    "start_time": "2022-09-23T06:36:50.698Z"
   },
   {
    "duration": 17,
    "start_time": "2022-09-23T06:36:50.708Z"
   },
   {
    "duration": 14,
    "start_time": "2022-09-23T06:36:50.727Z"
   },
   {
    "duration": 11,
    "start_time": "2022-09-23T06:36:50.743Z"
   },
   {
    "duration": 394,
    "start_time": "2022-09-23T06:36:50.756Z"
   },
   {
    "duration": 25,
    "start_time": "2022-09-23T06:36:51.152Z"
   },
   {
    "duration": 307,
    "start_time": "2022-09-23T06:36:51.178Z"
   },
   {
    "duration": 121,
    "start_time": "2022-09-23T06:36:51.487Z"
   },
   {
    "duration": 6,
    "start_time": "2022-09-23T06:36:51.609Z"
   },
   {
    "duration": 363,
    "start_time": "2022-09-23T06:36:51.616Z"
   },
   {
    "duration": 224,
    "start_time": "2022-09-23T06:36:51.981Z"
   },
   {
    "duration": 221,
    "start_time": "2022-09-23T06:36:52.206Z"
   },
   {
    "duration": 22,
    "start_time": "2022-09-23T06:36:52.429Z"
   },
   {
    "duration": 22,
    "start_time": "2022-09-23T06:36:52.452Z"
   },
   {
    "duration": 25830,
    "start_time": "2022-09-23T06:36:52.475Z"
   },
   {
    "duration": 6,
    "start_time": "2022-09-23T06:37:18.307Z"
   },
   {
    "duration": 52,
    "start_time": "2022-09-23T06:37:18.315Z"
   },
   {
    "duration": 251,
    "start_time": "2022-09-23T06:37:18.368Z"
   },
   {
    "duration": 254,
    "start_time": "2022-09-23T06:37:18.620Z"
   },
   {
    "duration": 6,
    "start_time": "2022-09-23T06:37:18.876Z"
   },
   {
    "duration": 302,
    "start_time": "2022-09-23T06:37:18.895Z"
   },
   {
    "duration": 1545,
    "start_time": "2022-09-23T06:37:19.199Z"
   },
   {
    "duration": 0,
    "start_time": "2022-09-23T06:37:20.746Z"
   },
   {
    "duration": 0,
    "start_time": "2022-09-23T06:37:20.747Z"
   },
   {
    "duration": 2516,
    "start_time": "2022-09-23T06:39:14.065Z"
   },
   {
    "duration": 3504,
    "start_time": "2022-09-23T06:41:01.920Z"
   },
   {
    "duration": 6,
    "start_time": "2022-09-23T06:41:56.253Z"
   },
   {
    "duration": 2923,
    "start_time": "2022-09-23T06:43:36.614Z"
   },
   {
    "duration": 50,
    "start_time": "2022-09-23T06:48:30.811Z"
   },
   {
    "duration": 8,
    "start_time": "2022-09-23T06:48:34.034Z"
   },
   {
    "duration": 742,
    "start_time": "2022-09-23T06:48:44.686Z"
   },
   {
    "duration": 14,
    "start_time": "2022-09-23T06:48:45.430Z"
   },
   {
    "duration": 7,
    "start_time": "2022-09-23T06:48:45.445Z"
   },
   {
    "duration": 8,
    "start_time": "2022-09-23T06:48:45.454Z"
   },
   {
    "duration": 4,
    "start_time": "2022-09-23T06:48:45.464Z"
   },
   {
    "duration": 32,
    "start_time": "2022-09-23T06:48:45.469Z"
   },
   {
    "duration": 7,
    "start_time": "2022-09-23T06:48:45.502Z"
   },
   {
    "duration": 13,
    "start_time": "2022-09-23T06:48:45.511Z"
   },
   {
    "duration": 11,
    "start_time": "2022-09-23T06:48:45.525Z"
   },
   {
    "duration": 10,
    "start_time": "2022-09-23T06:48:45.538Z"
   },
   {
    "duration": 6,
    "start_time": "2022-09-23T06:48:45.549Z"
   },
   {
    "duration": 9,
    "start_time": "2022-09-23T06:48:45.556Z"
   },
   {
    "duration": 31,
    "start_time": "2022-09-23T06:48:45.566Z"
   },
   {
    "duration": 19,
    "start_time": "2022-09-23T06:48:45.598Z"
   },
   {
    "duration": 13,
    "start_time": "2022-09-23T06:48:45.619Z"
   },
   {
    "duration": 11,
    "start_time": "2022-09-23T06:48:45.633Z"
   },
   {
    "duration": 395,
    "start_time": "2022-09-23T06:48:45.645Z"
   },
   {
    "duration": 26,
    "start_time": "2022-09-23T06:48:46.042Z"
   },
   {
    "duration": 278,
    "start_time": "2022-09-23T06:48:46.070Z"
   },
   {
    "duration": 119,
    "start_time": "2022-09-23T06:48:46.350Z"
   },
   {
    "duration": 7,
    "start_time": "2022-09-23T06:48:46.471Z"
   },
   {
    "duration": 383,
    "start_time": "2022-09-23T06:48:46.480Z"
   },
   {
    "duration": 223,
    "start_time": "2022-09-23T06:48:46.864Z"
   },
   {
    "duration": 217,
    "start_time": "2022-09-23T06:48:47.095Z"
   },
   {
    "duration": 23,
    "start_time": "2022-09-23T06:48:47.314Z"
   },
   {
    "duration": 5,
    "start_time": "2022-09-23T06:48:47.339Z"
   },
   {
    "duration": 26959,
    "start_time": "2022-09-23T06:48:47.346Z"
   },
   {
    "duration": 8,
    "start_time": "2022-09-23T06:49:14.308Z"
   },
   {
    "duration": 52,
    "start_time": "2022-09-23T06:49:14.318Z"
   },
   {
    "duration": 245,
    "start_time": "2022-09-23T06:49:14.371Z"
   },
   {
    "duration": 240,
    "start_time": "2022-09-23T06:49:14.618Z"
   },
   {
    "duration": 7,
    "start_time": "2022-09-23T06:49:14.859Z"
   },
   {
    "duration": 294,
    "start_time": "2022-09-23T06:49:14.867Z"
   },
   {
    "duration": 82,
    "start_time": "2022-09-23T06:49:15.163Z"
   },
   {
    "duration": 0,
    "start_time": "2022-09-23T06:49:15.246Z"
   },
   {
    "duration": 0,
    "start_time": "2022-09-23T06:49:15.247Z"
   },
   {
    "duration": 2915,
    "start_time": "2022-09-23T06:51:09.139Z"
   },
   {
    "duration": 487,
    "start_time": "2022-09-23T06:53:20.312Z"
   },
   {
    "duration": 410,
    "start_time": "2022-09-23T06:55:58.147Z"
   },
   {
    "duration": 417,
    "start_time": "2022-09-23T06:56:21.297Z"
   },
   {
    "duration": 262,
    "start_time": "2022-09-23T06:56:58.651Z"
   },
   {
    "duration": 344,
    "start_time": "2022-09-23T06:57:19.991Z"
   },
   {
    "duration": 256,
    "start_time": "2022-09-23T06:57:28.605Z"
   },
   {
    "duration": 267,
    "start_time": "2022-09-23T06:57:35.717Z"
   },
   {
    "duration": 302,
    "start_time": "2022-09-23T06:57:44.841Z"
   },
   {
    "duration": 257,
    "start_time": "2022-09-23T06:57:57.157Z"
   },
   {
    "duration": 13,
    "start_time": "2022-09-23T06:58:25.059Z"
   },
   {
    "duration": 9,
    "start_time": "2022-09-23T07:14:45.046Z"
   },
   {
    "duration": 10,
    "start_time": "2022-09-23T08:00:16.371Z"
   },
   {
    "duration": 1381,
    "start_time": "2022-09-23T08:01:09.296Z"
   },
   {
    "duration": 563,
    "start_time": "2022-09-23T08:01:25.892Z"
   },
   {
    "duration": 132,
    "start_time": "2022-09-23T08:01:35.650Z"
   },
   {
    "duration": 254,
    "start_time": "2022-09-23T08:03:35.391Z"
   },
   {
    "duration": 182,
    "start_time": "2022-09-23T08:03:57.589Z"
   },
   {
    "duration": 4007,
    "start_time": "2022-09-23T08:06:21.548Z"
   },
   {
    "duration": 260,
    "start_time": "2022-09-23T08:06:41.949Z"
   },
   {
    "duration": 370,
    "start_time": "2022-09-23T08:08:10.406Z"
   },
   {
    "duration": 674,
    "start_time": "2022-09-23T08:08:43.434Z"
   },
   {
    "duration": 150,
    "start_time": "2022-09-23T08:10:05.272Z"
   },
   {
    "duration": 148,
    "start_time": "2022-09-23T08:10:22.474Z"
   },
   {
    "duration": 188,
    "start_time": "2022-09-23T08:11:03.887Z"
   },
   {
    "duration": 187,
    "start_time": "2022-09-23T08:13:18.777Z"
   },
   {
    "duration": 156,
    "start_time": "2022-09-23T08:13:39.373Z"
   },
   {
    "duration": 175,
    "start_time": "2022-09-23T08:15:45.905Z"
   },
   {
    "duration": 223,
    "start_time": "2022-09-23T08:17:32.767Z"
   },
   {
    "duration": 176,
    "start_time": "2022-09-23T08:17:53.447Z"
   },
   {
    "duration": 184,
    "start_time": "2022-09-23T08:18:10.121Z"
   },
   {
    "duration": 14,
    "start_time": "2022-09-23T08:27:31.485Z"
   },
   {
    "duration": 9,
    "start_time": "2022-09-23T08:27:59.372Z"
   },
   {
    "duration": 19,
    "start_time": "2022-09-23T08:28:22.308Z"
   },
   {
    "duration": 7,
    "start_time": "2022-09-23T08:28:56.220Z"
   },
   {
    "duration": 86,
    "start_time": "2022-09-23T08:31:08.978Z"
   },
   {
    "duration": 14,
    "start_time": "2022-09-23T08:34:48.039Z"
   },
   {
    "duration": 18,
    "start_time": "2022-09-23T08:35:31.358Z"
   },
   {
    "duration": 109,
    "start_time": "2022-09-23T08:37:26.060Z"
   },
   {
    "duration": 7,
    "start_time": "2022-09-23T08:38:35.058Z"
   },
   {
    "duration": 6,
    "start_time": "2022-09-23T08:39:58.322Z"
   },
   {
    "duration": 4390,
    "start_time": "2022-09-23T08:44:12.728Z"
   },
   {
    "duration": 12,
    "start_time": "2022-09-23T08:49:48.367Z"
   },
   {
    "duration": 5,
    "start_time": "2022-09-23T08:50:10.712Z"
   },
   {
    "duration": 129,
    "start_time": "2022-09-23T08:50:29.766Z"
   },
   {
    "duration": 270,
    "start_time": "2022-09-23T08:50:49.631Z"
   },
   {
    "duration": 15,
    "start_time": "2022-09-23T09:01:27.401Z"
   },
   {
    "duration": 308,
    "start_time": "2022-09-23T09:10:52.924Z"
   },
   {
    "duration": 13,
    "start_time": "2022-09-23T09:11:34.205Z"
   },
   {
    "duration": 319,
    "start_time": "2022-09-23T09:11:57.254Z"
   },
   {
    "duration": 579,
    "start_time": "2022-09-23T09:12:43.367Z"
   },
   {
    "duration": 377,
    "start_time": "2022-09-23T09:13:25.818Z"
   },
   {
    "duration": 317,
    "start_time": "2022-09-23T09:14:28.767Z"
   },
   {
    "duration": 394,
    "start_time": "2022-09-23T09:15:26.983Z"
   },
   {
    "duration": 1367,
    "start_time": "2022-09-23T09:16:45.291Z"
   },
   {
    "duration": 1522,
    "start_time": "2022-09-23T09:17:06.172Z"
   },
   {
    "duration": 1529,
    "start_time": "2022-09-23T09:26:40.584Z"
   },
   {
    "duration": 1035,
    "start_time": "2022-09-23T09:27:28.481Z"
   },
   {
    "duration": 945,
    "start_time": "2022-09-23T09:28:13.198Z"
   },
   {
    "duration": 944,
    "start_time": "2022-09-23T09:29:10.649Z"
   },
   {
    "duration": 11,
    "start_time": "2022-09-23T09:29:30.578Z"
   },
   {
    "duration": 13,
    "start_time": "2022-09-23T09:29:51.631Z"
   },
   {
    "duration": 6,
    "start_time": "2022-09-23T09:30:58.040Z"
   },
   {
    "duration": 10,
    "start_time": "2022-09-23T09:31:13.408Z"
   },
   {
    "duration": 348,
    "start_time": "2022-09-23T09:32:22.007Z"
   },
   {
    "duration": 870,
    "start_time": "2022-09-23T09:32:39.243Z"
   },
   {
    "duration": 77,
    "start_time": "2022-09-23T09:34:11.449Z"
   },
   {
    "duration": 916,
    "start_time": "2022-09-23T09:34:22.695Z"
   },
   {
    "duration": 507,
    "start_time": "2022-09-23T09:35:35.177Z"
   },
   {
    "duration": 712,
    "start_time": "2022-09-23T09:36:18.951Z"
   },
   {
    "duration": 27,
    "start_time": "2022-09-23T09:36:53.940Z"
   },
   {
    "duration": 163,
    "start_time": "2022-09-23T09:37:13.742Z"
   },
   {
    "duration": 267,
    "start_time": "2022-09-23T09:37:27.243Z"
   },
   {
    "duration": 162,
    "start_time": "2022-09-23T09:38:05.307Z"
   },
   {
    "duration": 26,
    "start_time": "2022-09-23T10:22:40.556Z"
   },
   {
    "duration": 847,
    "start_time": "2022-09-23T10:23:00.584Z"
   },
   {
    "duration": 312,
    "start_time": "2022-09-23T10:24:18.537Z"
   },
   {
    "duration": 337,
    "start_time": "2022-09-23T10:25:48.813Z"
   },
   {
    "duration": 812,
    "start_time": "2022-09-23T10:26:07.234Z"
   },
   {
    "duration": 26,
    "start_time": "2022-09-23T10:32:13.842Z"
   },
   {
    "duration": 24,
    "start_time": "2022-09-23T10:32:41.978Z"
   },
   {
    "duration": 24,
    "start_time": "2022-09-23T10:32:57.871Z"
   },
   {
    "duration": 24,
    "start_time": "2022-09-23T10:33:07.801Z"
   },
   {
    "duration": 4,
    "start_time": "2022-09-23T10:37:47.429Z"
   },
   {
    "duration": 5,
    "start_time": "2022-09-23T10:38:30.677Z"
   },
   {
    "duration": 4,
    "start_time": "2022-09-23T10:39:46.181Z"
   },
   {
    "duration": 98,
    "start_time": "2022-09-23T12:34:27.353Z"
   },
   {
    "duration": 4,
    "start_time": "2022-09-23T12:40:45.072Z"
   },
   {
    "duration": 7,
    "start_time": "2022-09-23T12:41:17.105Z"
   },
   {
    "duration": 8,
    "start_time": "2022-09-23T12:41:50.522Z"
   },
   {
    "duration": 8,
    "start_time": "2022-09-23T12:42:18.540Z"
   },
   {
    "duration": 14,
    "start_time": "2022-09-23T12:42:59.048Z"
   },
   {
    "duration": 10,
    "start_time": "2022-09-23T12:43:38.170Z"
   },
   {
    "duration": 4,
    "start_time": "2022-09-23T12:45:32.287Z"
   },
   {
    "duration": 16,
    "start_time": "2022-09-23T12:47:14.814Z"
   },
   {
    "duration": 256,
    "start_time": "2022-09-23T12:54:13.263Z"
   },
   {
    "duration": 748,
    "start_time": "2022-09-23T12:55:28.611Z"
   },
   {
    "duration": 37,
    "start_time": "2022-09-23T12:57:08.910Z"
   },
   {
    "duration": 381,
    "start_time": "2022-09-23T12:57:23.800Z"
   },
   {
    "duration": 694,
    "start_time": "2022-09-23T12:57:41.656Z"
   },
   {
    "duration": 1007,
    "start_time": "2022-09-23T12:58:15.843Z"
   },
   {
    "duration": 1496,
    "start_time": "2022-09-23T12:59:03.417Z"
   },
   {
    "duration": 1445,
    "start_time": "2022-09-23T12:59:29.261Z"
   },
   {
    "duration": 264,
    "start_time": "2022-09-23T13:01:23.238Z"
   },
   {
    "duration": 802,
    "start_time": "2022-09-23T13:02:31.557Z"
   },
   {
    "duration": 18,
    "start_time": "2022-09-23T13:02:32.361Z"
   },
   {
    "duration": 19,
    "start_time": "2022-09-23T13:02:32.381Z"
   },
   {
    "duration": 27,
    "start_time": "2022-09-23T13:02:32.402Z"
   },
   {
    "duration": 23,
    "start_time": "2022-09-23T13:02:32.430Z"
   },
   {
    "duration": 29,
    "start_time": "2022-09-23T13:02:32.455Z"
   },
   {
    "duration": 27,
    "start_time": "2022-09-23T13:02:32.486Z"
   },
   {
    "duration": 17,
    "start_time": "2022-09-23T13:02:32.515Z"
   },
   {
    "duration": 28,
    "start_time": "2022-09-23T13:02:32.534Z"
   },
   {
    "duration": 22,
    "start_time": "2022-09-23T13:02:32.564Z"
   },
   {
    "duration": 16,
    "start_time": "2022-09-23T13:02:32.588Z"
   },
   {
    "duration": 26,
    "start_time": "2022-09-23T13:02:32.606Z"
   },
   {
    "duration": 37,
    "start_time": "2022-09-23T13:02:32.634Z"
   },
   {
    "duration": 25,
    "start_time": "2022-09-23T13:02:32.672Z"
   },
   {
    "duration": 36,
    "start_time": "2022-09-23T13:02:32.699Z"
   },
   {
    "duration": 25,
    "start_time": "2022-09-23T13:02:32.736Z"
   },
   {
    "duration": 421,
    "start_time": "2022-09-23T13:02:32.763Z"
   },
   {
    "duration": 30,
    "start_time": "2022-09-23T13:02:33.186Z"
   },
   {
    "duration": 303,
    "start_time": "2022-09-23T13:02:33.217Z"
   },
   {
    "duration": 145,
    "start_time": "2022-09-23T13:02:33.523Z"
   },
   {
    "duration": 6,
    "start_time": "2022-09-23T13:02:33.670Z"
   },
   {
    "duration": 371,
    "start_time": "2022-09-23T13:02:33.678Z"
   },
   {
    "duration": 220,
    "start_time": "2022-09-23T13:02:34.051Z"
   },
   {
    "duration": 218,
    "start_time": "2022-09-23T13:02:34.273Z"
   },
   {
    "duration": 24,
    "start_time": "2022-09-23T13:02:34.492Z"
   },
   {
    "duration": 10,
    "start_time": "2022-09-23T13:02:34.518Z"
   },
   {
    "duration": 29142,
    "start_time": "2022-09-23T13:02:34.530Z"
   },
   {
    "duration": 19,
    "start_time": "2022-09-23T13:03:03.676Z"
   },
   {
    "duration": 76,
    "start_time": "2022-09-23T13:03:03.697Z"
   },
   {
    "duration": 241,
    "start_time": "2022-09-23T13:03:03.775Z"
   },
   {
    "duration": 259,
    "start_time": "2022-09-23T13:03:04.018Z"
   },
   {
    "duration": 6,
    "start_time": "2022-09-23T13:03:04.278Z"
   },
   {
    "duration": 318,
    "start_time": "2022-09-23T13:03:04.285Z"
   },
   {
    "duration": 3313,
    "start_time": "2022-09-23T13:03:04.604Z"
   },
   {
    "duration": 318,
    "start_time": "2022-09-23T13:03:07.919Z"
   },
   {
    "duration": 11,
    "start_time": "2022-09-23T13:03:08.239Z"
   },
   {
    "duration": 249,
    "start_time": "2022-09-23T13:03:08.251Z"
   },
   {
    "duration": 7,
    "start_time": "2022-09-23T13:03:08.502Z"
   },
   {
    "duration": 12,
    "start_time": "2022-09-23T13:03:08.511Z"
   },
   {
    "duration": 135,
    "start_time": "2022-09-23T13:03:08.525Z"
   },
   {
    "duration": 34,
    "start_time": "2022-09-23T13:03:08.662Z"
   },
   {
    "duration": 7,
    "start_time": "2022-09-23T13:03:08.698Z"
   },
   {
    "duration": 211,
    "start_time": "2022-09-23T13:03:08.706Z"
   },
   {
    "duration": 15,
    "start_time": "2022-09-23T13:03:08.919Z"
   },
   {
    "duration": 1530,
    "start_time": "2022-09-23T13:03:08.936Z"
   },
   {
    "duration": 93,
    "start_time": "2022-09-23T13:27:56.411Z"
   },
   {
    "duration": 377,
    "start_time": "2022-09-23T13:28:02.255Z"
   },
   {
    "duration": 366,
    "start_time": "2022-09-23T13:28:54.110Z"
   },
   {
    "duration": 501,
    "start_time": "2022-09-23T13:29:13.534Z"
   },
   {
    "duration": 378,
    "start_time": "2022-09-23T13:30:25.026Z"
   },
   {
    "duration": 367,
    "start_time": "2022-09-23T13:30:49.028Z"
   },
   {
    "duration": 381,
    "start_time": "2022-09-23T13:31:07.255Z"
   },
   {
    "duration": 527,
    "start_time": "2022-09-23T13:31:50.571Z"
   },
   {
    "duration": 397,
    "start_time": "2022-09-23T13:32:28.716Z"
   },
   {
    "duration": 24,
    "start_time": "2022-09-23T14:04:59.553Z"
   },
   {
    "duration": 18,
    "start_time": "2022-09-23T14:05:18.575Z"
   },
   {
    "duration": 77,
    "start_time": "2022-09-23T14:05:43.640Z"
   },
   {
    "duration": 15,
    "start_time": "2022-09-23T14:06:08.705Z"
   },
   {
    "duration": 19,
    "start_time": "2022-09-23T14:06:20.744Z"
   },
   {
    "duration": 8,
    "start_time": "2022-09-23T14:16:31.760Z"
   },
   {
    "duration": 387,
    "start_time": "2022-09-23T14:16:44.754Z"
   },
   {
    "duration": 520,
    "start_time": "2022-09-23T14:22:35.015Z"
   },
   {
    "duration": 369,
    "start_time": "2022-09-23T14:23:21.431Z"
   },
   {
    "duration": 785,
    "start_time": "2022-09-23T14:25:51.662Z"
   },
   {
    "duration": 15,
    "start_time": "2022-09-23T14:25:52.449Z"
   },
   {
    "duration": 8,
    "start_time": "2022-09-23T14:25:52.466Z"
   },
   {
    "duration": 26,
    "start_time": "2022-09-23T14:25:52.476Z"
   },
   {
    "duration": 5,
    "start_time": "2022-09-23T14:25:52.504Z"
   },
   {
    "duration": 15,
    "start_time": "2022-09-23T14:25:52.511Z"
   },
   {
    "duration": 9,
    "start_time": "2022-09-23T14:25:52.528Z"
   },
   {
    "duration": 8,
    "start_time": "2022-09-23T14:25:52.539Z"
   },
   {
    "duration": 12,
    "start_time": "2022-09-23T14:25:52.549Z"
   },
   {
    "duration": 37,
    "start_time": "2022-09-23T14:25:52.563Z"
   },
   {
    "duration": 6,
    "start_time": "2022-09-23T14:25:52.602Z"
   },
   {
    "duration": 11,
    "start_time": "2022-09-23T14:25:52.609Z"
   },
   {
    "duration": 8,
    "start_time": "2022-09-23T14:25:52.622Z"
   },
   {
    "duration": 18,
    "start_time": "2022-09-23T14:25:52.631Z"
   },
   {
    "duration": 51,
    "start_time": "2022-09-23T14:25:52.651Z"
   },
   {
    "duration": 12,
    "start_time": "2022-09-23T14:25:52.704Z"
   },
   {
    "duration": 390,
    "start_time": "2022-09-23T14:25:52.718Z"
   },
   {
    "duration": 28,
    "start_time": "2022-09-23T14:25:53.110Z"
   },
   {
    "duration": 288,
    "start_time": "2022-09-23T14:25:53.140Z"
   },
   {
    "duration": 121,
    "start_time": "2022-09-23T14:25:53.430Z"
   },
   {
    "duration": 5,
    "start_time": "2022-09-23T14:25:53.553Z"
   },
   {
    "duration": 374,
    "start_time": "2022-09-23T14:25:53.560Z"
   },
   {
    "duration": 228,
    "start_time": "2022-09-23T14:25:53.936Z"
   },
   {
    "duration": 222,
    "start_time": "2022-09-23T14:25:54.165Z"
   },
   {
    "duration": 28,
    "start_time": "2022-09-23T14:25:54.389Z"
   },
   {
    "duration": 7,
    "start_time": "2022-09-23T14:25:54.419Z"
   },
   {
    "duration": 26840,
    "start_time": "2022-09-23T14:25:54.428Z"
   },
   {
    "duration": 7,
    "start_time": "2022-09-23T14:26:21.272Z"
   },
   {
    "duration": 59,
    "start_time": "2022-09-23T14:26:21.281Z"
   },
   {
    "duration": 243,
    "start_time": "2022-09-23T14:26:21.342Z"
   },
   {
    "duration": 283,
    "start_time": "2022-09-23T14:26:21.586Z"
   },
   {
    "duration": 6,
    "start_time": "2022-09-23T14:26:21.871Z"
   },
   {
    "duration": 32,
    "start_time": "2022-09-23T14:26:21.879Z"
   },
   {
    "duration": 6,
    "start_time": "2022-09-23T14:26:21.912Z"
   },
   {
    "duration": 309,
    "start_time": "2022-09-23T14:26:21.920Z"
   },
   {
    "duration": 2919,
    "start_time": "2022-09-23T14:26:22.230Z"
   },
   {
    "duration": 288,
    "start_time": "2022-09-23T14:26:25.151Z"
   },
   {
    "duration": 9,
    "start_time": "2022-09-23T14:26:25.441Z"
   },
   {
    "duration": 186,
    "start_time": "2022-09-23T14:26:25.452Z"
   },
   {
    "duration": 9,
    "start_time": "2022-09-23T14:26:25.639Z"
   },
   {
    "duration": 8,
    "start_time": "2022-09-23T14:26:25.650Z"
   },
   {
    "duration": 124,
    "start_time": "2022-09-23T14:26:25.659Z"
   },
   {
    "duration": 35,
    "start_time": "2022-09-23T14:26:25.785Z"
   },
   {
    "duration": 12,
    "start_time": "2022-09-23T14:26:25.822Z"
   },
   {
    "duration": 148,
    "start_time": "2022-09-23T14:26:25.836Z"
   },
   {
    "duration": 20,
    "start_time": "2022-09-23T14:26:25.986Z"
   },
   {
    "duration": 412,
    "start_time": "2022-09-23T14:26:26.008Z"
   },
   {
    "duration": 392,
    "start_time": "2022-09-23T14:32:38.803Z"
   },
   {
    "duration": 453,
    "start_time": "2022-09-23T14:32:51.602Z"
   },
   {
    "duration": 407,
    "start_time": "2022-09-23T14:36:53.882Z"
   },
   {
    "duration": 454,
    "start_time": "2022-09-23T14:38:02.441Z"
   },
   {
    "duration": 416,
    "start_time": "2022-09-23T14:38:52.062Z"
   },
   {
    "duration": 552,
    "start_time": "2022-09-23T14:39:10.843Z"
   },
   {
    "duration": 437,
    "start_time": "2022-09-23T14:41:02.429Z"
   },
   {
    "duration": 545,
    "start_time": "2022-09-23T14:41:45.568Z"
   },
   {
    "duration": 617,
    "start_time": "2022-09-23T14:42:08.592Z"
   },
   {
    "duration": 481,
    "start_time": "2022-09-23T14:42:43.405Z"
   },
   {
    "duration": 479,
    "start_time": "2022-09-23T14:43:00.501Z"
   },
   {
    "duration": 513,
    "start_time": "2022-09-23T14:44:52.812Z"
   },
   {
    "duration": 754,
    "start_time": "2022-09-23T14:46:56.641Z"
   },
   {
    "duration": 611,
    "start_time": "2022-09-23T14:47:47.167Z"
   },
   {
    "duration": 63,
    "start_time": "2022-09-23T16:37:09.752Z"
   },
   {
    "duration": 1236,
    "start_time": "2022-09-23T16:37:16.419Z"
   },
   {
    "duration": 20,
    "start_time": "2022-09-23T16:37:17.658Z"
   },
   {
    "duration": 16,
    "start_time": "2022-09-23T16:37:17.682Z"
   },
   {
    "duration": 16,
    "start_time": "2022-09-23T16:37:17.701Z"
   },
   {
    "duration": 6,
    "start_time": "2022-09-23T16:37:17.718Z"
   },
   {
    "duration": 39,
    "start_time": "2022-09-23T16:37:17.725Z"
   },
   {
    "duration": 35,
    "start_time": "2022-09-23T16:37:17.766Z"
   },
   {
    "duration": 10,
    "start_time": "2022-09-23T16:37:17.803Z"
   },
   {
    "duration": 12,
    "start_time": "2022-09-23T16:37:17.815Z"
   },
   {
    "duration": 8,
    "start_time": "2022-09-23T16:37:17.829Z"
   },
   {
    "duration": 7,
    "start_time": "2022-09-23T16:37:17.855Z"
   },
   {
    "duration": 19,
    "start_time": "2022-09-23T16:37:17.864Z"
   },
   {
    "duration": 17,
    "start_time": "2022-09-23T16:37:17.885Z"
   },
   {
    "duration": 24,
    "start_time": "2022-09-23T16:37:17.904Z"
   },
   {
    "duration": 43,
    "start_time": "2022-09-23T16:37:17.930Z"
   },
   {
    "duration": 16,
    "start_time": "2022-09-23T16:37:17.976Z"
   },
   {
    "duration": 421,
    "start_time": "2022-09-23T16:37:17.994Z"
   },
   {
    "duration": 37,
    "start_time": "2022-09-23T16:37:18.417Z"
   },
   {
    "duration": 337,
    "start_time": "2022-09-23T16:37:18.456Z"
   },
   {
    "duration": 134,
    "start_time": "2022-09-23T16:37:18.795Z"
   },
   {
    "duration": 8,
    "start_time": "2022-09-23T16:37:18.931Z"
   },
   {
    "duration": 477,
    "start_time": "2022-09-23T16:37:18.941Z"
   },
   {
    "duration": 261,
    "start_time": "2022-09-23T16:37:19.420Z"
   },
   {
    "duration": 254,
    "start_time": "2022-09-23T16:37:19.684Z"
   },
   {
    "duration": 38,
    "start_time": "2022-09-23T16:37:19.941Z"
   },
   {
    "duration": 8,
    "start_time": "2022-09-23T16:37:19.981Z"
   },
   {
    "duration": 32252,
    "start_time": "2022-09-23T16:37:19.991Z"
   },
   {
    "duration": 10,
    "start_time": "2022-09-23T16:37:52.246Z"
   },
   {
    "duration": 65,
    "start_time": "2022-09-23T16:37:52.258Z"
   },
   {
    "duration": 300,
    "start_time": "2022-09-23T16:37:52.324Z"
   },
   {
    "duration": 320,
    "start_time": "2022-09-23T16:37:52.626Z"
   },
   {
    "duration": 13,
    "start_time": "2022-09-23T16:37:52.948Z"
   },
   {
    "duration": 36,
    "start_time": "2022-09-23T16:37:52.964Z"
   },
   {
    "duration": 9,
    "start_time": "2022-09-23T16:37:53.002Z"
   },
   {
    "duration": 353,
    "start_time": "2022-09-23T16:37:53.013Z"
   },
   {
    "duration": 3639,
    "start_time": "2022-09-23T16:37:53.368Z"
   },
   {
    "duration": 325,
    "start_time": "2022-09-23T16:37:57.009Z"
   },
   {
    "duration": 21,
    "start_time": "2022-09-23T16:37:57.336Z"
   },
   {
    "duration": 215,
    "start_time": "2022-09-23T16:37:57.359Z"
   },
   {
    "duration": 11,
    "start_time": "2022-09-23T16:37:57.576Z"
   },
   {
    "duration": 34,
    "start_time": "2022-09-23T16:37:57.589Z"
   },
   {
    "duration": 129,
    "start_time": "2022-09-23T16:37:57.625Z"
   },
   {
    "duration": 53,
    "start_time": "2022-09-23T16:37:57.756Z"
   },
   {
    "duration": 5,
    "start_time": "2022-09-23T16:37:57.812Z"
   },
   {
    "duration": 170,
    "start_time": "2022-09-23T16:37:57.819Z"
   },
   {
    "duration": 23,
    "start_time": "2022-09-23T16:37:57.991Z"
   },
   {
    "duration": 764,
    "start_time": "2022-09-23T16:37:58.016Z"
   },
   {
    "duration": 46,
    "start_time": "2022-09-23T16:37:58.782Z"
   },
   {
    "duration": 0,
    "start_time": "2022-09-23T16:37:58.830Z"
   },
   {
    "duration": 753,
    "start_time": "2022-09-23T16:38:15.459Z"
   },
   {
    "duration": 773,
    "start_time": "2022-09-23T17:24:25.255Z"
   },
   {
    "duration": 688,
    "start_time": "2022-09-23T17:24:48.687Z"
   },
   {
    "duration": 697,
    "start_time": "2022-09-23T17:26:08.266Z"
   },
   {
    "duration": 871,
    "start_time": "2022-09-23T17:27:45.321Z"
   },
   {
    "duration": 1241,
    "start_time": "2022-09-23T17:41:02.196Z"
   },
   {
    "duration": 841,
    "start_time": "2022-09-23T17:41:32.340Z"
   },
   {
    "duration": 886,
    "start_time": "2022-09-23T17:42:37.085Z"
   },
   {
    "duration": 569,
    "start_time": "2022-09-23T17:42:46.928Z"
   },
   {
    "duration": 599,
    "start_time": "2022-09-23T17:43:29.566Z"
   },
   {
    "duration": 643,
    "start_time": "2022-09-23T17:44:05.820Z"
   },
   {
    "duration": 760,
    "start_time": "2022-09-23T17:48:14.641Z"
   },
   {
    "duration": 476,
    "start_time": "2022-09-23T17:48:52.768Z"
   },
   {
    "duration": 385,
    "start_time": "2022-09-23T17:53:19.813Z"
   },
   {
    "duration": 413,
    "start_time": "2022-09-23T17:55:16.614Z"
   },
   {
    "duration": 6,
    "start_time": "2022-09-23T18:03:14.072Z"
   },
   {
    "duration": 263,
    "start_time": "2022-09-23T18:04:04.163Z"
   },
   {
    "duration": 10,
    "start_time": "2022-09-23T18:04:36.903Z"
   },
   {
    "duration": 8,
    "start_time": "2022-09-23T18:06:55.195Z"
   },
   {
    "duration": 7,
    "start_time": "2022-09-23T18:07:05.849Z"
   },
   {
    "duration": 12,
    "start_time": "2022-09-23T18:10:07.861Z"
   },
   {
    "duration": 145,
    "start_time": "2022-09-23T18:11:27.206Z"
   },
   {
    "duration": 265,
    "start_time": "2022-09-23T18:11:40.690Z"
   },
   {
    "duration": 503,
    "start_time": "2022-09-23T18:12:22.468Z"
   },
   {
    "duration": 299,
    "start_time": "2022-09-23T18:12:38.020Z"
   },
   {
    "duration": 272,
    "start_time": "2022-09-23T18:12:47.392Z"
   },
   {
    "duration": 283,
    "start_time": "2022-09-23T18:12:56.781Z"
   },
   {
    "duration": 287,
    "start_time": "2022-09-23T18:18:23.018Z"
   },
   {
    "duration": 19,
    "start_time": "2022-09-23T18:32:42.602Z"
   },
   {
    "duration": 1334,
    "start_time": "2022-09-23T18:33:14.196Z"
   },
   {
    "duration": 1623,
    "start_time": "2022-09-23T18:33:31.195Z"
   },
   {
    "duration": 322,
    "start_time": "2022-09-23T18:33:58.319Z"
   },
   {
    "duration": 316,
    "start_time": "2022-09-23T18:35:34.197Z"
   },
   {
    "duration": 324,
    "start_time": "2022-09-23T18:35:48.949Z"
   },
   {
    "duration": 322,
    "start_time": "2022-09-23T18:35:57.221Z"
   },
   {
    "duration": 320,
    "start_time": "2022-09-23T18:36:12.838Z"
   },
   {
    "duration": 335,
    "start_time": "2022-09-23T18:36:27.971Z"
   },
   {
    "duration": 307,
    "start_time": "2022-09-23T18:36:57.729Z"
   },
   {
    "duration": 373,
    "start_time": "2022-09-23T19:37:21.837Z"
   },
   {
    "duration": 616,
    "start_time": "2022-09-23T19:37:40.008Z"
   },
   {
    "duration": 17,
    "start_time": "2022-09-23T19:38:00.683Z"
   },
   {
    "duration": 1090,
    "start_time": "2022-09-23T19:39:15.106Z"
   },
   {
    "duration": 32,
    "start_time": "2022-09-23T19:39:41.261Z"
   },
   {
    "duration": 8836,
    "start_time": "2022-09-23T19:39:59.252Z"
   },
   {
    "duration": 8872,
    "start_time": "2022-09-23T19:40:42.532Z"
   },
   {
    "duration": 16,
    "start_time": "2022-09-23T19:41:21.104Z"
   },
   {
    "duration": 8423,
    "start_time": "2022-09-23T19:41:50.314Z"
   },
   {
    "duration": 358,
    "start_time": "2022-09-23T19:42:17.549Z"
   },
   {
    "duration": 1078,
    "start_time": "2022-09-23T19:42:46.352Z"
   },
   {
    "duration": 691,
    "start_time": "2022-09-23T19:43:03.102Z"
   },
   {
    "duration": 442,
    "start_time": "2022-09-23T19:43:51.348Z"
   },
   {
    "duration": 100,
    "start_time": "2022-09-23T19:46:53.540Z"
   },
   {
    "duration": 266,
    "start_time": "2022-09-23T19:49:39.824Z"
   },
   {
    "duration": 292,
    "start_time": "2022-09-23T19:49:57.828Z"
   },
   {
    "duration": 278,
    "start_time": "2022-09-23T19:50:06.764Z"
   },
   {
    "duration": 310,
    "start_time": "2022-09-23T19:50:17.184Z"
   },
   {
    "duration": 275,
    "start_time": "2022-09-23T19:56:39.598Z"
   },
   {
    "duration": 280,
    "start_time": "2022-09-23T19:57:04.111Z"
   },
   {
    "duration": 268,
    "start_time": "2022-09-23T19:57:13.297Z"
   },
   {
    "duration": 396,
    "start_time": "2022-09-23T19:57:27.332Z"
   },
   {
    "duration": 259,
    "start_time": "2022-09-23T19:57:40.533Z"
   },
   {
    "duration": 235,
    "start_time": "2022-09-23T19:59:48.890Z"
   },
   {
    "duration": 405,
    "start_time": "2022-09-23T20:00:05.302Z"
   },
   {
    "duration": 36,
    "start_time": "2022-09-23T20:08:43.395Z"
   },
   {
    "duration": 304,
    "start_time": "2022-09-23T20:09:32.074Z"
   },
   {
    "duration": 3,
    "start_time": "2022-09-23T20:10:19.846Z"
   },
   {
    "duration": 17,
    "start_time": "2022-09-23T20:10:26.627Z"
   },
   {
    "duration": 14,
    "start_time": "2022-09-23T20:10:44.339Z"
   },
   {
    "duration": 344,
    "start_time": "2022-09-23T20:20:43.819Z"
   },
   {
    "duration": 252,
    "start_time": "2022-09-23T20:21:36.151Z"
   },
   {
    "duration": 615,
    "start_time": "2022-09-23T20:21:47.164Z"
   },
   {
    "duration": 264,
    "start_time": "2022-09-23T20:22:01.330Z"
   },
   {
    "duration": 120,
    "start_time": "2022-09-23T20:22:14.905Z"
   },
   {
    "duration": 129,
    "start_time": "2022-09-23T20:22:24.031Z"
   },
   {
    "duration": 306,
    "start_time": "2022-09-23T20:23:13.084Z"
   },
   {
    "duration": 883,
    "start_time": "2022-09-23T20:33:11.631Z"
   },
   {
    "duration": 376,
    "start_time": "2022-09-23T20:34:09.091Z"
   },
   {
    "duration": 411,
    "start_time": "2022-09-23T20:34:50.879Z"
   },
   {
    "duration": 1090,
    "start_time": "2022-09-23T20:48:30.902Z"
   },
   {
    "duration": 275,
    "start_time": "2022-09-23T20:48:45.487Z"
   },
   {
    "duration": 272,
    "start_time": "2022-09-23T20:49:15.840Z"
   },
   {
    "duration": 281,
    "start_time": "2022-09-23T20:49:26.909Z"
   },
   {
    "duration": 277,
    "start_time": "2022-09-23T20:49:57.011Z"
   },
   {
    "duration": 403,
    "start_time": "2022-09-23T20:50:13.170Z"
   },
   {
    "duration": 383,
    "start_time": "2022-09-23T20:50:31.637Z"
   },
   {
    "duration": 45,
    "start_time": "2022-09-24T04:44:27.284Z"
   },
   {
    "duration": 1069,
    "start_time": "2022-09-24T04:44:34.308Z"
   },
   {
    "duration": 16,
    "start_time": "2022-09-24T04:44:35.380Z"
   },
   {
    "duration": 8,
    "start_time": "2022-09-24T04:44:35.398Z"
   },
   {
    "duration": 10,
    "start_time": "2022-09-24T04:44:35.408Z"
   },
   {
    "duration": 12,
    "start_time": "2022-09-24T04:44:35.421Z"
   },
   {
    "duration": 12,
    "start_time": "2022-09-24T04:44:35.434Z"
   },
   {
    "duration": 32,
    "start_time": "2022-09-24T04:44:35.447Z"
   },
   {
    "duration": 8,
    "start_time": "2022-09-24T04:44:35.480Z"
   },
   {
    "duration": 9,
    "start_time": "2022-09-24T04:44:35.490Z"
   },
   {
    "duration": 8,
    "start_time": "2022-09-24T04:44:35.500Z"
   },
   {
    "duration": 7,
    "start_time": "2022-09-24T04:44:35.509Z"
   },
   {
    "duration": 10,
    "start_time": "2022-09-24T04:44:35.517Z"
   },
   {
    "duration": 6,
    "start_time": "2022-09-24T04:44:35.529Z"
   },
   {
    "duration": 49,
    "start_time": "2022-09-24T04:44:35.538Z"
   },
   {
    "duration": 13,
    "start_time": "2022-09-24T04:44:35.589Z"
   },
   {
    "duration": 11,
    "start_time": "2022-09-24T04:44:35.604Z"
   },
   {
    "duration": 344,
    "start_time": "2022-09-24T04:44:35.617Z"
   },
   {
    "duration": 29,
    "start_time": "2022-09-24T04:44:35.963Z"
   },
   {
    "duration": 291,
    "start_time": "2022-09-24T04:44:35.993Z"
   },
   {
    "duration": 120,
    "start_time": "2022-09-24T04:44:36.287Z"
   },
   {
    "duration": 7,
    "start_time": "2022-09-24T04:44:36.409Z"
   },
   {
    "duration": 370,
    "start_time": "2022-09-24T04:44:36.418Z"
   },
   {
    "duration": 239,
    "start_time": "2022-09-24T04:44:36.790Z"
   },
   {
    "duration": 237,
    "start_time": "2022-09-24T04:44:37.031Z"
   },
   {
    "duration": 26,
    "start_time": "2022-09-24T04:44:37.270Z"
   },
   {
    "duration": 6,
    "start_time": "2022-09-24T04:44:37.298Z"
   },
   {
    "duration": 25502,
    "start_time": "2022-09-24T04:44:37.306Z"
   },
   {
    "duration": 6,
    "start_time": "2022-09-24T04:45:02.810Z"
   },
   {
    "duration": 73,
    "start_time": "2022-09-24T04:45:02.818Z"
   },
   {
    "duration": 214,
    "start_time": "2022-09-24T04:45:02.893Z"
   },
   {
    "duration": 226,
    "start_time": "2022-09-24T04:45:03.108Z"
   },
   {
    "duration": 5,
    "start_time": "2022-09-24T04:45:03.335Z"
   },
   {
    "duration": 19,
    "start_time": "2022-09-24T04:45:03.342Z"
   },
   {
    "duration": 19,
    "start_time": "2022-09-24T04:45:03.362Z"
   },
   {
    "duration": 281,
    "start_time": "2022-09-24T04:45:03.383Z"
   },
   {
    "duration": 2678,
    "start_time": "2022-09-24T04:45:03.665Z"
   },
   {
    "duration": 261,
    "start_time": "2022-09-24T04:45:06.345Z"
   },
   {
    "duration": 9,
    "start_time": "2022-09-24T04:45:06.607Z"
   },
   {
    "duration": 179,
    "start_time": "2022-09-24T04:45:06.617Z"
   },
   {
    "duration": 7,
    "start_time": "2022-09-24T04:45:06.797Z"
   },
   {
    "duration": 9,
    "start_time": "2022-09-24T04:45:06.808Z"
   },
   {
    "duration": 119,
    "start_time": "2022-09-24T04:45:06.819Z"
   },
   {
    "duration": 38,
    "start_time": "2022-09-24T04:45:06.940Z"
   },
   {
    "duration": 5,
    "start_time": "2022-09-24T04:45:06.980Z"
   },
   {
    "duration": 154,
    "start_time": "2022-09-24T04:45:06.986Z"
   },
   {
    "duration": 14,
    "start_time": "2022-09-24T04:45:07.142Z"
   },
   {
    "duration": 588,
    "start_time": "2022-09-24T04:45:07.157Z"
   },
   {
    "duration": 532,
    "start_time": "2022-09-24T04:45:07.746Z"
   },
   {
    "duration": 399,
    "start_time": "2022-09-24T04:45:08.279Z"
   },
   {
    "duration": 57,
    "start_time": "2022-09-24T04:45:08.680Z"
   },
   {
    "duration": 0,
    "start_time": "2022-09-24T04:45:08.739Z"
   },
   {
    "duration": 0,
    "start_time": "2022-09-24T04:45:08.741Z"
   },
   {
    "duration": 0,
    "start_time": "2022-09-24T04:45:08.743Z"
   },
   {
    "duration": 0,
    "start_time": "2022-09-24T04:45:08.744Z"
   },
   {
    "duration": 0,
    "start_time": "2022-09-24T04:45:08.746Z"
   },
   {
    "duration": 0,
    "start_time": "2022-09-24T04:45:08.748Z"
   },
   {
    "duration": 0,
    "start_time": "2022-09-24T04:45:08.749Z"
   },
   {
    "duration": 0,
    "start_time": "2022-09-24T04:45:08.750Z"
   },
   {
    "duration": 0,
    "start_time": "2022-09-24T04:45:08.752Z"
   },
   {
    "duration": 0,
    "start_time": "2022-09-24T04:45:08.754Z"
   },
   {
    "duration": 0,
    "start_time": "2022-09-24T04:45:08.755Z"
   },
   {
    "duration": 0,
    "start_time": "2022-09-24T04:45:08.757Z"
   },
   {
    "duration": 894,
    "start_time": "2022-09-24T04:45:23.207Z"
   },
   {
    "duration": 889,
    "start_time": "2022-09-24T04:45:59.508Z"
   },
   {
    "duration": 910,
    "start_time": "2022-09-24T04:49:11.106Z"
   },
   {
    "duration": 144,
    "start_time": "2022-09-24T04:49:49.403Z"
   },
   {
    "duration": 7,
    "start_time": "2022-09-24T05:01:11.160Z"
   },
   {
    "duration": 7,
    "start_time": "2022-09-24T05:01:40.105Z"
   },
   {
    "duration": 6,
    "start_time": "2022-09-24T05:02:08.177Z"
   },
   {
    "duration": 7,
    "start_time": "2022-09-24T05:02:25.943Z"
   },
   {
    "duration": 8,
    "start_time": "2022-09-24T05:02:35.266Z"
   },
   {
    "duration": 6,
    "start_time": "2022-09-24T05:02:59.918Z"
   },
   {
    "duration": 5,
    "start_time": "2022-09-24T05:39:10.872Z"
   },
   {
    "duration": 43,
    "start_time": "2022-09-24T09:39:59.507Z"
   },
   {
    "duration": 894,
    "start_time": "2022-09-24T09:40:02.736Z"
   },
   {
    "duration": 13,
    "start_time": "2022-09-24T09:40:03.632Z"
   },
   {
    "duration": 6,
    "start_time": "2022-09-24T09:40:03.646Z"
   },
   {
    "duration": 7,
    "start_time": "2022-09-24T09:40:03.654Z"
   },
   {
    "duration": 4,
    "start_time": "2022-09-24T09:40:03.662Z"
   },
   {
    "duration": 11,
    "start_time": "2022-09-24T09:40:03.667Z"
   },
   {
    "duration": 7,
    "start_time": "2022-09-24T09:40:03.679Z"
   },
   {
    "duration": 34,
    "start_time": "2022-09-24T09:40:03.688Z"
   },
   {
    "duration": 10,
    "start_time": "2022-09-24T09:40:03.723Z"
   },
   {
    "duration": 8,
    "start_time": "2022-09-24T09:40:03.735Z"
   },
   {
    "duration": 8,
    "start_time": "2022-09-24T09:40:03.744Z"
   },
   {
    "duration": 8,
    "start_time": "2022-09-24T09:40:03.754Z"
   },
   {
    "duration": 6,
    "start_time": "2022-09-24T09:40:03.763Z"
   },
   {
    "duration": 18,
    "start_time": "2022-09-24T09:40:03.770Z"
   },
   {
    "duration": 39,
    "start_time": "2022-09-24T09:40:03.789Z"
   },
   {
    "duration": 11,
    "start_time": "2022-09-24T09:40:03.829Z"
   },
   {
    "duration": 326,
    "start_time": "2022-09-24T09:40:03.841Z"
   },
   {
    "duration": 24,
    "start_time": "2022-09-24T09:40:04.169Z"
   },
   {
    "duration": 269,
    "start_time": "2022-09-24T09:40:04.195Z"
   },
   {
    "duration": 110,
    "start_time": "2022-09-24T09:40:04.466Z"
   },
   {
    "duration": 6,
    "start_time": "2022-09-24T09:40:04.577Z"
   },
   {
    "duration": 302,
    "start_time": "2022-09-24T09:40:04.585Z"
   },
   {
    "duration": 183,
    "start_time": "2022-09-24T09:40:04.889Z"
   },
   {
    "duration": 184,
    "start_time": "2022-09-24T09:40:05.074Z"
   },
   {
    "duration": 20,
    "start_time": "2022-09-24T09:40:05.260Z"
   },
   {
    "duration": 5,
    "start_time": "2022-09-24T09:40:05.282Z"
   },
   {
    "duration": 23453,
    "start_time": "2022-09-24T09:40:05.289Z"
   },
   {
    "duration": 6,
    "start_time": "2022-09-24T09:40:28.745Z"
   },
   {
    "duration": 51,
    "start_time": "2022-09-24T09:40:28.752Z"
   },
   {
    "duration": 201,
    "start_time": "2022-09-24T09:40:28.804Z"
   },
   {
    "duration": 209,
    "start_time": "2022-09-24T09:40:29.006Z"
   },
   {
    "duration": 9,
    "start_time": "2022-09-24T09:40:29.217Z"
   },
   {
    "duration": 18,
    "start_time": "2022-09-24T09:40:29.228Z"
   },
   {
    "duration": 7,
    "start_time": "2022-09-24T09:40:29.248Z"
   },
   {
    "duration": 301,
    "start_time": "2022-09-24T09:40:29.256Z"
   },
   {
    "duration": 2664,
    "start_time": "2022-09-24T09:40:29.559Z"
   },
   {
    "duration": 256,
    "start_time": "2022-09-24T09:40:32.224Z"
   },
   {
    "duration": 9,
    "start_time": "2022-09-24T09:40:32.481Z"
   },
   {
    "duration": 175,
    "start_time": "2022-09-24T09:40:32.492Z"
   },
   {
    "duration": 6,
    "start_time": "2022-09-24T09:40:32.669Z"
   },
   {
    "duration": 8,
    "start_time": "2022-09-24T09:40:32.677Z"
   },
   {
    "duration": 116,
    "start_time": "2022-09-24T09:40:32.687Z"
   },
   {
    "duration": 36,
    "start_time": "2022-09-24T09:40:32.805Z"
   },
   {
    "duration": 4,
    "start_time": "2022-09-24T09:40:32.843Z"
   },
   {
    "duration": 146,
    "start_time": "2022-09-24T09:40:32.849Z"
   },
   {
    "duration": 15,
    "start_time": "2022-09-24T09:40:32.997Z"
   },
   {
    "duration": 579,
    "start_time": "2022-09-24T09:40:33.021Z"
   },
   {
    "duration": 493,
    "start_time": "2022-09-24T09:40:33.602Z"
   },
   {
    "duration": 355,
    "start_time": "2022-09-24T09:40:34.097Z"
   },
   {
    "duration": 116,
    "start_time": "2022-09-24T09:40:34.454Z"
   },
   {
    "duration": 0,
    "start_time": "2022-09-24T09:40:34.572Z"
   },
   {
    "duration": 0,
    "start_time": "2022-09-24T09:40:34.573Z"
   },
   {
    "duration": 0,
    "start_time": "2022-09-24T09:40:34.574Z"
   },
   {
    "duration": 0,
    "start_time": "2022-09-24T09:40:34.575Z"
   },
   {
    "duration": 0,
    "start_time": "2022-09-24T09:40:34.576Z"
   },
   {
    "duration": 0,
    "start_time": "2022-09-24T09:40:34.577Z"
   },
   {
    "duration": 0,
    "start_time": "2022-09-24T09:40:34.578Z"
   },
   {
    "duration": 0,
    "start_time": "2022-09-24T09:40:34.579Z"
   },
   {
    "duration": 0,
    "start_time": "2022-09-24T09:40:34.580Z"
   },
   {
    "duration": 0,
    "start_time": "2022-09-24T09:40:34.581Z"
   },
   {
    "duration": 0,
    "start_time": "2022-09-24T09:40:34.582Z"
   },
   {
    "duration": 0,
    "start_time": "2022-09-24T09:40:34.584Z"
   },
   {
    "duration": 5,
    "start_time": "2022-09-24T09:40:49.911Z"
   },
   {
    "duration": 9,
    "start_time": "2022-09-24T09:42:44.601Z"
   },
   {
    "duration": 34,
    "start_time": "2022-09-24T09:42:53.677Z"
   },
   {
    "duration": 9,
    "start_time": "2022-09-24T09:43:16.583Z"
   },
   {
    "duration": 9,
    "start_time": "2022-09-24T09:43:58.980Z"
   },
   {
    "duration": 344,
    "start_time": "2022-09-24T09:49:04.832Z"
   },
   {
    "duration": 369,
    "start_time": "2022-09-24T09:50:43.369Z"
   },
   {
    "duration": 473,
    "start_time": "2022-09-24T09:51:04.322Z"
   },
   {
    "duration": 487,
    "start_time": "2022-09-24T09:51:39.708Z"
   },
   {
    "duration": 379,
    "start_time": "2022-09-24T09:52:35.040Z"
   },
   {
    "duration": 485,
    "start_time": "2022-09-24T09:52:50.653Z"
   },
   {
    "duration": 467,
    "start_time": "2022-09-24T09:54:40.163Z"
   },
   {
    "duration": 5,
    "start_time": "2022-09-24T09:58:16.241Z"
   },
   {
    "duration": 423,
    "start_time": "2022-09-24T09:58:51.604Z"
   },
   {
    "duration": 185,
    "start_time": "2022-09-24T10:07:22.849Z"
   },
   {
    "duration": 225,
    "start_time": "2022-09-24T10:08:21.462Z"
   },
   {
    "duration": 626,
    "start_time": "2022-09-24T10:09:45.626Z"
   },
   {
    "duration": 445,
    "start_time": "2022-09-24T10:10:46.485Z"
   },
   {
    "duration": 251,
    "start_time": "2022-09-24T10:12:34.445Z"
   },
   {
    "duration": 1216,
    "start_time": "2022-09-24T10:24:26.391Z"
   },
   {
    "duration": 268,
    "start_time": "2022-09-24T10:24:54.712Z"
   },
   {
    "duration": 362,
    "start_time": "2022-09-24T10:25:19.855Z"
   },
   {
    "duration": 277,
    "start_time": "2022-09-24T10:26:01.233Z"
   },
   {
    "duration": 625,
    "start_time": "2022-09-24T10:50:07.661Z"
   },
   {
    "duration": 585,
    "start_time": "2022-09-24T10:50:56.398Z"
   },
   {
    "duration": 438,
    "start_time": "2022-09-24T10:51:24.312Z"
   },
   {
    "duration": 73,
    "start_time": "2022-09-24T11:39:03.270Z"
   },
   {
    "duration": 290,
    "start_time": "2022-09-24T11:44:39.084Z"
   },
   {
    "duration": 303,
    "start_time": "2022-09-24T12:13:45.144Z"
   },
   {
    "duration": 298,
    "start_time": "2022-09-24T12:14:40.777Z"
   },
   {
    "duration": 481,
    "start_time": "2022-09-24T12:24:36.068Z"
   },
   {
    "duration": 72,
    "start_time": "2022-09-24T12:26:13.236Z"
   },
   {
    "duration": 14,
    "start_time": "2022-09-24T12:28:30.728Z"
   },
   {
    "duration": 17,
    "start_time": "2022-09-24T12:29:09.188Z"
   },
   {
    "duration": 281,
    "start_time": "2022-09-24T12:30:19.745Z"
   },
   {
    "duration": 282,
    "start_time": "2022-09-24T12:30:56.352Z"
   },
   {
    "duration": 299,
    "start_time": "2022-09-24T12:31:18.614Z"
   },
   {
    "duration": 136,
    "start_time": "2022-09-24T12:32:14.904Z"
   },
   {
    "duration": 309,
    "start_time": "2022-09-24T12:34:47.156Z"
   },
   {
    "duration": 18,
    "start_time": "2022-09-24T12:37:01.059Z"
   },
   {
    "duration": 17,
    "start_time": "2022-09-24T12:37:40.987Z"
   },
   {
    "duration": 19,
    "start_time": "2022-09-24T12:38:31.617Z"
   },
   {
    "duration": 210,
    "start_time": "2022-09-24T12:40:07.944Z"
   },
   {
    "duration": 444,
    "start_time": "2022-09-24T12:40:18.603Z"
   },
   {
    "duration": 232,
    "start_time": "2022-09-24T12:41:51.561Z"
   },
   {
    "duration": 305,
    "start_time": "2022-09-24T12:41:55.885Z"
   },
   {
    "duration": 325,
    "start_time": "2022-09-24T12:42:04.412Z"
   },
   {
    "duration": 76,
    "start_time": "2022-09-24T12:42:18.969Z"
   },
   {
    "duration": 312,
    "start_time": "2022-09-24T12:42:33.266Z"
   },
   {
    "duration": 12,
    "start_time": "2022-09-24T12:42:38.736Z"
   },
   {
    "duration": 270,
    "start_time": "2022-09-24T12:42:43.493Z"
   },
   {
    "duration": 111,
    "start_time": "2022-09-24T12:44:13.092Z"
   },
   {
    "duration": 125,
    "start_time": "2022-09-24T12:44:21.576Z"
   },
   {
    "duration": 243,
    "start_time": "2022-09-24T12:44:39.804Z"
   },
   {
    "duration": 130,
    "start_time": "2022-09-24T12:44:48.917Z"
   },
   {
    "duration": 141,
    "start_time": "2022-09-24T12:44:57.686Z"
   },
   {
    "duration": 144,
    "start_time": "2022-09-24T12:45:04.687Z"
   },
   {
    "duration": 232,
    "start_time": "2022-09-24T12:45:18.761Z"
   },
   {
    "duration": 282,
    "start_time": "2022-09-24T12:46:30.756Z"
   },
   {
    "duration": 417,
    "start_time": "2022-09-24T12:48:06.597Z"
   },
   {
    "duration": 699,
    "start_time": "2022-09-24T12:53:58.653Z"
   },
   {
    "duration": 289,
    "start_time": "2022-09-24T12:58:38.942Z"
   },
   {
    "duration": 279,
    "start_time": "2022-09-24T12:58:58.325Z"
   },
   {
    "duration": 270,
    "start_time": "2022-09-24T12:59:16.553Z"
   },
   {
    "duration": 280,
    "start_time": "2022-09-24T13:00:28.844Z"
   },
   {
    "duration": 289,
    "start_time": "2022-09-24T13:01:01.594Z"
   },
   {
    "duration": 429,
    "start_time": "2022-09-24T13:01:26.834Z"
   },
   {
    "duration": 559,
    "start_time": "2022-09-24T13:02:39.081Z"
   },
   {
    "duration": 703,
    "start_time": "2022-09-24T13:03:50.067Z"
   },
   {
    "duration": 580,
    "start_time": "2022-09-24T13:04:18.267Z"
   },
   {
    "duration": 581,
    "start_time": "2022-09-24T15:04:20.097Z"
   },
   {
    "duration": 711,
    "start_time": "2022-09-24T16:04:37.575Z"
   },
   {
    "duration": 286,
    "start_time": "2022-09-24T16:05:03.557Z"
   },
   {
    "duration": 210,
    "start_time": "2022-09-24T16:05:17.900Z"
   },
   {
    "duration": 207,
    "start_time": "2022-09-24T16:05:56.434Z"
   },
   {
    "duration": 226,
    "start_time": "2022-09-24T16:06:25.632Z"
   },
   {
    "duration": 365,
    "start_time": "2022-09-24T16:21:59.517Z"
   },
   {
    "duration": 249,
    "start_time": "2022-09-24T16:45:09.262Z"
   },
   {
    "duration": 241,
    "start_time": "2022-09-24T16:48:34.522Z"
   },
   {
    "duration": 229,
    "start_time": "2022-09-24T16:48:55.274Z"
   },
   {
    "duration": 235,
    "start_time": "2022-09-24T16:54:03.842Z"
   },
   {
    "duration": 229,
    "start_time": "2022-09-24T17:11:50.531Z"
   },
   {
    "duration": 237,
    "start_time": "2022-09-24T17:12:04.013Z"
   },
   {
    "duration": 9,
    "start_time": "2022-09-24T17:12:33.680Z"
   },
   {
    "duration": 8,
    "start_time": "2022-09-24T17:13:23.913Z"
   },
   {
    "duration": 90,
    "start_time": "2022-09-24T17:17:38.580Z"
   },
   {
    "duration": 10,
    "start_time": "2022-09-24T17:17:58.708Z"
   },
   {
    "duration": 104,
    "start_time": "2022-09-24T17:21:45.320Z"
   },
   {
    "duration": 89,
    "start_time": "2022-09-24T17:21:59.333Z"
   },
   {
    "duration": 25,
    "start_time": "2022-09-24T17:22:49.651Z"
   },
   {
    "duration": 22,
    "start_time": "2022-09-24T17:23:12.227Z"
   },
   {
    "duration": 25,
    "start_time": "2022-09-24T17:24:18.755Z"
   },
   {
    "duration": 21,
    "start_time": "2022-09-24T17:24:49.283Z"
   },
   {
    "duration": 25,
    "start_time": "2022-09-24T17:25:03.303Z"
   },
   {
    "duration": 22,
    "start_time": "2022-09-24T17:25:28.931Z"
   },
   {
    "duration": 22,
    "start_time": "2022-09-24T17:26:03.593Z"
   },
   {
    "duration": 78,
    "start_time": "2022-09-24T17:26:45.661Z"
   },
   {
    "duration": 27,
    "start_time": "2022-09-24T17:26:56.220Z"
   },
   {
    "duration": 4,
    "start_time": "2022-09-24T17:27:04.800Z"
   },
   {
    "duration": 86,
    "start_time": "2022-09-24T17:27:16.013Z"
   },
   {
    "duration": 36,
    "start_time": "2022-09-24T17:27:37.154Z"
   },
   {
    "duration": 76,
    "start_time": "2022-09-24T17:28:02.072Z"
   },
   {
    "duration": 23,
    "start_time": "2022-09-24T17:28:08.427Z"
   },
   {
    "duration": 29,
    "start_time": "2022-09-24T17:28:39.987Z"
   },
   {
    "duration": 24,
    "start_time": "2022-09-24T17:29:53.542Z"
   },
   {
    "duration": 35,
    "start_time": "2022-09-24T17:30:01.347Z"
   },
   {
    "duration": 29,
    "start_time": "2022-09-24T17:37:41.943Z"
   },
   {
    "duration": 5,
    "start_time": "2022-09-24T17:40:30.379Z"
   },
   {
    "duration": 6,
    "start_time": "2022-09-24T17:41:07.861Z"
   },
   {
    "duration": 5,
    "start_time": "2022-09-24T17:44:08.176Z"
   },
   {
    "duration": 8,
    "start_time": "2022-09-24T17:45:43.109Z"
   },
   {
    "duration": 73,
    "start_time": "2022-09-24T17:47:13.420Z"
   },
   {
    "duration": 10,
    "start_time": "2022-09-24T17:49:02.891Z"
   },
   {
    "duration": 8,
    "start_time": "2022-09-24T17:49:13.982Z"
   },
   {
    "duration": 1193,
    "start_time": "2022-09-24T17:49:28.380Z"
   },
   {
    "duration": 8,
    "start_time": "2022-09-24T17:50:12.868Z"
   },
   {
    "duration": 41,
    "start_time": "2022-09-24T17:51:58.472Z"
   },
   {
    "duration": 4,
    "start_time": "2022-09-24T17:54:20.930Z"
   },
   {
    "duration": 32,
    "start_time": "2022-09-24T17:54:29.371Z"
   },
   {
    "duration": 525,
    "start_time": "2022-09-24T18:01:38.722Z"
   },
   {
    "duration": 338,
    "start_time": "2022-09-24T18:02:45.641Z"
   },
   {
    "duration": 275,
    "start_time": "2022-09-24T18:03:03.903Z"
   },
   {
    "duration": 57,
    "start_time": "2022-09-24T18:03:22.896Z"
   },
   {
    "duration": 168,
    "start_time": "2022-09-24T18:03:43.816Z"
   },
   {
    "duration": 9,
    "start_time": "2022-09-24T18:04:16.888Z"
   },
   {
    "duration": 4,
    "start_time": "2022-09-24T18:20:42.152Z"
   },
   {
    "duration": 16,
    "start_time": "2022-09-24T18:24:46.951Z"
   },
   {
    "duration": 29,
    "start_time": "2022-09-24T18:26:16.789Z"
   },
   {
    "duration": 28,
    "start_time": "2022-09-24T18:27:44.251Z"
   },
   {
    "duration": 36,
    "start_time": "2022-09-24T18:28:00.390Z"
   },
   {
    "duration": 1892,
    "start_time": "2022-09-24T18:28:29.922Z"
   },
   {
    "duration": 33,
    "start_time": "2022-09-24T18:29:04.648Z"
   },
   {
    "duration": 1079,
    "start_time": "2022-09-25T06:30:30.970Z"
   },
   {
    "duration": 14,
    "start_time": "2022-09-25T06:30:32.051Z"
   },
   {
    "duration": 7,
    "start_time": "2022-09-25T06:30:32.067Z"
   },
   {
    "duration": 10,
    "start_time": "2022-09-25T06:30:32.076Z"
   },
   {
    "duration": 5,
    "start_time": "2022-09-25T06:30:32.088Z"
   },
   {
    "duration": 11,
    "start_time": "2022-09-25T06:30:32.095Z"
   },
   {
    "duration": 7,
    "start_time": "2022-09-25T06:30:32.134Z"
   },
   {
    "duration": 29,
    "start_time": "2022-09-25T06:30:32.143Z"
   },
   {
    "duration": 24,
    "start_time": "2022-09-25T06:30:32.174Z"
   },
   {
    "duration": 11,
    "start_time": "2022-09-25T06:30:32.202Z"
   },
   {
    "duration": 9,
    "start_time": "2022-09-25T06:30:32.214Z"
   },
   {
    "duration": 15,
    "start_time": "2022-09-25T06:30:32.225Z"
   },
   {
    "duration": 11,
    "start_time": "2022-09-25T06:30:32.242Z"
   },
   {
    "duration": 19,
    "start_time": "2022-09-25T06:30:32.255Z"
   },
   {
    "duration": 13,
    "start_time": "2022-09-25T06:30:32.275Z"
   },
   {
    "duration": 11,
    "start_time": "2022-09-25T06:30:32.290Z"
   },
   {
    "duration": 376,
    "start_time": "2022-09-25T06:30:32.303Z"
   },
   {
    "duration": 29,
    "start_time": "2022-09-25T06:30:32.680Z"
   },
   {
    "duration": 291,
    "start_time": "2022-09-25T06:30:32.710Z"
   },
   {
    "duration": 118,
    "start_time": "2022-09-25T06:30:33.003Z"
   },
   {
    "duration": 15,
    "start_time": "2022-09-25T06:30:33.123Z"
   },
   {
    "duration": 369,
    "start_time": "2022-09-25T06:30:33.143Z"
   },
   {
    "duration": 202,
    "start_time": "2022-09-25T06:30:33.514Z"
   },
   {
    "duration": 198,
    "start_time": "2022-09-25T06:30:33.718Z"
   },
   {
    "duration": 39,
    "start_time": "2022-09-25T06:30:33.918Z"
   },
   {
    "duration": 5,
    "start_time": "2022-09-25T06:30:33.959Z"
   },
   {
    "duration": 25828,
    "start_time": "2022-09-25T06:30:33.966Z"
   },
   {
    "duration": 7,
    "start_time": "2022-09-25T06:30:59.798Z"
   },
   {
    "duration": 56,
    "start_time": "2022-09-25T06:30:59.806Z"
   },
   {
    "duration": 221,
    "start_time": "2022-09-25T06:30:59.863Z"
   },
   {
    "duration": 272,
    "start_time": "2022-09-25T06:31:00.085Z"
   },
   {
    "duration": 7,
    "start_time": "2022-09-25T06:31:00.359Z"
   },
   {
    "duration": 40,
    "start_time": "2022-09-25T06:31:00.367Z"
   },
   {
    "duration": 6,
    "start_time": "2022-09-25T06:31:00.409Z"
   },
   {
    "duration": 274,
    "start_time": "2022-09-25T06:31:00.416Z"
   },
   {
    "duration": 2674,
    "start_time": "2022-09-25T06:31:00.692Z"
   },
   {
    "duration": 268,
    "start_time": "2022-09-25T06:31:03.367Z"
   },
   {
    "duration": 9,
    "start_time": "2022-09-25T06:31:03.637Z"
   },
   {
    "duration": 171,
    "start_time": "2022-09-25T06:31:03.648Z"
   },
   {
    "duration": 15,
    "start_time": "2022-09-25T06:31:03.821Z"
   },
   {
    "duration": 9,
    "start_time": "2022-09-25T06:31:03.837Z"
   },
   {
    "duration": 98,
    "start_time": "2022-09-25T06:31:03.847Z"
   },
   {
    "duration": 30,
    "start_time": "2022-09-25T06:31:03.947Z"
   },
   {
    "duration": 10,
    "start_time": "2022-09-25T06:31:03.978Z"
   },
   {
    "duration": 137,
    "start_time": "2022-09-25T06:31:03.989Z"
   },
   {
    "duration": 17,
    "start_time": "2022-09-25T06:31:04.128Z"
   },
   {
    "duration": 515,
    "start_time": "2022-09-25T06:31:04.147Z"
   },
   {
    "duration": 496,
    "start_time": "2022-09-25T06:31:04.665Z"
   },
   {
    "duration": 331,
    "start_time": "2022-09-25T06:31:05.162Z"
   },
   {
    "duration": 64,
    "start_time": "2022-09-25T06:31:05.495Z"
   },
   {
    "duration": 0,
    "start_time": "2022-09-25T06:31:05.561Z"
   },
   {
    "duration": 0,
    "start_time": "2022-09-25T06:31:05.562Z"
   },
   {
    "duration": 0,
    "start_time": "2022-09-25T06:31:05.564Z"
   },
   {
    "duration": 0,
    "start_time": "2022-09-25T06:31:05.565Z"
   },
   {
    "duration": 0,
    "start_time": "2022-09-25T06:31:05.566Z"
   },
   {
    "duration": 0,
    "start_time": "2022-09-25T06:31:05.568Z"
   },
   {
    "duration": 1,
    "start_time": "2022-09-25T06:31:05.569Z"
   },
   {
    "duration": 0,
    "start_time": "2022-09-25T06:31:05.571Z"
   },
   {
    "duration": 0,
    "start_time": "2022-09-25T06:31:05.572Z"
   },
   {
    "duration": 0,
    "start_time": "2022-09-25T06:31:05.573Z"
   },
   {
    "duration": 0,
    "start_time": "2022-09-25T06:31:05.575Z"
   },
   {
    "duration": 0,
    "start_time": "2022-09-25T06:31:05.576Z"
   },
   {
    "duration": 0,
    "start_time": "2022-09-25T06:31:05.577Z"
   },
   {
    "duration": 0,
    "start_time": "2022-09-25T06:31:05.578Z"
   },
   {
    "duration": 0,
    "start_time": "2022-09-25T06:31:05.580Z"
   },
   {
    "duration": 0,
    "start_time": "2022-09-25T06:31:05.581Z"
   },
   {
    "duration": 0,
    "start_time": "2022-09-25T06:31:05.582Z"
   },
   {
    "duration": 0,
    "start_time": "2022-09-25T06:31:05.583Z"
   },
   {
    "duration": 0,
    "start_time": "2022-09-25T06:31:05.585Z"
   },
   {
    "duration": 0,
    "start_time": "2022-09-25T06:31:05.586Z"
   },
   {
    "duration": 0,
    "start_time": "2022-09-25T06:31:05.587Z"
   },
   {
    "duration": 0,
    "start_time": "2022-09-25T06:31:05.588Z"
   },
   {
    "duration": 233,
    "start_time": "2022-09-25T06:33:10.209Z"
   },
   {
    "duration": 243,
    "start_time": "2022-09-25T06:33:30.872Z"
   },
   {
    "duration": 244,
    "start_time": "2022-09-25T06:33:38.121Z"
   },
   {
    "duration": 248,
    "start_time": "2022-09-25T06:34:08.076Z"
   },
   {
    "duration": 229,
    "start_time": "2022-09-25T06:34:20.679Z"
   },
   {
    "duration": 294,
    "start_time": "2022-09-25T06:35:23.487Z"
   },
   {
    "duration": 223,
    "start_time": "2022-09-25T06:36:22.752Z"
   },
   {
    "duration": 228,
    "start_time": "2022-09-25T06:37:42.422Z"
   },
   {
    "duration": 239,
    "start_time": "2022-09-25T06:38:10.128Z"
   },
   {
    "duration": 214,
    "start_time": "2022-09-25T06:39:11.183Z"
   },
   {
    "duration": 611,
    "start_time": "2022-09-25T06:52:00.584Z"
   },
   {
    "duration": 275,
    "start_time": "2022-09-25T06:52:12.540Z"
   },
   {
    "duration": 76,
    "start_time": "2022-09-25T06:54:54.944Z"
   },
   {
    "duration": 14,
    "start_time": "2022-09-25T06:55:03.783Z"
   },
   {
    "duration": 8,
    "start_time": "2022-09-25T06:55:20.955Z"
   },
   {
    "duration": 13,
    "start_time": "2022-09-25T07:23:31.222Z"
   },
   {
    "duration": 39,
    "start_time": "2022-09-25T07:23:58.814Z"
   },
   {
    "duration": 20,
    "start_time": "2022-09-25T07:25:33.490Z"
   },
   {
    "duration": 19,
    "start_time": "2022-09-25T07:27:55.780Z"
   },
   {
    "duration": 30,
    "start_time": "2022-09-25T07:28:20.824Z"
   },
   {
    "duration": 42,
    "start_time": "2022-09-25T07:29:46.364Z"
   },
   {
    "duration": 131,
    "start_time": "2022-09-25T07:30:33.384Z"
   },
   {
    "duration": 150,
    "start_time": "2022-09-25T07:30:51.033Z"
   },
   {
    "duration": 151,
    "start_time": "2022-09-25T07:31:03.084Z"
   },
   {
    "duration": 126,
    "start_time": "2022-09-25T07:31:32.579Z"
   },
   {
    "duration": 134,
    "start_time": "2022-09-25T07:32:46.784Z"
   },
   {
    "duration": 127,
    "start_time": "2022-09-25T07:33:06.475Z"
   },
   {
    "duration": 59,
    "start_time": "2022-09-25T07:37:14.493Z"
   },
   {
    "duration": 40,
    "start_time": "2022-09-25T07:37:24.063Z"
   },
   {
    "duration": 32,
    "start_time": "2022-09-25T07:38:50.024Z"
   },
   {
    "duration": 52,
    "start_time": "2022-09-25T07:41:22.178Z"
   },
   {
    "duration": 7,
    "start_time": "2022-09-25T07:43:00.479Z"
   },
   {
    "duration": 144,
    "start_time": "2022-09-25T07:43:18.637Z"
   },
   {
    "duration": 162,
    "start_time": "2022-09-25T07:46:18.042Z"
   },
   {
    "duration": 10,
    "start_time": "2022-09-25T07:56:29.998Z"
   },
   {
    "duration": 49,
    "start_time": "2022-09-25T07:56:49.326Z"
   },
   {
    "duration": 41,
    "start_time": "2022-09-25T07:57:46.895Z"
   },
   {
    "duration": 69,
    "start_time": "2022-09-25T07:59:52.253Z"
   },
   {
    "duration": 8,
    "start_time": "2022-09-25T08:26:47.439Z"
   },
   {
    "duration": 13,
    "start_time": "2022-09-25T08:27:28.274Z"
   },
   {
    "duration": 16,
    "start_time": "2022-09-25T08:27:49.889Z"
   },
   {
    "duration": 25,
    "start_time": "2022-09-25T08:27:56.234Z"
   },
   {
    "duration": 338,
    "start_time": "2022-09-25T08:29:15.824Z"
   },
   {
    "duration": 443,
    "start_time": "2022-09-25T08:32:25.008Z"
   },
   {
    "duration": 331,
    "start_time": "2022-09-25T08:32:39.315Z"
   },
   {
    "duration": 1099,
    "start_time": "2022-09-25T08:33:03.922Z"
   },
   {
    "duration": 2351,
    "start_time": "2022-09-25T08:35:19.819Z"
   },
   {
    "duration": 35,
    "start_time": "2022-09-25T08:39:26.725Z"
   },
   {
    "duration": 34,
    "start_time": "2022-09-25T08:40:12.936Z"
   },
   {
    "duration": 4235,
    "start_time": "2022-09-25T08:41:06.926Z"
   },
   {
    "duration": 3970,
    "start_time": "2022-09-25T08:48:47.114Z"
   },
   {
    "duration": 3993,
    "start_time": "2022-09-25T08:48:59.922Z"
   },
   {
    "duration": 4335,
    "start_time": "2022-09-25T08:49:24.134Z"
   },
   {
    "duration": 4514,
    "start_time": "2022-09-25T08:52:06.810Z"
   },
   {
    "duration": 31,
    "start_time": "2022-09-25T09:30:23.490Z"
   },
   {
    "duration": 34,
    "start_time": "2022-09-25T09:30:40.872Z"
   },
   {
    "duration": 4514,
    "start_time": "2022-09-25T09:31:13.169Z"
   },
   {
    "duration": 6599,
    "start_time": "2022-09-25T10:33:48.728Z"
   },
   {
    "duration": 4561,
    "start_time": "2022-09-25T10:35:08.615Z"
   },
   {
    "duration": 14,
    "start_time": "2022-09-25T10:35:36.749Z"
   },
   {
    "duration": 586,
    "start_time": "2022-09-25T10:36:10.215Z"
   },
   {
    "duration": 9,
    "start_time": "2022-09-25T10:37:03.615Z"
   },
   {
    "duration": 9,
    "start_time": "2022-09-25T10:39:50.701Z"
   },
   {
    "duration": 1339,
    "start_time": "2022-09-25T10:40:15.546Z"
   },
   {
    "duration": 1086,
    "start_time": "2022-09-25T10:41:41.326Z"
   },
   {
    "duration": 1307,
    "start_time": "2022-09-25T10:42:25.837Z"
   },
   {
    "duration": 1202,
    "start_time": "2022-09-25T10:43:24.401Z"
   },
   {
    "duration": 1197,
    "start_time": "2022-09-25T10:44:13.597Z"
   },
   {
    "duration": 1035,
    "start_time": "2022-09-25T10:46:54.318Z"
   },
   {
    "duration": 1983,
    "start_time": "2022-09-25T10:47:47.476Z"
   },
   {
    "duration": 1487,
    "start_time": "2022-09-25T10:48:05.413Z"
   },
   {
    "duration": 806,
    "start_time": "2022-09-25T10:49:00.335Z"
   },
   {
    "duration": 615,
    "start_time": "2022-09-25T10:49:47.928Z"
   },
   {
    "duration": 2069,
    "start_time": "2022-09-25T10:53:17.952Z"
   },
   {
    "duration": 1508,
    "start_time": "2022-09-25T10:53:53.695Z"
   },
   {
    "duration": 772,
    "start_time": "2022-09-25T10:54:42.615Z"
   },
   {
    "duration": 1932,
    "start_time": "2022-09-25T10:54:54.408Z"
   },
   {
    "duration": 755,
    "start_time": "2022-09-25T10:55:33.996Z"
   },
   {
    "duration": 931,
    "start_time": "2022-09-25T10:57:12.634Z"
   },
   {
    "duration": 1338,
    "start_time": "2022-09-25T10:57:57.992Z"
   },
   {
    "duration": 1141,
    "start_time": "2022-09-25T10:59:31.708Z"
   },
   {
    "duration": 1330,
    "start_time": "2022-09-25T10:59:51.335Z"
   },
   {
    "duration": 1145,
    "start_time": "2022-09-25T11:00:09.949Z"
   },
   {
    "duration": 1319,
    "start_time": "2022-09-25T11:01:36.632Z"
   },
   {
    "duration": 1108,
    "start_time": "2022-09-25T11:01:56.791Z"
   },
   {
    "duration": 1098,
    "start_time": "2022-09-25T11:02:17.040Z"
   },
   {
    "duration": 821,
    "start_time": "2022-09-25T11:06:17.150Z"
   },
   {
    "duration": 1141,
    "start_time": "2022-09-25T11:06:44.482Z"
   },
   {
    "duration": 1107,
    "start_time": "2022-09-25T11:08:14.205Z"
   },
   {
    "duration": 1587,
    "start_time": "2022-09-25T11:09:52.079Z"
   },
   {
    "duration": 1361,
    "start_time": "2022-09-25T11:10:19.436Z"
   },
   {
    "duration": 790,
    "start_time": "2022-09-25T11:12:15.868Z"
   },
   {
    "duration": 906,
    "start_time": "2022-09-25T11:22:32.940Z"
   },
   {
    "duration": 27,
    "start_time": "2022-09-25T11:24:18.765Z"
   },
   {
    "duration": 1225,
    "start_time": "2022-09-25T11:28:53.559Z"
   },
   {
    "duration": 593,
    "start_time": "2022-09-25T11:30:47.476Z"
   },
   {
    "duration": 811,
    "start_time": "2022-09-25T11:56:22.867Z"
   },
   {
    "duration": 925,
    "start_time": "2022-09-25T11:57:49.754Z"
   },
   {
    "duration": 1080,
    "start_time": "2022-09-25T12:04:07.980Z"
   },
   {
    "duration": 1055,
    "start_time": "2022-09-25T12:13:25.688Z"
   },
   {
    "duration": 935,
    "start_time": "2022-09-25T12:13:42.447Z"
   },
   {
    "duration": 1342,
    "start_time": "2022-09-25T12:14:14.448Z"
   },
   {
    "duration": 1058,
    "start_time": "2022-09-25T12:16:21.995Z"
   },
   {
    "duration": 1409,
    "start_time": "2022-09-25T12:22:57.746Z"
   },
   {
    "duration": 1614,
    "start_time": "2022-09-25T12:26:47.608Z"
   },
   {
    "duration": 1959,
    "start_time": "2022-09-25T12:30:34.395Z"
   },
   {
    "duration": 2123,
    "start_time": "2022-09-25T12:33:32.150Z"
   },
   {
    "duration": 1884,
    "start_time": "2022-09-25T12:33:46.064Z"
   },
   {
    "duration": 1985,
    "start_time": "2022-09-25T12:35:16.578Z"
   },
   {
    "duration": 233,
    "start_time": "2022-09-25T12:42:12.956Z"
   },
   {
    "duration": 1001,
    "start_time": "2022-09-25T16:38:33.878Z"
   },
   {
    "duration": 16,
    "start_time": "2022-09-25T16:38:34.880Z"
   },
   {
    "duration": 8,
    "start_time": "2022-09-25T16:38:34.898Z"
   },
   {
    "duration": 9,
    "start_time": "2022-09-25T16:38:34.907Z"
   },
   {
    "duration": 4,
    "start_time": "2022-09-25T16:38:34.918Z"
   },
   {
    "duration": 11,
    "start_time": "2022-09-25T16:38:34.924Z"
   },
   {
    "duration": 7,
    "start_time": "2022-09-25T16:38:34.936Z"
   },
   {
    "duration": 9,
    "start_time": "2022-09-25T16:38:34.945Z"
   },
   {
    "duration": 52,
    "start_time": "2022-09-25T16:38:34.955Z"
   },
   {
    "duration": 15,
    "start_time": "2022-09-25T16:38:35.010Z"
   },
   {
    "duration": 6,
    "start_time": "2022-09-25T16:38:35.027Z"
   },
   {
    "duration": 11,
    "start_time": "2022-09-25T16:38:35.035Z"
   },
   {
    "duration": 7,
    "start_time": "2022-09-25T16:38:35.048Z"
   },
   {
    "duration": 41,
    "start_time": "2022-09-25T16:38:35.057Z"
   },
   {
    "duration": 13,
    "start_time": "2022-09-25T16:38:35.100Z"
   },
   {
    "duration": 12,
    "start_time": "2022-09-25T16:38:35.115Z"
   },
   {
    "duration": 381,
    "start_time": "2022-09-25T16:38:35.129Z"
   },
   {
    "duration": 30,
    "start_time": "2022-09-25T16:38:35.512Z"
   },
   {
    "duration": 341,
    "start_time": "2022-09-25T16:38:35.544Z"
   },
   {
    "duration": 126,
    "start_time": "2022-09-25T16:38:35.887Z"
   },
   {
    "duration": 7,
    "start_time": "2022-09-25T16:38:36.015Z"
   },
   {
    "duration": 376,
    "start_time": "2022-09-25T16:38:36.023Z"
   },
   {
    "duration": 223,
    "start_time": "2022-09-25T16:38:36.401Z"
   },
   {
    "duration": 285,
    "start_time": "2022-09-25T16:38:36.625Z"
   },
   {
    "duration": 24,
    "start_time": "2022-09-25T16:38:36.911Z"
   },
   {
    "duration": 6,
    "start_time": "2022-09-25T16:38:36.938Z"
   },
   {
    "duration": 26685,
    "start_time": "2022-09-25T16:38:36.946Z"
   },
   {
    "duration": 7,
    "start_time": "2022-09-25T16:39:03.635Z"
   },
   {
    "duration": 59,
    "start_time": "2022-09-25T16:39:03.644Z"
   },
   {
    "duration": 237,
    "start_time": "2022-09-25T16:39:03.705Z"
   },
   {
    "duration": 255,
    "start_time": "2022-09-25T16:39:03.944Z"
   },
   {
    "duration": 7,
    "start_time": "2022-09-25T16:39:04.201Z"
   },
   {
    "duration": 34,
    "start_time": "2022-09-25T16:39:04.209Z"
   },
   {
    "duration": 5,
    "start_time": "2022-09-25T16:39:04.245Z"
   },
   {
    "duration": 290,
    "start_time": "2022-09-25T16:39:04.252Z"
   },
   {
    "duration": 2869,
    "start_time": "2022-09-25T16:39:04.543Z"
   },
   {
    "duration": 273,
    "start_time": "2022-09-25T16:39:07.414Z"
   },
   {
    "duration": 9,
    "start_time": "2022-09-25T16:39:07.694Z"
   },
   {
    "duration": 180,
    "start_time": "2022-09-25T16:39:07.704Z"
   },
   {
    "duration": 9,
    "start_time": "2022-09-25T16:39:07.886Z"
   },
   {
    "duration": 8,
    "start_time": "2022-09-25T16:39:07.897Z"
   },
   {
    "duration": 121,
    "start_time": "2022-09-25T16:39:07.907Z"
   },
   {
    "duration": 37,
    "start_time": "2022-09-25T16:39:08.030Z"
   },
   {
    "duration": 7,
    "start_time": "2022-09-25T16:39:08.068Z"
   },
   {
    "duration": 156,
    "start_time": "2022-09-25T16:39:08.076Z"
   },
   {
    "duration": 16,
    "start_time": "2022-09-25T16:39:08.234Z"
   },
   {
    "duration": 545,
    "start_time": "2022-09-25T16:39:08.252Z"
   },
   {
    "duration": 557,
    "start_time": "2022-09-25T16:39:08.799Z"
   },
   {
    "duration": 345,
    "start_time": "2022-09-25T16:39:09.357Z"
   },
   {
    "duration": 89,
    "start_time": "2022-09-25T16:39:09.704Z"
   },
   {
    "duration": 0,
    "start_time": "2022-09-25T16:39:09.795Z"
   },
   {
    "duration": 0,
    "start_time": "2022-09-25T16:39:09.797Z"
   },
   {
    "duration": 0,
    "start_time": "2022-09-25T16:39:09.799Z"
   },
   {
    "duration": 0,
    "start_time": "2022-09-25T16:39:09.800Z"
   },
   {
    "duration": 0,
    "start_time": "2022-09-25T16:39:09.801Z"
   },
   {
    "duration": 0,
    "start_time": "2022-09-25T16:39:09.803Z"
   },
   {
    "duration": 0,
    "start_time": "2022-09-25T16:39:09.804Z"
   },
   {
    "duration": 0,
    "start_time": "2022-09-25T16:39:09.805Z"
   },
   {
    "duration": 0,
    "start_time": "2022-09-25T16:39:09.807Z"
   },
   {
    "duration": 0,
    "start_time": "2022-09-25T16:39:09.808Z"
   },
   {
    "duration": 0,
    "start_time": "2022-09-25T16:39:09.809Z"
   },
   {
    "duration": 0,
    "start_time": "2022-09-25T16:39:09.810Z"
   },
   {
    "duration": 0,
    "start_time": "2022-09-25T16:39:09.812Z"
   },
   {
    "duration": 0,
    "start_time": "2022-09-25T16:39:09.813Z"
   },
   {
    "duration": 0,
    "start_time": "2022-09-25T16:39:09.814Z"
   },
   {
    "duration": 0,
    "start_time": "2022-09-25T16:39:09.816Z"
   },
   {
    "duration": 0,
    "start_time": "2022-09-25T16:39:09.817Z"
   },
   {
    "duration": 0,
    "start_time": "2022-09-25T16:39:09.818Z"
   },
   {
    "duration": 0,
    "start_time": "2022-09-25T16:39:09.819Z"
   },
   {
    "duration": 0,
    "start_time": "2022-09-25T16:39:09.821Z"
   },
   {
    "duration": 0,
    "start_time": "2022-09-25T16:39:09.822Z"
   },
   {
    "duration": 0,
    "start_time": "2022-09-25T16:39:09.823Z"
   },
   {
    "duration": 0,
    "start_time": "2022-09-25T16:39:09.824Z"
   },
   {
    "duration": 0,
    "start_time": "2022-09-25T16:39:09.826Z"
   },
   {
    "duration": 0,
    "start_time": "2022-09-25T16:39:09.830Z"
   },
   {
    "duration": 0,
    "start_time": "2022-09-25T16:39:09.831Z"
   },
   {
    "duration": 0,
    "start_time": "2022-09-25T16:39:09.833Z"
   },
   {
    "duration": 0,
    "start_time": "2022-09-25T16:39:09.834Z"
   },
   {
    "duration": 0,
    "start_time": "2022-09-25T16:39:09.835Z"
   },
   {
    "duration": 0,
    "start_time": "2022-09-25T16:39:09.895Z"
   },
   {
    "duration": 0,
    "start_time": "2022-09-25T16:39:09.896Z"
   },
   {
    "duration": 4703,
    "start_time": "2022-09-25T16:40:42.776Z"
   },
   {
    "duration": 74,
    "start_time": "2022-09-25T16:41:55.025Z"
   },
   {
    "duration": 9,
    "start_time": "2022-09-25T16:50:41.557Z"
   },
   {
    "duration": 13,
    "start_time": "2022-09-25T16:53:19.018Z"
   },
   {
    "duration": 13,
    "start_time": "2022-09-25T16:55:32.259Z"
   },
   {
    "duration": 9,
    "start_time": "2022-09-25T16:56:21.901Z"
   },
   {
    "duration": 4959,
    "start_time": "2022-09-25T16:59:05.239Z"
   },
   {
    "duration": 19,
    "start_time": "2022-09-25T17:00:01.326Z"
   },
   {
    "duration": 13,
    "start_time": "2022-09-25T17:00:40.575Z"
   },
   {
    "duration": 222,
    "start_time": "2022-09-25T17:03:00.140Z"
   },
   {
    "duration": 6,
    "start_time": "2022-09-25T17:04:37.385Z"
   },
   {
    "duration": 256,
    "start_time": "2022-09-25T17:05:01.639Z"
   },
   {
    "duration": 9,
    "start_time": "2022-09-25T17:13:14.552Z"
   },
   {
    "duration": 11,
    "start_time": "2022-09-25T17:15:15.569Z"
   },
   {
    "duration": 255,
    "start_time": "2022-09-25T17:15:38.904Z"
   },
   {
    "duration": 9,
    "start_time": "2022-09-25T17:19:09.844Z"
   },
   {
    "duration": 10,
    "start_time": "2022-09-25T17:24:34.664Z"
   },
   {
    "duration": 17,
    "start_time": "2022-09-25T17:26:24.482Z"
   },
   {
    "duration": 85,
    "start_time": "2022-09-25T17:27:49.789Z"
   },
   {
    "duration": 121,
    "start_time": "2022-09-25T17:28:18.963Z"
   },
   {
    "duration": 22,
    "start_time": "2022-09-25T17:28:19.085Z"
   },
   {
    "duration": 10,
    "start_time": "2022-09-25T17:28:19.109Z"
   },
   {
    "duration": 10,
    "start_time": "2022-09-25T17:28:19.121Z"
   },
   {
    "duration": 6,
    "start_time": "2022-09-25T17:28:19.133Z"
   },
   {
    "duration": 11,
    "start_time": "2022-09-25T17:28:19.140Z"
   },
   {
    "duration": 47,
    "start_time": "2022-09-25T17:28:19.152Z"
   },
   {
    "duration": 14,
    "start_time": "2022-09-25T17:28:19.201Z"
   },
   {
    "duration": 12,
    "start_time": "2022-09-25T17:28:19.217Z"
   },
   {
    "duration": 6,
    "start_time": "2022-09-25T17:28:19.232Z"
   },
   {
    "duration": 10,
    "start_time": "2022-09-25T17:28:19.240Z"
   },
   {
    "duration": 16,
    "start_time": "2022-09-25T17:28:19.252Z"
   },
   {
    "duration": 35,
    "start_time": "2022-09-25T17:28:19.270Z"
   },
   {
    "duration": 23,
    "start_time": "2022-09-25T17:28:19.308Z"
   },
   {
    "duration": 23,
    "start_time": "2022-09-25T17:28:19.332Z"
   },
   {
    "duration": 13,
    "start_time": "2022-09-25T17:28:19.357Z"
   },
   {
    "duration": 346,
    "start_time": "2022-09-25T17:28:19.395Z"
   },
   {
    "duration": 26,
    "start_time": "2022-09-25T17:28:19.743Z"
   },
   {
    "duration": 250,
    "start_time": "2022-09-25T17:28:19.771Z"
   },
   {
    "duration": 133,
    "start_time": "2022-09-25T17:28:20.023Z"
   },
   {
    "duration": 7,
    "start_time": "2022-09-25T17:28:20.158Z"
   },
   {
    "duration": 367,
    "start_time": "2022-09-25T17:28:20.167Z"
   },
   {
    "duration": 171,
    "start_time": "2022-09-25T17:28:20.536Z"
   },
   {
    "duration": 300,
    "start_time": "2022-09-25T17:28:20.709Z"
   },
   {
    "duration": 24,
    "start_time": "2022-09-25T17:28:21.013Z"
   },
   {
    "duration": 7,
    "start_time": "2022-09-25T17:28:21.038Z"
   },
   {
    "duration": 26524,
    "start_time": "2022-09-25T17:28:21.046Z"
   },
   {
    "duration": 6,
    "start_time": "2022-09-25T17:28:47.572Z"
   },
   {
    "duration": 70,
    "start_time": "2022-09-25T17:28:47.580Z"
   },
   {
    "duration": 247,
    "start_time": "2022-09-25T17:28:47.652Z"
   },
   {
    "duration": 10,
    "start_time": "2022-09-25T17:28:47.901Z"
   },
   {
    "duration": 300,
    "start_time": "2022-09-25T17:28:47.913Z"
   },
   {
    "duration": 10,
    "start_time": "2022-09-25T17:28:48.214Z"
   },
   {
    "duration": 32,
    "start_time": "2022-09-25T17:28:48.225Z"
   },
   {
    "duration": 9,
    "start_time": "2022-09-25T17:28:48.259Z"
   },
   {
    "duration": 306,
    "start_time": "2022-09-25T17:28:48.295Z"
   },
   {
    "duration": 6093,
    "start_time": "2022-09-25T17:28:48.602Z"
   },
   {
    "duration": 284,
    "start_time": "2022-09-25T17:28:54.696Z"
   },
   {
    "duration": 24,
    "start_time": "2022-09-25T17:28:54.982Z"
   },
   {
    "duration": 196,
    "start_time": "2022-09-25T17:28:55.008Z"
   },
   {
    "duration": 12,
    "start_time": "2022-09-25T17:28:55.205Z"
   },
   {
    "duration": 8,
    "start_time": "2022-09-25T17:28:55.219Z"
   },
   {
    "duration": 175,
    "start_time": "2022-09-25T17:28:55.229Z"
   },
   {
    "duration": 89,
    "start_time": "2022-09-25T17:28:55.406Z"
   },
   {
    "duration": 6,
    "start_time": "2022-09-25T17:28:55.497Z"
   },
   {
    "duration": 301,
    "start_time": "2022-09-25T17:28:55.505Z"
   },
   {
    "duration": 17,
    "start_time": "2022-09-25T17:28:55.808Z"
   },
   {
    "duration": 572,
    "start_time": "2022-09-25T17:28:55.826Z"
   },
   {
    "duration": 9,
    "start_time": "2022-09-25T17:28:56.400Z"
   },
   {
    "duration": 749,
    "start_time": "2022-09-25T17:28:56.411Z"
   },
   {
    "duration": 287,
    "start_time": "2022-09-25T17:28:57.161Z"
   },
   {
    "duration": 11,
    "start_time": "2022-09-25T17:28:57.450Z"
   },
   {
    "duration": 305,
    "start_time": "2022-09-25T17:28:57.463Z"
   },
   {
    "duration": 263,
    "start_time": "2022-09-25T17:28:57.770Z"
   },
   {
    "duration": 8,
    "start_time": "2022-09-25T17:28:58.035Z"
   },
   {
    "duration": 282,
    "start_time": "2022-09-25T17:28:58.045Z"
   },
   {
    "duration": 334,
    "start_time": "2022-09-25T17:28:58.328Z"
   },
   {
    "duration": 443,
    "start_time": "2022-09-25T17:28:58.664Z"
   },
   {
    "duration": 376,
    "start_time": "2022-09-25T17:28:59.109Z"
   },
   {
    "duration": 19,
    "start_time": "2022-09-25T17:28:59.486Z"
   },
   {
    "duration": 74,
    "start_time": "2022-09-25T17:28:59.507Z"
   },
   {
    "duration": 0,
    "start_time": "2022-09-25T17:28:59.584Z"
   },
   {
    "duration": 0,
    "start_time": "2022-09-25T17:28:59.586Z"
   },
   {
    "duration": 0,
    "start_time": "2022-09-25T17:28:59.587Z"
   },
   {
    "duration": 0,
    "start_time": "2022-09-25T17:28:59.589Z"
   },
   {
    "duration": 0,
    "start_time": "2022-09-25T17:28:59.590Z"
   },
   {
    "duration": 0,
    "start_time": "2022-09-25T17:28:59.591Z"
   },
   {
    "duration": 0,
    "start_time": "2022-09-25T17:28:59.592Z"
   },
   {
    "duration": 0,
    "start_time": "2022-09-25T17:28:59.593Z"
   },
   {
    "duration": 0,
    "start_time": "2022-09-25T17:28:59.594Z"
   },
   {
    "duration": 0,
    "start_time": "2022-09-25T17:28:59.595Z"
   },
   {
    "duration": 0,
    "start_time": "2022-09-25T17:28:59.596Z"
   },
   {
    "duration": 0,
    "start_time": "2022-09-25T17:28:59.597Z"
   },
   {
    "duration": 0,
    "start_time": "2022-09-25T17:28:59.598Z"
   },
   {
    "duration": 0,
    "start_time": "2022-09-25T17:28:59.599Z"
   },
   {
    "duration": 0,
    "start_time": "2022-09-25T17:28:59.600Z"
   },
   {
    "duration": 0,
    "start_time": "2022-09-25T17:28:59.601Z"
   },
   {
    "duration": 0,
    "start_time": "2022-09-25T17:28:59.602Z"
   },
   {
    "duration": 0,
    "start_time": "2022-09-25T17:28:59.602Z"
   },
   {
    "duration": 0,
    "start_time": "2022-09-25T17:28:59.605Z"
   },
   {
    "duration": 0,
    "start_time": "2022-09-25T17:28:59.606Z"
   },
   {
    "duration": 0,
    "start_time": "2022-09-25T17:28:59.607Z"
   },
   {
    "duration": 0,
    "start_time": "2022-09-25T17:28:59.608Z"
   },
   {
    "duration": 0,
    "start_time": "2022-09-25T17:28:59.609Z"
   },
   {
    "duration": 20,
    "start_time": "2022-09-25T17:29:32.573Z"
   },
   {
    "duration": 20,
    "start_time": "2022-09-25T17:30:34.716Z"
   },
   {
    "duration": 24,
    "start_time": "2022-09-25T17:31:52.693Z"
   },
   {
    "duration": 13,
    "start_time": "2022-09-25T17:33:23.515Z"
   },
   {
    "duration": 11,
    "start_time": "2022-09-25T17:34:05.805Z"
   },
   {
    "duration": 31572,
    "start_time": "2022-09-25T17:34:20.727Z"
   },
   {
    "duration": 4797,
    "start_time": "2022-09-25T17:36:12.564Z"
   },
   {
    "duration": 4547,
    "start_time": "2022-09-25T17:38:02.696Z"
   },
   {
    "duration": 4273,
    "start_time": "2022-09-25T17:45:17.312Z"
   },
   {
    "duration": 4641,
    "start_time": "2022-09-25T17:45:28.509Z"
   },
   {
    "duration": 781,
    "start_time": "2022-09-25T18:16:39.105Z"
   },
   {
    "duration": 18,
    "start_time": "2022-09-25T18:16:39.888Z"
   },
   {
    "duration": 8,
    "start_time": "2022-09-25T18:16:39.908Z"
   },
   {
    "duration": 9,
    "start_time": "2022-09-25T18:16:39.918Z"
   },
   {
    "duration": 5,
    "start_time": "2022-09-25T18:16:39.929Z"
   },
   {
    "duration": 10,
    "start_time": "2022-09-25T18:16:39.935Z"
   },
   {
    "duration": 7,
    "start_time": "2022-09-25T18:16:39.947Z"
   },
   {
    "duration": 45,
    "start_time": "2022-09-25T18:16:39.955Z"
   },
   {
    "duration": 12,
    "start_time": "2022-09-25T18:16:40.002Z"
   },
   {
    "duration": 7,
    "start_time": "2022-09-25T18:16:40.016Z"
   },
   {
    "duration": 5,
    "start_time": "2022-09-25T18:16:40.024Z"
   },
   {
    "duration": 14,
    "start_time": "2022-09-25T18:16:40.031Z"
   },
   {
    "duration": 8,
    "start_time": "2022-09-25T18:16:40.046Z"
   },
   {
    "duration": 52,
    "start_time": "2022-09-25T18:16:40.057Z"
   },
   {
    "duration": 15,
    "start_time": "2022-09-25T18:16:40.110Z"
   },
   {
    "duration": 12,
    "start_time": "2022-09-25T18:16:40.127Z"
   },
   {
    "duration": 396,
    "start_time": "2022-09-25T18:16:40.141Z"
   },
   {
    "duration": 35,
    "start_time": "2022-09-25T18:16:40.539Z"
   },
   {
    "duration": 308,
    "start_time": "2022-09-25T18:16:40.576Z"
   },
   {
    "duration": 133,
    "start_time": "2022-09-25T18:16:40.886Z"
   },
   {
    "duration": 7,
    "start_time": "2022-09-25T18:16:41.021Z"
   },
   {
    "duration": 378,
    "start_time": "2022-09-25T18:16:41.029Z"
   },
   {
    "duration": 245,
    "start_time": "2022-09-25T18:16:41.409Z"
   },
   {
    "duration": 252,
    "start_time": "2022-09-25T18:16:41.656Z"
   },
   {
    "duration": 28,
    "start_time": "2022-09-25T18:16:41.910Z"
   },
   {
    "duration": 6,
    "start_time": "2022-09-25T18:16:41.939Z"
   },
   {
    "duration": 28543,
    "start_time": "2022-09-25T18:16:41.947Z"
   },
   {
    "duration": 6,
    "start_time": "2022-09-25T18:17:10.495Z"
   },
   {
    "duration": 61,
    "start_time": "2022-09-25T18:17:10.503Z"
   },
   {
    "duration": 249,
    "start_time": "2022-09-25T18:17:10.566Z"
   },
   {
    "duration": 9,
    "start_time": "2022-09-25T18:17:10.817Z"
   },
   {
    "duration": 279,
    "start_time": "2022-09-25T18:17:10.827Z"
   },
   {
    "duration": 9,
    "start_time": "2022-09-25T18:17:11.108Z"
   },
   {
    "duration": 31,
    "start_time": "2022-09-25T18:17:11.119Z"
   },
   {
    "duration": 10,
    "start_time": "2022-09-25T18:17:11.152Z"
   },
   {
    "duration": 320,
    "start_time": "2022-09-25T18:17:11.163Z"
   },
   {
    "duration": 6274,
    "start_time": "2022-09-25T18:17:11.485Z"
   },
   {
    "duration": 300,
    "start_time": "2022-09-25T18:17:17.760Z"
   },
   {
    "duration": 17,
    "start_time": "2022-09-25T18:17:18.062Z"
   },
   {
    "duration": 214,
    "start_time": "2022-09-25T18:17:18.081Z"
   },
   {
    "duration": 11,
    "start_time": "2022-09-25T18:17:18.300Z"
   },
   {
    "duration": 6,
    "start_time": "2022-09-25T18:17:18.313Z"
   },
   {
    "duration": 158,
    "start_time": "2022-09-25T18:17:18.321Z"
   },
   {
    "duration": 69,
    "start_time": "2022-09-25T18:17:18.481Z"
   },
   {
    "duration": 6,
    "start_time": "2022-09-25T18:17:18.552Z"
   },
   {
    "duration": 298,
    "start_time": "2022-09-25T18:17:18.560Z"
   },
   {
    "duration": 16,
    "start_time": "2022-09-25T18:17:18.859Z"
   },
   {
    "duration": 538,
    "start_time": "2022-09-25T18:17:18.877Z"
   },
   {
    "duration": 9,
    "start_time": "2022-09-25T18:17:19.416Z"
   },
   {
    "duration": 598,
    "start_time": "2022-09-25T18:17:19.426Z"
   },
   {
    "duration": 287,
    "start_time": "2022-09-25T18:17:20.026Z"
   },
   {
    "duration": 11,
    "start_time": "2022-09-25T18:17:20.315Z"
   },
   {
    "duration": 262,
    "start_time": "2022-09-25T18:17:20.327Z"
   },
   {
    "duration": 268,
    "start_time": "2022-09-25T18:17:20.594Z"
   },
   {
    "duration": 53,
    "start_time": "2022-09-25T18:17:20.864Z"
   },
   {
    "duration": 0,
    "start_time": "2022-09-25T18:17:20.919Z"
   },
   {
    "duration": 0,
    "start_time": "2022-09-25T18:17:20.920Z"
   },
   {
    "duration": 0,
    "start_time": "2022-09-25T18:17:20.922Z"
   },
   {
    "duration": 0,
    "start_time": "2022-09-25T18:17:20.923Z"
   },
   {
    "duration": 0,
    "start_time": "2022-09-25T18:17:20.924Z"
   },
   {
    "duration": 0,
    "start_time": "2022-09-25T18:17:20.926Z"
   },
   {
    "duration": 0,
    "start_time": "2022-09-25T18:17:20.927Z"
   },
   {
    "duration": 0,
    "start_time": "2022-09-25T18:17:20.928Z"
   },
   {
    "duration": 0,
    "start_time": "2022-09-25T18:17:20.930Z"
   },
   {
    "duration": 0,
    "start_time": "2022-09-25T18:17:20.931Z"
   },
   {
    "duration": 0,
    "start_time": "2022-09-25T18:17:20.932Z"
   },
   {
    "duration": 0,
    "start_time": "2022-09-25T18:17:20.933Z"
   },
   {
    "duration": 0,
    "start_time": "2022-09-25T18:17:20.935Z"
   },
   {
    "duration": 0,
    "start_time": "2022-09-25T18:17:20.936Z"
   },
   {
    "duration": 0,
    "start_time": "2022-09-25T18:17:20.937Z"
   },
   {
    "duration": 0,
    "start_time": "2022-09-25T18:17:20.938Z"
   },
   {
    "duration": 0,
    "start_time": "2022-09-25T18:17:20.939Z"
   },
   {
    "duration": 0,
    "start_time": "2022-09-25T18:17:20.940Z"
   },
   {
    "duration": 0,
    "start_time": "2022-09-25T18:17:20.941Z"
   },
   {
    "duration": 0,
    "start_time": "2022-09-25T18:17:20.942Z"
   },
   {
    "duration": 0,
    "start_time": "2022-09-25T18:17:20.943Z"
   },
   {
    "duration": 0,
    "start_time": "2022-09-25T18:17:20.944Z"
   },
   {
    "duration": 0,
    "start_time": "2022-09-25T18:17:20.945Z"
   },
   {
    "duration": 0,
    "start_time": "2022-09-25T18:17:20.946Z"
   },
   {
    "duration": 0,
    "start_time": "2022-09-25T18:17:20.948Z"
   },
   {
    "duration": 0,
    "start_time": "2022-09-25T18:17:20.949Z"
   },
   {
    "duration": 0,
    "start_time": "2022-09-25T18:17:20.950Z"
   },
   {
    "duration": 0,
    "start_time": "2022-09-25T18:17:20.950Z"
   },
   {
    "duration": 0,
    "start_time": "2022-09-25T18:17:20.951Z"
   },
   {
    "duration": 16,
    "start_time": "2022-09-25T18:18:14.533Z"
   },
   {
    "duration": 3095,
    "start_time": "2022-09-25T18:19:08.728Z"
   },
   {
    "duration": 14,
    "start_time": "2022-09-25T18:21:04.019Z"
   },
   {
    "duration": 3068,
    "start_time": "2022-09-25T18:21:16.201Z"
   },
   {
    "duration": 3151,
    "start_time": "2022-09-25T18:21:39.752Z"
   },
   {
    "duration": 2932,
    "start_time": "2022-09-25T18:22:19.080Z"
   },
   {
    "duration": 14,
    "start_time": "2022-09-25T18:23:22.654Z"
   },
   {
    "duration": 768,
    "start_time": "2022-09-25T18:23:54.949Z"
   },
   {
    "duration": 16,
    "start_time": "2022-09-25T18:23:55.719Z"
   },
   {
    "duration": 9,
    "start_time": "2022-09-25T18:23:55.737Z"
   },
   {
    "duration": 11,
    "start_time": "2022-09-25T18:23:55.748Z"
   },
   {
    "duration": 6,
    "start_time": "2022-09-25T18:23:55.761Z"
   },
   {
    "duration": 10,
    "start_time": "2022-09-25T18:23:55.795Z"
   },
   {
    "duration": 8,
    "start_time": "2022-09-25T18:23:55.807Z"
   },
   {
    "duration": 10,
    "start_time": "2022-09-25T18:23:55.816Z"
   },
   {
    "duration": 12,
    "start_time": "2022-09-25T18:23:55.827Z"
   },
   {
    "duration": 6,
    "start_time": "2022-09-25T18:23:55.842Z"
   },
   {
    "duration": 9,
    "start_time": "2022-09-25T18:23:55.850Z"
   },
   {
    "duration": 42,
    "start_time": "2022-09-25T18:23:55.860Z"
   },
   {
    "duration": 7,
    "start_time": "2022-09-25T18:23:55.904Z"
   },
   {
    "duration": 17,
    "start_time": "2022-09-25T18:23:55.913Z"
   },
   {
    "duration": 14,
    "start_time": "2022-09-25T18:23:55.932Z"
   },
   {
    "duration": 13,
    "start_time": "2022-09-25T18:23:55.948Z"
   },
   {
    "duration": 397,
    "start_time": "2022-09-25T18:23:55.962Z"
   },
   {
    "duration": 36,
    "start_time": "2022-09-25T18:23:56.361Z"
   },
   {
    "duration": 341,
    "start_time": "2022-09-25T18:23:56.399Z"
   },
   {
    "duration": 154,
    "start_time": "2022-09-25T18:23:56.743Z"
   },
   {
    "duration": 6,
    "start_time": "2022-09-25T18:23:56.899Z"
   },
   {
    "duration": 369,
    "start_time": "2022-09-25T18:23:56.907Z"
   },
   {
    "duration": 212,
    "start_time": "2022-09-25T18:23:57.277Z"
   },
   {
    "duration": 209,
    "start_time": "2022-09-25T18:23:57.490Z"
   },
   {
    "duration": 23,
    "start_time": "2022-09-25T18:23:57.701Z"
   },
   {
    "duration": 6,
    "start_time": "2022-09-25T18:23:57.725Z"
   },
   {
    "duration": 26466,
    "start_time": "2022-09-25T18:23:57.732Z"
   },
   {
    "duration": 7,
    "start_time": "2022-09-25T18:24:24.202Z"
   },
   {
    "duration": 58,
    "start_time": "2022-09-25T18:24:24.211Z"
   },
   {
    "duration": 229,
    "start_time": "2022-09-25T18:24:24.271Z"
   },
   {
    "duration": 7,
    "start_time": "2022-09-25T18:24:24.501Z"
   },
   {
    "duration": 251,
    "start_time": "2022-09-25T18:24:24.509Z"
   },
   {
    "duration": 10,
    "start_time": "2022-09-25T18:24:24.762Z"
   },
   {
    "duration": 48,
    "start_time": "2022-09-25T18:24:24.774Z"
   },
   {
    "duration": 12,
    "start_time": "2022-09-25T18:24:24.823Z"
   },
   {
    "duration": 306,
    "start_time": "2022-09-25T18:24:24.836Z"
   },
   {
    "duration": 5773,
    "start_time": "2022-09-25T18:24:25.143Z"
   },
   {
    "duration": 281,
    "start_time": "2022-09-25T18:24:30.918Z"
   },
   {
    "duration": 15,
    "start_time": "2022-09-25T18:24:31.201Z"
   },
   {
    "duration": 195,
    "start_time": "2022-09-25T18:24:31.218Z"
   },
   {
    "duration": 11,
    "start_time": "2022-09-25T18:24:31.415Z"
   },
   {
    "duration": 7,
    "start_time": "2022-09-25T18:24:31.428Z"
   },
   {
    "duration": 167,
    "start_time": "2022-09-25T18:24:31.436Z"
   },
   {
    "duration": 66,
    "start_time": "2022-09-25T18:24:31.605Z"
   },
   {
    "duration": 7,
    "start_time": "2022-09-25T18:24:31.673Z"
   },
   {
    "duration": 281,
    "start_time": "2022-09-25T18:24:31.694Z"
   },
   {
    "duration": 26,
    "start_time": "2022-09-25T18:24:31.977Z"
   },
   {
    "duration": 581,
    "start_time": "2022-09-25T18:24:32.006Z"
   },
   {
    "duration": 10,
    "start_time": "2022-09-25T18:24:32.595Z"
   },
   {
    "duration": 676,
    "start_time": "2022-09-25T18:24:32.607Z"
   },
   {
    "duration": 265,
    "start_time": "2022-09-25T18:24:33.285Z"
   },
   {
    "duration": 9,
    "start_time": "2022-09-25T18:24:33.552Z"
   },
   {
    "duration": 252,
    "start_time": "2022-09-25T18:24:33.563Z"
   },
   {
    "duration": 265,
    "start_time": "2022-09-25T18:24:33.817Z"
   },
   {
    "duration": 12,
    "start_time": "2022-09-25T18:24:34.084Z"
   },
   {
    "duration": 268,
    "start_time": "2022-09-25T18:24:34.098Z"
   },
   {
    "duration": 336,
    "start_time": "2022-09-25T18:24:34.368Z"
   },
   {
    "duration": 455,
    "start_time": "2022-09-25T18:24:34.706Z"
   },
   {
    "duration": 359,
    "start_time": "2022-09-25T18:24:35.163Z"
   },
   {
    "duration": 13,
    "start_time": "2022-09-25T18:24:35.523Z"
   },
   {
    "duration": 278,
    "start_time": "2022-09-25T18:24:35.538Z"
   },
   {
    "duration": 335,
    "start_time": "2022-09-25T18:24:35.819Z"
   },
   {
    "duration": 721,
    "start_time": "2022-09-25T18:24:36.156Z"
   },
   {
    "duration": 580,
    "start_time": "2022-09-25T18:24:36.880Z"
   },
   {
    "duration": 364,
    "start_time": "2022-09-25T18:24:37.462Z"
   },
   {
    "duration": 373,
    "start_time": "2022-09-25T18:24:37.828Z"
   },
   {
    "duration": 78,
    "start_time": "2022-09-25T18:24:38.204Z"
   },
   {
    "duration": 0,
    "start_time": "2022-09-25T18:24:38.283Z"
   },
   {
    "duration": 0,
    "start_time": "2022-09-25T18:24:38.285Z"
   },
   {
    "duration": 0,
    "start_time": "2022-09-25T18:24:38.295Z"
   },
   {
    "duration": 0,
    "start_time": "2022-09-25T18:24:38.296Z"
   },
   {
    "duration": 1,
    "start_time": "2022-09-25T18:24:38.297Z"
   },
   {
    "duration": 0,
    "start_time": "2022-09-25T18:24:38.299Z"
   },
   {
    "duration": 0,
    "start_time": "2022-09-25T18:24:38.301Z"
   },
   {
    "duration": 0,
    "start_time": "2022-09-25T18:24:38.302Z"
   },
   {
    "duration": 0,
    "start_time": "2022-09-25T18:24:38.303Z"
   },
   {
    "duration": 0,
    "start_time": "2022-09-25T18:24:38.304Z"
   },
   {
    "duration": 0,
    "start_time": "2022-09-25T18:24:38.306Z"
   },
   {
    "duration": 0,
    "start_time": "2022-09-25T18:24:38.307Z"
   },
   {
    "duration": 0,
    "start_time": "2022-09-25T18:24:38.308Z"
   },
   {
    "duration": 0,
    "start_time": "2022-09-25T18:24:38.310Z"
   },
   {
    "duration": 0,
    "start_time": "2022-09-25T18:24:38.311Z"
   },
   {
    "duration": 0,
    "start_time": "2022-09-25T18:24:38.312Z"
   },
   {
    "duration": 0,
    "start_time": "2022-09-25T18:24:38.314Z"
   },
   {
    "duration": 12,
    "start_time": "2022-09-25T18:25:30.376Z"
   },
   {
    "duration": 19,
    "start_time": "2022-09-25T18:25:40.664Z"
   },
   {
    "duration": 23,
    "start_time": "2022-09-25T18:26:03.094Z"
   },
   {
    "duration": 23,
    "start_time": "2022-09-25T18:26:23.975Z"
   },
   {
    "duration": 5599,
    "start_time": "2022-09-25T18:27:11.626Z"
   },
   {
    "duration": 31,
    "start_time": "2022-09-25T18:27:35.551Z"
   },
   {
    "duration": 25,
    "start_time": "2022-09-25T18:27:58.166Z"
   },
   {
    "duration": 241,
    "start_time": "2022-09-25T18:28:36.621Z"
   },
   {
    "duration": 19,
    "start_time": "2022-09-25T18:29:02.831Z"
   },
   {
    "duration": 267,
    "start_time": "2022-09-25T18:29:16.160Z"
   },
   {
    "duration": 28,
    "start_time": "2022-09-25T18:29:41.543Z"
   },
   {
    "duration": 18,
    "start_time": "2022-09-25T18:30:12.956Z"
   },
   {
    "duration": 26,
    "start_time": "2022-09-25T18:30:38.038Z"
   },
   {
    "duration": 8,
    "start_time": "2022-09-25T18:31:03.719Z"
   },
   {
    "duration": 20,
    "start_time": "2022-09-25T18:31:10.547Z"
   },
   {
    "duration": 7,
    "start_time": "2022-09-25T18:31:36.517Z"
   },
   {
    "duration": 9,
    "start_time": "2022-09-25T18:31:58.529Z"
   },
   {
    "duration": 3653,
    "start_time": "2022-09-25T18:32:13.727Z"
   },
   {
    "duration": 3511,
    "start_time": "2022-09-25T18:32:46.164Z"
   },
   {
    "duration": 3485,
    "start_time": "2022-09-25T18:33:17.935Z"
   },
   {
    "duration": 4820,
    "start_time": "2022-09-25T18:35:01.475Z"
   },
   {
    "duration": 4730,
    "start_time": "2022-09-25T18:35:21.445Z"
   },
   {
    "duration": 4910,
    "start_time": "2022-09-25T18:36:27.535Z"
   },
   {
    "duration": 4953,
    "start_time": "2022-09-25T18:38:09.195Z"
   },
   {
    "duration": 24,
    "start_time": "2022-09-25T18:56:47.165Z"
   },
   {
    "duration": 458,
    "start_time": "2022-09-25T18:57:06.941Z"
   },
   {
    "duration": 182,
    "start_time": "2022-09-25T18:58:50.030Z"
   },
   {
    "duration": 323,
    "start_time": "2022-09-25T18:59:39.416Z"
   },
   {
    "duration": 393,
    "start_time": "2022-09-25T19:04:46.827Z"
   },
   {
    "duration": 588,
    "start_time": "2022-09-25T19:05:12.977Z"
   },
   {
    "duration": 386,
    "start_time": "2022-09-25T19:08:30.522Z"
   },
   {
    "duration": 395,
    "start_time": "2022-09-25T19:09:01.704Z"
   },
   {
    "duration": 330,
    "start_time": "2022-09-25T19:12:01.407Z"
   },
   {
    "duration": 360,
    "start_time": "2022-09-25T19:13:54.557Z"
   },
   {
    "duration": 377,
    "start_time": "2022-09-25T19:16:36.033Z"
   },
   {
    "duration": 405,
    "start_time": "2022-09-25T19:19:37.502Z"
   },
   {
    "duration": 401,
    "start_time": "2022-09-25T19:21:07.262Z"
   },
   {
    "duration": 491,
    "start_time": "2022-09-25T19:24:57.185Z"
   },
   {
    "duration": 385,
    "start_time": "2022-09-25T19:25:14.930Z"
   },
   {
    "duration": 367,
    "start_time": "2022-09-25T19:25:29.794Z"
   },
   {
    "duration": 372,
    "start_time": "2022-09-25T19:26:32.797Z"
   },
   {
    "duration": 365,
    "start_time": "2022-09-25T19:26:47.970Z"
   },
   {
    "duration": 364,
    "start_time": "2022-09-25T19:27:19.586Z"
   },
   {
    "duration": 412,
    "start_time": "2022-09-25T19:27:35.868Z"
   },
   {
    "duration": 377,
    "start_time": "2022-09-25T19:28:06.138Z"
   },
   {
    "duration": 414,
    "start_time": "2022-09-25T19:32:25.576Z"
   },
   {
    "duration": 422,
    "start_time": "2022-09-25T19:36:28.229Z"
   },
   {
    "duration": 3534,
    "start_time": "2022-09-25T19:45:41.175Z"
   },
   {
    "duration": 59,
    "start_time": "2022-09-26T03:45:36.444Z"
   },
   {
    "duration": 1460,
    "start_time": "2022-09-26T03:47:09.894Z"
   },
   {
    "duration": 17,
    "start_time": "2022-09-26T03:47:11.356Z"
   },
   {
    "duration": 11,
    "start_time": "2022-09-26T03:47:11.376Z"
   },
   {
    "duration": 9,
    "start_time": "2022-09-26T03:47:11.390Z"
   },
   {
    "duration": 18,
    "start_time": "2022-09-26T03:47:11.401Z"
   },
   {
    "duration": 42,
    "start_time": "2022-09-26T03:47:11.421Z"
   },
   {
    "duration": 9,
    "start_time": "2022-09-26T03:47:11.466Z"
   },
   {
    "duration": 8,
    "start_time": "2022-09-26T03:47:11.478Z"
   },
   {
    "duration": 14,
    "start_time": "2022-09-26T03:47:11.490Z"
   },
   {
    "duration": 25,
    "start_time": "2022-09-26T03:47:11.507Z"
   },
   {
    "duration": 25,
    "start_time": "2022-09-26T03:47:11.552Z"
   },
   {
    "duration": 15,
    "start_time": "2022-09-26T03:47:11.580Z"
   },
   {
    "duration": 65,
    "start_time": "2022-09-26T03:47:11.597Z"
   },
   {
    "duration": 32,
    "start_time": "2022-09-26T03:47:11.663Z"
   },
   {
    "duration": 18,
    "start_time": "2022-09-26T03:47:11.698Z"
   },
   {
    "duration": 57,
    "start_time": "2022-09-26T03:47:11.717Z"
   },
   {
    "duration": 496,
    "start_time": "2022-09-26T03:47:11.777Z"
   },
   {
    "duration": 60,
    "start_time": "2022-09-26T03:47:12.275Z"
   },
   {
    "duration": 400,
    "start_time": "2022-09-26T03:47:12.340Z"
   },
   {
    "duration": 176,
    "start_time": "2022-09-26T03:47:12.744Z"
   },
   {
    "duration": 20,
    "start_time": "2022-09-26T03:47:12.929Z"
   },
   {
    "duration": 449,
    "start_time": "2022-09-26T03:47:12.954Z"
   },
   {
    "duration": 263,
    "start_time": "2022-09-26T03:47:13.413Z"
   },
   {
    "duration": 270,
    "start_time": "2022-09-26T03:47:13.677Z"
   },
   {
    "duration": 24,
    "start_time": "2022-09-26T03:47:13.950Z"
   },
   {
    "duration": 6,
    "start_time": "2022-09-26T03:47:13.976Z"
   },
   {
    "duration": 27875,
    "start_time": "2022-09-26T03:47:13.984Z"
   },
   {
    "duration": 21,
    "start_time": "2022-09-26T03:47:41.865Z"
   },
   {
    "duration": 92,
    "start_time": "2022-09-26T03:47:41.888Z"
   },
   {
    "duration": 319,
    "start_time": "2022-09-26T03:47:41.982Z"
   },
   {
    "duration": 38,
    "start_time": "2022-09-26T03:47:42.303Z"
   },
   {
    "duration": 317,
    "start_time": "2022-09-26T03:47:42.348Z"
   },
   {
    "duration": 11,
    "start_time": "2022-09-26T03:47:42.667Z"
   },
   {
    "duration": 58,
    "start_time": "2022-09-26T03:47:42.680Z"
   },
   {
    "duration": 13,
    "start_time": "2022-09-26T03:47:42.744Z"
   },
   {
    "duration": 383,
    "start_time": "2022-09-26T03:47:42.766Z"
   },
   {
    "duration": 7193,
    "start_time": "2022-09-26T03:47:43.154Z"
   },
   {
    "duration": 336,
    "start_time": "2022-09-26T03:47:50.349Z"
   },
   {
    "duration": 27,
    "start_time": "2022-09-26T03:47:50.688Z"
   },
   {
    "duration": 256,
    "start_time": "2022-09-26T03:47:50.716Z"
   },
   {
    "duration": 14,
    "start_time": "2022-09-26T03:47:50.974Z"
   },
   {
    "duration": 15,
    "start_time": "2022-09-26T03:47:50.989Z"
   },
   {
    "duration": 178,
    "start_time": "2022-09-26T03:47:51.020Z"
   },
   {
    "duration": 135,
    "start_time": "2022-09-26T03:47:51.200Z"
   },
   {
    "duration": 8,
    "start_time": "2022-09-26T03:47:51.344Z"
   },
   {
    "duration": 414,
    "start_time": "2022-09-26T03:47:51.353Z"
   },
   {
    "duration": 26,
    "start_time": "2022-09-26T03:47:51.769Z"
   },
   {
    "duration": 661,
    "start_time": "2022-09-26T03:47:51.798Z"
   },
   {
    "duration": 9,
    "start_time": "2022-09-26T03:47:52.461Z"
   },
   {
    "duration": 616,
    "start_time": "2022-09-26T03:47:52.472Z"
   },
   {
    "duration": 303,
    "start_time": "2022-09-26T03:47:53.090Z"
   },
   {
    "duration": 32,
    "start_time": "2022-09-26T03:47:53.395Z"
   },
   {
    "duration": 263,
    "start_time": "2022-09-26T03:47:53.432Z"
   },
   {
    "duration": 261,
    "start_time": "2022-09-26T03:47:53.697Z"
   },
   {
    "duration": 9,
    "start_time": "2022-09-26T03:47:53.961Z"
   },
   {
    "duration": 302,
    "start_time": "2022-09-26T03:47:53.972Z"
   },
   {
    "duration": 387,
    "start_time": "2022-09-26T03:47:54.276Z"
   },
   {
    "duration": 503,
    "start_time": "2022-09-26T03:47:54.665Z"
   },
   {
    "duration": 467,
    "start_time": "2022-09-26T03:47:55.170Z"
   },
   {
    "duration": 20,
    "start_time": "2022-09-26T03:47:55.639Z"
   },
   {
    "duration": 326,
    "start_time": "2022-09-26T03:47:55.661Z"
   },
   {
    "duration": 372,
    "start_time": "2022-09-26T03:47:55.989Z"
   },
   {
    "duration": 734,
    "start_time": "2022-09-26T03:47:56.363Z"
   },
   {
    "duration": 601,
    "start_time": "2022-09-26T03:47:57.099Z"
   },
   {
    "duration": 340,
    "start_time": "2022-09-26T03:47:57.701Z"
   },
   {
    "duration": 439,
    "start_time": "2022-09-26T03:47:58.043Z"
   },
   {
    "duration": 8,
    "start_time": "2022-09-26T03:47:58.483Z"
   },
   {
    "duration": 686,
    "start_time": "2022-09-26T03:47:58.493Z"
   },
   {
    "duration": 615,
    "start_time": "2022-09-26T03:47:59.181Z"
   },
   {
    "duration": 772,
    "start_time": "2022-09-26T03:47:59.798Z"
   },
   {
    "duration": 18,
    "start_time": "2022-09-26T03:48:00.572Z"
   },
   {
    "duration": 75,
    "start_time": "2022-09-26T03:48:00.592Z"
   },
   {
    "duration": 37,
    "start_time": "2022-09-26T03:48:00.669Z"
   },
   {
    "duration": 135,
    "start_time": "2022-09-26T03:48:00.710Z"
   },
   {
    "duration": 0,
    "start_time": "2022-09-26T03:48:00.848Z"
   },
   {
    "duration": 0,
    "start_time": "2022-09-26T03:48:00.849Z"
   },
   {
    "duration": 0,
    "start_time": "2022-09-26T03:48:00.850Z"
   },
   {
    "duration": 0,
    "start_time": "2022-09-26T03:48:00.851Z"
   },
   {
    "duration": 0,
    "start_time": "2022-09-26T03:48:00.853Z"
   },
   {
    "duration": 0,
    "start_time": "2022-09-26T03:48:00.854Z"
   },
   {
    "duration": 0,
    "start_time": "2022-09-26T03:48:00.855Z"
   },
   {
    "duration": 0,
    "start_time": "2022-09-26T03:48:00.856Z"
   },
   {
    "duration": 0,
    "start_time": "2022-09-26T03:48:00.857Z"
   },
   {
    "duration": 0,
    "start_time": "2022-09-26T03:48:00.860Z"
   },
   {
    "duration": 0,
    "start_time": "2022-09-26T03:48:00.861Z"
   },
   {
    "duration": 0,
    "start_time": "2022-09-26T03:48:00.862Z"
   },
   {
    "duration": 0,
    "start_time": "2022-09-26T03:48:00.863Z"
   },
   {
    "duration": 0,
    "start_time": "2022-09-26T03:48:00.864Z"
   },
   {
    "duration": 0,
    "start_time": "2022-09-26T03:48:00.866Z"
   },
   {
    "duration": 0,
    "start_time": "2022-09-26T03:48:00.867Z"
   },
   {
    "duration": 0,
    "start_time": "2022-09-26T03:48:00.868Z"
   },
   {
    "duration": 0,
    "start_time": "2022-09-26T03:48:00.871Z"
   },
   {
    "duration": 0,
    "start_time": "2022-09-26T03:48:00.873Z"
   },
   {
    "duration": 0,
    "start_time": "2022-09-26T03:48:00.875Z"
   },
   {
    "duration": 8,
    "start_time": "2022-09-26T04:00:50.540Z"
   },
   {
    "duration": 180,
    "start_time": "2022-09-26T04:13:36.476Z"
   },
   {
    "duration": 116,
    "start_time": "2022-09-26T04:14:06.662Z"
   },
   {
    "duration": 8,
    "start_time": "2022-09-26T04:14:10.486Z"
   },
   {
    "duration": 11,
    "start_time": "2022-09-26T04:14:16.860Z"
   },
   {
    "duration": 5,
    "start_time": "2022-09-26T04:14:20.490Z"
   },
   {
    "duration": 11,
    "start_time": "2022-09-26T04:14:22.736Z"
   },
   {
    "duration": 27,
    "start_time": "2022-09-26T04:14:26.320Z"
   },
   {
    "duration": 8,
    "start_time": "2022-09-26T04:14:29.956Z"
   },
   {
    "duration": 32,
    "start_time": "2022-09-26T04:14:32.405Z"
   },
   {
    "duration": 7,
    "start_time": "2022-09-26T04:14:36.339Z"
   },
   {
    "duration": 7,
    "start_time": "2022-09-26T04:14:38.332Z"
   },
   {
    "duration": 23,
    "start_time": "2022-09-26T04:14:41.344Z"
   },
   {
    "duration": 7,
    "start_time": "2022-09-26T04:14:44.292Z"
   },
   {
    "duration": 22,
    "start_time": "2022-09-26T04:14:47.558Z"
   },
   {
    "duration": 22,
    "start_time": "2022-09-26T04:14:50.742Z"
   },
   {
    "duration": 15,
    "start_time": "2022-09-26T04:14:54.679Z"
   },
   {
    "duration": 441,
    "start_time": "2022-09-26T04:14:57.012Z"
   },
   {
    "duration": 34,
    "start_time": "2022-09-26T04:15:01.648Z"
   },
   {
    "duration": 322,
    "start_time": "2022-09-26T04:15:05.772Z"
   },
   {
    "duration": 146,
    "start_time": "2022-09-26T04:15:10.335Z"
   },
   {
    "duration": 8,
    "start_time": "2022-09-26T04:15:13.964Z"
   },
   {
    "duration": 343,
    "start_time": "2022-09-26T04:15:18.684Z"
   },
   {
    "duration": 171,
    "start_time": "2022-09-26T04:15:25.404Z"
   },
   {
    "duration": 16,
    "start_time": "2022-09-26T04:15:29.252Z"
   },
   {
    "duration": 8,
    "start_time": "2022-09-26T04:15:32.854Z"
   },
   {
    "duration": 24770,
    "start_time": "2022-09-26T04:15:35.200Z"
   },
   {
    "duration": 6,
    "start_time": "2022-09-26T04:15:59.971Z"
   },
   {
    "duration": 219,
    "start_time": "2022-09-26T04:15:59.979Z"
   },
   {
    "duration": 32,
    "start_time": "2022-09-26T04:16:00.199Z"
   },
   {
    "duration": 240,
    "start_time": "2022-09-26T04:16:00.240Z"
   },
   {
    "duration": 19,
    "start_time": "2022-09-26T04:16:00.482Z"
   },
   {
    "duration": 85,
    "start_time": "2022-09-26T04:16:00.504Z"
   },
   {
    "duration": 11,
    "start_time": "2022-09-26T04:16:04.940Z"
   },
   {
    "duration": 293,
    "start_time": "2022-09-26T04:16:07.450Z"
   },
   {
    "duration": 6382,
    "start_time": "2022-09-26T04:16:10.971Z"
   },
   {
    "duration": 18,
    "start_time": "2022-09-26T04:16:17.356Z"
   },
   {
    "duration": 165,
    "start_time": "2022-09-26T04:16:20.239Z"
   },
   {
    "duration": 208,
    "start_time": "2022-09-26T04:17:01.549Z"
   },
   {
    "duration": 6,
    "start_time": "2022-09-26T04:43:35.762Z"
   },
   {
    "duration": 3,
    "start_time": "2022-09-26T04:46:00.332Z"
   },
   {
    "duration": 4,
    "start_time": "2022-09-26T04:49:33.135Z"
   },
   {
    "duration": 5,
    "start_time": "2022-09-26T04:50:43.428Z"
   },
   {
    "duration": 672,
    "start_time": "2022-09-26T04:53:49.232Z"
   },
   {
    "duration": 716,
    "start_time": "2022-09-26T05:02:17.137Z"
   },
   {
    "duration": 586,
    "start_time": "2022-09-26T05:03:31.754Z"
   },
   {
    "duration": 15,
    "start_time": "2022-09-26T05:08:36.902Z"
   },
   {
    "duration": 2,
    "start_time": "2022-09-26T05:44:45.372Z"
   },
   {
    "duration": 28,
    "start_time": "2022-09-26T05:56:08.939Z"
   },
   {
    "duration": 22,
    "start_time": "2022-09-26T05:56:48.985Z"
   },
   {
    "duration": 24,
    "start_time": "2022-09-26T05:57:48.239Z"
   },
   {
    "duration": 3,
    "start_time": "2022-09-26T06:01:04.271Z"
   },
   {
    "duration": 239,
    "start_time": "2022-09-26T07:16:30.176Z"
   },
   {
    "duration": 125,
    "start_time": "2022-09-26T07:17:12.408Z"
   },
   {
    "duration": 718,
    "start_time": "2022-09-26T08:33:52.827Z"
   },
   {
    "duration": 17,
    "start_time": "2022-09-26T08:33:57.008Z"
   },
   {
    "duration": 7,
    "start_time": "2022-09-26T08:34:00.647Z"
   },
   {
    "duration": 9,
    "start_time": "2022-09-26T08:34:11.321Z"
   },
   {
    "duration": 5,
    "start_time": "2022-09-26T08:34:15.621Z"
   },
   {
    "duration": 9,
    "start_time": "2022-09-26T08:34:18.036Z"
   },
   {
    "duration": 8,
    "start_time": "2022-09-26T08:34:20.750Z"
   },
   {
    "duration": 9,
    "start_time": "2022-09-26T08:34:23.870Z"
   },
   {
    "duration": 14,
    "start_time": "2022-09-26T08:34:26.621Z"
   },
   {
    "duration": 17,
    "start_time": "2022-09-26T08:34:30.202Z"
   },
   {
    "duration": 5,
    "start_time": "2022-09-26T08:34:32.781Z"
   },
   {
    "duration": 9,
    "start_time": "2022-09-26T08:34:35.762Z"
   },
   {
    "duration": 7,
    "start_time": "2022-09-26T08:34:38.853Z"
   },
   {
    "duration": 18,
    "start_time": "2022-09-26T08:34:42.121Z"
   },
   {
    "duration": 17,
    "start_time": "2022-09-26T08:34:45.502Z"
   },
   {
    "duration": 12,
    "start_time": "2022-09-26T08:34:49.221Z"
   },
   {
    "duration": 371,
    "start_time": "2022-09-26T08:34:51.766Z"
   },
   {
    "duration": 28,
    "start_time": "2022-09-26T08:34:56.278Z"
   },
   {
    "duration": 278,
    "start_time": "2022-09-26T08:35:00.294Z"
   },
   {
    "duration": 116,
    "start_time": "2022-09-26T08:35:04.226Z"
   },
   {
    "duration": 6,
    "start_time": "2022-09-26T08:35:07.863Z"
   },
   {
    "duration": 153,
    "start_time": "2022-09-26T08:35:16.026Z"
   },
   {
    "duration": 189,
    "start_time": "2022-09-26T08:35:19.434Z"
   },
   {
    "duration": 18,
    "start_time": "2022-09-26T08:36:37.184Z"
   },
   {
    "duration": 7,
    "start_time": "2022-09-26T08:36:40.976Z"
   },
   {
    "duration": 41594,
    "start_time": "2022-09-26T08:36:47.621Z"
   },
   {
    "duration": 63,
    "start_time": "2022-09-26T08:37:29.217Z"
   },
   {
    "duration": 270,
    "start_time": "2022-09-26T08:37:44.255Z"
   },
   {
    "duration": 7,
    "start_time": "2022-09-26T08:37:49.755Z"
   },
   {
    "duration": 229,
    "start_time": "2022-09-26T08:37:55.152Z"
   },
   {
    "duration": 12,
    "start_time": "2022-09-26T08:38:00.626Z"
   },
   {
    "duration": 31,
    "start_time": "2022-09-26T08:38:06.722Z"
   },
   {
    "duration": 10,
    "start_time": "2022-09-26T08:38:11.067Z"
   },
   {
    "duration": 237,
    "start_time": "2022-09-26T08:38:14.038Z"
   },
   {
    "duration": 7681,
    "start_time": "2022-09-26T08:38:28.465Z"
   },
   {
    "duration": 251,
    "start_time": "2022-09-26T08:38:45.839Z"
   },
   {
    "duration": 16,
    "start_time": "2022-09-26T08:38:50.546Z"
   },
   {
    "duration": 197,
    "start_time": "2022-09-26T08:38:56.479Z"
   },
   {
    "duration": 12,
    "start_time": "2022-09-26T08:39:25.645Z"
   },
   {
    "duration": 7,
    "start_time": "2022-09-26T08:39:28.587Z"
   },
   {
    "duration": 726,
    "start_time": "2022-09-26T08:39:55.191Z"
   },
   {
    "duration": 14,
    "start_time": "2022-09-26T08:39:55.919Z"
   },
   {
    "duration": 6,
    "start_time": "2022-09-26T08:39:55.935Z"
   },
   {
    "duration": 8,
    "start_time": "2022-09-26T08:39:55.943Z"
   },
   {
    "duration": 4,
    "start_time": "2022-09-26T08:39:55.953Z"
   },
   {
    "duration": 13,
    "start_time": "2022-09-26T08:39:55.958Z"
   },
   {
    "duration": 7,
    "start_time": "2022-09-26T08:39:55.972Z"
   },
   {
    "duration": 8,
    "start_time": "2022-09-26T08:39:56.009Z"
   },
   {
    "duration": 10,
    "start_time": "2022-09-26T08:39:56.019Z"
   },
   {
    "duration": 5,
    "start_time": "2022-09-26T08:39:56.032Z"
   },
   {
    "duration": 4,
    "start_time": "2022-09-26T08:39:56.039Z"
   },
   {
    "duration": 9,
    "start_time": "2022-09-26T08:39:56.045Z"
   },
   {
    "duration": 6,
    "start_time": "2022-09-26T08:39:56.055Z"
   },
   {
    "duration": 50,
    "start_time": "2022-09-26T08:39:56.062Z"
   },
   {
    "duration": 13,
    "start_time": "2022-09-26T08:39:56.114Z"
   },
   {
    "duration": 11,
    "start_time": "2022-09-26T08:39:56.128Z"
   },
   {
    "duration": 386,
    "start_time": "2022-09-26T08:39:56.140Z"
   },
   {
    "duration": 32,
    "start_time": "2022-09-26T08:39:56.528Z"
   },
   {
    "duration": 269,
    "start_time": "2022-09-26T08:39:56.561Z"
   },
   {
    "duration": 103,
    "start_time": "2022-09-26T08:39:56.832Z"
   },
   {
    "duration": 6,
    "start_time": "2022-09-26T08:39:56.936Z"
   },
   {
    "duration": 311,
    "start_time": "2022-09-26T08:39:56.943Z"
   },
   {
    "duration": 199,
    "start_time": "2022-09-26T08:39:57.256Z"
   },
   {
    "duration": 188,
    "start_time": "2022-09-26T08:39:57.457Z"
   },
   {
    "duration": 16,
    "start_time": "2022-09-26T08:39:57.647Z"
   },
   {
    "duration": 6,
    "start_time": "2022-09-26T08:39:57.664Z"
   },
   {
    "duration": 21727,
    "start_time": "2022-09-26T08:39:57.671Z"
   },
   {
    "duration": 8,
    "start_time": "2022-09-26T08:40:19.402Z"
   },
   {
    "duration": 48,
    "start_time": "2022-09-26T08:40:19.412Z"
   },
   {
    "duration": 209,
    "start_time": "2022-09-26T08:40:19.462Z"
   },
   {
    "duration": 6,
    "start_time": "2022-09-26T08:40:19.672Z"
   },
   {
    "duration": 210,
    "start_time": "2022-09-26T08:40:19.679Z"
   },
   {
    "duration": 8,
    "start_time": "2022-09-26T08:40:19.890Z"
   },
   {
    "duration": 28,
    "start_time": "2022-09-26T08:40:19.909Z"
   },
   {
    "duration": 9,
    "start_time": "2022-09-26T08:40:19.939Z"
   },
   {
    "duration": 267,
    "start_time": "2022-09-26T08:40:19.949Z"
   },
   {
    "duration": 5452,
    "start_time": "2022-09-26T08:40:20.217Z"
   },
   {
    "duration": 248,
    "start_time": "2022-09-26T08:40:25.671Z"
   },
   {
    "duration": 15,
    "start_time": "2022-09-26T08:40:25.921Z"
   },
   {
    "duration": 171,
    "start_time": "2022-09-26T08:40:25.938Z"
   },
   {
    "duration": 10,
    "start_time": "2022-09-26T08:40:26.111Z"
   },
   {
    "duration": 6,
    "start_time": "2022-09-26T08:40:26.123Z"
   },
   {
    "duration": 16,
    "start_time": "2022-09-26T08:40:26.131Z"
   },
   {
    "duration": 136,
    "start_time": "2022-09-26T08:40:26.149Z"
   },
   {
    "duration": 66,
    "start_time": "2022-09-26T08:40:26.286Z"
   },
   {
    "duration": 4,
    "start_time": "2022-09-26T08:40:26.354Z"
   },
   {
    "duration": 287,
    "start_time": "2022-09-26T08:40:26.359Z"
   },
   {
    "duration": 4,
    "start_time": "2022-09-26T08:40:26.648Z"
   },
   {
    "duration": 457,
    "start_time": "2022-09-26T08:40:26.653Z"
   },
   {
    "duration": 7,
    "start_time": "2022-09-26T08:40:27.112Z"
   },
   {
    "duration": 525,
    "start_time": "2022-09-26T08:40:27.121Z"
   },
   {
    "duration": 228,
    "start_time": "2022-09-26T08:40:27.648Z"
   },
   {
    "duration": 9,
    "start_time": "2022-09-26T08:40:27.877Z"
   },
   {
    "duration": 206,
    "start_time": "2022-09-26T08:40:27.888Z"
   },
   {
    "duration": 216,
    "start_time": "2022-09-26T08:40:28.096Z"
   },
   {
    "duration": 7,
    "start_time": "2022-09-26T08:40:28.314Z"
   },
   {
    "duration": 212,
    "start_time": "2022-09-26T08:40:28.322Z"
   },
   {
    "duration": 262,
    "start_time": "2022-09-26T08:40:28.535Z"
   },
   {
    "duration": 353,
    "start_time": "2022-09-26T08:40:28.798Z"
   },
   {
    "duration": 307,
    "start_time": "2022-09-26T08:40:29.153Z"
   },
   {
    "duration": 11,
    "start_time": "2022-09-26T08:40:29.461Z"
   },
   {
    "duration": 247,
    "start_time": "2022-09-26T08:40:29.474Z"
   },
   {
    "duration": 265,
    "start_time": "2022-09-26T08:40:29.722Z"
   },
   {
    "duration": 525,
    "start_time": "2022-09-26T08:40:29.988Z"
   },
   {
    "duration": 466,
    "start_time": "2022-09-26T08:40:30.514Z"
   },
   {
    "duration": 303,
    "start_time": "2022-09-26T08:40:30.982Z"
   },
   {
    "duration": 303,
    "start_time": "2022-09-26T08:40:31.287Z"
   },
   {
    "duration": 7,
    "start_time": "2022-09-26T08:40:31.592Z"
   },
   {
    "duration": 493,
    "start_time": "2022-09-26T08:40:31.601Z"
   },
   {
    "duration": 497,
    "start_time": "2022-09-26T08:40:32.096Z"
   },
   {
    "duration": 556,
    "start_time": "2022-09-26T08:40:32.595Z"
   },
   {
    "duration": 13,
    "start_time": "2022-09-26T08:40:33.152Z"
   },
   {
    "duration": 24,
    "start_time": "2022-09-26T08:40:33.167Z"
   },
   {
    "duration": 37,
    "start_time": "2022-09-26T08:40:33.192Z"
   },
   {
    "duration": 4421,
    "start_time": "2022-09-26T08:40:33.230Z"
   },
   {
    "duration": 2869,
    "start_time": "2022-09-26T08:40:37.652Z"
   },
   {
    "duration": 46,
    "start_time": "2022-09-26T08:40:40.523Z"
   },
   {
    "duration": 0,
    "start_time": "2022-09-26T08:40:40.571Z"
   },
   {
    "duration": 0,
    "start_time": "2022-09-26T08:40:40.573Z"
   },
   {
    "duration": 0,
    "start_time": "2022-09-26T08:40:40.574Z"
   },
   {
    "duration": 0,
    "start_time": "2022-09-26T08:40:40.575Z"
   },
   {
    "duration": 0,
    "start_time": "2022-09-26T08:40:40.576Z"
   },
   {
    "duration": 0,
    "start_time": "2022-09-26T08:40:40.577Z"
   },
   {
    "duration": 0,
    "start_time": "2022-09-26T08:40:40.578Z"
   },
   {
    "duration": 0,
    "start_time": "2022-09-26T08:40:40.579Z"
   },
   {
    "duration": 0,
    "start_time": "2022-09-26T08:40:40.580Z"
   },
   {
    "duration": 0,
    "start_time": "2022-09-26T08:40:40.581Z"
   },
   {
    "duration": 0,
    "start_time": "2022-09-26T08:40:40.582Z"
   },
   {
    "duration": 0,
    "start_time": "2022-09-26T08:40:40.583Z"
   },
   {
    "duration": 0,
    "start_time": "2022-09-26T08:40:40.584Z"
   },
   {
    "duration": 0,
    "start_time": "2022-09-26T08:40:40.585Z"
   },
   {
    "duration": 0,
    "start_time": "2022-09-26T08:40:40.586Z"
   },
   {
    "duration": 0,
    "start_time": "2022-09-26T08:40:40.587Z"
   },
   {
    "duration": 0,
    "start_time": "2022-09-26T08:40:40.588Z"
   },
   {
    "duration": 4,
    "start_time": "2022-09-26T08:40:57.304Z"
   },
   {
    "duration": 40,
    "start_time": "2022-09-26T08:40:59.579Z"
   },
   {
    "duration": 41,
    "start_time": "2022-09-26T08:41:01.950Z"
   },
   {
    "duration": 5,
    "start_time": "2022-09-26T08:41:04.570Z"
   },
   {
    "duration": 158,
    "start_time": "2022-09-26T08:41:06.787Z"
   },
   {
    "duration": 4,
    "start_time": "2022-09-26T08:41:09.490Z"
   },
   {
    "duration": 447,
    "start_time": "2022-09-26T08:41:12.077Z"
   },
   {
    "duration": 7,
    "start_time": "2022-09-26T08:41:19.195Z"
   },
   {
    "duration": 597,
    "start_time": "2022-09-26T08:41:21.842Z"
   },
   {
    "duration": 227,
    "start_time": "2022-09-26T08:41:31.335Z"
   },
   {
    "duration": 9,
    "start_time": "2022-09-26T08:41:35.794Z"
   },
   {
    "duration": 211,
    "start_time": "2022-09-26T08:41:41.865Z"
   },
   {
    "duration": 225,
    "start_time": "2022-09-26T08:41:46.138Z"
   },
   {
    "duration": 7,
    "start_time": "2022-09-26T08:41:50.088Z"
   },
   {
    "duration": 214,
    "start_time": "2022-09-26T08:41:53.114Z"
   },
   {
    "duration": 256,
    "start_time": "2022-09-26T08:41:57.491Z"
   },
   {
    "duration": 389,
    "start_time": "2022-09-26T08:42:03.094Z"
   },
   {
    "duration": 351,
    "start_time": "2022-09-26T08:42:14.266Z"
   },
   {
    "duration": 15,
    "start_time": "2022-09-26T08:42:34.476Z"
   },
   {
    "duration": 237,
    "start_time": "2022-09-26T08:42:37.710Z"
   },
   {
    "duration": 259,
    "start_time": "2022-09-26T08:42:43.798Z"
   },
   {
    "duration": 537,
    "start_time": "2022-09-26T08:42:47.865Z"
   },
   {
    "duration": 464,
    "start_time": "2022-09-26T08:42:52.918Z"
   },
   {
    "duration": 282,
    "start_time": "2022-09-26T08:42:57.603Z"
   },
   {
    "duration": 291,
    "start_time": "2022-09-26T08:43:02.551Z"
   },
   {
    "duration": 10,
    "start_time": "2022-09-26T08:43:07.676Z"
   },
   {
    "duration": 8,
    "start_time": "2022-09-26T08:43:11.587Z"
   },
   {
    "duration": 389,
    "start_time": "2022-09-26T08:43:14.605Z"
   },
   {
    "duration": 566,
    "start_time": "2022-09-26T08:43:21.079Z"
   },
   {
    "duration": 539,
    "start_time": "2022-09-26T08:43:26.513Z"
   },
   {
    "duration": 13,
    "start_time": "2022-09-26T08:43:31.724Z"
   },
   {
    "duration": 25,
    "start_time": "2022-09-26T08:43:35.192Z"
   },
   {
    "duration": 23,
    "start_time": "2022-09-26T08:43:39.690Z"
   },
   {
    "duration": 4420,
    "start_time": "2022-09-26T08:43:46.365Z"
   },
   {
    "duration": 2870,
    "start_time": "2022-09-26T08:43:50.786Z"
   },
   {
    "duration": 282,
    "start_time": "2022-09-26T08:44:07.184Z"
   },
   {
    "duration": 536,
    "start_time": "2022-09-26T08:44:13.985Z"
   },
   {
    "duration": 361,
    "start_time": "2022-09-26T08:45:08.444Z"
   },
   {
    "duration": 356,
    "start_time": "2022-09-26T08:45:31.364Z"
   },
   {
    "duration": 332,
    "start_time": "2022-09-26T08:45:36.397Z"
   },
   {
    "duration": 395,
    "start_time": "2022-09-26T08:45:41.579Z"
   },
   {
    "duration": 314,
    "start_time": "2022-09-26T08:49:18.689Z"
   },
   {
    "duration": 329,
    "start_time": "2022-09-26T08:49:23.850Z"
   },
   {
    "duration": 327,
    "start_time": "2022-09-26T08:50:50.102Z"
   },
   {
    "duration": 362,
    "start_time": "2022-09-26T08:51:16.585Z"
   },
   {
    "duration": 358,
    "start_time": "2022-09-26T08:51:21.809Z"
   },
   {
    "duration": 361,
    "start_time": "2022-09-26T08:51:27.253Z"
   },
   {
    "duration": 26,
    "start_time": "2022-09-26T08:55:31.981Z"
   },
   {
    "duration": 122,
    "start_time": "2022-09-26T08:55:35.447Z"
   },
   {
    "duration": 28,
    "start_time": "2022-09-26T08:55:39.159Z"
   },
   {
    "duration": 129,
    "start_time": "2022-09-26T08:55:42.405Z"
   },
   {
    "duration": 48,
    "start_time": "2022-09-26T12:17:00.033Z"
   },
   {
    "duration": 847,
    "start_time": "2022-09-26T12:17:07.097Z"
   },
   {
    "duration": 14,
    "start_time": "2022-09-26T12:17:07.946Z"
   },
   {
    "duration": 13,
    "start_time": "2022-09-26T12:17:07.962Z"
   },
   {
    "duration": 21,
    "start_time": "2022-09-26T12:17:07.977Z"
   },
   {
    "duration": 5,
    "start_time": "2022-09-26T12:17:08.000Z"
   },
   {
    "duration": 26,
    "start_time": "2022-09-26T12:17:08.007Z"
   },
   {
    "duration": 32,
    "start_time": "2022-09-26T12:17:08.034Z"
   },
   {
    "duration": 22,
    "start_time": "2022-09-26T12:17:08.067Z"
   },
   {
    "duration": 22,
    "start_time": "2022-09-26T12:17:08.091Z"
   },
   {
    "duration": 12,
    "start_time": "2022-09-26T12:17:08.115Z"
   },
   {
    "duration": 7,
    "start_time": "2022-09-26T12:17:08.129Z"
   },
   {
    "duration": 17,
    "start_time": "2022-09-26T12:17:08.137Z"
   },
   {
    "duration": 21,
    "start_time": "2022-09-26T12:17:08.156Z"
   },
   {
    "duration": 24,
    "start_time": "2022-09-26T12:17:08.179Z"
   },
   {
    "duration": 28,
    "start_time": "2022-09-26T12:17:08.205Z"
   },
   {
    "duration": 16,
    "start_time": "2022-09-26T12:17:08.236Z"
   },
   {
    "duration": 387,
    "start_time": "2022-09-26T12:17:08.253Z"
   },
   {
    "duration": 30,
    "start_time": "2022-09-26T12:17:08.642Z"
   },
   {
    "duration": 278,
    "start_time": "2022-09-26T12:17:08.673Z"
   },
   {
    "duration": 133,
    "start_time": "2022-09-26T12:17:08.954Z"
   },
   {
    "duration": 11,
    "start_time": "2022-09-26T12:17:09.089Z"
   },
   {
    "duration": 378,
    "start_time": "2022-09-26T12:17:09.102Z"
   },
   {
    "duration": 224,
    "start_time": "2022-09-26T12:17:09.482Z"
   },
   {
    "duration": 212,
    "start_time": "2022-09-26T12:17:09.708Z"
   },
   {
    "duration": 18,
    "start_time": "2022-09-26T12:17:09.921Z"
   },
   {
    "duration": 5,
    "start_time": "2022-09-26T12:17:09.940Z"
   },
   {
    "duration": 29295,
    "start_time": "2022-09-26T12:17:09.947Z"
   },
   {
    "duration": 11,
    "start_time": "2022-09-26T12:17:39.250Z"
   },
   {
    "duration": 76,
    "start_time": "2022-09-26T12:17:39.263Z"
   },
   {
    "duration": 255,
    "start_time": "2022-09-26T12:17:39.341Z"
   },
   {
    "duration": 9,
    "start_time": "2022-09-26T12:17:39.597Z"
   },
   {
    "duration": 271,
    "start_time": "2022-09-26T12:17:39.608Z"
   },
   {
    "duration": 20,
    "start_time": "2022-09-26T12:17:39.881Z"
   },
   {
    "duration": 33,
    "start_time": "2022-09-26T12:17:39.903Z"
   },
   {
    "duration": 9,
    "start_time": "2022-09-26T12:17:39.938Z"
   },
   {
    "duration": 370,
    "start_time": "2022-09-26T12:17:39.949Z"
   },
   {
    "duration": 6116,
    "start_time": "2022-09-26T12:17:40.321Z"
   },
   {
    "duration": 349,
    "start_time": "2022-09-26T12:17:46.439Z"
   },
   {
    "duration": 20,
    "start_time": "2022-09-26T12:17:46.794Z"
   },
   {
    "duration": 194,
    "start_time": "2022-09-26T12:17:46.816Z"
   },
   {
    "duration": 12,
    "start_time": "2022-09-26T12:17:47.012Z"
   },
   {
    "duration": 8,
    "start_time": "2022-09-26T12:17:47.025Z"
   },
   {
    "duration": 7,
    "start_time": "2022-09-26T12:17:47.034Z"
   },
   {
    "duration": 155,
    "start_time": "2022-09-26T12:17:47.042Z"
   },
   {
    "duration": 72,
    "start_time": "2022-09-26T12:17:47.199Z"
   },
   {
    "duration": 6,
    "start_time": "2022-09-26T12:17:47.273Z"
   },
   {
    "duration": 267,
    "start_time": "2022-09-26T12:17:47.294Z"
   },
   {
    "duration": 5,
    "start_time": "2022-09-26T12:17:47.563Z"
   },
   {
    "duration": 563,
    "start_time": "2022-09-26T12:17:47.569Z"
   },
   {
    "duration": 9,
    "start_time": "2022-09-26T12:17:48.133Z"
   },
   {
    "duration": 629,
    "start_time": "2022-09-26T12:17:48.144Z"
   },
   {
    "duration": 293,
    "start_time": "2022-09-26T12:17:48.775Z"
   },
   {
    "duration": 11,
    "start_time": "2022-09-26T12:17:49.070Z"
   },
   {
    "duration": 294,
    "start_time": "2022-09-26T12:17:49.082Z"
   },
   {
    "duration": 254,
    "start_time": "2022-09-26T12:17:49.377Z"
   },
   {
    "duration": 8,
    "start_time": "2022-09-26T12:17:49.632Z"
   },
   {
    "duration": 254,
    "start_time": "2022-09-26T12:17:49.642Z"
   },
   {
    "duration": 343,
    "start_time": "2022-09-26T12:17:49.898Z"
   },
   {
    "duration": 426,
    "start_time": "2022-09-26T12:17:50.243Z"
   },
   {
    "duration": 367,
    "start_time": "2022-09-26T12:17:50.671Z"
   },
   {
    "duration": 13,
    "start_time": "2022-09-26T12:17:51.041Z"
   },
   {
    "duration": 288,
    "start_time": "2022-09-26T12:17:51.056Z"
   },
   {
    "duration": 315,
    "start_time": "2022-09-26T12:17:51.346Z"
   },
   {
    "duration": 578,
    "start_time": "2022-09-26T12:17:51.663Z"
   },
   {
    "duration": 509,
    "start_time": "2022-09-26T12:17:52.243Z"
   },
   {
    "duration": 347,
    "start_time": "2022-09-26T12:17:52.754Z"
   },
   {
    "duration": 325,
    "start_time": "2022-09-26T12:17:53.103Z"
   },
   {
    "duration": 8,
    "start_time": "2022-09-26T12:17:53.430Z"
   },
   {
    "duration": 580,
    "start_time": "2022-09-26T12:17:53.440Z"
   },
   {
    "duration": 586,
    "start_time": "2022-09-26T12:17:54.022Z"
   },
   {
    "duration": 665,
    "start_time": "2022-09-26T12:17:54.610Z"
   },
   {
    "duration": 26,
    "start_time": "2022-09-26T12:17:55.276Z"
   },
   {
    "duration": 29,
    "start_time": "2022-09-26T12:17:55.304Z"
   },
   {
    "duration": 27,
    "start_time": "2022-09-26T12:17:55.335Z"
   },
   {
    "duration": 4707,
    "start_time": "2022-09-26T12:17:55.365Z"
   },
   {
    "duration": 3363,
    "start_time": "2022-09-26T12:18:00.074Z"
   },
   {
    "duration": 304,
    "start_time": "2022-09-26T12:18:03.439Z"
   },
   {
    "duration": 384,
    "start_time": "2022-09-26T12:18:03.745Z"
   },
   {
    "duration": 395,
    "start_time": "2022-09-26T12:18:04.130Z"
   },
   {
    "duration": 375,
    "start_time": "2022-09-26T12:18:04.527Z"
   },
   {
    "duration": 79,
    "start_time": "2022-09-26T12:18:04.904Z"
   },
   {
    "duration": 0,
    "start_time": "2022-09-26T12:18:04.984Z"
   },
   {
    "duration": 0,
    "start_time": "2022-09-26T12:18:04.986Z"
   },
   {
    "duration": 0,
    "start_time": "2022-09-26T12:18:04.987Z"
   },
   {
    "duration": 0,
    "start_time": "2022-09-26T12:18:04.988Z"
   },
   {
    "duration": 0,
    "start_time": "2022-09-26T12:18:04.989Z"
   },
   {
    "duration": 0,
    "start_time": "2022-09-26T12:18:04.990Z"
   },
   {
    "duration": 0,
    "start_time": "2022-09-26T12:18:04.991Z"
   },
   {
    "duration": 0,
    "start_time": "2022-09-26T12:18:04.992Z"
   },
   {
    "duration": 0,
    "start_time": "2022-09-26T12:18:04.993Z"
   },
   {
    "duration": 0,
    "start_time": "2022-09-26T12:18:04.994Z"
   },
   {
    "duration": 0,
    "start_time": "2022-09-26T12:18:04.995Z"
   },
   {
    "duration": 0,
    "start_time": "2022-09-26T12:18:04.996Z"
   },
   {
    "duration": 15,
    "start_time": "2022-09-26T12:25:49.655Z"
   },
   {
    "duration": 801,
    "start_time": "2022-09-26T12:25:54.702Z"
   },
   {
    "duration": 15,
    "start_time": "2022-09-26T12:25:55.505Z"
   },
   {
    "duration": 8,
    "start_time": "2022-09-26T12:25:55.521Z"
   },
   {
    "duration": 10,
    "start_time": "2022-09-26T12:25:55.531Z"
   },
   {
    "duration": 6,
    "start_time": "2022-09-26T12:25:55.542Z"
   },
   {
    "duration": 10,
    "start_time": "2022-09-26T12:25:55.549Z"
   },
   {
    "duration": 9,
    "start_time": "2022-09-26T12:25:55.596Z"
   },
   {
    "duration": 10,
    "start_time": "2022-09-26T12:25:55.607Z"
   },
   {
    "duration": 13,
    "start_time": "2022-09-26T12:25:55.619Z"
   },
   {
    "duration": 7,
    "start_time": "2022-09-26T12:25:55.634Z"
   },
   {
    "duration": 14,
    "start_time": "2022-09-26T12:25:55.642Z"
   },
   {
    "duration": 42,
    "start_time": "2022-09-26T12:25:55.657Z"
   },
   {
    "duration": 11,
    "start_time": "2022-09-26T12:25:55.700Z"
   },
   {
    "duration": 7,
    "start_time": "2022-09-26T12:25:55.712Z"
   },
   {
    "duration": 19,
    "start_time": "2022-09-26T12:25:55.720Z"
   },
   {
    "duration": 13,
    "start_time": "2022-09-26T12:25:55.741Z"
   },
   {
    "duration": 46,
    "start_time": "2022-09-26T12:25:55.755Z"
   },
   {
    "duration": 351,
    "start_time": "2022-09-26T12:25:55.803Z"
   },
   {
    "duration": 27,
    "start_time": "2022-09-26T12:25:56.155Z"
   },
   {
    "duration": 251,
    "start_time": "2022-09-26T12:25:56.194Z"
   },
   {
    "duration": 129,
    "start_time": "2022-09-26T12:25:56.447Z"
   },
   {
    "duration": 6,
    "start_time": "2022-09-26T12:25:56.578Z"
   },
   {
    "duration": 416,
    "start_time": "2022-09-26T12:25:56.595Z"
   },
   {
    "duration": 221,
    "start_time": "2022-09-26T12:25:57.013Z"
   },
   {
    "duration": 208,
    "start_time": "2022-09-26T12:25:57.236Z"
   },
   {
    "duration": 17,
    "start_time": "2022-09-26T12:25:57.445Z"
   },
   {
    "duration": 6,
    "start_time": "2022-09-26T12:25:57.464Z"
   },
   {
    "duration": 28238,
    "start_time": "2022-09-26T12:25:57.494Z"
   },
   {
    "duration": 8,
    "start_time": "2022-09-26T12:26:25.733Z"
   },
   {
    "duration": 72,
    "start_time": "2022-09-26T12:26:25.742Z"
   },
   {
    "duration": 231,
    "start_time": "2022-09-26T12:26:25.817Z"
   },
   {
    "duration": 22,
    "start_time": "2022-09-26T12:26:26.050Z"
   },
   {
    "duration": 240,
    "start_time": "2022-09-26T12:26:26.073Z"
   },
   {
    "duration": 9,
    "start_time": "2022-09-26T12:26:26.314Z"
   },
   {
    "duration": 31,
    "start_time": "2022-09-26T12:26:26.325Z"
   },
   {
    "duration": 10,
    "start_time": "2022-09-26T12:26:26.357Z"
   },
   {
    "duration": 327,
    "start_time": "2022-09-26T12:26:26.369Z"
   },
   {
    "duration": 6105,
    "start_time": "2022-09-26T12:26:26.698Z"
   },
   {
    "duration": 304,
    "start_time": "2022-09-26T12:26:32.805Z"
   },
   {
    "duration": 16,
    "start_time": "2022-09-26T12:26:33.111Z"
   },
   {
    "duration": 209,
    "start_time": "2022-09-26T12:26:33.128Z"
   },
   {
    "duration": 12,
    "start_time": "2022-09-26T12:26:33.339Z"
   },
   {
    "duration": 14,
    "start_time": "2022-09-26T12:26:33.353Z"
   },
   {
    "duration": 11,
    "start_time": "2022-09-26T12:26:33.368Z"
   },
   {
    "duration": 157,
    "start_time": "2022-09-26T12:26:33.381Z"
   },
   {
    "duration": 76,
    "start_time": "2022-09-26T12:26:33.540Z"
   },
   {
    "duration": 7,
    "start_time": "2022-09-26T12:26:33.618Z"
   },
   {
    "duration": 292,
    "start_time": "2022-09-26T12:26:33.626Z"
   },
   {
    "duration": 5,
    "start_time": "2022-09-26T12:26:33.920Z"
   },
   {
    "duration": 590,
    "start_time": "2022-09-26T12:26:33.926Z"
   },
   {
    "duration": 9,
    "start_time": "2022-09-26T12:26:34.518Z"
   },
   {
    "duration": 670,
    "start_time": "2022-09-26T12:26:34.528Z"
   },
   {
    "duration": 304,
    "start_time": "2022-09-26T12:26:35.200Z"
   },
   {
    "duration": 12,
    "start_time": "2022-09-26T12:26:35.506Z"
   },
   {
    "duration": 285,
    "start_time": "2022-09-26T12:26:35.519Z"
   },
   {
    "duration": 265,
    "start_time": "2022-09-26T12:26:35.805Z"
   },
   {
    "duration": 8,
    "start_time": "2022-09-26T12:26:36.072Z"
   },
   {
    "duration": 275,
    "start_time": "2022-09-26T12:26:36.081Z"
   },
   {
    "duration": 420,
    "start_time": "2022-09-26T12:26:36.358Z"
   },
   {
    "duration": 451,
    "start_time": "2022-09-26T12:26:36.780Z"
   },
   {
    "duration": 398,
    "start_time": "2022-09-26T12:26:37.233Z"
   },
   {
    "duration": 14,
    "start_time": "2022-09-26T12:26:37.633Z"
   },
   {
    "duration": 305,
    "start_time": "2022-09-26T12:26:37.648Z"
   },
   {
    "duration": 346,
    "start_time": "2022-09-26T12:26:37.955Z"
   },
   {
    "duration": 637,
    "start_time": "2022-09-26T12:26:38.303Z"
   },
   {
    "duration": 550,
    "start_time": "2022-09-26T12:26:38.942Z"
   },
   {
    "duration": 357,
    "start_time": "2022-09-26T12:26:39.495Z"
   },
   {
    "duration": 351,
    "start_time": "2022-09-26T12:26:39.854Z"
   },
   {
    "duration": 7,
    "start_time": "2022-09-26T12:26:40.207Z"
   },
   {
    "duration": 591,
    "start_time": "2022-09-26T12:26:40.216Z"
   },
   {
    "duration": 600,
    "start_time": "2022-09-26T12:26:40.808Z"
   },
   {
    "duration": 719,
    "start_time": "2022-09-26T12:26:41.411Z"
   },
   {
    "duration": 16,
    "start_time": "2022-09-26T12:26:42.132Z"
   },
   {
    "duration": 51,
    "start_time": "2022-09-26T12:26:42.150Z"
   },
   {
    "duration": 27,
    "start_time": "2022-09-26T12:26:42.203Z"
   },
   {
    "duration": 4935,
    "start_time": "2022-09-26T12:26:42.233Z"
   },
   {
    "duration": 3502,
    "start_time": "2022-09-26T12:26:47.170Z"
   },
   {
    "duration": 344,
    "start_time": "2022-09-26T12:26:50.674Z"
   },
   {
    "duration": 417,
    "start_time": "2022-09-26T12:26:51.019Z"
   },
   {
    "duration": 402,
    "start_time": "2022-09-26T12:26:51.438Z"
   },
   {
    "duration": 383,
    "start_time": "2022-09-26T12:26:51.842Z"
   },
   {
    "duration": 81,
    "start_time": "2022-09-26T12:26:52.231Z"
   },
   {
    "duration": 0,
    "start_time": "2022-09-26T12:26:52.314Z"
   },
   {
    "duration": 0,
    "start_time": "2022-09-26T12:26:52.315Z"
   },
   {
    "duration": 0,
    "start_time": "2022-09-26T12:26:52.316Z"
   },
   {
    "duration": 0,
    "start_time": "2022-09-26T12:26:52.317Z"
   },
   {
    "duration": 0,
    "start_time": "2022-09-26T12:26:52.318Z"
   },
   {
    "duration": 0,
    "start_time": "2022-09-26T12:26:52.320Z"
   },
   {
    "duration": 0,
    "start_time": "2022-09-26T12:26:52.321Z"
   },
   {
    "duration": 0,
    "start_time": "2022-09-26T12:26:52.322Z"
   },
   {
    "duration": 0,
    "start_time": "2022-09-26T12:26:52.323Z"
   },
   {
    "duration": 0,
    "start_time": "2022-09-26T12:26:52.324Z"
   },
   {
    "duration": 0,
    "start_time": "2022-09-26T12:26:52.325Z"
   },
   {
    "duration": 0,
    "start_time": "2022-09-26T12:26:52.327Z"
   },
   {
    "duration": 844,
    "start_time": "2022-09-26T12:34:06.490Z"
   },
   {
    "duration": 14,
    "start_time": "2022-09-26T12:34:07.336Z"
   },
   {
    "duration": 9,
    "start_time": "2022-09-26T12:34:07.351Z"
   },
   {
    "duration": 10,
    "start_time": "2022-09-26T12:34:07.362Z"
   },
   {
    "duration": 25,
    "start_time": "2022-09-26T12:34:07.374Z"
   },
   {
    "duration": 12,
    "start_time": "2022-09-26T12:34:07.401Z"
   },
   {
    "duration": 7,
    "start_time": "2022-09-26T12:34:07.415Z"
   },
   {
    "duration": 11,
    "start_time": "2022-09-26T12:34:07.424Z"
   },
   {
    "duration": 13,
    "start_time": "2022-09-26T12:34:07.437Z"
   },
   {
    "duration": 7,
    "start_time": "2022-09-26T12:34:07.453Z"
   },
   {
    "duration": 7,
    "start_time": "2022-09-26T12:34:07.496Z"
   },
   {
    "duration": 12,
    "start_time": "2022-09-26T12:34:07.505Z"
   },
   {
    "duration": 7,
    "start_time": "2022-09-26T12:34:07.519Z"
   },
   {
    "duration": 19,
    "start_time": "2022-09-26T12:34:07.527Z"
   },
   {
    "duration": 17,
    "start_time": "2022-09-26T12:34:07.548Z"
   },
   {
    "duration": 14,
    "start_time": "2022-09-26T12:34:07.595Z"
   },
   {
    "duration": 11,
    "start_time": "2022-09-26T12:34:07.611Z"
   },
   {
    "duration": 22,
    "start_time": "2022-09-26T12:34:07.624Z"
   },
   {
    "duration": 378,
    "start_time": "2022-09-26T12:34:07.647Z"
   },
   {
    "duration": 30,
    "start_time": "2022-09-26T12:34:08.027Z"
   },
   {
    "duration": 271,
    "start_time": "2022-09-26T12:34:08.058Z"
   },
   {
    "duration": 130,
    "start_time": "2022-09-26T12:34:08.331Z"
   },
   {
    "duration": 7,
    "start_time": "2022-09-26T12:34:08.462Z"
   },
   {
    "duration": 369,
    "start_time": "2022-09-26T12:34:08.470Z"
   },
   {
    "duration": 218,
    "start_time": "2022-09-26T12:34:08.840Z"
   },
   {
    "duration": 218,
    "start_time": "2022-09-26T12:34:09.060Z"
   },
   {
    "duration": 20,
    "start_time": "2022-09-26T12:34:09.280Z"
   },
   {
    "duration": 6,
    "start_time": "2022-09-26T12:34:09.304Z"
   },
   {
    "duration": 27089,
    "start_time": "2022-09-26T12:34:09.312Z"
   },
   {
    "duration": 6,
    "start_time": "2022-09-26T12:34:36.403Z"
   },
   {
    "duration": 76,
    "start_time": "2022-09-26T12:34:36.411Z"
   },
   {
    "duration": 304,
    "start_time": "2022-09-26T12:34:36.495Z"
   },
   {
    "duration": 7,
    "start_time": "2022-09-26T12:34:36.800Z"
   },
   {
    "duration": 278,
    "start_time": "2022-09-26T12:34:36.809Z"
   },
   {
    "duration": 12,
    "start_time": "2022-09-26T12:34:37.095Z"
   },
   {
    "duration": 34,
    "start_time": "2022-09-26T12:34:37.108Z"
   },
   {
    "duration": 13,
    "start_time": "2022-09-26T12:34:37.144Z"
   },
   {
    "duration": 353,
    "start_time": "2022-09-26T12:34:37.159Z"
   },
   {
    "duration": 5725,
    "start_time": "2022-09-26T12:34:37.513Z"
   },
   {
    "duration": 286,
    "start_time": "2022-09-26T12:34:43.240Z"
   },
   {
    "duration": 16,
    "start_time": "2022-09-26T12:34:43.528Z"
   },
   {
    "duration": 250,
    "start_time": "2022-09-26T12:34:43.545Z"
   },
   {
    "duration": 11,
    "start_time": "2022-09-26T12:34:43.797Z"
   },
   {
    "duration": 8,
    "start_time": "2022-09-26T12:34:43.810Z"
   },
   {
    "duration": 8,
    "start_time": "2022-09-26T12:34:43.819Z"
   },
   {
    "duration": 137,
    "start_time": "2022-09-26T12:34:43.828Z"
   },
   {
    "duration": 68,
    "start_time": "2022-09-26T12:34:43.967Z"
   },
   {
    "duration": 6,
    "start_time": "2022-09-26T12:34:44.036Z"
   },
   {
    "duration": 393,
    "start_time": "2022-09-26T12:34:44.043Z"
   },
   {
    "duration": 6,
    "start_time": "2022-09-26T12:34:44.438Z"
   },
   {
    "duration": 646,
    "start_time": "2022-09-26T12:34:44.445Z"
   },
   {
    "duration": 9,
    "start_time": "2022-09-26T12:34:45.094Z"
   },
   {
    "duration": 631,
    "start_time": "2022-09-26T12:34:45.104Z"
   },
   {
    "duration": 293,
    "start_time": "2022-09-26T12:34:45.737Z"
   },
   {
    "duration": 12,
    "start_time": "2022-09-26T12:34:46.033Z"
   },
   {
    "duration": 298,
    "start_time": "2022-09-26T12:34:46.047Z"
   },
   {
    "duration": 316,
    "start_time": "2022-09-26T12:34:46.347Z"
   },
   {
    "duration": 12,
    "start_time": "2022-09-26T12:34:46.665Z"
   },
   {
    "duration": 317,
    "start_time": "2022-09-26T12:34:46.679Z"
   },
   {
    "duration": 366,
    "start_time": "2022-09-26T12:34:46.998Z"
   },
   {
    "duration": 531,
    "start_time": "2022-09-26T12:34:47.366Z"
   },
   {
    "duration": 413,
    "start_time": "2022-09-26T12:34:47.899Z"
   },
   {
    "duration": 13,
    "start_time": "2022-09-26T12:34:48.314Z"
   },
   {
    "duration": 320,
    "start_time": "2022-09-26T12:34:48.329Z"
   },
   {
    "duration": 346,
    "start_time": "2022-09-26T12:34:48.653Z"
   },
   {
    "duration": 624,
    "start_time": "2022-09-26T12:34:49.001Z"
   },
   {
    "duration": 538,
    "start_time": "2022-09-26T12:34:49.626Z"
   },
   {
    "duration": 359,
    "start_time": "2022-09-26T12:34:50.166Z"
   },
   {
    "duration": 381,
    "start_time": "2022-09-26T12:34:50.526Z"
   },
   {
    "duration": 9,
    "start_time": "2022-09-26T12:34:50.909Z"
   },
   {
    "duration": 615,
    "start_time": "2022-09-26T12:34:50.920Z"
   },
   {
    "duration": 578,
    "start_time": "2022-09-26T12:34:51.536Z"
   },
   {
    "duration": 649,
    "start_time": "2022-09-26T12:34:52.115Z"
   },
   {
    "duration": 14,
    "start_time": "2022-09-26T12:34:52.766Z"
   },
   {
    "duration": 44,
    "start_time": "2022-09-26T12:34:52.782Z"
   },
   {
    "duration": 29,
    "start_time": "2022-09-26T12:34:52.829Z"
   },
   {
    "duration": 4875,
    "start_time": "2022-09-26T12:34:52.861Z"
   },
   {
    "duration": 3482,
    "start_time": "2022-09-26T12:34:57.738Z"
   },
   {
    "duration": 326,
    "start_time": "2022-09-26T12:35:01.222Z"
   },
   {
    "duration": 386,
    "start_time": "2022-09-26T12:35:01.550Z"
   },
   {
    "duration": 421,
    "start_time": "2022-09-26T12:35:01.938Z"
   },
   {
    "duration": 373,
    "start_time": "2022-09-26T12:35:02.365Z"
   },
   {
    "duration": 692,
    "start_time": "2022-09-26T12:35:02.740Z"
   },
   {
    "duration": 0,
    "start_time": "2022-09-26T12:35:03.433Z"
   },
   {
    "duration": 0,
    "start_time": "2022-09-26T12:35:03.435Z"
   },
   {
    "duration": 0,
    "start_time": "2022-09-26T12:35:03.436Z"
   },
   {
    "duration": 0,
    "start_time": "2022-09-26T12:35:03.437Z"
   },
   {
    "duration": 0,
    "start_time": "2022-09-26T12:35:03.438Z"
   },
   {
    "duration": 0,
    "start_time": "2022-09-26T12:35:03.440Z"
   },
   {
    "duration": 0,
    "start_time": "2022-09-26T12:35:03.441Z"
   },
   {
    "duration": 0,
    "start_time": "2022-09-26T12:35:03.442Z"
   },
   {
    "duration": 0,
    "start_time": "2022-09-26T12:35:03.443Z"
   },
   {
    "duration": 0,
    "start_time": "2022-09-26T12:35:03.444Z"
   },
   {
    "duration": 0,
    "start_time": "2022-09-26T12:35:03.445Z"
   },
   {
    "duration": 0,
    "start_time": "2022-09-26T12:35:03.446Z"
   },
   {
    "duration": 6,
    "start_time": "2022-09-26T12:41:19.615Z"
   },
   {
    "duration": 6,
    "start_time": "2022-09-26T12:41:39.134Z"
   },
   {
    "duration": 822,
    "start_time": "2022-09-26T12:41:45.801Z"
   },
   {
    "duration": 18,
    "start_time": "2022-09-26T12:41:46.625Z"
   },
   {
    "duration": 10,
    "start_time": "2022-09-26T12:41:46.645Z"
   },
   {
    "duration": 11,
    "start_time": "2022-09-26T12:41:46.658Z"
   },
   {
    "duration": 5,
    "start_time": "2022-09-26T12:41:46.696Z"
   },
   {
    "duration": 11,
    "start_time": "2022-09-26T12:41:46.703Z"
   },
   {
    "duration": 7,
    "start_time": "2022-09-26T12:41:46.715Z"
   },
   {
    "duration": 14,
    "start_time": "2022-09-26T12:41:46.723Z"
   },
   {
    "duration": 19,
    "start_time": "2022-09-26T12:41:46.739Z"
   },
   {
    "duration": 39,
    "start_time": "2022-09-26T12:41:46.761Z"
   },
   {
    "duration": 7,
    "start_time": "2022-09-26T12:41:46.802Z"
   },
   {
    "duration": 20,
    "start_time": "2022-09-26T12:41:46.811Z"
   },
   {
    "duration": 9,
    "start_time": "2022-09-26T12:41:46.833Z"
   },
   {
    "duration": 53,
    "start_time": "2022-09-26T12:41:46.844Z"
   },
   {
    "duration": 18,
    "start_time": "2022-09-26T12:41:46.899Z"
   },
   {
    "duration": 14,
    "start_time": "2022-09-26T12:41:46.919Z"
   },
   {
    "duration": 377,
    "start_time": "2022-09-26T12:41:46.935Z"
   },
   {
    "duration": 27,
    "start_time": "2022-09-26T12:41:47.314Z"
   },
   {
    "duration": 266,
    "start_time": "2022-09-26T12:41:47.343Z"
   },
   {
    "duration": 129,
    "start_time": "2022-09-26T12:41:47.611Z"
   },
   {
    "duration": 7,
    "start_time": "2022-09-26T12:41:47.741Z"
   },
   {
    "duration": 5,
    "start_time": "2022-09-26T12:41:47.750Z"
   },
   {
    "duration": 396,
    "start_time": "2022-09-26T12:41:47.757Z"
   },
   {
    "duration": 5,
    "start_time": "2022-09-26T12:41:48.155Z"
   },
   {
    "duration": 224,
    "start_time": "2022-09-26T12:41:48.161Z"
   },
   {
    "duration": 218,
    "start_time": "2022-09-26T12:41:48.387Z"
   },
   {
    "duration": 17,
    "start_time": "2022-09-26T12:41:48.607Z"
   },
   {
    "duration": 6,
    "start_time": "2022-09-26T12:41:48.628Z"
   },
   {
    "duration": 27314,
    "start_time": "2022-09-26T12:41:48.635Z"
   },
   {
    "duration": 8,
    "start_time": "2022-09-26T12:42:15.951Z"
   },
   {
    "duration": 75,
    "start_time": "2022-09-26T12:42:15.961Z"
   },
   {
    "duration": 273,
    "start_time": "2022-09-26T12:42:16.039Z"
   },
   {
    "duration": 7,
    "start_time": "2022-09-26T12:42:16.315Z"
   },
   {
    "duration": 278,
    "start_time": "2022-09-26T12:42:16.324Z"
   },
   {
    "duration": 13,
    "start_time": "2022-09-26T12:42:16.604Z"
   },
   {
    "duration": 66,
    "start_time": "2022-09-26T12:42:16.620Z"
   },
   {
    "duration": 14,
    "start_time": "2022-09-26T12:42:16.688Z"
   },
   {
    "duration": 359,
    "start_time": "2022-09-26T12:42:16.705Z"
   },
   {
    "duration": 5929,
    "start_time": "2022-09-26T12:42:17.066Z"
   },
   {
    "duration": 286,
    "start_time": "2022-09-26T12:42:22.997Z"
   },
   {
    "duration": 20,
    "start_time": "2022-09-26T12:42:23.285Z"
   },
   {
    "duration": 188,
    "start_time": "2022-09-26T12:42:23.307Z"
   },
   {
    "duration": 11,
    "start_time": "2022-09-26T12:42:23.497Z"
   },
   {
    "duration": 7,
    "start_time": "2022-09-26T12:42:23.510Z"
   },
   {
    "duration": 10,
    "start_time": "2022-09-26T12:42:23.518Z"
   },
   {
    "duration": 151,
    "start_time": "2022-09-26T12:42:23.530Z"
   },
   {
    "duration": 66,
    "start_time": "2022-09-26T12:42:23.683Z"
   },
   {
    "duration": 7,
    "start_time": "2022-09-26T12:42:23.751Z"
   },
   {
    "duration": 294,
    "start_time": "2022-09-26T12:42:23.760Z"
   },
   {
    "duration": 5,
    "start_time": "2022-09-26T12:42:24.056Z"
   },
   {
    "duration": 556,
    "start_time": "2022-09-26T12:42:24.063Z"
   },
   {
    "duration": 8,
    "start_time": "2022-09-26T12:42:24.621Z"
   },
   {
    "duration": 624,
    "start_time": "2022-09-26T12:42:24.630Z"
   },
   {
    "duration": 292,
    "start_time": "2022-09-26T12:42:25.256Z"
   },
   {
    "duration": 11,
    "start_time": "2022-09-26T12:42:25.550Z"
   },
   {
    "duration": 284,
    "start_time": "2022-09-26T12:42:25.563Z"
   },
   {
    "duration": 261,
    "start_time": "2022-09-26T12:42:25.849Z"
   },
   {
    "duration": 8,
    "start_time": "2022-09-26T12:42:26.112Z"
   },
   {
    "duration": 277,
    "start_time": "2022-09-26T12:42:26.121Z"
   },
   {
    "duration": 416,
    "start_time": "2022-09-26T12:42:26.400Z"
   },
   {
    "duration": 452,
    "start_time": "2022-09-26T12:42:26.818Z"
   },
   {
    "duration": 376,
    "start_time": "2022-09-26T12:42:27.272Z"
   },
   {
    "duration": 13,
    "start_time": "2022-09-26T12:42:27.650Z"
   },
   {
    "duration": 304,
    "start_time": "2022-09-26T12:42:27.666Z"
   },
   {
    "duration": 334,
    "start_time": "2022-09-26T12:42:27.972Z"
   },
   {
    "duration": 644,
    "start_time": "2022-09-26T12:42:28.308Z"
   },
   {
    "duration": 540,
    "start_time": "2022-09-26T12:42:28.953Z"
   },
   {
    "duration": 353,
    "start_time": "2022-09-26T12:42:29.495Z"
   },
   {
    "duration": 371,
    "start_time": "2022-09-26T12:42:29.850Z"
   },
   {
    "duration": 9,
    "start_time": "2022-09-26T12:42:30.223Z"
   },
   {
    "duration": 640,
    "start_time": "2022-09-26T12:42:30.234Z"
   },
   {
    "duration": 591,
    "start_time": "2022-09-26T12:42:30.876Z"
   },
   {
    "duration": 682,
    "start_time": "2022-09-26T12:42:31.469Z"
   },
   {
    "duration": 16,
    "start_time": "2022-09-26T12:42:32.153Z"
   },
   {
    "duration": 46,
    "start_time": "2022-09-26T12:42:32.171Z"
   },
   {
    "duration": 27,
    "start_time": "2022-09-26T12:42:32.219Z"
   },
   {
    "duration": 4933,
    "start_time": "2022-09-26T12:42:32.248Z"
   },
   {
    "duration": 3474,
    "start_time": "2022-09-26T12:42:37.183Z"
   },
   {
    "duration": 325,
    "start_time": "2022-09-26T12:42:40.659Z"
   },
   {
    "duration": 430,
    "start_time": "2022-09-26T12:42:40.985Z"
   },
   {
    "duration": 451,
    "start_time": "2022-09-26T12:42:41.417Z"
   },
   {
    "duration": 411,
    "start_time": "2022-09-26T12:42:41.873Z"
   },
   {
    "duration": 98,
    "start_time": "2022-09-26T12:42:42.287Z"
   },
   {
    "duration": 0,
    "start_time": "2022-09-26T12:42:42.387Z"
   },
   {
    "duration": 0,
    "start_time": "2022-09-26T12:42:42.388Z"
   },
   {
    "duration": 0,
    "start_time": "2022-09-26T12:42:42.390Z"
   },
   {
    "duration": 0,
    "start_time": "2022-09-26T12:42:42.391Z"
   },
   {
    "duration": 0,
    "start_time": "2022-09-26T12:42:42.393Z"
   },
   {
    "duration": 0,
    "start_time": "2022-09-26T12:42:42.395Z"
   },
   {
    "duration": 0,
    "start_time": "2022-09-26T12:42:42.396Z"
   },
   {
    "duration": 0,
    "start_time": "2022-09-26T12:42:42.397Z"
   },
   {
    "duration": 0,
    "start_time": "2022-09-26T12:42:42.398Z"
   },
   {
    "duration": 0,
    "start_time": "2022-09-26T12:42:42.399Z"
   },
   {
    "duration": 0,
    "start_time": "2022-09-26T12:42:42.400Z"
   },
   {
    "duration": 0,
    "start_time": "2022-09-26T12:42:42.402Z"
   },
   {
    "duration": 47,
    "start_time": "2022-09-26T12:47:17.983Z"
   },
   {
    "duration": 14,
    "start_time": "2022-09-26T12:49:04.238Z"
   },
   {
    "duration": 787,
    "start_time": "2022-09-26T12:52:49.157Z"
   },
   {
    "duration": 15,
    "start_time": "2022-09-26T12:52:49.947Z"
   },
   {
    "duration": 11,
    "start_time": "2022-09-26T12:52:49.964Z"
   },
   {
    "duration": 27,
    "start_time": "2022-09-26T12:52:49.977Z"
   },
   {
    "duration": 6,
    "start_time": "2022-09-26T12:52:50.006Z"
   },
   {
    "duration": 25,
    "start_time": "2022-09-26T12:52:50.014Z"
   },
   {
    "duration": 10,
    "start_time": "2022-09-26T12:52:50.041Z"
   },
   {
    "duration": 14,
    "start_time": "2022-09-26T12:52:50.052Z"
   },
   {
    "duration": 33,
    "start_time": "2022-09-26T12:52:50.067Z"
   },
   {
    "duration": 7,
    "start_time": "2022-09-26T12:52:50.104Z"
   },
   {
    "duration": 10,
    "start_time": "2022-09-26T12:52:50.113Z"
   },
   {
    "duration": 12,
    "start_time": "2022-09-26T12:52:50.125Z"
   },
   {
    "duration": 9,
    "start_time": "2022-09-26T12:52:50.138Z"
   },
   {
    "duration": 52,
    "start_time": "2022-09-26T12:52:50.149Z"
   },
   {
    "duration": 15,
    "start_time": "2022-09-26T12:52:50.203Z"
   },
   {
    "duration": 13,
    "start_time": "2022-09-26T12:52:50.220Z"
   },
   {
    "duration": 392,
    "start_time": "2022-09-26T12:52:50.235Z"
   },
   {
    "duration": 29,
    "start_time": "2022-09-26T12:52:50.629Z"
   },
   {
    "duration": 297,
    "start_time": "2022-09-26T12:52:50.660Z"
   },
   {
    "duration": 145,
    "start_time": "2022-09-26T12:52:50.960Z"
   },
   {
    "duration": 7,
    "start_time": "2022-09-26T12:52:51.107Z"
   },
   {
    "duration": 387,
    "start_time": "2022-09-26T12:52:51.115Z"
   },
   {
    "duration": 225,
    "start_time": "2022-09-26T12:52:51.504Z"
   },
   {
    "duration": 226,
    "start_time": "2022-09-26T12:52:51.730Z"
   },
   {
    "duration": 18,
    "start_time": "2022-09-26T12:52:51.958Z"
   },
   {
    "duration": 20,
    "start_time": "2022-09-26T12:52:51.977Z"
   },
   {
    "duration": 27270,
    "start_time": "2022-09-26T12:52:51.999Z"
   },
   {
    "duration": 7,
    "start_time": "2022-09-26T12:53:19.273Z"
   },
   {
    "duration": 66,
    "start_time": "2022-09-26T12:53:19.282Z"
   },
   {
    "duration": 259,
    "start_time": "2022-09-26T12:53:19.350Z"
   },
   {
    "duration": 8,
    "start_time": "2022-09-26T12:53:19.611Z"
   },
   {
    "duration": 284,
    "start_time": "2022-09-26T12:53:19.621Z"
   },
   {
    "duration": 11,
    "start_time": "2022-09-26T12:53:19.908Z"
   },
   {
    "duration": 35,
    "start_time": "2022-09-26T12:53:19.921Z"
   },
   {
    "duration": 10,
    "start_time": "2022-09-26T12:53:19.958Z"
   },
   {
    "duration": 319,
    "start_time": "2022-09-26T12:53:19.995Z"
   },
   {
    "duration": 5838,
    "start_time": "2022-09-26T12:53:20.315Z"
   },
   {
    "duration": 296,
    "start_time": "2022-09-26T12:53:26.155Z"
   },
   {
    "duration": 17,
    "start_time": "2022-09-26T12:53:26.453Z"
   },
   {
    "duration": 244,
    "start_time": "2022-09-26T12:53:26.472Z"
   },
   {
    "duration": 13,
    "start_time": "2022-09-26T12:53:26.719Z"
   },
   {
    "duration": 13,
    "start_time": "2022-09-26T12:53:26.734Z"
   },
   {
    "duration": 10,
    "start_time": "2022-09-26T12:53:26.750Z"
   },
   {
    "duration": 169,
    "start_time": "2022-09-26T12:53:26.762Z"
   },
   {
    "duration": 73,
    "start_time": "2022-09-26T12:53:26.933Z"
   },
   {
    "duration": 6,
    "start_time": "2022-09-26T12:53:27.007Z"
   },
   {
    "duration": 280,
    "start_time": "2022-09-26T12:53:27.015Z"
   },
   {
    "duration": 5,
    "start_time": "2022-09-26T12:53:27.296Z"
   },
   {
    "duration": 558,
    "start_time": "2022-09-26T12:53:27.303Z"
   },
   {
    "duration": 12,
    "start_time": "2022-09-26T12:53:27.863Z"
   },
   {
    "duration": 661,
    "start_time": "2022-09-26T12:53:27.878Z"
   },
   {
    "duration": 309,
    "start_time": "2022-09-26T12:53:28.541Z"
   },
   {
    "duration": 11,
    "start_time": "2022-09-26T12:53:28.852Z"
   },
   {
    "duration": 281,
    "start_time": "2022-09-26T12:53:28.865Z"
   },
   {
    "duration": 269,
    "start_time": "2022-09-26T12:53:29.148Z"
   },
   {
    "duration": 9,
    "start_time": "2022-09-26T12:53:29.420Z"
   },
   {
    "duration": 282,
    "start_time": "2022-09-26T12:53:29.431Z"
   },
   {
    "duration": 344,
    "start_time": "2022-09-26T12:53:29.715Z"
   },
   {
    "duration": 464,
    "start_time": "2022-09-26T12:53:30.061Z"
   },
   {
    "duration": 394,
    "start_time": "2022-09-26T12:53:30.527Z"
   },
   {
    "duration": 13,
    "start_time": "2022-09-26T12:53:30.923Z"
   },
   {
    "duration": 319,
    "start_time": "2022-09-26T12:53:30.937Z"
   },
   {
    "duration": 338,
    "start_time": "2022-09-26T12:53:31.259Z"
   },
   {
    "duration": 668,
    "start_time": "2022-09-26T12:53:31.599Z"
   },
   {
    "duration": 630,
    "start_time": "2022-09-26T12:53:32.269Z"
   },
   {
    "duration": 382,
    "start_time": "2022-09-26T12:53:32.901Z"
   },
   {
    "duration": 370,
    "start_time": "2022-09-26T12:53:33.286Z"
   },
   {
    "duration": 8,
    "start_time": "2022-09-26T12:53:33.658Z"
   },
   {
    "duration": 608,
    "start_time": "2022-09-26T12:53:33.668Z"
   },
   {
    "duration": 609,
    "start_time": "2022-09-26T12:53:34.277Z"
   },
   {
    "duration": 669,
    "start_time": "2022-09-26T12:53:34.895Z"
   },
   {
    "duration": 16,
    "start_time": "2022-09-26T12:53:35.566Z"
   },
   {
    "duration": 39,
    "start_time": "2022-09-26T12:53:35.583Z"
   },
   {
    "duration": 27,
    "start_time": "2022-09-26T12:53:35.623Z"
   },
   {
    "duration": 4882,
    "start_time": "2022-09-26T12:53:35.652Z"
   },
   {
    "duration": 3475,
    "start_time": "2022-09-26T12:53:40.536Z"
   },
   {
    "duration": 316,
    "start_time": "2022-09-26T12:53:44.012Z"
   },
   {
    "duration": 395,
    "start_time": "2022-09-26T12:53:44.330Z"
   },
   {
    "duration": 388,
    "start_time": "2022-09-26T12:53:44.727Z"
   },
   {
    "duration": 367,
    "start_time": "2022-09-26T12:53:45.117Z"
   },
   {
    "duration": 2,
    "start_time": "2022-09-26T12:53:45.486Z"
   },
   {
    "duration": 381,
    "start_time": "2022-09-26T12:53:45.497Z"
   },
   {
    "duration": 358,
    "start_time": "2022-09-26T12:53:45.879Z"
   },
   {
    "duration": 405,
    "start_time": "2022-09-26T12:53:46.239Z"
   },
   {
    "duration": 79,
    "start_time": "2022-09-26T12:53:46.646Z"
   },
   {
    "duration": 0,
    "start_time": "2022-09-26T12:53:46.727Z"
   },
   {
    "duration": 0,
    "start_time": "2022-09-26T12:53:46.729Z"
   },
   {
    "duration": 0,
    "start_time": "2022-09-26T12:53:46.730Z"
   },
   {
    "duration": 0,
    "start_time": "2022-09-26T12:53:46.732Z"
   },
   {
    "duration": 0,
    "start_time": "2022-09-26T12:53:46.733Z"
   },
   {
    "duration": 1,
    "start_time": "2022-09-26T12:53:46.734Z"
   },
   {
    "duration": 0,
    "start_time": "2022-09-26T12:53:46.735Z"
   },
   {
    "duration": 0,
    "start_time": "2022-09-26T12:53:46.736Z"
   },
   {
    "duration": 800,
    "start_time": "2022-09-26T12:54:24.984Z"
   },
   {
    "duration": 22,
    "start_time": "2022-09-26T12:54:25.786Z"
   },
   {
    "duration": 9,
    "start_time": "2022-09-26T12:54:25.809Z"
   },
   {
    "duration": 9,
    "start_time": "2022-09-26T12:54:25.819Z"
   },
   {
    "duration": 4,
    "start_time": "2022-09-26T12:54:25.830Z"
   },
   {
    "duration": 11,
    "start_time": "2022-09-26T12:54:25.836Z"
   },
   {
    "duration": 6,
    "start_time": "2022-09-26T12:54:25.849Z"
   },
   {
    "duration": 40,
    "start_time": "2022-09-26T12:54:25.857Z"
   },
   {
    "duration": 11,
    "start_time": "2022-09-26T12:54:25.899Z"
   },
   {
    "duration": 5,
    "start_time": "2022-09-26T12:54:25.912Z"
   },
   {
    "duration": 8,
    "start_time": "2022-09-26T12:54:25.919Z"
   },
   {
    "duration": 11,
    "start_time": "2022-09-26T12:54:25.928Z"
   },
   {
    "duration": 7,
    "start_time": "2022-09-26T12:54:25.941Z"
   },
   {
    "duration": 50,
    "start_time": "2022-09-26T12:54:25.950Z"
   },
   {
    "duration": 14,
    "start_time": "2022-09-26T12:54:26.002Z"
   },
   {
    "duration": 11,
    "start_time": "2022-09-26T12:54:26.018Z"
   },
   {
    "duration": 361,
    "start_time": "2022-09-26T12:54:26.031Z"
   },
   {
    "duration": 27,
    "start_time": "2022-09-26T12:54:26.394Z"
   },
   {
    "duration": 316,
    "start_time": "2022-09-26T12:54:26.423Z"
   },
   {
    "duration": 132,
    "start_time": "2022-09-26T12:54:26.741Z"
   },
   {
    "duration": 7,
    "start_time": "2022-09-26T12:54:26.875Z"
   },
   {
    "duration": 368,
    "start_time": "2022-09-26T12:54:26.883Z"
   },
   {
    "duration": 215,
    "start_time": "2022-09-26T12:54:27.253Z"
   },
   {
    "duration": 207,
    "start_time": "2022-09-26T12:54:27.470Z"
   },
   {
    "duration": 27,
    "start_time": "2022-09-26T12:54:27.679Z"
   },
   {
    "duration": 7,
    "start_time": "2022-09-26T12:54:27.708Z"
   },
   {
    "duration": 27509,
    "start_time": "2022-09-26T12:54:27.717Z"
   },
   {
    "duration": 8,
    "start_time": "2022-09-26T12:54:55.228Z"
   },
   {
    "duration": 72,
    "start_time": "2022-09-26T12:54:55.237Z"
   },
   {
    "duration": 242,
    "start_time": "2022-09-26T12:54:55.311Z"
   },
   {
    "duration": 7,
    "start_time": "2022-09-26T12:54:55.555Z"
   },
   {
    "duration": 268,
    "start_time": "2022-09-26T12:54:55.563Z"
   },
   {
    "duration": 11,
    "start_time": "2022-09-26T12:54:55.832Z"
   },
   {
    "duration": 32,
    "start_time": "2022-09-26T12:54:55.845Z"
   },
   {
    "duration": 11,
    "start_time": "2022-09-26T12:54:55.894Z"
   },
   {
    "duration": 303,
    "start_time": "2022-09-26T12:54:55.907Z"
   },
   {
    "duration": 6123,
    "start_time": "2022-09-26T12:54:56.212Z"
   },
   {
    "duration": 286,
    "start_time": "2022-09-26T12:55:02.337Z"
   },
   {
    "duration": 16,
    "start_time": "2022-09-26T12:55:02.625Z"
   },
   {
    "duration": 205,
    "start_time": "2022-09-26T12:55:02.643Z"
   },
   {
    "duration": 13,
    "start_time": "2022-09-26T12:55:02.855Z"
   },
   {
    "duration": 27,
    "start_time": "2022-09-26T12:55:02.870Z"
   },
   {
    "duration": 6,
    "start_time": "2022-09-26T12:55:02.901Z"
   },
   {
    "duration": 161,
    "start_time": "2022-09-26T12:55:02.909Z"
   },
   {
    "duration": 76,
    "start_time": "2022-09-26T12:55:03.072Z"
   },
   {
    "duration": 6,
    "start_time": "2022-09-26T12:55:03.150Z"
   },
   {
    "duration": 286,
    "start_time": "2022-09-26T12:55:03.158Z"
   },
   {
    "duration": 5,
    "start_time": "2022-09-26T12:55:03.445Z"
   },
   {
    "duration": 547,
    "start_time": "2022-09-26T12:55:03.451Z"
   },
   {
    "duration": 9,
    "start_time": "2022-09-26T12:55:03.999Z"
   },
   {
    "duration": 598,
    "start_time": "2022-09-26T12:55:04.009Z"
   },
   {
    "duration": 268,
    "start_time": "2022-09-26T12:55:04.608Z"
   },
   {
    "duration": 21,
    "start_time": "2022-09-26T12:55:04.877Z"
   },
   {
    "duration": 258,
    "start_time": "2022-09-26T12:55:04.899Z"
   },
   {
    "duration": 262,
    "start_time": "2022-09-26T12:55:05.159Z"
   },
   {
    "duration": 9,
    "start_time": "2022-09-26T12:55:05.423Z"
   },
   {
    "duration": 284,
    "start_time": "2022-09-26T12:55:05.434Z"
   },
   {
    "duration": 330,
    "start_time": "2022-09-26T12:55:05.721Z"
   },
   {
    "duration": 430,
    "start_time": "2022-09-26T12:55:06.053Z"
   },
   {
    "duration": 473,
    "start_time": "2022-09-26T12:55:06.485Z"
   },
   {
    "duration": 13,
    "start_time": "2022-09-26T12:55:06.960Z"
   },
   {
    "duration": 331,
    "start_time": "2022-09-26T12:55:06.975Z"
   },
   {
    "duration": 328,
    "start_time": "2022-09-26T12:55:07.308Z"
   },
   {
    "duration": 665,
    "start_time": "2022-09-26T12:55:07.638Z"
   },
   {
    "duration": 549,
    "start_time": "2022-09-26T12:55:08.305Z"
   },
   {
    "duration": 359,
    "start_time": "2022-09-26T12:55:08.856Z"
   },
   {
    "duration": 355,
    "start_time": "2022-09-26T12:55:09.217Z"
   },
   {
    "duration": 9,
    "start_time": "2022-09-26T12:55:09.574Z"
   },
   {
    "duration": 591,
    "start_time": "2022-09-26T12:55:09.584Z"
   },
   {
    "duration": 581,
    "start_time": "2022-09-26T12:55:10.177Z"
   },
   {
    "duration": 671,
    "start_time": "2022-09-26T12:55:10.760Z"
   },
   {
    "duration": 16,
    "start_time": "2022-09-26T12:55:11.433Z"
   },
   {
    "duration": 50,
    "start_time": "2022-09-26T12:55:11.451Z"
   },
   {
    "duration": 28,
    "start_time": "2022-09-26T12:55:11.504Z"
   },
   {
    "duration": 4969,
    "start_time": "2022-09-26T12:55:11.534Z"
   },
   {
    "duration": 3559,
    "start_time": "2022-09-26T12:55:16.505Z"
   },
   {
    "duration": 309,
    "start_time": "2022-09-26T12:55:20.066Z"
   },
   {
    "duration": 392,
    "start_time": "2022-09-26T12:55:20.377Z"
   },
   {
    "duration": 417,
    "start_time": "2022-09-26T12:55:20.770Z"
   },
   {
    "duration": 355,
    "start_time": "2022-09-26T12:55:21.189Z"
   },
   {
    "duration": 2,
    "start_time": "2022-09-26T12:55:21.546Z"
   },
   {
    "duration": 376,
    "start_time": "2022-09-26T12:55:21.550Z"
   },
   {
    "duration": 347,
    "start_time": "2022-09-26T12:55:21.928Z"
   },
   {
    "duration": 387,
    "start_time": "2022-09-26T12:55:22.277Z"
   },
   {
    "duration": 3,
    "start_time": "2022-09-26T12:55:22.666Z"
   },
   {
    "duration": 381,
    "start_time": "2022-09-26T12:55:22.671Z"
   },
   {
    "duration": 405,
    "start_time": "2022-09-26T12:55:23.054Z"
   },
   {
    "duration": 404,
    "start_time": "2022-09-26T12:55:23.461Z"
   },
   {
    "duration": 401,
    "start_time": "2022-09-26T12:55:23.866Z"
   },
   {
    "duration": 35,
    "start_time": "2022-09-26T12:55:24.268Z"
   },
   {
    "duration": 154,
    "start_time": "2022-09-26T12:55:24.305Z"
   },
   {
    "duration": 40,
    "start_time": "2022-09-26T12:55:24.461Z"
   },
   {
    "duration": 161,
    "start_time": "2022-09-26T12:55:24.503Z"
   },
   {
    "duration": 41,
    "start_time": "2022-09-26T15:36:22.665Z"
   },
   {
    "duration": 922,
    "start_time": "2022-09-26T15:36:29.243Z"
   },
   {
    "duration": 12,
    "start_time": "2022-09-26T15:36:30.167Z"
   },
   {
    "duration": 8,
    "start_time": "2022-09-26T15:36:30.181Z"
   },
   {
    "duration": 12,
    "start_time": "2022-09-26T15:36:30.191Z"
   },
   {
    "duration": 4,
    "start_time": "2022-09-26T15:36:30.204Z"
   },
   {
    "duration": 23,
    "start_time": "2022-09-26T15:36:30.210Z"
   },
   {
    "duration": 18,
    "start_time": "2022-09-26T15:36:30.234Z"
   },
   {
    "duration": 27,
    "start_time": "2022-09-26T15:36:30.253Z"
   },
   {
    "duration": 27,
    "start_time": "2022-09-26T15:36:30.281Z"
   },
   {
    "duration": 27,
    "start_time": "2022-09-26T15:36:30.310Z"
   },
   {
    "duration": 40,
    "start_time": "2022-09-26T15:36:30.338Z"
   },
   {
    "duration": 36,
    "start_time": "2022-09-26T15:36:30.380Z"
   },
   {
    "duration": 27,
    "start_time": "2022-09-26T15:36:30.417Z"
   },
   {
    "duration": 33,
    "start_time": "2022-09-26T15:36:30.446Z"
   },
   {
    "duration": 40,
    "start_time": "2022-09-26T15:36:30.480Z"
   },
   {
    "duration": 70,
    "start_time": "2022-09-26T15:36:30.522Z"
   },
   {
    "duration": 342,
    "start_time": "2022-09-26T15:36:30.594Z"
   },
   {
    "duration": 22,
    "start_time": "2022-09-26T15:36:30.937Z"
   },
   {
    "duration": 229,
    "start_time": "2022-09-26T15:36:30.961Z"
   },
   {
    "duration": 108,
    "start_time": "2022-09-26T15:36:31.191Z"
   },
   {
    "duration": 6,
    "start_time": "2022-09-26T15:36:31.300Z"
   },
   {
    "duration": 331,
    "start_time": "2022-09-26T15:36:31.307Z"
   },
   {
    "duration": 186,
    "start_time": "2022-09-26T15:36:31.639Z"
   },
   {
    "duration": 176,
    "start_time": "2022-09-26T15:36:31.826Z"
   },
   {
    "duration": 21,
    "start_time": "2022-09-26T15:36:32.003Z"
   },
   {
    "duration": 24,
    "start_time": "2022-09-26T15:36:32.026Z"
   },
   {
    "duration": 24503,
    "start_time": "2022-09-26T15:36:32.051Z"
   },
   {
    "duration": 6,
    "start_time": "2022-09-26T15:36:56.558Z"
   },
   {
    "duration": 69,
    "start_time": "2022-09-26T15:36:56.566Z"
   },
   {
    "duration": 209,
    "start_time": "2022-09-26T15:36:56.637Z"
   },
   {
    "duration": 6,
    "start_time": "2022-09-26T15:36:56.847Z"
   },
   {
    "duration": 216,
    "start_time": "2022-09-26T15:36:56.854Z"
   },
   {
    "duration": 10,
    "start_time": "2022-09-26T15:36:57.071Z"
   },
   {
    "duration": 43,
    "start_time": "2022-09-26T15:36:57.083Z"
   },
   {
    "duration": 8,
    "start_time": "2022-09-26T15:36:57.128Z"
   },
   {
    "duration": 263,
    "start_time": "2022-09-26T15:36:57.137Z"
   },
   {
    "duration": 5064,
    "start_time": "2022-09-26T15:36:57.402Z"
   },
   {
    "duration": 231,
    "start_time": "2022-09-26T15:37:02.468Z"
   },
   {
    "duration": 21,
    "start_time": "2022-09-26T15:37:02.700Z"
   },
   {
    "duration": 165,
    "start_time": "2022-09-26T15:37:02.723Z"
   },
   {
    "duration": 9,
    "start_time": "2022-09-26T15:37:02.890Z"
   },
   {
    "duration": 43,
    "start_time": "2022-09-26T15:37:02.901Z"
   },
   {
    "duration": 14,
    "start_time": "2022-09-26T15:37:02.945Z"
   },
   {
    "duration": 69,
    "start_time": "2022-09-26T15:37:02.960Z"
   },
   {
    "duration": 4,
    "start_time": "2022-09-26T15:37:03.031Z"
   },
   {
    "duration": 64,
    "start_time": "2022-09-26T15:37:03.037Z"
   },
   {
    "duration": 65,
    "start_time": "2022-09-26T15:37:03.103Z"
   },
   {
    "duration": 6,
    "start_time": "2022-09-26T15:37:03.170Z"
   },
   {
    "duration": 247,
    "start_time": "2022-09-26T15:37:03.177Z"
   },
   {
    "duration": 4,
    "start_time": "2022-09-26T15:37:03.426Z"
   },
   {
    "duration": 464,
    "start_time": "2022-09-26T15:37:03.432Z"
   },
   {
    "duration": 8,
    "start_time": "2022-09-26T15:37:03.898Z"
   },
   {
    "duration": 518,
    "start_time": "2022-09-26T15:37:03.907Z"
   },
   {
    "duration": 241,
    "start_time": "2022-09-26T15:37:04.427Z"
   },
   {
    "duration": 10,
    "start_time": "2022-09-26T15:37:04.669Z"
   },
   {
    "duration": 229,
    "start_time": "2022-09-26T15:37:04.680Z"
   },
   {
    "duration": 220,
    "start_time": "2022-09-26T15:37:04.911Z"
   },
   {
    "duration": 7,
    "start_time": "2022-09-26T15:37:05.132Z"
   },
   {
    "duration": 219,
    "start_time": "2022-09-26T15:37:05.141Z"
   },
   {
    "duration": 296,
    "start_time": "2022-09-26T15:37:05.362Z"
   },
   {
    "duration": 390,
    "start_time": "2022-09-26T15:37:05.659Z"
   },
   {
    "duration": 348,
    "start_time": "2022-09-26T15:37:06.051Z"
   },
   {
    "duration": 11,
    "start_time": "2022-09-26T15:37:06.401Z"
   },
   {
    "duration": 263,
    "start_time": "2022-09-26T15:37:06.413Z"
   },
   {
    "duration": 274,
    "start_time": "2022-09-26T15:37:06.677Z"
   },
   {
    "duration": 529,
    "start_time": "2022-09-26T15:37:06.953Z"
   },
   {
    "duration": 463,
    "start_time": "2022-09-26T15:37:07.484Z"
   },
   {
    "duration": 303,
    "start_time": "2022-09-26T15:37:07.948Z"
   },
   {
    "duration": 326,
    "start_time": "2022-09-26T15:37:08.253Z"
   },
   {
    "duration": 9,
    "start_time": "2022-09-26T15:37:08.581Z"
   },
   {
    "duration": 516,
    "start_time": "2022-09-26T15:37:08.591Z"
   },
   {
    "duration": 507,
    "start_time": "2022-09-26T15:37:09.108Z"
   },
   {
    "duration": 568,
    "start_time": "2022-09-26T15:37:09.616Z"
   },
   {
    "duration": 13,
    "start_time": "2022-09-26T15:37:10.185Z"
   },
   {
    "duration": 38,
    "start_time": "2022-09-26T15:37:10.199Z"
   },
   {
    "duration": 22,
    "start_time": "2022-09-26T15:37:10.239Z"
   },
   {
    "duration": 4151,
    "start_time": "2022-09-26T15:37:10.262Z"
   },
   {
    "duration": 2873,
    "start_time": "2022-09-26T15:37:14.421Z"
   },
   {
    "duration": 269,
    "start_time": "2022-09-26T15:37:17.296Z"
   },
   {
    "duration": 329,
    "start_time": "2022-09-26T15:37:17.566Z"
   },
   {
    "duration": 334,
    "start_time": "2022-09-26T15:37:17.897Z"
   },
   {
    "duration": 306,
    "start_time": "2022-09-26T15:37:18.237Z"
   },
   {
    "duration": 2,
    "start_time": "2022-09-26T15:37:18.545Z"
   },
   {
    "duration": 323,
    "start_time": "2022-09-26T15:37:18.549Z"
   },
   {
    "duration": 304,
    "start_time": "2022-09-26T15:37:18.874Z"
   },
   {
    "duration": 334,
    "start_time": "2022-09-26T15:37:19.180Z"
   },
   {
    "duration": 3,
    "start_time": "2022-09-26T15:37:19.522Z"
   },
   {
    "duration": 309,
    "start_time": "2022-09-26T15:37:19.526Z"
   },
   {
    "duration": 350,
    "start_time": "2022-09-26T15:37:19.837Z"
   },
   {
    "duration": 339,
    "start_time": "2022-09-26T15:37:20.189Z"
   },
   {
    "duration": 336,
    "start_time": "2022-09-26T15:37:20.530Z"
   },
   {
    "duration": 22,
    "start_time": "2022-09-26T15:37:20.868Z"
   },
   {
    "duration": 138,
    "start_time": "2022-09-26T15:37:20.892Z"
   },
   {
    "duration": 30,
    "start_time": "2022-09-26T15:37:21.031Z"
   },
   {
    "duration": 150,
    "start_time": "2022-09-26T15:37:21.063Z"
   },
   {
    "duration": 13,
    "start_time": "2022-09-26T15:52:07.614Z"
   },
   {
    "duration": 12,
    "start_time": "2022-09-26T16:04:53.761Z"
   },
   {
    "duration": 743,
    "start_time": "2022-09-26T16:04:58.410Z"
   },
   {
    "duration": 13,
    "start_time": "2022-09-26T16:04:59.155Z"
   },
   {
    "duration": 8,
    "start_time": "2022-09-26T16:04:59.170Z"
   },
   {
    "duration": 8,
    "start_time": "2022-09-26T16:04:59.180Z"
   },
   {
    "duration": 7,
    "start_time": "2022-09-26T16:04:59.189Z"
   },
   {
    "duration": 31,
    "start_time": "2022-09-26T16:04:59.197Z"
   },
   {
    "duration": 6,
    "start_time": "2022-09-26T16:04:59.230Z"
   },
   {
    "duration": 14,
    "start_time": "2022-09-26T16:04:59.237Z"
   },
   {
    "duration": 14,
    "start_time": "2022-09-26T16:04:59.252Z"
   },
   {
    "duration": 6,
    "start_time": "2022-09-26T16:04:59.269Z"
   },
   {
    "duration": 9,
    "start_time": "2022-09-26T16:04:59.276Z"
   },
   {
    "duration": 10,
    "start_time": "2022-09-26T16:04:59.287Z"
   },
   {
    "duration": 28,
    "start_time": "2022-09-26T16:04:59.298Z"
   },
   {
    "duration": 16,
    "start_time": "2022-09-26T16:04:59.327Z"
   },
   {
    "duration": 13,
    "start_time": "2022-09-26T16:04:59.344Z"
   },
   {
    "duration": 11,
    "start_time": "2022-09-26T16:04:59.358Z"
   },
   {
    "duration": 354,
    "start_time": "2022-09-26T16:04:59.370Z"
   },
   {
    "duration": 25,
    "start_time": "2022-09-26T16:04:59.726Z"
   },
   {
    "duration": 225,
    "start_time": "2022-09-26T16:04:59.752Z"
   },
   {
    "duration": 114,
    "start_time": "2022-09-26T16:04:59.978Z"
   },
   {
    "duration": 5,
    "start_time": "2022-09-26T16:05:00.094Z"
   },
   {
    "duration": 323,
    "start_time": "2022-09-26T16:05:00.101Z"
   },
   {
    "duration": 199,
    "start_time": "2022-09-26T16:05:00.426Z"
   },
   {
    "duration": 220,
    "start_time": "2022-09-26T16:05:00.627Z"
   },
   {
    "duration": 18,
    "start_time": "2022-09-26T16:05:00.849Z"
   },
   {
    "duration": 39,
    "start_time": "2022-09-26T16:05:00.869Z"
   },
   {
    "duration": 24905,
    "start_time": "2022-09-26T16:05:00.910Z"
   },
   {
    "duration": 6,
    "start_time": "2022-09-26T16:05:25.821Z"
   },
   {
    "duration": 72,
    "start_time": "2022-09-26T16:05:25.829Z"
   },
   {
    "duration": 237,
    "start_time": "2022-09-26T16:05:25.903Z"
   },
   {
    "duration": 7,
    "start_time": "2022-09-26T16:05:26.141Z"
   },
   {
    "duration": 240,
    "start_time": "2022-09-26T16:05:26.150Z"
   },
   {
    "duration": 7,
    "start_time": "2022-09-26T16:05:26.392Z"
   },
   {
    "duration": 44,
    "start_time": "2022-09-26T16:05:26.401Z"
   },
   {
    "duration": 8,
    "start_time": "2022-09-26T16:05:26.446Z"
   },
   {
    "duration": 247,
    "start_time": "2022-09-26T16:05:26.456Z"
   },
   {
    "duration": 4984,
    "start_time": "2022-09-26T16:05:26.704Z"
   },
   {
    "duration": 225,
    "start_time": "2022-09-26T16:05:31.689Z"
   },
   {
    "duration": 16,
    "start_time": "2022-09-26T16:05:31.915Z"
   },
   {
    "duration": 160,
    "start_time": "2022-09-26T16:05:31.932Z"
   },
   {
    "duration": 9,
    "start_time": "2022-09-26T16:05:32.094Z"
   },
   {
    "duration": 25,
    "start_time": "2022-09-26T16:05:32.105Z"
   },
   {
    "duration": 31,
    "start_time": "2022-09-26T16:05:32.131Z"
   },
   {
    "duration": 13,
    "start_time": "2022-09-26T16:05:32.163Z"
   },
   {
    "duration": 157,
    "start_time": "2022-09-26T16:05:32.178Z"
   },
   {
    "duration": 61,
    "start_time": "2022-09-26T16:05:32.336Z"
   },
   {
    "duration": 6,
    "start_time": "2022-09-26T16:05:32.399Z"
   },
   {
    "duration": 251,
    "start_time": "2022-09-26T16:05:32.421Z"
   },
   {
    "duration": 6,
    "start_time": "2022-09-26T16:05:32.674Z"
   },
   {
    "duration": 475,
    "start_time": "2022-09-26T16:05:32.681Z"
   },
   {
    "duration": 8,
    "start_time": "2022-09-26T16:05:33.158Z"
   },
   {
    "duration": 541,
    "start_time": "2022-09-26T16:05:33.168Z"
   },
   {
    "duration": 247,
    "start_time": "2022-09-26T16:05:33.711Z"
   },
   {
    "duration": 10,
    "start_time": "2022-09-26T16:05:33.960Z"
   },
   {
    "duration": 243,
    "start_time": "2022-09-26T16:05:33.971Z"
   },
   {
    "duration": 247,
    "start_time": "2022-09-26T16:05:34.221Z"
   },
   {
    "duration": 8,
    "start_time": "2022-09-26T16:05:34.469Z"
   },
   {
    "duration": 260,
    "start_time": "2022-09-26T16:05:34.479Z"
   },
   {
    "duration": 309,
    "start_time": "2022-09-26T16:05:34.740Z"
   },
   {
    "duration": 438,
    "start_time": "2022-09-26T16:05:35.051Z"
   },
   {
    "duration": 352,
    "start_time": "2022-09-26T16:05:35.490Z"
   },
   {
    "duration": 13,
    "start_time": "2022-09-26T16:05:35.844Z"
   },
   {
    "duration": 338,
    "start_time": "2022-09-26T16:05:35.859Z"
   },
   {
    "duration": 300,
    "start_time": "2022-09-26T16:05:36.199Z"
   },
   {
    "duration": 579,
    "start_time": "2022-09-26T16:05:36.501Z"
   },
   {
    "duration": 506,
    "start_time": "2022-09-26T16:05:37.082Z"
   },
   {
    "duration": 348,
    "start_time": "2022-09-26T16:05:37.589Z"
   },
   {
    "duration": 311,
    "start_time": "2022-09-26T16:05:37.938Z"
   },
   {
    "duration": 7,
    "start_time": "2022-09-26T16:05:38.251Z"
   },
   {
    "duration": 22,
    "start_time": "2022-09-26T16:05:38.259Z"
   },
   {
    "duration": 511,
    "start_time": "2022-09-26T16:05:38.283Z"
   },
   {
    "duration": 491,
    "start_time": "2022-09-26T16:05:38.795Z"
   },
   {
    "duration": 558,
    "start_time": "2022-09-26T16:05:39.288Z"
   },
   {
    "duration": 11,
    "start_time": "2022-09-26T16:05:39.848Z"
   },
   {
    "duration": 42,
    "start_time": "2022-09-26T16:05:39.861Z"
   },
   {
    "duration": 26,
    "start_time": "2022-09-26T16:05:39.904Z"
   },
   {
    "duration": 4097,
    "start_time": "2022-09-26T16:05:39.933Z"
   },
   {
    "duration": 3132,
    "start_time": "2022-09-26T16:05:44.032Z"
   },
   {
    "duration": 312,
    "start_time": "2022-09-26T16:05:47.165Z"
   },
   {
    "duration": 373,
    "start_time": "2022-09-26T16:05:47.478Z"
   },
   {
    "duration": 367,
    "start_time": "2022-09-26T16:05:47.853Z"
   },
   {
    "duration": 327,
    "start_time": "2022-09-26T16:05:48.225Z"
   },
   {
    "duration": 2,
    "start_time": "2022-09-26T16:05:48.554Z"
   },
   {
    "duration": 349,
    "start_time": "2022-09-26T16:05:48.557Z"
   },
   {
    "duration": 301,
    "start_time": "2022-09-26T16:05:48.908Z"
   },
   {
    "duration": 325,
    "start_time": "2022-09-26T16:05:49.211Z"
   },
   {
    "duration": 2,
    "start_time": "2022-09-26T16:05:49.537Z"
   },
   {
    "duration": 310,
    "start_time": "2022-09-26T16:05:49.541Z"
   },
   {
    "duration": 352,
    "start_time": "2022-09-26T16:05:49.852Z"
   },
   {
    "duration": 345,
    "start_time": "2022-09-26T16:05:50.205Z"
   },
   {
    "duration": 344,
    "start_time": "2022-09-26T16:05:50.552Z"
   },
   {
    "duration": 29,
    "start_time": "2022-09-26T16:05:50.898Z"
   },
   {
    "duration": 132,
    "start_time": "2022-09-26T16:05:50.928Z"
   },
   {
    "duration": 41,
    "start_time": "2022-09-26T16:05:51.062Z"
   },
   {
    "duration": 148,
    "start_time": "2022-09-26T16:05:51.104Z"
   },
   {
    "duration": 442,
    "start_time": "2022-09-26T16:13:03.967Z"
   },
   {
    "duration": 178,
    "start_time": "2022-09-26T16:13:20.896Z"
   },
   {
    "duration": 87,
    "start_time": "2022-09-26T16:13:54.311Z"
   },
   {
    "duration": 72,
    "start_time": "2022-09-26T16:13:57.526Z"
   },
   {
    "duration": 96,
    "start_time": "2022-09-26T16:14:03.518Z"
   },
   {
    "duration": 17,
    "start_time": "2022-09-26T16:14:08.679Z"
   },
   {
    "duration": 78,
    "start_time": "2022-09-26T16:37:48.136Z"
   },
   {
    "duration": 6,
    "start_time": "2022-09-26T16:38:05.074Z"
   },
   {
    "duration": 6,
    "start_time": "2022-09-26T16:38:17.809Z"
   },
   {
    "duration": 98,
    "start_time": "2022-09-26T18:25:51.681Z"
   },
   {
    "duration": 879,
    "start_time": "2022-09-26T18:27:41.419Z"
   },
   {
    "duration": 169,
    "start_time": "2022-09-26T18:27:58.206Z"
   },
   {
    "duration": 27,
    "start_time": "2022-09-26T18:37:10.135Z"
   },
   {
    "duration": 23,
    "start_time": "2022-09-26T18:38:20.390Z"
   },
   {
    "duration": 21,
    "start_time": "2022-09-26T18:39:40.786Z"
   },
   {
    "duration": 2031,
    "start_time": "2022-09-26T18:41:11.369Z"
   },
   {
    "duration": 5,
    "start_time": "2022-09-26T19:24:14.255Z"
   },
   {
    "duration": 8,
    "start_time": "2022-09-26T19:26:54.741Z"
   },
   {
    "duration": 9,
    "start_time": "2022-09-26T19:27:05.749Z"
   },
   {
    "duration": 11,
    "start_time": "2022-09-26T19:32:17.426Z"
   },
   {
    "duration": 11,
    "start_time": "2022-09-26T19:32:22.573Z"
   },
   {
    "duration": 10,
    "start_time": "2022-09-26T19:32:41.706Z"
   },
   {
    "duration": 94,
    "start_time": "2022-09-26T19:34:17.521Z"
   },
   {
    "duration": 9,
    "start_time": "2022-09-26T19:34:33.749Z"
   },
   {
    "duration": 5,
    "start_time": "2022-09-26T19:34:37.531Z"
   },
   {
    "duration": 4,
    "start_time": "2022-09-26T19:34:41.072Z"
   },
   {
    "duration": 4,
    "start_time": "2022-09-26T19:34:44.197Z"
   },
   {
    "duration": 9,
    "start_time": "2022-09-26T19:34:52.775Z"
   },
   {
    "duration": 73,
    "start_time": "2022-09-26T19:34:58.726Z"
   },
   {
    "duration": 11,
    "start_time": "2022-09-26T19:35:06.308Z"
   },
   {
    "duration": 740,
    "start_time": "2022-09-26T19:37:07.594Z"
   },
   {
    "duration": 12,
    "start_time": "2022-09-26T19:37:21.637Z"
   },
   {
    "duration": 6,
    "start_time": "2022-09-26T19:37:25.163Z"
   },
   {
    "duration": 4,
    "start_time": "2022-09-26T19:37:27.460Z"
   },
   {
    "duration": 4,
    "start_time": "2022-09-26T19:37:30.326Z"
   },
   {
    "duration": 11,
    "start_time": "2022-09-26T19:37:36.154Z"
   },
   {
    "duration": 75,
    "start_time": "2022-09-26T19:38:51.767Z"
   },
   {
    "duration": 13,
    "start_time": "2022-09-26T19:39:28.147Z"
   },
   {
    "duration": 75,
    "start_time": "2022-09-26T19:39:40.134Z"
   },
   {
    "duration": 74,
    "start_time": "2022-09-26T19:39:57.109Z"
   },
   {
    "duration": 13,
    "start_time": "2022-09-26T19:41:04.170Z"
   },
   {
    "duration": 6,
    "start_time": "2022-09-26T19:43:50.230Z"
   },
   {
    "duration": 8,
    "start_time": "2022-09-26T19:49:33.774Z"
   },
   {
    "duration": 11,
    "start_time": "2022-09-26T19:49:52.757Z"
   },
   {
    "duration": 10,
    "start_time": "2022-09-26T19:50:06.415Z"
   },
   {
    "duration": 5,
    "start_time": "2022-09-26T19:50:23.425Z"
   },
   {
    "duration": 6,
    "start_time": "2022-09-26T19:50:39.735Z"
   },
   {
    "duration": 10,
    "start_time": "2022-09-26T19:51:08.005Z"
   },
   {
    "duration": 10,
    "start_time": "2022-09-26T19:51:26.735Z"
   },
   {
    "duration": 15,
    "start_time": "2022-09-26T19:58:35.252Z"
   },
   {
    "duration": 11,
    "start_time": "2022-09-26T19:59:03.575Z"
   },
   {
    "duration": 11,
    "start_time": "2022-09-26T19:59:33.606Z"
   },
   {
    "duration": 2063,
    "start_time": "2022-09-26T20:04:03.014Z"
   },
   {
    "duration": 44,
    "start_time": "2022-09-27T03:11:29.899Z"
   },
   {
    "duration": 1009,
    "start_time": "2022-09-27T03:11:39.411Z"
   },
   {
    "duration": 14,
    "start_time": "2022-09-27T03:11:43.122Z"
   },
   {
    "duration": 21,
    "start_time": "2022-09-27T03:11:46.194Z"
   },
   {
    "duration": 10,
    "start_time": "2022-09-27T03:11:48.806Z"
   },
   {
    "duration": 9,
    "start_time": "2022-09-27T03:11:55.675Z"
   },
   {
    "duration": 5,
    "start_time": "2022-09-27T03:11:58.675Z"
   },
   {
    "duration": 4,
    "start_time": "2022-09-27T03:12:01.694Z"
   },
   {
    "duration": 4,
    "start_time": "2022-09-27T03:12:04.189Z"
   },
   {
    "duration": 10,
    "start_time": "2022-09-27T03:12:07.069Z"
   },
   {
    "duration": 34,
    "start_time": "2022-09-27T03:12:10.199Z"
   },
   {
    "duration": 11,
    "start_time": "2022-09-27T03:12:21.505Z"
   },
   {
    "duration": 201,
    "start_time": "2022-09-27T03:12:25.376Z"
   },
   {
    "duration": 13,
    "start_time": "2022-09-27T03:13:51.220Z"
   },
   {
    "duration": 158,
    "start_time": "2022-09-27T03:14:08.022Z"
   },
   {
    "duration": 13,
    "start_time": "2022-09-27T03:14:28.891Z"
   },
   {
    "duration": 11,
    "start_time": "2022-09-27T03:16:28.863Z"
   },
   {
    "duration": 15,
    "start_time": "2022-09-27T03:18:14.189Z"
   },
   {
    "duration": 12,
    "start_time": "2022-09-27T03:20:24.866Z"
   },
   {
    "duration": 10,
    "start_time": "2022-09-27T03:20:44.955Z"
   },
   {
    "duration": 95,
    "start_time": "2022-09-27T04:00:48.002Z"
   },
   {
    "duration": 13,
    "start_time": "2022-09-27T04:01:26.084Z"
   },
   {
    "duration": 14,
    "start_time": "2022-09-27T04:05:27.446Z"
   },
   {
    "duration": 16,
    "start_time": "2022-09-27T04:05:33.634Z"
   },
   {
    "duration": 6231,
    "start_time": "2022-09-27T04:05:53.172Z"
   },
   {
    "duration": 82,
    "start_time": "2022-09-27T04:06:40.761Z"
   },
   {
    "duration": 10,
    "start_time": "2022-09-27T04:06:59.205Z"
   },
   {
    "duration": 6,
    "start_time": "2022-09-27T04:07:03.800Z"
   },
   {
    "duration": 4,
    "start_time": "2022-09-27T04:07:07.141Z"
   },
   {
    "duration": 4,
    "start_time": "2022-09-27T04:07:11.837Z"
   },
   {
    "duration": 10,
    "start_time": "2022-09-27T04:07:15.351Z"
   },
   {
    "duration": 12,
    "start_time": "2022-09-27T04:07:37.060Z"
   },
   {
    "duration": 13,
    "start_time": "2022-09-27T04:07:41.110Z"
   },
   {
    "duration": 6483,
    "start_time": "2022-09-27T04:07:45.353Z"
   },
   {
    "duration": 6347,
    "start_time": "2022-09-27T04:08:06.674Z"
   },
   {
    "duration": 4,
    "start_time": "2022-09-27T04:09:19.061Z"
   },
   {
    "duration": 6226,
    "start_time": "2022-09-27T04:11:38.821Z"
   },
   {
    "duration": 5,
    "start_time": "2022-09-27T04:11:45.049Z"
   },
   {
    "duration": 6067,
    "start_time": "2022-09-27T04:11:55.673Z"
   },
   {
    "duration": 5,
    "start_time": "2022-09-27T04:12:01.742Z"
   },
   {
    "duration": 33,
    "start_time": "2022-09-27T04:12:30.837Z"
   },
   {
    "duration": 27,
    "start_time": "2022-09-27T04:13:34.940Z"
   },
   {
    "duration": 10578,
    "start_time": "2022-09-27T04:14:26.142Z"
   },
   {
    "duration": 84,
    "start_time": "2022-09-27T04:14:45.730Z"
   },
   {
    "duration": 731,
    "start_time": "2022-09-27T04:15:24.772Z"
   },
   {
    "duration": 10473,
    "start_time": "2022-09-27T04:15:33.931Z"
   },
   {
    "duration": 10812,
    "start_time": "2022-09-27T04:18:31.938Z"
   },
   {
    "duration": 16646,
    "start_time": "2022-09-27T04:19:52.156Z"
   },
   {
    "duration": 101,
    "start_time": "2022-09-27T04:22:03.949Z"
   },
   {
    "duration": 15830,
    "start_time": "2022-09-27T04:22:31.401Z"
   },
   {
    "duration": 15103,
    "start_time": "2022-09-27T04:22:59.338Z"
   },
   {
    "duration": 10276,
    "start_time": "2022-09-27T04:24:09.394Z"
   },
   {
    "duration": 15559,
    "start_time": "2022-09-27T04:30:24.623Z"
   },
   {
    "duration": 10,
    "start_time": "2022-09-27T04:31:39.491Z"
   },
   {
    "duration": 16348,
    "start_time": "2022-09-27T04:32:07.930Z"
   },
   {
    "duration": 15,
    "start_time": "2022-09-27T04:33:00.380Z"
   },
   {
    "duration": 22178,
    "start_time": "2022-09-27T04:33:19.443Z"
   },
   {
    "duration": 33532,
    "start_time": "2022-09-27T04:34:16.633Z"
   },
   {
    "duration": 44,
    "start_time": "2022-09-27T04:42:01.449Z"
   },
   {
    "duration": 45,
    "start_time": "2022-09-27T04:42:57.291Z"
   },
   {
    "duration": 45,
    "start_time": "2022-09-27T04:43:19.555Z"
   },
   {
    "duration": 44,
    "start_time": "2022-09-27T04:43:25.509Z"
   },
   {
    "duration": 47,
    "start_time": "2022-09-27T04:44:12.611Z"
   },
   {
    "duration": 74,
    "start_time": "2022-09-27T04:44:31.773Z"
   },
   {
    "duration": 61,
    "start_time": "2022-09-27T04:45:07.227Z"
   },
   {
    "duration": 4,
    "start_time": "2022-09-27T04:46:56.114Z"
   },
   {
    "duration": 440,
    "start_time": "2022-09-27T04:48:05.665Z"
   },
   {
    "duration": 4807,
    "start_time": "2022-09-27T04:49:58.934Z"
   },
   {
    "duration": 5130,
    "start_time": "2022-09-27T04:50:30.975Z"
   },
   {
    "duration": 1525,
    "start_time": "2022-09-27T04:51:43.280Z"
   },
   {
    "duration": 1235,
    "start_time": "2022-09-27T04:55:47.654Z"
   },
   {
    "duration": 2038,
    "start_time": "2022-09-27T04:56:28.594Z"
   },
   {
    "duration": 14,
    "start_time": "2022-09-27T04:57:13.314Z"
   },
   {
    "duration": 50,
    "start_time": "2022-09-27T04:59:47.346Z"
   },
   {
    "duration": 2176,
    "start_time": "2022-09-27T05:00:13.416Z"
   },
   {
    "duration": 2053,
    "start_time": "2022-09-27T05:00:31.644Z"
   },
   {
    "duration": 15,
    "start_time": "2022-09-27T05:01:12.453Z"
   },
   {
    "duration": 5,
    "start_time": "2022-09-27T05:01:17.986Z"
   },
   {
    "duration": 5,
    "start_time": "2022-09-27T05:01:42.501Z"
   },
   {
    "duration": 4,
    "start_time": "2022-09-27T05:02:20.448Z"
   },
   {
    "duration": 5,
    "start_time": "2022-09-27T05:04:32.516Z"
   },
   {
    "duration": 10,
    "start_time": "2022-09-27T05:05:54.773Z"
   },
   {
    "duration": 15,
    "start_time": "2022-09-27T05:06:03.528Z"
   },
   {
    "duration": 15,
    "start_time": "2022-09-27T05:06:37.309Z"
   },
   {
    "duration": 2031,
    "start_time": "2022-09-27T05:12:47.809Z"
   },
   {
    "duration": 47,
    "start_time": "2022-09-27T05:13:22.038Z"
   },
   {
    "duration": 791,
    "start_time": "2022-09-27T05:13:34.454Z"
   },
   {
    "duration": 40,
    "start_time": "2022-09-27T05:13:47.321Z"
   },
   {
    "duration": 17,
    "start_time": "2022-09-27T05:13:56.045Z"
   },
   {
    "duration": 40,
    "start_time": "2022-09-27T05:14:51.511Z"
   },
   {
    "duration": 38,
    "start_time": "2022-09-27T05:14:56.024Z"
   },
   {
    "duration": 16,
    "start_time": "2022-09-27T05:15:00.024Z"
   },
   {
    "duration": 39,
    "start_time": "2022-09-27T05:16:08.276Z"
   },
   {
    "duration": 72,
    "start_time": "2022-09-27T05:17:37.131Z"
   },
   {
    "duration": 53,
    "start_time": "2022-09-27T05:18:54.516Z"
   },
   {
    "duration": 45,
    "start_time": "2022-09-27T05:19:30.738Z"
   },
   {
    "duration": 40,
    "start_time": "2022-09-27T05:20:42.734Z"
   },
   {
    "duration": 42,
    "start_time": "2022-09-27T05:21:12.841Z"
   },
   {
    "duration": 46,
    "start_time": "2022-09-27T05:21:22.284Z"
   },
   {
    "duration": 38,
    "start_time": "2022-09-27T05:21:30.182Z"
   },
   {
    "duration": 1340,
    "start_time": "2022-09-27T05:21:54.876Z"
   },
   {
    "duration": 1277,
    "start_time": "2022-09-27T05:22:56.627Z"
   },
   {
    "duration": 1298,
    "start_time": "2022-09-27T05:23:33.592Z"
   },
   {
    "duration": 1219,
    "start_time": "2022-09-27T05:24:41.908Z"
   },
   {
    "duration": 1236,
    "start_time": "2022-09-27T05:25:17.705Z"
   },
   {
    "duration": 1397,
    "start_time": "2022-09-27T05:26:44.377Z"
   },
   {
    "duration": 59,
    "start_time": "2022-09-27T05:28:59.462Z"
   },
   {
    "duration": 1404,
    "start_time": "2022-09-27T05:29:14.300Z"
   },
   {
    "duration": 1257,
    "start_time": "2022-09-27T05:31:41.740Z"
   },
   {
    "duration": 1224,
    "start_time": "2022-09-27T05:32:19.611Z"
   },
   {
    "duration": 1217,
    "start_time": "2022-09-27T05:33:17.695Z"
   },
   {
    "duration": 2033,
    "start_time": "2022-09-27T05:33:54.914Z"
   },
   {
    "duration": 2205,
    "start_time": "2022-09-27T05:34:34.926Z"
   },
   {
    "duration": 15,
    "start_time": "2022-09-27T05:34:50.580Z"
   },
   {
    "duration": 4,
    "start_time": "2022-09-27T05:35:10.109Z"
   },
   {
    "duration": 5,
    "start_time": "2022-09-27T05:35:22.678Z"
   },
   {
    "duration": 684,
    "start_time": "2022-09-27T05:38:23.412Z"
   },
   {
    "duration": 85,
    "start_time": "2022-09-27T05:38:44.040Z"
   },
   {
    "duration": 82,
    "start_time": "2022-09-27T05:39:43.048Z"
   },
   {
    "duration": 109,
    "start_time": "2022-09-27T05:40:32.681Z"
   },
   {
    "duration": 78,
    "start_time": "2022-09-27T05:40:45.980Z"
   },
   {
    "duration": 84,
    "start_time": "2022-09-27T05:44:52.442Z"
   },
   {
    "duration": 8115,
    "start_time": "2022-09-27T05:45:56.396Z"
   },
   {
    "duration": 5,
    "start_time": "2022-09-27T05:46:04.513Z"
   },
   {
    "duration": 14668,
    "start_time": "2022-09-27T05:47:53.223Z"
   },
   {
    "duration": 14516,
    "start_time": "2022-09-27T05:49:18.025Z"
   },
   {
    "duration": 14728,
    "start_time": "2022-09-27T05:50:15.865Z"
   },
   {
    "duration": 65,
    "start_time": "2022-09-27T05:50:31.501Z"
   },
   {
    "duration": 1546,
    "start_time": "2022-09-27T05:50:39.274Z"
   },
   {
    "duration": 1511,
    "start_time": "2022-09-27T05:51:22.024Z"
   },
   {
    "duration": 1488,
    "start_time": "2022-09-27T05:52:40.951Z"
   },
   {
    "duration": 60,
    "start_time": "2022-09-27T05:53:43.322Z"
   },
   {
    "duration": 2475,
    "start_time": "2022-09-27T05:54:47.848Z"
   },
   {
    "duration": 1754,
    "start_time": "2022-09-27T05:55:34.164Z"
   },
   {
    "duration": 61,
    "start_time": "2022-09-27T05:57:52.132Z"
   },
   {
    "duration": 84,
    "start_time": "2022-09-27T05:58:08.289Z"
   },
   {
    "duration": 68,
    "start_time": "2022-09-27T05:58:56.811Z"
   },
   {
    "duration": 63,
    "start_time": "2022-09-27T06:02:16.227Z"
   },
   {
    "duration": 1578,
    "start_time": "2022-09-27T06:02:39.222Z"
   },
   {
    "duration": 5,
    "start_time": "2022-09-27T06:02:47.821Z"
   },
   {
    "duration": 1505,
    "start_time": "2022-09-27T06:02:58.362Z"
   },
   {
    "duration": 5,
    "start_time": "2022-09-27T06:03:01.890Z"
   },
   {
    "duration": 1591,
    "start_time": "2022-09-27T06:06:39.931Z"
   },
   {
    "duration": 1716,
    "start_time": "2022-09-27T06:07:13.575Z"
   },
   {
    "duration": 1699,
    "start_time": "2022-09-27T06:08:44.131Z"
   },
   {
    "duration": 1511,
    "start_time": "2022-09-27T06:09:56.197Z"
   },
   {
    "duration": 5,
    "start_time": "2022-09-27T06:10:02.837Z"
   },
   {
    "duration": 1865,
    "start_time": "2022-09-27T06:12:12.937Z"
   },
   {
    "duration": 1689,
    "start_time": "2022-09-27T06:13:48.914Z"
   },
   {
    "duration": 58,
    "start_time": "2022-09-27T06:14:47.263Z"
   },
   {
    "duration": 1851,
    "start_time": "2022-09-27T06:14:57.298Z"
   },
   {
    "duration": 105,
    "start_time": "2022-09-27T06:15:49.034Z"
   },
   {
    "duration": 4952,
    "start_time": "2022-09-27T06:16:04.964Z"
   },
   {
    "duration": 6180,
    "start_time": "2022-09-27T06:18:52.216Z"
   },
   {
    "duration": 1899,
    "start_time": "2022-09-27T06:19:17.529Z"
   },
   {
    "duration": 1692,
    "start_time": "2022-09-27T06:19:33.242Z"
   },
   {
    "duration": 1668,
    "start_time": "2022-09-27T06:19:52.985Z"
   },
   {
    "duration": 1634,
    "start_time": "2022-09-27T06:20:39.567Z"
   },
   {
    "duration": 5285,
    "start_time": "2022-09-27T06:21:30.916Z"
   },
   {
    "duration": 4,
    "start_time": "2022-09-27T06:21:38.121Z"
   },
   {
    "duration": 6,
    "start_time": "2022-09-27T06:21:57.575Z"
   },
   {
    "duration": 1419,
    "start_time": "2022-09-27T06:23:10.204Z"
   },
   {
    "duration": 1415,
    "start_time": "2022-09-27T06:23:30.511Z"
   },
   {
    "duration": 2026,
    "start_time": "2022-09-27T06:23:44.464Z"
   },
   {
    "duration": 1357,
    "start_time": "2022-09-27T06:29:03.169Z"
   },
   {
    "duration": 1445,
    "start_time": "2022-09-27T06:29:38.789Z"
   },
   {
    "duration": 6,
    "start_time": "2022-09-27T06:29:46.731Z"
   },
   {
    "duration": 5,
    "start_time": "2022-09-27T06:30:03.554Z"
   },
   {
    "duration": 6,
    "start_time": "2022-09-27T06:36:57.690Z"
   },
   {
    "duration": 5,
    "start_time": "2022-09-27T06:37:24.102Z"
   },
   {
    "duration": 4,
    "start_time": "2022-09-27T06:38:10.389Z"
   },
   {
    "duration": 3229,
    "start_time": "2022-09-27T06:39:00.139Z"
   },
   {
    "duration": 5,
    "start_time": "2022-09-27T06:39:05.517Z"
   },
   {
    "duration": 90,
    "start_time": "2022-09-27T06:41:06.016Z"
   },
   {
    "duration": 7413,
    "start_time": "2022-09-27T06:41:13.631Z"
   },
   {
    "duration": 5,
    "start_time": "2022-09-27T06:41:39.680Z"
   },
   {
    "duration": 1642,
    "start_time": "2022-09-27T06:43:32.303Z"
   },
   {
    "duration": 1570,
    "start_time": "2022-09-27T06:43:42.652Z"
   },
   {
    "duration": 1621,
    "start_time": "2022-09-27T06:44:13.376Z"
   },
   {
    "duration": 1601,
    "start_time": "2022-09-27T06:46:09.686Z"
   },
   {
    "duration": 1556,
    "start_time": "2022-09-27T06:46:50.408Z"
   },
   {
    "duration": 4,
    "start_time": "2022-09-27T06:46:53.736Z"
   },
   {
    "duration": 8369,
    "start_time": "2022-09-27T06:47:34.410Z"
   },
   {
    "duration": 1611,
    "start_time": "2022-09-27T06:48:14.749Z"
   },
   {
    "duration": 42,
    "start_time": "2022-09-27T06:48:44.204Z"
   },
   {
    "duration": 39,
    "start_time": "2022-09-27T06:49:47.187Z"
   },
   {
    "duration": 1798,
    "start_time": "2022-09-27T07:00:43.609Z"
   },
   {
    "duration": 16,
    "start_time": "2022-09-27T07:00:46.627Z"
   },
   {
    "duration": 13,
    "start_time": "2022-09-27T07:00:56.166Z"
   },
   {
    "duration": 1616,
    "start_time": "2022-09-27T07:02:26.506Z"
   },
   {
    "duration": 111,
    "start_time": "2022-09-27T07:05:55.259Z"
   },
   {
    "duration": 1536,
    "start_time": "2022-09-27T07:06:09.667Z"
   },
   {
    "duration": 1575,
    "start_time": "2022-09-27T07:06:32.663Z"
   },
   {
    "duration": 1606,
    "start_time": "2022-09-27T07:07:00.289Z"
   },
   {
    "duration": 1660,
    "start_time": "2022-09-27T07:07:26.916Z"
   },
   {
    "duration": 24,
    "start_time": "2022-09-27T07:20:24.399Z"
   },
   {
    "duration": 1523,
    "start_time": "2022-09-27T07:21:26.449Z"
   },
   {
    "duration": 1076,
    "start_time": "2022-09-27T07:21:48.652Z"
   },
   {
    "duration": 8,
    "start_time": "2022-09-27T07:22:10.912Z"
   },
   {
    "duration": 1049,
    "start_time": "2022-09-27T07:22:43.742Z"
   },
   {
    "duration": 779,
    "start_time": "2022-09-27T07:22:56.922Z"
   },
   {
    "duration": 1137,
    "start_time": "2022-09-27T07:23:22.797Z"
   },
   {
    "duration": 11,
    "start_time": "2022-09-27T07:29:59.458Z"
   },
   {
    "duration": 12,
    "start_time": "2022-09-27T07:30:08.496Z"
   },
   {
    "duration": 12,
    "start_time": "2022-09-27T07:30:35.657Z"
   },
   {
    "duration": 12,
    "start_time": "2022-09-27T07:31:05.381Z"
   },
   {
    "duration": 12,
    "start_time": "2022-09-27T07:53:40.199Z"
   },
   {
    "duration": 12,
    "start_time": "2022-09-27T07:54:42.012Z"
   },
   {
    "duration": 25,
    "start_time": "2022-09-27T07:56:27.973Z"
   },
   {
    "duration": 40,
    "start_time": "2022-09-27T08:06:46.751Z"
   },
   {
    "duration": 28,
    "start_time": "2022-09-27T08:07:13.424Z"
   },
   {
    "duration": 19,
    "start_time": "2022-09-27T08:07:37.257Z"
   },
   {
    "duration": 20,
    "start_time": "2022-09-27T08:24:03.954Z"
   },
   {
    "duration": 48,
    "start_time": "2022-09-27T08:25:20.317Z"
   },
   {
    "duration": 732,
    "start_time": "2022-09-27T08:25:31.795Z"
   },
   {
    "duration": 34,
    "start_time": "2022-09-27T08:25:35.029Z"
   },
   {
    "duration": 15,
    "start_time": "2022-09-27T08:25:39.944Z"
   },
   {
    "duration": 23,
    "start_time": "2022-09-27T08:25:43.041Z"
   },
   {
    "duration": 9,
    "start_time": "2022-09-27T08:25:45.871Z"
   },
   {
    "duration": 2003,
    "start_time": "2022-09-27T08:25:48.945Z"
   },
   {
    "duration": 12,
    "start_time": "2022-09-27T08:25:54.232Z"
   },
   {
    "duration": 5,
    "start_time": "2022-09-27T08:25:57.570Z"
   },
   {
    "duration": 5,
    "start_time": "2022-09-27T08:26:00.105Z"
   },
   {
    "duration": 4,
    "start_time": "2022-09-27T08:26:02.380Z"
   },
   {
    "duration": 10,
    "start_time": "2022-09-27T08:26:05.380Z"
   },
   {
    "duration": 14,
    "start_time": "2022-09-27T08:26:09.011Z"
   },
   {
    "duration": 14,
    "start_time": "2022-09-27T08:26:13.361Z"
   },
   {
    "duration": 4334,
    "start_time": "2022-09-27T08:26:17.155Z"
   },
   {
    "duration": 1538,
    "start_time": "2022-09-27T08:27:15.604Z"
   },
   {
    "duration": 7,
    "start_time": "2022-09-27T08:27:27.469Z"
   },
   {
    "duration": 10,
    "start_time": "2022-09-27T08:27:30.028Z"
   },
   {
    "duration": 7,
    "start_time": "2022-09-27T08:27:33.460Z"
   },
   {
    "duration": 21,
    "start_time": "2022-09-27T08:27:37.008Z"
   },
   {
    "duration": 15,
    "start_time": "2022-09-27T08:27:40.391Z"
   },
   {
    "duration": 56,
    "start_time": "2022-09-27T08:27:43.469Z"
   },
   {
    "duration": 25,
    "start_time": "2022-09-27T08:28:21.760Z"
   },
   {
    "duration": 17,
    "start_time": "2022-09-27T08:28:37.240Z"
   },
   {
    "duration": 42,
    "start_time": "2022-09-27T08:28:47.989Z"
   },
   {
    "duration": 9,
    "start_time": "2022-09-27T08:28:51.380Z"
   },
   {
    "duration": 696,
    "start_time": "2022-09-27T08:29:47.908Z"
   },
   {
    "duration": 16,
    "start_time": "2022-09-27T08:29:51.459Z"
   },
   {
    "duration": 24,
    "start_time": "2022-09-27T08:29:54.294Z"
   },
   {
    "duration": 10,
    "start_time": "2022-09-27T08:29:57.250Z"
   },
   {
    "duration": 1927,
    "start_time": "2022-09-27T08:30:00.173Z"
   },
   {
    "duration": 9,
    "start_time": "2022-09-27T08:30:05.533Z"
   },
   {
    "duration": 4,
    "start_time": "2022-09-27T08:30:09.020Z"
   },
   {
    "duration": 3,
    "start_time": "2022-09-27T08:30:11.112Z"
   },
   {
    "duration": 4,
    "start_time": "2022-09-27T08:30:13.276Z"
   },
   {
    "duration": 9,
    "start_time": "2022-09-27T08:30:16.340Z"
   },
   {
    "duration": 14,
    "start_time": "2022-09-27T08:30:19.660Z"
   },
   {
    "duration": 14,
    "start_time": "2022-09-27T08:30:22.970Z"
   },
   {
    "duration": 3349,
    "start_time": "2022-09-27T08:30:26.504Z"
   },
   {
    "duration": 7,
    "start_time": "2022-09-27T08:30:35.041Z"
   },
   {
    "duration": 10,
    "start_time": "2022-09-27T08:30:38.872Z"
   },
   {
    "duration": 8,
    "start_time": "2022-09-27T08:30:41.651Z"
   },
   {
    "duration": 20,
    "start_time": "2022-09-27T08:30:44.958Z"
   },
   {
    "duration": 16,
    "start_time": "2022-09-27T08:30:48.046Z"
   },
   {
    "duration": 18,
    "start_time": "2022-09-27T08:30:51.380Z"
   },
   {
    "duration": 40,
    "start_time": "2022-09-27T08:30:58.469Z"
   },
   {
    "duration": 43,
    "start_time": "2022-09-27T08:32:13.919Z"
   },
   {
    "duration": 78,
    "start_time": "2022-09-27T08:32:49.367Z"
   },
   {
    "duration": 13,
    "start_time": "2022-09-27T08:33:19.843Z"
   },
   {
    "duration": 23,
    "start_time": "2022-09-27T08:37:18.588Z"
   },
   {
    "duration": 732,
    "start_time": "2022-09-27T08:38:12.976Z"
   },
   {
    "duration": 31,
    "start_time": "2022-09-27T08:38:15.630Z"
   },
   {
    "duration": 15,
    "start_time": "2022-09-27T08:38:20.141Z"
   },
   {
    "duration": 22,
    "start_time": "2022-09-27T08:38:23.204Z"
   },
   {
    "duration": 9,
    "start_time": "2022-09-27T08:38:26.185Z"
   },
   {
    "duration": 1912,
    "start_time": "2022-09-27T08:38:28.600Z"
   },
   {
    "duration": 11,
    "start_time": "2022-09-27T08:38:33.717Z"
   },
   {
    "duration": 5,
    "start_time": "2022-09-27T08:38:37.299Z"
   },
   {
    "duration": 3,
    "start_time": "2022-09-27T08:38:39.355Z"
   },
   {
    "duration": 3,
    "start_time": "2022-09-27T08:38:41.479Z"
   },
   {
    "duration": 8,
    "start_time": "2022-09-27T08:38:44.646Z"
   },
   {
    "duration": 14,
    "start_time": "2022-09-27T08:38:48.175Z"
   },
   {
    "duration": 14,
    "start_time": "2022-09-27T08:38:51.877Z"
   },
   {
    "duration": 3449,
    "start_time": "2022-09-27T08:38:54.434Z"
   },
   {
    "duration": 6,
    "start_time": "2022-09-27T08:39:02.355Z"
   },
   {
    "duration": 13,
    "start_time": "2022-09-27T08:39:05.087Z"
   },
   {
    "duration": 9,
    "start_time": "2022-09-27T08:39:12.691Z"
   },
   {
    "duration": 23,
    "start_time": "2022-09-27T08:39:15.701Z"
   },
   {
    "duration": 16,
    "start_time": "2022-09-27T08:39:18.732Z"
   },
   {
    "duration": 24,
    "start_time": "2022-09-27T08:39:21.912Z"
   },
   {
    "duration": 96,
    "start_time": "2022-09-27T08:41:21.910Z"
   },
   {
    "duration": 10,
    "start_time": "2022-09-27T08:41:50.139Z"
   },
   {
    "duration": 16,
    "start_time": "2022-09-27T08:42:07.749Z"
   },
   {
    "duration": 11,
    "start_time": "2022-09-27T08:43:00.691Z"
   },
   {
    "duration": 705,
    "start_time": "2022-09-27T08:43:22.422Z"
   },
   {
    "duration": 15,
    "start_time": "2022-09-27T08:43:26.096Z"
   },
   {
    "duration": 32,
    "start_time": "2022-09-27T08:43:29.435Z"
   },
   {
    "duration": 18,
    "start_time": "2022-09-27T08:43:32.695Z"
   },
   {
    "duration": 2126,
    "start_time": "2022-09-27T08:43:35.861Z"
   },
   {
    "duration": 10,
    "start_time": "2022-09-27T08:43:41.411Z"
   },
   {
    "duration": 5,
    "start_time": "2022-09-27T08:43:46.646Z"
   },
   {
    "duration": 4,
    "start_time": "2022-09-27T08:43:48.715Z"
   },
   {
    "duration": 5,
    "start_time": "2022-09-27T08:43:51.578Z"
   },
   {
    "duration": 10,
    "start_time": "2022-09-27T08:43:54.588Z"
   },
   {
    "duration": 14,
    "start_time": "2022-09-27T08:43:59.189Z"
   },
   {
    "duration": 17,
    "start_time": "2022-09-27T08:44:02.474Z"
   },
   {
    "duration": 3634,
    "start_time": "2022-09-27T08:44:05.136Z"
   },
   {
    "duration": 6,
    "start_time": "2022-09-27T08:44:11.049Z"
   },
   {
    "duration": 14,
    "start_time": "2022-09-27T08:44:13.425Z"
   },
   {
    "duration": 8,
    "start_time": "2022-09-27T08:44:17.451Z"
   },
   {
    "duration": 25,
    "start_time": "2022-09-27T08:44:20.471Z"
   },
   {
    "duration": 16,
    "start_time": "2022-09-27T08:44:23.788Z"
   },
   {
    "duration": 26,
    "start_time": "2022-09-27T08:44:27.217Z"
   },
   {
    "duration": 561,
    "start_time": "2022-09-27T08:44:30.863Z"
   },
   {
    "duration": 41,
    "start_time": "2022-09-27T08:45:44.940Z"
   },
   {
    "duration": 931,
    "start_time": "2022-09-27T08:47:19.746Z"
   },
   {
    "duration": 28,
    "start_time": "2022-09-27T08:47:23.095Z"
   },
   {
    "duration": 22,
    "start_time": "2022-09-27T08:47:28.368Z"
   },
   {
    "duration": 23,
    "start_time": "2022-09-27T08:47:31.593Z"
   },
   {
    "duration": 11,
    "start_time": "2022-09-27T08:47:34.828Z"
   },
   {
    "duration": 1940,
    "start_time": "2022-09-27T08:47:38.172Z"
   },
   {
    "duration": 11,
    "start_time": "2022-09-27T08:47:43.435Z"
   },
   {
    "duration": 5,
    "start_time": "2022-09-27T08:47:47.227Z"
   },
   {
    "duration": 5,
    "start_time": "2022-09-27T08:47:49.281Z"
   },
   {
    "duration": 4,
    "start_time": "2022-09-27T08:47:51.405Z"
   },
   {
    "duration": 11,
    "start_time": "2022-09-27T08:47:53.872Z"
   },
   {
    "duration": 15,
    "start_time": "2022-09-27T08:47:57.665Z"
   },
   {
    "duration": 11,
    "start_time": "2022-09-27T08:48:00.713Z"
   },
   {
    "duration": 3650,
    "start_time": "2022-09-27T08:48:03.538Z"
   },
   {
    "duration": 5,
    "start_time": "2022-09-27T08:48:07.500Z"
   },
   {
    "duration": 11,
    "start_time": "2022-09-27T08:48:10.199Z"
   },
   {
    "duration": 7,
    "start_time": "2022-09-27T08:48:21.743Z"
   },
   {
    "duration": 19,
    "start_time": "2022-09-27T08:48:24.761Z"
   },
   {
    "duration": 19,
    "start_time": "2022-09-27T08:48:27.915Z"
   },
   {
    "duration": 26,
    "start_time": "2022-09-27T08:48:32.758Z"
   },
   {
    "duration": 525,
    "start_time": "2022-09-27T08:48:58.774Z"
   },
   {
    "duration": 47,
    "start_time": "2022-09-27T08:49:07.074Z"
   },
   {
    "duration": 245,
    "start_time": "2022-09-27T08:56:29.936Z"
   },
   {
    "duration": 522,
    "start_time": "2022-09-27T09:01:46.584Z"
   },
   {
    "duration": 78,
    "start_time": "2022-09-27T09:02:52.046Z"
   },
   {
    "duration": 14,
    "start_time": "2022-09-27T09:04:10.825Z"
   },
   {
    "duration": 5,
    "start_time": "2022-09-27T09:05:50.402Z"
   },
   {
    "duration": 10,
    "start_time": "2022-09-27T09:05:56.998Z"
   },
   {
    "duration": 233,
    "start_time": "2022-09-27T09:07:38.024Z"
   },
   {
    "duration": 46,
    "start_time": "2022-09-27T09:08:29.566Z"
   },
   {
    "duration": 172,
    "start_time": "2022-09-27T09:08:35.777Z"
   },
   {
    "duration": 156,
    "start_time": "2022-09-27T09:09:28.264Z"
   },
   {
    "duration": 160,
    "start_time": "2022-09-27T09:09:53.421Z"
   },
   {
    "duration": 160,
    "start_time": "2022-09-27T09:10:11.156Z"
   },
   {
    "duration": 11,
    "start_time": "2022-09-27T09:10:30.203Z"
   },
   {
    "duration": 11,
    "start_time": "2022-09-27T09:10:51.071Z"
   },
   {
    "duration": 152,
    "start_time": "2022-09-27T09:11:10.868Z"
   },
   {
    "duration": 160,
    "start_time": "2022-09-27T09:13:38.843Z"
   },
   {
    "duration": 363,
    "start_time": "2022-09-27T09:14:45.530Z"
   },
   {
    "duration": 808,
    "start_time": "2022-09-27T09:18:28.367Z"
   },
   {
    "duration": 39,
    "start_time": "2022-09-27T09:18:29.177Z"
   },
   {
    "duration": 17,
    "start_time": "2022-09-27T09:18:29.218Z"
   },
   {
    "duration": 55,
    "start_time": "2022-09-27T09:18:29.237Z"
   },
   {
    "duration": 11,
    "start_time": "2022-09-27T09:18:29.294Z"
   },
   {
    "duration": 2061,
    "start_time": "2022-09-27T09:18:29.307Z"
   },
   {
    "duration": 10,
    "start_time": "2022-09-27T09:18:31.370Z"
   },
   {
    "duration": 11,
    "start_time": "2022-09-27T09:18:31.382Z"
   },
   {
    "duration": 12,
    "start_time": "2022-09-27T09:18:31.395Z"
   },
   {
    "duration": 9,
    "start_time": "2022-09-27T09:18:31.409Z"
   },
   {
    "duration": 12,
    "start_time": "2022-09-27T09:18:31.419Z"
   },
   {
    "duration": 24,
    "start_time": "2022-09-27T09:18:31.434Z"
   },
   {
    "duration": 26,
    "start_time": "2022-09-27T09:18:31.459Z"
   },
   {
    "duration": 3369,
    "start_time": "2022-09-27T09:18:31.487Z"
   },
   {
    "duration": 6,
    "start_time": "2022-09-27T09:18:34.857Z"
   },
   {
    "duration": 17,
    "start_time": "2022-09-27T09:18:34.864Z"
   },
   {
    "duration": 8,
    "start_time": "2022-09-27T09:18:34.884Z"
   },
   {
    "duration": 19,
    "start_time": "2022-09-27T09:18:34.894Z"
   },
   {
    "duration": 16,
    "start_time": "2022-09-27T09:18:34.915Z"
   },
   {
    "duration": 63,
    "start_time": "2022-09-27T09:18:34.933Z"
   },
   {
    "duration": 594,
    "start_time": "2022-09-27T09:18:34.998Z"
   },
   {
    "duration": 39,
    "start_time": "2022-09-27T09:18:35.595Z"
   },
   {
    "duration": 267,
    "start_time": "2022-09-27T09:18:35.636Z"
   },
   {
    "duration": 12,
    "start_time": "2022-09-27T09:18:35.905Z"
   },
   {
    "duration": 329,
    "start_time": "2022-09-27T09:18:35.919Z"
   },
   {
    "duration": 7,
    "start_time": "2022-09-27T09:18:36.250Z"
   },
   {
    "duration": 370,
    "start_time": "2022-09-27T09:18:36.258Z"
   },
   {
    "duration": 231,
    "start_time": "2022-09-27T09:18:36.632Z"
   },
   {
    "duration": 237,
    "start_time": "2022-09-27T09:18:36.864Z"
   },
   {
    "duration": 18,
    "start_time": "2022-09-27T09:18:37.103Z"
   },
   {
    "duration": 5,
    "start_time": "2022-09-27T09:18:37.122Z"
   },
   {
    "duration": 36029,
    "start_time": "2022-09-27T09:18:37.129Z"
   },
   {
    "duration": 7,
    "start_time": "2022-09-27T09:19:13.160Z"
   },
   {
    "duration": 72,
    "start_time": "2022-09-27T09:19:13.176Z"
   },
   {
    "duration": 256,
    "start_time": "2022-09-27T09:19:13.250Z"
   },
   {
    "duration": 7,
    "start_time": "2022-09-27T09:19:13.507Z"
   },
   {
    "duration": 265,
    "start_time": "2022-09-27T09:19:13.515Z"
   },
   {
    "duration": 9,
    "start_time": "2022-09-27T09:19:13.781Z"
   },
   {
    "duration": 38,
    "start_time": "2022-09-27T09:19:13.791Z"
   },
   {
    "duration": 10,
    "start_time": "2022-09-27T09:19:13.830Z"
   },
   {
    "duration": 276,
    "start_time": "2022-09-27T09:19:13.841Z"
   },
   {
    "duration": 78,
    "start_time": "2022-09-27T09:19:14.119Z"
   },
   {
    "duration": 1,
    "start_time": "2022-09-27T09:19:14.199Z"
   },
   {
    "duration": 0,
    "start_time": "2022-09-27T09:19:14.201Z"
   },
   {
    "duration": 0,
    "start_time": "2022-09-27T09:19:14.202Z"
   },
   {
    "duration": 0,
    "start_time": "2022-09-27T09:19:14.203Z"
   },
   {
    "duration": 0,
    "start_time": "2022-09-27T09:19:14.204Z"
   },
   {
    "duration": 0,
    "start_time": "2022-09-27T09:19:14.205Z"
   },
   {
    "duration": 0,
    "start_time": "2022-09-27T09:19:14.206Z"
   },
   {
    "duration": 0,
    "start_time": "2022-09-27T09:19:14.206Z"
   },
   {
    "duration": 0,
    "start_time": "2022-09-27T09:19:14.208Z"
   },
   {
    "duration": 0,
    "start_time": "2022-09-27T09:19:14.209Z"
   },
   {
    "duration": 0,
    "start_time": "2022-09-27T09:19:14.210Z"
   },
   {
    "duration": 0,
    "start_time": "2022-09-27T09:19:14.211Z"
   },
   {
    "duration": 0,
    "start_time": "2022-09-27T09:19:14.212Z"
   },
   {
    "duration": 0,
    "start_time": "2022-09-27T09:19:14.216Z"
   },
   {
    "duration": 0,
    "start_time": "2022-09-27T09:19:14.217Z"
   },
   {
    "duration": 0,
    "start_time": "2022-09-27T09:19:14.218Z"
   },
   {
    "duration": 0,
    "start_time": "2022-09-27T09:19:14.219Z"
   },
   {
    "duration": 0,
    "start_time": "2022-09-27T09:19:14.220Z"
   },
   {
    "duration": 0,
    "start_time": "2022-09-27T09:19:14.221Z"
   },
   {
    "duration": 0,
    "start_time": "2022-09-27T09:19:14.222Z"
   },
   {
    "duration": 0,
    "start_time": "2022-09-27T09:19:14.224Z"
   },
   {
    "duration": 0,
    "start_time": "2022-09-27T09:19:14.225Z"
   },
   {
    "duration": 0,
    "start_time": "2022-09-27T09:19:14.226Z"
   },
   {
    "duration": 0,
    "start_time": "2022-09-27T09:19:14.227Z"
   },
   {
    "duration": 0,
    "start_time": "2022-09-27T09:19:14.228Z"
   },
   {
    "duration": 0,
    "start_time": "2022-09-27T09:19:14.229Z"
   },
   {
    "duration": 0,
    "start_time": "2022-09-27T09:19:14.277Z"
   },
   {
    "duration": 0,
    "start_time": "2022-09-27T09:19:14.278Z"
   },
   {
    "duration": 0,
    "start_time": "2022-09-27T09:19:14.279Z"
   },
   {
    "duration": 0,
    "start_time": "2022-09-27T09:19:14.280Z"
   },
   {
    "duration": 0,
    "start_time": "2022-09-27T09:19:14.281Z"
   },
   {
    "duration": 0,
    "start_time": "2022-09-27T09:19:14.282Z"
   },
   {
    "duration": 0,
    "start_time": "2022-09-27T09:19:14.283Z"
   },
   {
    "duration": 0,
    "start_time": "2022-09-27T09:19:14.284Z"
   },
   {
    "duration": 1,
    "start_time": "2022-09-27T09:19:14.285Z"
   },
   {
    "duration": 0,
    "start_time": "2022-09-27T09:19:14.287Z"
   },
   {
    "duration": 0,
    "start_time": "2022-09-27T09:19:14.288Z"
   },
   {
    "duration": 0,
    "start_time": "2022-09-27T09:19:14.289Z"
   },
   {
    "duration": 0,
    "start_time": "2022-09-27T09:19:14.290Z"
   },
   {
    "duration": 0,
    "start_time": "2022-09-27T09:19:14.291Z"
   },
   {
    "duration": 0,
    "start_time": "2022-09-27T09:19:14.292Z"
   },
   {
    "duration": 0,
    "start_time": "2022-09-27T09:19:14.294Z"
   },
   {
    "duration": 0,
    "start_time": "2022-09-27T09:19:14.295Z"
   },
   {
    "duration": 0,
    "start_time": "2022-09-27T09:19:14.296Z"
   },
   {
    "duration": 0,
    "start_time": "2022-09-27T09:19:14.297Z"
   },
   {
    "duration": 0,
    "start_time": "2022-09-27T09:19:14.298Z"
   },
   {
    "duration": 0,
    "start_time": "2022-09-27T09:19:14.299Z"
   },
   {
    "duration": 0,
    "start_time": "2022-09-27T09:19:14.300Z"
   },
   {
    "duration": 0,
    "start_time": "2022-09-27T09:19:14.302Z"
   },
   {
    "duration": 0,
    "start_time": "2022-09-27T09:19:14.302Z"
   },
   {
    "duration": 0,
    "start_time": "2022-09-27T09:19:14.304Z"
   },
   {
    "duration": 0,
    "start_time": "2022-09-27T09:19:14.304Z"
   },
   {
    "duration": 0,
    "start_time": "2022-09-27T09:19:14.305Z"
   },
   {
    "duration": 0,
    "start_time": "2022-09-27T09:19:14.306Z"
   },
   {
    "duration": 1,
    "start_time": "2022-09-27T09:19:14.307Z"
   },
   {
    "duration": 0,
    "start_time": "2022-09-27T09:19:14.309Z"
   },
   {
    "duration": 0,
    "start_time": "2022-09-27T09:19:14.310Z"
   },
   {
    "duration": 10,
    "start_time": "2022-09-27T09:19:17.385Z"
   },
   {
    "duration": 820,
    "start_time": "2022-09-27T09:19:52.147Z"
   },
   {
    "duration": 10,
    "start_time": "2022-09-27T09:20:01.028Z"
   },
   {
    "duration": 6,
    "start_time": "2022-09-27T09:20:04.775Z"
   },
   {
    "duration": 4,
    "start_time": "2022-09-27T09:20:08.571Z"
   },
   {
    "duration": 3,
    "start_time": "2022-09-27T09:20:12.806Z"
   },
   {
    "duration": 14,
    "start_time": "2022-09-27T09:20:17.289Z"
   },
   {
    "duration": 11,
    "start_time": "2022-09-27T09:20:20.422Z"
   },
   {
    "duration": 3427,
    "start_time": "2022-09-27T09:20:23.045Z"
   },
   {
    "duration": 5,
    "start_time": "2022-09-27T09:20:26.476Z"
   },
   {
    "duration": 10,
    "start_time": "2022-09-27T09:20:28.260Z"
   },
   {
    "duration": 7,
    "start_time": "2022-09-27T09:20:30.682Z"
   },
   {
    "duration": 20,
    "start_time": "2022-09-27T09:20:33.231Z"
   },
   {
    "duration": 16,
    "start_time": "2022-09-27T09:20:35.884Z"
   },
   {
    "duration": 28,
    "start_time": "2022-09-27T09:20:39.893Z"
   },
   {
    "duration": 517,
    "start_time": "2022-09-27T09:20:43.534Z"
   },
   {
    "duration": 37,
    "start_time": "2022-09-27T09:20:46.876Z"
   },
   {
    "duration": 268,
    "start_time": "2022-09-27T09:20:51.356Z"
   },
   {
    "duration": 12,
    "start_time": "2022-09-27T09:20:55.039Z"
   },
   {
    "duration": 325,
    "start_time": "2022-09-27T09:20:58.508Z"
   },
   {
    "duration": 13,
    "start_time": "2022-09-27T09:25:04.991Z"
   },
   {
    "duration": 462,
    "start_time": "2022-09-27T09:26:49.689Z"
   },
   {
    "duration": 515,
    "start_time": "2022-09-27T09:29:40.645Z"
   },
   {
    "duration": 539,
    "start_time": "2022-09-27T09:29:54.988Z"
   },
   {
    "duration": 231,
    "start_time": "2022-09-27T09:30:36.479Z"
   },
   {
    "duration": 184,
    "start_time": "2022-09-27T09:31:12.265Z"
   },
   {
    "duration": 187,
    "start_time": "2022-09-27T09:31:21.709Z"
   },
   {
    "duration": 187,
    "start_time": "2022-09-27T09:31:33.406Z"
   },
   {
    "duration": 506,
    "start_time": "2022-09-27T09:31:42.130Z"
   },
   {
    "duration": 212,
    "start_time": "2022-09-27T09:32:34.385Z"
   },
   {
    "duration": 518,
    "start_time": "2022-09-27T09:32:44.128Z"
   },
   {
    "duration": 341,
    "start_time": "2022-09-27T09:33:42.095Z"
   },
   {
    "duration": 551,
    "start_time": "2022-09-27T09:33:48.210Z"
   },
   {
    "duration": 9,
    "start_time": "2022-09-27T09:34:36.992Z"
   },
   {
    "duration": 340,
    "start_time": "2022-09-27T09:34:39.994Z"
   },
   {
    "duration": 19,
    "start_time": "2022-09-27T09:34:55.074Z"
   },
   {
    "duration": 7,
    "start_time": "2022-09-27T09:34:59.044Z"
   },
   {
    "duration": 37209,
    "start_time": "2022-09-27T09:35:02.386Z"
   },
   {
    "duration": 8,
    "start_time": "2022-09-27T09:35:39.597Z"
   },
   {
    "duration": 86,
    "start_time": "2022-09-27T09:35:39.606Z"
   },
   {
    "duration": 237,
    "start_time": "2022-09-27T09:37:52.309Z"
   },
   {
    "duration": 44,
    "start_time": "2022-09-27T09:40:21.400Z"
   },
   {
    "duration": 7,
    "start_time": "2022-09-27T09:40:33.518Z"
   },
   {
    "duration": 292,
    "start_time": "2022-09-27T09:40:45.225Z"
   },
   {
    "duration": 6,
    "start_time": "2022-09-27T09:41:58.336Z"
   },
   {
    "duration": 45,
    "start_time": "2022-09-27T09:44:35.549Z"
   },
   {
    "duration": 8,
    "start_time": "2022-09-27T09:44:54.014Z"
   },
   {
    "duration": 267,
    "start_time": "2022-09-27T09:45:01.617Z"
   },
   {
    "duration": 13,
    "start_time": "2022-09-27T09:45:21.204Z"
   },
   {
    "duration": 2404,
    "start_time": "2022-09-27T09:45:43.215Z"
   },
   {
    "duration": 355,
    "start_time": "2022-09-27T09:45:45.943Z"
   },
   {
    "duration": 2226,
    "start_time": "2022-09-27T09:45:57.716Z"
   },
   {
    "duration": 2328,
    "start_time": "2022-09-27T09:46:06.316Z"
   },
   {
    "duration": 12,
    "start_time": "2022-09-27T09:47:09.153Z"
   },
   {
    "duration": 16,
    "start_time": "2022-09-27T09:47:15.565Z"
   },
   {
    "duration": 9,
    "start_time": "2022-09-27T09:47:30.350Z"
   },
   {
    "duration": 169,
    "start_time": "2022-09-27T09:47:43.929Z"
   },
   {
    "duration": 51,
    "start_time": "2022-09-27T09:48:15.760Z"
   },
   {
    "duration": 173,
    "start_time": "2022-09-27T09:48:33.546Z"
   },
   {
    "duration": 233,
    "start_time": "2022-09-27T09:48:43.061Z"
   },
   {
    "duration": 208,
    "start_time": "2022-09-27T09:51:13.480Z"
   },
   {
    "duration": 206,
    "start_time": "2022-09-27T09:52:23.619Z"
   },
   {
    "duration": 61,
    "start_time": "2022-09-27T09:53:29.131Z"
   },
   {
    "duration": 59,
    "start_time": "2022-09-27T09:53:57.554Z"
   },
   {
    "duration": 52,
    "start_time": "2022-09-27T09:54:12.139Z"
   },
   {
    "duration": 254,
    "start_time": "2022-09-27T09:54:41.055Z"
   },
   {
    "duration": 8,
    "start_time": "2022-09-27T10:01:32.193Z"
   },
   {
    "duration": 10,
    "start_time": "2022-09-27T10:01:40.203Z"
   },
   {
    "duration": 10,
    "start_time": "2022-09-27T10:02:23.219Z"
   },
   {
    "duration": 11,
    "start_time": "2022-09-27T10:03:33.450Z"
   },
   {
    "duration": 30,
    "start_time": "2022-09-27T10:03:59.559Z"
   },
   {
    "duration": 11,
    "start_time": "2022-09-27T10:04:45.081Z"
   },
   {
    "duration": 224,
    "start_time": "2022-09-27T10:04:55.354Z"
   },
   {
    "duration": 13,
    "start_time": "2022-09-27T10:05:09.752Z"
   },
   {
    "duration": 1855,
    "start_time": "2022-09-27T10:05:36.215Z"
   },
   {
    "duration": 1833,
    "start_time": "2022-09-27T10:05:41.517Z"
   },
   {
    "duration": 1831,
    "start_time": "2022-09-27T10:06:02.789Z"
   },
   {
    "duration": 275,
    "start_time": "2022-09-27T10:06:17.592Z"
   },
   {
    "duration": 64,
    "start_time": "2022-09-27T10:12:03.315Z"
   },
   {
    "duration": 62,
    "start_time": "2022-09-27T10:13:16.463Z"
   },
   {
    "duration": 67,
    "start_time": "2022-09-27T10:15:13.495Z"
   },
   {
    "duration": 62,
    "start_time": "2022-09-27T10:15:35.371Z"
   },
   {
    "duration": 12,
    "start_time": "2022-09-27T10:16:44.206Z"
   },
   {
    "duration": 14,
    "start_time": "2022-09-27T10:16:56.648Z"
   },
   {
    "duration": 15,
    "start_time": "2022-09-27T10:17:24.427Z"
   },
   {
    "duration": 720,
    "start_time": "2022-09-27T10:25:17.686Z"
   },
   {
    "duration": 44,
    "start_time": "2022-09-27T10:25:20.391Z"
   },
   {
    "duration": 25,
    "start_time": "2022-09-27T10:25:23.288Z"
   },
   {
    "duration": 23,
    "start_time": "2022-09-27T10:25:26.625Z"
   },
   {
    "duration": 10,
    "start_time": "2022-09-27T10:25:29.143Z"
   },
   {
    "duration": 2017,
    "start_time": "2022-09-27T10:25:31.615Z"
   },
   {
    "duration": 10,
    "start_time": "2022-09-27T10:25:39.604Z"
   },
   {
    "duration": 6,
    "start_time": "2022-09-27T10:25:42.708Z"
   },
   {
    "duration": 6,
    "start_time": "2022-09-27T10:25:44.843Z"
   },
   {
    "duration": 5,
    "start_time": "2022-09-27T10:25:47.210Z"
   },
   {
    "duration": 13,
    "start_time": "2022-09-27T10:25:50.782Z"
   },
   {
    "duration": 19,
    "start_time": "2022-09-27T10:25:53.987Z"
   },
   {
    "duration": 13,
    "start_time": "2022-09-27T10:25:56.772Z"
   },
   {
    "duration": 3369,
    "start_time": "2022-09-27T10:25:59.891Z"
   },
   {
    "duration": 5,
    "start_time": "2022-09-27T10:26:07.873Z"
   },
   {
    "duration": 10,
    "start_time": "2022-09-27T10:26:12.562Z"
   },
   {
    "duration": 7,
    "start_time": "2022-09-27T10:26:15.951Z"
   },
   {
    "duration": 18,
    "start_time": "2022-09-27T10:26:18.627Z"
   },
   {
    "duration": 15,
    "start_time": "2022-09-27T10:26:21.975Z"
   },
   {
    "duration": 27,
    "start_time": "2022-09-27T10:26:28.578Z"
   },
   {
    "duration": 524,
    "start_time": "2022-09-27T10:26:32.333Z"
   },
   {
    "duration": 41,
    "start_time": "2022-09-27T10:26:35.618Z"
   },
   {
    "duration": 223,
    "start_time": "2022-09-27T10:26:39.143Z"
   },
   {
    "duration": 13,
    "start_time": "2022-09-27T10:26:44.705Z"
   },
   {
    "duration": 493,
    "start_time": "2022-09-27T10:26:48.763Z"
   },
   {
    "duration": 8,
    "start_time": "2022-09-27T10:26:52.614Z"
   },
   {
    "duration": 412,
    "start_time": "2022-09-27T10:26:55.551Z"
   },
   {
    "duration": 161,
    "start_time": "2022-09-27T10:27:00.805Z"
   },
   {
    "duration": 203,
    "start_time": "2022-09-27T10:27:04.249Z"
   },
   {
    "duration": 22,
    "start_time": "2022-09-27T10:28:26.156Z"
   },
   {
    "duration": 13,
    "start_time": "2022-09-27T10:28:29.240Z"
   },
   {
    "duration": 36736,
    "start_time": "2022-09-27T10:28:31.972Z"
   },
   {
    "duration": 68,
    "start_time": "2022-09-27T10:30:24.959Z"
   },
   {
    "duration": 4,
    "start_time": "2022-09-27T10:30:37.220Z"
   },
   {
    "duration": 4,
    "start_time": "2022-09-27T10:30:56.172Z"
   },
   {
    "duration": 29,
    "start_time": "2022-09-27T10:32:07.071Z"
   },
   {
    "duration": 84,
    "start_time": "2022-09-27T10:38:00.565Z"
   },
   {
    "duration": 25,
    "start_time": "2022-09-27T10:38:09.087Z"
   },
   {
    "duration": 14,
    "start_time": "2022-09-27T10:38:12.732Z"
   },
   {
    "duration": 19,
    "start_time": "2022-09-27T10:38:15.900Z"
   },
   {
    "duration": 10,
    "start_time": "2022-09-27T10:38:18.664Z"
   },
   {
    "duration": 9,
    "start_time": "2022-09-27T10:38:25.509Z"
   },
   {
    "duration": 6,
    "start_time": "2022-09-27T10:38:29.317Z"
   },
   {
    "duration": 5,
    "start_time": "2022-09-27T10:38:31.750Z"
   },
   {
    "duration": 4,
    "start_time": "2022-09-27T10:38:34.430Z"
   },
   {
    "duration": 11,
    "start_time": "2022-09-27T10:38:37.529Z"
   },
   {
    "duration": 22,
    "start_time": "2022-09-27T10:38:40.789Z"
   },
   {
    "duration": 11,
    "start_time": "2022-09-27T10:38:59.321Z"
   },
   {
    "duration": 3342,
    "start_time": "2022-09-27T10:39:05.377Z"
   },
   {
    "duration": 1578,
    "start_time": "2022-09-27T10:39:24.129Z"
   },
   {
    "duration": 7,
    "start_time": "2022-09-27T10:39:43.027Z"
   },
   {
    "duration": 13,
    "start_time": "2022-09-27T10:39:44.853Z"
   },
   {
    "duration": 8,
    "start_time": "2022-09-27T10:39:56.112Z"
   },
   {
    "duration": 19,
    "start_time": "2022-09-27T10:40:01.960Z"
   },
   {
    "duration": 28,
    "start_time": "2022-09-27T10:40:14.135Z"
   },
   {
    "duration": 35,
    "start_time": "2022-09-27T10:40:33.361Z"
   },
   {
    "duration": 563,
    "start_time": "2022-09-27T10:40:57.307Z"
   },
   {
    "duration": 39,
    "start_time": "2022-09-27T10:41:05.207Z"
   },
   {
    "duration": 239,
    "start_time": "2022-09-27T10:41:07.969Z"
   },
   {
    "duration": 14,
    "start_time": "2022-09-27T10:41:14.568Z"
   },
   {
    "duration": 480,
    "start_time": "2022-09-27T10:41:20.306Z"
   },
   {
    "duration": 20,
    "start_time": "2022-09-27T10:41:41.059Z"
   },
   {
    "duration": 354,
    "start_time": "2022-09-27T10:42:08.304Z"
   },
   {
    "duration": 90,
    "start_time": "2022-09-27T10:43:02.302Z"
   },
   {
    "duration": 5,
    "start_time": "2022-09-27T10:43:18.598Z"
   },
   {
    "duration": 3,
    "start_time": "2022-09-27T10:43:21.097Z"
   },
   {
    "duration": 4,
    "start_time": "2022-09-27T10:43:23.605Z"
   },
   {
    "duration": 21,
    "start_time": "2022-09-27T10:43:29.014Z"
   },
   {
    "duration": 13,
    "start_time": "2022-09-27T10:43:34.429Z"
   },
   {
    "duration": 3309,
    "start_time": "2022-09-27T10:43:36.784Z"
   },
   {
    "duration": 5,
    "start_time": "2022-09-27T10:43:40.095Z"
   },
   {
    "duration": 10,
    "start_time": "2022-09-27T10:43:42.390Z"
   },
   {
    "duration": 7,
    "start_time": "2022-09-27T10:43:44.497Z"
   },
   {
    "duration": 17,
    "start_time": "2022-09-27T10:43:47.143Z"
   },
   {
    "duration": 17,
    "start_time": "2022-09-27T10:43:51.034Z"
   },
   {
    "duration": 26,
    "start_time": "2022-09-27T10:43:53.450Z"
   },
   {
    "duration": 506,
    "start_time": "2022-09-27T10:43:56.095Z"
   },
   {
    "duration": 38,
    "start_time": "2022-09-27T10:43:58.708Z"
   },
   {
    "duration": 223,
    "start_time": "2022-09-27T10:44:01.547Z"
   },
   {
    "duration": 13,
    "start_time": "2022-09-27T10:44:05.934Z"
   },
   {
    "duration": 7,
    "start_time": "2022-09-27T10:44:11.778Z"
   },
   {
    "duration": 453,
    "start_time": "2022-09-27T10:44:27.367Z"
   },
   {
    "duration": 731,
    "start_time": "2022-09-27T10:45:20.599Z"
   },
   {
    "duration": 30,
    "start_time": "2022-09-27T10:45:21.332Z"
   },
   {
    "duration": 21,
    "start_time": "2022-09-27T10:45:21.363Z"
   },
   {
    "duration": 23,
    "start_time": "2022-09-27T10:45:21.385Z"
   },
   {
    "duration": 9,
    "start_time": "2022-09-27T10:45:21.410Z"
   },
   {
    "duration": 1880,
    "start_time": "2022-09-27T10:45:21.420Z"
   },
   {
    "duration": 9,
    "start_time": "2022-09-27T10:45:23.302Z"
   },
   {
    "duration": 4,
    "start_time": "2022-09-27T10:45:23.313Z"
   },
   {
    "duration": 4,
    "start_time": "2022-09-27T10:45:23.319Z"
   },
   {
    "duration": 4,
    "start_time": "2022-09-27T10:45:23.325Z"
   },
   {
    "duration": 9,
    "start_time": "2022-09-27T10:45:23.331Z"
   },
   {
    "duration": 34,
    "start_time": "2022-09-27T10:45:23.342Z"
   },
   {
    "duration": 11,
    "start_time": "2022-09-27T10:45:23.378Z"
   },
   {
    "duration": 3315,
    "start_time": "2022-09-27T10:45:23.393Z"
   },
   {
    "duration": 5,
    "start_time": "2022-09-27T10:45:26.710Z"
   },
   {
    "duration": 13,
    "start_time": "2022-09-27T10:45:26.717Z"
   },
   {
    "duration": 11,
    "start_time": "2022-09-27T10:45:26.732Z"
   },
   {
    "duration": 36,
    "start_time": "2022-09-27T10:45:26.744Z"
   },
   {
    "duration": 14,
    "start_time": "2022-09-27T10:45:26.782Z"
   },
   {
    "duration": 24,
    "start_time": "2022-09-27T10:45:26.798Z"
   },
   {
    "duration": 545,
    "start_time": "2022-09-27T10:45:26.823Z"
   },
   {
    "duration": 38,
    "start_time": "2022-09-27T10:45:27.370Z"
   },
   {
    "duration": 245,
    "start_time": "2022-09-27T10:45:27.410Z"
   },
   {
    "duration": 23,
    "start_time": "2022-09-27T10:45:27.656Z"
   },
   {
    "duration": 505,
    "start_time": "2022-09-27T10:45:27.681Z"
   },
   {
    "duration": 8,
    "start_time": "2022-09-27T10:45:28.188Z"
   },
   {
    "duration": 438,
    "start_time": "2022-09-27T10:45:28.197Z"
   },
   {
    "duration": 157,
    "start_time": "2022-09-27T10:45:28.636Z"
   },
   {
    "duration": 225,
    "start_time": "2022-09-27T10:45:28.794Z"
   },
   {
    "duration": 31,
    "start_time": "2022-09-27T10:45:29.022Z"
   },
   {
    "duration": 22,
    "start_time": "2022-09-27T10:45:29.055Z"
   },
   {
    "duration": 18031,
    "start_time": "2022-09-27T10:45:29.078Z"
   },
   {
    "duration": 0,
    "start_time": "2022-09-27T10:45:47.112Z"
   },
   {
    "duration": 0,
    "start_time": "2022-09-27T10:45:47.113Z"
   },
   {
    "duration": 0,
    "start_time": "2022-09-27T10:45:47.114Z"
   },
   {
    "duration": 0,
    "start_time": "2022-09-27T10:45:47.115Z"
   },
   {
    "duration": 0,
    "start_time": "2022-09-27T10:45:47.116Z"
   },
   {
    "duration": 0,
    "start_time": "2022-09-27T10:45:47.117Z"
   },
   {
    "duration": 0,
    "start_time": "2022-09-27T10:45:47.118Z"
   },
   {
    "duration": 1,
    "start_time": "2022-09-27T10:45:47.119Z"
   },
   {
    "duration": 0,
    "start_time": "2022-09-27T10:45:47.121Z"
   },
   {
    "duration": 0,
    "start_time": "2022-09-27T10:45:47.122Z"
   },
   {
    "duration": 0,
    "start_time": "2022-09-27T10:45:47.123Z"
   },
   {
    "duration": 0,
    "start_time": "2022-09-27T10:45:47.124Z"
   },
   {
    "duration": 0,
    "start_time": "2022-09-27T10:45:47.125Z"
   },
   {
    "duration": 0,
    "start_time": "2022-09-27T10:45:47.126Z"
   },
   {
    "duration": 0,
    "start_time": "2022-09-27T10:45:47.127Z"
   },
   {
    "duration": 0,
    "start_time": "2022-09-27T10:45:47.128Z"
   },
   {
    "duration": 0,
    "start_time": "2022-09-27T10:45:47.129Z"
   },
   {
    "duration": 0,
    "start_time": "2022-09-27T10:45:47.130Z"
   },
   {
    "duration": 0,
    "start_time": "2022-09-27T10:45:47.131Z"
   },
   {
    "duration": 0,
    "start_time": "2022-09-27T10:45:47.132Z"
   },
   {
    "duration": 0,
    "start_time": "2022-09-27T10:45:47.133Z"
   },
   {
    "duration": 0,
    "start_time": "2022-09-27T10:45:47.134Z"
   },
   {
    "duration": 0,
    "start_time": "2022-09-27T10:45:47.135Z"
   },
   {
    "duration": 0,
    "start_time": "2022-09-27T10:45:47.136Z"
   },
   {
    "duration": 0,
    "start_time": "2022-09-27T10:45:47.137Z"
   },
   {
    "duration": 0,
    "start_time": "2022-09-27T10:45:47.177Z"
   },
   {
    "duration": 0,
    "start_time": "2022-09-27T10:45:47.178Z"
   },
   {
    "duration": 0,
    "start_time": "2022-09-27T10:45:47.179Z"
   },
   {
    "duration": 0,
    "start_time": "2022-09-27T10:45:47.180Z"
   },
   {
    "duration": 0,
    "start_time": "2022-09-27T10:45:47.181Z"
   },
   {
    "duration": 0,
    "start_time": "2022-09-27T10:45:47.182Z"
   },
   {
    "duration": 0,
    "start_time": "2022-09-27T10:45:47.183Z"
   },
   {
    "duration": 0,
    "start_time": "2022-09-27T10:45:47.184Z"
   },
   {
    "duration": 0,
    "start_time": "2022-09-27T10:45:47.185Z"
   },
   {
    "duration": 0,
    "start_time": "2022-09-27T10:45:47.186Z"
   },
   {
    "duration": 0,
    "start_time": "2022-09-27T10:45:47.187Z"
   },
   {
    "duration": 0,
    "start_time": "2022-09-27T10:45:47.188Z"
   },
   {
    "duration": 0,
    "start_time": "2022-09-27T10:45:47.189Z"
   },
   {
    "duration": 0,
    "start_time": "2022-09-27T10:45:47.190Z"
   },
   {
    "duration": 0,
    "start_time": "2022-09-27T10:45:47.191Z"
   },
   {
    "duration": 0,
    "start_time": "2022-09-27T10:45:47.192Z"
   },
   {
    "duration": 0,
    "start_time": "2022-09-27T10:45:47.193Z"
   },
   {
    "duration": 0,
    "start_time": "2022-09-27T10:45:47.194Z"
   },
   {
    "duration": 0,
    "start_time": "2022-09-27T10:45:47.195Z"
   },
   {
    "duration": 0,
    "start_time": "2022-09-27T10:45:47.196Z"
   },
   {
    "duration": 0,
    "start_time": "2022-09-27T10:45:47.197Z"
   },
   {
    "duration": 0,
    "start_time": "2022-09-27T10:45:47.198Z"
   },
   {
    "duration": 0,
    "start_time": "2022-09-27T10:45:47.199Z"
   },
   {
    "duration": 0,
    "start_time": "2022-09-27T10:45:47.200Z"
   },
   {
    "duration": 0,
    "start_time": "2022-09-27T10:45:47.201Z"
   },
   {
    "duration": 0,
    "start_time": "2022-09-27T10:45:47.202Z"
   },
   {
    "duration": 0,
    "start_time": "2022-09-27T10:45:47.203Z"
   },
   {
    "duration": 0,
    "start_time": "2022-09-27T10:45:47.204Z"
   },
   {
    "duration": 0,
    "start_time": "2022-09-27T10:45:47.205Z"
   },
   {
    "duration": 0,
    "start_time": "2022-09-27T10:45:47.206Z"
   },
   {
    "duration": 0,
    "start_time": "2022-09-27T10:45:47.206Z"
   },
   {
    "duration": 0,
    "start_time": "2022-09-27T10:45:47.208Z"
   },
   {
    "duration": 0,
    "start_time": "2022-09-27T10:45:47.209Z"
   },
   {
    "duration": 0,
    "start_time": "2022-09-27T10:45:47.210Z"
   },
   {
    "duration": 0,
    "start_time": "2022-09-27T10:45:47.211Z"
   },
   {
    "duration": 0,
    "start_time": "2022-09-27T10:45:47.212Z"
   },
   {
    "duration": 0,
    "start_time": "2022-09-27T10:45:47.213Z"
   },
   {
    "duration": 0,
    "start_time": "2022-09-27T10:45:47.214Z"
   },
   {
    "duration": 0,
    "start_time": "2022-09-27T10:45:47.215Z"
   },
   {
    "duration": 0,
    "start_time": "2022-09-27T10:45:47.277Z"
   },
   {
    "duration": 0,
    "start_time": "2022-09-27T10:45:47.278Z"
   },
   {
    "duration": 0,
    "start_time": "2022-09-27T10:45:47.279Z"
   },
   {
    "duration": 101,
    "start_time": "2022-09-27T10:47:05.239Z"
   },
   {
    "duration": 343,
    "start_time": "2022-09-27T10:47:21.986Z"
   },
   {
    "duration": 415,
    "start_time": "2022-09-27T10:47:50.278Z"
   },
   {
    "duration": 788,
    "start_time": "2022-09-27T10:49:32.365Z"
   },
   {
    "duration": 33,
    "start_time": "2022-09-27T10:49:33.155Z"
   },
   {
    "duration": 18,
    "start_time": "2022-09-27T10:49:33.190Z"
   },
   {
    "duration": 23,
    "start_time": "2022-09-27T10:49:33.210Z"
   },
   {
    "duration": 11,
    "start_time": "2022-09-27T10:49:33.234Z"
   },
   {
    "duration": 2054,
    "start_time": "2022-09-27T10:49:33.247Z"
   },
   {
    "duration": 13,
    "start_time": "2022-09-27T10:49:35.303Z"
   },
   {
    "duration": 26,
    "start_time": "2022-09-27T10:49:35.319Z"
   },
   {
    "duration": 21,
    "start_time": "2022-09-27T10:49:35.347Z"
   },
   {
    "duration": 21,
    "start_time": "2022-09-27T10:49:35.372Z"
   },
   {
    "duration": 26,
    "start_time": "2022-09-27T10:49:35.395Z"
   },
   {
    "duration": 40,
    "start_time": "2022-09-27T10:49:35.422Z"
   },
   {
    "duration": 14,
    "start_time": "2022-09-27T10:49:35.464Z"
   },
   {
    "duration": 3479,
    "start_time": "2022-09-27T10:49:35.479Z"
   },
   {
    "duration": 5,
    "start_time": "2022-09-27T10:49:38.959Z"
   },
   {
    "duration": 32,
    "start_time": "2022-09-27T10:49:38.965Z"
   },
   {
    "duration": 18,
    "start_time": "2022-09-27T10:49:38.998Z"
   },
   {
    "duration": 43,
    "start_time": "2022-09-27T10:49:39.018Z"
   },
   {
    "duration": 27,
    "start_time": "2022-09-27T10:49:39.062Z"
   },
   {
    "duration": 31,
    "start_time": "2022-09-27T10:49:39.090Z"
   },
   {
    "duration": 508,
    "start_time": "2022-09-27T10:49:39.123Z"
   },
   {
    "duration": 46,
    "start_time": "2022-09-27T10:49:39.632Z"
   },
   {
    "duration": 235,
    "start_time": "2022-09-27T10:49:39.680Z"
   },
   {
    "duration": 13,
    "start_time": "2022-09-27T10:49:39.916Z"
   },
   {
    "duration": 513,
    "start_time": "2022-09-27T10:49:39.931Z"
   },
   {
    "duration": 7,
    "start_time": "2022-09-27T10:49:40.445Z"
   },
   {
    "duration": 474,
    "start_time": "2022-09-27T10:49:40.453Z"
   },
   {
    "duration": 182,
    "start_time": "2022-09-27T10:49:40.932Z"
   },
   {
    "duration": 230,
    "start_time": "2022-09-27T10:49:41.116Z"
   },
   {
    "duration": 38,
    "start_time": "2022-09-27T10:49:41.348Z"
   },
   {
    "duration": 4,
    "start_time": "2022-09-27T10:49:41.388Z"
   },
   {
    "duration": 18166,
    "start_time": "2022-09-27T10:49:41.394Z"
   },
   {
    "duration": 0,
    "start_time": "2022-09-27T10:49:59.562Z"
   },
   {
    "duration": 0,
    "start_time": "2022-09-27T10:49:59.564Z"
   },
   {
    "duration": 0,
    "start_time": "2022-09-27T10:49:59.564Z"
   },
   {
    "duration": 0,
    "start_time": "2022-09-27T10:49:59.565Z"
   },
   {
    "duration": 0,
    "start_time": "2022-09-27T10:49:59.566Z"
   },
   {
    "duration": 0,
    "start_time": "2022-09-27T10:49:59.576Z"
   },
   {
    "duration": 0,
    "start_time": "2022-09-27T10:49:59.577Z"
   },
   {
    "duration": 0,
    "start_time": "2022-09-27T10:49:59.579Z"
   },
   {
    "duration": 0,
    "start_time": "2022-09-27T10:49:59.580Z"
   },
   {
    "duration": 0,
    "start_time": "2022-09-27T10:49:59.581Z"
   },
   {
    "duration": 0,
    "start_time": "2022-09-27T10:49:59.582Z"
   },
   {
    "duration": 0,
    "start_time": "2022-09-27T10:49:59.583Z"
   },
   {
    "duration": 0,
    "start_time": "2022-09-27T10:49:59.584Z"
   },
   {
    "duration": 0,
    "start_time": "2022-09-27T10:49:59.585Z"
   },
   {
    "duration": 0,
    "start_time": "2022-09-27T10:49:59.587Z"
   },
   {
    "duration": 0,
    "start_time": "2022-09-27T10:49:59.588Z"
   },
   {
    "duration": 0,
    "start_time": "2022-09-27T10:49:59.589Z"
   },
   {
    "duration": 0,
    "start_time": "2022-09-27T10:49:59.590Z"
   },
   {
    "duration": 0,
    "start_time": "2022-09-27T10:49:59.591Z"
   },
   {
    "duration": 0,
    "start_time": "2022-09-27T10:49:59.592Z"
   },
   {
    "duration": 0,
    "start_time": "2022-09-27T10:49:59.593Z"
   },
   {
    "duration": 0,
    "start_time": "2022-09-27T10:49:59.594Z"
   },
   {
    "duration": 0,
    "start_time": "2022-09-27T10:49:59.596Z"
   },
   {
    "duration": 0,
    "start_time": "2022-09-27T10:49:59.597Z"
   },
   {
    "duration": 0,
    "start_time": "2022-09-27T10:49:59.598Z"
   },
   {
    "duration": 0,
    "start_time": "2022-09-27T10:49:59.599Z"
   },
   {
    "duration": 0,
    "start_time": "2022-09-27T10:49:59.600Z"
   },
   {
    "duration": 0,
    "start_time": "2022-09-27T10:49:59.601Z"
   },
   {
    "duration": 0,
    "start_time": "2022-09-27T10:49:59.603Z"
   },
   {
    "duration": 0,
    "start_time": "2022-09-27T10:49:59.604Z"
   },
   {
    "duration": 0,
    "start_time": "2022-09-27T10:49:59.605Z"
   },
   {
    "duration": 0,
    "start_time": "2022-09-27T10:49:59.606Z"
   },
   {
    "duration": 0,
    "start_time": "2022-09-27T10:49:59.607Z"
   },
   {
    "duration": 0,
    "start_time": "2022-09-27T10:49:59.608Z"
   },
   {
    "duration": 0,
    "start_time": "2022-09-27T10:49:59.609Z"
   },
   {
    "duration": 0,
    "start_time": "2022-09-27T10:49:59.610Z"
   },
   {
    "duration": 0,
    "start_time": "2022-09-27T10:49:59.611Z"
   },
   {
    "duration": 0,
    "start_time": "2022-09-27T10:49:59.612Z"
   },
   {
    "duration": 0,
    "start_time": "2022-09-27T10:49:59.614Z"
   },
   {
    "duration": 0,
    "start_time": "2022-09-27T10:49:59.615Z"
   },
   {
    "duration": 0,
    "start_time": "2022-09-27T10:49:59.677Z"
   },
   {
    "duration": 0,
    "start_time": "2022-09-27T10:49:59.678Z"
   },
   {
    "duration": 0,
    "start_time": "2022-09-27T10:49:59.679Z"
   },
   {
    "duration": 0,
    "start_time": "2022-09-27T10:49:59.680Z"
   },
   {
    "duration": 0,
    "start_time": "2022-09-27T10:49:59.681Z"
   },
   {
    "duration": 0,
    "start_time": "2022-09-27T10:49:59.682Z"
   },
   {
    "duration": 0,
    "start_time": "2022-09-27T10:49:59.683Z"
   },
   {
    "duration": 0,
    "start_time": "2022-09-27T10:49:59.684Z"
   },
   {
    "duration": 0,
    "start_time": "2022-09-27T10:49:59.686Z"
   },
   {
    "duration": 0,
    "start_time": "2022-09-27T10:49:59.687Z"
   },
   {
    "duration": 0,
    "start_time": "2022-09-27T10:49:59.688Z"
   },
   {
    "duration": 0,
    "start_time": "2022-09-27T10:49:59.690Z"
   },
   {
    "duration": 0,
    "start_time": "2022-09-27T10:49:59.691Z"
   },
   {
    "duration": 0,
    "start_time": "2022-09-27T10:49:59.693Z"
   },
   {
    "duration": 0,
    "start_time": "2022-09-27T10:49:59.694Z"
   },
   {
    "duration": 0,
    "start_time": "2022-09-27T10:49:59.695Z"
   },
   {
    "duration": 0,
    "start_time": "2022-09-27T10:49:59.697Z"
   },
   {
    "duration": 0,
    "start_time": "2022-09-27T10:49:59.698Z"
   },
   {
    "duration": 0,
    "start_time": "2022-09-27T10:49:59.699Z"
   },
   {
    "duration": 0,
    "start_time": "2022-09-27T10:49:59.700Z"
   },
   {
    "duration": 0,
    "start_time": "2022-09-27T10:49:59.702Z"
   },
   {
    "duration": 0,
    "start_time": "2022-09-27T10:49:59.704Z"
   },
   {
    "duration": 0,
    "start_time": "2022-09-27T10:49:59.705Z"
   },
   {
    "duration": 0,
    "start_time": "2022-09-27T10:49:59.706Z"
   },
   {
    "duration": 0,
    "start_time": "2022-09-27T10:49:59.707Z"
   },
   {
    "duration": 0,
    "start_time": "2022-09-27T10:49:59.709Z"
   },
   {
    "duration": 0,
    "start_time": "2022-09-27T10:49:59.710Z"
   },
   {
    "duration": 742,
    "start_time": "2022-09-27T10:51:42.068Z"
   },
   {
    "duration": 32,
    "start_time": "2022-09-27T10:51:42.812Z"
   },
   {
    "duration": 33,
    "start_time": "2022-09-27T10:51:42.845Z"
   },
   {
    "duration": 23,
    "start_time": "2022-09-27T10:51:42.881Z"
   },
   {
    "duration": 9,
    "start_time": "2022-09-27T10:51:42.905Z"
   },
   {
    "duration": 2076,
    "start_time": "2022-09-27T10:51:42.916Z"
   },
   {
    "duration": 10,
    "start_time": "2022-09-27T10:51:44.994Z"
   },
   {
    "duration": 26,
    "start_time": "2022-09-27T10:51:45.006Z"
   },
   {
    "duration": 35,
    "start_time": "2022-09-27T10:51:45.034Z"
   },
   {
    "duration": 19,
    "start_time": "2022-09-27T10:51:45.073Z"
   },
   {
    "duration": 27,
    "start_time": "2022-09-27T10:51:45.094Z"
   },
   {
    "duration": 37,
    "start_time": "2022-09-27T10:51:45.123Z"
   },
   {
    "duration": 15,
    "start_time": "2022-09-27T10:51:45.162Z"
   },
   {
    "duration": 3638,
    "start_time": "2022-09-27T10:51:45.179Z"
   },
   {
    "duration": 5,
    "start_time": "2022-09-27T10:51:48.818Z"
   },
   {
    "duration": 13,
    "start_time": "2022-09-27T10:51:48.825Z"
   },
   {
    "duration": 7,
    "start_time": "2022-09-27T10:51:48.840Z"
   },
   {
    "duration": 40,
    "start_time": "2022-09-27T10:51:48.849Z"
   },
   {
    "duration": 16,
    "start_time": "2022-09-27T10:51:48.891Z"
   },
   {
    "duration": 32,
    "start_time": "2022-09-27T10:51:48.909Z"
   },
   {
    "duration": 566,
    "start_time": "2022-09-27T10:51:48.943Z"
   },
   {
    "duration": 37,
    "start_time": "2022-09-27T10:51:49.511Z"
   },
   {
    "duration": 249,
    "start_time": "2022-09-27T10:51:49.550Z"
   },
   {
    "duration": 15,
    "start_time": "2022-09-27T10:51:49.801Z"
   },
   {
    "duration": 701,
    "start_time": "2022-09-27T10:51:49.818Z"
   },
   {
    "duration": 8,
    "start_time": "2022-09-27T10:51:50.520Z"
   },
   {
    "duration": 520,
    "start_time": "2022-09-27T10:51:50.529Z"
   },
   {
    "duration": 176,
    "start_time": "2022-09-27T10:51:51.054Z"
   },
   {
    "duration": 231,
    "start_time": "2022-09-27T10:51:51.232Z"
   },
   {
    "duration": 38,
    "start_time": "2022-09-27T10:51:51.465Z"
   },
   {
    "duration": 4,
    "start_time": "2022-09-27T10:51:51.505Z"
   },
   {
    "duration": 30115,
    "start_time": "2022-09-27T10:51:51.511Z"
   },
   {
    "duration": 0,
    "start_time": "2022-09-27T10:52:21.628Z"
   },
   {
    "duration": 0,
    "start_time": "2022-09-27T10:52:21.630Z"
   },
   {
    "duration": 0,
    "start_time": "2022-09-27T10:52:21.632Z"
   },
   {
    "duration": 0,
    "start_time": "2022-09-27T10:52:21.633Z"
   },
   {
    "duration": 0,
    "start_time": "2022-09-27T10:52:21.634Z"
   },
   {
    "duration": 0,
    "start_time": "2022-09-27T10:52:21.636Z"
   },
   {
    "duration": 0,
    "start_time": "2022-09-27T10:52:21.637Z"
   },
   {
    "duration": 0,
    "start_time": "2022-09-27T10:52:21.638Z"
   },
   {
    "duration": 0,
    "start_time": "2022-09-27T10:52:21.639Z"
   },
   {
    "duration": 0,
    "start_time": "2022-09-27T10:52:21.640Z"
   },
   {
    "duration": 0,
    "start_time": "2022-09-27T10:52:21.642Z"
   },
   {
    "duration": 0,
    "start_time": "2022-09-27T10:52:21.643Z"
   },
   {
    "duration": 0,
    "start_time": "2022-09-27T10:52:21.644Z"
   },
   {
    "duration": 0,
    "start_time": "2022-09-27T10:52:21.645Z"
   },
   {
    "duration": 0,
    "start_time": "2022-09-27T10:52:21.647Z"
   },
   {
    "duration": 0,
    "start_time": "2022-09-27T10:52:21.678Z"
   },
   {
    "duration": 0,
    "start_time": "2022-09-27T10:52:21.679Z"
   },
   {
    "duration": 0,
    "start_time": "2022-09-27T10:52:21.679Z"
   },
   {
    "duration": 0,
    "start_time": "2022-09-27T10:52:21.680Z"
   },
   {
    "duration": 1,
    "start_time": "2022-09-27T10:52:21.680Z"
   },
   {
    "duration": 1,
    "start_time": "2022-09-27T10:52:21.681Z"
   },
   {
    "duration": 0,
    "start_time": "2022-09-27T10:52:21.682Z"
   },
   {
    "duration": 0,
    "start_time": "2022-09-27T10:52:21.683Z"
   },
   {
    "duration": 0,
    "start_time": "2022-09-27T10:52:21.683Z"
   },
   {
    "duration": 0,
    "start_time": "2022-09-27T10:52:21.684Z"
   },
   {
    "duration": 0,
    "start_time": "2022-09-27T10:52:21.685Z"
   },
   {
    "duration": 0,
    "start_time": "2022-09-27T10:52:21.685Z"
   },
   {
    "duration": 0,
    "start_time": "2022-09-27T10:52:21.686Z"
   },
   {
    "duration": 0,
    "start_time": "2022-09-27T10:52:21.686Z"
   },
   {
    "duration": 0,
    "start_time": "2022-09-27T10:52:21.687Z"
   },
   {
    "duration": 0,
    "start_time": "2022-09-27T10:52:21.688Z"
   },
   {
    "duration": 0,
    "start_time": "2022-09-27T10:52:21.688Z"
   },
   {
    "duration": 0,
    "start_time": "2022-09-27T10:52:21.689Z"
   },
   {
    "duration": 0,
    "start_time": "2022-09-27T10:52:21.689Z"
   },
   {
    "duration": 0,
    "start_time": "2022-09-27T10:52:21.690Z"
   },
   {
    "duration": 0,
    "start_time": "2022-09-27T10:52:21.691Z"
   },
   {
    "duration": 0,
    "start_time": "2022-09-27T10:52:21.694Z"
   },
   {
    "duration": 1,
    "start_time": "2022-09-27T10:52:21.694Z"
   },
   {
    "duration": 0,
    "start_time": "2022-09-27T10:52:21.696Z"
   },
   {
    "duration": 0,
    "start_time": "2022-09-27T10:52:21.697Z"
   },
   {
    "duration": 0,
    "start_time": "2022-09-27T10:52:21.698Z"
   },
   {
    "duration": 0,
    "start_time": "2022-09-27T10:52:21.699Z"
   },
   {
    "duration": 0,
    "start_time": "2022-09-27T10:52:21.700Z"
   },
   {
    "duration": 0,
    "start_time": "2022-09-27T10:52:21.701Z"
   },
   {
    "duration": 0,
    "start_time": "2022-09-27T10:52:21.702Z"
   },
   {
    "duration": 0,
    "start_time": "2022-09-27T10:52:21.704Z"
   },
   {
    "duration": 0,
    "start_time": "2022-09-27T10:52:21.704Z"
   },
   {
    "duration": 0,
    "start_time": "2022-09-27T10:52:21.706Z"
   },
   {
    "duration": 0,
    "start_time": "2022-09-27T10:52:21.707Z"
   },
   {
    "duration": 0,
    "start_time": "2022-09-27T10:52:21.708Z"
   },
   {
    "duration": 0,
    "start_time": "2022-09-27T10:52:21.709Z"
   },
   {
    "duration": 0,
    "start_time": "2022-09-27T10:52:21.710Z"
   },
   {
    "duration": 0,
    "start_time": "2022-09-27T10:52:21.711Z"
   },
   {
    "duration": 0,
    "start_time": "2022-09-27T10:52:21.712Z"
   },
   {
    "duration": 0,
    "start_time": "2022-09-27T10:52:21.713Z"
   },
   {
    "duration": 0,
    "start_time": "2022-09-27T10:52:21.714Z"
   },
   {
    "duration": 0,
    "start_time": "2022-09-27T10:52:21.715Z"
   },
   {
    "duration": 0,
    "start_time": "2022-09-27T10:52:21.716Z"
   },
   {
    "duration": 0,
    "start_time": "2022-09-27T10:52:21.717Z"
   },
   {
    "duration": 0,
    "start_time": "2022-09-27T10:52:21.718Z"
   },
   {
    "duration": 0,
    "start_time": "2022-09-27T10:52:21.719Z"
   },
   {
    "duration": 0,
    "start_time": "2022-09-27T10:52:21.783Z"
   },
   {
    "duration": 0,
    "start_time": "2022-09-27T10:52:21.784Z"
   },
   {
    "duration": 0,
    "start_time": "2022-09-27T10:52:21.784Z"
   },
   {
    "duration": 0,
    "start_time": "2022-09-27T10:52:21.788Z"
   },
   {
    "duration": 0,
    "start_time": "2022-09-27T10:52:21.789Z"
   },
   {
    "duration": 0,
    "start_time": "2022-09-27T10:52:21.790Z"
   },
   {
    "duration": 361,
    "start_time": "2022-09-27T10:53:29.182Z"
   },
   {
    "duration": 22,
    "start_time": "2022-09-27T10:55:23.815Z"
   },
   {
    "duration": 548,
    "start_time": "2022-09-27T10:55:46.083Z"
   },
   {
    "duration": 370,
    "start_time": "2022-09-27T10:56:02.536Z"
   },
   {
    "duration": 470,
    "start_time": "2022-09-27T10:56:24.298Z"
   },
   {
    "duration": 363,
    "start_time": "2022-09-27T10:57:20.640Z"
   },
   {
    "duration": 27,
    "start_time": "2022-09-27T10:57:47.987Z"
   },
   {
    "duration": 388,
    "start_time": "2022-09-27T10:58:38.408Z"
   },
   {
    "duration": 22,
    "start_time": "2022-09-27T10:58:50.574Z"
   },
   {
    "duration": 26,
    "start_time": "2022-09-27T11:00:09.632Z"
   },
   {
    "duration": 32,
    "start_time": "2022-09-27T11:02:53.794Z"
   },
   {
    "duration": 25,
    "start_time": "2022-09-27T11:03:34.404Z"
   },
   {
    "duration": 22,
    "start_time": "2022-09-27T11:03:47.879Z"
   },
   {
    "duration": 23,
    "start_time": "2022-09-27T11:04:06.467Z"
   },
   {
    "duration": 23,
    "start_time": "2022-09-27T11:04:17.240Z"
   },
   {
    "duration": 23,
    "start_time": "2022-09-27T11:04:29.065Z"
   },
   {
    "duration": 29,
    "start_time": "2022-09-27T11:05:09.491Z"
   },
   {
    "duration": 38,
    "start_time": "2022-09-27T11:07:06.113Z"
   },
   {
    "duration": 29,
    "start_time": "2022-09-27T11:07:17.075Z"
   },
   {
    "duration": 30,
    "start_time": "2022-09-27T11:14:26.153Z"
   },
   {
    "duration": 30,
    "start_time": "2022-09-27T11:15:52.671Z"
   },
   {
    "duration": 110,
    "start_time": "2022-09-27T11:16:21.839Z"
   },
   {
    "duration": 43,
    "start_time": "2022-09-27T11:16:25.206Z"
   },
   {
    "duration": 29,
    "start_time": "2022-09-27T11:18:44.489Z"
   },
   {
    "duration": 35,
    "start_time": "2022-09-27T11:19:00.346Z"
   },
   {
    "duration": 49,
    "start_time": "2022-09-27T11:19:37.427Z"
   },
   {
    "duration": 33,
    "start_time": "2022-09-27T11:20:18.166Z"
   },
   {
    "duration": 13,
    "start_time": "2022-09-27T13:17:22.096Z"
   },
   {
    "duration": 128,
    "start_time": "2022-09-27T13:18:55.452Z"
   },
   {
    "duration": 70,
    "start_time": "2022-09-27T13:19:02.914Z"
   },
   {
    "duration": 77,
    "start_time": "2022-09-27T13:19:08.374Z"
   },
   {
    "duration": 73,
    "start_time": "2022-09-27T13:19:14.419Z"
   },
   {
    "duration": 1098,
    "start_time": "2022-09-27T13:19:24.938Z"
   },
   {
    "duration": 34,
    "start_time": "2022-09-27T13:19:26.039Z"
   },
   {
    "duration": 25,
    "start_time": "2022-09-27T13:19:26.074Z"
   },
   {
    "duration": 35,
    "start_time": "2022-09-27T13:19:26.101Z"
   },
   {
    "duration": 10,
    "start_time": "2022-09-27T13:19:26.138Z"
   },
   {
    "duration": 2026,
    "start_time": "2022-09-27T13:19:26.149Z"
   },
   {
    "duration": 14,
    "start_time": "2022-09-27T13:19:28.177Z"
   },
   {
    "duration": 24,
    "start_time": "2022-09-27T13:19:28.193Z"
   },
   {
    "duration": 21,
    "start_time": "2022-09-27T13:19:28.219Z"
   },
   {
    "duration": 24,
    "start_time": "2022-09-27T13:19:28.243Z"
   },
   {
    "duration": 31,
    "start_time": "2022-09-27T13:19:28.268Z"
   },
   {
    "duration": 28,
    "start_time": "2022-09-27T13:19:28.301Z"
   },
   {
    "duration": 11,
    "start_time": "2022-09-27T13:19:28.331Z"
   },
   {
    "duration": 3369,
    "start_time": "2022-09-27T13:19:28.344Z"
   },
   {
    "duration": 6,
    "start_time": "2022-09-27T13:19:31.715Z"
   },
   {
    "duration": 38,
    "start_time": "2022-09-27T13:19:31.723Z"
   },
   {
    "duration": 18,
    "start_time": "2022-09-27T13:19:31.763Z"
   },
   {
    "duration": 19,
    "start_time": "2022-09-27T13:19:31.783Z"
   },
   {
    "duration": 14,
    "start_time": "2022-09-27T13:19:31.805Z"
   },
   {
    "duration": 34,
    "start_time": "2022-09-27T13:19:31.821Z"
   },
   {
    "duration": 582,
    "start_time": "2022-09-27T13:19:31.857Z"
   },
   {
    "duration": 41,
    "start_time": "2022-09-27T13:19:32.442Z"
   },
   {
    "duration": 261,
    "start_time": "2022-09-27T13:19:32.485Z"
   },
   {
    "duration": 16,
    "start_time": "2022-09-27T13:19:32.748Z"
   },
   {
    "duration": 531,
    "start_time": "2022-09-27T13:19:32.766Z"
   },
   {
    "duration": 101,
    "start_time": "2022-09-27T13:19:33.301Z"
   },
   {
    "duration": 19,
    "start_time": "2022-09-27T13:19:33.404Z"
   },
   {
    "duration": 194,
    "start_time": "2022-09-27T13:19:33.429Z"
   },
   {
    "duration": 244,
    "start_time": "2022-09-27T13:19:33.626Z"
   },
   {
    "duration": 40,
    "start_time": "2022-09-27T13:19:33.872Z"
   },
   {
    "duration": 4,
    "start_time": "2022-09-27T13:19:33.914Z"
   },
   {
    "duration": 29269,
    "start_time": "2022-09-27T13:19:33.919Z"
   },
   {
    "duration": 0,
    "start_time": "2022-09-27T13:20:03.190Z"
   },
   {
    "duration": 0,
    "start_time": "2022-09-27T13:20:03.191Z"
   },
   {
    "duration": 0,
    "start_time": "2022-09-27T13:20:03.193Z"
   },
   {
    "duration": 0,
    "start_time": "2022-09-27T13:20:03.200Z"
   },
   {
    "duration": 0,
    "start_time": "2022-09-27T13:20:03.201Z"
   },
   {
    "duration": 0,
    "start_time": "2022-09-27T13:20:03.202Z"
   },
   {
    "duration": 0,
    "start_time": "2022-09-27T13:20:03.204Z"
   },
   {
    "duration": 0,
    "start_time": "2022-09-27T13:20:03.206Z"
   },
   {
    "duration": 0,
    "start_time": "2022-09-27T13:20:03.208Z"
   },
   {
    "duration": 0,
    "start_time": "2022-09-27T13:20:03.209Z"
   },
   {
    "duration": 0,
    "start_time": "2022-09-27T13:20:03.210Z"
   },
   {
    "duration": 0,
    "start_time": "2022-09-27T13:20:03.212Z"
   },
   {
    "duration": 0,
    "start_time": "2022-09-27T13:20:03.214Z"
   },
   {
    "duration": 0,
    "start_time": "2022-09-27T13:20:03.215Z"
   },
   {
    "duration": 0,
    "start_time": "2022-09-27T13:20:03.217Z"
   },
   {
    "duration": 0,
    "start_time": "2022-09-27T13:20:03.218Z"
   },
   {
    "duration": 0,
    "start_time": "2022-09-27T13:20:03.220Z"
   },
   {
    "duration": 0,
    "start_time": "2022-09-27T13:20:03.221Z"
   },
   {
    "duration": 0,
    "start_time": "2022-09-27T13:20:03.222Z"
   },
   {
    "duration": 0,
    "start_time": "2022-09-27T13:20:03.223Z"
   },
   {
    "duration": 0,
    "start_time": "2022-09-27T13:20:03.224Z"
   },
   {
    "duration": 0,
    "start_time": "2022-09-27T13:20:03.225Z"
   },
   {
    "duration": 0,
    "start_time": "2022-09-27T13:20:03.226Z"
   },
   {
    "duration": 0,
    "start_time": "2022-09-27T13:20:03.227Z"
   },
   {
    "duration": 0,
    "start_time": "2022-09-27T13:20:03.228Z"
   },
   {
    "duration": 0,
    "start_time": "2022-09-27T13:20:03.229Z"
   },
   {
    "duration": 0,
    "start_time": "2022-09-27T13:20:03.230Z"
   },
   {
    "duration": 0,
    "start_time": "2022-09-27T13:20:03.231Z"
   },
   {
    "duration": 0,
    "start_time": "2022-09-27T13:20:03.232Z"
   },
   {
    "duration": 0,
    "start_time": "2022-09-27T13:20:03.233Z"
   },
   {
    "duration": 0,
    "start_time": "2022-09-27T13:20:03.234Z"
   },
   {
    "duration": 0,
    "start_time": "2022-09-27T13:20:03.235Z"
   },
   {
    "duration": 0,
    "start_time": "2022-09-27T13:20:03.236Z"
   },
   {
    "duration": 0,
    "start_time": "2022-09-27T13:20:03.237Z"
   },
   {
    "duration": 0,
    "start_time": "2022-09-27T13:20:03.238Z"
   },
   {
    "duration": 0,
    "start_time": "2022-09-27T13:20:03.239Z"
   },
   {
    "duration": 0,
    "start_time": "2022-09-27T13:20:03.300Z"
   },
   {
    "duration": 0,
    "start_time": "2022-09-27T13:20:03.301Z"
   },
   {
    "duration": 0,
    "start_time": "2022-09-27T13:20:03.303Z"
   },
   {
    "duration": 0,
    "start_time": "2022-09-27T13:20:03.305Z"
   },
   {
    "duration": 0,
    "start_time": "2022-09-27T13:20:03.306Z"
   },
   {
    "duration": 0,
    "start_time": "2022-09-27T13:20:03.307Z"
   },
   {
    "duration": 0,
    "start_time": "2022-09-27T13:20:03.308Z"
   },
   {
    "duration": 0,
    "start_time": "2022-09-27T13:20:03.310Z"
   },
   {
    "duration": 0,
    "start_time": "2022-09-27T13:20:03.311Z"
   },
   {
    "duration": 0,
    "start_time": "2022-09-27T13:20:03.313Z"
   },
   {
    "duration": 0,
    "start_time": "2022-09-27T13:20:03.314Z"
   },
   {
    "duration": 0,
    "start_time": "2022-09-27T13:20:03.316Z"
   },
   {
    "duration": 0,
    "start_time": "2022-09-27T13:20:03.316Z"
   },
   {
    "duration": 0,
    "start_time": "2022-09-27T13:20:03.317Z"
   },
   {
    "duration": 0,
    "start_time": "2022-09-27T13:20:03.319Z"
   },
   {
    "duration": 0,
    "start_time": "2022-09-27T13:20:03.320Z"
   },
   {
    "duration": 0,
    "start_time": "2022-09-27T13:20:03.321Z"
   },
   {
    "duration": 0,
    "start_time": "2022-09-27T13:20:03.322Z"
   },
   {
    "duration": 0,
    "start_time": "2022-09-27T13:20:03.324Z"
   },
   {
    "duration": 0,
    "start_time": "2022-09-27T13:20:03.325Z"
   },
   {
    "duration": 0,
    "start_time": "2022-09-27T13:20:03.326Z"
   },
   {
    "duration": 0,
    "start_time": "2022-09-27T13:20:03.327Z"
   },
   {
    "duration": 0,
    "start_time": "2022-09-27T13:20:03.329Z"
   },
   {
    "duration": 0,
    "start_time": "2022-09-27T13:20:03.330Z"
   },
   {
    "duration": 0,
    "start_time": "2022-09-27T13:20:03.331Z"
   },
   {
    "duration": 0,
    "start_time": "2022-09-27T13:20:03.331Z"
   },
   {
    "duration": 0,
    "start_time": "2022-09-27T13:20:03.332Z"
   },
   {
    "duration": 0,
    "start_time": "2022-09-27T13:20:03.333Z"
   },
   {
    "duration": 0,
    "start_time": "2022-09-27T13:20:03.334Z"
   },
   {
    "duration": 0,
    "start_time": "2022-09-27T13:20:03.335Z"
   },
   {
    "duration": 0,
    "start_time": "2022-09-27T13:20:03.335Z"
   },
   {
    "duration": 23,
    "start_time": "2022-09-27T13:22:18.350Z"
   },
   {
    "duration": 32,
    "start_time": "2022-09-27T13:22:55.427Z"
   },
   {
    "duration": 25,
    "start_time": "2022-09-27T13:23:46.572Z"
   },
   {
    "duration": 37,
    "start_time": "2022-09-27T13:23:57.046Z"
   },
   {
    "duration": 27,
    "start_time": "2022-09-27T13:24:17.944Z"
   },
   {
    "duration": 6,
    "start_time": "2022-09-27T13:24:34.535Z"
   },
   {
    "duration": 41,
    "start_time": "2022-09-27T13:24:38.639Z"
   },
   {
    "duration": 27,
    "start_time": "2022-09-27T13:25:09.650Z"
   },
   {
    "duration": 24,
    "start_time": "2022-09-27T13:25:28.744Z"
   },
   {
    "duration": 27,
    "start_time": "2022-09-27T13:25:38.237Z"
   },
   {
    "duration": 31,
    "start_time": "2022-09-27T13:25:53.191Z"
   },
   {
    "duration": 9,
    "start_time": "2022-09-27T13:26:25.608Z"
   },
   {
    "duration": 11,
    "start_time": "2022-09-27T13:28:32.720Z"
   },
   {
    "duration": 10,
    "start_time": "2022-09-27T13:31:17.435Z"
   },
   {
    "duration": 96,
    "start_time": "2022-09-27T13:42:48.034Z"
   },
   {
    "duration": 41,
    "start_time": "2022-09-27T13:43:05.130Z"
   },
   {
    "duration": 636,
    "start_time": "2022-09-27T13:43:10.560Z"
   },
   {
    "duration": 28,
    "start_time": "2022-09-27T13:43:11.198Z"
   },
   {
    "duration": 14,
    "start_time": "2022-09-27T13:43:11.228Z"
   },
   {
    "duration": 20,
    "start_time": "2022-09-27T13:43:11.244Z"
   },
   {
    "duration": 47,
    "start_time": "2022-09-27T13:43:11.267Z"
   },
   {
    "duration": 1831,
    "start_time": "2022-09-27T13:43:11.316Z"
   },
   {
    "duration": 9,
    "start_time": "2022-09-27T13:43:13.149Z"
   },
   {
    "duration": 4,
    "start_time": "2022-09-27T13:43:13.160Z"
   },
   {
    "duration": 4,
    "start_time": "2022-09-27T13:43:13.165Z"
   },
   {
    "duration": 5,
    "start_time": "2022-09-27T13:43:13.171Z"
   },
   {
    "duration": 9,
    "start_time": "2022-09-27T13:43:13.178Z"
   },
   {
    "duration": 26,
    "start_time": "2022-09-27T13:43:13.188Z"
   },
   {
    "duration": 11,
    "start_time": "2022-09-27T13:43:13.215Z"
   },
   {
    "duration": 3308,
    "start_time": "2022-09-27T13:43:13.228Z"
   },
   {
    "duration": 5,
    "start_time": "2022-09-27T13:43:16.537Z"
   },
   {
    "duration": 17,
    "start_time": "2022-09-27T13:43:16.544Z"
   },
   {
    "duration": 9,
    "start_time": "2022-09-27T13:43:16.563Z"
   },
   {
    "duration": 30,
    "start_time": "2022-09-27T13:43:16.574Z"
   },
   {
    "duration": 18,
    "start_time": "2022-09-27T13:43:16.605Z"
   },
   {
    "duration": 37,
    "start_time": "2022-09-27T13:43:16.624Z"
   },
   {
    "duration": 517,
    "start_time": "2022-09-27T13:43:16.663Z"
   },
   {
    "duration": 45,
    "start_time": "2022-09-27T13:43:17.182Z"
   },
   {
    "duration": 238,
    "start_time": "2022-09-27T13:43:17.228Z"
   },
   {
    "duration": 14,
    "start_time": "2022-09-27T13:43:17.468Z"
   },
   {
    "duration": 503,
    "start_time": "2022-09-27T13:43:17.484Z"
   },
   {
    "duration": 107,
    "start_time": "2022-09-27T13:43:17.989Z"
   },
   {
    "duration": 19,
    "start_time": "2022-09-27T13:43:18.098Z"
   },
   {
    "duration": 152,
    "start_time": "2022-09-27T13:43:18.119Z"
   },
   {
    "duration": 236,
    "start_time": "2022-09-27T13:43:18.273Z"
   },
   {
    "duration": 30,
    "start_time": "2022-09-27T13:43:18.512Z"
   },
   {
    "duration": 3,
    "start_time": "2022-09-27T13:43:18.544Z"
   },
   {
    "duration": 17496,
    "start_time": "2022-09-27T13:43:18.548Z"
   },
   {
    "duration": 0,
    "start_time": "2022-09-27T13:43:36.047Z"
   },
   {
    "duration": 0,
    "start_time": "2022-09-27T13:43:36.048Z"
   },
   {
    "duration": 0,
    "start_time": "2022-09-27T13:43:36.049Z"
   },
   {
    "duration": 0,
    "start_time": "2022-09-27T13:43:36.050Z"
   },
   {
    "duration": 0,
    "start_time": "2022-09-27T13:43:36.051Z"
   },
   {
    "duration": 0,
    "start_time": "2022-09-27T13:43:36.053Z"
   },
   {
    "duration": 0,
    "start_time": "2022-09-27T13:43:36.054Z"
   },
   {
    "duration": 0,
    "start_time": "2022-09-27T13:43:36.055Z"
   },
   {
    "duration": 0,
    "start_time": "2022-09-27T13:43:36.056Z"
   },
   {
    "duration": 0,
    "start_time": "2022-09-27T13:43:36.057Z"
   },
   {
    "duration": 0,
    "start_time": "2022-09-27T13:43:36.058Z"
   },
   {
    "duration": 0,
    "start_time": "2022-09-27T13:43:36.059Z"
   },
   {
    "duration": 0,
    "start_time": "2022-09-27T13:43:36.060Z"
   },
   {
    "duration": 0,
    "start_time": "2022-09-27T13:43:36.061Z"
   },
   {
    "duration": 0,
    "start_time": "2022-09-27T13:43:36.062Z"
   },
   {
    "duration": 0,
    "start_time": "2022-09-27T13:43:36.063Z"
   },
   {
    "duration": 0,
    "start_time": "2022-09-27T13:43:36.064Z"
   },
   {
    "duration": 0,
    "start_time": "2022-09-27T13:43:36.065Z"
   },
   {
    "duration": 0,
    "start_time": "2022-09-27T13:43:36.100Z"
   },
   {
    "duration": 0,
    "start_time": "2022-09-27T13:43:36.101Z"
   },
   {
    "duration": 0,
    "start_time": "2022-09-27T13:43:36.102Z"
   },
   {
    "duration": 0,
    "start_time": "2022-09-27T13:43:36.102Z"
   },
   {
    "duration": 0,
    "start_time": "2022-09-27T13:43:36.103Z"
   },
   {
    "duration": 0,
    "start_time": "2022-09-27T13:43:36.104Z"
   },
   {
    "duration": 0,
    "start_time": "2022-09-27T13:43:36.104Z"
   },
   {
    "duration": 0,
    "start_time": "2022-09-27T13:43:36.105Z"
   },
   {
    "duration": 0,
    "start_time": "2022-09-27T13:43:36.106Z"
   },
   {
    "duration": 0,
    "start_time": "2022-09-27T13:43:36.106Z"
   },
   {
    "duration": 0,
    "start_time": "2022-09-27T13:43:36.107Z"
   },
   {
    "duration": 0,
    "start_time": "2022-09-27T13:43:36.108Z"
   },
   {
    "duration": 0,
    "start_time": "2022-09-27T13:43:36.108Z"
   },
   {
    "duration": 0,
    "start_time": "2022-09-27T13:43:36.109Z"
   },
   {
    "duration": 0,
    "start_time": "2022-09-27T13:43:36.114Z"
   },
   {
    "duration": 0,
    "start_time": "2022-09-27T13:43:36.115Z"
   },
   {
    "duration": 0,
    "start_time": "2022-09-27T13:43:36.116Z"
   },
   {
    "duration": 0,
    "start_time": "2022-09-27T13:43:36.117Z"
   },
   {
    "duration": 0,
    "start_time": "2022-09-27T13:43:36.119Z"
   },
   {
    "duration": 0,
    "start_time": "2022-09-27T13:43:36.120Z"
   },
   {
    "duration": 0,
    "start_time": "2022-09-27T13:43:36.121Z"
   },
   {
    "duration": 0,
    "start_time": "2022-09-27T13:43:36.122Z"
   },
   {
    "duration": 0,
    "start_time": "2022-09-27T13:43:36.123Z"
   },
   {
    "duration": 0,
    "start_time": "2022-09-27T13:43:36.125Z"
   },
   {
    "duration": 0,
    "start_time": "2022-09-27T13:43:36.126Z"
   },
   {
    "duration": 0,
    "start_time": "2022-09-27T13:43:36.127Z"
   },
   {
    "duration": 0,
    "start_time": "2022-09-27T13:43:36.128Z"
   },
   {
    "duration": 0,
    "start_time": "2022-09-27T13:43:36.129Z"
   },
   {
    "duration": 0,
    "start_time": "2022-09-27T13:43:36.130Z"
   },
   {
    "duration": 0,
    "start_time": "2022-09-27T13:43:36.131Z"
   },
   {
    "duration": 0,
    "start_time": "2022-09-27T13:43:36.132Z"
   },
   {
    "duration": 0,
    "start_time": "2022-09-27T13:43:36.133Z"
   },
   {
    "duration": 0,
    "start_time": "2022-09-27T13:43:36.134Z"
   },
   {
    "duration": 1,
    "start_time": "2022-09-27T13:43:36.135Z"
   },
   {
    "duration": 0,
    "start_time": "2022-09-27T13:43:36.136Z"
   },
   {
    "duration": 0,
    "start_time": "2022-09-27T13:43:36.137Z"
   },
   {
    "duration": 0,
    "start_time": "2022-09-27T13:43:36.138Z"
   },
   {
    "duration": 0,
    "start_time": "2022-09-27T13:43:36.139Z"
   },
   {
    "duration": 0,
    "start_time": "2022-09-27T13:43:36.140Z"
   },
   {
    "duration": 0,
    "start_time": "2022-09-27T13:43:36.141Z"
   },
   {
    "duration": 0,
    "start_time": "2022-09-27T13:43:36.142Z"
   },
   {
    "duration": 0,
    "start_time": "2022-09-27T13:43:36.212Z"
   },
   {
    "duration": 0,
    "start_time": "2022-09-27T13:43:36.213Z"
   },
   {
    "duration": 0,
    "start_time": "2022-09-27T13:43:36.214Z"
   },
   {
    "duration": 0,
    "start_time": "2022-09-27T13:43:36.215Z"
   },
   {
    "duration": 0,
    "start_time": "2022-09-27T13:43:36.216Z"
   },
   {
    "duration": 0,
    "start_time": "2022-09-27T13:43:36.218Z"
   },
   {
    "duration": 0,
    "start_time": "2022-09-27T13:43:36.218Z"
   },
   {
    "duration": 0,
    "start_time": "2022-09-27T13:43:36.221Z"
   },
   {
    "duration": 213,
    "start_time": "2022-09-27T13:45:50.750Z"
   },
   {
    "duration": 241,
    "start_time": "2022-09-27T13:46:43.399Z"
   },
   {
    "duration": 243,
    "start_time": "2022-09-27T13:47:02.606Z"
   },
   {
    "duration": 18,
    "start_time": "2022-09-27T13:50:42.748Z"
   },
   {
    "duration": 8,
    "start_time": "2022-09-27T13:51:15.671Z"
   },
   {
    "duration": 3,
    "start_time": "2022-09-27T13:54:59.143Z"
   },
   {
    "duration": 8,
    "start_time": "2022-09-27T13:55:27.106Z"
   },
   {
    "duration": 700,
    "start_time": "2022-09-27T14:03:54.482Z"
   },
   {
    "duration": 32,
    "start_time": "2022-09-27T14:03:55.183Z"
   },
   {
    "duration": 15,
    "start_time": "2022-09-27T14:03:55.217Z"
   },
   {
    "duration": 19,
    "start_time": "2022-09-27T14:03:55.234Z"
   },
   {
    "duration": 9,
    "start_time": "2022-09-27T14:03:55.255Z"
   },
   {
    "duration": 1878,
    "start_time": "2022-09-27T14:03:55.265Z"
   },
   {
    "duration": 9,
    "start_time": "2022-09-27T14:03:57.145Z"
   },
   {
    "duration": 5,
    "start_time": "2022-09-27T14:03:57.155Z"
   },
   {
    "duration": 4,
    "start_time": "2022-09-27T14:03:57.162Z"
   },
   {
    "duration": 3,
    "start_time": "2022-09-27T14:03:57.169Z"
   },
   {
    "duration": 10,
    "start_time": "2022-09-27T14:03:57.173Z"
   },
   {
    "duration": 28,
    "start_time": "2022-09-27T14:03:57.184Z"
   },
   {
    "duration": 10,
    "start_time": "2022-09-27T14:03:57.214Z"
   },
   {
    "duration": 3172,
    "start_time": "2022-09-27T14:03:57.226Z"
   },
   {
    "duration": 6,
    "start_time": "2022-09-27T14:04:00.400Z"
   },
   {
    "duration": 75,
    "start_time": "2022-09-27T14:04:00.407Z"
   },
   {
    "duration": 26,
    "start_time": "2022-09-27T14:04:00.484Z"
   },
   {
    "duration": 37,
    "start_time": "2022-09-27T14:04:00.513Z"
   },
   {
    "duration": 19,
    "start_time": "2022-09-27T14:04:00.552Z"
   },
   {
    "duration": 48,
    "start_time": "2022-09-27T14:04:00.573Z"
   },
   {
    "duration": 507,
    "start_time": "2022-09-27T14:04:00.622Z"
   },
   {
    "duration": 34,
    "start_time": "2022-09-27T14:04:01.131Z"
   },
   {
    "duration": 250,
    "start_time": "2022-09-27T14:04:01.167Z"
   },
   {
    "duration": 14,
    "start_time": "2022-09-27T14:04:01.419Z"
   },
   {
    "duration": 498,
    "start_time": "2022-09-27T14:04:01.435Z"
   },
   {
    "duration": 87,
    "start_time": "2022-09-27T14:04:01.934Z"
   },
   {
    "duration": 9,
    "start_time": "2022-09-27T14:04:02.023Z"
   },
   {
    "duration": 274,
    "start_time": "2022-09-27T14:04:02.035Z"
   },
   {
    "duration": 205,
    "start_time": "2022-09-27T14:04:02.312Z"
   },
   {
    "duration": 200,
    "start_time": "2022-09-27T14:04:02.518Z"
   },
   {
    "duration": 17,
    "start_time": "2022-09-27T14:04:02.720Z"
   },
   {
    "duration": 6,
    "start_time": "2022-09-27T14:04:02.739Z"
   },
   {
    "duration": 10,
    "start_time": "2022-09-27T14:04:02.747Z"
   },
   {
    "duration": 34361,
    "start_time": "2022-09-27T14:04:02.759Z"
   },
   {
    "duration": 6,
    "start_time": "2022-09-27T14:04:37.122Z"
   },
   {
    "duration": 98,
    "start_time": "2022-09-27T14:04:37.129Z"
   },
   {
    "duration": 228,
    "start_time": "2022-09-27T14:04:37.229Z"
   },
   {
    "duration": 11,
    "start_time": "2022-09-27T14:04:37.459Z"
   },
   {
    "duration": 283,
    "start_time": "2022-09-27T14:04:37.472Z"
   },
   {
    "duration": 9,
    "start_time": "2022-09-27T14:04:37.757Z"
   },
   {
    "duration": 47,
    "start_time": "2022-09-27T14:04:37.768Z"
   },
   {
    "duration": 8,
    "start_time": "2022-09-27T14:04:37.817Z"
   },
   {
    "duration": 269,
    "start_time": "2022-09-27T14:04:37.827Z"
   },
   {
    "duration": 2313,
    "start_time": "2022-09-27T14:04:38.099Z"
   },
   {
    "duration": 0,
    "start_time": "2022-09-27T14:04:40.415Z"
   },
   {
    "duration": 0,
    "start_time": "2022-09-27T14:04:40.416Z"
   },
   {
    "duration": 0,
    "start_time": "2022-09-27T14:04:40.417Z"
   },
   {
    "duration": 0,
    "start_time": "2022-09-27T14:04:40.418Z"
   },
   {
    "duration": 0,
    "start_time": "2022-09-27T14:04:40.419Z"
   },
   {
    "duration": 0,
    "start_time": "2022-09-27T14:04:40.420Z"
   },
   {
    "duration": 0,
    "start_time": "2022-09-27T14:04:40.421Z"
   },
   {
    "duration": 0,
    "start_time": "2022-09-27T14:04:40.422Z"
   },
   {
    "duration": 0,
    "start_time": "2022-09-27T14:04:40.423Z"
   },
   {
    "duration": 0,
    "start_time": "2022-09-27T14:04:40.424Z"
   },
   {
    "duration": 0,
    "start_time": "2022-09-27T14:04:40.425Z"
   },
   {
    "duration": 0,
    "start_time": "2022-09-27T14:04:40.426Z"
   },
   {
    "duration": 0,
    "start_time": "2022-09-27T14:04:40.428Z"
   },
   {
    "duration": 0,
    "start_time": "2022-09-27T14:04:40.429Z"
   },
   {
    "duration": 0,
    "start_time": "2022-09-27T14:04:40.430Z"
   },
   {
    "duration": 0,
    "start_time": "2022-09-27T14:04:40.430Z"
   },
   {
    "duration": 0,
    "start_time": "2022-09-27T14:04:40.432Z"
   },
   {
    "duration": 0,
    "start_time": "2022-09-27T14:04:40.432Z"
   },
   {
    "duration": 0,
    "start_time": "2022-09-27T14:04:40.433Z"
   },
   {
    "duration": 0,
    "start_time": "2022-09-27T14:04:40.434Z"
   },
   {
    "duration": 0,
    "start_time": "2022-09-27T14:04:40.434Z"
   },
   {
    "duration": 0,
    "start_time": "2022-09-27T14:04:40.435Z"
   },
   {
    "duration": 0,
    "start_time": "2022-09-27T14:04:40.436Z"
   },
   {
    "duration": 0,
    "start_time": "2022-09-27T14:04:40.436Z"
   },
   {
    "duration": 0,
    "start_time": "2022-09-27T14:04:40.437Z"
   },
   {
    "duration": 0,
    "start_time": "2022-09-27T14:04:40.438Z"
   },
   {
    "duration": 0,
    "start_time": "2022-09-27T14:04:40.438Z"
   },
   {
    "duration": 0,
    "start_time": "2022-09-27T14:04:40.439Z"
   },
   {
    "duration": 0,
    "start_time": "2022-09-27T14:04:40.440Z"
   },
   {
    "duration": 0,
    "start_time": "2022-09-27T14:04:40.440Z"
   },
   {
    "duration": 0,
    "start_time": "2022-09-27T14:04:40.443Z"
   },
   {
    "duration": 0,
    "start_time": "2022-09-27T14:04:40.444Z"
   },
   {
    "duration": 0,
    "start_time": "2022-09-27T14:04:40.445Z"
   },
   {
    "duration": 0,
    "start_time": "2022-09-27T14:04:40.446Z"
   },
   {
    "duration": 0,
    "start_time": "2022-09-27T14:04:40.447Z"
   },
   {
    "duration": 0,
    "start_time": "2022-09-27T14:04:40.448Z"
   },
   {
    "duration": 0,
    "start_time": "2022-09-27T14:04:40.449Z"
   },
   {
    "duration": 0,
    "start_time": "2022-09-27T14:04:40.450Z"
   },
   {
    "duration": 0,
    "start_time": "2022-09-27T14:04:40.451Z"
   },
   {
    "duration": 0,
    "start_time": "2022-09-27T14:04:40.504Z"
   },
   {
    "duration": 0,
    "start_time": "2022-09-27T14:04:40.506Z"
   },
   {
    "duration": 0,
    "start_time": "2022-09-27T14:04:40.507Z"
   },
   {
    "duration": 0,
    "start_time": "2022-09-27T14:04:40.508Z"
   },
   {
    "duration": 0,
    "start_time": "2022-09-27T14:04:40.509Z"
   },
   {
    "duration": 0,
    "start_time": "2022-09-27T14:04:40.510Z"
   },
   {
    "duration": 0,
    "start_time": "2022-09-27T14:04:40.511Z"
   },
   {
    "duration": 0,
    "start_time": "2022-09-27T14:04:40.512Z"
   },
   {
    "duration": 0,
    "start_time": "2022-09-27T14:04:40.513Z"
   },
   {
    "duration": 0,
    "start_time": "2022-09-27T14:04:40.514Z"
   },
   {
    "duration": 0,
    "start_time": "2022-09-27T14:04:40.515Z"
   },
   {
    "duration": 0,
    "start_time": "2022-09-27T14:04:40.516Z"
   },
   {
    "duration": 0,
    "start_time": "2022-09-27T14:04:40.518Z"
   },
   {
    "duration": 0,
    "start_time": "2022-09-27T14:04:40.519Z"
   },
   {
    "duration": 0,
    "start_time": "2022-09-27T14:04:40.521Z"
   },
   {
    "duration": 0,
    "start_time": "2022-09-27T14:04:40.522Z"
   },
   {
    "duration": 0,
    "start_time": "2022-09-27T14:04:40.524Z"
   },
   {
    "duration": 0,
    "start_time": "2022-09-27T14:04:40.525Z"
   },
   {
    "duration": 629,
    "start_time": "2022-09-27T14:07:38.658Z"
   },
   {
    "duration": 29,
    "start_time": "2022-09-27T14:07:39.288Z"
   },
   {
    "duration": 13,
    "start_time": "2022-09-27T14:07:39.319Z"
   },
   {
    "duration": 20,
    "start_time": "2022-09-27T14:07:39.333Z"
   },
   {
    "duration": 8,
    "start_time": "2022-09-27T14:07:39.354Z"
   },
   {
    "duration": 1823,
    "start_time": "2022-09-27T14:07:39.364Z"
   },
   {
    "duration": 9,
    "start_time": "2022-09-27T14:07:41.188Z"
   },
   {
    "duration": 4,
    "start_time": "2022-09-27T14:07:41.199Z"
   },
   {
    "duration": 7,
    "start_time": "2022-09-27T14:07:41.204Z"
   },
   {
    "duration": 4,
    "start_time": "2022-09-27T14:07:41.213Z"
   },
   {
    "duration": 9,
    "start_time": "2022-09-27T14:07:41.219Z"
   },
   {
    "duration": 20,
    "start_time": "2022-09-27T14:07:41.230Z"
   },
   {
    "duration": 10,
    "start_time": "2022-09-27T14:07:41.251Z"
   },
   {
    "duration": 3334,
    "start_time": "2022-09-27T14:07:41.262Z"
   },
   {
    "duration": 6,
    "start_time": "2022-09-27T14:07:44.601Z"
   },
   {
    "duration": 18,
    "start_time": "2022-09-27T14:07:44.608Z"
   },
   {
    "duration": 9,
    "start_time": "2022-09-27T14:07:44.628Z"
   },
   {
    "duration": 20,
    "start_time": "2022-09-27T14:07:44.638Z"
   },
   {
    "duration": 15,
    "start_time": "2022-09-27T14:07:44.660Z"
   },
   {
    "duration": 25,
    "start_time": "2022-09-27T14:07:44.700Z"
   },
   {
    "duration": 558,
    "start_time": "2022-09-27T14:07:44.726Z"
   },
   {
    "duration": 50,
    "start_time": "2022-09-27T14:07:45.286Z"
   },
   {
    "duration": 235,
    "start_time": "2022-09-27T14:07:45.338Z"
   },
   {
    "duration": 12,
    "start_time": "2022-09-27T14:07:45.575Z"
   },
   {
    "duration": 440,
    "start_time": "2022-09-27T14:07:45.600Z"
   },
   {
    "duration": 106,
    "start_time": "2022-09-27T14:07:46.041Z"
   },
   {
    "duration": 13,
    "start_time": "2022-09-27T14:07:46.149Z"
   },
   {
    "duration": 301,
    "start_time": "2022-09-27T14:07:46.167Z"
   },
   {
    "duration": 226,
    "start_time": "2022-09-27T14:07:46.470Z"
   },
   {
    "duration": 216,
    "start_time": "2022-09-27T14:07:46.697Z"
   },
   {
    "duration": 17,
    "start_time": "2022-09-27T14:07:46.914Z"
   },
   {
    "duration": 6,
    "start_time": "2022-09-27T14:07:46.933Z"
   },
   {
    "duration": 5,
    "start_time": "2022-09-27T14:07:46.940Z"
   },
   {
    "duration": 33883,
    "start_time": "2022-09-27T14:07:46.946Z"
   },
   {
    "duration": 6,
    "start_time": "2022-09-27T14:08:20.830Z"
   },
   {
    "duration": 68,
    "start_time": "2022-09-27T14:08:20.837Z"
   },
   {
    "duration": 205,
    "start_time": "2022-09-27T14:08:20.907Z"
   },
   {
    "duration": 8,
    "start_time": "2022-09-27T14:08:21.114Z"
   },
   {
    "duration": 228,
    "start_time": "2022-09-27T14:08:21.123Z"
   },
   {
    "duration": 8,
    "start_time": "2022-09-27T14:08:21.352Z"
   },
   {
    "duration": 30,
    "start_time": "2022-09-27T14:08:21.361Z"
   },
   {
    "duration": 8,
    "start_time": "2022-09-27T14:08:21.400Z"
   },
   {
    "duration": 251,
    "start_time": "2022-09-27T14:08:21.410Z"
   },
   {
    "duration": 2232,
    "start_time": "2022-09-27T14:08:21.663Z"
   },
   {
    "duration": 0,
    "start_time": "2022-09-27T14:08:23.897Z"
   },
   {
    "duration": 0,
    "start_time": "2022-09-27T14:08:23.900Z"
   },
   {
    "duration": 0,
    "start_time": "2022-09-27T14:08:23.901Z"
   },
   {
    "duration": 0,
    "start_time": "2022-09-27T14:08:23.902Z"
   },
   {
    "duration": 0,
    "start_time": "2022-09-27T14:08:23.904Z"
   },
   {
    "duration": 0,
    "start_time": "2022-09-27T14:08:23.905Z"
   },
   {
    "duration": 0,
    "start_time": "2022-09-27T14:08:23.906Z"
   },
   {
    "duration": 0,
    "start_time": "2022-09-27T14:08:23.907Z"
   },
   {
    "duration": 0,
    "start_time": "2022-09-27T14:08:23.908Z"
   },
   {
    "duration": 0,
    "start_time": "2022-09-27T14:08:23.909Z"
   },
   {
    "duration": 0,
    "start_time": "2022-09-27T14:08:23.909Z"
   },
   {
    "duration": 0,
    "start_time": "2022-09-27T14:08:23.911Z"
   },
   {
    "duration": 0,
    "start_time": "2022-09-27T14:08:23.912Z"
   },
   {
    "duration": 0,
    "start_time": "2022-09-27T14:08:23.912Z"
   },
   {
    "duration": 0,
    "start_time": "2022-09-27T14:08:23.914Z"
   },
   {
    "duration": 0,
    "start_time": "2022-09-27T14:08:23.914Z"
   },
   {
    "duration": 0,
    "start_time": "2022-09-27T14:08:23.916Z"
   },
   {
    "duration": 0,
    "start_time": "2022-09-27T14:08:23.917Z"
   },
   {
    "duration": 0,
    "start_time": "2022-09-27T14:08:23.917Z"
   },
   {
    "duration": 0,
    "start_time": "2022-09-27T14:08:23.918Z"
   },
   {
    "duration": 1,
    "start_time": "2022-09-27T14:08:23.919Z"
   },
   {
    "duration": 0,
    "start_time": "2022-09-27T14:08:23.921Z"
   },
   {
    "duration": 0,
    "start_time": "2022-09-27T14:08:23.922Z"
   },
   {
    "duration": 0,
    "start_time": "2022-09-27T14:08:23.923Z"
   },
   {
    "duration": 0,
    "start_time": "2022-09-27T14:08:23.924Z"
   },
   {
    "duration": 0,
    "start_time": "2022-09-27T14:08:23.925Z"
   },
   {
    "duration": 0,
    "start_time": "2022-09-27T14:08:23.926Z"
   },
   {
    "duration": 0,
    "start_time": "2022-09-27T14:08:23.927Z"
   },
   {
    "duration": 0,
    "start_time": "2022-09-27T14:08:23.928Z"
   },
   {
    "duration": 0,
    "start_time": "2022-09-27T14:08:23.929Z"
   },
   {
    "duration": 0,
    "start_time": "2022-09-27T14:08:23.930Z"
   },
   {
    "duration": 0,
    "start_time": "2022-09-27T14:08:23.931Z"
   },
   {
    "duration": 0,
    "start_time": "2022-09-27T14:08:23.932Z"
   },
   {
    "duration": 0,
    "start_time": "2022-09-27T14:08:23.933Z"
   },
   {
    "duration": 0,
    "start_time": "2022-09-27T14:08:23.934Z"
   },
   {
    "duration": 0,
    "start_time": "2022-09-27T14:08:23.935Z"
   },
   {
    "duration": 0,
    "start_time": "2022-09-27T14:08:23.936Z"
   },
   {
    "duration": 0,
    "start_time": "2022-09-27T14:08:23.937Z"
   },
   {
    "duration": 0,
    "start_time": "2022-09-27T14:08:23.938Z"
   },
   {
    "duration": 0,
    "start_time": "2022-09-27T14:08:23.939Z"
   },
   {
    "duration": 0,
    "start_time": "2022-09-27T14:08:24.000Z"
   },
   {
    "duration": 0,
    "start_time": "2022-09-27T14:08:24.001Z"
   },
   {
    "duration": 0,
    "start_time": "2022-09-27T14:08:24.002Z"
   },
   {
    "duration": 0,
    "start_time": "2022-09-27T14:08:24.004Z"
   },
   {
    "duration": 0,
    "start_time": "2022-09-27T14:08:24.005Z"
   },
   {
    "duration": 0,
    "start_time": "2022-09-27T14:08:24.006Z"
   },
   {
    "duration": 0,
    "start_time": "2022-09-27T14:08:24.007Z"
   },
   {
    "duration": 0,
    "start_time": "2022-09-27T14:08:24.008Z"
   },
   {
    "duration": 0,
    "start_time": "2022-09-27T14:08:24.009Z"
   },
   {
    "duration": 0,
    "start_time": "2022-09-27T14:08:24.011Z"
   },
   {
    "duration": 0,
    "start_time": "2022-09-27T14:08:24.012Z"
   },
   {
    "duration": 0,
    "start_time": "2022-09-27T14:08:24.013Z"
   },
   {
    "duration": 0,
    "start_time": "2022-09-27T14:08:24.014Z"
   },
   {
    "duration": 0,
    "start_time": "2022-09-27T14:08:24.015Z"
   },
   {
    "duration": 0,
    "start_time": "2022-09-27T14:08:24.016Z"
   },
   {
    "duration": 0,
    "start_time": "2022-09-27T14:08:24.016Z"
   },
   {
    "duration": 0,
    "start_time": "2022-09-27T14:08:24.017Z"
   },
   {
    "duration": 15,
    "start_time": "2022-09-27T14:09:07.368Z"
   },
   {
    "duration": 675,
    "start_time": "2022-09-27T14:16:44.548Z"
   },
   {
    "duration": 26,
    "start_time": "2022-09-27T14:16:45.225Z"
   },
   {
    "duration": 15,
    "start_time": "2022-09-27T14:16:45.253Z"
   },
   {
    "duration": 49,
    "start_time": "2022-09-27T14:16:45.271Z"
   },
   {
    "duration": 10,
    "start_time": "2022-09-27T14:16:45.323Z"
   },
   {
    "duration": 1964,
    "start_time": "2022-09-27T14:16:45.335Z"
   },
   {
    "duration": 9,
    "start_time": "2022-09-27T14:16:47.301Z"
   },
   {
    "duration": 6,
    "start_time": "2022-09-27T14:16:47.311Z"
   },
   {
    "duration": 5,
    "start_time": "2022-09-27T14:16:47.318Z"
   },
   {
    "duration": 7,
    "start_time": "2022-09-27T14:16:47.325Z"
   },
   {
    "duration": 13,
    "start_time": "2022-09-27T14:16:47.334Z"
   },
   {
    "duration": 22,
    "start_time": "2022-09-27T14:16:47.349Z"
   },
   {
    "duration": 38,
    "start_time": "2022-09-27T14:16:47.372Z"
   },
   {
    "duration": 3264,
    "start_time": "2022-09-27T14:16:47.412Z"
   },
   {
    "duration": 5,
    "start_time": "2022-09-27T14:16:50.678Z"
   },
   {
    "duration": 31,
    "start_time": "2022-09-27T14:16:50.684Z"
   },
   {
    "duration": 9,
    "start_time": "2022-09-27T14:16:50.717Z"
   },
   {
    "duration": 19,
    "start_time": "2022-09-27T14:16:50.728Z"
   },
   {
    "duration": 15,
    "start_time": "2022-09-27T14:16:50.749Z"
   },
   {
    "duration": 49,
    "start_time": "2022-09-27T14:16:50.766Z"
   },
   {
    "duration": 490,
    "start_time": "2022-09-27T14:16:50.817Z"
   },
   {
    "duration": 35,
    "start_time": "2022-09-27T14:16:51.309Z"
   },
   {
    "duration": 250,
    "start_time": "2022-09-27T14:16:51.345Z"
   },
   {
    "duration": 13,
    "start_time": "2022-09-27T14:16:51.597Z"
   },
   {
    "duration": 491,
    "start_time": "2022-09-27T14:16:51.612Z"
   },
   {
    "duration": 90,
    "start_time": "2022-09-27T14:16:52.104Z"
   },
   {
    "duration": 16,
    "start_time": "2022-09-27T14:16:52.196Z"
   },
   {
    "duration": 290,
    "start_time": "2022-09-27T14:16:52.215Z"
   },
   {
    "duration": 272,
    "start_time": "2022-09-27T14:16:52.507Z"
   },
   {
    "duration": 208,
    "start_time": "2022-09-27T14:16:52.781Z"
   },
   {
    "duration": 27,
    "start_time": "2022-09-27T14:16:52.990Z"
   },
   {
    "duration": 8,
    "start_time": "2022-09-27T14:16:53.019Z"
   },
   {
    "duration": 13,
    "start_time": "2022-09-27T14:16:53.028Z"
   },
   {
    "duration": 65048,
    "start_time": "2022-09-27T14:16:53.043Z"
   },
   {
    "duration": 12,
    "start_time": "2022-09-27T14:17:58.099Z"
   },
   {
    "duration": 78,
    "start_time": "2022-09-27T14:17:58.112Z"
   },
   {
    "duration": 255,
    "start_time": "2022-09-27T14:17:58.192Z"
   },
   {
    "duration": 13,
    "start_time": "2022-09-27T14:17:58.449Z"
   },
   {
    "duration": 275,
    "start_time": "2022-09-27T14:17:58.464Z"
   },
   {
    "duration": 9,
    "start_time": "2022-09-27T14:17:58.741Z"
   },
   {
    "duration": 57,
    "start_time": "2022-09-27T14:17:58.753Z"
   },
   {
    "duration": 8,
    "start_time": "2022-09-27T14:17:58.812Z"
   },
   {
    "duration": 273,
    "start_time": "2022-09-27T14:17:58.821Z"
   },
   {
    "duration": 6533,
    "start_time": "2022-09-27T14:17:59.100Z"
   },
   {
    "duration": 0,
    "start_time": "2022-09-27T14:18:05.635Z"
   },
   {
    "duration": 0,
    "start_time": "2022-09-27T14:18:05.640Z"
   },
   {
    "duration": 0,
    "start_time": "2022-09-27T14:18:05.641Z"
   },
   {
    "duration": 0,
    "start_time": "2022-09-27T14:18:05.642Z"
   },
   {
    "duration": 0,
    "start_time": "2022-09-27T14:18:05.643Z"
   },
   {
    "duration": 0,
    "start_time": "2022-09-27T14:18:05.644Z"
   },
   {
    "duration": 0,
    "start_time": "2022-09-27T14:18:05.645Z"
   },
   {
    "duration": 0,
    "start_time": "2022-09-27T14:18:05.646Z"
   },
   {
    "duration": 0,
    "start_time": "2022-09-27T14:18:05.647Z"
   },
   {
    "duration": 0,
    "start_time": "2022-09-27T14:18:05.648Z"
   },
   {
    "duration": 0,
    "start_time": "2022-09-27T14:18:05.649Z"
   },
   {
    "duration": 1,
    "start_time": "2022-09-27T14:18:05.649Z"
   },
   {
    "duration": 0,
    "start_time": "2022-09-27T14:18:05.650Z"
   },
   {
    "duration": 0,
    "start_time": "2022-09-27T14:18:05.651Z"
   },
   {
    "duration": 0,
    "start_time": "2022-09-27T14:18:05.652Z"
   },
   {
    "duration": 0,
    "start_time": "2022-09-27T14:18:05.653Z"
   },
   {
    "duration": 0,
    "start_time": "2022-09-27T14:18:05.654Z"
   },
   {
    "duration": 0,
    "start_time": "2022-09-27T14:18:05.655Z"
   },
   {
    "duration": 0,
    "start_time": "2022-09-27T14:18:05.656Z"
   },
   {
    "duration": 0,
    "start_time": "2022-09-27T14:18:05.657Z"
   },
   {
    "duration": 0,
    "start_time": "2022-09-27T14:18:05.658Z"
   },
   {
    "duration": 0,
    "start_time": "2022-09-27T14:18:05.659Z"
   },
   {
    "duration": 0,
    "start_time": "2022-09-27T14:18:05.660Z"
   },
   {
    "duration": 0,
    "start_time": "2022-09-27T14:18:05.660Z"
   },
   {
    "duration": 0,
    "start_time": "2022-09-27T14:18:05.661Z"
   },
   {
    "duration": 0,
    "start_time": "2022-09-27T14:18:05.662Z"
   },
   {
    "duration": 0,
    "start_time": "2022-09-27T14:18:05.663Z"
   },
   {
    "duration": 0,
    "start_time": "2022-09-27T14:18:05.664Z"
   },
   {
    "duration": 0,
    "start_time": "2022-09-27T14:18:05.665Z"
   },
   {
    "duration": 0,
    "start_time": "2022-09-27T14:18:05.666Z"
   },
   {
    "duration": 0,
    "start_time": "2022-09-27T14:18:05.667Z"
   },
   {
    "duration": 0,
    "start_time": "2022-09-27T14:18:05.668Z"
   },
   {
    "duration": 0,
    "start_time": "2022-09-27T14:18:05.668Z"
   },
   {
    "duration": 0,
    "start_time": "2022-09-27T14:18:05.669Z"
   },
   {
    "duration": 0,
    "start_time": "2022-09-27T14:18:05.670Z"
   },
   {
    "duration": 0,
    "start_time": "2022-09-27T14:18:05.671Z"
   },
   {
    "duration": 0,
    "start_time": "2022-09-27T14:18:05.672Z"
   },
   {
    "duration": 0,
    "start_time": "2022-09-27T14:18:05.673Z"
   },
   {
    "duration": 0,
    "start_time": "2022-09-27T14:18:05.674Z"
   },
   {
    "duration": 0,
    "start_time": "2022-09-27T14:18:05.674Z"
   },
   {
    "duration": 0,
    "start_time": "2022-09-27T14:18:05.675Z"
   },
   {
    "duration": 0,
    "start_time": "2022-09-27T14:18:05.676Z"
   },
   {
    "duration": 0,
    "start_time": "2022-09-27T14:18:05.677Z"
   },
   {
    "duration": 0,
    "start_time": "2022-09-27T14:18:05.678Z"
   },
   {
    "duration": 1,
    "start_time": "2022-09-27T14:18:05.700Z"
   },
   {
    "duration": 0,
    "start_time": "2022-09-27T14:18:05.702Z"
   },
   {
    "duration": 0,
    "start_time": "2022-09-27T14:18:05.703Z"
   },
   {
    "duration": 0,
    "start_time": "2022-09-27T14:18:05.704Z"
   },
   {
    "duration": 0,
    "start_time": "2022-09-27T14:18:05.705Z"
   },
   {
    "duration": 0,
    "start_time": "2022-09-27T14:18:05.706Z"
   },
   {
    "duration": 0,
    "start_time": "2022-09-27T14:18:05.707Z"
   },
   {
    "duration": 0,
    "start_time": "2022-09-27T14:18:05.708Z"
   },
   {
    "duration": 0,
    "start_time": "2022-09-27T14:18:05.709Z"
   },
   {
    "duration": 0,
    "start_time": "2022-09-27T14:18:05.709Z"
   },
   {
    "duration": 0,
    "start_time": "2022-09-27T14:18:05.710Z"
   },
   {
    "duration": 0,
    "start_time": "2022-09-27T14:18:05.712Z"
   },
   {
    "duration": 0,
    "start_time": "2022-09-27T14:18:05.712Z"
   },
   {
    "duration": 3,
    "start_time": "2022-09-27T14:20:10.664Z"
   },
   {
    "duration": 5890,
    "start_time": "2022-09-27T14:22:55.908Z"
   },
   {
    "duration": 14631,
    "start_time": "2022-09-27T14:24:30.618Z"
   },
   {
    "duration": 8929,
    "start_time": "2022-09-27T14:24:57.884Z"
   },
   {
    "duration": 11805,
    "start_time": "2022-09-27T14:25:32.521Z"
   },
   {
    "duration": 12021,
    "start_time": "2022-09-27T14:26:34.171Z"
   },
   {
    "duration": 12876,
    "start_time": "2022-09-27T14:26:56.033Z"
   },
   {
    "duration": 19,
    "start_time": "2022-09-27T14:27:41.992Z"
   },
   {
    "duration": 13,
    "start_time": "2022-09-27T14:28:07.611Z"
   },
   {
    "duration": 43,
    "start_time": "2022-09-27T14:31:48.242Z"
   },
   {
    "duration": 653,
    "start_time": "2022-09-27T14:31:55.653Z"
   },
   {
    "duration": 28,
    "start_time": "2022-09-27T14:31:56.308Z"
   },
   {
    "duration": 15,
    "start_time": "2022-09-27T14:31:56.337Z"
   },
   {
    "duration": 48,
    "start_time": "2022-09-27T14:31:56.355Z"
   },
   {
    "duration": 9,
    "start_time": "2022-09-27T14:31:56.405Z"
   },
   {
    "duration": 1771,
    "start_time": "2022-09-27T14:31:56.416Z"
   },
   {
    "duration": 10,
    "start_time": "2022-09-27T14:31:58.188Z"
   },
   {
    "duration": 5,
    "start_time": "2022-09-27T14:31:58.199Z"
   },
   {
    "duration": 9,
    "start_time": "2022-09-27T14:31:58.205Z"
   },
   {
    "duration": 4,
    "start_time": "2022-09-27T14:31:58.216Z"
   },
   {
    "duration": 17,
    "start_time": "2022-09-27T14:31:58.222Z"
   },
   {
    "duration": 23,
    "start_time": "2022-09-27T14:31:58.241Z"
   },
   {
    "duration": 34,
    "start_time": "2022-09-27T14:31:58.266Z"
   },
   {
    "duration": 3216,
    "start_time": "2022-09-27T14:31:58.302Z"
   },
   {
    "duration": 5,
    "start_time": "2022-09-27T14:32:01.519Z"
   },
   {
    "duration": 14,
    "start_time": "2022-09-27T14:32:01.525Z"
   },
   {
    "duration": 6,
    "start_time": "2022-09-27T14:32:01.541Z"
   },
   {
    "duration": 22,
    "start_time": "2022-09-27T14:32:01.549Z"
   },
   {
    "duration": 42,
    "start_time": "2022-09-27T14:32:01.573Z"
   },
   {
    "duration": 27,
    "start_time": "2022-09-27T14:32:01.617Z"
   },
   {
    "duration": 505,
    "start_time": "2022-09-27T14:32:01.646Z"
   },
   {
    "duration": 58,
    "start_time": "2022-09-27T14:32:02.153Z"
   },
   {
    "duration": 235,
    "start_time": "2022-09-27T14:32:02.212Z"
   },
   {
    "duration": 13,
    "start_time": "2022-09-27T14:32:02.449Z"
   },
   {
    "duration": 491,
    "start_time": "2022-09-27T14:32:02.463Z"
   },
   {
    "duration": 88,
    "start_time": "2022-09-27T14:32:02.956Z"
   },
   {
    "duration": 11,
    "start_time": "2022-09-27T14:32:03.045Z"
   },
   {
    "duration": 294,
    "start_time": "2022-09-27T14:32:03.061Z"
   },
   {
    "duration": 243,
    "start_time": "2022-09-27T14:32:03.357Z"
   },
   {
    "duration": 222,
    "start_time": "2022-09-27T14:32:03.602Z"
   },
   {
    "duration": 20,
    "start_time": "2022-09-27T14:32:03.826Z"
   },
   {
    "duration": 13,
    "start_time": "2022-09-27T14:32:03.847Z"
   },
   {
    "duration": 53,
    "start_time": "2022-09-27T14:32:03.862Z"
   },
   {
    "duration": 64753,
    "start_time": "2022-09-27T14:32:03.917Z"
   },
   {
    "duration": 8,
    "start_time": "2022-09-27T14:33:08.672Z"
   },
   {
    "duration": 87,
    "start_time": "2022-09-27T14:33:08.681Z"
   },
   {
    "duration": 225,
    "start_time": "2022-09-27T14:33:08.769Z"
   },
   {
    "duration": 14,
    "start_time": "2022-09-27T14:33:08.995Z"
   },
   {
    "duration": 240,
    "start_time": "2022-09-27T14:33:09.011Z"
   },
   {
    "duration": 9,
    "start_time": "2022-09-27T14:33:09.252Z"
   },
   {
    "duration": 54,
    "start_time": "2022-09-27T14:33:09.262Z"
   },
   {
    "duration": 8,
    "start_time": "2022-09-27T14:33:09.318Z"
   },
   {
    "duration": 254,
    "start_time": "2022-09-27T14:33:09.328Z"
   },
   {
    "duration": 41,
    "start_time": "2022-09-27T14:33:09.584Z"
   },
   {
    "duration": 0,
    "start_time": "2022-09-27T14:33:09.627Z"
   },
   {
    "duration": 0,
    "start_time": "2022-09-27T14:33:09.629Z"
   },
   {
    "duration": 0,
    "start_time": "2022-09-27T14:33:09.630Z"
   },
   {
    "duration": 0,
    "start_time": "2022-09-27T14:33:09.631Z"
   },
   {
    "duration": 0,
    "start_time": "2022-09-27T14:33:09.632Z"
   },
   {
    "duration": 0,
    "start_time": "2022-09-27T14:33:09.633Z"
   },
   {
    "duration": 0,
    "start_time": "2022-09-27T14:33:09.634Z"
   },
   {
    "duration": 0,
    "start_time": "2022-09-27T14:33:09.635Z"
   },
   {
    "duration": 0,
    "start_time": "2022-09-27T14:33:09.636Z"
   },
   {
    "duration": 0,
    "start_time": "2022-09-27T14:33:09.637Z"
   },
   {
    "duration": 0,
    "start_time": "2022-09-27T14:33:09.638Z"
   },
   {
    "duration": 0,
    "start_time": "2022-09-27T14:33:09.639Z"
   },
   {
    "duration": 0,
    "start_time": "2022-09-27T14:33:09.640Z"
   },
   {
    "duration": 0,
    "start_time": "2022-09-27T14:33:09.641Z"
   },
   {
    "duration": 0,
    "start_time": "2022-09-27T14:33:09.642Z"
   },
   {
    "duration": 0,
    "start_time": "2022-09-27T14:33:09.643Z"
   },
   {
    "duration": 0,
    "start_time": "2022-09-27T14:33:09.644Z"
   },
   {
    "duration": 0,
    "start_time": "2022-09-27T14:33:09.645Z"
   },
   {
    "duration": 0,
    "start_time": "2022-09-27T14:33:09.646Z"
   },
   {
    "duration": 0,
    "start_time": "2022-09-27T14:33:09.647Z"
   },
   {
    "duration": 0,
    "start_time": "2022-09-27T14:33:09.648Z"
   },
   {
    "duration": 0,
    "start_time": "2022-09-27T14:33:09.649Z"
   },
   {
    "duration": 0,
    "start_time": "2022-09-27T14:33:09.650Z"
   },
   {
    "duration": 0,
    "start_time": "2022-09-27T14:33:09.651Z"
   },
   {
    "duration": 0,
    "start_time": "2022-09-27T14:33:09.652Z"
   },
   {
    "duration": 0,
    "start_time": "2022-09-27T14:33:09.653Z"
   },
   {
    "duration": 0,
    "start_time": "2022-09-27T14:33:09.700Z"
   },
   {
    "duration": 0,
    "start_time": "2022-09-27T14:33:09.701Z"
   },
   {
    "duration": 0,
    "start_time": "2022-09-27T14:33:09.702Z"
   },
   {
    "duration": 0,
    "start_time": "2022-09-27T14:33:09.704Z"
   },
   {
    "duration": 0,
    "start_time": "2022-09-27T14:33:09.704Z"
   },
   {
    "duration": 0,
    "start_time": "2022-09-27T14:33:09.706Z"
   },
   {
    "duration": 0,
    "start_time": "2022-09-27T14:33:09.706Z"
   },
   {
    "duration": 0,
    "start_time": "2022-09-27T14:33:09.707Z"
   },
   {
    "duration": 0,
    "start_time": "2022-09-27T14:33:09.709Z"
   },
   {
    "duration": 0,
    "start_time": "2022-09-27T14:33:09.709Z"
   },
   {
    "duration": 1,
    "start_time": "2022-09-27T14:33:09.710Z"
   },
   {
    "duration": 0,
    "start_time": "2022-09-27T14:33:09.712Z"
   },
   {
    "duration": 0,
    "start_time": "2022-09-27T14:33:09.712Z"
   },
   {
    "duration": 0,
    "start_time": "2022-09-27T14:33:09.714Z"
   },
   {
    "duration": 0,
    "start_time": "2022-09-27T14:33:09.715Z"
   },
   {
    "duration": 0,
    "start_time": "2022-09-27T14:33:09.715Z"
   },
   {
    "duration": 0,
    "start_time": "2022-09-27T14:33:09.717Z"
   },
   {
    "duration": 0,
    "start_time": "2022-09-27T14:33:09.718Z"
   },
   {
    "duration": 0,
    "start_time": "2022-09-27T14:33:09.719Z"
   },
   {
    "duration": 0,
    "start_time": "2022-09-27T14:33:09.719Z"
   },
   {
    "duration": 0,
    "start_time": "2022-09-27T14:33:09.720Z"
   },
   {
    "duration": 0,
    "start_time": "2022-09-27T14:33:09.721Z"
   },
   {
    "duration": 0,
    "start_time": "2022-09-27T14:33:09.722Z"
   },
   {
    "duration": 0,
    "start_time": "2022-09-27T14:33:09.723Z"
   },
   {
    "duration": 0,
    "start_time": "2022-09-27T14:33:09.724Z"
   },
   {
    "duration": 0,
    "start_time": "2022-09-27T14:33:09.725Z"
   },
   {
    "duration": 0,
    "start_time": "2022-09-27T14:33:09.725Z"
   },
   {
    "duration": 0,
    "start_time": "2022-09-27T14:33:09.726Z"
   },
   {
    "duration": 0,
    "start_time": "2022-09-27T14:33:09.727Z"
   },
   {
    "duration": 0,
    "start_time": "2022-09-27T14:33:09.728Z"
   },
   {
    "duration": 0,
    "start_time": "2022-09-27T14:33:09.729Z"
   },
   {
    "duration": 16,
    "start_time": "2022-09-27T14:34:01.456Z"
   },
   {
    "duration": 83,
    "start_time": "2022-09-27T14:34:32.449Z"
   },
   {
    "duration": 23,
    "start_time": "2022-09-27T14:34:32.534Z"
   },
   {
    "duration": 14,
    "start_time": "2022-09-27T14:34:32.558Z"
   },
   {
    "duration": 41,
    "start_time": "2022-09-27T14:34:32.574Z"
   },
   {
    "duration": 9,
    "start_time": "2022-09-27T14:34:32.617Z"
   },
   {
    "duration": 1979,
    "start_time": "2022-09-27T14:34:32.628Z"
   },
   {
    "duration": 13,
    "start_time": "2022-09-27T14:34:34.609Z"
   },
   {
    "duration": 6,
    "start_time": "2022-09-27T14:34:34.624Z"
   },
   {
    "duration": 8,
    "start_time": "2022-09-27T14:34:34.632Z"
   },
   {
    "duration": 13,
    "start_time": "2022-09-27T14:34:34.644Z"
   },
   {
    "duration": 20,
    "start_time": "2022-09-27T14:34:34.659Z"
   },
   {
    "duration": 22,
    "start_time": "2022-09-27T14:34:34.700Z"
   },
   {
    "duration": 10,
    "start_time": "2022-09-27T14:34:34.723Z"
   },
   {
    "duration": 3234,
    "start_time": "2022-09-27T14:34:34.735Z"
   },
   {
    "duration": 5,
    "start_time": "2022-09-27T14:34:37.971Z"
   },
   {
    "duration": 22,
    "start_time": "2022-09-27T14:34:37.978Z"
   },
   {
    "duration": 8,
    "start_time": "2022-09-27T14:34:38.002Z"
   },
   {
    "duration": 20,
    "start_time": "2022-09-27T14:34:38.012Z"
   },
   {
    "duration": 15,
    "start_time": "2022-09-27T14:34:38.034Z"
   },
   {
    "duration": 59,
    "start_time": "2022-09-27T14:34:38.052Z"
   },
   {
    "duration": 522,
    "start_time": "2022-09-27T14:34:38.112Z"
   },
   {
    "duration": 36,
    "start_time": "2022-09-27T14:34:38.636Z"
   },
   {
    "duration": 228,
    "start_time": "2022-09-27T14:34:38.675Z"
   },
   {
    "duration": 13,
    "start_time": "2022-09-27T14:34:38.905Z"
   },
   {
    "duration": 476,
    "start_time": "2022-09-27T14:34:38.920Z"
   },
   {
    "duration": 96,
    "start_time": "2022-09-27T14:34:39.397Z"
   },
   {
    "duration": 12,
    "start_time": "2022-09-27T14:34:39.495Z"
   },
   {
    "duration": 374,
    "start_time": "2022-09-27T14:34:39.512Z"
   },
   {
    "duration": 159,
    "start_time": "2022-09-27T14:34:39.888Z"
   },
   {
    "duration": 200,
    "start_time": "2022-09-27T14:34:40.049Z"
   },
   {
    "duration": 20,
    "start_time": "2022-09-27T14:34:40.251Z"
   },
   {
    "duration": 9,
    "start_time": "2022-09-27T14:34:40.273Z"
   },
   {
    "duration": 3,
    "start_time": "2022-09-27T14:34:40.301Z"
   },
   {
    "duration": 65224,
    "start_time": "2022-09-27T14:34:40.306Z"
   },
   {
    "duration": 8,
    "start_time": "2022-09-27T14:35:45.531Z"
   },
   {
    "duration": 74,
    "start_time": "2022-09-27T14:35:45.540Z"
   },
   {
    "duration": 229,
    "start_time": "2022-09-27T14:35:45.616Z"
   },
   {
    "duration": 10,
    "start_time": "2022-09-27T14:35:45.847Z"
   },
   {
    "duration": 252,
    "start_time": "2022-09-27T14:35:45.858Z"
   },
   {
    "duration": 8,
    "start_time": "2022-09-27T14:35:46.112Z"
   },
   {
    "duration": 44,
    "start_time": "2022-09-27T14:35:46.122Z"
   },
   {
    "duration": 10,
    "start_time": "2022-09-27T14:35:46.168Z"
   },
   {
    "duration": 282,
    "start_time": "2022-09-27T14:35:46.179Z"
   },
   {
    "duration": 12442,
    "start_time": "2022-09-27T14:35:46.462Z"
   },
   {
    "duration": 0,
    "start_time": "2022-09-27T14:35:58.907Z"
   },
   {
    "duration": 0,
    "start_time": "2022-09-27T14:35:58.907Z"
   },
   {
    "duration": 0,
    "start_time": "2022-09-27T14:35:58.909Z"
   },
   {
    "duration": 0,
    "start_time": "2022-09-27T14:35:58.910Z"
   },
   {
    "duration": 0,
    "start_time": "2022-09-27T14:35:58.911Z"
   },
   {
    "duration": 0,
    "start_time": "2022-09-27T14:35:58.912Z"
   },
   {
    "duration": 0,
    "start_time": "2022-09-27T14:35:58.912Z"
   },
   {
    "duration": 0,
    "start_time": "2022-09-27T14:35:58.913Z"
   },
   {
    "duration": 0,
    "start_time": "2022-09-27T14:35:58.915Z"
   },
   {
    "duration": 0,
    "start_time": "2022-09-27T14:35:58.916Z"
   },
   {
    "duration": 0,
    "start_time": "2022-09-27T14:35:58.917Z"
   },
   {
    "duration": 0,
    "start_time": "2022-09-27T14:35:58.918Z"
   },
   {
    "duration": 0,
    "start_time": "2022-09-27T14:35:58.919Z"
   },
   {
    "duration": 0,
    "start_time": "2022-09-27T14:35:58.921Z"
   },
   {
    "duration": 0,
    "start_time": "2022-09-27T14:35:58.922Z"
   },
   {
    "duration": 0,
    "start_time": "2022-09-27T14:35:58.923Z"
   },
   {
    "duration": 0,
    "start_time": "2022-09-27T14:35:58.924Z"
   },
   {
    "duration": 0,
    "start_time": "2022-09-27T14:35:58.925Z"
   },
   {
    "duration": 0,
    "start_time": "2022-09-27T14:35:58.926Z"
   },
   {
    "duration": 0,
    "start_time": "2022-09-27T14:35:58.928Z"
   },
   {
    "duration": 0,
    "start_time": "2022-09-27T14:35:58.929Z"
   },
   {
    "duration": 0,
    "start_time": "2022-09-27T14:35:58.930Z"
   },
   {
    "duration": 0,
    "start_time": "2022-09-27T14:35:58.931Z"
   },
   {
    "duration": 0,
    "start_time": "2022-09-27T14:35:58.934Z"
   },
   {
    "duration": 0,
    "start_time": "2022-09-27T14:35:58.935Z"
   },
   {
    "duration": 0,
    "start_time": "2022-09-27T14:35:58.936Z"
   },
   {
    "duration": 0,
    "start_time": "2022-09-27T14:35:58.937Z"
   },
   {
    "duration": 0,
    "start_time": "2022-09-27T14:35:58.939Z"
   },
   {
    "duration": 0,
    "start_time": "2022-09-27T14:35:58.940Z"
   },
   {
    "duration": 0,
    "start_time": "2022-09-27T14:35:58.941Z"
   },
   {
    "duration": 0,
    "start_time": "2022-09-27T14:35:59.001Z"
   },
   {
    "duration": 0,
    "start_time": "2022-09-27T14:35:59.002Z"
   },
   {
    "duration": 0,
    "start_time": "2022-09-27T14:35:59.003Z"
   },
   {
    "duration": 0,
    "start_time": "2022-09-27T14:35:59.004Z"
   },
   {
    "duration": 0,
    "start_time": "2022-09-27T14:35:59.005Z"
   },
   {
    "duration": 0,
    "start_time": "2022-09-27T14:35:59.006Z"
   },
   {
    "duration": 0,
    "start_time": "2022-09-27T14:35:59.007Z"
   },
   {
    "duration": 0,
    "start_time": "2022-09-27T14:35:59.007Z"
   },
   {
    "duration": 0,
    "start_time": "2022-09-27T14:35:59.008Z"
   },
   {
    "duration": 0,
    "start_time": "2022-09-27T14:35:59.009Z"
   },
   {
    "duration": 0,
    "start_time": "2022-09-27T14:35:59.010Z"
   },
   {
    "duration": 0,
    "start_time": "2022-09-27T14:35:59.011Z"
   },
   {
    "duration": 0,
    "start_time": "2022-09-27T14:35:59.012Z"
   },
   {
    "duration": 0,
    "start_time": "2022-09-27T14:35:59.013Z"
   },
   {
    "duration": 0,
    "start_time": "2022-09-27T14:35:59.013Z"
   },
   {
    "duration": 0,
    "start_time": "2022-09-27T14:35:59.014Z"
   },
   {
    "duration": 0,
    "start_time": "2022-09-27T14:35:59.015Z"
   },
   {
    "duration": 0,
    "start_time": "2022-09-27T14:35:59.017Z"
   },
   {
    "duration": 0,
    "start_time": "2022-09-27T14:35:59.018Z"
   },
   {
    "duration": 0,
    "start_time": "2022-09-27T14:35:59.018Z"
   },
   {
    "duration": 0,
    "start_time": "2022-09-27T14:35:59.019Z"
   },
   {
    "duration": 0,
    "start_time": "2022-09-27T14:35:59.021Z"
   },
   {
    "duration": 0,
    "start_time": "2022-09-27T14:35:59.022Z"
   },
   {
    "duration": 0,
    "start_time": "2022-09-27T14:35:59.023Z"
   },
   {
    "duration": 0,
    "start_time": "2022-09-27T14:35:59.024Z"
   },
   {
    "duration": 0,
    "start_time": "2022-09-27T14:35:59.025Z"
   },
   {
    "duration": 0,
    "start_time": "2022-09-27T14:35:59.026Z"
   },
   {
    "duration": 12804,
    "start_time": "2022-09-27T14:37:09.973Z"
   },
   {
    "duration": 6274,
    "start_time": "2022-09-27T14:39:54.946Z"
   },
   {
    "duration": 251,
    "start_time": "2022-09-27T14:40:01.685Z"
   },
   {
    "duration": 14,
    "start_time": "2022-09-27T14:40:08.941Z"
   },
   {
    "duration": 260,
    "start_time": "2022-09-27T14:40:53.842Z"
   },
   {
    "duration": 15,
    "start_time": "2022-09-27T14:41:48.198Z"
   },
   {
    "duration": 45,
    "start_time": "2022-09-27T14:47:33.056Z"
   },
   {
    "duration": 706,
    "start_time": "2022-09-27T14:47:37.560Z"
   },
   {
    "duration": 38,
    "start_time": "2022-09-27T14:47:38.268Z"
   },
   {
    "duration": 15,
    "start_time": "2022-09-27T14:47:38.308Z"
   },
   {
    "duration": 23,
    "start_time": "2022-09-27T14:47:38.325Z"
   },
   {
    "duration": 14,
    "start_time": "2022-09-27T14:47:38.349Z"
   },
   {
    "duration": 1846,
    "start_time": "2022-09-27T14:47:38.365Z"
   },
   {
    "duration": 13,
    "start_time": "2022-09-27T14:47:40.213Z"
   },
   {
    "duration": 6,
    "start_time": "2022-09-27T14:47:40.227Z"
   },
   {
    "duration": 5,
    "start_time": "2022-09-27T14:47:40.235Z"
   },
   {
    "duration": 4,
    "start_time": "2022-09-27T14:47:40.244Z"
   },
   {
    "duration": 17,
    "start_time": "2022-09-27T14:47:40.249Z"
   },
   {
    "duration": 49,
    "start_time": "2022-09-27T14:47:40.268Z"
   },
   {
    "duration": 12,
    "start_time": "2022-09-27T14:47:40.319Z"
   },
   {
    "duration": 3221,
    "start_time": "2022-09-27T14:47:40.333Z"
   },
   {
    "duration": 6,
    "start_time": "2022-09-27T14:47:43.555Z"
   },
   {
    "duration": 14,
    "start_time": "2022-09-27T14:47:43.562Z"
   },
   {
    "duration": 23,
    "start_time": "2022-09-27T14:47:43.578Z"
   },
   {
    "duration": 20,
    "start_time": "2022-09-27T14:47:43.603Z"
   },
   {
    "duration": 17,
    "start_time": "2022-09-27T14:47:43.631Z"
   },
   {
    "duration": 25,
    "start_time": "2022-09-27T14:47:43.650Z"
   },
   {
    "duration": 534,
    "start_time": "2022-09-27T14:47:43.676Z"
   },
   {
    "duration": 40,
    "start_time": "2022-09-27T14:47:44.211Z"
   },
   {
    "duration": 252,
    "start_time": "2022-09-27T14:47:44.252Z"
   },
   {
    "duration": 16,
    "start_time": "2022-09-27T14:47:44.506Z"
   },
   {
    "duration": 493,
    "start_time": "2022-09-27T14:47:44.524Z"
   },
   {
    "duration": 93,
    "start_time": "2022-09-27T14:47:45.019Z"
   },
   {
    "duration": 11,
    "start_time": "2022-09-27T14:47:45.114Z"
   },
   {
    "duration": 253,
    "start_time": "2022-09-27T14:47:45.129Z"
   },
   {
    "duration": 220,
    "start_time": "2022-09-27T14:47:45.384Z"
   },
   {
    "duration": 207,
    "start_time": "2022-09-27T14:47:45.606Z"
   },
   {
    "duration": 21,
    "start_time": "2022-09-27T14:47:45.815Z"
   },
   {
    "duration": 25,
    "start_time": "2022-09-27T14:47:45.837Z"
   },
   {
    "duration": 30,
    "start_time": "2022-09-27T14:47:45.863Z"
   },
   {
    "duration": 63128,
    "start_time": "2022-09-27T14:47:45.894Z"
   },
   {
    "duration": 9,
    "start_time": "2022-09-27T14:48:49.023Z"
   },
   {
    "duration": 75,
    "start_time": "2022-09-27T14:48:49.034Z"
   },
   {
    "duration": 237,
    "start_time": "2022-09-27T14:48:49.111Z"
   },
   {
    "duration": 12,
    "start_time": "2022-09-27T14:48:49.350Z"
   },
   {
    "duration": 267,
    "start_time": "2022-09-27T14:48:49.364Z"
   },
   {
    "duration": 9,
    "start_time": "2022-09-27T14:48:49.633Z"
   },
   {
    "duration": 35,
    "start_time": "2022-09-27T14:48:49.643Z"
   },
   {
    "duration": 30,
    "start_time": "2022-09-27T14:48:49.680Z"
   },
   {
    "duration": 5838,
    "start_time": "2022-09-27T14:48:49.983Z"
   },
   {
    "duration": 244,
    "start_time": "2022-09-27T14:48:55.823Z"
   },
   {
    "duration": 15,
    "start_time": "2022-09-27T14:48:56.068Z"
   },
   {
    "duration": 322,
    "start_time": "2022-09-27T14:48:56.085Z"
   },
   {
    "duration": 11,
    "start_time": "2022-09-27T14:48:56.409Z"
   },
   {
    "duration": 42,
    "start_time": "2022-09-27T14:48:56.421Z"
   },
   {
    "duration": 0,
    "start_time": "2022-09-27T14:48:56.465Z"
   },
   {
    "duration": 0,
    "start_time": "2022-09-27T14:48:56.467Z"
   },
   {
    "duration": 1,
    "start_time": "2022-09-27T14:48:56.467Z"
   },
   {
    "duration": 0,
    "start_time": "2022-09-27T14:48:56.468Z"
   },
   {
    "duration": 0,
    "start_time": "2022-09-27T14:48:56.572Z"
   },
   {
    "duration": 0,
    "start_time": "2022-09-27T14:48:56.573Z"
   },
   {
    "duration": 0,
    "start_time": "2022-09-27T14:48:56.575Z"
   },
   {
    "duration": 0,
    "start_time": "2022-09-27T14:48:56.576Z"
   },
   {
    "duration": 0,
    "start_time": "2022-09-27T14:48:56.578Z"
   },
   {
    "duration": 0,
    "start_time": "2022-09-27T14:48:56.579Z"
   },
   {
    "duration": 0,
    "start_time": "2022-09-27T14:48:56.581Z"
   },
   {
    "duration": 0,
    "start_time": "2022-09-27T14:48:56.582Z"
   },
   {
    "duration": 0,
    "start_time": "2022-09-27T14:48:56.583Z"
   },
   {
    "duration": 0,
    "start_time": "2022-09-27T14:48:56.584Z"
   },
   {
    "duration": 0,
    "start_time": "2022-09-27T14:48:56.600Z"
   },
   {
    "duration": 0,
    "start_time": "2022-09-27T14:48:56.601Z"
   },
   {
    "duration": 0,
    "start_time": "2022-09-27T14:48:56.602Z"
   },
   {
    "duration": 0,
    "start_time": "2022-09-27T14:48:56.603Z"
   },
   {
    "duration": 0,
    "start_time": "2022-09-27T14:48:56.604Z"
   },
   {
    "duration": 0,
    "start_time": "2022-09-27T14:48:56.604Z"
   },
   {
    "duration": 0,
    "start_time": "2022-09-27T14:48:56.605Z"
   },
   {
    "duration": 0,
    "start_time": "2022-09-27T14:48:56.606Z"
   },
   {
    "duration": 0,
    "start_time": "2022-09-27T14:48:56.607Z"
   },
   {
    "duration": 0,
    "start_time": "2022-09-27T14:48:56.607Z"
   },
   {
    "duration": 0,
    "start_time": "2022-09-27T14:48:56.608Z"
   },
   {
    "duration": 0,
    "start_time": "2022-09-27T14:48:56.609Z"
   },
   {
    "duration": 0,
    "start_time": "2022-09-27T14:48:56.610Z"
   },
   {
    "duration": 0,
    "start_time": "2022-09-27T14:48:56.611Z"
   },
   {
    "duration": 0,
    "start_time": "2022-09-27T14:48:56.612Z"
   },
   {
    "duration": 0,
    "start_time": "2022-09-27T14:48:56.613Z"
   },
   {
    "duration": 0,
    "start_time": "2022-09-27T14:48:56.614Z"
   },
   {
    "duration": 0,
    "start_time": "2022-09-27T14:48:56.615Z"
   },
   {
    "duration": 0,
    "start_time": "2022-09-27T14:48:56.616Z"
   },
   {
    "duration": 0,
    "start_time": "2022-09-27T14:48:56.617Z"
   },
   {
    "duration": 0,
    "start_time": "2022-09-27T14:48:56.618Z"
   },
   {
    "duration": 0,
    "start_time": "2022-09-27T14:48:56.620Z"
   },
   {
    "duration": 0,
    "start_time": "2022-09-27T14:48:56.622Z"
   },
   {
    "duration": 0,
    "start_time": "2022-09-27T14:48:56.623Z"
   },
   {
    "duration": 0,
    "start_time": "2022-09-27T14:48:56.624Z"
   },
   {
    "duration": 0,
    "start_time": "2022-09-27T14:48:56.626Z"
   },
   {
    "duration": 0,
    "start_time": "2022-09-27T14:48:56.627Z"
   },
   {
    "duration": 0,
    "start_time": "2022-09-27T14:48:56.629Z"
   },
   {
    "duration": 0,
    "start_time": "2022-09-27T14:48:56.630Z"
   },
   {
    "duration": 0,
    "start_time": "2022-09-27T14:48:56.632Z"
   },
   {
    "duration": 0,
    "start_time": "2022-09-27T14:48:56.634Z"
   },
   {
    "duration": 0,
    "start_time": "2022-09-27T14:48:56.635Z"
   },
   {
    "duration": 0,
    "start_time": "2022-09-27T14:48:56.637Z"
   },
   {
    "duration": 0,
    "start_time": "2022-09-27T14:48:56.639Z"
   },
   {
    "duration": 0,
    "start_time": "2022-09-27T14:48:56.640Z"
   },
   {
    "duration": 0,
    "start_time": "2022-09-27T14:48:56.642Z"
   },
   {
    "duration": 0,
    "start_time": "2022-09-27T14:48:56.702Z"
   },
   {
    "duration": 0,
    "start_time": "2022-09-27T14:48:56.703Z"
   },
   {
    "duration": 6,
    "start_time": "2022-09-27T15:16:51.955Z"
   },
   {
    "duration": 8,
    "start_time": "2022-09-27T15:29:11.335Z"
   },
   {
    "duration": 3,
    "start_time": "2022-09-27T15:29:20.302Z"
   },
   {
    "duration": 63,
    "start_time": "2022-09-27T15:29:23.179Z"
   },
   {
    "duration": 63,
    "start_time": "2022-09-27T15:29:40.555Z"
   },
   {
    "duration": 6,
    "start_time": "2022-09-27T15:29:57.244Z"
   },
   {
    "duration": 292,
    "start_time": "2022-09-27T15:30:02.645Z"
   },
   {
    "duration": 4,
    "start_time": "2022-09-27T15:30:08.178Z"
   },
   {
    "duration": 532,
    "start_time": "2022-09-27T15:30:20.622Z"
   },
   {
    "duration": 459,
    "start_time": "2022-09-27T15:31:05.372Z"
   },
   {
    "duration": 479,
    "start_time": "2022-09-27T15:32:07.862Z"
   },
   {
    "duration": 250,
    "start_time": "2022-09-27T15:33:40.761Z"
   },
   {
    "duration": 219,
    "start_time": "2022-09-27T15:34:17.492Z"
   },
   {
    "duration": 372,
    "start_time": "2022-09-27T15:35:01.846Z"
   },
   {
    "duration": 376,
    "start_time": "2022-09-27T15:35:14.164Z"
   },
   {
    "duration": 8,
    "start_time": "2022-09-27T15:35:49.755Z"
   },
   {
    "duration": 4,
    "start_time": "2022-09-27T15:36:12.796Z"
   },
   {
    "duration": 231,
    "start_time": "2022-09-27T15:36:18.048Z"
   },
   {
    "duration": 213,
    "start_time": "2022-09-27T15:36:26.456Z"
   },
   {
    "duration": 219,
    "start_time": "2022-09-27T15:36:40.031Z"
   },
   {
    "duration": 266,
    "start_time": "2022-09-27T15:36:46.157Z"
   },
   {
    "duration": 426,
    "start_time": "2022-09-27T15:36:52.898Z"
   },
   {
    "duration": 299,
    "start_time": "2022-09-27T15:37:02.031Z"
   },
   {
    "duration": 13,
    "start_time": "2022-09-27T15:37:23.831Z"
   },
   {
    "duration": 217,
    "start_time": "2022-09-27T15:37:26.462Z"
   },
   {
    "duration": 262,
    "start_time": "2022-09-27T15:37:33.677Z"
   },
   {
    "duration": 617,
    "start_time": "2022-09-27T15:38:14.895Z"
   },
   {
    "duration": 485,
    "start_time": "2022-09-27T15:39:52.936Z"
   },
   {
    "duration": 292,
    "start_time": "2022-09-27T15:40:24.644Z"
   },
   {
    "duration": 317,
    "start_time": "2022-09-27T15:40:32.958Z"
   },
   {
    "duration": 7,
    "start_time": "2022-09-27T15:40:38.364Z"
   },
   {
    "duration": 424,
    "start_time": "2022-09-27T15:43:00.808Z"
   },
   {
    "duration": 957,
    "start_time": "2022-09-27T15:45:52.533Z"
   },
   {
    "duration": 188,
    "start_time": "2022-09-27T15:47:55.103Z"
   },
   {
    "duration": 536,
    "start_time": "2022-09-27T15:48:40.508Z"
   },
   {
    "duration": 562,
    "start_time": "2022-09-27T15:49:44.533Z"
   },
   {
    "duration": 16,
    "start_time": "2022-09-27T15:50:10.825Z"
   },
   {
    "duration": 11,
    "start_time": "2022-09-27T15:50:16.866Z"
   },
   {
    "duration": 28,
    "start_time": "2022-09-27T15:50:24.861Z"
   },
   {
    "duration": 23,
    "start_time": "2022-09-27T15:51:03.992Z"
   },
   {
    "duration": 6324,
    "start_time": "2022-09-27T15:52:33.908Z"
   },
   {
    "duration": 1866,
    "start_time": "2022-09-27T15:54:43.591Z"
   },
   {
    "duration": 2598,
    "start_time": "2022-09-27T15:55:49.567Z"
   },
   {
    "duration": 724,
    "start_time": "2022-09-27T16:02:53.862Z"
   },
   {
    "duration": 174,
    "start_time": "2022-09-27T16:29:53.548Z"
   },
   {
    "duration": 14,
    "start_time": "2022-09-27T16:56:16.233Z"
   },
   {
    "duration": 208,
    "start_time": "2022-09-27T16:57:05.354Z"
   },
   {
    "duration": 217,
    "start_time": "2022-09-27T16:58:33.392Z"
   },
   {
    "duration": 350,
    "start_time": "2022-09-27T16:58:51.851Z"
   },
   {
    "duration": 199,
    "start_time": "2022-09-27T17:00:01.113Z"
   },
   {
    "duration": 379,
    "start_time": "2022-09-27T17:01:19.829Z"
   },
   {
    "duration": 386,
    "start_time": "2022-09-27T17:01:45.340Z"
   },
   {
    "duration": 149,
    "start_time": "2022-09-27T17:03:06.282Z"
   },
   {
    "duration": 1112,
    "start_time": "2022-09-27T17:03:22.772Z"
   },
   {
    "duration": 278,
    "start_time": "2022-09-27T17:03:41.623Z"
   },
   {
    "duration": 216,
    "start_time": "2022-09-27T17:04:19.698Z"
   },
   {
    "duration": 264,
    "start_time": "2022-09-27T17:04:45.807Z"
   },
   {
    "duration": 286,
    "start_time": "2022-09-27T17:05:30.523Z"
   },
   {
    "duration": 1062,
    "start_time": "2022-09-27T17:09:57.265Z"
   },
   {
    "duration": 269,
    "start_time": "2022-09-27T17:10:22.371Z"
   },
   {
    "duration": 259,
    "start_time": "2022-09-27T17:10:56.428Z"
   },
   {
    "duration": 421,
    "start_time": "2022-09-27T17:13:47.647Z"
   },
   {
    "duration": 191,
    "start_time": "2022-09-27T17:18:04.018Z"
   },
   {
    "duration": 173,
    "start_time": "2022-09-27T17:18:27.154Z"
   },
   {
    "duration": 150,
    "start_time": "2022-09-27T17:19:03.650Z"
   },
   {
    "duration": 279,
    "start_time": "2022-09-27T17:19:53.764Z"
   },
   {
    "duration": 299,
    "start_time": "2022-09-27T17:21:01.942Z"
   },
   {
    "duration": 264,
    "start_time": "2022-09-27T17:21:36.402Z"
   },
   {
    "duration": 287,
    "start_time": "2022-09-27T17:21:42.717Z"
   },
   {
    "duration": 250,
    "start_time": "2022-09-27T17:21:50.162Z"
   },
   {
    "duration": 248,
    "start_time": "2022-09-27T17:21:59.259Z"
   },
   {
    "duration": 214,
    "start_time": "2022-09-27T17:22:08.114Z"
   },
   {
    "duration": 187,
    "start_time": "2022-09-27T17:22:17.660Z"
   },
   {
    "duration": 211,
    "start_time": "2022-09-27T17:22:28.436Z"
   },
   {
    "duration": 191,
    "start_time": "2022-09-27T17:22:47.869Z"
   },
   {
    "duration": 229,
    "start_time": "2022-09-27T17:22:57.436Z"
   },
   {
    "duration": 273,
    "start_time": "2022-09-27T17:23:30.727Z"
   },
   {
    "duration": 41,
    "start_time": "2022-09-27T17:25:13.404Z"
   },
   {
    "duration": 14,
    "start_time": "2022-09-27T17:26:07.432Z"
   },
   {
    "duration": 35,
    "start_time": "2022-09-27T17:26:18.544Z"
   },
   {
    "duration": 52,
    "start_time": "2022-09-27T17:27:14.526Z"
   },
   {
    "duration": 36,
    "start_time": "2022-09-27T17:28:51.276Z"
   },
   {
    "duration": 50,
    "start_time": "2022-09-27T17:30:27.128Z"
   },
   {
    "duration": 36,
    "start_time": "2022-09-27T17:31:09.674Z"
   },
   {
    "duration": 212,
    "start_time": "2022-09-27T17:34:19.821Z"
   },
   {
    "duration": 277,
    "start_time": "2022-09-27T17:34:27.828Z"
   },
   {
    "duration": 1258,
    "start_time": "2022-09-27T17:34:57.754Z"
   },
   {
    "duration": 280,
    "start_time": "2022-09-27T17:35:23.341Z"
   },
   {
    "duration": 196,
    "start_time": "2022-09-27T17:36:22.891Z"
   },
   {
    "duration": 292,
    "start_time": "2022-09-27T17:38:56.487Z"
   },
   {
    "duration": 279,
    "start_time": "2022-09-27T17:40:50.138Z"
   },
   {
    "duration": 296,
    "start_time": "2022-09-27T17:41:28.008Z"
   },
   {
    "duration": 298,
    "start_time": "2022-09-27T17:42:25.008Z"
   },
   {
    "duration": 273,
    "start_time": "2022-09-27T17:42:31.635Z"
   },
   {
    "duration": 261,
    "start_time": "2022-09-27T17:42:47.818Z"
   },
   {
    "duration": 256,
    "start_time": "2022-09-27T17:43:08.392Z"
   },
   {
    "duration": 268,
    "start_time": "2022-09-27T17:45:01.662Z"
   },
   {
    "duration": 285,
    "start_time": "2022-09-27T17:48:27.978Z"
   },
   {
    "duration": 276,
    "start_time": "2022-09-27T17:50:04.785Z"
   },
   {
    "duration": 199,
    "start_time": "2022-09-27T17:51:46.194Z"
   },
   {
    "duration": 189,
    "start_time": "2022-09-27T17:52:20.891Z"
   },
   {
    "duration": 311,
    "start_time": "2022-09-27T18:03:23.382Z"
   },
   {
    "duration": 153,
    "start_time": "2022-09-27T18:04:23.608Z"
   },
   {
    "duration": 331,
    "start_time": "2022-09-27T18:04:39.816Z"
   },
   {
    "duration": 155,
    "start_time": "2022-09-27T18:05:12.916Z"
   },
   {
    "duration": 163,
    "start_time": "2022-09-27T18:05:21.306Z"
   },
   {
    "duration": 149,
    "start_time": "2022-09-27T18:05:55.410Z"
   },
   {
    "duration": 143,
    "start_time": "2022-09-27T18:06:03.771Z"
   },
   {
    "duration": 156,
    "start_time": "2022-09-27T18:06:09.228Z"
   },
   {
    "duration": 150,
    "start_time": "2022-09-27T18:06:15.737Z"
   },
   {
    "duration": 154,
    "start_time": "2022-09-27T18:07:56.661Z"
   },
   {
    "duration": 176,
    "start_time": "2022-09-27T18:09:02.294Z"
   },
   {
    "duration": 193,
    "start_time": "2022-09-27T18:09:10.783Z"
   },
   {
    "duration": 193,
    "start_time": "2022-09-27T18:09:18.232Z"
   },
   {
    "duration": 163,
    "start_time": "2022-09-27T18:09:23.170Z"
   },
   {
    "duration": 162,
    "start_time": "2022-09-27T18:09:30.420Z"
   },
   {
    "duration": 142,
    "start_time": "2022-09-27T18:10:08.764Z"
   },
   {
    "duration": 60,
    "start_time": "2022-09-27T18:15:40.175Z"
   },
   {
    "duration": 197,
    "start_time": "2022-09-27T18:23:52.766Z"
   },
   {
    "duration": 184,
    "start_time": "2022-09-27T18:24:39.557Z"
   },
   {
    "duration": 395,
    "start_time": "2022-09-27T18:26:38.005Z"
   },
   {
    "duration": 238,
    "start_time": "2022-09-27T18:27:01.992Z"
   },
   {
    "duration": 206,
    "start_time": "2022-09-27T18:27:49.203Z"
   },
   {
    "duration": 197,
    "start_time": "2022-09-27T18:28:22.490Z"
   },
   {
    "duration": 1100,
    "start_time": "2022-09-27T18:40:31.233Z"
   },
   {
    "duration": 61,
    "start_time": "2022-09-27T18:41:35.668Z"
   },
   {
    "duration": 58,
    "start_time": "2022-09-27T18:42:22.442Z"
   },
   {
    "duration": 48,
    "start_time": "2022-09-27T18:42:42.326Z"
   },
   {
    "duration": 1253,
    "start_time": "2022-09-27T18:42:50.312Z"
   },
   {
    "duration": 1480,
    "start_time": "2022-09-27T18:43:12.042Z"
   },
   {
    "duration": 346,
    "start_time": "2022-09-27T18:43:39.727Z"
   },
   {
    "duration": 534,
    "start_time": "2022-09-27T18:44:48.211Z"
   },
   {
    "duration": 550,
    "start_time": "2022-09-27T18:45:14.477Z"
   },
   {
    "duration": 201,
    "start_time": "2022-09-27T18:47:18.867Z"
   },
   {
    "duration": 324,
    "start_time": "2022-09-27T18:47:47.189Z"
   },
   {
    "duration": 239,
    "start_time": "2022-09-27T18:48:04.113Z"
   },
   {
    "duration": 201,
    "start_time": "2022-09-27T18:48:23.536Z"
   },
   {
    "duration": 209,
    "start_time": "2022-09-27T18:48:30.046Z"
   },
   {
    "duration": 215,
    "start_time": "2022-09-27T18:48:38.092Z"
   },
   {
    "duration": 216,
    "start_time": "2022-09-27T18:48:53.397Z"
   },
   {
    "duration": 218,
    "start_time": "2022-09-27T18:50:27.625Z"
   },
   {
    "duration": 206,
    "start_time": "2022-09-27T18:50:40.938Z"
   },
   {
    "duration": 351,
    "start_time": "2022-09-27T18:50:51.941Z"
   },
   {
    "duration": 133,
    "start_time": "2022-09-27T18:51:24.143Z"
   },
   {
    "duration": 196,
    "start_time": "2022-09-27T18:51:43.449Z"
   },
   {
    "duration": 227,
    "start_time": "2022-09-27T18:51:50.991Z"
   },
   {
    "duration": 248,
    "start_time": "2022-09-27T18:52:06.770Z"
   },
   {
    "duration": 213,
    "start_time": "2022-09-27T18:52:16.912Z"
   },
   {
    "duration": 198,
    "start_time": "2022-09-27T18:53:07.222Z"
   },
   {
    "duration": 221,
    "start_time": "2022-09-27T18:53:26.352Z"
   },
   {
    "duration": 231,
    "start_time": "2022-09-27T18:53:39.902Z"
   },
   {
    "duration": 224,
    "start_time": "2022-09-27T18:53:50.012Z"
   },
   {
    "duration": 262,
    "start_time": "2022-09-27T18:54:04.025Z"
   },
   {
    "duration": 234,
    "start_time": "2022-09-27T18:54:12.426Z"
   },
   {
    "duration": 254,
    "start_time": "2022-09-27T18:54:28.424Z"
   },
   {
    "duration": 283,
    "start_time": "2022-09-27T18:54:43.264Z"
   },
   {
    "duration": 199,
    "start_time": "2022-09-27T19:04:30.926Z"
   },
   {
    "duration": 211,
    "start_time": "2022-09-27T19:05:50.034Z"
   },
   {
    "duration": 49,
    "start_time": "2022-09-27T19:08:40.418Z"
   },
   {
    "duration": 981,
    "start_time": "2022-09-27T19:08:51.056Z"
   },
   {
    "duration": 199,
    "start_time": "2022-09-27T19:09:35.723Z"
   },
   {
    "duration": 215,
    "start_time": "2022-09-27T19:10:10.394Z"
   },
   {
    "duration": 359,
    "start_time": "2022-09-27T19:13:52.827Z"
   },
   {
    "duration": 244,
    "start_time": "2022-09-27T19:15:25.988Z"
   },
   {
    "duration": 223,
    "start_time": "2022-09-27T19:17:11.437Z"
   },
   {
    "duration": 49,
    "start_time": "2022-09-27T19:18:13.769Z"
   },
   {
    "duration": 225,
    "start_time": "2022-09-27T19:18:22.302Z"
   },
   {
    "duration": 107,
    "start_time": "2022-09-27T19:58:59.063Z"
   },
   {
    "duration": 268,
    "start_time": "2022-09-27T19:59:08.168Z"
   },
   {
    "duration": 153,
    "start_time": "2022-09-27T19:59:36.506Z"
   },
   {
    "duration": 152,
    "start_time": "2022-09-27T20:00:15.556Z"
   },
   {
    "duration": 50,
    "start_time": "2022-09-27T20:00:34.819Z"
   },
   {
    "duration": 164,
    "start_time": "2022-09-27T20:00:43.591Z"
   },
   {
    "duration": 131,
    "start_time": "2022-09-27T20:02:21.665Z"
   },
   {
    "duration": 144,
    "start_time": "2022-09-27T20:02:41.263Z"
   },
   {
    "duration": 182,
    "start_time": "2022-09-27T20:02:49.910Z"
   },
   {
    "duration": 243,
    "start_time": "2022-09-27T20:06:48.750Z"
   },
   {
    "duration": 432,
    "start_time": "2022-09-27T20:08:09.247Z"
   },
   {
    "duration": 472,
    "start_time": "2022-09-27T20:11:34.772Z"
   },
   {
    "duration": 47,
    "start_time": "2022-09-27T20:12:08.317Z"
   },
   {
    "duration": 247,
    "start_time": "2022-09-27T20:12:22.910Z"
   },
   {
    "duration": 254,
    "start_time": "2022-09-27T20:12:55.885Z"
   },
   {
    "duration": 234,
    "start_time": "2022-09-27T20:13:12.504Z"
   },
   {
    "duration": 252,
    "start_time": "2022-09-27T20:14:12.732Z"
   },
   {
    "duration": 454,
    "start_time": "2022-09-27T20:14:30.469Z"
   },
   {
    "duration": 250,
    "start_time": "2022-09-27T20:15:09.950Z"
   },
   {
    "duration": 57,
    "start_time": "2022-09-27T20:16:04.411Z"
   },
   {
    "duration": 64,
    "start_time": "2022-09-27T20:16:13.797Z"
   },
   {
    "duration": 285,
    "start_time": "2022-09-27T20:16:25.291Z"
   },
   {
    "duration": 268,
    "start_time": "2022-09-27T20:16:53.207Z"
   },
   {
    "duration": 290,
    "start_time": "2022-09-27T20:17:35.299Z"
   },
   {
    "duration": 273,
    "start_time": "2022-09-27T20:18:09.189Z"
   },
   {
    "duration": 262,
    "start_time": "2022-09-27T20:18:37.057Z"
   },
   {
    "duration": 256,
    "start_time": "2022-09-27T20:19:12.977Z"
   },
   {
    "duration": 41,
    "start_time": "2022-09-27T20:20:35.307Z"
   },
   {
    "duration": 48,
    "start_time": "2022-09-27T20:21:36.158Z"
   },
   {
    "duration": 56,
    "start_time": "2022-09-27T20:21:54.918Z"
   },
   {
    "duration": 154,
    "start_time": "2022-09-27T20:22:12.582Z"
   },
   {
    "duration": 171,
    "start_time": "2022-09-27T20:23:21.444Z"
   },
   {
    "duration": 157,
    "start_time": "2022-09-27T20:24:05.152Z"
   },
   {
    "duration": 48,
    "start_time": "2022-09-27T20:25:31.131Z"
   },
   {
    "duration": 175,
    "start_time": "2022-09-27T20:25:44.318Z"
   },
   {
    "duration": 218,
    "start_time": "2022-09-27T20:25:47.340Z"
   },
   {
    "duration": 213,
    "start_time": "2022-09-27T20:26:33.262Z"
   },
   {
    "duration": 183,
    "start_time": "2022-09-27T20:27:16.687Z"
   },
   {
    "duration": 197,
    "start_time": "2022-09-27T20:27:35.379Z"
   },
   {
    "duration": 433,
    "start_time": "2022-09-27T20:27:40.806Z"
   },
   {
    "duration": 218,
    "start_time": "2022-09-27T20:28:24.844Z"
   },
   {
    "duration": 207,
    "start_time": "2022-09-27T20:28:40.925Z"
   },
   {
    "duration": 207,
    "start_time": "2022-09-27T20:29:03.434Z"
   },
   {
    "duration": 1139,
    "start_time": "2022-09-28T03:32:30.706Z"
   },
   {
    "duration": 28,
    "start_time": "2022-09-28T03:32:31.848Z"
   },
   {
    "duration": 14,
    "start_time": "2022-09-28T03:32:31.878Z"
   },
   {
    "duration": 32,
    "start_time": "2022-09-28T03:32:31.894Z"
   },
   {
    "duration": 8,
    "start_time": "2022-09-28T03:32:31.927Z"
   },
   {
    "duration": 1891,
    "start_time": "2022-09-28T03:32:31.937Z"
   },
   {
    "duration": 11,
    "start_time": "2022-09-28T03:32:33.830Z"
   },
   {
    "duration": 6,
    "start_time": "2022-09-28T03:32:33.843Z"
   },
   {
    "duration": 8,
    "start_time": "2022-09-28T03:32:33.850Z"
   },
   {
    "duration": 5,
    "start_time": "2022-09-28T03:32:33.861Z"
   },
   {
    "duration": 26,
    "start_time": "2022-09-28T03:32:33.867Z"
   },
   {
    "duration": 15,
    "start_time": "2022-09-28T03:32:33.896Z"
   },
   {
    "duration": 13,
    "start_time": "2022-09-28T03:32:33.913Z"
   },
   {
    "duration": 3366,
    "start_time": "2022-09-28T03:32:33.928Z"
   },
   {
    "duration": 6,
    "start_time": "2022-09-28T03:32:37.296Z"
   },
   {
    "duration": 15,
    "start_time": "2022-09-28T03:32:37.304Z"
   },
   {
    "duration": 7,
    "start_time": "2022-09-28T03:32:37.321Z"
   },
   {
    "duration": 18,
    "start_time": "2022-09-28T03:32:37.330Z"
   },
   {
    "duration": 40,
    "start_time": "2022-09-28T03:32:37.350Z"
   },
   {
    "duration": 26,
    "start_time": "2022-09-28T03:32:37.392Z"
   },
   {
    "duration": 552,
    "start_time": "2022-09-28T03:32:37.421Z"
   },
   {
    "duration": 37,
    "start_time": "2022-09-28T03:32:37.976Z"
   },
   {
    "duration": 286,
    "start_time": "2022-09-28T03:32:38.014Z"
   },
   {
    "duration": 15,
    "start_time": "2022-09-28T03:32:38.302Z"
   },
   {
    "duration": 590,
    "start_time": "2022-09-28T03:32:38.319Z"
   },
   {
    "duration": 99,
    "start_time": "2022-09-28T03:32:38.911Z"
   },
   {
    "duration": 11,
    "start_time": "2022-09-28T03:32:39.012Z"
   },
   {
    "duration": 351,
    "start_time": "2022-09-28T03:32:39.027Z"
   },
   {
    "duration": 164,
    "start_time": "2022-09-28T03:32:39.380Z"
   },
   {
    "duration": 227,
    "start_time": "2022-09-28T03:32:39.546Z"
   },
   {
    "duration": 19,
    "start_time": "2022-09-28T03:32:39.777Z"
   },
   {
    "duration": 7,
    "start_time": "2022-09-28T03:32:39.798Z"
   },
   {
    "duration": 4,
    "start_time": "2022-09-28T03:32:39.806Z"
   },
   {
    "duration": 65590,
    "start_time": "2022-09-28T03:32:39.812Z"
   },
   {
    "duration": 8,
    "start_time": "2022-09-28T03:33:45.404Z"
   },
   {
    "duration": 76,
    "start_time": "2022-09-28T03:33:45.414Z"
   },
   {
    "duration": 235,
    "start_time": "2022-09-28T03:33:45.492Z"
   },
   {
    "duration": 14,
    "start_time": "2022-09-28T03:33:45.728Z"
   },
   {
    "duration": 315,
    "start_time": "2022-09-28T03:33:45.744Z"
   },
   {
    "duration": 16,
    "start_time": "2022-09-28T03:33:46.061Z"
   },
   {
    "duration": 46,
    "start_time": "2022-09-28T03:33:46.078Z"
   },
   {
    "duration": 10,
    "start_time": "2022-09-28T03:33:46.126Z"
   },
   {
    "duration": 288,
    "start_time": "2022-09-28T03:33:46.138Z"
   },
   {
    "duration": 6407,
    "start_time": "2022-09-28T03:33:46.428Z"
   },
   {
    "duration": 243,
    "start_time": "2022-09-28T03:33:52.838Z"
   },
   {
    "duration": 24,
    "start_time": "2022-09-28T03:33:53.083Z"
   },
   {
    "duration": 375,
    "start_time": "2022-09-28T03:33:53.109Z"
   },
   {
    "duration": 10,
    "start_time": "2022-09-28T03:33:53.486Z"
   },
   {
    "duration": 6,
    "start_time": "2022-09-28T03:33:53.498Z"
   },
   {
    "duration": 6,
    "start_time": "2022-09-28T03:33:53.506Z"
   },
   {
    "duration": 97,
    "start_time": "2022-09-28T03:33:53.513Z"
   },
   {
    "duration": 69,
    "start_time": "2022-09-28T03:33:53.612Z"
   },
   {
    "duration": 5,
    "start_time": "2022-09-28T03:33:53.683Z"
   },
   {
    "duration": 316,
    "start_time": "2022-09-28T03:33:53.690Z"
   },
   {
    "duration": 5,
    "start_time": "2022-09-28T03:33:54.008Z"
   },
   {
    "duration": 632,
    "start_time": "2022-09-28T03:33:54.015Z"
   },
   {
    "duration": 570,
    "start_time": "2022-09-28T03:33:54.649Z"
   },
   {
    "duration": 447,
    "start_time": "2022-09-28T03:33:55.222Z"
   },
   {
    "duration": 8,
    "start_time": "2022-09-28T03:33:55.671Z"
   },
   {
    "duration": 276,
    "start_time": "2022-09-28T03:33:55.681Z"
   },
   {
    "duration": 310,
    "start_time": "2022-09-28T03:33:55.959Z"
   },
   {
    "duration": 394,
    "start_time": "2022-09-28T03:33:56.271Z"
   },
   {
    "duration": 308,
    "start_time": "2022-09-28T03:33:56.666Z"
   },
   {
    "duration": 360,
    "start_time": "2022-09-28T03:33:56.977Z"
   },
   {
    "duration": 340,
    "start_time": "2022-09-28T03:33:57.338Z"
   },
   {
    "duration": 14,
    "start_time": "2022-09-28T03:33:57.681Z"
   },
   {
    "duration": 283,
    "start_time": "2022-09-28T03:33:57.696Z"
   },
   {
    "duration": 441,
    "start_time": "2022-09-28T03:33:57.981Z"
   },
   {
    "duration": 549,
    "start_time": "2022-09-28T03:33:58.425Z"
   },
   {
    "duration": 505,
    "start_time": "2022-09-28T03:33:58.977Z"
   },
   {
    "duration": 331,
    "start_time": "2022-09-28T03:33:59.484Z"
   },
   {
    "duration": 351,
    "start_time": "2022-09-28T03:33:59.817Z"
   },
   {
    "duration": 609,
    "start_time": "2022-09-28T03:34:00.170Z"
   },
   {
    "duration": 575,
    "start_time": "2022-09-28T03:34:00.780Z"
   },
   {
    "duration": 634,
    "start_time": "2022-09-28T03:34:01.357Z"
   },
   {
    "duration": 11,
    "start_time": "2022-09-28T03:34:01.993Z"
   },
   {
    "duration": 44,
    "start_time": "2022-09-28T03:34:02.005Z"
   },
   {
    "duration": 160,
    "start_time": "2022-09-28T03:34:02.051Z"
   },
   {
    "duration": 2564,
    "start_time": "2022-09-28T03:34:02.212Z"
   },
   {
    "duration": 194,
    "start_time": "2022-09-28T03:34:04.778Z"
   },
   {
    "duration": 223,
    "start_time": "2022-09-28T03:34:04.973Z"
   },
   {
    "duration": 379,
    "start_time": "2022-09-28T03:34:05.202Z"
   },
   {
    "duration": 451,
    "start_time": "2022-09-28T03:34:05.583Z"
   },
   {
    "duration": 211,
    "start_time": "2022-09-28T03:34:06.036Z"
   },
   {
    "duration": 346,
    "start_time": "2022-09-28T03:34:06.249Z"
   },
   {
    "duration": 330,
    "start_time": "2022-09-28T03:34:06.597Z"
   },
   {
    "duration": 241,
    "start_time": "2022-09-28T03:34:06.929Z"
   },
   {
    "duration": 208,
    "start_time": "2022-09-28T03:34:07.177Z"
   },
   {
    "duration": 194,
    "start_time": "2022-09-28T03:34:07.387Z"
   },
   {
    "duration": 238,
    "start_time": "2022-09-28T03:34:07.582Z"
   },
   {
    "duration": 265,
    "start_time": "2022-09-28T03:34:07.823Z"
   },
   {
    "duration": 243,
    "start_time": "2022-09-28T03:34:08.090Z"
   },
   {
    "duration": 199,
    "start_time": "2022-09-28T03:34:08.335Z"
   },
   {
    "duration": 182,
    "start_time": "2022-09-28T03:34:08.535Z"
   },
   {
    "duration": 203,
    "start_time": "2022-09-28T03:34:08.719Z"
   },
   {
    "duration": 221,
    "start_time": "2022-09-28T03:34:08.924Z"
   },
   {
    "duration": 246,
    "start_time": "2022-09-28T03:34:09.146Z"
   },
   {
    "duration": 246,
    "start_time": "2022-09-28T03:34:09.394Z"
   },
   {
    "duration": 239,
    "start_time": "2022-09-28T03:34:09.642Z"
   },
   {
    "duration": 336,
    "start_time": "2022-09-28T03:34:09.883Z"
   },
   {
    "duration": 228,
    "start_time": "2022-09-28T03:34:10.221Z"
   },
   {
    "duration": 38,
    "start_time": "2022-09-28T03:34:10.451Z"
   },
   {
    "duration": 157,
    "start_time": "2022-09-28T03:34:10.491Z"
   },
   {
    "duration": 49,
    "start_time": "2022-09-28T03:34:10.649Z"
   },
   {
    "duration": 151,
    "start_time": "2022-09-28T03:34:10.699Z"
   },
   {
    "duration": 324,
    "start_time": "2022-09-28T03:34:36.797Z"
   },
   {
    "duration": 412,
    "start_time": "2022-09-28T03:35:04.442Z"
   },
   {
    "duration": 307,
    "start_time": "2022-09-28T03:35:57.165Z"
   },
   {
    "duration": 327,
    "start_time": "2022-09-28T03:40:13.661Z"
   },
   {
    "duration": 456,
    "start_time": "2022-09-28T03:40:16.835Z"
   },
   {
    "duration": 254,
    "start_time": "2022-09-28T03:40:34.665Z"
   },
   {
    "duration": 66,
    "start_time": "2022-09-28T03:42:45.771Z"
   },
   {
    "duration": 249,
    "start_time": "2022-09-28T03:42:56.015Z"
   },
   {
    "duration": 4,
    "start_time": "2022-09-28T03:47:01.009Z"
   },
   {
    "duration": 257,
    "start_time": "2022-09-28T03:47:07.914Z"
   },
   {
    "duration": 5,
    "start_time": "2022-09-28T03:48:41.524Z"
   },
   {
    "duration": 260,
    "start_time": "2022-09-28T03:48:49.153Z"
   },
   {
    "duration": 54,
    "start_time": "2022-09-28T03:53:20.867Z"
   },
   {
    "duration": 48,
    "start_time": "2022-09-28T03:53:40.447Z"
   },
   {
    "duration": 60,
    "start_time": "2022-09-28T03:54:08.633Z"
   },
   {
    "duration": 69,
    "start_time": "2022-09-28T03:54:16.037Z"
   },
   {
    "duration": 51,
    "start_time": "2022-09-28T03:56:12.218Z"
   },
   {
    "duration": 241,
    "start_time": "2022-09-28T03:56:35.899Z"
   },
   {
    "duration": 249,
    "start_time": "2022-09-28T03:57:11.635Z"
   },
   {
    "duration": 560,
    "start_time": "2022-09-28T03:58:14.506Z"
   },
   {
    "duration": 672,
    "start_time": "2022-09-28T04:02:28.192Z"
   },
   {
    "duration": 558,
    "start_time": "2022-09-28T04:03:34.486Z"
   },
   {
    "duration": 49,
    "start_time": "2022-09-28T04:04:15.824Z"
   },
   {
    "duration": 542,
    "start_time": "2022-09-28T04:04:22.376Z"
   },
   {
    "duration": 558,
    "start_time": "2022-09-28T04:06:12.491Z"
   },
   {
    "duration": 746,
    "start_time": "2022-09-28T04:06:22.077Z"
   },
   {
    "duration": 572,
    "start_time": "2022-09-28T04:06:49.774Z"
   },
   {
    "duration": 406,
    "start_time": "2022-09-28T04:08:54.342Z"
   },
   {
    "duration": 239,
    "start_time": "2022-09-28T04:12:04.856Z"
   },
   {
    "duration": 247,
    "start_time": "2022-09-28T04:12:27.071Z"
   },
   {
    "duration": 236,
    "start_time": "2022-09-28T05:24:51.025Z"
   },
   {
    "duration": 433,
    "start_time": "2022-09-28T05:25:12.717Z"
   },
   {
    "duration": 262,
    "start_time": "2022-09-28T05:27:23.256Z"
   },
   {
    "duration": 4,
    "start_time": "2022-09-28T05:29:18.736Z"
   },
   {
    "duration": 272,
    "start_time": "2022-09-28T05:29:28.655Z"
   },
   {
    "duration": 299,
    "start_time": "2022-09-28T05:34:42.383Z"
   },
   {
    "duration": 315,
    "start_time": "2022-09-28T05:35:23.087Z"
   },
   {
    "duration": 454,
    "start_time": "2022-09-28T05:35:56.893Z"
   },
   {
    "duration": 355,
    "start_time": "2022-09-28T05:36:11.992Z"
   },
   {
    "duration": 356,
    "start_time": "2022-09-28T05:42:54.037Z"
   },
   {
    "duration": 473,
    "start_time": "2022-09-28T05:44:55.188Z"
   },
   {
    "duration": 924,
    "start_time": "2022-09-28T05:45:55.290Z"
   },
   {
    "duration": 236,
    "start_time": "2022-09-28T05:47:59.292Z"
   },
   {
    "duration": 64230,
    "start_time": "2022-09-28T05:49:11.760Z"
   },
   {
    "duration": 391,
    "start_time": "2022-09-28T05:50:15.999Z"
   },
   {
    "duration": 370,
    "start_time": "2022-09-28T05:51:26.726Z"
   },
   {
    "duration": 365,
    "start_time": "2022-09-28T05:51:42.848Z"
   },
   {
    "duration": 375,
    "start_time": "2022-09-28T05:51:55.884Z"
   },
   {
    "duration": 347,
    "start_time": "2022-09-28T05:52:18.347Z"
   },
   {
    "duration": 347,
    "start_time": "2022-09-28T05:52:44.759Z"
   },
   {
    "duration": 347,
    "start_time": "2022-09-28T05:52:58.370Z"
   },
   {
    "duration": 377,
    "start_time": "2022-09-28T05:55:30.376Z"
   },
   {
    "duration": 295,
    "start_time": "2022-09-28T05:55:47.862Z"
   },
   {
    "duration": 340,
    "start_time": "2022-09-28T05:56:23.511Z"
   },
   {
    "duration": 338,
    "start_time": "2022-09-28T05:56:33.989Z"
   },
   {
    "duration": 19,
    "start_time": "2022-09-28T05:58:49.139Z"
   },
   {
    "duration": 10,
    "start_time": "2022-09-28T06:00:54.918Z"
   },
   {
    "duration": 11,
    "start_time": "2022-09-28T06:01:04.527Z"
   },
   {
    "duration": 387,
    "start_time": "2022-09-28T06:01:21.492Z"
   },
   {
    "duration": 422,
    "start_time": "2022-09-28T06:02:11.406Z"
   },
   {
    "duration": 363,
    "start_time": "2022-09-28T06:02:59.748Z"
   },
   {
    "duration": 387,
    "start_time": "2022-09-28T06:03:23.895Z"
   },
   {
    "duration": 390,
    "start_time": "2022-09-28T06:03:36.619Z"
   },
   {
    "duration": 31,
    "start_time": "2022-09-28T06:04:03.980Z"
   },
   {
    "duration": 23,
    "start_time": "2022-09-28T06:06:13.126Z"
   },
   {
    "duration": 23,
    "start_time": "2022-09-28T06:06:23.540Z"
   },
   {
    "duration": 22,
    "start_time": "2022-09-28T06:07:35.955Z"
   },
   {
    "duration": 271,
    "start_time": "2022-09-28T06:07:44.522Z"
   },
   {
    "duration": 155,
    "start_time": "2022-09-28T06:08:14.394Z"
   },
   {
    "duration": 164,
    "start_time": "2022-09-28T06:08:43.219Z"
   },
   {
    "duration": 162,
    "start_time": "2022-09-28T06:08:54.934Z"
   },
   {
    "duration": 351,
    "start_time": "2022-09-28T06:10:55.765Z"
   },
   {
    "duration": 328,
    "start_time": "2022-09-28T06:11:51.276Z"
   },
   {
    "duration": 521,
    "start_time": "2022-09-28T06:12:51.415Z"
   },
   {
    "duration": 2202,
    "start_time": "2022-09-28T06:14:09.651Z"
   },
   {
    "duration": 5,
    "start_time": "2022-09-28T06:15:34.497Z"
   },
   {
    "duration": 378,
    "start_time": "2022-09-28T06:15:39.842Z"
   },
   {
    "duration": 5,
    "start_time": "2022-09-28T06:17:46.725Z"
   },
   {
    "duration": 488,
    "start_time": "2022-09-28T06:17:51.664Z"
   },
   {
    "duration": 398,
    "start_time": "2022-09-28T06:18:22.501Z"
   },
   {
    "duration": 523,
    "start_time": "2022-09-28T06:18:46.589Z"
   },
   {
    "duration": 575,
    "start_time": "2022-09-28T06:19:50.170Z"
   },
   {
    "duration": 681,
    "start_time": "2022-09-28T06:20:46.627Z"
   },
   {
    "duration": 694,
    "start_time": "2022-09-28T06:21:15.794Z"
   },
   {
    "duration": 2937,
    "start_time": "2022-09-28T06:22:40.516Z"
   },
   {
    "duration": 281,
    "start_time": "2022-09-28T06:24:31.622Z"
   },
   {
    "duration": 660,
    "start_time": "2022-09-28T06:24:48.394Z"
   },
   {
    "duration": 404,
    "start_time": "2022-09-28T06:26:33.046Z"
   },
   {
    "duration": 287,
    "start_time": "2022-09-28T06:26:50.056Z"
   },
   {
    "duration": 554,
    "start_time": "2022-09-28T06:26:54.443Z"
   },
   {
    "duration": 470,
    "start_time": "2022-09-28T06:26:59.831Z"
   },
   {
    "duration": 363,
    "start_time": "2022-09-28T06:33:27.882Z"
   },
   {
    "duration": 440,
    "start_time": "2022-09-28T06:33:39.061Z"
   },
   {
    "duration": 5038,
    "start_time": "2022-09-28T06:33:55.733Z"
   },
   {
    "duration": 766,
    "start_time": "2022-09-28T06:36:49.055Z"
   },
   {
    "duration": 398,
    "start_time": "2022-09-28T06:39:08.860Z"
   },
   {
    "duration": 413,
    "start_time": "2022-09-28T06:39:29.271Z"
   },
   {
    "duration": 453,
    "start_time": "2022-09-28T06:39:56.067Z"
   },
   {
    "duration": 4,
    "start_time": "2022-09-28T06:41:08.384Z"
   },
   {
    "duration": 766,
    "start_time": "2022-09-28T06:41:15.117Z"
   },
   {
    "duration": 205,
    "start_time": "2022-09-28T06:43:37.363Z"
   },
   {
    "duration": 190,
    "start_time": "2022-09-28T06:44:41.323Z"
   },
   {
    "duration": 202,
    "start_time": "2022-09-28T06:45:41.368Z"
   },
   {
    "duration": 187,
    "start_time": "2022-09-28T06:45:58.362Z"
   },
   {
    "duration": 530,
    "start_time": "2022-09-28T06:47:05.142Z"
   },
   {
    "duration": 358,
    "start_time": "2022-09-28T06:49:12.910Z"
   },
   {
    "duration": 357,
    "start_time": "2022-09-28T06:54:37.193Z"
   },
   {
    "duration": 549,
    "start_time": "2022-09-28T06:57:30.494Z"
   },
   {
    "duration": 106,
    "start_time": "2022-09-28T06:58:04.026Z"
   },
   {
    "duration": 365,
    "start_time": "2022-09-28T06:58:19.235Z"
   },
   {
    "duration": 352,
    "start_time": "2022-09-28T07:04:01.954Z"
   },
   {
    "duration": 203,
    "start_time": "2022-09-28T07:09:42.689Z"
   },
   {
    "duration": 336,
    "start_time": "2022-09-28T07:11:08.628Z"
   },
   {
    "duration": 377,
    "start_time": "2022-09-28T07:11:36.269Z"
   },
   {
    "duration": 206,
    "start_time": "2022-09-28T07:12:23.942Z"
   },
   {
    "duration": 216,
    "start_time": "2022-09-28T07:13:16.675Z"
   },
   {
    "duration": 206,
    "start_time": "2022-09-28T07:13:27.683Z"
   },
   {
    "duration": 196,
    "start_time": "2022-09-28T07:14:24.641Z"
   },
   {
    "duration": 251,
    "start_time": "2022-09-28T07:15:57.196Z"
   },
   {
    "duration": 261,
    "start_time": "2022-09-28T07:16:14.140Z"
   },
   {
    "duration": 241,
    "start_time": "2022-09-28T07:16:21.956Z"
   },
   {
    "duration": 283,
    "start_time": "2022-09-28T07:17:10.262Z"
   },
   {
    "duration": 159,
    "start_time": "2022-09-28T07:19:33.281Z"
   },
   {
    "duration": 191,
    "start_time": "2022-09-28T07:26:54.057Z"
   },
   {
    "duration": 175,
    "start_time": "2022-09-28T07:27:12.126Z"
   },
   {
    "duration": 100,
    "start_time": "2022-09-28T07:28:21.532Z"
   },
   {
    "duration": 179,
    "start_time": "2022-09-28T07:28:33.624Z"
   },
   {
    "duration": 267,
    "start_time": "2022-09-28T07:30:51.729Z"
   },
   {
    "duration": 240,
    "start_time": "2022-09-28T07:31:22.432Z"
   },
   {
    "duration": 115,
    "start_time": "2022-09-28T08:27:15.051Z"
   },
   {
    "duration": 167,
    "start_time": "2022-09-28T08:27:23.928Z"
   },
   {
    "duration": 391,
    "start_time": "2022-09-28T08:27:30.227Z"
   },
   {
    "duration": 206,
    "start_time": "2022-09-28T08:29:43.355Z"
   },
   {
    "duration": 257,
    "start_time": "2022-09-28T08:30:14.651Z"
   },
   {
    "duration": 249,
    "start_time": "2022-09-28T08:30:38.383Z"
   },
   {
    "duration": 244,
    "start_time": "2022-09-28T08:31:56.957Z"
   },
   {
    "duration": 268,
    "start_time": "2022-09-28T08:32:56.686Z"
   },
   {
    "duration": 248,
    "start_time": "2022-09-28T08:35:14.675Z"
   },
   {
    "duration": 238,
    "start_time": "2022-09-28T08:36:35.421Z"
   },
   {
    "duration": 222,
    "start_time": "2022-09-28T08:38:22.928Z"
   },
   {
    "duration": 149,
    "start_time": "2022-09-28T08:38:59.121Z"
   },
   {
    "duration": 206,
    "start_time": "2022-09-28T08:41:50.593Z"
   },
   {
    "duration": 175,
    "start_time": "2022-09-28T08:42:19.743Z"
   },
   {
    "duration": 42,
    "start_time": "2022-09-28T08:44:37.909Z"
   },
   {
    "duration": 22,
    "start_time": "2022-09-28T08:44:44.451Z"
   },
   {
    "duration": 209,
    "start_time": "2022-09-28T08:45:04.106Z"
   },
   {
    "duration": 216,
    "start_time": "2022-09-28T08:45:49.256Z"
   },
   {
    "duration": 212,
    "start_time": "2022-09-28T08:45:59.506Z"
   },
   {
    "duration": 225,
    "start_time": "2022-09-28T08:46:32.072Z"
   },
   {
    "duration": 214,
    "start_time": "2022-09-28T08:46:45.078Z"
   },
   {
    "duration": 289,
    "start_time": "2022-09-28T08:48:14.431Z"
   },
   {
    "duration": 257,
    "start_time": "2022-09-28T08:48:53.477Z"
   },
   {
    "duration": 318,
    "start_time": "2022-09-28T08:49:05.329Z"
   },
   {
    "duration": 293,
    "start_time": "2022-09-28T08:49:19.443Z"
   },
   {
    "duration": 286,
    "start_time": "2022-09-28T08:50:12.474Z"
   },
   {
    "duration": 292,
    "start_time": "2022-09-28T08:52:49.277Z"
   },
   {
    "duration": 266,
    "start_time": "2022-09-28T08:54:20.366Z"
   },
   {
    "duration": 245,
    "start_time": "2022-09-28T08:54:59.207Z"
   },
   {
    "duration": 509,
    "start_time": "2022-09-28T08:55:10.615Z"
   },
   {
    "duration": 181,
    "start_time": "2022-09-28T08:56:27.275Z"
   },
   {
    "duration": 167,
    "start_time": "2022-09-28T08:56:43.159Z"
   },
   {
    "duration": 159,
    "start_time": "2022-09-28T09:00:23.854Z"
   },
   {
    "duration": 163,
    "start_time": "2022-09-28T09:01:32.605Z"
   },
   {
    "duration": 178,
    "start_time": "2022-09-28T09:02:17.419Z"
   },
   {
    "duration": 164,
    "start_time": "2022-09-28T09:02:36.705Z"
   },
   {
    "duration": 164,
    "start_time": "2022-09-28T09:02:53.043Z"
   },
   {
    "duration": 189,
    "start_time": "2022-09-28T09:03:05.205Z"
   },
   {
    "duration": 161,
    "start_time": "2022-09-28T09:04:53.864Z"
   },
   {
    "duration": 40,
    "start_time": "2022-09-28T09:06:33.799Z"
   },
   {
    "duration": 43,
    "start_time": "2022-09-28T09:07:00.359Z"
   },
   {
    "duration": 40,
    "start_time": "2022-09-28T09:07:13.926Z"
   },
   {
    "duration": 46,
    "start_time": "2022-09-28T09:09:10.618Z"
   },
   {
    "duration": 42,
    "start_time": "2022-09-28T09:09:33.624Z"
   },
   {
    "duration": 58,
    "start_time": "2022-09-28T09:10:01.842Z"
   },
   {
    "duration": 39,
    "start_time": "2022-09-28T09:10:23.329Z"
   },
   {
    "duration": 163,
    "start_time": "2022-09-28T09:11:48.902Z"
   },
   {
    "duration": 1376,
    "start_time": "2022-09-28T09:12:25.761Z"
   },
   {
    "duration": 83,
    "start_time": "2022-09-28T09:12:59.759Z"
   },
   {
    "duration": 43,
    "start_time": "2022-09-28T09:13:11.490Z"
   },
   {
    "duration": 6,
    "start_time": "2022-09-28T09:14:12.648Z"
   },
   {
    "duration": 186,
    "start_time": "2022-09-28T09:14:22.226Z"
   },
   {
    "duration": 243,
    "start_time": "2022-09-28T09:16:39.243Z"
   },
   {
    "duration": 205,
    "start_time": "2022-09-28T09:16:48.103Z"
   },
   {
    "duration": 221,
    "start_time": "2022-09-28T09:17:23.973Z"
   },
   {
    "duration": 55,
    "start_time": "2022-09-28T09:22:25.671Z"
   },
   {
    "duration": 67,
    "start_time": "2022-09-28T09:22:30.715Z"
   },
   {
    "duration": 122,
    "start_time": "2022-09-28T09:22:47.919Z"
   },
   {
    "duration": 77,
    "start_time": "2022-09-28T09:23:09.242Z"
   },
   {
    "duration": 96,
    "start_time": "2022-09-28T09:23:58.218Z"
   },
   {
    "duration": 59,
    "start_time": "2022-09-28T09:24:29.790Z"
   },
   {
    "duration": 185,
    "start_time": "2022-09-28T09:24:55.417Z"
   },
   {
    "duration": 45,
    "start_time": "2022-09-28T09:25:47.073Z"
   },
   {
    "duration": 39,
    "start_time": "2022-09-28T09:26:22.980Z"
   },
   {
    "duration": 35,
    "start_time": "2022-09-28T09:27:30.096Z"
   },
   {
    "duration": 32,
    "start_time": "2022-09-28T09:29:24.273Z"
   },
   {
    "duration": 190,
    "start_time": "2022-09-28T09:30:09.872Z"
   },
   {
    "duration": 194,
    "start_time": "2022-09-28T09:30:26.809Z"
   },
   {
    "duration": 206,
    "start_time": "2022-09-28T09:30:56.529Z"
   },
   {
    "duration": 223,
    "start_time": "2022-09-28T09:31:13.625Z"
   },
   {
    "duration": 29,
    "start_time": "2022-09-28T09:31:57.741Z"
   },
   {
    "duration": 701,
    "start_time": "2022-09-28T10:18:31.745Z"
   },
   {
    "duration": 28,
    "start_time": "2022-09-28T10:18:35.395Z"
   },
   {
    "duration": 21,
    "start_time": "2022-09-28T10:18:41.659Z"
   },
   {
    "duration": 30,
    "start_time": "2022-09-28T10:18:50.121Z"
   },
   {
    "duration": 12,
    "start_time": "2022-09-28T10:18:57.041Z"
   },
   {
    "duration": 1886,
    "start_time": "2022-09-28T10:19:00.282Z"
   },
   {
    "duration": 10,
    "start_time": "2022-09-28T10:19:11.285Z"
   },
   {
    "duration": 6,
    "start_time": "2022-09-28T10:19:28.732Z"
   },
   {
    "duration": 4,
    "start_time": "2022-09-28T10:19:31.182Z"
   },
   {
    "duration": 5,
    "start_time": "2022-09-28T10:19:34.135Z"
   },
   {
    "duration": 27,
    "start_time": "2022-09-28T10:19:43.194Z"
   },
   {
    "duration": 21,
    "start_time": "2022-09-28T10:19:47.499Z"
   },
   {
    "duration": 14,
    "start_time": "2022-09-28T10:19:51.298Z"
   },
   {
    "duration": 3401,
    "start_time": "2022-09-28T10:19:54.252Z"
   },
   {
    "duration": 5,
    "start_time": "2022-09-28T10:20:02.839Z"
   },
   {
    "duration": 13,
    "start_time": "2022-09-28T10:20:05.376Z"
   },
   {
    "duration": 7,
    "start_time": "2022-09-28T10:20:08.936Z"
   },
   {
    "duration": 18,
    "start_time": "2022-09-28T10:20:11.985Z"
   },
   {
    "duration": 17,
    "start_time": "2022-09-28T10:20:15.561Z"
   },
   {
    "duration": 33,
    "start_time": "2022-09-28T10:20:19.846Z"
   },
   {
    "duration": 544,
    "start_time": "2022-09-28T10:20:24.846Z"
   },
   {
    "duration": 40,
    "start_time": "2022-09-28T10:20:31.693Z"
   },
   {
    "duration": 248,
    "start_time": "2022-09-28T10:20:35.450Z"
   },
   {
    "duration": 14,
    "start_time": "2022-09-28T10:20:41.308Z"
   },
   {
    "duration": 541,
    "start_time": "2022-09-28T10:20:47.214Z"
   },
   {
    "duration": 96,
    "start_time": "2022-09-28T10:20:54.540Z"
   },
   {
    "duration": 11,
    "start_time": "2022-09-28T10:20:58.868Z"
   },
   {
    "duration": 276,
    "start_time": "2022-09-28T10:21:02.739Z"
   },
   {
    "duration": 251,
    "start_time": "2022-09-28T10:21:20.012Z"
   },
   {
    "duration": 216,
    "start_time": "2022-09-28T10:21:23.077Z"
   },
   {
    "duration": 22,
    "start_time": "2022-09-28T10:21:30.797Z"
   },
   {
    "duration": 8,
    "start_time": "2022-09-28T10:24:54.743Z"
   },
   {
    "duration": 12,
    "start_time": "2022-09-28T10:25:14.195Z"
   },
   {
    "duration": 47,
    "start_time": "2022-09-28T10:25:41.961Z"
   },
   {
    "duration": 21,
    "start_time": "2022-09-28T10:27:14.076Z"
   },
   {
    "duration": 25,
    "start_time": "2022-09-28T10:28:06.869Z"
   },
   {
    "duration": 23,
    "start_time": "2022-09-28T10:28:20.966Z"
   },
   {
    "duration": 25,
    "start_time": "2022-09-28T10:29:04.258Z"
   },
   {
    "duration": 37,
    "start_time": "2022-09-28T10:29:46.478Z"
   },
   {
    "duration": 32,
    "start_time": "2022-09-28T10:35:03.503Z"
   },
   {
    "duration": 18,
    "start_time": "2022-09-28T10:37:40.222Z"
   },
   {
    "duration": 79,
    "start_time": "2022-09-28T10:45:39.270Z"
   },
   {
    "duration": 20,
    "start_time": "2022-09-28T10:45:56.217Z"
   },
   {
    "duration": 718,
    "start_time": "2022-09-28T10:46:38.191Z"
   },
   {
    "duration": 14,
    "start_time": "2022-09-28T10:46:47.470Z"
   },
   {
    "duration": 25,
    "start_time": "2022-09-28T10:46:50.554Z"
   },
   {
    "duration": 10,
    "start_time": "2022-09-28T10:46:53.972Z"
   },
   {
    "duration": 2098,
    "start_time": "2022-09-28T10:46:56.818Z"
   },
   {
    "duration": 10,
    "start_time": "2022-09-28T10:47:04.932Z"
   },
   {
    "duration": 5,
    "start_time": "2022-09-28T10:47:09.055Z"
   },
   {
    "duration": 4,
    "start_time": "2022-09-28T10:47:11.344Z"
   },
   {
    "duration": 4,
    "start_time": "2022-09-28T10:47:13.535Z"
   },
   {
    "duration": 16,
    "start_time": "2022-09-28T10:47:16.472Z"
   },
   {
    "duration": 16,
    "start_time": "2022-09-28T10:47:22.322Z"
   },
   {
    "duration": 14,
    "start_time": "2022-09-28T10:47:25.286Z"
   },
   {
    "duration": 3309,
    "start_time": "2022-09-28T10:47:27.847Z"
   },
   {
    "duration": 6,
    "start_time": "2022-09-28T10:47:31.158Z"
   },
   {
    "duration": 11,
    "start_time": "2022-09-28T10:47:33.131Z"
   },
   {
    "duration": 8,
    "start_time": "2022-09-28T10:47:36.540Z"
   },
   {
    "duration": 19,
    "start_time": "2022-09-28T10:47:39.209Z"
   },
   {
    "duration": 16,
    "start_time": "2022-09-28T10:47:42.044Z"
   },
   {
    "duration": 27,
    "start_time": "2022-09-28T10:47:44.850Z"
   },
   {
    "duration": 516,
    "start_time": "2022-09-28T10:47:48.819Z"
   },
   {
    "duration": 37,
    "start_time": "2022-09-28T10:47:52.027Z"
   },
   {
    "duration": 248,
    "start_time": "2022-09-28T10:47:55.685Z"
   },
   {
    "duration": 14,
    "start_time": "2022-09-28T10:48:00.117Z"
   },
   {
    "duration": 534,
    "start_time": "2022-09-28T10:48:06.060Z"
   },
   {
    "duration": 512,
    "start_time": "2022-09-28T10:48:32.016Z"
   },
   {
    "duration": 107,
    "start_time": "2022-09-28T10:48:36.121Z"
   },
   {
    "duration": 12,
    "start_time": "2022-09-28T10:48:39.235Z"
   },
   {
    "duration": 384,
    "start_time": "2022-09-28T10:48:41.878Z"
   },
   {
    "duration": 165,
    "start_time": "2022-09-28T10:48:46.048Z"
   },
   {
    "duration": 208,
    "start_time": "2022-09-28T10:48:48.756Z"
   },
   {
    "duration": 12,
    "start_time": "2022-09-28T10:49:32.643Z"
   },
   {
    "duration": 3,
    "start_time": "2022-09-28T10:50:16.360Z"
   },
   {
    "duration": 29368,
    "start_time": "2022-09-28T10:50:24.769Z"
   },
   {
    "duration": 82,
    "start_time": "2022-09-28T11:00:19.682Z"
   },
   {
    "duration": 28,
    "start_time": "2022-09-28T11:00:19.766Z"
   },
   {
    "duration": 23,
    "start_time": "2022-09-28T11:00:19.796Z"
   },
   {
    "duration": 20,
    "start_time": "2022-09-28T11:00:19.821Z"
   },
   {
    "duration": 10,
    "start_time": "2022-09-28T11:00:19.843Z"
   },
   {
    "duration": 1980,
    "start_time": "2022-09-28T11:00:19.855Z"
   },
   {
    "duration": 10,
    "start_time": "2022-09-28T11:00:21.837Z"
   },
   {
    "duration": 5,
    "start_time": "2022-09-28T11:00:21.849Z"
   },
   {
    "duration": 22,
    "start_time": "2022-09-28T11:00:21.856Z"
   },
   {
    "duration": 5,
    "start_time": "2022-09-28T11:00:21.881Z"
   },
   {
    "duration": 21,
    "start_time": "2022-09-28T11:00:21.887Z"
   },
   {
    "duration": 11,
    "start_time": "2022-09-28T11:00:21.910Z"
   },
   {
    "duration": 12,
    "start_time": "2022-09-28T11:00:21.922Z"
   },
   {
    "duration": 3372,
    "start_time": "2022-09-28T11:00:21.936Z"
   },
   {
    "duration": 6,
    "start_time": "2022-09-28T11:00:25.312Z"
   },
   {
    "duration": 22,
    "start_time": "2022-09-28T11:00:25.320Z"
   },
   {
    "duration": 13,
    "start_time": "2022-09-28T11:00:25.345Z"
   },
   {
    "duration": 35,
    "start_time": "2022-09-28T11:00:25.360Z"
   },
   {
    "duration": 22,
    "start_time": "2022-09-28T11:00:25.397Z"
   },
   {
    "duration": 30,
    "start_time": "2022-09-28T11:00:25.421Z"
   },
   {
    "duration": 574,
    "start_time": "2022-09-28T11:00:25.453Z"
   },
   {
    "duration": 48,
    "start_time": "2022-09-28T11:00:26.029Z"
   },
   {
    "duration": 263,
    "start_time": "2022-09-28T11:00:26.078Z"
   },
   {
    "duration": 16,
    "start_time": "2022-09-28T11:00:26.343Z"
   },
   {
    "duration": 529,
    "start_time": "2022-09-28T11:00:26.361Z"
   },
   {
    "duration": 92,
    "start_time": "2022-09-28T11:00:26.892Z"
   },
   {
    "duration": 15,
    "start_time": "2022-09-28T11:00:26.986Z"
   },
   {
    "duration": 310,
    "start_time": "2022-09-28T11:00:27.008Z"
   },
   {
    "duration": 184,
    "start_time": "2022-09-28T11:00:27.320Z"
   },
   {
    "duration": 230,
    "start_time": "2022-09-28T11:00:27.506Z"
   },
   {
    "duration": 3,
    "start_time": "2022-09-28T11:00:27.739Z"
   },
   {
    "duration": 29437,
    "start_time": "2022-09-28T11:00:27.744Z"
   },
   {
    "duration": 0,
    "start_time": "2022-09-28T11:00:57.183Z"
   },
   {
    "duration": 0,
    "start_time": "2022-09-28T11:00:57.184Z"
   },
   {
    "duration": 0,
    "start_time": "2022-09-28T11:00:57.186Z"
   },
   {
    "duration": 0,
    "start_time": "2022-09-28T11:00:57.188Z"
   },
   {
    "duration": 0,
    "start_time": "2022-09-28T11:00:57.189Z"
   },
   {
    "duration": 0,
    "start_time": "2022-09-28T11:00:57.190Z"
   },
   {
    "duration": 0,
    "start_time": "2022-09-28T11:00:57.191Z"
   },
   {
    "duration": 0,
    "start_time": "2022-09-28T11:00:57.192Z"
   },
   {
    "duration": 0,
    "start_time": "2022-09-28T11:00:57.193Z"
   },
   {
    "duration": 0,
    "start_time": "2022-09-28T11:00:57.195Z"
   },
   {
    "duration": 0,
    "start_time": "2022-09-28T11:00:57.196Z"
   },
   {
    "duration": 0,
    "start_time": "2022-09-28T11:00:57.197Z"
   },
   {
    "duration": 0,
    "start_time": "2022-09-28T11:00:57.199Z"
   },
   {
    "duration": 0,
    "start_time": "2022-09-28T11:00:57.200Z"
   },
   {
    "duration": 0,
    "start_time": "2022-09-28T11:00:57.201Z"
   },
   {
    "duration": 0,
    "start_time": "2022-09-28T11:00:57.202Z"
   },
   {
    "duration": 0,
    "start_time": "2022-09-28T11:00:57.203Z"
   },
   {
    "duration": 0,
    "start_time": "2022-09-28T11:00:57.204Z"
   },
   {
    "duration": 0,
    "start_time": "2022-09-28T11:00:57.205Z"
   },
   {
    "duration": 0,
    "start_time": "2022-09-28T11:00:57.207Z"
   },
   {
    "duration": 0,
    "start_time": "2022-09-28T11:00:57.208Z"
   },
   {
    "duration": 0,
    "start_time": "2022-09-28T11:00:57.209Z"
   },
   {
    "duration": 1,
    "start_time": "2022-09-28T11:00:57.210Z"
   },
   {
    "duration": 0,
    "start_time": "2022-09-28T11:00:57.211Z"
   },
   {
    "duration": 0,
    "start_time": "2022-09-28T11:00:57.213Z"
   },
   {
    "duration": 0,
    "start_time": "2022-09-28T11:00:57.214Z"
   },
   {
    "duration": 0,
    "start_time": "2022-09-28T11:00:57.215Z"
   },
   {
    "duration": 0,
    "start_time": "2022-09-28T11:00:57.216Z"
   },
   {
    "duration": 0,
    "start_time": "2022-09-28T11:00:57.218Z"
   },
   {
    "duration": 0,
    "start_time": "2022-09-28T11:00:57.219Z"
   },
   {
    "duration": 0,
    "start_time": "2022-09-28T11:00:57.220Z"
   },
   {
    "duration": 0,
    "start_time": "2022-09-28T11:00:57.277Z"
   },
   {
    "duration": 0,
    "start_time": "2022-09-28T11:00:57.279Z"
   },
   {
    "duration": 0,
    "start_time": "2022-09-28T11:00:57.280Z"
   },
   {
    "duration": 0,
    "start_time": "2022-09-28T11:00:57.281Z"
   },
   {
    "duration": 0,
    "start_time": "2022-09-28T11:00:57.283Z"
   },
   {
    "duration": 0,
    "start_time": "2022-09-28T11:00:57.284Z"
   },
   {
    "duration": 0,
    "start_time": "2022-09-28T11:00:57.284Z"
   },
   {
    "duration": 0,
    "start_time": "2022-09-28T11:00:57.285Z"
   },
   {
    "duration": 0,
    "start_time": "2022-09-28T11:00:57.286Z"
   },
   {
    "duration": 0,
    "start_time": "2022-09-28T11:00:57.288Z"
   },
   {
    "duration": 0,
    "start_time": "2022-09-28T11:00:57.289Z"
   },
   {
    "duration": 0,
    "start_time": "2022-09-28T11:00:57.290Z"
   },
   {
    "duration": 0,
    "start_time": "2022-09-28T11:00:57.291Z"
   },
   {
    "duration": 0,
    "start_time": "2022-09-28T11:00:57.292Z"
   },
   {
    "duration": 0,
    "start_time": "2022-09-28T11:00:57.294Z"
   },
   {
    "duration": 0,
    "start_time": "2022-09-28T11:00:57.295Z"
   },
   {
    "duration": 0,
    "start_time": "2022-09-28T11:00:57.296Z"
   },
   {
    "duration": 0,
    "start_time": "2022-09-28T11:00:57.297Z"
   },
   {
    "duration": 0,
    "start_time": "2022-09-28T11:00:57.298Z"
   },
   {
    "duration": 0,
    "start_time": "2022-09-28T11:00:57.299Z"
   },
   {
    "duration": 0,
    "start_time": "2022-09-28T11:00:57.301Z"
   },
   {
    "duration": 0,
    "start_time": "2022-09-28T11:00:57.302Z"
   },
   {
    "duration": 0,
    "start_time": "2022-09-28T11:00:57.304Z"
   },
   {
    "duration": 0,
    "start_time": "2022-09-28T11:00:57.305Z"
   },
   {
    "duration": 0,
    "start_time": "2022-09-28T11:00:57.307Z"
   },
   {
    "duration": 0,
    "start_time": "2022-09-28T11:00:57.308Z"
   },
   {
    "duration": 0,
    "start_time": "2022-09-28T11:00:57.310Z"
   },
   {
    "duration": 0,
    "start_time": "2022-09-28T11:00:57.311Z"
   },
   {
    "duration": 0,
    "start_time": "2022-09-28T11:00:57.312Z"
   },
   {
    "duration": 0,
    "start_time": "2022-09-28T11:00:57.313Z"
   },
   {
    "duration": 0,
    "start_time": "2022-09-28T11:00:57.314Z"
   },
   {
    "duration": 0,
    "start_time": "2022-09-28T11:00:57.377Z"
   },
   {
    "duration": 0,
    "start_time": "2022-09-28T11:00:57.378Z"
   },
   {
    "duration": 0,
    "start_time": "2022-09-28T11:00:57.379Z"
   },
   {
    "duration": 0,
    "start_time": "2022-09-28T11:00:57.380Z"
   },
   {
    "duration": 0,
    "start_time": "2022-09-28T11:00:57.381Z"
   },
   {
    "duration": 0,
    "start_time": "2022-09-28T11:00:57.382Z"
   },
   {
    "duration": 0,
    "start_time": "2022-09-28T11:00:57.383Z"
   },
   {
    "duration": 0,
    "start_time": "2022-09-28T11:00:57.384Z"
   },
   {
    "duration": 0,
    "start_time": "2022-09-28T11:00:57.386Z"
   },
   {
    "duration": 39720,
    "start_time": "2022-09-28T11:01:48.845Z"
   },
   {
    "duration": 25613,
    "start_time": "2022-09-28T11:03:38.531Z"
   },
   {
    "duration": 10,
    "start_time": "2022-09-28T11:06:46.710Z"
   },
   {
    "duration": 66963,
    "start_time": "2022-09-28T11:07:04.684Z"
   },
   {
    "duration": 700,
    "start_time": "2022-09-28T11:09:58.235Z"
   },
   {
    "duration": 40,
    "start_time": "2022-09-28T11:09:58.937Z"
   },
   {
    "duration": 16,
    "start_time": "2022-09-28T11:09:58.979Z"
   },
   {
    "duration": 21,
    "start_time": "2022-09-28T11:09:58.996Z"
   },
   {
    "duration": 9,
    "start_time": "2022-09-28T11:09:59.019Z"
   },
   {
    "duration": 1992,
    "start_time": "2022-09-28T11:09:59.029Z"
   },
   {
    "duration": 10,
    "start_time": "2022-09-28T11:10:01.022Z"
   },
   {
    "duration": 26,
    "start_time": "2022-09-28T11:10:01.034Z"
   },
   {
    "duration": 42,
    "start_time": "2022-09-28T11:10:01.062Z"
   },
   {
    "duration": 33,
    "start_time": "2022-09-28T11:10:01.105Z"
   },
   {
    "duration": 39,
    "start_time": "2022-09-28T11:10:01.140Z"
   },
   {
    "duration": 52,
    "start_time": "2022-09-28T11:10:01.181Z"
   },
   {
    "duration": 16,
    "start_time": "2022-09-28T11:10:01.235Z"
   },
   {
    "duration": 37,
    "start_time": "2022-09-28T11:10:01.254Z"
   },
   {
    "duration": 3761,
    "start_time": "2022-09-28T11:10:01.293Z"
   },
   {
    "duration": 10,
    "start_time": "2022-09-28T11:10:05.056Z"
   },
   {
    "duration": 24,
    "start_time": "2022-09-28T11:10:05.068Z"
   },
   {
    "duration": 8,
    "start_time": "2022-09-28T11:10:05.094Z"
   },
   {
    "duration": 19,
    "start_time": "2022-09-28T11:10:05.103Z"
   },
   {
    "duration": 16,
    "start_time": "2022-09-28T11:10:05.124Z"
   },
   {
    "duration": 52,
    "start_time": "2022-09-28T11:10:05.142Z"
   },
   {
    "duration": 583,
    "start_time": "2022-09-28T11:10:05.196Z"
   },
   {
    "duration": 40,
    "start_time": "2022-09-28T11:10:05.780Z"
   },
   {
    "duration": 270,
    "start_time": "2022-09-28T11:10:05.822Z"
   },
   {
    "duration": 16,
    "start_time": "2022-09-28T11:10:06.094Z"
   },
   {
    "duration": 563,
    "start_time": "2022-09-28T11:10:06.111Z"
   },
   {
    "duration": 96,
    "start_time": "2022-09-28T11:10:06.676Z"
   },
   {
    "duration": 11,
    "start_time": "2022-09-28T11:10:06.774Z"
   },
   {
    "duration": 327,
    "start_time": "2022-09-28T11:10:06.787Z"
   },
   {
    "duration": 262,
    "start_time": "2022-09-28T11:10:07.116Z"
   },
   {
    "duration": 222,
    "start_time": "2022-09-28T11:10:07.380Z"
   },
   {
    "duration": 4,
    "start_time": "2022-09-28T11:10:07.604Z"
   },
   {
    "duration": 68405,
    "start_time": "2022-09-28T11:10:07.609Z"
   },
   {
    "duration": 8,
    "start_time": "2022-09-28T11:11:16.016Z"
   },
   {
    "duration": 94,
    "start_time": "2022-09-28T11:11:16.027Z"
   },
   {
    "duration": 246,
    "start_time": "2022-09-28T11:11:16.122Z"
   },
   {
    "duration": 15,
    "start_time": "2022-09-28T11:11:16.370Z"
   },
   {
    "duration": 275,
    "start_time": "2022-09-28T11:11:16.386Z"
   },
   {
    "duration": 19,
    "start_time": "2022-09-28T11:11:16.662Z"
   },
   {
    "duration": 42,
    "start_time": "2022-09-28T11:11:16.682Z"
   },
   {
    "duration": 9,
    "start_time": "2022-09-28T11:11:16.730Z"
   },
   {
    "duration": 331,
    "start_time": "2022-09-28T11:11:16.741Z"
   },
   {
    "duration": 6032,
    "start_time": "2022-09-28T11:11:17.076Z"
   },
   {
    "duration": 269,
    "start_time": "2022-09-28T11:11:23.109Z"
   },
   {
    "duration": 13,
    "start_time": "2022-09-28T11:11:23.380Z"
   },
   {
    "duration": 292,
    "start_time": "2022-09-28T11:11:23.395Z"
   },
   {
    "duration": 12,
    "start_time": "2022-09-28T11:11:23.688Z"
   },
   {
    "duration": 7,
    "start_time": "2022-09-28T11:11:23.701Z"
   },
   {
    "duration": 5,
    "start_time": "2022-09-28T11:11:23.709Z"
   },
   {
    "duration": 162,
    "start_time": "2022-09-28T11:11:23.715Z"
   },
   {
    "duration": 83,
    "start_time": "2022-09-28T11:11:23.879Z"
   },
   {
    "duration": 14,
    "start_time": "2022-09-28T11:11:23.964Z"
   },
   {
    "duration": 309,
    "start_time": "2022-09-28T11:11:23.980Z"
   },
   {
    "duration": 5,
    "start_time": "2022-09-28T11:11:24.290Z"
   },
   {
    "duration": 548,
    "start_time": "2022-09-28T11:11:24.296Z"
   },
   {
    "duration": 728,
    "start_time": "2022-09-28T11:11:24.846Z"
   },
   {
    "duration": 386,
    "start_time": "2022-09-28T11:11:25.577Z"
   },
   {
    "duration": 5,
    "start_time": "2022-09-28T11:11:25.964Z"
   },
   {
    "duration": 278,
    "start_time": "2022-09-28T11:11:25.977Z"
   },
   {
    "duration": 292,
    "start_time": "2022-09-28T11:11:26.257Z"
   },
   {
    "duration": 295,
    "start_time": "2022-09-28T11:11:26.551Z"
   },
   {
    "duration": 461,
    "start_time": "2022-09-28T11:11:26.847Z"
   },
   {
    "duration": 334,
    "start_time": "2022-09-28T11:11:27.310Z"
   },
   {
    "duration": 354,
    "start_time": "2022-09-28T11:11:27.645Z"
   },
   {
    "duration": 16,
    "start_time": "2022-09-28T11:11:28.001Z"
   },
   {
    "duration": 187,
    "start_time": "2022-09-28T11:11:28.019Z"
   },
   {
    "duration": 318,
    "start_time": "2022-09-28T11:11:28.208Z"
   },
   {
    "duration": 612,
    "start_time": "2022-09-28T11:11:28.528Z"
   },
   {
    "duration": 548,
    "start_time": "2022-09-28T11:11:29.142Z"
   },
   {
    "duration": 346,
    "start_time": "2022-09-28T11:11:29.692Z"
   },
   {
    "duration": 361,
    "start_time": "2022-09-28T11:11:30.040Z"
   },
   {
    "duration": 499,
    "start_time": "2022-09-28T11:11:30.403Z"
   },
   {
    "duration": 462,
    "start_time": "2022-09-28T11:11:30.904Z"
   },
   {
    "duration": 624,
    "start_time": "2022-09-28T11:11:31.368Z"
   },
   {
    "duration": 11,
    "start_time": "2022-09-28T11:11:31.993Z"
   },
   {
    "duration": 70,
    "start_time": "2022-09-28T11:11:32.006Z"
   },
   {
    "duration": 49,
    "start_time": "2022-09-28T11:11:32.078Z"
   },
   {
    "duration": 2698,
    "start_time": "2022-09-28T11:11:32.128Z"
   },
   {
    "duration": 200,
    "start_time": "2022-09-28T11:11:34.827Z"
   },
   {
    "duration": 227,
    "start_time": "2022-09-28T11:11:35.029Z"
   },
   {
    "duration": 428,
    "start_time": "2022-09-28T11:11:35.258Z"
   },
   {
    "duration": 384,
    "start_time": "2022-09-28T11:11:35.688Z"
   },
   {
    "duration": 350,
    "start_time": "2022-09-28T11:11:36.074Z"
   },
   {
    "duration": 395,
    "start_time": "2022-09-28T11:11:36.425Z"
   },
   {
    "duration": 421,
    "start_time": "2022-09-28T11:11:36.822Z"
   },
   {
    "duration": 270,
    "start_time": "2022-09-28T11:11:37.245Z"
   },
   {
    "duration": 238,
    "start_time": "2022-09-28T11:11:37.517Z"
   },
   {
    "duration": 222,
    "start_time": "2022-09-28T11:11:37.758Z"
   },
   {
    "duration": 274,
    "start_time": "2022-09-28T11:11:37.982Z"
   },
   {
    "duration": 296,
    "start_time": "2022-09-28T11:11:38.257Z"
   },
   {
    "duration": 286,
    "start_time": "2022-09-28T11:11:38.556Z"
   },
   {
    "duration": 176,
    "start_time": "2022-09-28T11:11:38.844Z"
   },
   {
    "duration": 183,
    "start_time": "2022-09-28T11:11:39.022Z"
   },
   {
    "duration": 304,
    "start_time": "2022-09-28T11:11:39.206Z"
   },
   {
    "duration": 243,
    "start_time": "2022-09-28T11:11:39.513Z"
   },
   {
    "duration": 276,
    "start_time": "2022-09-28T11:11:39.759Z"
   },
   {
    "duration": 247,
    "start_time": "2022-09-28T11:11:40.036Z"
   },
   {
    "duration": 282,
    "start_time": "2022-09-28T11:11:40.284Z"
   },
   {
    "duration": 222,
    "start_time": "2022-09-28T11:11:40.568Z"
   },
   {
    "duration": 256,
    "start_time": "2022-09-28T11:11:40.791Z"
   },
   {
    "duration": 211,
    "start_time": "2022-09-28T11:11:41.049Z"
   },
   {
    "duration": 243,
    "start_time": "2022-09-28T11:11:41.262Z"
   },
   {
    "duration": 38,
    "start_time": "2022-09-28T11:11:41.507Z"
   },
   {
    "duration": 225,
    "start_time": "2022-09-28T11:11:41.547Z"
   },
   {
    "duration": 73,
    "start_time": "2022-09-28T11:16:13.182Z"
   },
   {
    "duration": 7,
    "start_time": "2022-09-28T11:17:29.553Z"
   },
   {
    "duration": 9,
    "start_time": "2022-09-28T11:17:58.012Z"
   },
   {
    "duration": 7,
    "start_time": "2022-09-28T11:19:36.059Z"
   },
   {
    "duration": 49,
    "start_time": "2022-09-28T19:41:54.920Z"
   },
   {
    "duration": 1230,
    "start_time": "2022-09-28T19:42:00.318Z"
   },
   {
    "duration": 31,
    "start_time": "2022-09-28T19:42:01.551Z"
   },
   {
    "duration": 64,
    "start_time": "2022-09-28T19:42:01.584Z"
   },
   {
    "duration": 64,
    "start_time": "2022-09-28T19:42:01.651Z"
   },
   {
    "duration": 38,
    "start_time": "2022-09-28T19:42:01.718Z"
   },
   {
    "duration": 2221,
    "start_time": "2022-09-28T19:42:01.758Z"
   },
   {
    "duration": 11,
    "start_time": "2022-09-28T19:42:04.020Z"
   },
   {
    "duration": 11,
    "start_time": "2022-09-28T19:42:04.033Z"
   },
   {
    "duration": 5,
    "start_time": "2022-09-28T19:42:04.046Z"
   },
   {
    "duration": 9,
    "start_time": "2022-09-28T19:42:04.054Z"
   },
   {
    "duration": 6,
    "start_time": "2022-09-28T19:42:04.064Z"
   },
   {
    "duration": 18,
    "start_time": "2022-09-28T19:42:04.122Z"
   },
   {
    "duration": 16,
    "start_time": "2022-09-28T19:42:04.142Z"
   },
   {
    "duration": 67,
    "start_time": "2022-09-28T19:42:04.160Z"
   },
   {
    "duration": 3560,
    "start_time": "2022-09-28T19:42:04.228Z"
   },
   {
    "duration": 4,
    "start_time": "2022-09-28T19:42:07.790Z"
   },
   {
    "duration": 29,
    "start_time": "2022-09-28T19:42:07.796Z"
   },
   {
    "duration": 8,
    "start_time": "2022-09-28T19:42:07.827Z"
   },
   {
    "duration": 26,
    "start_time": "2022-09-28T19:42:07.837Z"
   },
   {
    "duration": 20,
    "start_time": "2022-09-28T19:42:07.865Z"
   },
   {
    "duration": 48,
    "start_time": "2022-09-28T19:42:07.887Z"
   },
   {
    "duration": 559,
    "start_time": "2022-09-28T19:42:07.937Z"
   },
   {
    "duration": 48,
    "start_time": "2022-09-28T19:42:08.497Z"
   },
   {
    "duration": 262,
    "start_time": "2022-09-28T19:42:08.547Z"
   },
   {
    "duration": 14,
    "start_time": "2022-09-28T19:42:08.820Z"
   },
   {
    "duration": 642,
    "start_time": "2022-09-28T19:42:08.836Z"
   },
   {
    "duration": 97,
    "start_time": "2022-09-28T19:42:09.480Z"
   },
   {
    "duration": 11,
    "start_time": "2022-09-28T19:42:09.582Z"
   },
   {
    "duration": 315,
    "start_time": "2022-09-28T19:42:09.595Z"
   },
   {
    "duration": 268,
    "start_time": "2022-09-28T19:42:09.912Z"
   },
   {
    "duration": 236,
    "start_time": "2022-09-28T19:42:10.182Z"
   },
   {
    "duration": 4,
    "start_time": "2022-09-28T19:42:10.420Z"
   },
   {
    "duration": 24,
    "start_time": "2022-09-28T19:42:10.426Z"
   },
   {
    "duration": 71320,
    "start_time": "2022-09-28T19:42:10.452Z"
   },
   {
    "duration": 9,
    "start_time": "2022-09-28T19:43:21.774Z"
   },
   {
    "duration": 98,
    "start_time": "2022-09-28T19:43:21.785Z"
   },
   {
    "duration": 282,
    "start_time": "2022-09-28T19:43:21.885Z"
   },
   {
    "duration": 10,
    "start_time": "2022-09-28T19:43:22.169Z"
   },
   {
    "duration": 288,
    "start_time": "2022-09-28T19:43:22.181Z"
   },
   {
    "duration": 10,
    "start_time": "2022-09-28T19:43:22.471Z"
   },
   {
    "duration": 53,
    "start_time": "2022-09-28T19:43:22.482Z"
   },
   {
    "duration": 10,
    "start_time": "2022-09-28T19:43:22.537Z"
   },
   {
    "duration": 329,
    "start_time": "2022-09-28T19:43:22.549Z"
   },
   {
    "duration": 7191,
    "start_time": "2022-09-28T19:43:22.880Z"
   },
   {
    "duration": 310,
    "start_time": "2022-09-28T19:43:30.073Z"
   },
   {
    "duration": 16,
    "start_time": "2022-09-28T19:43:30.385Z"
   },
   {
    "duration": 330,
    "start_time": "2022-09-28T19:43:30.403Z"
   },
   {
    "duration": 11,
    "start_time": "2022-09-28T19:43:30.735Z"
   },
   {
    "duration": 44,
    "start_time": "2022-09-28T19:43:30.748Z"
   },
   {
    "duration": 46,
    "start_time": "2022-09-28T19:43:30.793Z"
   },
   {
    "duration": 183,
    "start_time": "2022-09-28T19:43:30.841Z"
   },
   {
    "duration": 89,
    "start_time": "2022-09-28T19:43:31.026Z"
   },
   {
    "duration": 6,
    "start_time": "2022-09-28T19:43:31.116Z"
   },
   {
    "duration": 335,
    "start_time": "2022-09-28T19:43:31.123Z"
   },
   {
    "duration": 4,
    "start_time": "2022-09-28T19:43:31.460Z"
   },
   {
    "duration": 609,
    "start_time": "2022-09-28T19:43:31.465Z"
   },
   {
    "duration": 662,
    "start_time": "2022-09-28T19:43:32.076Z"
   },
   {
    "duration": 415,
    "start_time": "2022-09-28T19:43:32.740Z"
   },
   {
    "duration": 5,
    "start_time": "2022-09-28T19:43:33.157Z"
   },
   {
    "duration": 278,
    "start_time": "2022-09-28T19:43:33.163Z"
   },
   {
    "duration": 277,
    "start_time": "2022-09-28T19:43:33.443Z"
   },
   {
    "duration": 299,
    "start_time": "2022-09-28T19:43:33.722Z"
   },
   {
    "duration": 492,
    "start_time": "2022-09-28T19:43:34.023Z"
   },
   {
    "duration": 369,
    "start_time": "2022-09-28T19:43:34.516Z"
   },
   {
    "duration": 371,
    "start_time": "2022-09-28T19:43:34.887Z"
   },
   {
    "duration": 14,
    "start_time": "2022-09-28T19:43:35.260Z"
   },
   {
    "duration": 184,
    "start_time": "2022-09-28T19:43:35.276Z"
   },
   {
    "duration": 348,
    "start_time": "2022-09-28T19:43:35.462Z"
   },
   {
    "duration": 660,
    "start_time": "2022-09-28T19:43:35.813Z"
   },
   {
    "duration": 562,
    "start_time": "2022-09-28T19:43:36.475Z"
   },
   {
    "duration": 379,
    "start_time": "2022-09-28T19:43:37.039Z"
   },
   {
    "duration": 354,
    "start_time": "2022-09-28T19:43:37.420Z"
   },
   {
    "duration": 550,
    "start_time": "2022-09-28T19:43:37.776Z"
   },
   {
    "duration": 488,
    "start_time": "2022-09-28T19:43:38.328Z"
   },
   {
    "duration": 757,
    "start_time": "2022-09-28T19:43:38.821Z"
   },
   {
    "duration": 11,
    "start_time": "2022-09-28T19:43:39.580Z"
   },
   {
    "duration": 46,
    "start_time": "2022-09-28T19:43:39.592Z"
   },
   {
    "duration": 27,
    "start_time": "2022-09-28T19:43:39.640Z"
   },
   {
    "duration": 3024,
    "start_time": "2022-09-28T19:43:39.669Z"
   },
   {
    "duration": 227,
    "start_time": "2022-09-28T19:43:42.695Z"
   },
   {
    "duration": 229,
    "start_time": "2022-09-28T19:43:42.924Z"
   },
   {
    "duration": 382,
    "start_time": "2022-09-28T19:43:43.159Z"
   },
   {
    "duration": 380,
    "start_time": "2022-09-28T19:43:43.543Z"
   },
   {
    "duration": 385,
    "start_time": "2022-09-28T19:43:43.925Z"
   },
   {
    "duration": 396,
    "start_time": "2022-09-28T19:43:44.312Z"
   },
   {
    "duration": 374,
    "start_time": "2022-09-28T19:43:44.710Z"
   },
   {
    "duration": 240,
    "start_time": "2022-09-28T19:43:45.086Z"
   },
   {
    "duration": 234,
    "start_time": "2022-09-28T19:43:45.328Z"
   },
   {
    "duration": 219,
    "start_time": "2022-09-28T19:43:45.564Z"
   },
   {
    "duration": 272,
    "start_time": "2022-09-28T19:43:45.785Z"
   },
   {
    "duration": 292,
    "start_time": "2022-09-28T19:43:46.059Z"
   },
   {
    "duration": 255,
    "start_time": "2022-09-28T19:43:46.353Z"
   },
   {
    "duration": 13,
    "start_time": "2022-09-28T19:43:46.610Z"
   },
   {
    "duration": 47,
    "start_time": "2022-09-28T19:43:46.624Z"
   },
   {
    "duration": 0,
    "start_time": "2022-09-28T19:43:46.673Z"
   },
   {
    "duration": 0,
    "start_time": "2022-09-28T19:43:46.674Z"
   },
   {
    "duration": 0,
    "start_time": "2022-09-28T19:43:46.675Z"
   },
   {
    "duration": 0,
    "start_time": "2022-09-28T19:43:46.677Z"
   },
   {
    "duration": 0,
    "start_time": "2022-09-28T19:43:46.678Z"
   },
   {
    "duration": 0,
    "start_time": "2022-09-28T19:43:46.680Z"
   },
   {
    "duration": 0,
    "start_time": "2022-09-28T19:43:46.681Z"
   },
   {
    "duration": 0,
    "start_time": "2022-09-28T19:43:46.683Z"
   },
   {
    "duration": 0,
    "start_time": "2022-09-28T19:43:46.685Z"
   },
   {
    "duration": 0,
    "start_time": "2022-09-28T19:43:46.686Z"
   },
   {
    "duration": 0,
    "start_time": "2022-09-28T19:43:46.688Z"
   },
   {
    "duration": 0,
    "start_time": "2022-09-28T19:43:46.689Z"
   },
   {
    "duration": 0,
    "start_time": "2022-09-28T19:43:46.691Z"
   },
   {
    "duration": 810,
    "start_time": "2022-09-28T19:45:14.577Z"
   },
   {
    "duration": 34,
    "start_time": "2022-09-28T19:45:15.389Z"
   },
   {
    "duration": 17,
    "start_time": "2022-09-28T19:45:15.424Z"
   },
   {
    "duration": 24,
    "start_time": "2022-09-28T19:45:15.443Z"
   },
   {
    "duration": 8,
    "start_time": "2022-09-28T19:45:15.469Z"
   },
   {
    "duration": 2292,
    "start_time": "2022-09-28T19:45:15.479Z"
   },
   {
    "duration": 14,
    "start_time": "2022-09-28T19:45:17.773Z"
   },
   {
    "duration": 14,
    "start_time": "2022-09-28T19:45:17.789Z"
   },
   {
    "duration": 18,
    "start_time": "2022-09-28T19:45:17.805Z"
   },
   {
    "duration": 10,
    "start_time": "2022-09-28T19:45:17.827Z"
   },
   {
    "duration": 14,
    "start_time": "2022-09-28T19:45:17.840Z"
   },
   {
    "duration": 32,
    "start_time": "2022-09-28T19:45:17.857Z"
   },
   {
    "duration": 30,
    "start_time": "2022-09-28T19:45:17.891Z"
   },
   {
    "duration": 17,
    "start_time": "2022-09-28T19:45:17.923Z"
   },
   {
    "duration": 3813,
    "start_time": "2022-09-28T19:45:17.942Z"
   },
   {
    "duration": 6,
    "start_time": "2022-09-28T19:45:21.756Z"
   },
   {
    "duration": 18,
    "start_time": "2022-09-28T19:45:21.764Z"
   },
   {
    "duration": 7,
    "start_time": "2022-09-28T19:45:21.784Z"
   },
   {
    "duration": 40,
    "start_time": "2022-09-28T19:45:21.793Z"
   },
   {
    "duration": 18,
    "start_time": "2022-09-28T19:45:21.835Z"
   },
   {
    "duration": 29,
    "start_time": "2022-09-28T19:45:21.855Z"
   },
   {
    "duration": 583,
    "start_time": "2022-09-28T19:45:21.886Z"
   },
   {
    "duration": 51,
    "start_time": "2022-09-28T19:45:22.471Z"
   },
   {
    "duration": 305,
    "start_time": "2022-09-28T19:45:22.524Z"
   },
   {
    "duration": 16,
    "start_time": "2022-09-28T19:45:22.831Z"
   },
   {
    "duration": 598,
    "start_time": "2022-09-28T19:45:22.849Z"
   },
   {
    "duration": 98,
    "start_time": "2022-09-28T19:45:23.449Z"
   },
   {
    "duration": 12,
    "start_time": "2022-09-28T19:45:23.553Z"
   },
   {
    "duration": 336,
    "start_time": "2022-09-28T19:45:23.567Z"
   },
   {
    "duration": 288,
    "start_time": "2022-09-28T19:45:23.904Z"
   },
   {
    "duration": 270,
    "start_time": "2022-09-28T19:45:24.195Z"
   },
   {
    "duration": 3,
    "start_time": "2022-09-28T19:45:24.467Z"
   },
   {
    "duration": 72269,
    "start_time": "2022-09-28T19:45:24.472Z"
   },
   {
    "duration": 9,
    "start_time": "2022-09-28T19:46:36.743Z"
   },
   {
    "duration": 91,
    "start_time": "2022-09-28T19:46:36.754Z"
   },
   {
    "duration": 269,
    "start_time": "2022-09-28T19:46:36.847Z"
   },
   {
    "duration": 12,
    "start_time": "2022-09-28T19:46:37.121Z"
   },
   {
    "duration": 295,
    "start_time": "2022-09-28T19:46:37.135Z"
   },
   {
    "duration": 12,
    "start_time": "2022-09-28T19:46:37.432Z"
   },
   {
    "duration": 40,
    "start_time": "2022-09-28T19:46:37.446Z"
   },
   {
    "duration": 36,
    "start_time": "2022-09-28T19:46:37.488Z"
   },
   {
    "duration": 330,
    "start_time": "2022-09-28T19:46:37.527Z"
   },
   {
    "duration": 6840,
    "start_time": "2022-09-28T19:46:37.859Z"
   },
   {
    "duration": 308,
    "start_time": "2022-09-28T19:46:44.701Z"
   },
   {
    "duration": 20,
    "start_time": "2022-09-28T19:46:45.011Z"
   },
   {
    "duration": 323,
    "start_time": "2022-09-28T19:46:45.033Z"
   },
   {
    "duration": 12,
    "start_time": "2022-09-28T19:46:45.358Z"
   },
   {
    "duration": 7,
    "start_time": "2022-09-28T19:46:45.372Z"
   },
   {
    "duration": 39,
    "start_time": "2022-09-28T19:46:45.381Z"
   },
   {
    "duration": 4,
    "start_time": "2022-09-28T19:46:45.422Z"
   },
   {
    "duration": 172,
    "start_time": "2022-09-28T19:46:45.428Z"
   },
   {
    "duration": 77,
    "start_time": "2022-09-28T19:46:45.602Z"
   },
   {
    "duration": 6,
    "start_time": "2022-09-28T19:46:45.681Z"
   },
   {
    "duration": 350,
    "start_time": "2022-09-28T19:46:45.688Z"
   },
   {
    "duration": 5,
    "start_time": "2022-09-28T19:46:46.040Z"
   },
   {
    "duration": 595,
    "start_time": "2022-09-28T19:46:46.046Z"
   },
   {
    "duration": 649,
    "start_time": "2022-09-28T19:46:46.643Z"
   },
   {
    "duration": 442,
    "start_time": "2022-09-28T19:46:47.294Z"
   },
   {
    "duration": 5,
    "start_time": "2022-09-28T19:46:47.739Z"
   },
   {
    "duration": 283,
    "start_time": "2022-09-28T19:46:47.746Z"
   },
   {
    "duration": 274,
    "start_time": "2022-09-28T19:46:48.031Z"
   },
   {
    "duration": 300,
    "start_time": "2022-09-28T19:46:48.307Z"
   },
   {
    "duration": 526,
    "start_time": "2022-09-28T19:46:48.609Z"
   },
   {
    "duration": 366,
    "start_time": "2022-09-28T19:46:49.137Z"
   },
   {
    "duration": 390,
    "start_time": "2022-09-28T19:46:49.505Z"
   },
   {
    "duration": 25,
    "start_time": "2022-09-28T19:46:49.896Z"
   },
   {
    "duration": 183,
    "start_time": "2022-09-28T19:46:49.924Z"
   },
   {
    "duration": 331,
    "start_time": "2022-09-28T19:46:50.109Z"
   },
   {
    "duration": 644,
    "start_time": "2022-09-28T19:46:50.441Z"
   },
   {
    "duration": 566,
    "start_time": "2022-09-28T19:46:51.088Z"
   },
   {
    "duration": 386,
    "start_time": "2022-09-28T19:46:51.656Z"
   },
   {
    "duration": 366,
    "start_time": "2022-09-28T19:46:52.044Z"
   },
   {
    "duration": 563,
    "start_time": "2022-09-28T19:46:52.411Z"
   },
   {
    "duration": 471,
    "start_time": "2022-09-28T19:46:52.976Z"
   },
   {
    "duration": 652,
    "start_time": "2022-09-28T19:46:53.449Z"
   },
   {
    "duration": 22,
    "start_time": "2022-09-28T19:46:54.103Z"
   },
   {
    "duration": 32,
    "start_time": "2022-09-28T19:46:54.127Z"
   },
   {
    "duration": 27,
    "start_time": "2022-09-28T19:46:54.161Z"
   },
   {
    "duration": 2914,
    "start_time": "2022-09-28T19:46:54.190Z"
   },
   {
    "duration": 219,
    "start_time": "2022-09-28T19:46:57.106Z"
   },
   {
    "duration": 220,
    "start_time": "2022-09-28T19:46:57.327Z"
   },
   {
    "duration": 381,
    "start_time": "2022-09-28T19:46:57.553Z"
   },
   {
    "duration": 361,
    "start_time": "2022-09-28T19:46:57.935Z"
   },
   {
    "duration": 364,
    "start_time": "2022-09-28T19:46:58.297Z"
   },
   {
    "duration": 399,
    "start_time": "2022-09-28T19:46:58.663Z"
   },
   {
    "duration": 394,
    "start_time": "2022-09-28T19:46:59.065Z"
   },
   {
    "duration": 226,
    "start_time": "2022-09-28T19:46:59.461Z"
   },
   {
    "duration": 235,
    "start_time": "2022-09-28T19:46:59.690Z"
   },
   {
    "duration": 216,
    "start_time": "2022-09-28T19:46:59.927Z"
   },
   {
    "duration": 261,
    "start_time": "2022-09-28T19:47:00.144Z"
   },
   {
    "duration": 278,
    "start_time": "2022-09-28T19:47:00.407Z"
   },
   {
    "duration": 252,
    "start_time": "2022-09-28T19:47:00.686Z"
   },
   {
    "duration": 6,
    "start_time": "2022-09-28T19:47:00.940Z"
   },
   {
    "duration": 55,
    "start_time": "2022-09-28T19:47:00.948Z"
   },
   {
    "duration": 0,
    "start_time": "2022-09-28T19:47:01.004Z"
   },
   {
    "duration": 0,
    "start_time": "2022-09-28T19:47:01.006Z"
   },
   {
    "duration": 0,
    "start_time": "2022-09-28T19:47:01.007Z"
   },
   {
    "duration": 0,
    "start_time": "2022-09-28T19:47:01.009Z"
   },
   {
    "duration": 0,
    "start_time": "2022-09-28T19:47:01.010Z"
   },
   {
    "duration": 0,
    "start_time": "2022-09-28T19:47:01.012Z"
   },
   {
    "duration": 0,
    "start_time": "2022-09-28T19:47:01.013Z"
   },
   {
    "duration": 0,
    "start_time": "2022-09-28T19:47:01.014Z"
   },
   {
    "duration": 0,
    "start_time": "2022-09-28T19:47:01.016Z"
   },
   {
    "duration": 0,
    "start_time": "2022-09-28T19:47:01.017Z"
   },
   {
    "duration": 0,
    "start_time": "2022-09-28T19:47:01.018Z"
   },
   {
    "duration": 0,
    "start_time": "2022-09-28T19:47:01.019Z"
   },
   {
    "duration": 0,
    "start_time": "2022-09-28T19:47:01.021Z"
   },
   {
    "duration": 2,
    "start_time": "2022-09-28T19:58:04.681Z"
   },
   {
    "duration": 173,
    "start_time": "2022-09-28T19:58:08.049Z"
   },
   {
    "duration": 190,
    "start_time": "2022-09-28T19:58:12.497Z"
   },
   {
    "duration": 260,
    "start_time": "2022-09-28T19:59:15.609Z"
   },
   {
    "duration": 238,
    "start_time": "2022-09-28T19:59:17.696Z"
   },
   {
    "duration": 247,
    "start_time": "2022-09-28T19:59:20.410Z"
   },
   {
    "duration": 258,
    "start_time": "2022-09-28T19:59:22.783Z"
   },
   {
    "duration": 249,
    "start_time": "2022-09-28T19:59:25.434Z"
   },
   {
    "duration": 268,
    "start_time": "2022-09-28T19:59:28.295Z"
   },
   {
    "duration": 231,
    "start_time": "2022-09-28T19:59:29.848Z"
   },
   {
    "duration": 241,
    "start_time": "2022-09-28T19:59:34.224Z"
   },
   {
    "duration": 222,
    "start_time": "2022-09-28T19:59:36.120Z"
   },
   {
    "duration": 32,
    "start_time": "2022-09-28T20:01:17.567Z"
   },
   {
    "duration": 212,
    "start_time": "2022-09-28T20:01:19.679Z"
   },
   {
    "duration": 477,
    "start_time": "2022-09-28T20:04:36.070Z"
   },
   {
    "duration": 332,
    "start_time": "2022-09-28T20:04:48.453Z"
   },
   {
    "duration": 307,
    "start_time": "2022-09-28T20:05:14.070Z"
   },
   {
    "duration": 301,
    "start_time": "2022-09-28T20:06:27.462Z"
   },
   {
    "duration": 3,
    "start_time": "2022-09-28T20:06:44.556Z"
   },
   {
    "duration": 325,
    "start_time": "2022-09-28T20:06:46.988Z"
   },
   {
    "duration": 299,
    "start_time": "2022-09-28T20:06:54.956Z"
   },
   {
    "duration": 392,
    "start_time": "2022-09-28T20:07:30.884Z"
   },
   {
    "duration": 832,
    "start_time": "2022-09-28T20:07:38.724Z"
   },
   {
    "duration": 30,
    "start_time": "2022-09-28T20:07:39.558Z"
   },
   {
    "duration": 15,
    "start_time": "2022-09-28T20:07:39.589Z"
   },
   {
    "duration": 24,
    "start_time": "2022-09-28T20:07:39.621Z"
   },
   {
    "duration": 10,
    "start_time": "2022-09-28T20:07:39.647Z"
   },
   {
    "duration": 2049,
    "start_time": "2022-09-28T20:07:39.659Z"
   },
   {
    "duration": 10,
    "start_time": "2022-09-28T20:07:41.710Z"
   },
   {
    "duration": 11,
    "start_time": "2022-09-28T20:07:41.722Z"
   },
   {
    "duration": 7,
    "start_time": "2022-09-28T20:07:41.735Z"
   },
   {
    "duration": 13,
    "start_time": "2022-09-28T20:07:41.744Z"
   },
   {
    "duration": 10,
    "start_time": "2022-09-28T20:07:41.759Z"
   },
   {
    "duration": 21,
    "start_time": "2022-09-28T20:07:41.771Z"
   },
   {
    "duration": 43,
    "start_time": "2022-09-28T20:07:41.794Z"
   },
   {
    "duration": 13,
    "start_time": "2022-09-28T20:07:41.838Z"
   },
   {
    "duration": 3720,
    "start_time": "2022-09-28T20:07:41.854Z"
   },
   {
    "duration": 5,
    "start_time": "2022-09-28T20:07:45.576Z"
   },
   {
    "duration": 15,
    "start_time": "2022-09-28T20:07:45.583Z"
   },
   {
    "duration": 20,
    "start_time": "2022-09-28T20:07:45.599Z"
   },
   {
    "duration": 20,
    "start_time": "2022-09-28T20:07:45.621Z"
   },
   {
    "duration": 16,
    "start_time": "2022-09-28T20:07:45.643Z"
   },
   {
    "duration": 59,
    "start_time": "2022-09-28T20:07:45.661Z"
   },
   {
    "duration": 584,
    "start_time": "2022-09-28T20:07:45.722Z"
   },
   {
    "duration": 47,
    "start_time": "2022-09-28T20:07:46.309Z"
   },
   {
    "duration": 283,
    "start_time": "2022-09-28T20:07:46.358Z"
   },
   {
    "duration": 16,
    "start_time": "2022-09-28T20:07:46.643Z"
   },
   {
    "duration": 596,
    "start_time": "2022-09-28T20:07:46.661Z"
   },
   {
    "duration": 101,
    "start_time": "2022-09-28T20:07:47.259Z"
   },
   {
    "duration": 13,
    "start_time": "2022-09-28T20:07:47.364Z"
   },
   {
    "duration": 324,
    "start_time": "2022-09-28T20:07:47.378Z"
   },
   {
    "duration": 3,
    "start_time": "2022-09-28T20:07:47.703Z"
   },
   {
    "duration": 421,
    "start_time": "2022-09-28T20:07:47.708Z"
   },
   {
    "duration": 195,
    "start_time": "2022-09-28T20:07:48.131Z"
   },
   {
    "duration": 248,
    "start_time": "2022-09-28T20:07:48.328Z"
   },
   {
    "duration": 4,
    "start_time": "2022-09-28T20:07:48.578Z"
   },
   {
    "duration": 73686,
    "start_time": "2022-09-28T20:07:48.584Z"
   },
   {
    "duration": 9,
    "start_time": "2022-09-28T20:09:02.272Z"
   },
   {
    "duration": 104,
    "start_time": "2022-09-28T20:09:02.283Z"
   },
   {
    "duration": 274,
    "start_time": "2022-09-28T20:09:02.389Z"
   },
   {
    "duration": 15,
    "start_time": "2022-09-28T20:09:02.665Z"
   },
   {
    "duration": 295,
    "start_time": "2022-09-28T20:09:02.682Z"
   },
   {
    "duration": 11,
    "start_time": "2022-09-28T20:09:02.979Z"
   },
   {
    "duration": 56,
    "start_time": "2022-09-28T20:09:02.991Z"
   },
   {
    "duration": 10,
    "start_time": "2022-09-28T20:09:03.049Z"
   },
   {
    "duration": 323,
    "start_time": "2022-09-28T20:09:03.062Z"
   },
   {
    "duration": 6964,
    "start_time": "2022-09-28T20:09:03.387Z"
   },
   {
    "duration": 375,
    "start_time": "2022-09-28T20:09:10.353Z"
   },
   {
    "duration": 16,
    "start_time": "2022-09-28T20:09:10.730Z"
   },
   {
    "duration": 336,
    "start_time": "2022-09-28T20:09:10.748Z"
   },
   {
    "duration": 12,
    "start_time": "2022-09-28T20:09:11.085Z"
   },
   {
    "duration": 26,
    "start_time": "2022-09-28T20:09:11.099Z"
   },
   {
    "duration": 4,
    "start_time": "2022-09-28T20:09:11.127Z"
   },
   {
    "duration": 89,
    "start_time": "2022-09-28T20:09:11.133Z"
   },
   {
    "duration": 76,
    "start_time": "2022-09-28T20:09:11.224Z"
   },
   {
    "duration": 5,
    "start_time": "2022-09-28T20:09:11.302Z"
   },
   {
    "duration": 364,
    "start_time": "2022-09-28T20:09:11.320Z"
   },
   {
    "duration": 4,
    "start_time": "2022-09-28T20:09:11.686Z"
   },
   {
    "duration": 668,
    "start_time": "2022-09-28T20:09:11.692Z"
   },
   {
    "duration": 599,
    "start_time": "2022-09-28T20:09:12.361Z"
   },
   {
    "duration": 421,
    "start_time": "2022-09-28T20:09:12.962Z"
   },
   {
    "duration": 5,
    "start_time": "2022-09-28T20:09:13.386Z"
   },
   {
    "duration": 280,
    "start_time": "2022-09-28T20:09:13.392Z"
   },
   {
    "duration": 394,
    "start_time": "2022-09-28T20:09:13.674Z"
   },
   {
    "duration": 279,
    "start_time": "2022-09-28T20:09:14.070Z"
   },
   {
    "duration": 362,
    "start_time": "2022-09-28T20:09:14.351Z"
   },
   {
    "duration": 361,
    "start_time": "2022-09-28T20:09:14.715Z"
   },
   {
    "duration": 396,
    "start_time": "2022-09-28T20:09:15.078Z"
   },
   {
    "duration": 15,
    "start_time": "2022-09-28T20:09:15.476Z"
   },
   {
    "duration": 199,
    "start_time": "2022-09-28T20:09:15.493Z"
   },
   {
    "duration": 462,
    "start_time": "2022-09-28T20:09:15.694Z"
   },
   {
    "duration": 624,
    "start_time": "2022-09-28T20:09:16.159Z"
   },
   {
    "duration": 619,
    "start_time": "2022-09-28T20:09:16.785Z"
   },
   {
    "duration": 429,
    "start_time": "2022-09-28T20:09:17.406Z"
   },
   {
    "duration": 522,
    "start_time": "2022-09-28T20:09:17.838Z"
   },
   {
    "duration": 459,
    "start_time": "2022-09-28T20:09:18.361Z"
   },
   {
    "duration": 579,
    "start_time": "2022-09-28T20:09:18.823Z"
   },
   {
    "duration": 705,
    "start_time": "2022-09-28T20:09:19.404Z"
   },
   {
    "duration": 17,
    "start_time": "2022-09-28T20:09:20.111Z"
   },
   {
    "duration": 34,
    "start_time": "2022-09-28T20:09:20.130Z"
   },
   {
    "duration": 155,
    "start_time": "2022-09-28T20:09:20.166Z"
   },
   {
    "duration": 2858,
    "start_time": "2022-09-28T20:09:20.323Z"
   },
   {
    "duration": 222,
    "start_time": "2022-09-28T20:09:23.183Z"
   },
   {
    "duration": 226,
    "start_time": "2022-09-28T20:09:23.411Z"
   },
   {
    "duration": 511,
    "start_time": "2022-09-28T20:09:23.639Z"
   },
   {
    "duration": 379,
    "start_time": "2022-09-28T20:09:24.152Z"
   },
   {
    "duration": 236,
    "start_time": "2022-09-28T20:09:24.533Z"
   },
   {
    "duration": 368,
    "start_time": "2022-09-28T20:09:24.771Z"
   },
   {
    "duration": 383,
    "start_time": "2022-09-28T20:09:25.141Z"
   },
   {
    "duration": 234,
    "start_time": "2022-09-28T20:09:25.526Z"
   },
   {
    "duration": 233,
    "start_time": "2022-09-28T20:09:25.762Z"
   },
   {
    "duration": 221,
    "start_time": "2022-09-28T20:09:25.997Z"
   },
   {
    "duration": 291,
    "start_time": "2022-09-28T20:09:26.220Z"
   },
   {
    "duration": 325,
    "start_time": "2022-09-28T20:09:26.513Z"
   },
   {
    "duration": 281,
    "start_time": "2022-09-28T20:09:26.840Z"
   },
   {
    "duration": 8,
    "start_time": "2022-09-28T20:09:27.123Z"
   },
   {
    "duration": 2,
    "start_time": "2022-09-28T20:09:27.134Z"
   },
   {
    "duration": 282,
    "start_time": "2022-09-28T20:09:27.138Z"
   },
   {
    "duration": 187,
    "start_time": "2022-09-28T20:09:27.422Z"
   },
   {
    "duration": 196,
    "start_time": "2022-09-28T20:09:27.611Z"
   },
   {
    "duration": 262,
    "start_time": "2022-09-28T20:09:27.809Z"
   },
   {
    "duration": 280,
    "start_time": "2022-09-28T20:09:28.073Z"
   },
   {
    "duration": 292,
    "start_time": "2022-09-28T20:09:28.355Z"
   },
   {
    "duration": 338,
    "start_time": "2022-09-28T20:09:28.649Z"
   },
   {
    "duration": 297,
    "start_time": "2022-09-28T20:09:28.989Z"
   },
   {
    "duration": 275,
    "start_time": "2022-09-28T20:09:29.288Z"
   },
   {
    "duration": 236,
    "start_time": "2022-09-28T20:09:29.565Z"
   },
   {
    "duration": 264,
    "start_time": "2022-09-28T20:09:29.803Z"
   },
   {
    "duration": 31,
    "start_time": "2022-09-28T20:09:30.069Z"
   },
   {
    "duration": 302,
    "start_time": "2022-09-28T20:09:30.102Z"
   },
   {
    "duration": 212,
    "start_time": "2022-09-28T20:53:56.184Z"
   },
   {
    "duration": 208,
    "start_time": "2022-09-28T20:54:21.534Z"
   },
   {
    "duration": 380,
    "start_time": "2022-09-28T20:54:51.013Z"
   },
   {
    "duration": 60,
    "start_time": "2022-09-28T20:58:50.444Z"
   },
   {
    "duration": 5,
    "start_time": "2022-09-28T20:59:02.684Z"
   },
   {
    "duration": 362,
    "start_time": "2022-09-28T21:00:22.963Z"
   },
   {
    "duration": 384,
    "start_time": "2022-09-28T21:00:43.330Z"
   },
   {
    "duration": 384,
    "start_time": "2022-09-28T21:01:31.369Z"
   },
   {
    "duration": 374,
    "start_time": "2022-09-28T21:03:15.833Z"
   },
   {
    "duration": 358,
    "start_time": "2022-09-28T21:03:30.537Z"
   },
   {
    "duration": 132,
    "start_time": "2022-09-28T21:06:14.999Z"
   },
   {
    "duration": 55,
    "start_time": "2022-09-28T21:06:47.966Z"
   },
   {
    "duration": 345,
    "start_time": "2022-09-28T21:07:04.087Z"
   },
   {
    "duration": 58,
    "start_time": "2022-09-28T21:07:21.094Z"
   },
   {
    "duration": 452,
    "start_time": "2022-09-28T21:07:24.422Z"
   },
   {
    "duration": 359,
    "start_time": "2022-09-28T21:08:17.293Z"
   },
   {
    "duration": 448,
    "start_time": "2022-09-28T21:09:11.381Z"
   },
   {
    "duration": 830,
    "start_time": "2022-09-28T21:09:19.878Z"
   },
   {
    "duration": 989,
    "start_time": "2022-09-28T21:09:48.046Z"
   },
   {
    "duration": 365,
    "start_time": "2022-09-28T21:09:54.181Z"
   },
   {
    "duration": 368,
    "start_time": "2022-09-28T21:10:34.772Z"
   },
   {
    "duration": 148,
    "start_time": "2022-09-28T21:10:58.835Z"
   },
   {
    "duration": 73,
    "start_time": "2022-09-28T21:11:03.780Z"
   },
   {
    "duration": 386,
    "start_time": "2022-09-28T21:11:13.507Z"
   },
   {
    "duration": 429,
    "start_time": "2022-09-28T21:11:24.396Z"
   },
   {
    "duration": 119,
    "start_time": "2022-09-28T21:11:55.004Z"
   },
   {
    "duration": 374,
    "start_time": "2022-09-28T21:12:11.083Z"
   },
   {
    "duration": 378,
    "start_time": "2022-09-28T21:12:22.795Z"
   },
   {
    "duration": 461,
    "start_time": "2022-09-28T21:12:26.338Z"
   },
   {
    "duration": 59,
    "start_time": "2022-09-28T21:13:10.203Z"
   },
   {
    "duration": 365,
    "start_time": "2022-09-28T21:13:30.203Z"
   },
   {
    "duration": 233,
    "start_time": "2022-09-28T21:13:50.330Z"
   },
   {
    "duration": 376,
    "start_time": "2022-09-28T21:14:06.882Z"
   },
   {
    "duration": 373,
    "start_time": "2022-09-28T21:15:33.697Z"
   },
   {
    "duration": 270,
    "start_time": "2022-09-28T21:15:58.432Z"
   },
   {
    "duration": 382,
    "start_time": "2022-09-28T21:16:26.544Z"
   },
   {
    "duration": 254,
    "start_time": "2022-09-28T21:16:39.178Z"
   },
   {
    "duration": 369,
    "start_time": "2022-09-28T21:16:43.089Z"
   },
   {
    "duration": 495,
    "start_time": "2022-09-28T21:19:14.120Z"
   },
   {
    "duration": 348,
    "start_time": "2022-09-28T21:19:21.111Z"
   },
   {
    "duration": 374,
    "start_time": "2022-09-28T21:19:35.806Z"
   },
   {
    "duration": 347,
    "start_time": "2022-09-28T21:19:50.366Z"
   },
   {
    "duration": 292,
    "start_time": "2022-09-28T21:20:02.606Z"
   },
   {
    "duration": 351,
    "start_time": "2022-09-28T21:20:07.062Z"
   },
   {
    "duration": 352,
    "start_time": "2022-09-28T21:20:31.046Z"
   },
   {
    "duration": 464,
    "start_time": "2022-09-28T21:20:40.782Z"
   },
   {
    "duration": 233,
    "start_time": "2022-09-28T21:21:53.087Z"
   },
   {
    "duration": 418,
    "start_time": "2022-09-28T21:21:58.694Z"
   },
   {
    "duration": 285,
    "start_time": "2022-09-28T21:22:04.394Z"
   },
   {
    "duration": 373,
    "start_time": "2022-09-28T21:25:26.348Z"
   },
   {
    "duration": 385,
    "start_time": "2022-09-28T21:27:15.250Z"
   },
   {
    "duration": 322,
    "start_time": "2022-09-28T21:28:20.921Z"
   },
   {
    "duration": 363,
    "start_time": "2022-09-28T21:28:31.121Z"
   },
   {
    "duration": 439,
    "start_time": "2022-09-28T21:29:03.105Z"
   },
   {
    "duration": 57,
    "start_time": "2022-09-28T21:29:52.240Z"
   },
   {
    "duration": 386,
    "start_time": "2022-09-28T21:30:02.135Z"
   },
   {
    "duration": 425,
    "start_time": "2022-09-28T21:30:18.592Z"
   },
   {
    "duration": 388,
    "start_time": "2022-09-28T21:30:25.504Z"
   },
   {
    "duration": 388,
    "start_time": "2022-09-28T21:30:42.496Z"
   },
   {
    "duration": 367,
    "start_time": "2022-09-28T21:31:40.422Z"
   },
   {
    "duration": 87,
    "start_time": "2022-09-28T21:32:43.423Z"
   },
   {
    "duration": 436,
    "start_time": "2022-09-28T21:33:16.823Z"
   },
   {
    "duration": 350,
    "start_time": "2022-09-28T21:33:26.518Z"
   },
   {
    "duration": 99,
    "start_time": "2022-09-28T21:34:43.581Z"
   },
   {
    "duration": 332,
    "start_time": "2022-09-28T21:34:57.381Z"
   },
   {
    "duration": 316,
    "start_time": "2022-09-28T21:35:07.093Z"
   },
   {
    "duration": 400,
    "start_time": "2022-09-28T21:36:06.077Z"
   },
   {
    "duration": 377,
    "start_time": "2022-09-28T21:36:31.277Z"
   },
   {
    "duration": 363,
    "start_time": "2022-09-28T21:36:54.051Z"
   },
   {
    "duration": 465,
    "start_time": "2022-09-28T21:37:07.996Z"
   },
   {
    "duration": 372,
    "start_time": "2022-09-28T21:41:05.905Z"
   },
   {
    "duration": 369,
    "start_time": "2022-09-28T21:41:14.107Z"
   },
   {
    "duration": 49,
    "start_time": "2022-09-29T03:33:06.799Z"
   },
   {
    "duration": 1114,
    "start_time": "2022-09-29T03:38:13.887Z"
   },
   {
    "duration": 34,
    "start_time": "2022-09-29T03:38:15.003Z"
   },
   {
    "duration": 18,
    "start_time": "2022-09-29T03:38:15.039Z"
   },
   {
    "duration": 43,
    "start_time": "2022-09-29T03:38:15.059Z"
   },
   {
    "duration": 11,
    "start_time": "2022-09-29T03:38:15.104Z"
   },
   {
    "duration": 2272,
    "start_time": "2022-09-29T03:38:15.117Z"
   },
   {
    "duration": 12,
    "start_time": "2022-09-29T03:38:17.391Z"
   },
   {
    "duration": 16,
    "start_time": "2022-09-29T03:38:17.406Z"
   },
   {
    "duration": 32,
    "start_time": "2022-09-29T03:38:17.425Z"
   },
   {
    "duration": 21,
    "start_time": "2022-09-29T03:38:17.460Z"
   },
   {
    "duration": 11,
    "start_time": "2022-09-29T03:38:17.483Z"
   },
   {
    "duration": 24,
    "start_time": "2022-09-29T03:38:17.495Z"
   },
   {
    "duration": 19,
    "start_time": "2022-09-29T03:38:17.520Z"
   },
   {
    "duration": 18,
    "start_time": "2022-09-29T03:38:17.541Z"
   },
   {
    "duration": 3889,
    "start_time": "2022-09-29T03:38:17.561Z"
   },
   {
    "duration": 8,
    "start_time": "2022-09-29T03:38:21.452Z"
   },
   {
    "duration": 32,
    "start_time": "2022-09-29T03:38:21.462Z"
   },
   {
    "duration": 9,
    "start_time": "2022-09-29T03:38:21.496Z"
   },
   {
    "duration": 25,
    "start_time": "2022-09-29T03:38:21.507Z"
   },
   {
    "duration": 19,
    "start_time": "2022-09-29T03:38:21.534Z"
   },
   {
    "duration": 62,
    "start_time": "2022-09-29T03:38:21.555Z"
   },
   {
    "duration": 638,
    "start_time": "2022-09-29T03:38:21.618Z"
   },
   {
    "duration": 73,
    "start_time": "2022-09-29T03:38:22.258Z"
   },
   {
    "duration": 293,
    "start_time": "2022-09-29T03:38:22.333Z"
   },
   {
    "duration": 16,
    "start_time": "2022-09-29T03:38:22.628Z"
   },
   {
    "duration": 608,
    "start_time": "2022-09-29T03:38:22.645Z"
   },
   {
    "duration": 110,
    "start_time": "2022-09-29T03:38:23.255Z"
   },
   {
    "duration": 18,
    "start_time": "2022-09-29T03:38:23.371Z"
   },
   {
    "duration": 455,
    "start_time": "2022-09-29T03:38:23.392Z"
   },
   {
    "duration": 245,
    "start_time": "2022-09-29T03:38:23.849Z"
   },
   {
    "duration": 280,
    "start_time": "2022-09-29T03:38:24.096Z"
   },
   {
    "duration": 12,
    "start_time": "2022-09-29T03:38:24.378Z"
   },
   {
    "duration": 76170,
    "start_time": "2022-09-29T03:38:24.392Z"
   },
   {
    "duration": 10,
    "start_time": "2022-09-29T03:39:40.564Z"
   },
   {
    "duration": 88,
    "start_time": "2022-09-29T03:39:40.576Z"
   },
   {
    "duration": 306,
    "start_time": "2022-09-29T03:39:40.667Z"
   },
   {
    "duration": 21,
    "start_time": "2022-09-29T03:39:40.975Z"
   },
   {
    "duration": 292,
    "start_time": "2022-09-29T03:39:40.998Z"
   },
   {
    "duration": 14,
    "start_time": "2022-09-29T03:39:41.292Z"
   },
   {
    "duration": 45,
    "start_time": "2022-09-29T03:39:41.308Z"
   },
   {
    "duration": 44,
    "start_time": "2022-09-29T03:39:41.355Z"
   },
   {
    "duration": 341,
    "start_time": "2022-09-29T03:39:41.401Z"
   },
   {
    "duration": 7210,
    "start_time": "2022-09-29T03:39:41.745Z"
   },
   {
    "duration": 339,
    "start_time": "2022-09-29T03:39:48.957Z"
   },
   {
    "duration": 20,
    "start_time": "2022-09-29T03:39:49.298Z"
   },
   {
    "duration": 552,
    "start_time": "2022-09-29T03:39:49.320Z"
   },
   {
    "duration": 23,
    "start_time": "2022-09-29T03:39:49.874Z"
   },
   {
    "duration": 11,
    "start_time": "2022-09-29T03:39:49.899Z"
   },
   {
    "duration": 11,
    "start_time": "2022-09-29T03:39:49.912Z"
   },
   {
    "duration": 75,
    "start_time": "2022-09-29T03:39:49.926Z"
   },
   {
    "duration": 122,
    "start_time": "2022-09-29T03:39:50.004Z"
   },
   {
    "duration": 65,
    "start_time": "2022-09-29T03:39:50.129Z"
   },
   {
    "duration": 758,
    "start_time": "2022-09-29T03:39:50.197Z"
   },
   {
    "duration": 4,
    "start_time": "2022-09-29T03:39:50.957Z"
   },
   {
    "duration": 734,
    "start_time": "2022-09-29T03:39:50.963Z"
   },
   {
    "duration": 699,
    "start_time": "2022-09-29T03:39:51.699Z"
   },
   {
    "duration": 467,
    "start_time": "2022-09-29T03:39:52.400Z"
   },
   {
    "duration": 5,
    "start_time": "2022-09-29T03:39:52.868Z"
   },
   {
    "duration": 297,
    "start_time": "2022-09-29T03:39:52.875Z"
   },
   {
    "duration": 301,
    "start_time": "2022-09-29T03:39:53.174Z"
   },
   {
    "duration": 416,
    "start_time": "2022-09-29T03:39:53.477Z"
   },
   {
    "duration": 384,
    "start_time": "2022-09-29T03:39:53.895Z"
   },
   {
    "duration": 373,
    "start_time": "2022-09-29T03:39:54.281Z"
   },
   {
    "duration": 440,
    "start_time": "2022-09-29T03:39:54.656Z"
   },
   {
    "duration": 15,
    "start_time": "2022-09-29T03:39:55.097Z"
   },
   {
    "duration": 201,
    "start_time": "2022-09-29T03:39:55.114Z"
   },
   {
    "duration": 487,
    "start_time": "2022-09-29T03:39:55.317Z"
   },
   {
    "duration": 607,
    "start_time": "2022-09-29T03:39:55.806Z"
   },
   {
    "duration": 592,
    "start_time": "2022-09-29T03:39:56.416Z"
   },
   {
    "duration": 388,
    "start_time": "2022-09-29T03:39:57.009Z"
   },
   {
    "duration": 404,
    "start_time": "2022-09-29T03:39:57.399Z"
   },
   {
    "duration": 653,
    "start_time": "2022-09-29T03:39:57.805Z"
   },
   {
    "duration": 619,
    "start_time": "2022-09-29T03:39:58.460Z"
   },
   {
    "duration": 853,
    "start_time": "2022-09-29T03:39:59.081Z"
   },
   {
    "duration": 15,
    "start_time": "2022-09-29T03:39:59.937Z"
   },
   {
    "duration": 70,
    "start_time": "2022-09-29T03:39:59.957Z"
   },
   {
    "duration": 38,
    "start_time": "2022-09-29T03:40:00.029Z"
   },
   {
    "duration": 4284,
    "start_time": "2022-09-29T03:40:00.070Z"
   },
   {
    "duration": 272,
    "start_time": "2022-09-29T03:40:04.356Z"
   },
   {
    "duration": 245,
    "start_time": "2022-09-29T03:40:04.630Z"
   },
   {
    "duration": 493,
    "start_time": "2022-09-29T03:40:04.877Z"
   },
   {
    "duration": 547,
    "start_time": "2022-09-29T03:40:05.379Z"
   },
   {
    "duration": 298,
    "start_time": "2022-09-29T03:40:05.928Z"
   },
   {
    "duration": 403,
    "start_time": "2022-09-29T03:40:06.228Z"
   },
   {
    "duration": 399,
    "start_time": "2022-09-29T03:40:06.633Z"
   },
   {
    "duration": 292,
    "start_time": "2022-09-29T03:40:07.033Z"
   },
   {
    "duration": 325,
    "start_time": "2022-09-29T03:40:07.327Z"
   },
   {
    "duration": 243,
    "start_time": "2022-09-29T03:40:07.654Z"
   },
   {
    "duration": 361,
    "start_time": "2022-09-29T03:40:07.900Z"
   },
   {
    "duration": 394,
    "start_time": "2022-09-29T03:40:08.263Z"
   },
   {
    "duration": 306,
    "start_time": "2022-09-29T03:40:08.660Z"
   },
   {
    "duration": 20,
    "start_time": "2022-09-29T03:40:08.969Z"
   },
   {
    "duration": 3,
    "start_time": "2022-09-29T03:40:08.992Z"
   },
   {
    "duration": 269,
    "start_time": "2022-09-29T03:40:08.997Z"
   },
   {
    "duration": 368,
    "start_time": "2022-09-29T03:40:09.269Z"
   },
   {
    "duration": 228,
    "start_time": "2022-09-29T03:40:09.639Z"
   },
   {
    "duration": 280,
    "start_time": "2022-09-29T03:40:09.869Z"
   },
   {
    "duration": 287,
    "start_time": "2022-09-29T03:40:10.151Z"
   },
   {
    "duration": 269,
    "start_time": "2022-09-29T03:40:10.440Z"
   },
   {
    "duration": 319,
    "start_time": "2022-09-29T03:40:10.711Z"
   },
   {
    "duration": 270,
    "start_time": "2022-09-29T03:40:11.031Z"
   },
   {
    "duration": 360,
    "start_time": "2022-09-29T03:40:11.303Z"
   },
   {
    "duration": 341,
    "start_time": "2022-09-29T03:40:11.665Z"
   },
   {
    "duration": 348,
    "start_time": "2022-09-29T03:40:12.009Z"
   },
   {
    "duration": 60,
    "start_time": "2022-09-29T03:40:12.359Z"
   },
   {
    "duration": 242,
    "start_time": "2022-09-29T03:40:12.421Z"
   },
   {
    "duration": 1710,
    "start_time": "2022-09-29T03:51:28.633Z"
   },
   {
    "duration": 279,
    "start_time": "2022-09-29T03:59:15.063Z"
   },
   {
    "duration": 346,
    "start_time": "2022-09-29T04:05:13.220Z"
   },
   {
    "duration": 366,
    "start_time": "2022-09-29T04:05:27.679Z"
   },
   {
    "duration": 281,
    "start_time": "2022-09-29T04:08:58.373Z"
   },
   {
    "duration": 465,
    "start_time": "2022-09-29T04:09:51.955Z"
   },
   {
    "duration": 298,
    "start_time": "2022-09-29T04:10:35.175Z"
   },
   {
    "duration": 622,
    "start_time": "2022-09-29T04:12:54.757Z"
   },
   {
    "duration": 632,
    "start_time": "2022-09-29T04:13:18.030Z"
   },
   {
    "duration": 579,
    "start_time": "2022-09-29T04:13:29.070Z"
   },
   {
    "duration": 280,
    "start_time": "2022-09-29T04:14:05.631Z"
   },
   {
    "duration": 306,
    "start_time": "2022-09-29T04:14:17.236Z"
   },
   {
    "duration": 275,
    "start_time": "2022-09-29T04:14:33.750Z"
   },
   {
    "duration": 320,
    "start_time": "2022-09-29T04:15:25.323Z"
   },
   {
    "duration": 297,
    "start_time": "2022-09-29T04:16:00.245Z"
   },
   {
    "duration": 502,
    "start_time": "2022-09-29T04:17:18.842Z"
   },
   {
    "duration": 419,
    "start_time": "2022-09-29T04:18:25.230Z"
   },
   {
    "duration": 336,
    "start_time": "2022-09-29T04:19:16.691Z"
   },
   {
    "duration": 340,
    "start_time": "2022-09-29T04:19:24.439Z"
   },
   {
    "duration": 681,
    "start_time": "2022-09-29T04:20:33.540Z"
   },
   {
    "duration": 570,
    "start_time": "2022-09-29T04:21:16.849Z"
   },
   {
    "duration": 418,
    "start_time": "2022-09-29T04:21:57.083Z"
   },
   {
    "duration": 376,
    "start_time": "2022-09-29T04:22:23.600Z"
   },
   {
    "duration": 567,
    "start_time": "2022-09-29T04:23:13.676Z"
   },
   {
    "duration": 450,
    "start_time": "2022-09-29T04:23:50.157Z"
   },
   {
    "duration": 700,
    "start_time": "2022-09-29T04:24:25.353Z"
   },
   {
    "duration": 790,
    "start_time": "2022-09-29T04:24:54.287Z"
   },
   {
    "duration": 398,
    "start_time": "2022-09-29T04:26:38.345Z"
   },
   {
    "duration": 78,
    "start_time": "2022-09-29T04:27:56.041Z"
   },
   {
    "duration": 445,
    "start_time": "2022-09-29T04:28:38.799Z"
   },
   {
    "duration": 27,
    "start_time": "2022-09-29T04:29:25.756Z"
   },
   {
    "duration": 37,
    "start_time": "2022-09-29T04:30:06.094Z"
   },
   {
    "duration": 19,
    "start_time": "2022-09-29T04:31:17.087Z"
   },
   {
    "duration": 20,
    "start_time": "2022-09-29T04:31:54.683Z"
   },
   {
    "duration": 386,
    "start_time": "2022-09-29T04:32:23.437Z"
   },
   {
    "duration": 406,
    "start_time": "2022-09-29T04:33:58.214Z"
   },
   {
    "duration": 399,
    "start_time": "2022-09-29T04:34:32.829Z"
   },
   {
    "duration": 430,
    "start_time": "2022-09-29T04:34:58.880Z"
   },
   {
    "duration": 425,
    "start_time": "2022-09-29T04:35:08.062Z"
   },
   {
    "duration": 383,
    "start_time": "2022-09-29T04:35:24.794Z"
   },
   {
    "duration": 79,
    "start_time": "2022-09-29T04:39:21.395Z"
   },
   {
    "duration": 79,
    "start_time": "2022-09-29T04:39:54.829Z"
   },
   {
    "duration": 50,
    "start_time": "2022-09-29T18:42:47.568Z"
   },
   {
    "duration": 7,
    "start_time": "2022-09-29T18:43:24.649Z"
   },
   {
    "duration": 4,
    "start_time": "2022-09-29T18:45:42.554Z"
   },
   {
    "duration": 3,
    "start_time": "2022-09-29T18:46:00.806Z"
   },
   {
    "duration": 7,
    "start_time": "2022-09-29T18:47:09.907Z"
   },
   {
    "duration": 4,
    "start_time": "2022-09-29T18:47:23.354Z"
   },
   {
    "duration": 9,
    "start_time": "2022-09-29T18:47:37.626Z"
   },
   {
    "duration": 6,
    "start_time": "2022-09-29T18:48:18.754Z"
   },
   {
    "duration": 7,
    "start_time": "2022-09-29T18:49:00.320Z"
   },
   {
    "duration": 810,
    "start_time": "2022-09-29T18:49:30.553Z"
   },
   {
    "duration": 116,
    "start_time": "2022-09-29T18:49:44.754Z"
   },
   {
    "duration": 127,
    "start_time": "2022-09-29T18:51:17.751Z"
   },
   {
    "duration": 10,
    "start_time": "2022-09-29T18:54:47.464Z"
   },
   {
    "duration": 127,
    "start_time": "2022-09-29T18:55:08.952Z"
   },
   {
    "duration": 114,
    "start_time": "2022-09-29T18:56:01.368Z"
   },
   {
    "duration": 112,
    "start_time": "2022-09-29T18:56:16.950Z"
   },
   {
    "duration": 151,
    "start_time": "2022-09-29T18:57:33.939Z"
   },
   {
    "duration": 129,
    "start_time": "2022-09-29T18:58:25.555Z"
   },
   {
    "duration": 106,
    "start_time": "2022-09-29T19:01:44.849Z"
   },
   {
    "duration": 119,
    "start_time": "2022-09-29T19:02:06.086Z"
   },
   {
    "duration": 109,
    "start_time": "2022-09-29T19:04:36.367Z"
   },
   {
    "duration": 169,
    "start_time": "2022-09-29T19:04:47.654Z"
   },
   {
    "duration": 110,
    "start_time": "2022-09-29T19:04:58.161Z"
   },
   {
    "duration": 117,
    "start_time": "2022-09-29T19:06:02.644Z"
   },
   {
    "duration": 105,
    "start_time": "2022-09-29T19:06:09.624Z"
   },
   {
    "duration": 103,
    "start_time": "2022-09-29T19:11:13.688Z"
   },
   {
    "duration": 107,
    "start_time": "2022-09-29T19:11:31.271Z"
   },
   {
    "duration": 49,
    "start_time": "2022-10-20T14:32:08.906Z"
   },
   {
    "duration": 1038,
    "start_time": "2022-10-20T14:32:13.149Z"
   },
   {
    "duration": 38,
    "start_time": "2022-10-20T14:32:14.190Z"
   },
   {
    "duration": 21,
    "start_time": "2022-10-20T14:32:14.229Z"
   },
   {
    "duration": 54,
    "start_time": "2022-10-20T14:32:14.253Z"
   },
   {
    "duration": 11,
    "start_time": "2022-10-20T14:32:14.310Z"
   },
   {
    "duration": 2236,
    "start_time": "2022-10-20T14:32:14.323Z"
   },
   {
    "duration": 15,
    "start_time": "2022-10-20T14:32:16.561Z"
   },
   {
    "duration": 14,
    "start_time": "2022-10-20T14:32:16.579Z"
   },
   {
    "duration": 15,
    "start_time": "2022-10-20T14:32:16.595Z"
   },
   {
    "duration": 26,
    "start_time": "2022-10-20T14:32:16.614Z"
   },
   {
    "duration": 12,
    "start_time": "2022-10-20T14:32:16.642Z"
   },
   {
    "duration": 25,
    "start_time": "2022-10-20T14:32:16.656Z"
   },
   {
    "duration": 21,
    "start_time": "2022-10-20T14:32:16.683Z"
   },
   {
    "duration": 13,
    "start_time": "2022-10-20T14:32:16.706Z"
   },
   {
    "duration": 167,
    "start_time": "2022-10-20T14:32:16.721Z"
   },
   {
    "duration": 0,
    "start_time": "2022-10-20T14:32:16.894Z"
   },
   {
    "duration": 0,
    "start_time": "2022-10-20T14:32:16.896Z"
   },
   {
    "duration": 0,
    "start_time": "2022-10-20T14:32:16.898Z"
   },
   {
    "duration": 0,
    "start_time": "2022-10-20T14:32:16.899Z"
   },
   {
    "duration": 0,
    "start_time": "2022-10-20T14:32:16.901Z"
   },
   {
    "duration": 0,
    "start_time": "2022-10-20T14:32:16.902Z"
   },
   {
    "duration": 0,
    "start_time": "2022-10-20T14:32:16.904Z"
   },
   {
    "duration": 0,
    "start_time": "2022-10-20T14:32:16.905Z"
   },
   {
    "duration": 0,
    "start_time": "2022-10-20T14:32:16.907Z"
   },
   {
    "duration": 0,
    "start_time": "2022-10-20T14:32:16.909Z"
   },
   {
    "duration": 0,
    "start_time": "2022-10-20T14:32:16.911Z"
   },
   {
    "duration": 0,
    "start_time": "2022-10-20T14:32:16.915Z"
   },
   {
    "duration": 0,
    "start_time": "2022-10-20T14:32:16.916Z"
   },
   {
    "duration": 1,
    "start_time": "2022-10-20T14:32:16.917Z"
   },
   {
    "duration": 0,
    "start_time": "2022-10-20T14:32:16.919Z"
   },
   {
    "duration": 0,
    "start_time": "2022-10-20T14:32:16.920Z"
   },
   {
    "duration": 0,
    "start_time": "2022-10-20T14:32:16.921Z"
   },
   {
    "duration": 1,
    "start_time": "2022-10-20T14:32:16.922Z"
   },
   {
    "duration": 0,
    "start_time": "2022-10-20T14:32:16.924Z"
   },
   {
    "duration": 0,
    "start_time": "2022-10-20T14:32:16.926Z"
   },
   {
    "duration": 0,
    "start_time": "2022-10-20T14:32:16.927Z"
   },
   {
    "duration": 0,
    "start_time": "2022-10-20T14:32:16.929Z"
   },
   {
    "duration": 0,
    "start_time": "2022-10-20T14:32:16.931Z"
   },
   {
    "duration": 0,
    "start_time": "2022-10-20T14:32:16.933Z"
   },
   {
    "duration": 0,
    "start_time": "2022-10-20T14:32:16.934Z"
   },
   {
    "duration": 0,
    "start_time": "2022-10-20T14:32:16.934Z"
   },
   {
    "duration": 0,
    "start_time": "2022-10-20T14:32:16.935Z"
   },
   {
    "duration": 0,
    "start_time": "2022-10-20T14:32:16.936Z"
   },
   {
    "duration": 0,
    "start_time": "2022-10-20T14:32:16.937Z"
   },
   {
    "duration": 0,
    "start_time": "2022-10-20T14:32:16.985Z"
   },
   {
    "duration": 0,
    "start_time": "2022-10-20T14:32:16.988Z"
   },
   {
    "duration": 0,
    "start_time": "2022-10-20T14:32:16.989Z"
   },
   {
    "duration": 0,
    "start_time": "2022-10-20T14:32:16.990Z"
   },
   {
    "duration": 0,
    "start_time": "2022-10-20T14:32:16.991Z"
   },
   {
    "duration": 0,
    "start_time": "2022-10-20T14:32:16.992Z"
   },
   {
    "duration": 0,
    "start_time": "2022-10-20T14:32:16.993Z"
   },
   {
    "duration": 0,
    "start_time": "2022-10-20T14:32:16.995Z"
   },
   {
    "duration": 0,
    "start_time": "2022-10-20T14:32:16.996Z"
   },
   {
    "duration": 0,
    "start_time": "2022-10-20T14:32:16.997Z"
   },
   {
    "duration": 0,
    "start_time": "2022-10-20T14:32:16.998Z"
   },
   {
    "duration": 0,
    "start_time": "2022-10-20T14:32:17.000Z"
   },
   {
    "duration": 0,
    "start_time": "2022-10-20T14:32:17.001Z"
   },
   {
    "duration": 0,
    "start_time": "2022-10-20T14:32:17.003Z"
   },
   {
    "duration": 0,
    "start_time": "2022-10-20T14:32:17.004Z"
   },
   {
    "duration": 0,
    "start_time": "2022-10-20T14:32:17.005Z"
   },
   {
    "duration": 0,
    "start_time": "2022-10-20T14:32:17.006Z"
   },
   {
    "duration": 0,
    "start_time": "2022-10-20T14:32:17.007Z"
   },
   {
    "duration": 0,
    "start_time": "2022-10-20T14:32:17.008Z"
   },
   {
    "duration": 0,
    "start_time": "2022-10-20T14:32:17.009Z"
   },
   {
    "duration": 0,
    "start_time": "2022-10-20T14:32:17.011Z"
   },
   {
    "duration": 0,
    "start_time": "2022-10-20T14:32:17.012Z"
   },
   {
    "duration": 0,
    "start_time": "2022-10-20T14:32:17.014Z"
   },
   {
    "duration": 0,
    "start_time": "2022-10-20T14:32:17.016Z"
   },
   {
    "duration": 0,
    "start_time": "2022-10-20T14:32:17.017Z"
   },
   {
    "duration": 0,
    "start_time": "2022-10-20T14:32:17.019Z"
   },
   {
    "duration": 0,
    "start_time": "2022-10-20T14:32:17.020Z"
   },
   {
    "duration": 0,
    "start_time": "2022-10-20T14:32:17.022Z"
   },
   {
    "duration": 0,
    "start_time": "2022-10-20T14:32:17.023Z"
   },
   {
    "duration": 0,
    "start_time": "2022-10-20T14:32:17.090Z"
   },
   {
    "duration": 0,
    "start_time": "2022-10-20T14:32:17.091Z"
   },
   {
    "duration": 0,
    "start_time": "2022-10-20T14:32:17.093Z"
   },
   {
    "duration": 0,
    "start_time": "2022-10-20T14:32:17.094Z"
   },
   {
    "duration": 0,
    "start_time": "2022-10-20T14:32:17.095Z"
   },
   {
    "duration": 0,
    "start_time": "2022-10-20T14:32:17.097Z"
   },
   {
    "duration": 0,
    "start_time": "2022-10-20T14:32:17.098Z"
   },
   {
    "duration": 0,
    "start_time": "2022-10-20T14:32:17.099Z"
   },
   {
    "duration": 0,
    "start_time": "2022-10-20T14:32:17.101Z"
   },
   {
    "duration": 0,
    "start_time": "2022-10-20T14:32:17.102Z"
   },
   {
    "duration": 0,
    "start_time": "2022-10-20T14:32:17.104Z"
   },
   {
    "duration": 0,
    "start_time": "2022-10-20T14:32:17.105Z"
   },
   {
    "duration": 0,
    "start_time": "2022-10-20T14:32:17.107Z"
   },
   {
    "duration": 0,
    "start_time": "2022-10-20T14:32:17.108Z"
   },
   {
    "duration": 0,
    "start_time": "2022-10-20T14:32:17.109Z"
   },
   {
    "duration": 0,
    "start_time": "2022-10-20T14:32:17.110Z"
   },
   {
    "duration": 0,
    "start_time": "2022-10-20T14:32:17.111Z"
   },
   {
    "duration": 0,
    "start_time": "2022-10-20T14:32:17.112Z"
   },
   {
    "duration": 1,
    "start_time": "2022-10-20T14:32:17.113Z"
   },
   {
    "duration": 0,
    "start_time": "2022-10-20T14:32:17.115Z"
   },
   {
    "duration": 0,
    "start_time": "2022-10-20T14:32:17.116Z"
   },
   {
    "duration": 0,
    "start_time": "2022-10-20T14:32:17.117Z"
   },
   {
    "duration": 0,
    "start_time": "2022-10-20T14:32:17.118Z"
   },
   {
    "duration": 0,
    "start_time": "2022-10-20T14:32:17.119Z"
   },
   {
    "duration": 0,
    "start_time": "2022-10-20T14:32:17.120Z"
   },
   {
    "duration": 0,
    "start_time": "2022-10-20T14:32:17.122Z"
   },
   {
    "duration": 0,
    "start_time": "2022-10-20T14:32:17.123Z"
   },
   {
    "duration": 0,
    "start_time": "2022-10-20T14:32:17.124Z"
   },
   {
    "duration": 0,
    "start_time": "2022-10-20T14:32:17.126Z"
   },
   {
    "duration": 0,
    "start_time": "2022-10-20T14:32:17.127Z"
   },
   {
    "duration": 0,
    "start_time": "2022-10-20T14:32:17.185Z"
   },
   {
    "duration": 0,
    "start_time": "2022-10-20T14:32:17.186Z"
   },
   {
    "duration": 0,
    "start_time": "2022-10-20T14:32:17.187Z"
   },
   {
    "duration": 0,
    "start_time": "2022-10-20T14:32:17.188Z"
   },
   {
    "duration": 0,
    "start_time": "2022-10-20T14:32:17.189Z"
   },
   {
    "duration": 433,
    "start_time": "2022-10-20T14:32:34.755Z"
   }
  ],
  "kernelspec": {
   "display_name": "Python 3 (ipykernel)",
   "language": "python",
   "name": "python3"
  },
  "language_info": {
   "codemirror_mode": {
    "name": "ipython",
    "version": 3
   },
   "file_extension": ".py",
   "mimetype": "text/x-python",
   "name": "python",
   "nbconvert_exporter": "python",
   "pygments_lexer": "ipython3",
   "version": "3.9.5"
  },
  "toc": {
   "base_numbering": 1,
   "nav_menu": {},
   "number_sections": true,
   "sideBar": true,
   "skip_h1_title": true,
   "title_cell": "Table of Contents",
   "title_sidebar": "Contents",
   "toc_cell": false,
   "toc_position": {},
   "toc_section_display": true,
   "toc_window_display": false
  }
 },
 "nbformat": 4,
 "nbformat_minor": 2
}
